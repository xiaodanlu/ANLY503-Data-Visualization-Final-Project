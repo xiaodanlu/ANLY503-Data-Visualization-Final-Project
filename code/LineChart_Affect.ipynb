{
 "cells": [
  {
   "cell_type": "code",
   "execution_count": 1,
   "metadata": {},
   "outputs": [],
   "source": [
    "import pandas as pd"
   ]
  },
  {
   "cell_type": "code",
   "execution_count": 2,
   "metadata": {},
   "outputs": [],
   "source": [
    "df = pd.read_csv(\"../data/combine_data.csv\")"
   ]
  },
  {
   "cell_type": "code",
   "execution_count": 3,
   "metadata": {},
   "outputs": [
    {
     "data": {
      "text/html": [
       "<div>\n",
       "<style scoped>\n",
       "    .dataframe tbody tr th:only-of-type {\n",
       "        vertical-align: middle;\n",
       "    }\n",
       "\n",
       "    .dataframe tbody tr th {\n",
       "        vertical-align: top;\n",
       "    }\n",
       "\n",
       "    .dataframe thead th {\n",
       "        text-align: right;\n",
       "    }\n",
       "</style>\n",
       "<table border=\"1\" class=\"dataframe\">\n",
       "  <thead>\n",
       "    <tr style=\"text-align: right;\">\n",
       "      <th></th>\n",
       "      <th>Unnamed: 0</th>\n",
       "      <th>Country</th>\n",
       "      <th>year</th>\n",
       "      <th>Happiness Score</th>\n",
       "      <th>Log GDP per capita</th>\n",
       "      <th>Social support</th>\n",
       "      <th>Health</th>\n",
       "      <th>Freedom to make life choices</th>\n",
       "      <th>Generosity</th>\n",
       "      <th>Corruption</th>\n",
       "      <th>...</th>\n",
       "      <th>Negative affect</th>\n",
       "      <th>Confidence in national government</th>\n",
       "      <th>continent</th>\n",
       "      <th>Country Code</th>\n",
       "      <th>Time Code</th>\n",
       "      <th>CO2 emissions</th>\n",
       "      <th>Population</th>\n",
       "      <th>Unemployment</th>\n",
       "      <th>Children out of school</th>\n",
       "      <th>Adjusted net national income</th>\n",
       "    </tr>\n",
       "  </thead>\n",
       "  <tbody>\n",
       "    <tr>\n",
       "      <th>0</th>\n",
       "      <td>0</td>\n",
       "      <td>Afghanistan</td>\n",
       "      <td>2008</td>\n",
       "      <td>3.723590</td>\n",
       "      <td>7.302574</td>\n",
       "      <td>0.450662</td>\n",
       "      <td>50.500000</td>\n",
       "      <td>0.718114</td>\n",
       "      <td>0.173169</td>\n",
       "      <td>0.881686</td>\n",
       "      <td>...</td>\n",
       "      <td>0.258195</td>\n",
       "      <td>0.612072</td>\n",
       "      <td>Asia</td>\n",
       "      <td>AFG</td>\n",
       "      <td>YR2008</td>\n",
       "      <td>3559.999943</td>\n",
       "      <td>26427199.0</td>\n",
       "      <td>2.49</td>\n",
       "      <td>NaN</td>\n",
       "      <td>NaN</td>\n",
       "    </tr>\n",
       "    <tr>\n",
       "      <th>1</th>\n",
       "      <td>1</td>\n",
       "      <td>Afghanistan</td>\n",
       "      <td>2009</td>\n",
       "      <td>4.401778</td>\n",
       "      <td>7.472446</td>\n",
       "      <td>0.552308</td>\n",
       "      <td>50.799999</td>\n",
       "      <td>0.678896</td>\n",
       "      <td>0.195469</td>\n",
       "      <td>0.850035</td>\n",
       "      <td>...</td>\n",
       "      <td>0.237092</td>\n",
       "      <td>0.611545</td>\n",
       "      <td>Asia</td>\n",
       "      <td>AFG</td>\n",
       "      <td>YR2009</td>\n",
       "      <td>4880.000114</td>\n",
       "      <td>27385307.0</td>\n",
       "      <td>NaN</td>\n",
       "      <td>NaN</td>\n",
       "      <td>1.129747e+10</td>\n",
       "    </tr>\n",
       "    <tr>\n",
       "      <th>2</th>\n",
       "      <td>2</td>\n",
       "      <td>Afghanistan</td>\n",
       "      <td>2010</td>\n",
       "      <td>4.758381</td>\n",
       "      <td>7.579183</td>\n",
       "      <td>0.539075</td>\n",
       "      <td>51.099998</td>\n",
       "      <td>0.600127</td>\n",
       "      <td>0.125859</td>\n",
       "      <td>0.706766</td>\n",
       "      <td>...</td>\n",
       "      <td>0.275324</td>\n",
       "      <td>0.299357</td>\n",
       "      <td>Asia</td>\n",
       "      <td>AFG</td>\n",
       "      <td>YR2010</td>\n",
       "      <td>7110.000134</td>\n",
       "      <td>28189672.0</td>\n",
       "      <td>NaN</td>\n",
       "      <td>NaN</td>\n",
       "      <td>1.448363e+10</td>\n",
       "    </tr>\n",
       "    <tr>\n",
       "      <th>3</th>\n",
       "      <td>3</td>\n",
       "      <td>Afghanistan</td>\n",
       "      <td>2011</td>\n",
       "      <td>3.831719</td>\n",
       "      <td>7.552006</td>\n",
       "      <td>0.521104</td>\n",
       "      <td>51.400002</td>\n",
       "      <td>0.495901</td>\n",
       "      <td>0.167723</td>\n",
       "      <td>0.731109</td>\n",
       "      <td>...</td>\n",
       "      <td>0.267175</td>\n",
       "      <td>0.307386</td>\n",
       "      <td>Asia</td>\n",
       "      <td>AFG</td>\n",
       "      <td>YR2011</td>\n",
       "      <td>8930.000305</td>\n",
       "      <td>29249157.0</td>\n",
       "      <td>NaN</td>\n",
       "      <td>NaN</td>\n",
       "      <td>1.626732e+10</td>\n",
       "    </tr>\n",
       "    <tr>\n",
       "      <th>4</th>\n",
       "      <td>4</td>\n",
       "      <td>Afghanistan</td>\n",
       "      <td>2012</td>\n",
       "      <td>3.782938</td>\n",
       "      <td>7.637953</td>\n",
       "      <td>0.520637</td>\n",
       "      <td>51.700001</td>\n",
       "      <td>0.530935</td>\n",
       "      <td>0.241247</td>\n",
       "      <td>0.775620</td>\n",
       "      <td>...</td>\n",
       "      <td>0.267919</td>\n",
       "      <td>0.435440</td>\n",
       "      <td>Asia</td>\n",
       "      <td>AFG</td>\n",
       "      <td>YR2012</td>\n",
       "      <td>8079.999924</td>\n",
       "      <td>30466479.0</td>\n",
       "      <td>1.69</td>\n",
       "      <td>NaN</td>\n",
       "      <td>1.822551e+10</td>\n",
       "    </tr>\n",
       "  </tbody>\n",
       "</table>\n",
       "<p>5 rows × 21 columns</p>\n",
       "</div>"
      ],
      "text/plain": [
       "   Unnamed: 0      Country  year  Happiness Score  Log GDP per capita  \\\n",
       "0           0  Afghanistan  2008         3.723590            7.302574   \n",
       "1           1  Afghanistan  2009         4.401778            7.472446   \n",
       "2           2  Afghanistan  2010         4.758381            7.579183   \n",
       "3           3  Afghanistan  2011         3.831719            7.552006   \n",
       "4           4  Afghanistan  2012         3.782938            7.637953   \n",
       "\n",
       "   Social support     Health  Freedom to make life choices  Generosity  \\\n",
       "0        0.450662  50.500000                      0.718114    0.173169   \n",
       "1        0.552308  50.799999                      0.678896    0.195469   \n",
       "2        0.539075  51.099998                      0.600127    0.125859   \n",
       "3        0.521104  51.400002                      0.495901    0.167723   \n",
       "4        0.520637  51.700001                      0.530935    0.241247   \n",
       "\n",
       "   Corruption  ...  Negative affect  Confidence in national government  \\\n",
       "0    0.881686  ...         0.258195                           0.612072   \n",
       "1    0.850035  ...         0.237092                           0.611545   \n",
       "2    0.706766  ...         0.275324                           0.299357   \n",
       "3    0.731109  ...         0.267175                           0.307386   \n",
       "4    0.775620  ...         0.267919                           0.435440   \n",
       "\n",
       "   continent Country Code Time Code CO2 emissions  Population  Unemployment  \\\n",
       "0       Asia          AFG    YR2008   3559.999943  26427199.0          2.49   \n",
       "1       Asia          AFG    YR2009   4880.000114  27385307.0           NaN   \n",
       "2       Asia          AFG    YR2010   7110.000134  28189672.0           NaN   \n",
       "3       Asia          AFG    YR2011   8930.000305  29249157.0           NaN   \n",
       "4       Asia          AFG    YR2012   8079.999924  30466479.0          1.69   \n",
       "\n",
       "   Children out of school  Adjusted net national income  \n",
       "0                     NaN                           NaN  \n",
       "1                     NaN                  1.129747e+10  \n",
       "2                     NaN                  1.448363e+10  \n",
       "3                     NaN                  1.626732e+10  \n",
       "4                     NaN                  1.822551e+10  \n",
       "\n",
       "[5 rows x 21 columns]"
      ]
     },
     "execution_count": 3,
     "metadata": {},
     "output_type": "execute_result"
    }
   ],
   "source": [
    "df.head()"
   ]
  },
  {
   "cell_type": "code",
   "execution_count": 4,
   "metadata": {},
   "outputs": [],
   "source": [
    "# Some data do not have continent value, drop these value\n",
    "df3 = pd.DataFrame({'Affect': df['Positive affect'].tolist() + df['Negative affect'].tolist(),\n",
    "        'Situation': ['Positive']*len(df['Positive affect'].tolist()) + ['Negative']*len(df['Negative affect'].tolist()),\n",
    "        'Country': df['Country'].tolist()*2,\n",
    "        'year': df['year'].tolist()*2,\n",
    "        'continent': df['continent'].tolist()*2})\n",
    "df3 = df3.dropna(subset=['continent'])"
   ]
  },
  {
   "cell_type": "code",
   "execution_count": 5,
   "metadata": {},
   "outputs": [],
   "source": [
    "# import the plotly library for data visualization\n",
    "import plotly.graph_objects as go\n",
    "import plotly.express as px\n",
    "import plotly.io as pio\n",
    "\n",
    "pio.renderers.default = \"plotly_mimetype+notebook_connected\""
   ]
  },
  {
   "cell_type": "code",
   "execution_count": 6,
   "metadata": {},
   "outputs": [
    {
     "data": {
      "text/html": [
       "        <script type=\"text/javascript\">\n",
       "        window.PlotlyConfig = {MathJaxConfig: 'local'};\n",
       "        if (window.MathJax && window.MathJax.Hub && window.MathJax.Hub.Config) {window.MathJax.Hub.Config({SVG: {font: \"STIX-Web\"}});}\n",
       "        if (typeof require !== 'undefined') {\n",
       "        require.undef(\"plotly\");\n",
       "        requirejs.config({\n",
       "            paths: {\n",
       "                'plotly': ['https://cdn.plot.ly/plotly-2.20.0.min']\n",
       "            }\n",
       "        });\n",
       "        require(['plotly'], function(Plotly) {\n",
       "            window._Plotly = Plotly;\n",
       "        });\n",
       "        }\n",
       "        </script>\n",
       "        "
      ]
     },
     "metadata": {},
     "output_type": "display_data"
    },
    {
     "data": {
      "application/vnd.plotly.v1+json": {
       "config": {
        "plotlyServerURL": "https://plot.ly"
       },
       "data": [
        {
         "hovertemplate": "Continent: Oceania<br>Year: %{x}<br>Positive Value: %{y}<extra></extra>",
         "legendgroup": "Oceania",
         "line": {
          "color": "rgb(166, 216, 84)"
         },
         "name": "Oceania",
         "opacity": 1,
         "type": "scatter",
         "visible": true,
         "x": [
          2008,
          2010,
          2011,
          2012,
          2013,
          2014,
          2015,
          2016,
          2017,
          2018,
          2019,
          2020,
          2021
         ],
         "y": [
          0.756592184305191,
          0.7722681164741516,
          0.7539153695106506,
          0.7568013966083527,
          0.7740331590175629,
          0.7734581232070923,
          0.7720058858394623,
          0.7562134563922882,
          0.7454839944839478,
          0.7455208003520966,
          0.7460094094276428,
          0.7607918381690979,
          0.7434718906879425
         ]
        },
        {
         "hovertemplate": "Continent: Oceania<br>Year: %{x}<br>Negative Value: %{y}<extra></extra>",
         "legendgroup": "Oceania",
         "line": {
          "color": "rgb(166, 216, 84)",
          "dash": "dash"
         },
         "name": "Oceania_Negative",
         "opacity": 1,
         "showlegend": false,
         "type": "scatter",
         "visible": true,
         "x": [
          2008,
          2010,
          2011,
          2012,
          2013,
          2014,
          2015,
          2016,
          2017,
          2018,
          2019,
          2020,
          2021
         ],
         "y": [
          0.2251539826393127,
          0.227415844798088,
          0.20273666083812708,
          0.21063753962516785,
          0.16426958888769144,
          0.22216158360242838,
          0.1847334802150726,
          0.22174970805644983,
          0.1985387727618217,
          0.17770390957593912,
          0.19668322056531906,
          0.20680936425924296,
          0.22074476629495615
         ]
        },
        {
         "hovertemplate": "Continent: North America<br>Year: %{x}<br>Positive Value: %{y}<extra></extra>",
         "legendgroup": "North America",
         "line": {
          "color": "rgb(231, 138, 195)"
         },
         "name": "North America",
         "opacity": 1,
         "type": "scatter",
         "visible": true,
         "x": [
          2008,
          2009,
          2010,
          2011,
          2012,
          2013,
          2014,
          2015,
          2016,
          2017,
          2018,
          2019,
          2020,
          2021
         ],
         "y": [
          0.7835961977640787,
          0.7697022954622904,
          0.7707875967025757,
          0.7466221451759338,
          0.7540213863054911,
          0.775445560614268,
          0.7787553071975708,
          0.7555082440376282,
          0.7687657674153646,
          0.7764004468917847,
          0.7817634145418803,
          0.7795777916908264,
          0.7350560426712036,
          0.7509188652038574
         ]
        },
        {
         "hovertemplate": "Continent: North America<br>Year: %{x}<br>Negative Value: %{y}<extra></extra>",
         "legendgroup": "North America",
         "line": {
          "color": "rgb(231, 138, 195)",
          "dash": "dash"
         },
         "name": "North America_Negative",
         "opacity": 1,
         "showlegend": false,
         "type": "scatter",
         "visible": true,
         "x": [
          2008,
          2009,
          2010,
          2011,
          2012,
          2013,
          2014,
          2015,
          2016,
          2017,
          2018,
          2019,
          2020,
          2021
         ],
         "y": [
          0.21005776524543754,
          0.23512180646260575,
          0.2265533904234568,
          0.24955435593922926,
          0.25569549202919006,
          0.24870913227399186,
          0.25619938969612116,
          0.26605200767517084,
          0.24039939045906067,
          0.23908036947250363,
          0.2549594243367513,
          0.26021681229273474,
          0.29790962735811866,
          0.2861781219641368
         ]
        },
        {
         "hovertemplate": "Continent: Europe<br>Year: %{x}<br>Positive Value: %{y}<extra></extra>",
         "legendgroup": "Europe",
         "line": {
          "color": "rgb(141, 160, 203)"
         },
         "name": "Europe",
         "opacity": 1,
         "type": "scatter",
         "visible": true,
         "x": [
          2008,
          2009,
          2010,
          2011,
          2012,
          2013,
          2014,
          2015,
          2016,
          2017,
          2018,
          2019,
          2020,
          2021
         ],
         "y": [
          0.6675695280234019,
          0.6159196048974991,
          0.6282610277975759,
          0.6262052718437079,
          0.6378598080741035,
          0.6420952423530466,
          0.6486540853977203,
          0.6575051521261533,
          0.6491172313690186,
          0.6434724090827836,
          0.639860645362309,
          0.6484750691387389,
          0.6680362171986524,
          0.681368601322174
         ]
        },
        {
         "hovertemplate": "Continent: Europe<br>Year: %{x}<br>Negative Value: %{y}<extra></extra>",
         "legendgroup": "Europe",
         "line": {
          "color": "rgb(141, 160, 203)",
          "dash": "dash"
         },
         "name": "Europe_Negative",
         "opacity": 1,
         "showlegend": false,
         "type": "scatter",
         "visible": true,
         "x": [
          2008,
          2009,
          2010,
          2011,
          2012,
          2013,
          2014,
          2015,
          2016,
          2017,
          2018,
          2019,
          2020,
          2021
         ],
         "y": [
          0.21774995936588804,
          0.2684075683355331,
          0.2557324702220578,
          0.2511349920973633,
          0.2571376040577888,
          0.26711363827480983,
          0.2582316875457763,
          0.24584664445784352,
          0.2453635968267917,
          0.23580224853422901,
          0.24501370191574093,
          0.23142876020736158,
          0.2628632389447268,
          0.24381582488616305
         ]
        },
        {
         "hovertemplate": "Continent: South America<br>Year: %{x}<br>Positive Value: %{y}<extra></extra>",
         "legendgroup": "South America",
         "line": {
          "color": "rgb(255, 217, 47)"
         },
         "name": "South America",
         "opacity": 1,
         "type": "scatter",
         "visible": true,
         "x": [
          2008,
          2009,
          2010,
          2011,
          2012,
          2013,
          2014,
          2015,
          2016,
          2017,
          2018,
          2019,
          2020,
          2021
         ],
         "y": [
          0.7404850651236141,
          0.7748058550059795,
          0.7549070312696344,
          0.7508879837236906,
          0.7483165197902255,
          0.7621279484347293,
          0.7692268867241708,
          0.7635851403077444,
          0.7565596401691437,
          0.7471005508774206,
          0.7587433106759015,
          0.7645614213413663,
          0.7358904401461284,
          0.7509906327023226
         ]
        },
        {
         "hovertemplate": "Continent: South America<br>Year: %{x}<br>Negative Value: %{y}<extra></extra>",
         "legendgroup": "South America",
         "line": {
          "color": "rgb(255, 217, 47)",
          "dash": "dash"
         },
         "name": "South America_Negative",
         "opacity": 1,
         "showlegend": false,
         "type": "scatter",
         "visible": true,
         "x": [
          2008,
          2009,
          2010,
          2011,
          2012,
          2013,
          2014,
          2015,
          2016,
          2017,
          2018,
          2019,
          2020,
          2021
         ],
         "y": [
          0.2765911878908382,
          0.259855480864644,
          0.25530358535401954,
          0.2758339172915408,
          0.2982461303472519,
          0.29618160034480845,
          0.29770694751488536,
          0.3117851093411445,
          0.31337160782681567,
          0.30302510214479345,
          0.3225854328450034,
          0.3143180525965161,
          0.3428197205066681,
          0.31937699195216684
         ]
        },
        {
         "hovertemplate": "Continent: Asia<br>Year: %{x}<br>Positive Value: %{y}<extra></extra>",
         "legendgroup": "Asia",
         "line": {
          "color": "rgb(252, 141, 98)"
         },
         "name": "Asia",
         "opacity": 1,
         "type": "scatter",
         "visible": true,
         "x": [
          2008,
          2009,
          2010,
          2011,
          2012,
          2013,
          2014,
          2015,
          2016,
          2017,
          2018,
          2019,
          2020,
          2021
         ],
         "y": [
          0.5966246823469797,
          0.6082653451350427,
          0.6133486743896238,
          0.5992761086672544,
          0.6116748591884971,
          0.6278395191315682,
          0.6290350761906854,
          0.6411986784501509,
          0.6205314455493804,
          0.6167048071661303,
          0.6174003958702088,
          0.624101762810061,
          0.6470351081628066,
          0.6205529533326626
         ]
        },
        {
         "hovertemplate": "Continent: Asia<br>Year: %{x}<br>Negative Value: %{y}<extra></extra>",
         "legendgroup": "Asia",
         "line": {
          "color": "rgb(252, 141, 98)",
          "dash": "dash"
         },
         "name": "Asia_Negative",
         "opacity": 1,
         "showlegend": false,
         "type": "scatter",
         "visible": true,
         "x": [
          2008,
          2009,
          2010,
          2011,
          2012,
          2013,
          2014,
          2015,
          2016,
          2017,
          2018,
          2019,
          2020,
          2021
         ],
         "y": [
          0.2491106401990961,
          0.2510617485930842,
          0.2615900169457159,
          0.24871489405632016,
          0.25108353048563,
          0.26866193206021277,
          0.2576765199502309,
          0.2785083624449643,
          0.27437023097468954,
          0.2897088330599569,
          0.2816146217286587,
          0.28123512479566753,
          0.3121507167816162,
          0.30473561584949493
         ]
        },
        {
         "hovertemplate": "Continent: Africa<br>Year: %{x}<br>Positive Value: %{y}<extra></extra>",
         "legendgroup": "Africa",
         "line": {
          "color": "rgb(102, 194, 165)"
         },
         "name": "Africa",
         "opacity": 1,
         "type": "scatter",
         "visible": true,
         "x": [
          2008,
          2009,
          2010,
          2011,
          2012,
          2013,
          2014,
          2015,
          2016,
          2017,
          2018,
          2019,
          2020,
          2021
         ],
         "y": [
          0.6327378633229629,
          0.6753346709644094,
          0.6592878682745827,
          0.6286872625350952,
          0.6292506146889466,
          0.6424597990512848,
          0.6361445007579667,
          0.6393714014972959,
          0.6547152002652487,
          0.6389329055945079,
          0.6540121090027594,
          0.6426320930322011,
          0.649860564031099,
          0.6277631847631364
         ]
        },
        {
         "hovertemplate": "Continent: Africa<br>Year: %{x}<br>Negative Value: %{y}<extra></extra>",
         "legendgroup": "Africa",
         "line": {
          "color": "rgb(102, 194, 165)",
          "dash": "dash"
         },
         "name": "Africa_Negative",
         "opacity": 1,
         "showlegend": false,
         "type": "scatter",
         "visible": true,
         "x": [
          2008,
          2009,
          2010,
          2011,
          2012,
          2013,
          2014,
          2015,
          2016,
          2017,
          2018,
          2019,
          2020,
          2021
         ],
         "y": [
          0.23874827182811237,
          0.18668230710660705,
          0.18922249807251823,
          0.2232593066162533,
          0.21677763960682425,
          0.24008966505527493,
          0.26265955237405636,
          0.28523148276976173,
          0.3278549854954083,
          0.34264623175064723,
          0.3431998649912496,
          0.3346871420741081,
          0.32343034916802454,
          0.31309077214627035
         ]
        }
       ],
       "layout": {
        "boxmode": "group",
        "legend": {
         "title": {
          "text": "Continent"
         }
        },
        "plot_bgcolor": "rgba(0,0,0,0)",
        "template": {
         "data": {
          "bar": [
           {
            "error_x": {
             "color": "#2a3f5f"
            },
            "error_y": {
             "color": "#2a3f5f"
            },
            "marker": {
             "line": {
              "color": "#E5ECF6",
              "width": 0.5
             },
             "pattern": {
              "fillmode": "overlay",
              "size": 10,
              "solidity": 0.2
             }
            },
            "type": "bar"
           }
          ],
          "barpolar": [
           {
            "marker": {
             "line": {
              "color": "#E5ECF6",
              "width": 0.5
             },
             "pattern": {
              "fillmode": "overlay",
              "size": 10,
              "solidity": 0.2
             }
            },
            "type": "barpolar"
           }
          ],
          "carpet": [
           {
            "aaxis": {
             "endlinecolor": "#2a3f5f",
             "gridcolor": "white",
             "linecolor": "white",
             "minorgridcolor": "white",
             "startlinecolor": "#2a3f5f"
            },
            "baxis": {
             "endlinecolor": "#2a3f5f",
             "gridcolor": "white",
             "linecolor": "white",
             "minorgridcolor": "white",
             "startlinecolor": "#2a3f5f"
            },
            "type": "carpet"
           }
          ],
          "choropleth": [
           {
            "colorbar": {
             "outlinewidth": 0,
             "ticks": ""
            },
            "type": "choropleth"
           }
          ],
          "contour": [
           {
            "colorbar": {
             "outlinewidth": 0,
             "ticks": ""
            },
            "colorscale": [
             [
              0,
              "#0d0887"
             ],
             [
              0.1111111111111111,
              "#46039f"
             ],
             [
              0.2222222222222222,
              "#7201a8"
             ],
             [
              0.3333333333333333,
              "#9c179e"
             ],
             [
              0.4444444444444444,
              "#bd3786"
             ],
             [
              0.5555555555555556,
              "#d8576b"
             ],
             [
              0.6666666666666666,
              "#ed7953"
             ],
             [
              0.7777777777777778,
              "#fb9f3a"
             ],
             [
              0.8888888888888888,
              "#fdca26"
             ],
             [
              1,
              "#f0f921"
             ]
            ],
            "type": "contour"
           }
          ],
          "contourcarpet": [
           {
            "colorbar": {
             "outlinewidth": 0,
             "ticks": ""
            },
            "type": "contourcarpet"
           }
          ],
          "heatmap": [
           {
            "colorbar": {
             "outlinewidth": 0,
             "ticks": ""
            },
            "colorscale": [
             [
              0,
              "#0d0887"
             ],
             [
              0.1111111111111111,
              "#46039f"
             ],
             [
              0.2222222222222222,
              "#7201a8"
             ],
             [
              0.3333333333333333,
              "#9c179e"
             ],
             [
              0.4444444444444444,
              "#bd3786"
             ],
             [
              0.5555555555555556,
              "#d8576b"
             ],
             [
              0.6666666666666666,
              "#ed7953"
             ],
             [
              0.7777777777777778,
              "#fb9f3a"
             ],
             [
              0.8888888888888888,
              "#fdca26"
             ],
             [
              1,
              "#f0f921"
             ]
            ],
            "type": "heatmap"
           }
          ],
          "heatmapgl": [
           {
            "colorbar": {
             "outlinewidth": 0,
             "ticks": ""
            },
            "colorscale": [
             [
              0,
              "#0d0887"
             ],
             [
              0.1111111111111111,
              "#46039f"
             ],
             [
              0.2222222222222222,
              "#7201a8"
             ],
             [
              0.3333333333333333,
              "#9c179e"
             ],
             [
              0.4444444444444444,
              "#bd3786"
             ],
             [
              0.5555555555555556,
              "#d8576b"
             ],
             [
              0.6666666666666666,
              "#ed7953"
             ],
             [
              0.7777777777777778,
              "#fb9f3a"
             ],
             [
              0.8888888888888888,
              "#fdca26"
             ],
             [
              1,
              "#f0f921"
             ]
            ],
            "type": "heatmapgl"
           }
          ],
          "histogram": [
           {
            "marker": {
             "pattern": {
              "fillmode": "overlay",
              "size": 10,
              "solidity": 0.2
             }
            },
            "type": "histogram"
           }
          ],
          "histogram2d": [
           {
            "colorbar": {
             "outlinewidth": 0,
             "ticks": ""
            },
            "colorscale": [
             [
              0,
              "#0d0887"
             ],
             [
              0.1111111111111111,
              "#46039f"
             ],
             [
              0.2222222222222222,
              "#7201a8"
             ],
             [
              0.3333333333333333,
              "#9c179e"
             ],
             [
              0.4444444444444444,
              "#bd3786"
             ],
             [
              0.5555555555555556,
              "#d8576b"
             ],
             [
              0.6666666666666666,
              "#ed7953"
             ],
             [
              0.7777777777777778,
              "#fb9f3a"
             ],
             [
              0.8888888888888888,
              "#fdca26"
             ],
             [
              1,
              "#f0f921"
             ]
            ],
            "type": "histogram2d"
           }
          ],
          "histogram2dcontour": [
           {
            "colorbar": {
             "outlinewidth": 0,
             "ticks": ""
            },
            "colorscale": [
             [
              0,
              "#0d0887"
             ],
             [
              0.1111111111111111,
              "#46039f"
             ],
             [
              0.2222222222222222,
              "#7201a8"
             ],
             [
              0.3333333333333333,
              "#9c179e"
             ],
             [
              0.4444444444444444,
              "#bd3786"
             ],
             [
              0.5555555555555556,
              "#d8576b"
             ],
             [
              0.6666666666666666,
              "#ed7953"
             ],
             [
              0.7777777777777778,
              "#fb9f3a"
             ],
             [
              0.8888888888888888,
              "#fdca26"
             ],
             [
              1,
              "#f0f921"
             ]
            ],
            "type": "histogram2dcontour"
           }
          ],
          "mesh3d": [
           {
            "colorbar": {
             "outlinewidth": 0,
             "ticks": ""
            },
            "type": "mesh3d"
           }
          ],
          "parcoords": [
           {
            "line": {
             "colorbar": {
              "outlinewidth": 0,
              "ticks": ""
             }
            },
            "type": "parcoords"
           }
          ],
          "pie": [
           {
            "automargin": true,
            "type": "pie"
           }
          ],
          "scatter": [
           {
            "fillpattern": {
             "fillmode": "overlay",
             "size": 10,
             "solidity": 0.2
            },
            "type": "scatter"
           }
          ],
          "scatter3d": [
           {
            "line": {
             "colorbar": {
              "outlinewidth": 0,
              "ticks": ""
             }
            },
            "marker": {
             "colorbar": {
              "outlinewidth": 0,
              "ticks": ""
             }
            },
            "type": "scatter3d"
           }
          ],
          "scattercarpet": [
           {
            "marker": {
             "colorbar": {
              "outlinewidth": 0,
              "ticks": ""
             }
            },
            "type": "scattercarpet"
           }
          ],
          "scattergeo": [
           {
            "marker": {
             "colorbar": {
              "outlinewidth": 0,
              "ticks": ""
             }
            },
            "type": "scattergeo"
           }
          ],
          "scattergl": [
           {
            "marker": {
             "colorbar": {
              "outlinewidth": 0,
              "ticks": ""
             }
            },
            "type": "scattergl"
           }
          ],
          "scattermapbox": [
           {
            "marker": {
             "colorbar": {
              "outlinewidth": 0,
              "ticks": ""
             }
            },
            "type": "scattermapbox"
           }
          ],
          "scatterpolar": [
           {
            "marker": {
             "colorbar": {
              "outlinewidth": 0,
              "ticks": ""
             }
            },
            "type": "scatterpolar"
           }
          ],
          "scatterpolargl": [
           {
            "marker": {
             "colorbar": {
              "outlinewidth": 0,
              "ticks": ""
             }
            },
            "type": "scatterpolargl"
           }
          ],
          "scatterternary": [
           {
            "marker": {
             "colorbar": {
              "outlinewidth": 0,
              "ticks": ""
             }
            },
            "type": "scatterternary"
           }
          ],
          "surface": [
           {
            "colorbar": {
             "outlinewidth": 0,
             "ticks": ""
            },
            "colorscale": [
             [
              0,
              "#0d0887"
             ],
             [
              0.1111111111111111,
              "#46039f"
             ],
             [
              0.2222222222222222,
              "#7201a8"
             ],
             [
              0.3333333333333333,
              "#9c179e"
             ],
             [
              0.4444444444444444,
              "#bd3786"
             ],
             [
              0.5555555555555556,
              "#d8576b"
             ],
             [
              0.6666666666666666,
              "#ed7953"
             ],
             [
              0.7777777777777778,
              "#fb9f3a"
             ],
             [
              0.8888888888888888,
              "#fdca26"
             ],
             [
              1,
              "#f0f921"
             ]
            ],
            "type": "surface"
           }
          ],
          "table": [
           {
            "cells": {
             "fill": {
              "color": "#EBF0F8"
             },
             "line": {
              "color": "white"
             }
            },
            "header": {
             "fill": {
              "color": "#C8D4E3"
             },
             "line": {
              "color": "white"
             }
            },
            "type": "table"
           }
          ]
         },
         "layout": {
          "annotationdefaults": {
           "arrowcolor": "#2a3f5f",
           "arrowhead": 0,
           "arrowwidth": 1
          },
          "autotypenumbers": "strict",
          "coloraxis": {
           "colorbar": {
            "outlinewidth": 0,
            "ticks": ""
           }
          },
          "colorscale": {
           "diverging": [
            [
             0,
             "#8e0152"
            ],
            [
             0.1,
             "#c51b7d"
            ],
            [
             0.2,
             "#de77ae"
            ],
            [
             0.3,
             "#f1b6da"
            ],
            [
             0.4,
             "#fde0ef"
            ],
            [
             0.5,
             "#f7f7f7"
            ],
            [
             0.6,
             "#e6f5d0"
            ],
            [
             0.7,
             "#b8e186"
            ],
            [
             0.8,
             "#7fbc41"
            ],
            [
             0.9,
             "#4d9221"
            ],
            [
             1,
             "#276419"
            ]
           ],
           "sequential": [
            [
             0,
             "#0d0887"
            ],
            [
             0.1111111111111111,
             "#46039f"
            ],
            [
             0.2222222222222222,
             "#7201a8"
            ],
            [
             0.3333333333333333,
             "#9c179e"
            ],
            [
             0.4444444444444444,
             "#bd3786"
            ],
            [
             0.5555555555555556,
             "#d8576b"
            ],
            [
             0.6666666666666666,
             "#ed7953"
            ],
            [
             0.7777777777777778,
             "#fb9f3a"
            ],
            [
             0.8888888888888888,
             "#fdca26"
            ],
            [
             1,
             "#f0f921"
            ]
           ],
           "sequentialminus": [
            [
             0,
             "#0d0887"
            ],
            [
             0.1111111111111111,
             "#46039f"
            ],
            [
             0.2222222222222222,
             "#7201a8"
            ],
            [
             0.3333333333333333,
             "#9c179e"
            ],
            [
             0.4444444444444444,
             "#bd3786"
            ],
            [
             0.5555555555555556,
             "#d8576b"
            ],
            [
             0.6666666666666666,
             "#ed7953"
            ],
            [
             0.7777777777777778,
             "#fb9f3a"
            ],
            [
             0.8888888888888888,
             "#fdca26"
            ],
            [
             1,
             "#f0f921"
            ]
           ]
          },
          "colorway": [
           "#636efa",
           "#EF553B",
           "#00cc96",
           "#ab63fa",
           "#FFA15A",
           "#19d3f3",
           "#FF6692",
           "#B6E880",
           "#FF97FF",
           "#FECB52"
          ],
          "font": {
           "color": "#2a3f5f"
          },
          "geo": {
           "bgcolor": "white",
           "lakecolor": "white",
           "landcolor": "#E5ECF6",
           "showlakes": true,
           "showland": true,
           "subunitcolor": "white"
          },
          "hoverlabel": {
           "align": "left"
          },
          "hovermode": "closest",
          "mapbox": {
           "style": "light"
          },
          "paper_bgcolor": "white",
          "plot_bgcolor": "#E5ECF6",
          "polar": {
           "angularaxis": {
            "gridcolor": "white",
            "linecolor": "white",
            "ticks": ""
           },
           "bgcolor": "#E5ECF6",
           "radialaxis": {
            "gridcolor": "white",
            "linecolor": "white",
            "ticks": ""
           }
          },
          "scene": {
           "xaxis": {
            "backgroundcolor": "#E5ECF6",
            "gridcolor": "white",
            "gridwidth": 2,
            "linecolor": "white",
            "showbackground": true,
            "ticks": "",
            "zerolinecolor": "white"
           },
           "yaxis": {
            "backgroundcolor": "#E5ECF6",
            "gridcolor": "white",
            "gridwidth": 2,
            "linecolor": "white",
            "showbackground": true,
            "ticks": "",
            "zerolinecolor": "white"
           },
           "zaxis": {
            "backgroundcolor": "#E5ECF6",
            "gridcolor": "white",
            "gridwidth": 2,
            "linecolor": "white",
            "showbackground": true,
            "ticks": "",
            "zerolinecolor": "white"
           }
          },
          "shapedefaults": {
           "line": {
            "color": "#2a3f5f"
           }
          },
          "ternary": {
           "aaxis": {
            "gridcolor": "white",
            "linecolor": "white",
            "ticks": ""
           },
           "baxis": {
            "gridcolor": "white",
            "linecolor": "white",
            "ticks": ""
           },
           "bgcolor": "#E5ECF6",
           "caxis": {
            "gridcolor": "white",
            "linecolor": "white",
            "ticks": ""
           }
          },
          "title": {
           "x": 0.05
          },
          "xaxis": {
           "automargin": true,
           "gridcolor": "white",
           "linecolor": "white",
           "ticks": "",
           "title": {
            "standoff": 15
           },
           "zerolinecolor": "white",
           "zerolinewidth": 2
          },
          "yaxis": {
           "automargin": true,
           "gridcolor": "white",
           "linecolor": "white",
           "ticks": "",
           "title": {
            "standoff": 15
           },
           "zerolinecolor": "white",
           "zerolinewidth": 2
          }
         }
        },
        "title": {
         "text": "Positive Affect & Negative Affect from 2008 to 2021 among different continents"
        },
        "xaxis": {
         "tickvals": [
          2016,
          2017,
          2018,
          2019,
          2020,
          2021,
          2008,
          2009,
          2010,
          2011,
          2012,
          2013,
          2014,
          2015
         ],
         "title": {
          "text": "Time (Year)"
         }
        },
        "yaxis": {
         "gridcolor": "lightgrey",
         "layer": "below traces",
         "linewidth": 1,
         "range": [
          0.05,
          0.85
         ],
         "showgrid": true,
         "showline": true,
         "tickvals": [
          0.1,
          0.2,
          0.3,
          0.4,
          0.5,
          0.6,
          0.7,
          0.8
         ],
         "title": {
          "text": "Positive Affect & Negative Affect Value"
         },
         "zeroline": true
        }
       }
      },
      "text/html": [
       "<div>                            <div id=\"a065d248-d1c5-4e8b-9829-80ae5c701188\" class=\"plotly-graph-div\" style=\"height:525px; width:100%;\"></div>            <script type=\"text/javascript\">                require([\"plotly\"], function(Plotly) {                    window.PLOTLYENV=window.PLOTLYENV || {};                                    if (document.getElementById(\"a065d248-d1c5-4e8b-9829-80ae5c701188\")) {                    Plotly.newPlot(                        \"a065d248-d1c5-4e8b-9829-80ae5c701188\",                        [{\"hovertemplate\":\"Continent: Oceania<br>Year: %{x}<br>Positive Value: %{y}<extra></extra>\",\"legendgroup\":\"Oceania\",\"line\":{\"color\":\"rgb(166, 216, 84)\"},\"name\":\"Oceania\",\"opacity\":1.0,\"visible\":true,\"x\":[2008,2010,2011,2012,2013,2014,2015,2016,2017,2018,2019,2020,2021],\"y\":[0.756592184305191,0.7722681164741516,0.7539153695106506,0.7568013966083527,0.7740331590175629,0.7734581232070923,0.7720058858394623,0.7562134563922882,0.7454839944839478,0.7455208003520966,0.7460094094276428,0.7607918381690979,0.7434718906879425],\"type\":\"scatter\"},{\"hovertemplate\":\"Continent: Oceania<br>Year: %{x}<br>Negative Value: %{y}<extra></extra>\",\"legendgroup\":\"Oceania\",\"line\":{\"color\":\"rgb(166, 216, 84)\",\"dash\":\"dash\"},\"name\":\"Oceania_Negative\",\"opacity\":1.0,\"showlegend\":false,\"visible\":true,\"x\":[2008,2010,2011,2012,2013,2014,2015,2016,2017,2018,2019,2020,2021],\"y\":[0.2251539826393127,0.227415844798088,0.20273666083812708,0.21063753962516785,0.16426958888769144,0.22216158360242838,0.1847334802150726,0.22174970805644983,0.1985387727618217,0.17770390957593912,0.19668322056531906,0.20680936425924296,0.22074476629495615],\"type\":\"scatter\"},{\"hovertemplate\":\"Continent: North America<br>Year: %{x}<br>Positive Value: %{y}<extra></extra>\",\"legendgroup\":\"North America\",\"line\":{\"color\":\"rgb(231, 138, 195)\"},\"name\":\"North America\",\"opacity\":1.0,\"visible\":true,\"x\":[2008,2009,2010,2011,2012,2013,2014,2015,2016,2017,2018,2019,2020,2021],\"y\":[0.7835961977640787,0.7697022954622904,0.7707875967025757,0.7466221451759338,0.7540213863054911,0.775445560614268,0.7787553071975708,0.7555082440376282,0.7687657674153646,0.7764004468917847,0.7817634145418803,0.7795777916908264,0.7350560426712036,0.7509188652038574],\"type\":\"scatter\"},{\"hovertemplate\":\"Continent: North America<br>Year: %{x}<br>Negative Value: %{y}<extra></extra>\",\"legendgroup\":\"North America\",\"line\":{\"color\":\"rgb(231, 138, 195)\",\"dash\":\"dash\"},\"name\":\"North America_Negative\",\"opacity\":1.0,\"showlegend\":false,\"visible\":true,\"x\":[2008,2009,2010,2011,2012,2013,2014,2015,2016,2017,2018,2019,2020,2021],\"y\":[0.21005776524543754,0.23512180646260575,0.2265533904234568,0.24955435593922926,0.25569549202919006,0.24870913227399186,0.25619938969612116,0.26605200767517084,0.24039939045906067,0.23908036947250363,0.2549594243367513,0.26021681229273474,0.29790962735811866,0.2861781219641368],\"type\":\"scatter\"},{\"hovertemplate\":\"Continent: Europe<br>Year: %{x}<br>Positive Value: %{y}<extra></extra>\",\"legendgroup\":\"Europe\",\"line\":{\"color\":\"rgb(141, 160, 203)\"},\"name\":\"Europe\",\"opacity\":1.0,\"visible\":true,\"x\":[2008,2009,2010,2011,2012,2013,2014,2015,2016,2017,2018,2019,2020,2021],\"y\":[0.6675695280234019,0.6159196048974991,0.6282610277975759,0.6262052718437079,0.6378598080741035,0.6420952423530466,0.6486540853977203,0.6575051521261533,0.6491172313690186,0.6434724090827836,0.639860645362309,0.6484750691387389,0.6680362171986524,0.681368601322174],\"type\":\"scatter\"},{\"hovertemplate\":\"Continent: Europe<br>Year: %{x}<br>Negative Value: %{y}<extra></extra>\",\"legendgroup\":\"Europe\",\"line\":{\"color\":\"rgb(141, 160, 203)\",\"dash\":\"dash\"},\"name\":\"Europe_Negative\",\"opacity\":1.0,\"showlegend\":false,\"visible\":true,\"x\":[2008,2009,2010,2011,2012,2013,2014,2015,2016,2017,2018,2019,2020,2021],\"y\":[0.21774995936588804,0.2684075683355331,0.2557324702220578,0.2511349920973633,0.2571376040577888,0.26711363827480983,0.2582316875457763,0.24584664445784352,0.2453635968267917,0.23580224853422901,0.24501370191574093,0.23142876020736158,0.2628632389447268,0.24381582488616305],\"type\":\"scatter\"},{\"hovertemplate\":\"Continent: South America<br>Year: %{x}<br>Positive Value: %{y}<extra></extra>\",\"legendgroup\":\"South America\",\"line\":{\"color\":\"rgb(255, 217, 47)\"},\"name\":\"South America\",\"opacity\":1.0,\"visible\":true,\"x\":[2008,2009,2010,2011,2012,2013,2014,2015,2016,2017,2018,2019,2020,2021],\"y\":[0.7404850651236141,0.7748058550059795,0.7549070312696344,0.7508879837236906,0.7483165197902255,0.7621279484347293,0.7692268867241708,0.7635851403077444,0.7565596401691437,0.7471005508774206,0.7587433106759015,0.7645614213413663,0.7358904401461284,0.7509906327023226],\"type\":\"scatter\"},{\"hovertemplate\":\"Continent: South America<br>Year: %{x}<br>Negative Value: %{y}<extra></extra>\",\"legendgroup\":\"South America\",\"line\":{\"color\":\"rgb(255, 217, 47)\",\"dash\":\"dash\"},\"name\":\"South America_Negative\",\"opacity\":1.0,\"showlegend\":false,\"visible\":true,\"x\":[2008,2009,2010,2011,2012,2013,2014,2015,2016,2017,2018,2019,2020,2021],\"y\":[0.2765911878908382,0.259855480864644,0.25530358535401954,0.2758339172915408,0.2982461303472519,0.29618160034480845,0.29770694751488536,0.3117851093411445,0.31337160782681567,0.30302510214479345,0.3225854328450034,0.3143180525965161,0.3428197205066681,0.31937699195216684],\"type\":\"scatter\"},{\"hovertemplate\":\"Continent: Asia<br>Year: %{x}<br>Positive Value: %{y}<extra></extra>\",\"legendgroup\":\"Asia\",\"line\":{\"color\":\"rgb(252, 141, 98)\"},\"name\":\"Asia\",\"opacity\":1.0,\"visible\":true,\"x\":[2008,2009,2010,2011,2012,2013,2014,2015,2016,2017,2018,2019,2020,2021],\"y\":[0.5966246823469797,0.6082653451350427,0.6133486743896238,0.5992761086672544,0.6116748591884971,0.6278395191315682,0.6290350761906854,0.6411986784501509,0.6205314455493804,0.6167048071661303,0.6174003958702088,0.624101762810061,0.6470351081628066,0.6205529533326626],\"type\":\"scatter\"},{\"hovertemplate\":\"Continent: Asia<br>Year: %{x}<br>Negative Value: %{y}<extra></extra>\",\"legendgroup\":\"Asia\",\"line\":{\"color\":\"rgb(252, 141, 98)\",\"dash\":\"dash\"},\"name\":\"Asia_Negative\",\"opacity\":1.0,\"showlegend\":false,\"visible\":true,\"x\":[2008,2009,2010,2011,2012,2013,2014,2015,2016,2017,2018,2019,2020,2021],\"y\":[0.2491106401990961,0.2510617485930842,0.2615900169457159,0.24871489405632016,0.25108353048563,0.26866193206021277,0.2576765199502309,0.2785083624449643,0.27437023097468954,0.2897088330599569,0.2816146217286587,0.28123512479566753,0.3121507167816162,0.30473561584949493],\"type\":\"scatter\"},{\"hovertemplate\":\"Continent: Africa<br>Year: %{x}<br>Positive Value: %{y}<extra></extra>\",\"legendgroup\":\"Africa\",\"line\":{\"color\":\"rgb(102, 194, 165)\"},\"name\":\"Africa\",\"opacity\":1.0,\"visible\":true,\"x\":[2008,2009,2010,2011,2012,2013,2014,2015,2016,2017,2018,2019,2020,2021],\"y\":[0.6327378633229629,0.6753346709644094,0.6592878682745827,0.6286872625350952,0.6292506146889466,0.6424597990512848,0.6361445007579667,0.6393714014972959,0.6547152002652487,0.6389329055945079,0.6540121090027594,0.6426320930322011,0.649860564031099,0.6277631847631364],\"type\":\"scatter\"},{\"hovertemplate\":\"Continent: Africa<br>Year: %{x}<br>Negative Value: %{y}<extra></extra>\",\"legendgroup\":\"Africa\",\"line\":{\"color\":\"rgb(102, 194, 165)\",\"dash\":\"dash\"},\"name\":\"Africa_Negative\",\"opacity\":1.0,\"showlegend\":false,\"visible\":true,\"x\":[2008,2009,2010,2011,2012,2013,2014,2015,2016,2017,2018,2019,2020,2021],\"y\":[0.23874827182811237,0.18668230710660705,0.18922249807251823,0.2232593066162533,0.21677763960682425,0.24008966505527493,0.26265955237405636,0.28523148276976173,0.3278549854954083,0.34264623175064723,0.3431998649912496,0.3346871420741081,0.32343034916802454,0.31309077214627035],\"type\":\"scatter\"}],                        {\"template\":{\"data\":{\"histogram2dcontour\":[{\"type\":\"histogram2dcontour\",\"colorbar\":{\"outlinewidth\":0,\"ticks\":\"\"},\"colorscale\":[[0.0,\"#0d0887\"],[0.1111111111111111,\"#46039f\"],[0.2222222222222222,\"#7201a8\"],[0.3333333333333333,\"#9c179e\"],[0.4444444444444444,\"#bd3786\"],[0.5555555555555556,\"#d8576b\"],[0.6666666666666666,\"#ed7953\"],[0.7777777777777778,\"#fb9f3a\"],[0.8888888888888888,\"#fdca26\"],[1.0,\"#f0f921\"]]}],\"choropleth\":[{\"type\":\"choropleth\",\"colorbar\":{\"outlinewidth\":0,\"ticks\":\"\"}}],\"histogram2d\":[{\"type\":\"histogram2d\",\"colorbar\":{\"outlinewidth\":0,\"ticks\":\"\"},\"colorscale\":[[0.0,\"#0d0887\"],[0.1111111111111111,\"#46039f\"],[0.2222222222222222,\"#7201a8\"],[0.3333333333333333,\"#9c179e\"],[0.4444444444444444,\"#bd3786\"],[0.5555555555555556,\"#d8576b\"],[0.6666666666666666,\"#ed7953\"],[0.7777777777777778,\"#fb9f3a\"],[0.8888888888888888,\"#fdca26\"],[1.0,\"#f0f921\"]]}],\"heatmap\":[{\"type\":\"heatmap\",\"colorbar\":{\"outlinewidth\":0,\"ticks\":\"\"},\"colorscale\":[[0.0,\"#0d0887\"],[0.1111111111111111,\"#46039f\"],[0.2222222222222222,\"#7201a8\"],[0.3333333333333333,\"#9c179e\"],[0.4444444444444444,\"#bd3786\"],[0.5555555555555556,\"#d8576b\"],[0.6666666666666666,\"#ed7953\"],[0.7777777777777778,\"#fb9f3a\"],[0.8888888888888888,\"#fdca26\"],[1.0,\"#f0f921\"]]}],\"heatmapgl\":[{\"type\":\"heatmapgl\",\"colorbar\":{\"outlinewidth\":0,\"ticks\":\"\"},\"colorscale\":[[0.0,\"#0d0887\"],[0.1111111111111111,\"#46039f\"],[0.2222222222222222,\"#7201a8\"],[0.3333333333333333,\"#9c179e\"],[0.4444444444444444,\"#bd3786\"],[0.5555555555555556,\"#d8576b\"],[0.6666666666666666,\"#ed7953\"],[0.7777777777777778,\"#fb9f3a\"],[0.8888888888888888,\"#fdca26\"],[1.0,\"#f0f921\"]]}],\"contourcarpet\":[{\"type\":\"contourcarpet\",\"colorbar\":{\"outlinewidth\":0,\"ticks\":\"\"}}],\"contour\":[{\"type\":\"contour\",\"colorbar\":{\"outlinewidth\":0,\"ticks\":\"\"},\"colorscale\":[[0.0,\"#0d0887\"],[0.1111111111111111,\"#46039f\"],[0.2222222222222222,\"#7201a8\"],[0.3333333333333333,\"#9c179e\"],[0.4444444444444444,\"#bd3786\"],[0.5555555555555556,\"#d8576b\"],[0.6666666666666666,\"#ed7953\"],[0.7777777777777778,\"#fb9f3a\"],[0.8888888888888888,\"#fdca26\"],[1.0,\"#f0f921\"]]}],\"surface\":[{\"type\":\"surface\",\"colorbar\":{\"outlinewidth\":0,\"ticks\":\"\"},\"colorscale\":[[0.0,\"#0d0887\"],[0.1111111111111111,\"#46039f\"],[0.2222222222222222,\"#7201a8\"],[0.3333333333333333,\"#9c179e\"],[0.4444444444444444,\"#bd3786\"],[0.5555555555555556,\"#d8576b\"],[0.6666666666666666,\"#ed7953\"],[0.7777777777777778,\"#fb9f3a\"],[0.8888888888888888,\"#fdca26\"],[1.0,\"#f0f921\"]]}],\"mesh3d\":[{\"type\":\"mesh3d\",\"colorbar\":{\"outlinewidth\":0,\"ticks\":\"\"}}],\"scatter\":[{\"fillpattern\":{\"fillmode\":\"overlay\",\"size\":10,\"solidity\":0.2},\"type\":\"scatter\"}],\"parcoords\":[{\"type\":\"parcoords\",\"line\":{\"colorbar\":{\"outlinewidth\":0,\"ticks\":\"\"}}}],\"scatterpolargl\":[{\"type\":\"scatterpolargl\",\"marker\":{\"colorbar\":{\"outlinewidth\":0,\"ticks\":\"\"}}}],\"bar\":[{\"error_x\":{\"color\":\"#2a3f5f\"},\"error_y\":{\"color\":\"#2a3f5f\"},\"marker\":{\"line\":{\"color\":\"#E5ECF6\",\"width\":0.5},\"pattern\":{\"fillmode\":\"overlay\",\"size\":10,\"solidity\":0.2}},\"type\":\"bar\"}],\"scattergeo\":[{\"type\":\"scattergeo\",\"marker\":{\"colorbar\":{\"outlinewidth\":0,\"ticks\":\"\"}}}],\"scatterpolar\":[{\"type\":\"scatterpolar\",\"marker\":{\"colorbar\":{\"outlinewidth\":0,\"ticks\":\"\"}}}],\"histogram\":[{\"marker\":{\"pattern\":{\"fillmode\":\"overlay\",\"size\":10,\"solidity\":0.2}},\"type\":\"histogram\"}],\"scattergl\":[{\"type\":\"scattergl\",\"marker\":{\"colorbar\":{\"outlinewidth\":0,\"ticks\":\"\"}}}],\"scatter3d\":[{\"type\":\"scatter3d\",\"line\":{\"colorbar\":{\"outlinewidth\":0,\"ticks\":\"\"}},\"marker\":{\"colorbar\":{\"outlinewidth\":0,\"ticks\":\"\"}}}],\"scattermapbox\":[{\"type\":\"scattermapbox\",\"marker\":{\"colorbar\":{\"outlinewidth\":0,\"ticks\":\"\"}}}],\"scatterternary\":[{\"type\":\"scatterternary\",\"marker\":{\"colorbar\":{\"outlinewidth\":0,\"ticks\":\"\"}}}],\"scattercarpet\":[{\"type\":\"scattercarpet\",\"marker\":{\"colorbar\":{\"outlinewidth\":0,\"ticks\":\"\"}}}],\"carpet\":[{\"aaxis\":{\"endlinecolor\":\"#2a3f5f\",\"gridcolor\":\"white\",\"linecolor\":\"white\",\"minorgridcolor\":\"white\",\"startlinecolor\":\"#2a3f5f\"},\"baxis\":{\"endlinecolor\":\"#2a3f5f\",\"gridcolor\":\"white\",\"linecolor\":\"white\",\"minorgridcolor\":\"white\",\"startlinecolor\":\"#2a3f5f\"},\"type\":\"carpet\"}],\"table\":[{\"cells\":{\"fill\":{\"color\":\"#EBF0F8\"},\"line\":{\"color\":\"white\"}},\"header\":{\"fill\":{\"color\":\"#C8D4E3\"},\"line\":{\"color\":\"white\"}},\"type\":\"table\"}],\"barpolar\":[{\"marker\":{\"line\":{\"color\":\"#E5ECF6\",\"width\":0.5},\"pattern\":{\"fillmode\":\"overlay\",\"size\":10,\"solidity\":0.2}},\"type\":\"barpolar\"}],\"pie\":[{\"automargin\":true,\"type\":\"pie\"}]},\"layout\":{\"autotypenumbers\":\"strict\",\"colorway\":[\"#636efa\",\"#EF553B\",\"#00cc96\",\"#ab63fa\",\"#FFA15A\",\"#19d3f3\",\"#FF6692\",\"#B6E880\",\"#FF97FF\",\"#FECB52\"],\"font\":{\"color\":\"#2a3f5f\"},\"hovermode\":\"closest\",\"hoverlabel\":{\"align\":\"left\"},\"paper_bgcolor\":\"white\",\"plot_bgcolor\":\"#E5ECF6\",\"polar\":{\"bgcolor\":\"#E5ECF6\",\"angularaxis\":{\"gridcolor\":\"white\",\"linecolor\":\"white\",\"ticks\":\"\"},\"radialaxis\":{\"gridcolor\":\"white\",\"linecolor\":\"white\",\"ticks\":\"\"}},\"ternary\":{\"bgcolor\":\"#E5ECF6\",\"aaxis\":{\"gridcolor\":\"white\",\"linecolor\":\"white\",\"ticks\":\"\"},\"baxis\":{\"gridcolor\":\"white\",\"linecolor\":\"white\",\"ticks\":\"\"},\"caxis\":{\"gridcolor\":\"white\",\"linecolor\":\"white\",\"ticks\":\"\"}},\"coloraxis\":{\"colorbar\":{\"outlinewidth\":0,\"ticks\":\"\"}},\"colorscale\":{\"sequential\":[[0.0,\"#0d0887\"],[0.1111111111111111,\"#46039f\"],[0.2222222222222222,\"#7201a8\"],[0.3333333333333333,\"#9c179e\"],[0.4444444444444444,\"#bd3786\"],[0.5555555555555556,\"#d8576b\"],[0.6666666666666666,\"#ed7953\"],[0.7777777777777778,\"#fb9f3a\"],[0.8888888888888888,\"#fdca26\"],[1.0,\"#f0f921\"]],\"sequentialminus\":[[0.0,\"#0d0887\"],[0.1111111111111111,\"#46039f\"],[0.2222222222222222,\"#7201a8\"],[0.3333333333333333,\"#9c179e\"],[0.4444444444444444,\"#bd3786\"],[0.5555555555555556,\"#d8576b\"],[0.6666666666666666,\"#ed7953\"],[0.7777777777777778,\"#fb9f3a\"],[0.8888888888888888,\"#fdca26\"],[1.0,\"#f0f921\"]],\"diverging\":[[0,\"#8e0152\"],[0.1,\"#c51b7d\"],[0.2,\"#de77ae\"],[0.3,\"#f1b6da\"],[0.4,\"#fde0ef\"],[0.5,\"#f7f7f7\"],[0.6,\"#e6f5d0\"],[0.7,\"#b8e186\"],[0.8,\"#7fbc41\"],[0.9,\"#4d9221\"],[1,\"#276419\"]]},\"xaxis\":{\"gridcolor\":\"white\",\"linecolor\":\"white\",\"ticks\":\"\",\"title\":{\"standoff\":15},\"zerolinecolor\":\"white\",\"automargin\":true,\"zerolinewidth\":2},\"yaxis\":{\"gridcolor\":\"white\",\"linecolor\":\"white\",\"ticks\":\"\",\"title\":{\"standoff\":15},\"zerolinecolor\":\"white\",\"automargin\":true,\"zerolinewidth\":2},\"scene\":{\"xaxis\":{\"backgroundcolor\":\"#E5ECF6\",\"gridcolor\":\"white\",\"linecolor\":\"white\",\"showbackground\":true,\"ticks\":\"\",\"zerolinecolor\":\"white\",\"gridwidth\":2},\"yaxis\":{\"backgroundcolor\":\"#E5ECF6\",\"gridcolor\":\"white\",\"linecolor\":\"white\",\"showbackground\":true,\"ticks\":\"\",\"zerolinecolor\":\"white\",\"gridwidth\":2},\"zaxis\":{\"backgroundcolor\":\"#E5ECF6\",\"gridcolor\":\"white\",\"linecolor\":\"white\",\"showbackground\":true,\"ticks\":\"\",\"zerolinecolor\":\"white\",\"gridwidth\":2}},\"shapedefaults\":{\"line\":{\"color\":\"#2a3f5f\"}},\"annotationdefaults\":{\"arrowcolor\":\"#2a3f5f\",\"arrowhead\":0,\"arrowwidth\":1},\"geo\":{\"bgcolor\":\"white\",\"landcolor\":\"#E5ECF6\",\"subunitcolor\":\"white\",\"showland\":true,\"showlakes\":true,\"lakecolor\":\"white\"},\"title\":{\"x\":0.05},\"mapbox\":{\"style\":\"light\"}}},\"xaxis\":{\"tickvals\":[2016,2017,2018,2019,2020,2021,2008,2009,2010,2011,2012,2013,2014,2015],\"title\":{\"text\":\"Time (Year)\"}},\"yaxis\":{\"title\":{\"text\":\"Positive Affect & Negative Affect Value\"},\"range\":[0.05,0.85],\"showline\":true,\"linewidth\":1,\"showgrid\":true,\"zeroline\":true,\"gridcolor\":\"lightgrey\",\"layer\":\"below traces\",\"tickvals\":[0.1,0.2,0.3,0.4,0.5,0.6,0.7,0.8]},\"legend\":{\"title\":{\"text\":\"Continent\"}},\"plot_bgcolor\":\"rgba(0,0,0,0)\",\"title\":{\"text\":\"Positive Affect & Negative Affect from 2008 to 2021 among different continents\"},\"boxmode\":\"group\"},                        {\"responsive\": true}                    ).then(function(){\n",
       "                            \n",
       "var gd = document.getElementById('a065d248-d1c5-4e8b-9829-80ae5c701188');\n",
       "var x = new MutationObserver(function (mutations, observer) {{\n",
       "        var display = window.getComputedStyle(gd).display;\n",
       "        if (!display || display === 'none') {{\n",
       "            console.log([gd, 'removed!']);\n",
       "            Plotly.purge(gd);\n",
       "            observer.disconnect();\n",
       "        }}\n",
       "}});\n",
       "\n",
       "// Listen for the removal of the full notebook cells\n",
       "var notebookContainer = gd.closest('#notebook-container');\n",
       "if (notebookContainer) {{\n",
       "    x.observe(notebookContainer, {childList: true});\n",
       "}}\n",
       "\n",
       "// Listen for the clearing of the current output cell\n",
       "var outputEl = gd.closest('.output');\n",
       "if (outputEl) {{\n",
       "    x.observe(outputEl, {childList: true});\n",
       "}}\n",
       "\n",
       "                        })                };                });            </script>        </div>"
      ]
     },
     "metadata": {},
     "output_type": "display_data"
    }
   ],
   "source": [
    "# INITIALIZE GRAPH OBJECT\n",
    "import numpy as np\n",
    "import plotly.io as pio\n",
    "fig = go.Figure()\n",
    "\n",
    "\n",
    "# Set the continent values\n",
    "cont = ['Oceania',\n",
    "        'North America',\n",
    "        'Europe',\n",
    "        'South America',\n",
    "        'Asia',\n",
    "        'Africa']\n",
    "\n",
    "# Set the color scheme\n",
    "scheme = ['rgb(166, 216, 84)',\n",
    "          'rgb(231, 138, 195)',\n",
    "          'rgb(141, 160, 203)',\n",
    "          'rgb(255, 217, 47)',\n",
    "          'rgb(252, 141, 98)',\n",
    "          'rgb(102, 194, 165)']\n",
    "# add trace for every situation\n",
    "j = 0\n",
    "for i in cont:\n",
    "    df4 = df3.query(\"continent==@i\")\n",
    "    df4_pos = df4[df4[\"Situation\"]=='Positive']\n",
    "    # get the mean value of the affect based on the year and continent\n",
    "    df4_pos = df4_pos.groupby('year')['Affect'].mean()\n",
    "    df4_pos = df4_pos.reset_index(drop=False)\n",
    "    fig.add_trace(  # Add A trace to the figure\n",
    "    go.Scatter(  # Specify the type of the trace\n",
    "        x=df4_pos[\"year\"],  # Data-x\n",
    "        y=df4_pos[\"Affect\"],  # Data-y\n",
    "        line =dict(color = scheme[j]),\n",
    "        name = i,\n",
    "        opacity=1.0,\n",
    "        visible=True,  # Specify whether or not to make data-visible when rendered\n",
    "        legendgroup=cont[j],\n",
    "        hovertemplate = 'Continent: '+i+\n",
    "                        '<br>Year: %{x}<br>Positive Value: %{y}<extra></extra>',\n",
    "    )\n",
    ")\n",
    "    \n",
    "    df4_neg = df4[df4[\"Situation\"]=='Negative']\n",
    "    # get the mean value of the affect based on the year and continent\n",
    "    df4_neg = df4_neg.groupby('year')['Affect'].mean()\n",
    "    df4_neg = df4_neg.reset_index(drop=False)\n",
    "    fig.add_trace(  # Add A trace to the figure\n",
    "    go.Scatter(  # Specify the type of the trace\n",
    "        x=df4_neg[\"year\"],  # Data-x\n",
    "        y=df4_neg[\"Affect\"],  # Data-y\n",
    "        line= dict(color = scheme[j],\n",
    "                   dash = 'dash'),\n",
    "        name=i+'_Negative',\n",
    "        opacity=1.0,\n",
    "        visible=True,  # Specify whether or not to make data-visible when rendered\n",
    "        legendgroup=i,\n",
    "        showlegend=False,\n",
    "        hovertemplate = 'Continent: '+i+\n",
    "                        '<br>Year: %{x}<br>Negative Value: %{y}<extra></extra>',\n",
    "    )\n",
    "\n",
    ")\n",
    "    j+=1\n",
    "\n",
    "# update the layout\n",
    "fig.update_layout(\n",
    "    xaxis = dict(\n",
    "        tickvals = list(set(df3['year']))\n",
    "    ),\n",
    "    plot_bgcolor = 'rgba(0,0,0,0)',\n",
    "    title = 'Positive Affect & Negative Affect from 2008 to 2021 among different continents',\n",
    "    xaxis_title = 'Time (Year)',\n",
    "    yaxis_title = 'Positive Affect & Negative Affect Value',\n",
    "    yaxis_range=[0.05,0.85],\n",
    "    boxmode = 'group',\n",
    "    legend_title_text = \"Continent\"\n",
    ")\n",
    "# change the y-axis\n",
    "fig.update_yaxes(\n",
    "                 showline=True,\n",
    "                 linewidth=1,\n",
    "                 showgrid = True, \n",
    "                 zeroline=True,\n",
    "                 gridcolor='lightgrey',\n",
    "                 layer='below traces',\n",
    "                 tickvals=[0.1, 0.2, 0.3, 0.4,\n",
    "                           0.5, 0.6, 0.7, 0.8])\n",
    "fig.show()\n",
    "fig.write_html(\"../img/lineplot_affect.html\")\n"
   ]
  }
 ],
 "metadata": {
  "kernelspec": {
   "display_name": "ANLY501",
   "language": "python",
   "name": "python3"
  },
  "language_info": {
   "codemirror_mode": {
    "name": "ipython",
    "version": 3
   },
   "file_extension": ".py",
   "mimetype": "text/x-python",
   "name": "python",
   "nbconvert_exporter": "python",
   "pygments_lexer": "ipython3",
   "version": "3.10.4"
  },
  "orig_nbformat": 4
 },
 "nbformat": 4,
 "nbformat_minor": 2
}
