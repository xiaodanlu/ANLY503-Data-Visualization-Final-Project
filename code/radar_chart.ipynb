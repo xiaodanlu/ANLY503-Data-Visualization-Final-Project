{
 "cells": [
  {
   "attachments": {},
   "cell_type": "markdown",
   "metadata": {},
   "source": [
    "## Load Data"
   ]
  },
  {
   "cell_type": "code",
   "execution_count": 1,
   "metadata": {},
   "outputs": [
    {
     "data": {
      "text/html": [
       "<div>\n",
       "<style scoped>\n",
       "    .dataframe tbody tr th:only-of-type {\n",
       "        vertical-align: middle;\n",
       "    }\n",
       "\n",
       "    .dataframe tbody tr th {\n",
       "        vertical-align: top;\n",
       "    }\n",
       "\n",
       "    .dataframe thead th {\n",
       "        text-align: right;\n",
       "    }\n",
       "</style>\n",
       "<table border=\"1\" class=\"dataframe\">\n",
       "  <thead>\n",
       "    <tr style=\"text-align: right;\">\n",
       "      <th></th>\n",
       "      <th>Unnamed: 0</th>\n",
       "      <th>Country</th>\n",
       "      <th>year</th>\n",
       "      <th>Happiness Score</th>\n",
       "      <th>Log GDP per capita</th>\n",
       "      <th>Social support</th>\n",
       "      <th>Health</th>\n",
       "      <th>Freedom to make life choices</th>\n",
       "      <th>Generosity</th>\n",
       "      <th>Corruption</th>\n",
       "      <th>...</th>\n",
       "      <th>Negative affect</th>\n",
       "      <th>Confidence in national government</th>\n",
       "      <th>continent</th>\n",
       "      <th>Country Code</th>\n",
       "      <th>Time Code</th>\n",
       "      <th>CO2 emissions</th>\n",
       "      <th>Population</th>\n",
       "      <th>Unemployment</th>\n",
       "      <th>Children out of school</th>\n",
       "      <th>Adjusted net national income</th>\n",
       "    </tr>\n",
       "  </thead>\n",
       "  <tbody>\n",
       "    <tr>\n",
       "      <th>0</th>\n",
       "      <td>0</td>\n",
       "      <td>Afghanistan</td>\n",
       "      <td>2008</td>\n",
       "      <td>3.723590</td>\n",
       "      <td>7.302574</td>\n",
       "      <td>0.450662</td>\n",
       "      <td>50.500000</td>\n",
       "      <td>0.718114</td>\n",
       "      <td>0.173169</td>\n",
       "      <td>0.881686</td>\n",
       "      <td>...</td>\n",
       "      <td>0.258195</td>\n",
       "      <td>0.612072</td>\n",
       "      <td>Asia</td>\n",
       "      <td>AFG</td>\n",
       "      <td>YR2008</td>\n",
       "      <td>3559.999943</td>\n",
       "      <td>26427199.0</td>\n",
       "      <td>2.49</td>\n",
       "      <td>NaN</td>\n",
       "      <td>NaN</td>\n",
       "    </tr>\n",
       "    <tr>\n",
       "      <th>1</th>\n",
       "      <td>1</td>\n",
       "      <td>Afghanistan</td>\n",
       "      <td>2009</td>\n",
       "      <td>4.401778</td>\n",
       "      <td>7.472446</td>\n",
       "      <td>0.552308</td>\n",
       "      <td>50.799999</td>\n",
       "      <td>0.678896</td>\n",
       "      <td>0.195469</td>\n",
       "      <td>0.850035</td>\n",
       "      <td>...</td>\n",
       "      <td>0.237092</td>\n",
       "      <td>0.611545</td>\n",
       "      <td>Asia</td>\n",
       "      <td>AFG</td>\n",
       "      <td>YR2009</td>\n",
       "      <td>4880.000114</td>\n",
       "      <td>27385307.0</td>\n",
       "      <td>NaN</td>\n",
       "      <td>NaN</td>\n",
       "      <td>1.129747e+10</td>\n",
       "    </tr>\n",
       "    <tr>\n",
       "      <th>2</th>\n",
       "      <td>2</td>\n",
       "      <td>Afghanistan</td>\n",
       "      <td>2010</td>\n",
       "      <td>4.758381</td>\n",
       "      <td>7.579183</td>\n",
       "      <td>0.539075</td>\n",
       "      <td>51.099998</td>\n",
       "      <td>0.600127</td>\n",
       "      <td>0.125859</td>\n",
       "      <td>0.706766</td>\n",
       "      <td>...</td>\n",
       "      <td>0.275324</td>\n",
       "      <td>0.299357</td>\n",
       "      <td>Asia</td>\n",
       "      <td>AFG</td>\n",
       "      <td>YR2010</td>\n",
       "      <td>7110.000134</td>\n",
       "      <td>28189672.0</td>\n",
       "      <td>NaN</td>\n",
       "      <td>NaN</td>\n",
       "      <td>1.448363e+10</td>\n",
       "    </tr>\n",
       "    <tr>\n",
       "      <th>3</th>\n",
       "      <td>3</td>\n",
       "      <td>Afghanistan</td>\n",
       "      <td>2011</td>\n",
       "      <td>3.831719</td>\n",
       "      <td>7.552006</td>\n",
       "      <td>0.521104</td>\n",
       "      <td>51.400002</td>\n",
       "      <td>0.495901</td>\n",
       "      <td>0.167723</td>\n",
       "      <td>0.731109</td>\n",
       "      <td>...</td>\n",
       "      <td>0.267175</td>\n",
       "      <td>0.307386</td>\n",
       "      <td>Asia</td>\n",
       "      <td>AFG</td>\n",
       "      <td>YR2011</td>\n",
       "      <td>8930.000305</td>\n",
       "      <td>29249157.0</td>\n",
       "      <td>NaN</td>\n",
       "      <td>NaN</td>\n",
       "      <td>1.626732e+10</td>\n",
       "    </tr>\n",
       "    <tr>\n",
       "      <th>4</th>\n",
       "      <td>4</td>\n",
       "      <td>Afghanistan</td>\n",
       "      <td>2012</td>\n",
       "      <td>3.782938</td>\n",
       "      <td>7.637953</td>\n",
       "      <td>0.520637</td>\n",
       "      <td>51.700001</td>\n",
       "      <td>0.530935</td>\n",
       "      <td>0.241247</td>\n",
       "      <td>0.775620</td>\n",
       "      <td>...</td>\n",
       "      <td>0.267919</td>\n",
       "      <td>0.435440</td>\n",
       "      <td>Asia</td>\n",
       "      <td>AFG</td>\n",
       "      <td>YR2012</td>\n",
       "      <td>8079.999924</td>\n",
       "      <td>30466479.0</td>\n",
       "      <td>1.69</td>\n",
       "      <td>NaN</td>\n",
       "      <td>1.822551e+10</td>\n",
       "    </tr>\n",
       "  </tbody>\n",
       "</table>\n",
       "<p>5 rows × 21 columns</p>\n",
       "</div>"
      ],
      "text/plain": [
       "   Unnamed: 0      Country  year  Happiness Score  Log GDP per capita  \\\n",
       "0           0  Afghanistan  2008         3.723590            7.302574   \n",
       "1           1  Afghanistan  2009         4.401778            7.472446   \n",
       "2           2  Afghanistan  2010         4.758381            7.579183   \n",
       "3           3  Afghanistan  2011         3.831719            7.552006   \n",
       "4           4  Afghanistan  2012         3.782938            7.637953   \n",
       "\n",
       "   Social support     Health  Freedom to make life choices  Generosity  \\\n",
       "0        0.450662  50.500000                      0.718114    0.173169   \n",
       "1        0.552308  50.799999                      0.678896    0.195469   \n",
       "2        0.539075  51.099998                      0.600127    0.125859   \n",
       "3        0.521104  51.400002                      0.495901    0.167723   \n",
       "4        0.520637  51.700001                      0.530935    0.241247   \n",
       "\n",
       "   Corruption  ...  Negative affect  Confidence in national government  \\\n",
       "0    0.881686  ...         0.258195                           0.612072   \n",
       "1    0.850035  ...         0.237092                           0.611545   \n",
       "2    0.706766  ...         0.275324                           0.299357   \n",
       "3    0.731109  ...         0.267175                           0.307386   \n",
       "4    0.775620  ...         0.267919                           0.435440   \n",
       "\n",
       "   continent Country Code Time Code CO2 emissions  Population  Unemployment  \\\n",
       "0       Asia          AFG    YR2008   3559.999943  26427199.0          2.49   \n",
       "1       Asia          AFG    YR2009   4880.000114  27385307.0           NaN   \n",
       "2       Asia          AFG    YR2010   7110.000134  28189672.0           NaN   \n",
       "3       Asia          AFG    YR2011   8930.000305  29249157.0           NaN   \n",
       "4       Asia          AFG    YR2012   8079.999924  30466479.0          1.69   \n",
       "\n",
       "   Children out of school  Adjusted net national income  \n",
       "0                     NaN                           NaN  \n",
       "1                     NaN                  1.129747e+10  \n",
       "2                     NaN                  1.448363e+10  \n",
       "3                     NaN                  1.626732e+10  \n",
       "4                     NaN                  1.822551e+10  \n",
       "\n",
       "[5 rows x 21 columns]"
      ]
     },
     "execution_count": 1,
     "metadata": {},
     "output_type": "execute_result"
    }
   ],
   "source": [
    "import pandas as pd\n",
    "import numpy as np\n",
    "\n",
    "data = pd.read_csv(\"../data/combine_data.csv\")\n",
    "data.head()"
   ]
  },
  {
   "attachments": {},
   "cell_type": "markdown",
   "metadata": {},
   "source": [
    "## Import Libraries"
   ]
  },
  {
   "cell_type": "code",
   "execution_count": 2,
   "metadata": {},
   "outputs": [],
   "source": [
    "import plotly.graph_objects as go\n",
    "import plotly.express as px\n",
    "import plotly.io as pio\n",
    "\n",
    "pio.renderers.default = \"plotly_mimetype+notebook_connected\""
   ]
  },
  {
   "attachments": {},
   "cell_type": "markdown",
   "metadata": {},
   "source": [
    "## Edit Data"
   ]
  },
  {
   "cell_type": "code",
   "execution_count": 3,
   "metadata": {},
   "outputs": [
    {
     "data": {
      "text/plain": [
       "Index(['Unnamed: 0', 'Country', 'year', 'Happiness Score',\n",
       "       'Log GDP per capita', 'Social support', 'Health',\n",
       "       'Freedom to make life choices', 'Generosity', 'Corruption',\n",
       "       'Positive affect', 'Negative affect',\n",
       "       'Confidence in national government', 'continent', 'Country Code',\n",
       "       'Time Code', 'CO2 emissions', 'Population', 'Unemployment',\n",
       "       'Children out of school', 'Adjusted net national income'],\n",
       "      dtype='object')"
      ]
     },
     "execution_count": 3,
     "metadata": {},
     "output_type": "execute_result"
    }
   ],
   "source": [
    "data.columns"
   ]
  },
  {
   "cell_type": "code",
   "execution_count": 5,
   "metadata": {},
   "outputs": [
    {
     "data": {
      "text/html": [
       "<div>\n",
       "<style scoped>\n",
       "    .dataframe tbody tr th:only-of-type {\n",
       "        vertical-align: middle;\n",
       "    }\n",
       "\n",
       "    .dataframe tbody tr th {\n",
       "        vertical-align: top;\n",
       "    }\n",
       "\n",
       "    .dataframe thead th {\n",
       "        text-align: right;\n",
       "    }\n",
       "</style>\n",
       "<table border=\"1\" class=\"dataframe\">\n",
       "  <thead>\n",
       "    <tr style=\"text-align: right;\">\n",
       "      <th></th>\n",
       "      <th>continent</th>\n",
       "      <th>Happiness Score</th>\n",
       "      <th>Log GDP</th>\n",
       "      <th>Social Support</th>\n",
       "      <th>Health</th>\n",
       "      <th>Freedom</th>\n",
       "      <th>Generosity</th>\n",
       "      <th>Corruption</th>\n",
       "      <th>Positive Affect</th>\n",
       "      <th>Negative Affect</th>\n",
       "      <th>Confidence in Government</th>\n",
       "    </tr>\n",
       "  </thead>\n",
       "  <tbody>\n",
       "    <tr>\n",
       "      <th>0</th>\n",
       "      <td>Africa</td>\n",
       "      <td>4.394343</td>\n",
       "      <td>0.000000</td>\n",
       "      <td>0.000000</td>\n",
       "      <td>0.000000</td>\n",
       "      <td>0.000000</td>\n",
       "      <td>0.016460</td>\n",
       "      <td>1.000000</td>\n",
       "      <td>0.159257</td>\n",
       "      <td>0.792632</td>\n",
       "      <td>0.845304</td>\n",
       "    </tr>\n",
       "    <tr>\n",
       "      <th>1</th>\n",
       "      <td>Asia</td>\n",
       "      <td>5.314343</td>\n",
       "      <td>0.479695</td>\n",
       "      <td>0.310985</td>\n",
       "      <td>0.574364</td>\n",
       "      <td>0.291365</td>\n",
       "      <td>0.236387</td>\n",
       "      <td>0.913524</td>\n",
       "      <td>0.000000</td>\n",
       "      <td>0.707598</td>\n",
       "      <td>1.000000</td>\n",
       "    </tr>\n",
       "    <tr>\n",
       "      <th>2</th>\n",
       "      <td>Europe</td>\n",
       "      <td>6.230661</td>\n",
       "      <td>0.867002</td>\n",
       "      <td>0.757170</td>\n",
       "      <td>0.897483</td>\n",
       "      <td>0.297168</td>\n",
       "      <td>0.077094</td>\n",
       "      <td>0.793035</td>\n",
       "      <td>0.183997</td>\n",
       "      <td>0.475660</td>\n",
       "      <td>0.030158</td>\n",
       "    </tr>\n",
       "    <tr>\n",
       "      <th>3</th>\n",
       "      <td>North America</td>\n",
       "      <td>7.015587</td>\n",
       "      <td>0.931856</td>\n",
       "      <td>0.753224</td>\n",
       "      <td>0.821630</td>\n",
       "      <td>0.665768</td>\n",
       "      <td>0.422689</td>\n",
       "      <td>0.607479</td>\n",
       "      <td>1.000000</td>\n",
       "      <td>0.502093</td>\n",
       "      <td>0.237262</td>\n",
       "    </tr>\n",
       "    <tr>\n",
       "      <th>4</th>\n",
       "      <td>Oceania</td>\n",
       "      <td>7.269447</td>\n",
       "      <td>1.000000</td>\n",
       "      <td>1.000000</td>\n",
       "      <td>1.000000</td>\n",
       "      <td>1.000000</td>\n",
       "      <td>1.000000</td>\n",
       "      <td>0.000000</td>\n",
       "      <td>0.945426</td>\n",
       "      <td>0.000000</td>\n",
       "      <td>0.818714</td>\n",
       "    </tr>\n",
       "    <tr>\n",
       "      <th>5</th>\n",
       "      <td>South America</td>\n",
       "      <td>5.911475</td>\n",
       "      <td>0.441517</td>\n",
       "      <td>0.517924</td>\n",
       "      <td>0.600086</td>\n",
       "      <td>0.400992</td>\n",
       "      <td>0.000000</td>\n",
       "      <td>0.980589</td>\n",
       "      <td>0.928867</td>\n",
       "      <td>1.000000</td>\n",
       "      <td>0.000000</td>\n",
       "    </tr>\n",
       "  </tbody>\n",
       "</table>\n",
       "</div>"
      ],
      "text/plain": [
       "       continent  Happiness Score   Log GDP  Social Support    Health  \\\n",
       "0         Africa         4.394343  0.000000        0.000000  0.000000   \n",
       "1           Asia         5.314343  0.479695        0.310985  0.574364   \n",
       "2         Europe         6.230661  0.867002        0.757170  0.897483   \n",
       "3  North America         7.015587  0.931856        0.753224  0.821630   \n",
       "4        Oceania         7.269447  1.000000        1.000000  1.000000   \n",
       "5  South America         5.911475  0.441517        0.517924  0.600086   \n",
       "\n",
       "    Freedom  Generosity  Corruption  Positive Affect  Negative Affect  \\\n",
       "0  0.000000    0.016460    1.000000         0.159257         0.792632   \n",
       "1  0.291365    0.236387    0.913524         0.000000         0.707598   \n",
       "2  0.297168    0.077094    0.793035         0.183997         0.475660   \n",
       "3  0.665768    0.422689    0.607479         1.000000         0.502093   \n",
       "4  1.000000    1.000000    0.000000         0.945426         0.000000   \n",
       "5  0.400992    0.000000    0.980589         0.928867         1.000000   \n",
       "\n",
       "   Confidence in Government  \n",
       "0                  0.845304  \n",
       "1                  1.000000  \n",
       "2                  0.030158  \n",
       "3                  0.237262  \n",
       "4                  0.818714  \n",
       "5                  0.000000  "
      ]
     },
     "execution_count": 5,
     "metadata": {},
     "output_type": "execute_result"
    }
   ],
   "source": [
    "df = data[['continent', 'Happiness Score', 'Log GDP per capita', 'Social support',\n",
    "         'Health', 'Freedom to make life choices', 'Generosity', 'Corruption', \n",
    "         'Positive affect', 'Negative affect', 'Confidence in national government']]\n",
    "# Rename the columns\n",
    "df.columns = ['continent', 'Happiness Score', 'Log GDP', 'Social Support',\n",
    "              'Health', 'Freedom', 'Generosity', 'Corruption', \n",
    "              'Positive Affect', 'Negative Affect', 'Confidence in Government']    \n",
    "\n",
    "# Create a function to calculate the mean of each continent\n",
    "df = df.groupby('continent').mean().reset_index()\n",
    "\n",
    "# Normalize the data by norm = (x - min) / (max - min)\n",
    "#df[\"Happiness Score\"] = (df[\"Happiness Score\"] - df[\"Happiness Score\"].min()) / (df[\"Happiness Score\"].max() - df[\"Happiness Score\"].min())\n",
    "df[\"Log GDP\"] = (df[\"Log GDP\"] - df[\"Log GDP\"].min()) / (df[\"Log GDP\"].max() - df[\"Log GDP\"].min())\n",
    "df[\"Social Support\"] = (df[\"Social Support\"] - df[\"Social Support\"].min()) / (df[\"Social Support\"].max() - df[\"Social Support\"].min())\n",
    "df[\"Health\"] = (df[\"Health\"] - df[\"Health\"].min()) / (df[\"Health\"].max() - df[\"Health\"].min())\n",
    "df[\"Freedom\"] = (df[\"Freedom\"] - df[\"Freedom\"].min()) / (df[\"Freedom\"].max() - df[\"Freedom\"].min())\n",
    "df[\"Generosity\"] = (df[\"Generosity\"] - df[\"Generosity\"].min()) / (df[\"Generosity\"].max() - df[\"Generosity\"].min())\n",
    "df[\"Corruption\"] = (df[\"Corruption\"] - df[\"Corruption\"].min()) / (df[\"Corruption\"].max() - df[\"Corruption\"].min())\n",
    "df[\"Positive Affect\"] = (df[\"Positive Affect\"] - df[\"Positive Affect\"].min()) / (df[\"Positive Affect\"].max() - df[\"Positive Affect\"].min())\n",
    "df[\"Negative Affect\"] = (df[\"Negative Affect\"] - df[\"Negative Affect\"].min()) / (df[\"Negative Affect\"].max() - df[\"Negative Affect\"].min())\n",
    "df[\"Confidence in Government\"] = (df[\"Confidence in Government\"] - df[\"Confidence in Government\"].min()) / (df[\"Confidence in Government\"].max() - df[\"Confidence in Government\"].min())\n",
    "\n",
    "df.head(6)"
   ]
  },
  {
   "attachments": {},
   "cell_type": "markdown",
   "metadata": {},
   "source": [
    "## Radar Chart & Bar Chart"
   ]
  },
  {
   "cell_type": "code",
   "execution_count": 7,
   "metadata": {},
   "outputs": [
    {
     "data": {
      "text/html": [
       "        <script type=\"text/javascript\">\n",
       "        window.PlotlyConfig = {MathJaxConfig: 'local'};\n",
       "        if (window.MathJax && window.MathJax.Hub && window.MathJax.Hub.Config) {window.MathJax.Hub.Config({SVG: {font: \"STIX-Web\"}});}\n",
       "        if (typeof require !== 'undefined') {\n",
       "        require.undef(\"plotly\");\n",
       "        requirejs.config({\n",
       "            paths: {\n",
       "                'plotly': ['https://cdn.plot.ly/plotly-2.12.1.min']\n",
       "            }\n",
       "        });\n",
       "        require(['plotly'], function(Plotly) {\n",
       "            window._Plotly = Plotly;\n",
       "        });\n",
       "        }\n",
       "        </script>\n",
       "        "
      ]
     },
     "metadata": {},
     "output_type": "display_data"
    },
    {
     "data": {
      "application/vnd.plotly.v1+json": {
       "config": {
        "plotlyServerURL": "https://plot.ly"
       },
       "data": [
        {
         "fill": "toself",
         "legendgroup": "group5",
         "legendgrouptitle": {
          "text": "Oceania"
         },
         "line": {
          "shape": "spline",
          "smoothing": 1.3,
          "width": 1
         },
         "marker": {
          "color": "rgb(166, 216, 84)"
         },
         "name": "Oceania",
         "r": [
          1,
          1,
          1,
          1,
          1
         ],
         "showlegend": false,
         "subplot": "polar",
         "theta": [
          "Log GDP",
          "Social Support",
          "Health",
          "Freedom",
          "Generosity"
         ],
         "type": "scatterpolar"
        },
        {
         "legendgroup": "group5",
         "marker": {
          "color": "rgb(166, 216, 84)"
         },
         "name": "Oceania",
         "opacity": 0.6,
         "orientation": "h",
         "type": "bar",
         "x": [
          7.2694474366995
         ],
         "xaxis": "x",
         "y": [
          "Oceania"
         ],
         "yaxis": "y"
        },
        {
         "fill": "toself",
         "legendgroup": "group4",
         "legendgrouptitle": {
          "text": "North America"
         },
         "line": {
          "shape": "spline",
          "smoothing": 1.3,
          "width": 1
         },
         "marker": {
          "color": "rgb(231, 138, 195)"
         },
         "name": "North America",
         "r": [
          0.9318564502339128,
          0.7532239226591201,
          0.8216303107424039,
          0.6657683297137197,
          0.422689206649963
         ],
         "showlegend": false,
         "subplot": "polar",
         "theta": [
          "Log GDP",
          "Social Support",
          "Health",
          "Freedom",
          "Generosity"
         ],
         "type": "scatterpolar"
        },
        {
         "legendgroup": "group4",
         "marker": {
          "color": "rgb(231, 138, 195)"
         },
         "name": "North America",
         "opacity": 0.6,
         "orientation": "h",
         "type": "bar",
         "x": [
          7.015587363924299
         ],
         "xaxis": "x",
         "y": [
          "North America"
         ],
         "yaxis": "y"
        },
        {
         "fill": "toself",
         "legendgroup": "group3",
         "legendgrouptitle": {
          "text": "Europe"
         },
         "line": {
          "shape": "spline",
          "smoothing": 1.3,
          "width": 1
         },
         "marker": {
          "color": "rgb(141, 160, 203)"
         },
         "name": "Europe",
         "r": [
          0.8670024597822442,
          0.7571702327990931,
          0.8974827872144924,
          0.29716805162549426,
          0.0770944224817189
         ],
         "showlegend": false,
         "subplot": "polar",
         "theta": [
          "Log GDP",
          "Social Support",
          "Health",
          "Freedom",
          "Generosity"
         ],
         "type": "scatterpolar"
        },
        {
         "legendgroup": "group3",
         "marker": {
          "color": "rgb(141, 160, 203)"
         },
         "name": "Europe",
         "opacity": 0.6,
         "orientation": "h",
         "type": "bar",
         "x": [
          6.230661036132218
         ],
         "xaxis": "x",
         "y": [
          "Europe"
         ],
         "yaxis": "y"
        },
        {
         "fill": "toself",
         "legendgroup": "group6",
         "legendgrouptitle": {
          "text": "South America"
         },
         "line": {
          "shape": "spline",
          "smoothing": 1.3,
          "width": 1
         },
         "marker": {
          "color": "rgb(255, 217, 47)"
         },
         "name": "South America",
         "r": [
          0.44151682434118467,
          0.5179240485910475,
          0.600085600695767,
          0.40099167526592683,
          0
         ],
         "showlegend": false,
         "subplot": "polar",
         "theta": [
          "Log GDP",
          "Social Support",
          "Health",
          "Freedom",
          "Generosity"
         ],
         "type": "scatterpolar"
        },
        {
         "legendgroup": "group6",
         "marker": {
          "color": "rgb(255 ,217, 47)"
         },
         "name": "South America",
         "opacity": 0.6,
         "orientation": "h",
         "type": "bar",
         "x": [
          5.911475075401276
         ],
         "xaxis": "x",
         "y": [
          "South America"
         ],
         "yaxis": "y"
        },
        {
         "fill": "toself",
         "legendgroup": "group2",
         "legendgrouptitle": {
          "text": "Asia"
         },
         "line": {
          "shape": "spline",
          "smoothing": 1.3,
          "width": 1
         },
         "marker": {
          "color": "rgb(252, 141, 98)"
         },
         "name": "Asia",
         "r": [
          0.4796947137558277,
          0.3109846325132237,
          0.5743640124637936,
          0.2913650461538698,
          0.23638656436338631
         ],
         "showlegend": false,
         "subplot": "polar",
         "theta": [
          "Log GDP",
          "Social Support",
          "Health",
          "Freedom",
          "Generosity"
         ],
         "type": "scatterpolar"
        },
        {
         "legendgroup": "group2",
         "marker": {
          "color": "rgb(252, 141, 98)"
         },
         "name": "Asia",
         "opacity": 0.6,
         "orientation": "h",
         "type": "bar",
         "x": [
          5.314342962278353
         ],
         "xaxis": "x",
         "y": [
          "Asia"
         ],
         "yaxis": "y"
        },
        {
         "fill": "toself",
         "legendgroup": "group1",
         "legendgrouptitle": {
          "text": "Africa"
         },
         "line": {
          "shape": "spline",
          "smoothing": 1.3,
          "width": 1
         },
         "marker": {
          "color": "rgb(102, 194, 165)"
         },
         "name": "Africa",
         "r": [
          0,
          0,
          0,
          0,
          0.0164596807913647
         ],
         "showlegend": false,
         "subplot": "polar",
         "theta": [
          "Log GDP",
          "Social Support",
          "Health",
          "Freedom",
          "Generosity"
         ],
         "type": "scatterpolar"
        },
        {
         "legendgroup": "group1",
         "marker": {
          "color": "rgb(102, 194, 165)"
         },
         "name": "Africa",
         "opacity": 0.6,
         "orientation": "h",
         "type": "bar",
         "x": [
          4.394343394911691
         ],
         "xaxis": "x",
         "y": [
          "Africa"
         ],
         "yaxis": "y"
        }
       ],
       "layout": {
        "font": {
         "size": 12
        },
        "height": 400,
        "legend": {
         "font": {
          "size": 12
         },
         "orientation": "v",
         "title": {
          "text": "Continent"
         },
         "x": 1.2,
         "xanchor": "right",
         "y": 0.1,
         "yanchor": "bottom"
        },
        "polar": {
         "angularaxis": {
          "rotation": 45,
          "tickfont": {
           "size": 12
          }
         },
         "domain": {
          "x": [
           0,
           0.4
          ],
          "y": [
           0,
           1
          ]
         },
         "radialaxis": {
          "range": [
           0,
           1.2
          ],
          "showticklabels": true,
          "tickfont": {
           "size": 10
          },
          "ticks": "inside",
          "visible": true
         }
        },
        "showlegend": true,
        "template": {
         "data": {
          "bar": [
           {
            "error_x": {
             "color": "#2a3f5f"
            },
            "error_y": {
             "color": "#2a3f5f"
            },
            "marker": {
             "line": {
              "color": "white",
              "width": 0.5
             },
             "pattern": {
              "fillmode": "overlay",
              "size": 10,
              "solidity": 0.2
             }
            },
            "type": "bar"
           }
          ],
          "barpolar": [
           {
            "marker": {
             "line": {
              "color": "white",
              "width": 0.5
             },
             "pattern": {
              "fillmode": "overlay",
              "size": 10,
              "solidity": 0.2
             }
            },
            "type": "barpolar"
           }
          ],
          "carpet": [
           {
            "aaxis": {
             "endlinecolor": "#2a3f5f",
             "gridcolor": "#C8D4E3",
             "linecolor": "#C8D4E3",
             "minorgridcolor": "#C8D4E3",
             "startlinecolor": "#2a3f5f"
            },
            "baxis": {
             "endlinecolor": "#2a3f5f",
             "gridcolor": "#C8D4E3",
             "linecolor": "#C8D4E3",
             "minorgridcolor": "#C8D4E3",
             "startlinecolor": "#2a3f5f"
            },
            "type": "carpet"
           }
          ],
          "choropleth": [
           {
            "colorbar": {
             "outlinewidth": 0,
             "ticks": ""
            },
            "type": "choropleth"
           }
          ],
          "contour": [
           {
            "colorbar": {
             "outlinewidth": 0,
             "ticks": ""
            },
            "colorscale": [
             [
              0,
              "#0d0887"
             ],
             [
              0.1111111111111111,
              "#46039f"
             ],
             [
              0.2222222222222222,
              "#7201a8"
             ],
             [
              0.3333333333333333,
              "#9c179e"
             ],
             [
              0.4444444444444444,
              "#bd3786"
             ],
             [
              0.5555555555555556,
              "#d8576b"
             ],
             [
              0.6666666666666666,
              "#ed7953"
             ],
             [
              0.7777777777777778,
              "#fb9f3a"
             ],
             [
              0.8888888888888888,
              "#fdca26"
             ],
             [
              1,
              "#f0f921"
             ]
            ],
            "type": "contour"
           }
          ],
          "contourcarpet": [
           {
            "colorbar": {
             "outlinewidth": 0,
             "ticks": ""
            },
            "type": "contourcarpet"
           }
          ],
          "heatmap": [
           {
            "colorbar": {
             "outlinewidth": 0,
             "ticks": ""
            },
            "colorscale": [
             [
              0,
              "#0d0887"
             ],
             [
              0.1111111111111111,
              "#46039f"
             ],
             [
              0.2222222222222222,
              "#7201a8"
             ],
             [
              0.3333333333333333,
              "#9c179e"
             ],
             [
              0.4444444444444444,
              "#bd3786"
             ],
             [
              0.5555555555555556,
              "#d8576b"
             ],
             [
              0.6666666666666666,
              "#ed7953"
             ],
             [
              0.7777777777777778,
              "#fb9f3a"
             ],
             [
              0.8888888888888888,
              "#fdca26"
             ],
             [
              1,
              "#f0f921"
             ]
            ],
            "type": "heatmap"
           }
          ],
          "heatmapgl": [
           {
            "colorbar": {
             "outlinewidth": 0,
             "ticks": ""
            },
            "colorscale": [
             [
              0,
              "#0d0887"
             ],
             [
              0.1111111111111111,
              "#46039f"
             ],
             [
              0.2222222222222222,
              "#7201a8"
             ],
             [
              0.3333333333333333,
              "#9c179e"
             ],
             [
              0.4444444444444444,
              "#bd3786"
             ],
             [
              0.5555555555555556,
              "#d8576b"
             ],
             [
              0.6666666666666666,
              "#ed7953"
             ],
             [
              0.7777777777777778,
              "#fb9f3a"
             ],
             [
              0.8888888888888888,
              "#fdca26"
             ],
             [
              1,
              "#f0f921"
             ]
            ],
            "type": "heatmapgl"
           }
          ],
          "histogram": [
           {
            "marker": {
             "pattern": {
              "fillmode": "overlay",
              "size": 10,
              "solidity": 0.2
             }
            },
            "type": "histogram"
           }
          ],
          "histogram2d": [
           {
            "colorbar": {
             "outlinewidth": 0,
             "ticks": ""
            },
            "colorscale": [
             [
              0,
              "#0d0887"
             ],
             [
              0.1111111111111111,
              "#46039f"
             ],
             [
              0.2222222222222222,
              "#7201a8"
             ],
             [
              0.3333333333333333,
              "#9c179e"
             ],
             [
              0.4444444444444444,
              "#bd3786"
             ],
             [
              0.5555555555555556,
              "#d8576b"
             ],
             [
              0.6666666666666666,
              "#ed7953"
             ],
             [
              0.7777777777777778,
              "#fb9f3a"
             ],
             [
              0.8888888888888888,
              "#fdca26"
             ],
             [
              1,
              "#f0f921"
             ]
            ],
            "type": "histogram2d"
           }
          ],
          "histogram2dcontour": [
           {
            "colorbar": {
             "outlinewidth": 0,
             "ticks": ""
            },
            "colorscale": [
             [
              0,
              "#0d0887"
             ],
             [
              0.1111111111111111,
              "#46039f"
             ],
             [
              0.2222222222222222,
              "#7201a8"
             ],
             [
              0.3333333333333333,
              "#9c179e"
             ],
             [
              0.4444444444444444,
              "#bd3786"
             ],
             [
              0.5555555555555556,
              "#d8576b"
             ],
             [
              0.6666666666666666,
              "#ed7953"
             ],
             [
              0.7777777777777778,
              "#fb9f3a"
             ],
             [
              0.8888888888888888,
              "#fdca26"
             ],
             [
              1,
              "#f0f921"
             ]
            ],
            "type": "histogram2dcontour"
           }
          ],
          "mesh3d": [
           {
            "colorbar": {
             "outlinewidth": 0,
             "ticks": ""
            },
            "type": "mesh3d"
           }
          ],
          "parcoords": [
           {
            "line": {
             "colorbar": {
              "outlinewidth": 0,
              "ticks": ""
             }
            },
            "type": "parcoords"
           }
          ],
          "pie": [
           {
            "automargin": true,
            "type": "pie"
           }
          ],
          "scatter": [
           {
            "fillpattern": {
             "fillmode": "overlay",
             "size": 10,
             "solidity": 0.2
            },
            "type": "scatter"
           }
          ],
          "scatter3d": [
           {
            "line": {
             "colorbar": {
              "outlinewidth": 0,
              "ticks": ""
             }
            },
            "marker": {
             "colorbar": {
              "outlinewidth": 0,
              "ticks": ""
             }
            },
            "type": "scatter3d"
           }
          ],
          "scattercarpet": [
           {
            "marker": {
             "colorbar": {
              "outlinewidth": 0,
              "ticks": ""
             }
            },
            "type": "scattercarpet"
           }
          ],
          "scattergeo": [
           {
            "marker": {
             "colorbar": {
              "outlinewidth": 0,
              "ticks": ""
             }
            },
            "type": "scattergeo"
           }
          ],
          "scattergl": [
           {
            "marker": {
             "colorbar": {
              "outlinewidth": 0,
              "ticks": ""
             }
            },
            "type": "scattergl"
           }
          ],
          "scattermapbox": [
           {
            "marker": {
             "colorbar": {
              "outlinewidth": 0,
              "ticks": ""
             }
            },
            "type": "scattermapbox"
           }
          ],
          "scatterpolar": [
           {
            "marker": {
             "colorbar": {
              "outlinewidth": 0,
              "ticks": ""
             }
            },
            "type": "scatterpolar"
           }
          ],
          "scatterpolargl": [
           {
            "marker": {
             "colorbar": {
              "outlinewidth": 0,
              "ticks": ""
             }
            },
            "type": "scatterpolargl"
           }
          ],
          "scatterternary": [
           {
            "marker": {
             "colorbar": {
              "outlinewidth": 0,
              "ticks": ""
             }
            },
            "type": "scatterternary"
           }
          ],
          "surface": [
           {
            "colorbar": {
             "outlinewidth": 0,
             "ticks": ""
            },
            "colorscale": [
             [
              0,
              "#0d0887"
             ],
             [
              0.1111111111111111,
              "#46039f"
             ],
             [
              0.2222222222222222,
              "#7201a8"
             ],
             [
              0.3333333333333333,
              "#9c179e"
             ],
             [
              0.4444444444444444,
              "#bd3786"
             ],
             [
              0.5555555555555556,
              "#d8576b"
             ],
             [
              0.6666666666666666,
              "#ed7953"
             ],
             [
              0.7777777777777778,
              "#fb9f3a"
             ],
             [
              0.8888888888888888,
              "#fdca26"
             ],
             [
              1,
              "#f0f921"
             ]
            ],
            "type": "surface"
           }
          ],
          "table": [
           {
            "cells": {
             "fill": {
              "color": "#EBF0F8"
             },
             "line": {
              "color": "white"
             }
            },
            "header": {
             "fill": {
              "color": "#C8D4E3"
             },
             "line": {
              "color": "white"
             }
            },
            "type": "table"
           }
          ]
         },
         "layout": {
          "annotationdefaults": {
           "arrowcolor": "#2a3f5f",
           "arrowhead": 0,
           "arrowwidth": 1
          },
          "autotypenumbers": "strict",
          "coloraxis": {
           "colorbar": {
            "outlinewidth": 0,
            "ticks": ""
           }
          },
          "colorscale": {
           "diverging": [
            [
             0,
             "#8e0152"
            ],
            [
             0.1,
             "#c51b7d"
            ],
            [
             0.2,
             "#de77ae"
            ],
            [
             0.3,
             "#f1b6da"
            ],
            [
             0.4,
             "#fde0ef"
            ],
            [
             0.5,
             "#f7f7f7"
            ],
            [
             0.6,
             "#e6f5d0"
            ],
            [
             0.7,
             "#b8e186"
            ],
            [
             0.8,
             "#7fbc41"
            ],
            [
             0.9,
             "#4d9221"
            ],
            [
             1,
             "#276419"
            ]
           ],
           "sequential": [
            [
             0,
             "#0d0887"
            ],
            [
             0.1111111111111111,
             "#46039f"
            ],
            [
             0.2222222222222222,
             "#7201a8"
            ],
            [
             0.3333333333333333,
             "#9c179e"
            ],
            [
             0.4444444444444444,
             "#bd3786"
            ],
            [
             0.5555555555555556,
             "#d8576b"
            ],
            [
             0.6666666666666666,
             "#ed7953"
            ],
            [
             0.7777777777777778,
             "#fb9f3a"
            ],
            [
             0.8888888888888888,
             "#fdca26"
            ],
            [
             1,
             "#f0f921"
            ]
           ],
           "sequentialminus": [
            [
             0,
             "#0d0887"
            ],
            [
             0.1111111111111111,
             "#46039f"
            ],
            [
             0.2222222222222222,
             "#7201a8"
            ],
            [
             0.3333333333333333,
             "#9c179e"
            ],
            [
             0.4444444444444444,
             "#bd3786"
            ],
            [
             0.5555555555555556,
             "#d8576b"
            ],
            [
             0.6666666666666666,
             "#ed7953"
            ],
            [
             0.7777777777777778,
             "#fb9f3a"
            ],
            [
             0.8888888888888888,
             "#fdca26"
            ],
            [
             1,
             "#f0f921"
            ]
           ]
          },
          "colorway": [
           "#636efa",
           "#EF553B",
           "#00cc96",
           "#ab63fa",
           "#FFA15A",
           "#19d3f3",
           "#FF6692",
           "#B6E880",
           "#FF97FF",
           "#FECB52"
          ],
          "font": {
           "color": "#2a3f5f"
          },
          "geo": {
           "bgcolor": "white",
           "lakecolor": "white",
           "landcolor": "white",
           "showlakes": true,
           "showland": true,
           "subunitcolor": "#C8D4E3"
          },
          "hoverlabel": {
           "align": "left"
          },
          "hovermode": "closest",
          "mapbox": {
           "style": "light"
          },
          "paper_bgcolor": "white",
          "plot_bgcolor": "white",
          "polar": {
           "angularaxis": {
            "gridcolor": "#EBF0F8",
            "linecolor": "#EBF0F8",
            "ticks": ""
           },
           "bgcolor": "white",
           "radialaxis": {
            "gridcolor": "#EBF0F8",
            "linecolor": "#EBF0F8",
            "ticks": ""
           }
          },
          "scene": {
           "xaxis": {
            "backgroundcolor": "white",
            "gridcolor": "#DFE8F3",
            "gridwidth": 2,
            "linecolor": "#EBF0F8",
            "showbackground": true,
            "ticks": "",
            "zerolinecolor": "#EBF0F8"
           },
           "yaxis": {
            "backgroundcolor": "white",
            "gridcolor": "#DFE8F3",
            "gridwidth": 2,
            "linecolor": "#EBF0F8",
            "showbackground": true,
            "ticks": "",
            "zerolinecolor": "#EBF0F8"
           },
           "zaxis": {
            "backgroundcolor": "white",
            "gridcolor": "#DFE8F3",
            "gridwidth": 2,
            "linecolor": "#EBF0F8",
            "showbackground": true,
            "ticks": "",
            "zerolinecolor": "#EBF0F8"
           }
          },
          "shapedefaults": {
           "line": {
            "color": "#2a3f5f"
           }
          },
          "ternary": {
           "aaxis": {
            "gridcolor": "#DFE8F3",
            "linecolor": "#A2B1C6",
            "ticks": ""
           },
           "baxis": {
            "gridcolor": "#DFE8F3",
            "linecolor": "#A2B1C6",
            "ticks": ""
           },
           "bgcolor": "white",
           "caxis": {
            "gridcolor": "#DFE8F3",
            "linecolor": "#A2B1C6",
            "ticks": ""
           }
          },
          "title": {
           "x": 0.05
          },
          "xaxis": {
           "automargin": true,
           "gridcolor": "#EBF0F8",
           "linecolor": "#EBF0F8",
           "ticks": "",
           "title": {
            "standoff": 15
           },
           "zerolinecolor": "#EBF0F8",
           "zerolinewidth": 2
          },
          "yaxis": {
           "automargin": true,
           "gridcolor": "#EBF0F8",
           "linecolor": "#EBF0F8",
           "ticks": "",
           "title": {
            "standoff": 15
           },
           "zerolinecolor": "#EBF0F8",
           "zerolinewidth": 2
          }
         }
        },
        "title": {
         "font": {
          "size": 18
         },
         "text": "Happiness Score by Continent"
        },
        "width": 1000,
        "xaxis": {
         "anchor": "y",
         "domain": [
          0.6000000000000001,
          1
         ],
         "tickfont": {
          "size": 12
         },
         "title": {
          "font": {
           "size": 13
          },
          "text": "Average Happiness Score"
         }
        },
        "yaxis": {
         "anchor": "x",
         "domain": [
          0,
          1
         ],
         "tickfont": {
          "size": 12
         },
         "title": {
          "font": {
           "size": 13
          },
          "text": "Continent"
         }
        }
       }
      },
      "text/html": [
       "<div>                            <div id=\"835d089e-aa8b-4335-905d-93a7a3376ee4\" class=\"plotly-graph-div\" style=\"height:400px; width:1000px;\"></div>            <script type=\"text/javascript\">                require([\"plotly\"], function(Plotly) {                    window.PLOTLYENV=window.PLOTLYENV || {};                                    if (document.getElementById(\"835d089e-aa8b-4335-905d-93a7a3376ee4\")) {                    Plotly.newPlot(                        \"835d089e-aa8b-4335-905d-93a7a3376ee4\",                        [{\"fill\":\"toself\",\"legendgroup\":\"group5\",\"legendgrouptitle\":{\"text\":\"Oceania\"},\"line\":{\"shape\":\"spline\",\"smoothing\":1.3,\"width\":1},\"marker\":{\"color\":\"rgb(166, 216, 84)\"},\"name\":\"Oceania\",\"r\":[1.0,1.0,1.0,1.0,1.0],\"showlegend\":false,\"subplot\":\"polar\",\"theta\":[\"Log GDP\",\"Social Support\",\"Health\",\"Freedom\",\"Generosity\"],\"type\":\"scatterpolar\"},{\"legendgroup\":\"group5\",\"marker\":{\"color\":\"rgb(166, 216, 84)\"},\"name\":\"Oceania\",\"opacity\":0.6,\"orientation\":\"h\",\"x\":[7.2694474366995],\"xaxis\":\"x\",\"y\":[\"Oceania\"],\"yaxis\":\"y\",\"type\":\"bar\"},{\"fill\":\"toself\",\"legendgroup\":\"group4\",\"legendgrouptitle\":{\"text\":\"North America\"},\"line\":{\"shape\":\"spline\",\"smoothing\":1.3,\"width\":1},\"marker\":{\"color\":\"rgb(231, 138, 195)\"},\"name\":\"North America\",\"r\":[0.9318564502339128,0.7532239226591201,0.8216303107424039,0.6657683297137197,0.422689206649963],\"showlegend\":false,\"theta\":[\"Log GDP\",\"Social Support\",\"Health\",\"Freedom\",\"Generosity\"],\"type\":\"scatterpolar\",\"subplot\":\"polar\"},{\"legendgroup\":\"group4\",\"marker\":{\"color\":\"rgb(231, 138, 195)\"},\"name\":\"North America\",\"opacity\":0.6,\"orientation\":\"h\",\"x\":[7.015587363924299],\"y\":[\"North America\"],\"type\":\"bar\",\"xaxis\":\"x\",\"yaxis\":\"y\"},{\"fill\":\"toself\",\"legendgroup\":\"group3\",\"legendgrouptitle\":{\"text\":\"Europe\"},\"line\":{\"shape\":\"spline\",\"smoothing\":1.3,\"width\":1},\"marker\":{\"color\":\"rgb(141, 160, 203)\"},\"name\":\"Europe\",\"r\":[0.8670024597822442,0.7571702327990931,0.8974827872144924,0.29716805162549426,0.0770944224817189],\"showlegend\":false,\"theta\":[\"Log GDP\",\"Social Support\",\"Health\",\"Freedom\",\"Generosity\"],\"type\":\"scatterpolar\",\"subplot\":\"polar\"},{\"legendgroup\":\"group3\",\"marker\":{\"color\":\"rgb(141, 160, 203)\"},\"name\":\"Europe\",\"opacity\":0.6,\"orientation\":\"h\",\"x\":[6.230661036132218],\"y\":[\"Europe\"],\"type\":\"bar\",\"xaxis\":\"x\",\"yaxis\":\"y\"},{\"fill\":\"toself\",\"legendgroup\":\"group6\",\"legendgrouptitle\":{\"text\":\"South America\"},\"line\":{\"shape\":\"spline\",\"smoothing\":1.3,\"width\":1},\"marker\":{\"color\":\"rgb(255, 217, 47)\"},\"name\":\"South America\",\"r\":[0.44151682434118467,0.5179240485910475,0.600085600695767,0.40099167526592683,0.0],\"showlegend\":false,\"theta\":[\"Log GDP\",\"Social Support\",\"Health\",\"Freedom\",\"Generosity\"],\"type\":\"scatterpolar\",\"subplot\":\"polar\"},{\"legendgroup\":\"group6\",\"marker\":{\"color\":\"rgb(255 ,217, 47)\"},\"name\":\"South America\",\"opacity\":0.6,\"orientation\":\"h\",\"x\":[5.911475075401276],\"y\":[\"South America\"],\"type\":\"bar\",\"xaxis\":\"x\",\"yaxis\":\"y\"},{\"fill\":\"toself\",\"legendgroup\":\"group2\",\"legendgrouptitle\":{\"text\":\"Asia\"},\"line\":{\"shape\":\"spline\",\"smoothing\":1.3,\"width\":1},\"marker\":{\"color\":\"rgb(252, 141, 98)\"},\"name\":\"Asia\",\"r\":[0.4796947137558277,0.3109846325132237,0.5743640124637936,0.2913650461538698,0.23638656436338631],\"showlegend\":false,\"theta\":[\"Log GDP\",\"Social Support\",\"Health\",\"Freedom\",\"Generosity\"],\"type\":\"scatterpolar\",\"subplot\":\"polar\"},{\"legendgroup\":\"group2\",\"marker\":{\"color\":\"rgb(252, 141, 98)\"},\"name\":\"Asia\",\"opacity\":0.6,\"orientation\":\"h\",\"x\":[5.314342962278353],\"y\":[\"Asia\"],\"type\":\"bar\",\"xaxis\":\"x\",\"yaxis\":\"y\"},{\"fill\":\"toself\",\"legendgroup\":\"group1\",\"legendgrouptitle\":{\"text\":\"Africa\"},\"line\":{\"shape\":\"spline\",\"smoothing\":1.3,\"width\":1},\"marker\":{\"color\":\"rgb(102, 194, 165)\"},\"name\":\"Africa\",\"r\":[0.0,0.0,0.0,0.0,0.0164596807913647],\"showlegend\":false,\"theta\":[\"Log GDP\",\"Social Support\",\"Health\",\"Freedom\",\"Generosity\"],\"type\":\"scatterpolar\",\"subplot\":\"polar\"},{\"legendgroup\":\"group1\",\"marker\":{\"color\":\"rgb(102, 194, 165)\"},\"name\":\"Africa\",\"opacity\":0.6,\"orientation\":\"h\",\"x\":[4.394343394911691],\"y\":[\"Africa\"],\"type\":\"bar\",\"xaxis\":\"x\",\"yaxis\":\"y\"}],                        {\"template\":{\"data\":{\"barpolar\":[{\"marker\":{\"line\":{\"color\":\"white\",\"width\":0.5},\"pattern\":{\"fillmode\":\"overlay\",\"size\":10,\"solidity\":0.2}},\"type\":\"barpolar\"}],\"bar\":[{\"error_x\":{\"color\":\"#2a3f5f\"},\"error_y\":{\"color\":\"#2a3f5f\"},\"marker\":{\"line\":{\"color\":\"white\",\"width\":0.5},\"pattern\":{\"fillmode\":\"overlay\",\"size\":10,\"solidity\":0.2}},\"type\":\"bar\"}],\"carpet\":[{\"aaxis\":{\"endlinecolor\":\"#2a3f5f\",\"gridcolor\":\"#C8D4E3\",\"linecolor\":\"#C8D4E3\",\"minorgridcolor\":\"#C8D4E3\",\"startlinecolor\":\"#2a3f5f\"},\"baxis\":{\"endlinecolor\":\"#2a3f5f\",\"gridcolor\":\"#C8D4E3\",\"linecolor\":\"#C8D4E3\",\"minorgridcolor\":\"#C8D4E3\",\"startlinecolor\":\"#2a3f5f\"},\"type\":\"carpet\"}],\"choropleth\":[{\"colorbar\":{\"outlinewidth\":0,\"ticks\":\"\"},\"type\":\"choropleth\"}],\"contourcarpet\":[{\"colorbar\":{\"outlinewidth\":0,\"ticks\":\"\"},\"type\":\"contourcarpet\"}],\"contour\":[{\"colorbar\":{\"outlinewidth\":0,\"ticks\":\"\"},\"colorscale\":[[0.0,\"#0d0887\"],[0.1111111111111111,\"#46039f\"],[0.2222222222222222,\"#7201a8\"],[0.3333333333333333,\"#9c179e\"],[0.4444444444444444,\"#bd3786\"],[0.5555555555555556,\"#d8576b\"],[0.6666666666666666,\"#ed7953\"],[0.7777777777777778,\"#fb9f3a\"],[0.8888888888888888,\"#fdca26\"],[1.0,\"#f0f921\"]],\"type\":\"contour\"}],\"heatmapgl\":[{\"colorbar\":{\"outlinewidth\":0,\"ticks\":\"\"},\"colorscale\":[[0.0,\"#0d0887\"],[0.1111111111111111,\"#46039f\"],[0.2222222222222222,\"#7201a8\"],[0.3333333333333333,\"#9c179e\"],[0.4444444444444444,\"#bd3786\"],[0.5555555555555556,\"#d8576b\"],[0.6666666666666666,\"#ed7953\"],[0.7777777777777778,\"#fb9f3a\"],[0.8888888888888888,\"#fdca26\"],[1.0,\"#f0f921\"]],\"type\":\"heatmapgl\"}],\"heatmap\":[{\"colorbar\":{\"outlinewidth\":0,\"ticks\":\"\"},\"colorscale\":[[0.0,\"#0d0887\"],[0.1111111111111111,\"#46039f\"],[0.2222222222222222,\"#7201a8\"],[0.3333333333333333,\"#9c179e\"],[0.4444444444444444,\"#bd3786\"],[0.5555555555555556,\"#d8576b\"],[0.6666666666666666,\"#ed7953\"],[0.7777777777777778,\"#fb9f3a\"],[0.8888888888888888,\"#fdca26\"],[1.0,\"#f0f921\"]],\"type\":\"heatmap\"}],\"histogram2dcontour\":[{\"colorbar\":{\"outlinewidth\":0,\"ticks\":\"\"},\"colorscale\":[[0.0,\"#0d0887\"],[0.1111111111111111,\"#46039f\"],[0.2222222222222222,\"#7201a8\"],[0.3333333333333333,\"#9c179e\"],[0.4444444444444444,\"#bd3786\"],[0.5555555555555556,\"#d8576b\"],[0.6666666666666666,\"#ed7953\"],[0.7777777777777778,\"#fb9f3a\"],[0.8888888888888888,\"#fdca26\"],[1.0,\"#f0f921\"]],\"type\":\"histogram2dcontour\"}],\"histogram2d\":[{\"colorbar\":{\"outlinewidth\":0,\"ticks\":\"\"},\"colorscale\":[[0.0,\"#0d0887\"],[0.1111111111111111,\"#46039f\"],[0.2222222222222222,\"#7201a8\"],[0.3333333333333333,\"#9c179e\"],[0.4444444444444444,\"#bd3786\"],[0.5555555555555556,\"#d8576b\"],[0.6666666666666666,\"#ed7953\"],[0.7777777777777778,\"#fb9f3a\"],[0.8888888888888888,\"#fdca26\"],[1.0,\"#f0f921\"]],\"type\":\"histogram2d\"}],\"histogram\":[{\"marker\":{\"pattern\":{\"fillmode\":\"overlay\",\"size\":10,\"solidity\":0.2}},\"type\":\"histogram\"}],\"mesh3d\":[{\"colorbar\":{\"outlinewidth\":0,\"ticks\":\"\"},\"type\":\"mesh3d\"}],\"parcoords\":[{\"line\":{\"colorbar\":{\"outlinewidth\":0,\"ticks\":\"\"}},\"type\":\"parcoords\"}],\"pie\":[{\"automargin\":true,\"type\":\"pie\"}],\"scatter3d\":[{\"line\":{\"colorbar\":{\"outlinewidth\":0,\"ticks\":\"\"}},\"marker\":{\"colorbar\":{\"outlinewidth\":0,\"ticks\":\"\"}},\"type\":\"scatter3d\"}],\"scattercarpet\":[{\"marker\":{\"colorbar\":{\"outlinewidth\":0,\"ticks\":\"\"}},\"type\":\"scattercarpet\"}],\"scattergeo\":[{\"marker\":{\"colorbar\":{\"outlinewidth\":0,\"ticks\":\"\"}},\"type\":\"scattergeo\"}],\"scattergl\":[{\"marker\":{\"colorbar\":{\"outlinewidth\":0,\"ticks\":\"\"}},\"type\":\"scattergl\"}],\"scattermapbox\":[{\"marker\":{\"colorbar\":{\"outlinewidth\":0,\"ticks\":\"\"}},\"type\":\"scattermapbox\"}],\"scatterpolargl\":[{\"marker\":{\"colorbar\":{\"outlinewidth\":0,\"ticks\":\"\"}},\"type\":\"scatterpolargl\"}],\"scatterpolar\":[{\"marker\":{\"colorbar\":{\"outlinewidth\":0,\"ticks\":\"\"}},\"type\":\"scatterpolar\"}],\"scatter\":[{\"fillpattern\":{\"fillmode\":\"overlay\",\"size\":10,\"solidity\":0.2},\"type\":\"scatter\"}],\"scatterternary\":[{\"marker\":{\"colorbar\":{\"outlinewidth\":0,\"ticks\":\"\"}},\"type\":\"scatterternary\"}],\"surface\":[{\"colorbar\":{\"outlinewidth\":0,\"ticks\":\"\"},\"colorscale\":[[0.0,\"#0d0887\"],[0.1111111111111111,\"#46039f\"],[0.2222222222222222,\"#7201a8\"],[0.3333333333333333,\"#9c179e\"],[0.4444444444444444,\"#bd3786\"],[0.5555555555555556,\"#d8576b\"],[0.6666666666666666,\"#ed7953\"],[0.7777777777777778,\"#fb9f3a\"],[0.8888888888888888,\"#fdca26\"],[1.0,\"#f0f921\"]],\"type\":\"surface\"}],\"table\":[{\"cells\":{\"fill\":{\"color\":\"#EBF0F8\"},\"line\":{\"color\":\"white\"}},\"header\":{\"fill\":{\"color\":\"#C8D4E3\"},\"line\":{\"color\":\"white\"}},\"type\":\"table\"}]},\"layout\":{\"annotationdefaults\":{\"arrowcolor\":\"#2a3f5f\",\"arrowhead\":0,\"arrowwidth\":1},\"autotypenumbers\":\"strict\",\"coloraxis\":{\"colorbar\":{\"outlinewidth\":0,\"ticks\":\"\"}},\"colorscale\":{\"diverging\":[[0,\"#8e0152\"],[0.1,\"#c51b7d\"],[0.2,\"#de77ae\"],[0.3,\"#f1b6da\"],[0.4,\"#fde0ef\"],[0.5,\"#f7f7f7\"],[0.6,\"#e6f5d0\"],[0.7,\"#b8e186\"],[0.8,\"#7fbc41\"],[0.9,\"#4d9221\"],[1,\"#276419\"]],\"sequential\":[[0.0,\"#0d0887\"],[0.1111111111111111,\"#46039f\"],[0.2222222222222222,\"#7201a8\"],[0.3333333333333333,\"#9c179e\"],[0.4444444444444444,\"#bd3786\"],[0.5555555555555556,\"#d8576b\"],[0.6666666666666666,\"#ed7953\"],[0.7777777777777778,\"#fb9f3a\"],[0.8888888888888888,\"#fdca26\"],[1.0,\"#f0f921\"]],\"sequentialminus\":[[0.0,\"#0d0887\"],[0.1111111111111111,\"#46039f\"],[0.2222222222222222,\"#7201a8\"],[0.3333333333333333,\"#9c179e\"],[0.4444444444444444,\"#bd3786\"],[0.5555555555555556,\"#d8576b\"],[0.6666666666666666,\"#ed7953\"],[0.7777777777777778,\"#fb9f3a\"],[0.8888888888888888,\"#fdca26\"],[1.0,\"#f0f921\"]]},\"colorway\":[\"#636efa\",\"#EF553B\",\"#00cc96\",\"#ab63fa\",\"#FFA15A\",\"#19d3f3\",\"#FF6692\",\"#B6E880\",\"#FF97FF\",\"#FECB52\"],\"font\":{\"color\":\"#2a3f5f\"},\"geo\":{\"bgcolor\":\"white\",\"lakecolor\":\"white\",\"landcolor\":\"white\",\"showlakes\":true,\"showland\":true,\"subunitcolor\":\"#C8D4E3\"},\"hoverlabel\":{\"align\":\"left\"},\"hovermode\":\"closest\",\"mapbox\":{\"style\":\"light\"},\"paper_bgcolor\":\"white\",\"plot_bgcolor\":\"white\",\"polar\":{\"angularaxis\":{\"gridcolor\":\"#EBF0F8\",\"linecolor\":\"#EBF0F8\",\"ticks\":\"\"},\"bgcolor\":\"white\",\"radialaxis\":{\"gridcolor\":\"#EBF0F8\",\"linecolor\":\"#EBF0F8\",\"ticks\":\"\"}},\"scene\":{\"xaxis\":{\"backgroundcolor\":\"white\",\"gridcolor\":\"#DFE8F3\",\"gridwidth\":2,\"linecolor\":\"#EBF0F8\",\"showbackground\":true,\"ticks\":\"\",\"zerolinecolor\":\"#EBF0F8\"},\"yaxis\":{\"backgroundcolor\":\"white\",\"gridcolor\":\"#DFE8F3\",\"gridwidth\":2,\"linecolor\":\"#EBF0F8\",\"showbackground\":true,\"ticks\":\"\",\"zerolinecolor\":\"#EBF0F8\"},\"zaxis\":{\"backgroundcolor\":\"white\",\"gridcolor\":\"#DFE8F3\",\"gridwidth\":2,\"linecolor\":\"#EBF0F8\",\"showbackground\":true,\"ticks\":\"\",\"zerolinecolor\":\"#EBF0F8\"}},\"shapedefaults\":{\"line\":{\"color\":\"#2a3f5f\"}},\"ternary\":{\"aaxis\":{\"gridcolor\":\"#DFE8F3\",\"linecolor\":\"#A2B1C6\",\"ticks\":\"\"},\"baxis\":{\"gridcolor\":\"#DFE8F3\",\"linecolor\":\"#A2B1C6\",\"ticks\":\"\"},\"bgcolor\":\"white\",\"caxis\":{\"gridcolor\":\"#DFE8F3\",\"linecolor\":\"#A2B1C6\",\"ticks\":\"\"}},\"title\":{\"x\":0.05},\"xaxis\":{\"automargin\":true,\"gridcolor\":\"#EBF0F8\",\"linecolor\":\"#EBF0F8\",\"ticks\":\"\",\"title\":{\"standoff\":15},\"zerolinecolor\":\"#EBF0F8\",\"zerolinewidth\":2},\"yaxis\":{\"automargin\":true,\"gridcolor\":\"#EBF0F8\",\"linecolor\":\"#EBF0F8\",\"ticks\":\"\",\"title\":{\"standoff\":15},\"zerolinecolor\":\"#EBF0F8\",\"zerolinewidth\":2}}},\"polar\":{\"domain\":{\"x\":[0.0,0.4],\"y\":[0.0,1.0]},\"radialaxis\":{\"tickfont\":{\"size\":10},\"visible\":true,\"range\":[0,1.2],\"showticklabels\":true,\"ticks\":\"inside\"},\"angularaxis\":{\"tickfont\":{\"size\":12},\"rotation\":45}},\"xaxis\":{\"anchor\":\"y\",\"domain\":[0.6000000000000001,1.0],\"tickfont\":{\"size\":12},\"title\":{\"font\":{\"size\":13},\"text\":\"Average Happiness Score\"}},\"yaxis\":{\"anchor\":\"x\",\"domain\":[0.0,1.0],\"tickfont\":{\"size\":12},\"title\":{\"font\":{\"size\":13},\"text\":\"Continent\"}},\"legend\":{\"font\":{\"size\":12},\"title\":{\"text\":\"Continent\"},\"orientation\":\"v\",\"yanchor\":\"bottom\",\"y\":0.1,\"xanchor\":\"right\",\"x\":1.2},\"font\":{\"size\":12},\"title\":{\"text\":\"Happiness Score by Continent\",\"font\":{\"size\":18}},\"showlegend\":true,\"height\":400,\"width\":1000},                        {\"responsive\": true}                    ).then(function(){\n",
       "                            \n",
       "var gd = document.getElementById('835d089e-aa8b-4335-905d-93a7a3376ee4');\n",
       "var x = new MutationObserver(function (mutations, observer) {{\n",
       "        var display = window.getComputedStyle(gd).display;\n",
       "        if (!display || display === 'none') {{\n",
       "            console.log([gd, 'removed!']);\n",
       "            Plotly.purge(gd);\n",
       "            observer.disconnect();\n",
       "        }}\n",
       "}});\n",
       "\n",
       "// Listen for the removal of the full notebook cells\n",
       "var notebookContainer = gd.closest('#notebook-container');\n",
       "if (notebookContainer) {{\n",
       "    x.observe(notebookContainer, {childList: true});\n",
       "}}\n",
       "\n",
       "// Listen for the clearing of the current output cell\n",
       "var outputEl = gd.closest('.output');\n",
       "if (outputEl) {{\n",
       "    x.observe(outputEl, {childList: true});\n",
       "}}\n",
       "\n",
       "                        })                };                });            </script>        </div>"
      ]
     },
     "metadata": {},
     "output_type": "display_data"
    }
   ],
   "source": [
    "from plotly.subplots import make_subplots\n",
    "\n",
    "# Drop the Columns\n",
    "df_radar = df.drop(['Confidence in Government', 'Corruption', 'Positive Affect', 'Negative Affect','Happiness Score'], axis = 1)\n",
    "\n",
    "df_happiness = df[['Happiness Score', 'continent']]\n",
    "\n",
    "# Create a new dataframe for each continent\n",
    "df_africa = df_radar[df['continent'] == 'Africa']\n",
    "df_asia = df_radar[df['continent'] == 'Asia']\n",
    "df_europe = df_radar[df['continent'] == 'Europe']\n",
    "df_north_america = df_radar[df['continent'] == 'North America']\n",
    "df_oceania = df_radar[df['continent'] == 'Oceania']\n",
    "df_south_america = df_radar[df['continent'] == 'South America']\n",
    "\n",
    "# Subplot 1: Africa\n",
    "fig_com1 = make_subplots(rows=1, cols=2, specs=[[{'type':'polar'}, {'type':'xy'}]],\n",
    "                    horizontal_spacing = 0.2, column_widths=[0.5, 0.5],\n",
    "                    shared_yaxes=True, shared_xaxes=True, vertical_spacing=0.1)\n",
    "\n",
    "fig_com1.add_trace(go.Scatterpolar(\n",
    "    r = df_africa.iloc[0, 1:],\n",
    "    theta = df_africa.iloc[:, 1:].columns,\n",
    "    fill = 'toself',\n",
    "    name= df_africa.iloc[0, 0],\n",
    "    marker_color = 'rgb(102, 194, 165)',\n",
    "    line=dict(width=1, shape='spline', smoothing=1.3),\n",
    "    legendgroup='group1',\n",
    "    legendgrouptitle=dict(text='Africa'),\n",
    "    showlegend=False\n",
    "))\n",
    "\n",
    "fig_com1.add_trace(go.Bar(\n",
    "    y = df_happiness[df_happiness['continent'] == 'Africa']['continent'],\n",
    "    x = df_happiness[df_happiness['continent'] == 'Africa']['Happiness Score'],\n",
    "    marker_color = 'rgb(102, 194, 165)',\n",
    "    orientation='h',\n",
    "    opacity=0.6,\n",
    "    name= df_africa.iloc[0, 0],\n",
    "    legendgroup='group1',\n",
    "))\n",
    "\n",
    "# Subplot 2: Asia\n",
    "fig_com2 = make_subplots(rows=1, cols=2, specs=[[{'type':'polar'}, {'type':'xy'}]],\n",
    "                    horizontal_spacing = 0.2, column_widths=[0.5, 0.5])\n",
    "\n",
    "fig_com2.add_trace(go.Scatterpolar(\n",
    "    r = df_asia.iloc[0, 1:],\n",
    "    theta = df_asia.iloc[:, 1:].columns,\n",
    "    fill = 'toself',\n",
    "    name= df_asia.iloc[0, 0],\n",
    "    marker_color = 'rgb(252, 141, 98)',\n",
    "    line=dict(width=1, shape='spline', smoothing=1.3),\n",
    "    legendgroup='group2',\n",
    "    legendgrouptitle=dict(text='Asia'),\n",
    "    showlegend=False\n",
    "))\n",
    "\n",
    "fig_com2.add_trace(go.Bar(\n",
    "    y = df_happiness[df_happiness['continent'] == 'Asia']['continent'],\n",
    "    x = df_happiness[df_happiness['continent'] == 'Asia']['Happiness Score'],\n",
    "    marker_color = 'rgb(252, 141, 98)',\n",
    "    orientation='h',\n",
    "    opacity=0.6,\n",
    "    name= df_asia.iloc[0, 0],\n",
    "    legendgroup='group2',\n",
    "))\n",
    "\n",
    "# Subplot 3: Europe\n",
    "fig_com3 = make_subplots(rows=1, cols=2, specs=[[{'type':'polar'}, {'type':'xy'}]],\n",
    "                    horizontal_spacing = 0.2, column_widths=[0.5, 0.5])\n",
    "\n",
    "fig_com3.add_trace(go.Scatterpolar(\n",
    "    r = df_europe.iloc[0, 1:],\n",
    "    theta = df_europe.iloc[:, 1:].columns,\n",
    "    fill = 'toself',\n",
    "    name= df_europe.iloc[0, 0],\n",
    "    marker_color = 'rgb(141, 160, 203)',\n",
    "    line=dict(width=1, shape='spline', smoothing=1.3),\n",
    "    legendgroup='group3',\n",
    "    legendgrouptitle=dict(text='Europe'),\n",
    "    showlegend=False\n",
    "))\n",
    "\n",
    "fig_com3.add_trace(go.Bar(\n",
    "    y = df_happiness[df_happiness['continent'] == 'Europe']['continent'],\n",
    "    x = df_happiness[df_happiness['continent'] == 'Europe']['Happiness Score'],\n",
    "    marker_color = 'rgb(141, 160, 203)',\n",
    "    orientation='h',\n",
    "    opacity=0.6,\n",
    "    name= df_europe.iloc[0, 0],\n",
    "    legendgroup='group3',\n",
    "))\n",
    "\n",
    "# Subplot 4: North America\n",
    "fig_com4 = make_subplots(rows=1, cols=2, specs=[[{'type':'polar'}, {'type':'xy'}]],\n",
    "                    horizontal_spacing = 0.2, column_widths=[0.5, 0.5])\n",
    "\n",
    "fig_com4.add_trace(go.Scatterpolar(\n",
    "    r = df_north_america.iloc[0, 1:],\n",
    "    theta = df_north_america.iloc[:, 1:].columns,\n",
    "    fill = 'toself',\n",
    "    name= df_north_america.iloc[0, 0],\n",
    "    marker_color = 'rgb(231, 138, 195)',\n",
    "    line=dict(width=1, shape='spline', smoothing=1.3),\n",
    "    legendgroup='group4',\n",
    "    legendgrouptitle=dict(text='North America'),\n",
    "    showlegend=False\n",
    "))\n",
    "\n",
    "fig_com4.add_trace(go.Bar(\n",
    "    y = df_happiness[df_happiness['continent'] == 'North America']['continent'],\n",
    "    x = df_happiness[df_happiness['continent'] == 'North America']['Happiness Score'],\n",
    "    marker_color = 'rgb(231, 138, 195)',\n",
    "    orientation='h',\n",
    "    opacity=0.6,\n",
    "    name= df_north_america.iloc[0, 0],\n",
    "    legendgroup='group4',\n",
    "))\n",
    "\n",
    "# Subplot 5: Oceania\n",
    "fig_com5 = make_subplots(rows=1, cols=2, specs=[[{'type':'polar'}, {'type':'xy'}]],\n",
    "                    horizontal_spacing = 0.2, column_widths=[0.5, 0.5])\n",
    "\n",
    "fig_com5.add_trace(go.Scatterpolar(\n",
    "    r = df_oceania.iloc[0, 1:],\n",
    "    theta = df_oceania.iloc[:, 1:].columns,\n",
    "    fill = 'toself',\n",
    "    name= df_oceania.iloc[0, 0],\n",
    "    marker_color = 'rgb(166, 216, 84)',\n",
    "    line=dict(width=1, shape='spline', smoothing=1.3),\n",
    "    legendgroup='group5',\n",
    "    legendgrouptitle=dict(text='Oceania'),\n",
    "    showlegend=False,                          \n",
    "), row=1, col=1)\n",
    "\n",
    "fig_com5.add_trace(go.Bar(\n",
    "    y = df_happiness[df_happiness['continent'] == 'Oceania']['continent'],\n",
    "    x = df_happiness[df_happiness['continent'] == 'Oceania']['Happiness Score'],\n",
    "    marker_color = 'rgb(166, 216, 84)',\n",
    "    orientation='h',\n",
    "    opacity=0.6,\n",
    "    name= df_oceania.iloc[0, 0],\n",
    "    legendgroup='group5',\n",
    "), row=1, col=2)\n",
    "\n",
    "# Subplot 6: South America\n",
    "fig_com6 = make_subplots(rows=1, cols=2, specs=[[{'type':'polar'}, {'type':'xy'}]],\n",
    "                    horizontal_spacing = 0.2, column_widths=[0.5, 0.5])\n",
    "\n",
    "fig_com6.add_trace(go.Scatterpolar(\n",
    "    r = df_south_america.iloc[0, 1:],\n",
    "    theta = df_south_america.iloc[:, 1:].columns,\n",
    "    fill = 'toself',\n",
    "    name= df_south_america.iloc[0, 0],\n",
    "    marker_color = 'rgb(255, 217, 47)',\n",
    "    line=dict(width=1, shape='spline', smoothing=1.3),\n",
    "    legendgroup='group6',\n",
    "    legendgrouptitle=dict(text='South America'),\n",
    "    showlegend=False,\n",
    "))\n",
    "\n",
    "fig_com6.add_trace(go.Bar(\n",
    "    y = df_happiness[df_happiness['continent'] == 'South America']['continent'],\n",
    "    x = df_happiness[df_happiness['continent'] == 'South America']['Happiness Score'],\n",
    "    marker_color = 'rgb(255 ,217, 47)',\n",
    "    orientation='h',\n",
    "    opacity=0.6,\n",
    "    name= df_south_america.iloc[0, 0],\n",
    "    legendgroup='group6',\n",
    "))\n",
    "\n",
    "# Combine all subplots\n",
    "fig_com_all = make_subplots(rows=1, cols=2, specs=[[{'type':'polar'}, {'type':'xy'}]],\n",
    "                    horizontal_spacing = 0.2, column_widths=[0.5, 0.5],\n",
    "                    shared_xaxes=True, shared_yaxes=True\n",
    "                    )\n",
    "\n",
    "fig_com_all.add_trace(fig_com5.data[0], row=1, col=1)\n",
    "fig_com_all.add_trace(fig_com5.data[1], row=1, col=2)\n",
    "fig_com_all.add_trace(fig_com4.data[0], row=1, col=1)\n",
    "fig_com_all.add_trace(fig_com4.data[1], row=1, col=2)\n",
    "fig_com_all.add_trace(fig_com3.data[0], row=1, col=1)\n",
    "fig_com_all.add_trace(fig_com3.data[1], row=1, col=2)\n",
    "fig_com_all.add_trace(fig_com6.data[0], row=1, col=1)\n",
    "fig_com_all.add_trace(fig_com6.data[1], row=1, col=2)\n",
    "fig_com_all.add_trace(fig_com2.data[0], row=1, col=1)\n",
    "fig_com_all.add_trace(fig_com2.data[1], row=1, col=2)\n",
    "fig_com_all.add_trace(fig_com1.data[0], row=1, col=1)\n",
    "fig_com_all.add_trace(fig_com1.data[1], row=1, col=2)\n",
    "\n",
    "fig_com_all.update_layout(\n",
    "    title = 'Happiness Score by Continent',\n",
    "    # Customize polar plot\n",
    "    polar = dict(\n",
    "        radialaxis = dict(\n",
    "            visible = True,\n",
    "            range = [0, 1.2],\n",
    "            showticklabels = True,\n",
    "            ticks = 'inside',\n",
    "            tickfont=dict(size=10,)\n",
    "            ),\n",
    "        angularaxis = dict(rotation = 45,),\n",
    "        # theta text size\n",
    "        angularaxis_tickfont_size = 12,\n",
    "        ),\n",
    "    showlegend = True,\n",
    "    height = 400,\n",
    "    width = 1000,\n",
    "    # Customize legend\n",
    "    legend=dict(\n",
    "        orientation=\"v\",\n",
    "        yanchor=\"bottom\",\n",
    "        y=0.10,\n",
    "        xanchor=\"right\",\n",
    "        x=1.2,\n",
    "        font=dict(size=12,)\n",
    "    ),\n",
    "    legend_title_text='Continent',\n",
    "    font=dict(size=12,),\n",
    "    # Customize xaxis\n",
    "    xaxis=dict(\n",
    "        tickfont=dict(\n",
    "            size=12,\n",
    "        ),\n",
    "        title=dict(\n",
    "            text=\"Average Happiness Score\",\n",
    "            font=dict(size=13,)),\n",
    "    ),\n",
    "    # Customize yaxis\n",
    "    yaxis=dict(\n",
    "        tickfont=dict(size=12,),\n",
    "        title=dict(\n",
    "            text=\"Continent\",\n",
    "            font=dict(size=13,)),\n",
    "    ),\n",
    "\n",
    "    # title text size\n",
    "    title_font_size = 18,\n",
    "    # background color\n",
    "    template = 'plotly_white',\n",
    ")\n",
    "\n",
    "fig_com_all.show()                                    "
   ]
  },
  {
   "cell_type": "code",
   "execution_count": 8,
   "metadata": {},
   "outputs": [],
   "source": [
    "# download plot\n",
    "#fig_com_all.write_html(\"happiness_score(radar&bar).html\")"
   ]
  }
 ],
 "metadata": {
  "kernelspec": {
   "display_name": "anly503",
   "language": "python",
   "name": "python3"
  },
  "language_info": {
   "codemirror_mode": {
    "name": "ipython",
    "version": 3
   },
   "file_extension": ".py",
   "mimetype": "text/x-python",
   "name": "python",
   "nbconvert_exporter": "python",
   "pygments_lexer": "ipython3",
   "version": "3.10.8"
  },
  "orig_nbformat": 4
 },
 "nbformat": 4,
 "nbformat_minor": 2
}
