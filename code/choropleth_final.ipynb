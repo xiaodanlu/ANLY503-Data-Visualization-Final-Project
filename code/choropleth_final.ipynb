{
 "cells": [
  {
   "attachments": {},
   "cell_type": "markdown",
   "metadata": {},
   "source": [
    "## Import Data"
   ]
  },
  {
   "cell_type": "code",
   "execution_count": 10,
   "metadata": {},
   "outputs": [
    {
     "data": {
      "text/html": [
       "<div>\n",
       "<style scoped>\n",
       "    .dataframe tbody tr th:only-of-type {\n",
       "        vertical-align: middle;\n",
       "    }\n",
       "\n",
       "    .dataframe tbody tr th {\n",
       "        vertical-align: top;\n",
       "    }\n",
       "\n",
       "    .dataframe thead th {\n",
       "        text-align: right;\n",
       "    }\n",
       "</style>\n",
       "<table border=\"1\" class=\"dataframe\">\n",
       "  <thead>\n",
       "    <tr style=\"text-align: right;\">\n",
       "      <th></th>\n",
       "      <th>Unnamed: 0</th>\n",
       "      <th>Country</th>\n",
       "      <th>year</th>\n",
       "      <th>Happiness Score</th>\n",
       "      <th>Log GDP per capita</th>\n",
       "      <th>Social support</th>\n",
       "      <th>Health</th>\n",
       "      <th>Freedom to make life choices</th>\n",
       "      <th>Generosity</th>\n",
       "      <th>Corruption</th>\n",
       "      <th>...</th>\n",
       "      <th>Negative affect</th>\n",
       "      <th>Confidence in national government</th>\n",
       "      <th>continent</th>\n",
       "      <th>Country Code</th>\n",
       "      <th>Time Code</th>\n",
       "      <th>CO2 emissions</th>\n",
       "      <th>Population</th>\n",
       "      <th>Unemployment</th>\n",
       "      <th>Children out of school</th>\n",
       "      <th>Adjusted net national income</th>\n",
       "    </tr>\n",
       "  </thead>\n",
       "  <tbody>\n",
       "    <tr>\n",
       "      <th>0</th>\n",
       "      <td>0</td>\n",
       "      <td>Afghanistan</td>\n",
       "      <td>2008</td>\n",
       "      <td>3.723590</td>\n",
       "      <td>7.302574</td>\n",
       "      <td>0.450662</td>\n",
       "      <td>50.500000</td>\n",
       "      <td>0.718114</td>\n",
       "      <td>0.173169</td>\n",
       "      <td>0.881686</td>\n",
       "      <td>...</td>\n",
       "      <td>0.258195</td>\n",
       "      <td>0.612072</td>\n",
       "      <td>Asia</td>\n",
       "      <td>AFG</td>\n",
       "      <td>YR2008</td>\n",
       "      <td>3559.999943</td>\n",
       "      <td>26427199.0</td>\n",
       "      <td>2.49</td>\n",
       "      <td>NaN</td>\n",
       "      <td>NaN</td>\n",
       "    </tr>\n",
       "    <tr>\n",
       "      <th>1</th>\n",
       "      <td>1</td>\n",
       "      <td>Afghanistan</td>\n",
       "      <td>2009</td>\n",
       "      <td>4.401778</td>\n",
       "      <td>7.472446</td>\n",
       "      <td>0.552308</td>\n",
       "      <td>50.799999</td>\n",
       "      <td>0.678896</td>\n",
       "      <td>0.195469</td>\n",
       "      <td>0.850035</td>\n",
       "      <td>...</td>\n",
       "      <td>0.237092</td>\n",
       "      <td>0.611545</td>\n",
       "      <td>Asia</td>\n",
       "      <td>AFG</td>\n",
       "      <td>YR2009</td>\n",
       "      <td>4880.000114</td>\n",
       "      <td>27385307.0</td>\n",
       "      <td>NaN</td>\n",
       "      <td>NaN</td>\n",
       "      <td>1.129747e+10</td>\n",
       "    </tr>\n",
       "    <tr>\n",
       "      <th>2</th>\n",
       "      <td>2</td>\n",
       "      <td>Afghanistan</td>\n",
       "      <td>2010</td>\n",
       "      <td>4.758381</td>\n",
       "      <td>7.579183</td>\n",
       "      <td>0.539075</td>\n",
       "      <td>51.099998</td>\n",
       "      <td>0.600127</td>\n",
       "      <td>0.125859</td>\n",
       "      <td>0.706766</td>\n",
       "      <td>...</td>\n",
       "      <td>0.275324</td>\n",
       "      <td>0.299357</td>\n",
       "      <td>Asia</td>\n",
       "      <td>AFG</td>\n",
       "      <td>YR2010</td>\n",
       "      <td>7110.000134</td>\n",
       "      <td>28189672.0</td>\n",
       "      <td>NaN</td>\n",
       "      <td>NaN</td>\n",
       "      <td>1.448363e+10</td>\n",
       "    </tr>\n",
       "    <tr>\n",
       "      <th>3</th>\n",
       "      <td>3</td>\n",
       "      <td>Afghanistan</td>\n",
       "      <td>2011</td>\n",
       "      <td>3.831719</td>\n",
       "      <td>7.552006</td>\n",
       "      <td>0.521104</td>\n",
       "      <td>51.400002</td>\n",
       "      <td>0.495901</td>\n",
       "      <td>0.167723</td>\n",
       "      <td>0.731109</td>\n",
       "      <td>...</td>\n",
       "      <td>0.267175</td>\n",
       "      <td>0.307386</td>\n",
       "      <td>Asia</td>\n",
       "      <td>AFG</td>\n",
       "      <td>YR2011</td>\n",
       "      <td>8930.000305</td>\n",
       "      <td>29249157.0</td>\n",
       "      <td>NaN</td>\n",
       "      <td>NaN</td>\n",
       "      <td>1.626732e+10</td>\n",
       "    </tr>\n",
       "    <tr>\n",
       "      <th>4</th>\n",
       "      <td>4</td>\n",
       "      <td>Afghanistan</td>\n",
       "      <td>2012</td>\n",
       "      <td>3.782938</td>\n",
       "      <td>7.637953</td>\n",
       "      <td>0.520637</td>\n",
       "      <td>51.700001</td>\n",
       "      <td>0.530935</td>\n",
       "      <td>0.241247</td>\n",
       "      <td>0.775620</td>\n",
       "      <td>...</td>\n",
       "      <td>0.267919</td>\n",
       "      <td>0.435440</td>\n",
       "      <td>Asia</td>\n",
       "      <td>AFG</td>\n",
       "      <td>YR2012</td>\n",
       "      <td>8079.999924</td>\n",
       "      <td>30466479.0</td>\n",
       "      <td>1.69</td>\n",
       "      <td>NaN</td>\n",
       "      <td>1.822551e+10</td>\n",
       "    </tr>\n",
       "  </tbody>\n",
       "</table>\n",
       "<p>5 rows × 21 columns</p>\n",
       "</div>"
      ],
      "text/plain": [
       "   Unnamed: 0      Country  year  Happiness Score  Log GDP per capita  \\\n",
       "0           0  Afghanistan  2008         3.723590            7.302574   \n",
       "1           1  Afghanistan  2009         4.401778            7.472446   \n",
       "2           2  Afghanistan  2010         4.758381            7.579183   \n",
       "3           3  Afghanistan  2011         3.831719            7.552006   \n",
       "4           4  Afghanistan  2012         3.782938            7.637953   \n",
       "\n",
       "   Social support     Health  Freedom to make life choices  Generosity  \\\n",
       "0        0.450662  50.500000                      0.718114    0.173169   \n",
       "1        0.552308  50.799999                      0.678896    0.195469   \n",
       "2        0.539075  51.099998                      0.600127    0.125859   \n",
       "3        0.521104  51.400002                      0.495901    0.167723   \n",
       "4        0.520637  51.700001                      0.530935    0.241247   \n",
       "\n",
       "   Corruption  ...  Negative affect  Confidence in national government  \\\n",
       "0    0.881686  ...         0.258195                           0.612072   \n",
       "1    0.850035  ...         0.237092                           0.611545   \n",
       "2    0.706766  ...         0.275324                           0.299357   \n",
       "3    0.731109  ...         0.267175                           0.307386   \n",
       "4    0.775620  ...         0.267919                           0.435440   \n",
       "\n",
       "   continent Country Code Time Code CO2 emissions  Population  Unemployment  \\\n",
       "0       Asia          AFG    YR2008   3559.999943  26427199.0          2.49   \n",
       "1       Asia          AFG    YR2009   4880.000114  27385307.0           NaN   \n",
       "2       Asia          AFG    YR2010   7110.000134  28189672.0           NaN   \n",
       "3       Asia          AFG    YR2011   8930.000305  29249157.0           NaN   \n",
       "4       Asia          AFG    YR2012   8079.999924  30466479.0          1.69   \n",
       "\n",
       "   Children out of school  Adjusted net national income  \n",
       "0                     NaN                           NaN  \n",
       "1                     NaN                  1.129747e+10  \n",
       "2                     NaN                  1.448363e+10  \n",
       "3                     NaN                  1.626732e+10  \n",
       "4                     NaN                  1.822551e+10  \n",
       "\n",
       "[5 rows x 21 columns]"
      ]
     },
     "execution_count": 10,
     "metadata": {},
     "output_type": "execute_result"
    }
   ],
   "source": [
    "import pandas as pd\n",
    "import numpy as np\n",
    "\n",
    "data = pd.read_csv(\"../data/combine_data.csv\")\n",
    "data.head()"
   ]
  },
  {
   "cell_type": "code",
   "execution_count": 2,
   "metadata": {},
   "outputs": [
    {
     "data": {
      "text/plain": [
       "count    1648.000000\n",
       "mean        5.524484\n",
       "std         1.134368\n",
       "min         2.178809\n",
       "25%         4.658249\n",
       "50%         5.478749\n",
       "75%         6.377864\n",
       "max         7.970892\n",
       "Name: Happiness Score, dtype: float64"
      ]
     },
     "execution_count": 2,
     "metadata": {},
     "output_type": "execute_result"
    }
   ],
   "source": [
    "# summary of happiness score\n",
    "data['Happiness Score'].describe()"
   ]
  },
  {
   "cell_type": "code",
   "execution_count": 9,
   "metadata": {},
   "outputs": [
    {
     "data": {
      "text/plain": [
       "Text(0.5, 1.0, 'Histogram of Happiness Score')"
      ]
     },
     "execution_count": 9,
     "metadata": {},
     "output_type": "execute_result"
    },
    {
     "data": {
      "image/png": "[encoded data removed]",
      "text/plain": [
       "<Figure size 1000x600 with 1 Axes>"
      ]
     },
     "metadata": {},
     "output_type": "display_data"
    }
   ],
   "source": [
    "# histogram of happiness score\n",
    "\n",
    "import matplotlib.pyplot as plt\n",
    "import seaborn as sns\n",
    "sns.set_style('whitegrid')\n",
    "\n",
    "plt.figure(figsize=(10,6))\n",
    "plt.hist(data['Happiness Score'], bins=20, color='purple')\n",
    "plt.xlabel('Happiness Score')\n",
    "plt.ylabel('Count')\n",
    "plt.title('Histogram of Happiness Score')"
   ]
  },
  {
   "cell_type": "code",
   "execution_count": 11,
   "metadata": {},
   "outputs": [
    {
     "data": {
      "text/html": [
       "<div>\n",
       "<style scoped>\n",
       "    .dataframe tbody tr th:only-of-type {\n",
       "        vertical-align: middle;\n",
       "    }\n",
       "\n",
       "    .dataframe tbody tr th {\n",
       "        vertical-align: top;\n",
       "    }\n",
       "\n",
       "    .dataframe thead th {\n",
       "        text-align: right;\n",
       "    }\n",
       "</style>\n",
       "<table border=\"1\" class=\"dataframe\">\n",
       "  <thead>\n",
       "    <tr style=\"text-align: right;\">\n",
       "      <th></th>\n",
       "      <th>Unnamed: 0</th>\n",
       "      <th>Country</th>\n",
       "      <th>year</th>\n",
       "      <th>Happiness Score</th>\n",
       "      <th>Log GDP per capita</th>\n",
       "      <th>Social support</th>\n",
       "      <th>Health</th>\n",
       "      <th>Freedom to make life choices</th>\n",
       "      <th>Generosity</th>\n",
       "      <th>Corruption</th>\n",
       "      <th>...</th>\n",
       "      <th>Confidence in national government</th>\n",
       "      <th>continent</th>\n",
       "      <th>Country Code</th>\n",
       "      <th>Time Code</th>\n",
       "      <th>CO2 emissions</th>\n",
       "      <th>Population</th>\n",
       "      <th>Unemployment</th>\n",
       "      <th>Children out of school</th>\n",
       "      <th>Adjusted net national income</th>\n",
       "      <th>emoji</th>\n",
       "    </tr>\n",
       "  </thead>\n",
       "  <tbody>\n",
       "    <tr>\n",
       "      <th>0</th>\n",
       "      <td>0</td>\n",
       "      <td>Afghanistan</td>\n",
       "      <td>2008</td>\n",
       "      <td>3.723590</td>\n",
       "      <td>7.302574</td>\n",
       "      <td>0.450662</td>\n",
       "      <td>50.500000</td>\n",
       "      <td>0.718114</td>\n",
       "      <td>0.173169</td>\n",
       "      <td>0.881686</td>\n",
       "      <td>...</td>\n",
       "      <td>0.612072</td>\n",
       "      <td>Asia</td>\n",
       "      <td>AFG</td>\n",
       "      <td>YR2008</td>\n",
       "      <td>3559.999943</td>\n",
       "      <td>26427199.0</td>\n",
       "      <td>2.49</td>\n",
       "      <td>NaN</td>\n",
       "      <td>NaN</td>\n",
       "      <td>🤢</td>\n",
       "    </tr>\n",
       "    <tr>\n",
       "      <th>1</th>\n",
       "      <td>1</td>\n",
       "      <td>Afghanistan</td>\n",
       "      <td>2009</td>\n",
       "      <td>4.401778</td>\n",
       "      <td>7.472446</td>\n",
       "      <td>0.552308</td>\n",
       "      <td>50.799999</td>\n",
       "      <td>0.678896</td>\n",
       "      <td>0.195469</td>\n",
       "      <td>0.850035</td>\n",
       "      <td>...</td>\n",
       "      <td>0.611545</td>\n",
       "      <td>Asia</td>\n",
       "      <td>AFG</td>\n",
       "      <td>YR2009</td>\n",
       "      <td>4880.000114</td>\n",
       "      <td>27385307.0</td>\n",
       "      <td>NaN</td>\n",
       "      <td>NaN</td>\n",
       "      <td>1.129747e+10</td>\n",
       "      <td>🤢</td>\n",
       "    </tr>\n",
       "    <tr>\n",
       "      <th>2</th>\n",
       "      <td>2</td>\n",
       "      <td>Afghanistan</td>\n",
       "      <td>2010</td>\n",
       "      <td>4.758381</td>\n",
       "      <td>7.579183</td>\n",
       "      <td>0.539075</td>\n",
       "      <td>51.099998</td>\n",
       "      <td>0.600127</td>\n",
       "      <td>0.125859</td>\n",
       "      <td>0.706766</td>\n",
       "      <td>...</td>\n",
       "      <td>0.299357</td>\n",
       "      <td>Asia</td>\n",
       "      <td>AFG</td>\n",
       "      <td>YR2010</td>\n",
       "      <td>7110.000134</td>\n",
       "      <td>28189672.0</td>\n",
       "      <td>NaN</td>\n",
       "      <td>NaN</td>\n",
       "      <td>1.448363e+10</td>\n",
       "      <td>🤖</td>\n",
       "    </tr>\n",
       "    <tr>\n",
       "      <th>3</th>\n",
       "      <td>3</td>\n",
       "      <td>Afghanistan</td>\n",
       "      <td>2011</td>\n",
       "      <td>3.831719</td>\n",
       "      <td>7.552006</td>\n",
       "      <td>0.521104</td>\n",
       "      <td>51.400002</td>\n",
       "      <td>0.495901</td>\n",
       "      <td>0.167723</td>\n",
       "      <td>0.731109</td>\n",
       "      <td>...</td>\n",
       "      <td>0.307386</td>\n",
       "      <td>Asia</td>\n",
       "      <td>AFG</td>\n",
       "      <td>YR2011</td>\n",
       "      <td>8930.000305</td>\n",
       "      <td>29249157.0</td>\n",
       "      <td>NaN</td>\n",
       "      <td>NaN</td>\n",
       "      <td>1.626732e+10</td>\n",
       "      <td>🤢</td>\n",
       "    </tr>\n",
       "    <tr>\n",
       "      <th>4</th>\n",
       "      <td>4</td>\n",
       "      <td>Afghanistan</td>\n",
       "      <td>2012</td>\n",
       "      <td>3.782938</td>\n",
       "      <td>7.637953</td>\n",
       "      <td>0.520637</td>\n",
       "      <td>51.700001</td>\n",
       "      <td>0.530935</td>\n",
       "      <td>0.241247</td>\n",
       "      <td>0.775620</td>\n",
       "      <td>...</td>\n",
       "      <td>0.435440</td>\n",
       "      <td>Asia</td>\n",
       "      <td>AFG</td>\n",
       "      <td>YR2012</td>\n",
       "      <td>8079.999924</td>\n",
       "      <td>30466479.0</td>\n",
       "      <td>1.69</td>\n",
       "      <td>NaN</td>\n",
       "      <td>1.822551e+10</td>\n",
       "      <td>🤢</td>\n",
       "    </tr>\n",
       "  </tbody>\n",
       "</table>\n",
       "<p>5 rows × 22 columns</p>\n",
       "</div>"
      ],
      "text/plain": [
       "   Unnamed: 0      Country  year  Happiness Score  Log GDP per capita  \\\n",
       "0           0  Afghanistan  2008         3.723590            7.302574   \n",
       "1           1  Afghanistan  2009         4.401778            7.472446   \n",
       "2           2  Afghanistan  2010         4.758381            7.579183   \n",
       "3           3  Afghanistan  2011         3.831719            7.552006   \n",
       "4           4  Afghanistan  2012         3.782938            7.637953   \n",
       "\n",
       "   Social support     Health  Freedom to make life choices  Generosity  \\\n",
       "0        0.450662  50.500000                      0.718114    0.173169   \n",
       "1        0.552308  50.799999                      0.678896    0.195469   \n",
       "2        0.539075  51.099998                      0.600127    0.125859   \n",
       "3        0.521104  51.400002                      0.495901    0.167723   \n",
       "4        0.520637  51.700001                      0.530935    0.241247   \n",
       "\n",
       "   Corruption  ...  Confidence in national government  continent  \\\n",
       "0    0.881686  ...                           0.612072       Asia   \n",
       "1    0.850035  ...                           0.611545       Asia   \n",
       "2    0.706766  ...                           0.299357       Asia   \n",
       "3    0.731109  ...                           0.307386       Asia   \n",
       "4    0.775620  ...                           0.435440       Asia   \n",
       "\n",
       "   Country Code Time Code CO2 emissions  Population  Unemployment  \\\n",
       "0           AFG    YR2008   3559.999943  26427199.0          2.49   \n",
       "1           AFG    YR2009   4880.000114  27385307.0           NaN   \n",
       "2           AFG    YR2010   7110.000134  28189672.0           NaN   \n",
       "3           AFG    YR2011   8930.000305  29249157.0           NaN   \n",
       "4           AFG    YR2012   8079.999924  30466479.0          1.69   \n",
       "\n",
       "   Children out of school  Adjusted net national income  emoji  \n",
       "0                     NaN                           NaN      🤢  \n",
       "1                     NaN                  1.129747e+10      🤢  \n",
       "2                     NaN                  1.448363e+10      🤖  \n",
       "3                     NaN                  1.626732e+10      🤢  \n",
       "4                     NaN                  1.822551e+10      🤢  \n",
       "\n",
       "[5 rows x 22 columns]"
      ]
     },
     "execution_count": 11,
     "metadata": {},
     "output_type": "execute_result"
    }
   ],
   "source": [
    "# add a column to indicate the happiness emoji\n",
    "def happiness_emoji(x):\n",
    "    if x >= 6:\n",
    "        return '🥰'\n",
    "    elif x >= 4.5:\n",
    "        return '🤖'\n",
    "    else:\n",
    "        return '🤢'\n",
    "    \n",
    "data['emoji'] = data['Happiness Score'].apply(happiness_emoji)\n",
    "data.head()"
   ]
  },
  {
   "attachments": {},
   "cell_type": "markdown",
   "metadata": {},
   "source": [
    "## Import Packages"
   ]
  },
  {
   "cell_type": "code",
   "execution_count": 12,
   "metadata": {},
   "outputs": [],
   "source": [
    "import plotly.graph_objects as go\n",
    "import plotly.express as px\n",
    "import plotly.io as pio\n",
    "\n",
    "pio.renderers.default = \"plotly_mimetype+notebook_connected\""
   ]
  },
  {
   "attachments": {},
   "cell_type": "markdown",
   "metadata": {},
   "source": [
    "##  Choropleth With Animation"
   ]
  },
  {
   "cell_type": "code",
   "execution_count": 23,
   "metadata": {},
   "outputs": [
    {
     "data": {
      "application/vnd.plotly.v1+json": {
       "config": {
        "plotlyServerURL": "https://plot.ly"
       },
       "data": [
        {
         "customdata": [
          [
           "Australia",
           "Oceania",
           2008,
           7.253757476806641,
           "🥰",
           "AUS"
          ],
          [
           "Austria",
           "Europe",
           2008,
           7.180953979492188,
           "🥰",
           "AUT"
          ],
          [
           "Belgium",
           "Europe",
           2008,
           7.116590976715088,
           "🥰",
           "BEL"
          ],
          [
           "Brazil",
           "South America",
           2008,
           6.69142484664917,
           "🥰",
           "BRA"
          ],
          [
           "Canada",
           "North America",
           2008,
           7.4856038093566895,
           "🥰",
           "CAN"
          ],
          [
           "Colombia",
           "South America",
           2008,
           6.168395042419434,
           "🥰",
           "COL"
          ],
          [
           "Costa Rica",
           "South America",
           2008,
           6.850679874420166,
           "🥰",
           "CRI"
          ],
          [
           "Denmark",
           "Europe",
           2008,
           7.970891952514648,
           "🥰",
           "DNK"
          ],
          [
           "Finland",
           "Europe",
           2008,
           7.670626640319824,
           "🥰",
           "FIN"
          ],
          [
           "France",
           "Europe",
           2008,
           7.0080647468566895,
           "🥰",
           "FRA"
          ],
          [
           "Germany",
           "Europe",
           2008,
           6.521790027618408,
           "🥰",
           "DEU"
          ],
          [
           "Guatemala",
           "South America",
           2008,
           6.414494514465332,
           "🥰",
           "GTM"
          ],
          [
           "Iceland",
           "Europe",
           2008,
           6.888284206390381,
           "🥰",
           "ISL"
          ],
          [
           "Ireland",
           "Europe",
           2008,
           7.568029880523682,
           "🥰",
           "IRL"
          ],
          [
           "Israel",
           "Asia",
           2008,
           7.261261463165283,
           "🥰",
           "ISR"
          ],
          [
           "Italy",
           "Europe",
           2008,
           6.779774188995361,
           "🥰",
           "ITA"
          ],
          [
           "Mexico",
           "North America",
           2008,
           6.829036235809326,
           "🥰",
           "MEX"
          ],
          [
           "Netherlands",
           "Europe",
           2008,
           7.631011962890625,
           "🥰",
           "NLD"
          ],
          [
           "New Zealand",
           "Oceania",
           2008,
           7.381170749664307,
           "🥰",
           "NZL"
          ],
          [
           "Norway",
           "Europe",
           2008,
           7.632287502288818,
           "🥰",
           "NOR"
          ],
          [
           "Panama",
           "South America",
           2008,
           6.930903434753418,
           "🥰",
           "PAN"
          ],
          [
           "Saudi Arabia",
           "Asia",
           2008,
           6.811370372772217,
           "🥰",
           "SAU"
          ],
          [
           "Singapore",
           "Asia",
           2008,
           6.641956806182861,
           "🥰",
           "SGP"
          ],
          [
           "Spain",
           "Europe",
           2008,
           7.294472694396973,
           "🥰",
           "ESP"
          ],
          [
           "Sweden",
           "Europe",
           2008,
           7.515997409820557,
           "🥰",
           "SWE"
          ],
          [
           "Trinidad and Tobago",
           null,
           2008,
           6.696444034576416,
           "🥰",
           "TTO"
          ],
          [
           "United Kingdom",
           "Europe",
           2008,
           6.98646354675293,
           "🥰",
           "GBR"
          ],
          [
           "United States",
           "North America",
           2008,
           7.280385971069336,
           "🥰",
           "USA"
          ]
         ],
         "geo": "geo",
         "hovertemplate": "<b>%{hovertext}</b><br><br>emoji=%{customdata[4]}<br>year=%{customdata[2]}<br>Happiness Score=%{customdata[3]}<br>continent=%{customdata[1]}<extra></extra>",
         "hovertext": [
          "Australia",
          "Austria",
          "Belgium",
          "Brazil",
          "Canada",
          "Colombia",
          "Costa Rica",
          "Denmark",
          "Finland",
          "France",
          "Germany",
          "Guatemala",
          "Iceland",
          "Ireland",
          "Israel",
          "Italy",
          "Mexico",
          "Netherlands",
          "New Zealand",
          "Norway",
          "Panama",
          "Saudi Arabia",
          "Singapore",
          "Spain",
          "Sweden",
          "Trinidad and Tobago",
          "United Kingdom",
          "United States"
         ],
         "legendgroup": "🥰",
         "locations": [
          "AUS",
          "AUT",
          "BEL",
          "BRA",
          "CAN",
          "COL",
          "CRI",
          "DNK",
          "FIN",
          "FRA",
          "DEU",
          "GTM",
          "ISL",
          "IRL",
          "ISR",
          "ITA",
          "MEX",
          "NLD",
          "NZL",
          "NOR",
          "PAN",
          "SAU",
          "SGP",
          "ESP",
          "SWE",
          "TTO",
          "GBR",
          "USA"
         ],
         "marker": {
          "color": "#636efa",
          "size": [
           7.253757476806641,
           7.180953979492188,
           7.116590976715088,
           6.69142484664917,
           7.4856038093566895,
           6.168395042419434,
           6.850679874420166,
           7.970891952514648,
           7.670626640319824,
           7.0080647468566895,
           6.521790027618408,
           6.414494514465332,
           6.888284206390381,
           7.568029880523682,
           7.261261463165283,
           6.779774188995361,
           6.829036235809326,
           7.631011962890625,
           7.381170749664307,
           7.632287502288818,
           6.930903434753418,
           6.811370372772217,
           6.641956806182861,
           7.294472694396973,
           7.515997409820557,
           6.696444034576416,
           6.98646354675293,
           7.280385971069336
          ],
          "sizemode": "area",
          "sizeref": 7.970891952514648,
          "symbol": "circle"
         },
         "mode": "markers+text",
         "name": "🥰",
         "showlegend": true,
         "text": [
          "🥰",
          "🥰",
          "🥰",
          "🥰",
          "🥰",
          "🥰",
          "🥰",
          "🥰",
          "🥰",
          "🥰",
          "🥰",
          "🥰",
          "🥰",
          "🥰",
          "🥰",
          "🥰",
          "🥰",
          "🥰",
          "🥰",
          "🥰",
          "🥰",
          "🥰",
          "🥰",
          "🥰",
          "🥰",
          "🥰",
          "🥰",
          "🥰"
         ],
         "textfont": {
          "size": 17
         },
         "type": "scattergeo"
        },
        {
         "customdata": [
          [
           "Argentina",
           "South America",
           2008,
           5.961034297943115,
           "🤖",
           "ARG"
          ],
          [
           "Armenia",
           "Asia",
           2008,
           4.65197229385376,
           "🤖",
           "ARM"
          ],
          [
           "Azerbaijan",
           "Asia",
           2008,
           4.8171892166137695,
           "🤖",
           "AZE"
          ],
          [
           "Bangladesh",
           "Asia",
           2008,
           5.052278518676758,
           "🤖",
           "BGD"
          ],
          [
           "Belarus",
           "Europe",
           2008,
           5.463332176208496,
           "🤖",
           "BLR"
          ],
          [
           "Bolivia",
           "South America",
           2008,
           5.297872543334961,
           "🤖",
           "BOL"
          ],
          [
           "Botswana",
           "Africa",
           2008,
           5.451147079467773,
           "🤖",
           "BWA"
          ],
          [
           "Chad",
           "Africa",
           2008,
           4.632468223571777,
           "🤖",
           "TCD"
          ],
          [
           "Chile",
           "South America",
           2008,
           5.789438724517822,
           "🤖",
           "CHL"
          ],
          [
           "China",
           "Asia",
           2008,
           4.84629487991333,
           "🤖",
           "CHN"
          ],
          [
           "Djibouti",
           null,
           2008,
           5.0093302726745605,
           "🤖",
           "DJI"
          ],
          [
           "Dominican Republic",
           "South America",
           2008,
           4.842305660247803,
           "🤖",
           "DOM"
          ],
          [
           "Ecuador",
           "South America",
           2008,
           5.296513080596924,
           "🤖",
           "ECU"
          ],
          [
           "El Salvador",
           "South America",
           2008,
           5.191493988037109,
           "🤖",
           "SLV"
          ],
          [
           "Estonia",
           "Europe",
           2008,
           5.451937675476074,
           "🤖",
           "EST"
          ],
          [
           "Ghana",
           "Africa",
           2008,
           4.965134620666504,
           "🤖",
           "GHA"
          ],
          [
           "Honduras",
           "South America",
           2008,
           5.420331001281738,
           "🤖",
           "HND"
          ],
          [
           "India",
           "Asia",
           2008,
           5.145833015441895,
           "🤖",
           "IND"
          ],
          [
           "Indonesia",
           "Asia",
           2008,
           4.815309524536133,
           "🤖",
           "IDN"
          ],
          [
           "Iraq",
           "Asia",
           2008,
           4.589844703674316,
           "🤖",
           "IRQ"
          ],
          [
           "Japan",
           "Asia",
           2008,
           5.910679340362549,
           "🤖",
           "JPN"
          ],
          [
           "Jordan",
           "Asia",
           2008,
           4.930058002471924,
           "🤖",
           "JOR"
          ],
          [
           "Kazakhstan",
           "Asia",
           2008,
           5.886419773101807,
           "🤖",
           "KAZ"
          ],
          [
           "Kosovo",
           "Europe",
           2008,
           5.521659851074219,
           "🤖",
           "XKX"
          ],
          [
           "Latvia",
           "Europe",
           2008,
           5.14537525177002,
           "🤖",
           "LVA"
          ],
          [
           "Lebanon",
           "Asia",
           2008,
           4.594851016998291,
           "🤖",
           "LBN"
          ],
          [
           "Lithuania",
           "Europe",
           2008,
           5.55392599105835,
           "🤖",
           "LTU"
          ],
          [
           "Madagascar",
           "Africa",
           2008,
           4.640079021453857,
           "🤖",
           "MDG"
          ],
          [
           "Malaysia",
           "Asia",
           2008,
           5.806781768798828,
           "🤖",
           "MYS"
          ],
          [
           "Moldova",
           "Europe",
           2008,
           5.502756118774414,
           "🤖",
           "MDA"
          ],
          [
           "Mozambique",
           null,
           2008,
           4.65358304977417,
           "🤖",
           "MOZ"
          ],
          [
           "Nicaragua",
           "South America",
           2008,
           5.103827476501465,
           "🤖",
           "NIC"
          ],
          [
           "Nigeria",
           "Africa",
           2008,
           4.938560485839844,
           "🤖",
           "NGA"
          ],
          [
           "Paraguay",
           "South America",
           2008,
           5.570061683654785,
           "🤖",
           "PRY"
          ],
          [
           "Peru",
           "South America",
           2008,
           5.129230976104736,
           "🤖",
           "PER"
          ],
          [
           "Philippines",
           "Asia",
           2008,
           4.589065074920654,
           "🤖",
           "PHL"
          ],
          [
           "Portugal",
           "Europe",
           2008,
           5.71696662902832,
           "🤖",
           "PRT"
          ],
          [
           "Senegal",
           "Africa",
           2008,
           4.683499813079834,
           "🤖",
           "SEN"
          ],
          [
           "South Africa",
           "Africa",
           2008,
           5.346306800842285,
           "🤖",
           "ZAF"
          ],
          [
           "Tajikistan",
           "Asia",
           2008,
           5.063986778259277,
           "🤖",
           "TJK"
          ],
          [
           "Thailand",
           "Asia",
           2008,
           5.636471271514893,
           "🤖",
           "THA"
          ],
          [
           "Uganda",
           "Africa",
           2008,
           4.568619251251221,
           "🤖",
           "UGA"
          ],
          [
           "Ukraine",
           "Europe",
           2008,
           5.172380447387695,
           "🤖",
           "UKR"
          ],
          [
           "Uruguay",
           "South America",
           2008,
           5.663869857788086,
           "🤖",
           "URY"
          ],
          [
           "Uzbekistan",
           "Asia",
           2008,
           5.311368465423584,
           "🤖",
           "UZB"
          ],
          [
           "Vietnam",
           "Asia",
           2008,
           5.480425357818604,
           "🤖",
           "VNM"
          ],
          [
           "Zambia",
           "Africa",
           2008,
           4.730263233184815,
           "🤖",
           "ZMB"
          ]
         ],
         "geo": "geo",
         "hovertemplate": "<b>%{hovertext}</b><br><br>emoji=%{customdata[4]}<br>year=%{customdata[2]}<br>Happiness Score=%{customdata[3]}<br>continent=%{customdata[1]}<extra></extra>",
         "hovertext": [
          "Argentina",
          "Armenia",
          "Azerbaijan",
          "Bangladesh",
          "Belarus",
          "Bolivia",
          "Botswana",
          "Chad",
          "Chile",
          "China",
          "Djibouti",
          "Dominican Republic",
          "Ecuador",
          "El Salvador",
          "Estonia",
          "Ghana",
          "Honduras",
          "India",
          "Indonesia",
          "Iraq",
          "Japan",
          "Jordan",
          "Kazakhstan",
          "Kosovo",
          "Latvia",
          "Lebanon",
          "Lithuania",
          "Madagascar",
          "Malaysia",
          "Moldova",
          "Mozambique",
          "Nicaragua",
          "Nigeria",
          "Paraguay",
          "Peru",
          "Philippines",
          "Portugal",
          "Senegal",
          "South Africa",
          "Tajikistan",
          "Thailand",
          "Uganda",
          "Ukraine",
          "Uruguay",
          "Uzbekistan",
          "Vietnam",
          "Zambia"
         ],
         "legendgroup": "🤖",
         "locations": [
          "ARG",
          "ARM",
          "AZE",
          "BGD",
          "BLR",
          "BOL",
          "BWA",
          "TCD",
          "CHL",
          "CHN",
          "DJI",
          "DOM",
          "ECU",
          "SLV",
          "EST",
          "GHA",
          "HND",
          "IND",
          "IDN",
          "IRQ",
          "JPN",
          "JOR",
          "KAZ",
          "XKX",
          "LVA",
          "LBN",
          "LTU",
          "MDG",
          "MYS",
          "MDA",
          "MOZ",
          "NIC",
          "NGA",
          "PRY",
          "PER",
          "PHL",
          "PRT",
          "SEN",
          "ZAF",
          "TJK",
          "THA",
          "UGA",
          "UKR",
          "URY",
          "UZB",
          "VNM",
          "ZMB"
         ],
         "marker": {
          "color": "#EF553B",
          "size": [
           5.961034297943115,
           4.65197229385376,
           4.8171892166137695,
           5.052278518676758,
           5.463332176208496,
           5.297872543334961,
           5.451147079467773,
           4.632468223571777,
           5.789438724517822,
           4.84629487991333,
           5.0093302726745605,
           4.842305660247803,
           5.296513080596924,
           5.191493988037109,
           5.451937675476074,
           4.965134620666504,
           5.420331001281738,
           5.145833015441895,
           4.815309524536133,
           4.589844703674316,
           5.910679340362549,
           4.930058002471924,
           5.886419773101807,
           5.521659851074219,
           5.14537525177002,
           4.594851016998291,
           5.55392599105835,
           4.640079021453857,
           5.806781768798828,
           5.502756118774414,
           4.65358304977417,
           5.103827476501465,
           4.938560485839844,
           5.570061683654785,
           5.129230976104736,
           4.589065074920654,
           5.71696662902832,
           4.683499813079834,
           5.346306800842285,
           5.063986778259277,
           5.636471271514893,
           4.568619251251221,
           5.172380447387695,
           5.663869857788086,
           5.311368465423584,
           5.480425357818604,
           4.730263233184815
          ],
          "sizemode": "area",
          "sizeref": 7.970891952514648,
          "symbol": "circle"
         },
         "mode": "markers+text",
         "name": "🤖",
         "showlegend": true,
         "text": [
          "🤖",
          "🤖",
          "🤖",
          "🤖",
          "🤖",
          "🤖",
          "🤖",
          "🤖",
          "🤖",
          "🤖",
          "🤖",
          "🤖",
          "🤖",
          "🤖",
          "🤖",
          "🤖",
          "🤖",
          "🤖",
          "🤖",
          "🤖",
          "🤖",
          "🤖",
          "🤖",
          "🤖",
          "🤖",
          "🤖",
          "🤖",
          "🤖",
          "🤖",
          "🤖",
          "🤖",
          "🤖",
          "🤖",
          "🤖",
          "🤖",
          "🤖",
          "🤖",
          "🤖",
          "🤖",
          "🤖",
          "🤖",
          "🤖",
          "🤖",
          "🤖",
          "🤖",
          "🤖",
          "🤖"
         ],
         "textfont": {
          "size": 17
         },
         "type": "scattergeo"
        },
        {
         "customdata": [
          [
           "Afghanistan",
           "Asia",
           2008,
           3.7235898971557617,
           "🤢",
           "AFG"
          ],
          [
           "Benin",
           "Africa",
           2008,
           3.6671395301818848,
           "🤢",
           "BEN"
          ],
          [
           "Burkina Faso",
           "Africa",
           2008,
           3.8464388847351074,
           "🤢",
           "BFA"
          ],
          [
           "Burundi",
           "Africa",
           2008,
           3.563227653503418,
           "🤢",
           "BDI"
          ],
          [
           "Cambodia",
           "Asia",
           2008,
           4.462163925170898,
           "🤢",
           "KHM"
          ],
          [
           "Cameroon",
           "Africa",
           2008,
           4.291800498962402,
           "🤢",
           "CMR"
          ],
          [
           "Georgia",
           "Asia",
           2008,
           4.156090259552002,
           "🤢",
           "GEO"
          ],
          [
           "Haiti",
           "South America",
           2008,
           3.8463292121887207,
           "🤢",
           "HTI"
          ],
          [
           "Kenya",
           "Africa",
           2008,
           4.015274524688721,
           "🤢",
           "KEN"
          ],
          [
           "Liberia",
           "Africa",
           2008,
           4.221354007720947,
           "🤢",
           "LBR"
          ],
          [
           "Mali",
           "Africa",
           2008,
           4.114664077758789,
           "🤢",
           "MLI"
          ],
          [
           "Mauritania",
           "Africa",
           2008,
           4.248075008392334,
           "🤢",
           "MRT"
          ],
          [
           "Mongolia",
           "Asia",
           2008,
           4.4930100440979,
           "🤢",
           "MNG"
          ],
          [
           "Nepal",
           "Asia",
           2008,
           4.440526485443115,
           "🤢",
           "NPL"
          ],
          [
           "Niger",
           "Africa",
           2008,
           4.235657215118408,
           "🤢",
           "NER"
          ],
          [
           "Pakistan",
           "Asia",
           2008,
           4.413918972015381,
           "🤢",
           "PAK"
          ],
          [
           "Rwanda",
           "Africa",
           2008,
           4.3629889488220215,
           "🤢",
           "RWA"
          ],
          [
           "Sierra Leone",
           "Africa",
           2008,
           2.997251033782959,
           "🤢",
           "SLE"
          ],
          [
           "Sri Lanka",
           "Asia",
           2008,
           4.430846214294434,
           "🤢",
           "LKA"
          ],
          [
           "Tanzania",
           "Africa",
           2008,
           4.38474178314209,
           "🤢",
           "TZA"
          ],
          [
           "Togo",
           "Africa",
           2008,
           2.807855129241944,
           "🤢",
           "TGO"
          ],
          [
           "Zimbabwe",
           "Africa",
           2008,
           3.1742637157440186,
           "🤢",
           "ZWE"
          ]
         ],
         "geo": "geo",
         "hovertemplate": "<b>%{hovertext}</b><br><br>emoji=%{customdata[4]}<br>year=%{customdata[2]}<br>Happiness Score=%{customdata[3]}<br>continent=%{customdata[1]}<extra></extra>",
         "hovertext": [
          "Afghanistan",
          "Benin",
          "Burkina Faso",
          "Burundi",
          "Cambodia",
          "Cameroon",
          "Georgia",
          "Haiti",
          "Kenya",
          "Liberia",
          "Mali",
          "Mauritania",
          "Mongolia",
          "Nepal",
          "Niger",
          "Pakistan",
          "Rwanda",
          "Sierra Leone",
          "Sri Lanka",
          "Tanzania",
          "Togo",
          "Zimbabwe"
         ],
         "legendgroup": "🤢",
         "locations": [
          "AFG",
          "BEN",
          "BFA",
          "BDI",
          "KHM",
          "CMR",
          "GEO",
          "HTI",
          "KEN",
          "LBR",
          "MLI",
          "MRT",
          "MNG",
          "NPL",
          "NER",
          "PAK",
          "RWA",
          "SLE",
          "LKA",
          "TZA",
          "TGO",
          "ZWE"
         ],
         "marker": {
          "color": "#00cc96",
          "size": [
           3.7235898971557617,
           3.6671395301818848,
           3.8464388847351074,
           3.563227653503418,
           4.462163925170898,
           4.291800498962402,
           4.156090259552002,
           3.8463292121887207,
           4.015274524688721,
           4.221354007720947,
           4.114664077758789,
           4.248075008392334,
           4.4930100440979,
           4.440526485443115,
           4.235657215118408,
           4.413918972015381,
           4.3629889488220215,
           2.997251033782959,
           4.430846214294434,
           4.38474178314209,
           2.807855129241944,
           3.1742637157440186
          ],
          "sizemode": "area",
          "sizeref": 7.970891952514648,
          "symbol": "circle"
         },
         "mode": "markers+text",
         "name": "🤢",
         "showlegend": true,
         "text": [
          "🤢",
          "🤢",
          "🤢",
          "🤢",
          "🤢",
          "🤢",
          "🤢",
          "🤢",
          "🤢",
          "🤢",
          "🤢",
          "🤢",
          "🤢",
          "🤢",
          "🤢",
          "🤢",
          "🤢",
          "🤢",
          "🤢",
          "🤢",
          "🤢",
          "🤢"
         ],
         "textfont": {
          "size": 17
         },
         "type": "scattergeo"
        }
       ],
       "frames": [
        {
         "data": [
          {
           "customdata": [
            [
             "Australia",
             "Oceania",
             2008,
             7.253757476806641,
             "🥰",
             "AUS"
            ],
            [
             "Austria",
             "Europe",
             2008,
             7.180953979492188,
             "🥰",
             "AUT"
            ],
            [
             "Belgium",
             "Europe",
             2008,
             7.116590976715088,
             "🥰",
             "BEL"
            ],
            [
             "Brazil",
             "South America",
             2008,
             6.69142484664917,
             "🥰",
             "BRA"
            ],
            [
             "Canada",
             "North America",
             2008,
             7.4856038093566895,
             "🥰",
             "CAN"
            ],
            [
             "Colombia",
             "South America",
             2008,
             6.168395042419434,
             "🥰",
             "COL"
            ],
            [
             "Costa Rica",
             "South America",
             2008,
             6.850679874420166,
             "🥰",
             "CRI"
            ],
            [
             "Denmark",
             "Europe",
             2008,
             7.970891952514648,
             "🥰",
             "DNK"
            ],
            [
             "Finland",
             "Europe",
             2008,
             7.670626640319824,
             "🥰",
             "FIN"
            ],
            [
             "France",
             "Europe",
             2008,
             7.0080647468566895,
             "🥰",
             "FRA"
            ],
            [
             "Germany",
             "Europe",
             2008,
             6.521790027618408,
             "🥰",
             "DEU"
            ],
            [
             "Guatemala",
             "South America",
             2008,
             6.414494514465332,
             "🥰",
             "GTM"
            ],
            [
             "Iceland",
             "Europe",
             2008,
             6.888284206390381,
             "🥰",
             "ISL"
            ],
            [
             "Ireland",
             "Europe",
             2008,
             7.568029880523682,
             "🥰",
             "IRL"
            ],
            [
             "Israel",
             "Asia",
             2008,
             7.261261463165283,
             "🥰",
             "ISR"
            ],
            [
             "Italy",
             "Europe",
             2008,
             6.779774188995361,
             "🥰",
             "ITA"
            ],
            [
             "Mexico",
             "North America",
             2008,
             6.829036235809326,
             "🥰",
             "MEX"
            ],
            [
             "Netherlands",
             "Europe",
             2008,
             7.631011962890625,
             "🥰",
             "NLD"
            ],
            [
             "New Zealand",
             "Oceania",
             2008,
             7.381170749664307,
             "🥰",
             "NZL"
            ],
            [
             "Norway",
             "Europe",
             2008,
             7.632287502288818,
             "🥰",
             "NOR"
            ],
            [
             "Panama",
             "South America",
             2008,
             6.930903434753418,
             "🥰",
             "PAN"
            ],
            [
             "Saudi Arabia",
             "Asia",
             2008,
             6.811370372772217,
             "🥰",
             "SAU"
            ],
            [
             "Singapore",
             "Asia",
             2008,
             6.641956806182861,
             "🥰",
             "SGP"
            ],
            [
             "Spain",
             "Europe",
             2008,
             7.294472694396973,
             "🥰",
             "ESP"
            ],
            [
             "Sweden",
             "Europe",
             2008,
             7.515997409820557,
             "🥰",
             "SWE"
            ],
            [
             "Trinidad and Tobago",
             null,
             2008,
             6.696444034576416,
             "🥰",
             "TTO"
            ],
            [
             "United Kingdom",
             "Europe",
             2008,
             6.98646354675293,
             "🥰",
             "GBR"
            ],
            [
             "United States",
             "North America",
             2008,
             7.280385971069336,
             "🥰",
             "USA"
            ]
           ],
           "geo": "geo",
           "hovertemplate": "<b>%{hovertext}</b><br><br>emoji=%{customdata[4]}<br>year=%{customdata[2]}<br>Happiness Score=%{customdata[3]}<br>continent=%{customdata[1]}<extra></extra>",
           "hovertext": [
            "Australia",
            "Austria",
            "Belgium",
            "Brazil",
            "Canada",
            "Colombia",
            "Costa Rica",
            "Denmark",
            "Finland",
            "France",
            "Germany",
            "Guatemala",
            "Iceland",
            "Ireland",
            "Israel",
            "Italy",
            "Mexico",
            "Netherlands",
            "New Zealand",
            "Norway",
            "Panama",
            "Saudi Arabia",
            "Singapore",
            "Spain",
            "Sweden",
            "Trinidad and Tobago",
            "United Kingdom",
            "United States"
           ],
           "legendgroup": "🥰",
           "locations": [
            "AUS",
            "AUT",
            "BEL",
            "BRA",
            "CAN",
            "COL",
            "CRI",
            "DNK",
            "FIN",
            "FRA",
            "DEU",
            "GTM",
            "ISL",
            "IRL",
            "ISR",
            "ITA",
            "MEX",
            "NLD",
            "NZL",
            "NOR",
            "PAN",
            "SAU",
            "SGP",
            "ESP",
            "SWE",
            "TTO",
            "GBR",
            "USA"
           ],
           "marker": {
            "color": "#636efa",
            "size": [
             7.253757476806641,
             7.180953979492188,
             7.116590976715088,
             6.69142484664917,
             7.4856038093566895,
             6.168395042419434,
             6.850679874420166,
             7.970891952514648,
             7.670626640319824,
             7.0080647468566895,
             6.521790027618408,
             6.414494514465332,
             6.888284206390381,
             7.568029880523682,
             7.261261463165283,
             6.779774188995361,
             6.829036235809326,
             7.631011962890625,
             7.381170749664307,
             7.632287502288818,
             6.930903434753418,
             6.811370372772217,
             6.641956806182861,
             7.294472694396973,
             7.515997409820557,
             6.696444034576416,
             6.98646354675293,
             7.280385971069336
            ],
            "sizemode": "area",
            "sizeref": 7.970891952514648,
            "symbol": "circle"
           },
           "mode": "markers+text",
           "name": "🥰",
           "showlegend": true,
           "text": [
            "🥰",
            "🥰",
            "🥰",
            "🥰",
            "🥰",
            "🥰",
            "🥰",
            "🥰",
            "🥰",
            "🥰",
            "🥰",
            "🥰",
            "🥰",
            "🥰",
            "🥰",
            "🥰",
            "🥰",
            "🥰",
            "🥰",
            "🥰",
            "🥰",
            "🥰",
            "🥰",
            "🥰",
            "🥰",
            "🥰",
            "🥰",
            "🥰"
           ],
           "type": "scattergeo"
          },
          {
           "customdata": [
            [
             "Argentina",
             "South America",
             2008,
             5.961034297943115,
             "🤖",
             "ARG"
            ],
            [
             "Armenia",
             "Asia",
             2008,
             4.65197229385376,
             "🤖",
             "ARM"
            ],
            [
             "Azerbaijan",
             "Asia",
             2008,
             4.8171892166137695,
             "🤖",
             "AZE"
            ],
            [
             "Bangladesh",
             "Asia",
             2008,
             5.052278518676758,
             "🤖",
             "BGD"
            ],
            [
             "Belarus",
             "Europe",
             2008,
             5.463332176208496,
             "🤖",
             "BLR"
            ],
            [
             "Bolivia",
             "South America",
             2008,
             5.297872543334961,
             "🤖",
             "BOL"
            ],
            [
             "Botswana",
             "Africa",
             2008,
             5.451147079467773,
             "🤖",
             "BWA"
            ],
            [
             "Chad",
             "Africa",
             2008,
             4.632468223571777,
             "🤖",
             "TCD"
            ],
            [
             "Chile",
             "South America",
             2008,
             5.789438724517822,
             "🤖",
             "CHL"
            ],
            [
             "China",
             "Asia",
             2008,
             4.84629487991333,
             "🤖",
             "CHN"
            ],
            [
             "Djibouti",
             null,
             2008,
             5.0093302726745605,
             "🤖",
             "DJI"
            ],
            [
             "Dominican Republic",
             "South America",
             2008,
             4.842305660247803,
             "🤖",
             "DOM"
            ],
            [
             "Ecuador",
             "South America",
             2008,
             5.296513080596924,
             "🤖",
             "ECU"
            ],
            [
             "El Salvador",
             "South America",
             2008,
             5.191493988037109,
             "🤖",
             "SLV"
            ],
            [
             "Estonia",
             "Europe",
             2008,
             5.451937675476074,
             "🤖",
             "EST"
            ],
            [
             "Ghana",
             "Africa",
             2008,
             4.965134620666504,
             "🤖",
             "GHA"
            ],
            [
             "Honduras",
             "South America",
             2008,
             5.420331001281738,
             "🤖",
             "HND"
            ],
            [
             "India",
             "Asia",
             2008,
             5.145833015441895,
             "🤖",
             "IND"
            ],
            [
             "Indonesia",
             "Asia",
             2008,
             4.815309524536133,
             "🤖",
             "IDN"
            ],
            [
             "Iraq",
             "Asia",
             2008,
             4.589844703674316,
             "🤖",
             "IRQ"
            ],
            [
             "Japan",
             "Asia",
             2008,
             5.910679340362549,
             "🤖",
             "JPN"
            ],
            [
             "Jordan",
             "Asia",
             2008,
             4.930058002471924,
             "🤖",
             "JOR"
            ],
            [
             "Kazakhstan",
             "Asia",
             2008,
             5.886419773101807,
             "🤖",
             "KAZ"
            ],
            [
             "Kosovo",
             "Europe",
             2008,
             5.521659851074219,
             "🤖",
             "XKX"
            ],
            [
             "Latvia",
             "Europe",
             2008,
             5.14537525177002,
             "🤖",
             "LVA"
            ],
            [
             "Lebanon",
             "Asia",
             2008,
             4.594851016998291,
             "🤖",
             "LBN"
            ],
            [
             "Lithuania",
             "Europe",
             2008,
             5.55392599105835,
             "🤖",
             "LTU"
            ],
            [
             "Madagascar",
             "Africa",
             2008,
             4.640079021453857,
             "🤖",
             "MDG"
            ],
            [
             "Malaysia",
             "Asia",
             2008,
             5.806781768798828,
             "🤖",
             "MYS"
            ],
            [
             "Moldova",
             "Europe",
             2008,
             5.502756118774414,
             "🤖",
             "MDA"
            ],
            [
             "Mozambique",
             null,
             2008,
             4.65358304977417,
             "🤖",
             "MOZ"
            ],
            [
             "Nicaragua",
             "South America",
             2008,
             5.103827476501465,
             "🤖",
             "NIC"
            ],
            [
             "Nigeria",
             "Africa",
             2008,
             4.938560485839844,
             "🤖",
             "NGA"
            ],
            [
             "Paraguay",
             "South America",
             2008,
             5.570061683654785,
             "🤖",
             "PRY"
            ],
            [
             "Peru",
             "South America",
             2008,
             5.129230976104736,
             "🤖",
             "PER"
            ],
            [
             "Philippines",
             "Asia",
             2008,
             4.589065074920654,
             "🤖",
             "PHL"
            ],
            [
             "Portugal",
             "Europe",
             2008,
             5.71696662902832,
             "🤖",
             "PRT"
            ],
            [
             "Senegal",
             "Africa",
             2008,
             4.683499813079834,
             "🤖",
             "SEN"
            ],
            [
             "South Africa",
             "Africa",
             2008,
             5.346306800842285,
             "🤖",
             "ZAF"
            ],
            [
             "Tajikistan",
             "Asia",
             2008,
             5.063986778259277,
             "🤖",
             "TJK"
            ],
            [
             "Thailand",
             "Asia",
             2008,
             5.636471271514893,
             "🤖",
             "THA"
            ],
            [
             "Uganda",
             "Africa",
             2008,
             4.568619251251221,
             "🤖",
             "UGA"
            ],
            [
             "Ukraine",
             "Europe",
             2008,
             5.172380447387695,
             "🤖",
             "UKR"
            ],
            [
             "Uruguay",
             "South America",
             2008,
             5.663869857788086,
             "🤖",
             "URY"
            ],
            [
             "Uzbekistan",
             "Asia",
             2008,
             5.311368465423584,
             "🤖",
             "UZB"
            ],
            [
             "Vietnam",
             "Asia",
             2008,
             5.480425357818604,
             "🤖",
             "VNM"
            ],
            [
             "Zambia",
             "Africa",
             2008,
             4.730263233184815,
             "🤖",
             "ZMB"
            ]
           ],
           "geo": "geo",
           "hovertemplate": "<b>%{hovertext}</b><br><br>emoji=%{customdata[4]}<br>year=%{customdata[2]}<br>Happiness Score=%{customdata[3]}<br>continent=%{customdata[1]}<extra></extra>",
           "hovertext": [
            "Argentina",
            "Armenia",
            "Azerbaijan",
            "Bangladesh",
            "Belarus",
            "Bolivia",
            "Botswana",
            "Chad",
            "Chile",
            "China",
            "Djibouti",
            "Dominican Republic",
            "Ecuador",
            "El Salvador",
            "Estonia",
            "Ghana",
            "Honduras",
            "India",
            "Indonesia",
            "Iraq",
            "Japan",
            "Jordan",
            "Kazakhstan",
            "Kosovo",
            "Latvia",
            "Lebanon",
            "Lithuania",
            "Madagascar",
            "Malaysia",
            "Moldova",
            "Mozambique",
            "Nicaragua",
            "Nigeria",
            "Paraguay",
            "Peru",
            "Philippines",
            "Portugal",
            "Senegal",
            "South Africa",
            "Tajikistan",
            "Thailand",
            "Uganda",
            "Ukraine",
            "Uruguay",
            "Uzbekistan",
            "Vietnam",
            "Zambia"
           ],
           "legendgroup": "🤖",
           "locations": [
            "ARG",
            "ARM",
            "AZE",
            "BGD",
            "BLR",
            "BOL",
            "BWA",
            "TCD",
            "CHL",
            "CHN",
            "DJI",
            "DOM",
            "ECU",
            "SLV",
            "EST",
            "GHA",
            "HND",
            "IND",
            "IDN",
            "IRQ",
            "JPN",
            "JOR",
            "KAZ",
            "XKX",
            "LVA",
            "LBN",
            "LTU",
            "MDG",
            "MYS",
            "MDA",
            "MOZ",
            "NIC",
            "NGA",
            "PRY",
            "PER",
            "PHL",
            "PRT",
            "SEN",
            "ZAF",
            "TJK",
            "THA",
            "UGA",
            "UKR",
            "URY",
            "UZB",
            "VNM",
            "ZMB"
           ],
           "marker": {
            "color": "#EF553B",
            "size": [
             5.961034297943115,
             4.65197229385376,
             4.8171892166137695,
             5.052278518676758,
             5.463332176208496,
             5.297872543334961,
             5.451147079467773,
             4.632468223571777,
             5.789438724517822,
             4.84629487991333,
             5.0093302726745605,
             4.842305660247803,
             5.296513080596924,
             5.191493988037109,
             5.451937675476074,
             4.965134620666504,
             5.420331001281738,
             5.145833015441895,
             4.815309524536133,
             4.589844703674316,
             5.910679340362549,
             4.930058002471924,
             5.886419773101807,
             5.521659851074219,
             5.14537525177002,
             4.594851016998291,
             5.55392599105835,
             4.640079021453857,
             5.806781768798828,
             5.502756118774414,
             4.65358304977417,
             5.103827476501465,
             4.938560485839844,
             5.570061683654785,
             5.129230976104736,
             4.589065074920654,
             5.71696662902832,
             4.683499813079834,
             5.346306800842285,
             5.063986778259277,
             5.636471271514893,
             4.568619251251221,
             5.172380447387695,
             5.663869857788086,
             5.311368465423584,
             5.480425357818604,
             4.730263233184815
            ],
            "sizemode": "area",
            "sizeref": 7.970891952514648,
            "symbol": "circle"
           },
           "mode": "markers+text",
           "name": "🤖",
           "showlegend": true,
           "text": [
            "🤖",
            "🤖",
            "🤖",
            "🤖",
            "🤖",
            "🤖",
            "🤖",
            "🤖",
            "🤖",
            "🤖",
            "🤖",
            "🤖",
            "🤖",
            "🤖",
            "🤖",
            "🤖",
            "🤖",
            "🤖",
            "🤖",
            "🤖",
            "🤖",
            "🤖",
            "🤖",
            "🤖",
            "🤖",
            "🤖",
            "🤖",
            "🤖",
            "🤖",
            "🤖",
            "🤖",
            "🤖",
            "🤖",
            "🤖",
            "🤖",
            "🤖",
            "🤖",
            "🤖",
            "🤖",
            "🤖",
            "🤖",
            "🤖",
            "🤖",
            "🤖",
            "🤖",
            "🤖",
            "🤖"
           ],
           "type": "scattergeo"
          },
          {
           "customdata": [
            [
             "Afghanistan",
             "Asia",
             2008,
             3.7235898971557617,
             "🤢",
             "AFG"
            ],
            [
             "Benin",
             "Africa",
             2008,
             3.6671395301818848,
             "🤢",
             "BEN"
            ],
            [
             "Burkina Faso",
             "Africa",
             2008,
             3.8464388847351074,
             "🤢",
             "BFA"
            ],
            [
             "Burundi",
             "Africa",
             2008,
             3.563227653503418,
             "🤢",
             "BDI"
            ],
            [
             "Cambodia",
             "Asia",
             2008,
             4.462163925170898,
             "🤢",
             "KHM"
            ],
            [
             "Cameroon",
             "Africa",
             2008,
             4.291800498962402,
             "🤢",
             "CMR"
            ],
            [
             "Georgia",
             "Asia",
             2008,
             4.156090259552002,
             "🤢",
             "GEO"
            ],
            [
             "Haiti",
             "South America",
             2008,
             3.8463292121887207,
             "🤢",
             "HTI"
            ],
            [
             "Kenya",
             "Africa",
             2008,
             4.015274524688721,
             "🤢",
             "KEN"
            ],
            [
             "Liberia",
             "Africa",
             2008,
             4.221354007720947,
             "🤢",
             "LBR"
            ],
            [
             "Mali",
             "Africa",
             2008,
             4.114664077758789,
             "🤢",
             "MLI"
            ],
            [
             "Mauritania",
             "Africa",
             2008,
             4.248075008392334,
             "🤢",
             "MRT"
            ],
            [
             "Mongolia",
             "Asia",
             2008,
             4.4930100440979,
             "🤢",
             "MNG"
            ],
            [
             "Nepal",
             "Asia",
             2008,
             4.440526485443115,
             "🤢",
             "NPL"
            ],
            [
             "Niger",
             "Africa",
             2008,
             4.235657215118408,
             "🤢",
             "NER"
            ],
            [
             "Pakistan",
             "Asia",
             2008,
             4.413918972015381,
             "🤢",
             "PAK"
            ],
            [
             "Rwanda",
             "Africa",
             2008,
             4.3629889488220215,
             "🤢",
             "RWA"
            ],
            [
             "Sierra Leone",
             "Africa",
             2008,
             2.997251033782959,
             "🤢",
             "SLE"
            ],
            [
             "Sri Lanka",
             "Asia",
             2008,
             4.430846214294434,
             "🤢",
             "LKA"
            ],
            [
             "Tanzania",
             "Africa",
             2008,
             4.38474178314209,
             "🤢",
             "TZA"
            ],
            [
             "Togo",
             "Africa",
             2008,
             2.807855129241944,
             "🤢",
             "TGO"
            ],
            [
             "Zimbabwe",
             "Africa",
             2008,
             3.1742637157440186,
             "🤢",
             "ZWE"
            ]
           ],
           "geo": "geo",
           "hovertemplate": "<b>%{hovertext}</b><br><br>emoji=%{customdata[4]}<br>year=%{customdata[2]}<br>Happiness Score=%{customdata[3]}<br>continent=%{customdata[1]}<extra></extra>",
           "hovertext": [
            "Afghanistan",
            "Benin",
            "Burkina Faso",
            "Burundi",
            "Cambodia",
            "Cameroon",
            "Georgia",
            "Haiti",
            "Kenya",
            "Liberia",
            "Mali",
            "Mauritania",
            "Mongolia",
            "Nepal",
            "Niger",
            "Pakistan",
            "Rwanda",
            "Sierra Leone",
            "Sri Lanka",
            "Tanzania",
            "Togo",
            "Zimbabwe"
           ],
           "legendgroup": "🤢",
           "locations": [
            "AFG",
            "BEN",
            "BFA",
            "BDI",
            "KHM",
            "CMR",
            "GEO",
            "HTI",
            "KEN",
            "LBR",
            "MLI",
            "MRT",
            "MNG",
            "NPL",
            "NER",
            "PAK",
            "RWA",
            "SLE",
            "LKA",
            "TZA",
            "TGO",
            "ZWE"
           ],
           "marker": {
            "color": "#00cc96",
            "size": [
             3.7235898971557617,
             3.6671395301818848,
             3.8464388847351074,
             3.563227653503418,
             4.462163925170898,
             4.291800498962402,
             4.156090259552002,
             3.8463292121887207,
             4.015274524688721,
             4.221354007720947,
             4.114664077758789,
             4.248075008392334,
             4.4930100440979,
             4.440526485443115,
             4.235657215118408,
             4.413918972015381,
             4.3629889488220215,
             2.997251033782959,
             4.430846214294434,
             4.38474178314209,
             2.807855129241944,
             3.1742637157440186
            ],
            "sizemode": "area",
            "sizeref": 7.970891952514648,
            "symbol": "circle"
           },
           "mode": "markers+text",
           "name": "🤢",
           "showlegend": true,
           "text": [
            "🤢",
            "🤢",
            "🤢",
            "🤢",
            "🤢",
            "🤢",
            "🤢",
            "🤢",
            "🤢",
            "🤢",
            "🤢",
            "🤢",
            "🤢",
            "🤢",
            "🤢",
            "🤢",
            "🤢",
            "🤢",
            "🤢",
            "🤢",
            "🤢",
            "🤢"
           ],
           "type": "scattergeo"
          }
         ],
         "name": "2008"
        },
        {
         "data": [
          {
           "customdata": [
            [
             "Argentina",
             "South America",
             2009,
             6.42413330078125,
             "🥰",
             "ARG"
            ],
            [
             "Bolivia",
             "South America",
             2009,
             6.0855793952941895,
             "🥰",
             "BOL"
            ],
            [
             "Brazil",
             "South America",
             2009,
             7.000831604003906,
             "🥰",
             "BRA"
            ],
            [
             "Canada",
             "North America",
             2009,
             7.487824440002441,
             "🥰",
             "CAN"
            ],
            [
             "Chile",
             "South America",
             2009,
             6.493686199188232,
             "🥰",
             "CHL"
            ],
            [
             "Colombia",
             "South America",
             2009,
             6.271604537963867,
             "🥰",
             "COL"
            ],
            [
             "Costa Rica",
             "South America",
             2009,
             7.614928722381592,
             "🥰",
             "CRI"
            ],
            [
             "Cyprus",
             "Asia",
             2009,
             6.83347749710083,
             "🥰",
             "CYP"
            ],
            [
             "Denmark",
             "Europe",
             2009,
             7.683358669281006,
             "🥰",
             "DNK"
            ],
            [
             "Ecuador",
             "South America",
             2009,
             6.021803379058838,
             "🥰",
             "ECU"
            ],
            [
             "El Salvador",
             "South America",
             2009,
             6.839087009429932,
             "🥰",
             "SLV"
            ],
            [
             "France",
             "Europe",
             2009,
             6.283498287200928,
             "🥰",
             "FRA"
            ],
            [
             "Germany",
             "Europe",
             2009,
             6.641493320465088,
             "🥰",
             "DEU"
            ],
            [
             "Greece",
             "Europe",
             2009,
             6.038574695587158,
             "🥰",
             "GRC"
            ],
            [
             "Guatemala",
             "South America",
             2009,
             6.451916217803955,
             "🥰",
             "GTM"
            ],
            [
             "Honduras",
             "South America",
             2009,
             6.033189296722412,
             "🥰",
             "HND"
            ],
            [
             "Ireland",
             "Europe",
             2009,
             7.045911312103272,
             "🥰",
             "IRL"
            ],
            [
             "Israel",
             "Asia",
             2009,
             7.352979183197021,
             "🥰",
             "ISR"
            ],
            [
             "Italy",
             "Europe",
             2009,
             6.333800315856934,
             "🥰",
             "ITA"
            ],
            [
             "Kuwait",
             "Asia",
             2009,
             6.5852460861206055,
             "🥰",
             "KWT"
            ],
            [
             "Luxembourg",
             "Europe",
             2009,
             6.957920074462891,
             "🥰",
             "LUX"
            ],
            [
             "Malta",
             "Europe",
             2009,
             6.327639579772949,
             "🥰",
             "MLT"
            ],
            [
             "Mexico",
             "North America",
             2009,
             6.9628190994262695,
             "🥰",
             "MEX"
            ],
            [
             "Panama",
             "South America",
             2009,
             7.033740043640137,
             "🥰",
             "PAN"
            ],
            [
             "Qatar",
             null,
             2009,
             6.4178242683410645,
             "🥰",
             "QAT"
            ],
            [
             "Saudi Arabia",
             "Asia",
             2009,
             6.147590160369873,
             "🥰",
             "SAU"
            ],
            [
             "Singapore",
             "Asia",
             2009,
             6.144676685333252,
             "🥰",
             "SGP"
            ],
            [
             "Spain",
             "Europe",
             2009,
             6.198601245880127,
             "🥰",
             "ESP"
            ],
            [
             "Sweden",
             "Europe",
             2009,
             7.265977382659912,
             "🥰",
             "SWE"
            ],
            [
             "Switzerland",
             "Europe",
             2009,
             7.524520874023437,
             "🥰",
             "CHE"
            ],
            [
             "Turkmenistan",
             "Asia",
             2009,
             6.567713260650635,
             "🥰",
             "TKM"
            ],
            [
             "United Arab Emirates",
             "Asia",
             2009,
             6.866062641143799,
             "🥰",
             "ARE"
            ],
            [
             "United Kingdom",
             "Europe",
             2009,
             6.9065470695495605,
             "🥰",
             "GBR"
            ],
            [
             "United States",
             "North America",
             2009,
             7.158032417297363,
             "🥰",
             "USA"
            ],
            [
             "Uruguay",
             "South America",
             2009,
             6.296222686767578,
             "🥰",
             "URY"
            ]
           ],
           "geo": "geo",
           "hovertemplate": "<b>%{hovertext}</b><br><br>emoji=%{customdata[4]}<br>year=%{customdata[2]}<br>Happiness Score=%{customdata[3]}<br>continent=%{customdata[1]}<extra></extra>",
           "hovertext": [
            "Argentina",
            "Bolivia",
            "Brazil",
            "Canada",
            "Chile",
            "Colombia",
            "Costa Rica",
            "Cyprus",
            "Denmark",
            "Ecuador",
            "El Salvador",
            "France",
            "Germany",
            "Greece",
            "Guatemala",
            "Honduras",
            "Ireland",
            "Israel",
            "Italy",
            "Kuwait",
            "Luxembourg",
            "Malta",
            "Mexico",
            "Panama",
            "Qatar",
            "Saudi Arabia",
            "Singapore",
            "Spain",
            "Sweden",
            "Switzerland",
            "Turkmenistan",
            "United Arab Emirates",
            "United Kingdom",
            "United States",
            "Uruguay"
           ],
           "legendgroup": "🥰",
           "locations": [
            "ARG",
            "BOL",
            "BRA",
            "CAN",
            "CHL",
            "COL",
            "CRI",
            "CYP",
            "DNK",
            "ECU",
            "SLV",
            "FRA",
            "DEU",
            "GRC",
            "GTM",
            "HND",
            "IRL",
            "ISR",
            "ITA",
            "KWT",
            "LUX",
            "MLT",
            "MEX",
            "PAN",
            "QAT",
            "SAU",
            "SGP",
            "ESP",
            "SWE",
            "CHE",
            "TKM",
            "ARE",
            "GBR",
            "USA",
            "URY"
           ],
           "marker": {
            "color": "#636efa",
            "size": [
             6.42413330078125,
             6.0855793952941895,
             7.000831604003906,
             7.487824440002441,
             6.493686199188232,
             6.271604537963867,
             7.614928722381592,
             6.83347749710083,
             7.683358669281006,
             6.021803379058838,
             6.839087009429932,
             6.283498287200928,
             6.641493320465088,
             6.038574695587158,
             6.451916217803955,
             6.033189296722412,
             7.045911312103272,
             7.352979183197021,
             6.333800315856934,
             6.5852460861206055,
             6.957920074462891,
             6.327639579772949,
             6.9628190994262695,
             7.033740043640137,
             6.4178242683410645,
             6.147590160369873,
             6.144676685333252,
             6.198601245880127,
             7.265977382659912,
             7.524520874023437,
             6.567713260650635,
             6.866062641143799,
             6.9065470695495605,
             7.158032417297363,
             6.296222686767578
            ],
            "sizemode": "area",
            "sizeref": 7.970891952514648,
            "symbol": "circle"
           },
           "mode": "markers+text",
           "name": "🥰",
           "showlegend": true,
           "text": [
            "🥰",
            "🥰",
            "🥰",
            "🥰",
            "🥰",
            "🥰",
            "🥰",
            "🥰",
            "🥰",
            "🥰",
            "🥰",
            "🥰",
            "🥰",
            "🥰",
            "🥰",
            "🥰",
            "🥰",
            "🥰",
            "🥰",
            "🥰",
            "🥰",
            "🥰",
            "🥰",
            "🥰",
            "🥰",
            "🥰",
            "🥰",
            "🥰",
            "🥰",
            "🥰",
            "🥰",
            "🥰",
            "🥰",
            "🥰",
            "🥰"
           ],
           "type": "scattergeo"
          },
          {
           "customdata": [
            [
             "Albania",
             "Europe",
             2009,
             5.485469818115234,
             "🤖",
             "ALB"
            ],
            [
             "Azerbaijan",
             "Asia",
             2009,
             4.57372522354126,
             "🤖",
             "AZE"
            ],
            [
             "Bahrain",
             "Asia",
             2009,
             5.700523376464844,
             "🤖",
             "BHR"
            ],
            [
             "Bangladesh",
             "Asia",
             2009,
             5.082851409912109,
             "🤖",
             "BGD"
            ],
            [
             "Belarus",
             "Europe",
             2009,
             5.564131259918213,
             "🤖",
             "BLR"
            ],
            [
             "Bosnia and Herzegovina",
             "Europe",
             2009,
             4.96347713470459,
             "🤖",
             "BIH"
            ],
            [
             "Cameroon",
             "Africa",
             2009,
             4.741408348083496,
             "🤖",
             "CMR"
            ],
            [
             "Croatia",
             "Europe",
             2009,
             5.433319568634033,
             "🤖",
             "HRV"
            ],
            [
             "Djibouti",
             null,
             2009,
             4.905925273895264,
             "🤖",
             "DJI"
            ],
            [
             "Dominican Republic",
             "South America",
             2009,
             5.431613922119141,
             "🤖",
             "DOM"
            ],
            [
             "Estonia",
             "Europe",
             2009,
             5.1377387046813965,
             "🤖",
             "EST"
            ],
            [
             "Hungary",
             "Europe",
             2009,
             4.89460039138794,
             "🤖",
             "HUN"
            ],
            [
             "India",
             "Asia",
             2009,
             4.521517753601074,
             "🤖",
             "IND"
            ],
            [
             "Indonesia",
             "Asia",
             2009,
             5.472361087799072,
             "🤖",
             "IDN"
            ],
            [
             "Iraq",
             "Asia",
             2009,
             4.775316715240479,
             "🤖",
             "IRQ"
            ],
            [
             "Japan",
             "Asia",
             2009,
             5.844999313354492,
             "🤖",
             "JPN"
            ],
            [
             "Jordan",
             "Asia",
             2009,
             5.99985933303833,
             "🤖",
             "JOR"
            ],
            [
             "Kazakhstan",
             "Asia",
             2009,
             5.38256311416626,
             "🤖",
             "KAZ"
            ],
            [
             "Kosovo",
             "Europe",
             2009,
             5.891432762145996,
             "🤖",
             "XKX"
            ],
            [
             "Latvia",
             "Europe",
             2009,
             4.668910503387451,
             "🤖",
             "LVA"
            ],
            [
             "Lebanon",
             "Asia",
             2009,
             5.20599889755249,
             "🤖",
             "LBN"
            ],
            [
             "Lithuania",
             "Europe",
             2009,
             5.466920852661133,
             "🤖",
             "LTU"
            ],
            [
             "Malawi",
             "Africa",
             2009,
             5.148239612579346,
             "🤖",
             "MWI"
            ],
            [
             "Malaysia",
             "Asia",
             2009,
             5.384701728820801,
             "🤖",
             "MYS"
            ],
            [
             "Mauritania",
             "Africa",
             2009,
             4.500431537628174,
             "🤖",
             "MRT"
            ],
            [
             "Moldova",
             "Europe",
             2009,
             5.5543742179870605,
             "🤖",
             "MDA"
            ],
            [
             "Montenegro",
             "Europe",
             2009,
             4.801060199737549,
             "🤖",
             "MNE"
            ],
            [
             "Nepal",
             "Asia",
             2009,
             4.916868209838867,
             "🤖",
             "NPL"
            ],
            [
             "Nicaragua",
             "South America",
             2009,
             5.352804660797119,
             "🤖",
             "NIC"
            ],
            [
             "Nigeria",
             "Africa",
             2009,
             4.980220317840576,
             "🤖",
             "NGA"
            ],
            [
             "Pakistan",
             "Asia",
             2009,
             5.208146572113037,
             "🤖",
             "PAK"
            ],
            [
             "Paraguay",
             "South America",
             2009,
             5.576147079467773,
             "🤖",
             "PRY"
            ],
            [
             "Peru",
             "South America",
             2009,
             5.5188469886779785,
             "🤖",
             "PER"
            ],
            [
             "Philippines",
             "Asia",
             2009,
             4.879910945892334,
             "🤖",
             "PHL"
            ],
            [
             "Poland",
             "Europe",
             2009,
             5.772027492523193,
             "🤖",
             "POL"
            ],
            [
             "Romania",
             "Europe",
             2009,
             5.367565155029297,
             "🤖",
             "ROU"
            ],
            [
             "Slovenia",
             "Europe",
             2009,
             5.830160617828369,
             "🤖",
             "SVN"
            ],
            [
             "South Africa",
             "Africa",
             2009,
             5.218430995941162,
             "🤖",
             "ZAF"
            ],
            [
             "Tajikistan",
             "Asia",
             2009,
             4.575174808502197,
             "🤖",
             "TJK"
            ],
            [
             "Thailand",
             "Asia",
             2009,
             5.475645065307617,
             "🤖",
             "THA"
            ],
            [
             "Tunisia",
             "Africa",
             2009,
             5.02547025680542,
             "🤖",
             "TUN"
            ],
            [
             "Uganda",
             "Africa",
             2009,
             4.611985683441162,
             "🤖",
             "UGA"
            ],
            [
             "Ukraine",
             "Europe",
             2009,
             5.165639400482178,
             "🤖",
             "UKR"
            ],
            [
             "Uzbekistan",
             "Asia",
             2009,
             5.260720729827881,
             "🤖",
             "UZB"
            ],
            [
             "Vietnam",
             "Asia",
             2009,
             5.304264545440674,
             "🤖",
             "VNM"
            ],
            [
             "Zambia",
             "Africa",
             2009,
             5.2603607177734375,
             "🤖",
             "ZMB"
            ]
           ],
           "geo": "geo",
           "hovertemplate": "<b>%{hovertext}</b><br><br>emoji=%{customdata[4]}<br>year=%{customdata[2]}<br>Happiness Score=%{customdata[3]}<br>continent=%{customdata[1]}<extra></extra>",
           "hovertext": [
            "Albania",
            "Azerbaijan",
            "Bahrain",
            "Bangladesh",
            "Belarus",
            "Bosnia and Herzegovina",
            "Cameroon",
            "Croatia",
            "Djibouti",
            "Dominican Republic",
            "Estonia",
            "Hungary",
            "India",
            "Indonesia",
            "Iraq",
            "Japan",
            "Jordan",
            "Kazakhstan",
            "Kosovo",
            "Latvia",
            "Lebanon",
            "Lithuania",
            "Malawi",
            "Malaysia",
            "Mauritania",
            "Moldova",
            "Montenegro",
            "Nepal",
            "Nicaragua",
            "Nigeria",
            "Pakistan",
            "Paraguay",
            "Peru",
            "Philippines",
            "Poland",
            "Romania",
            "Slovenia",
            "South Africa",
            "Tajikistan",
            "Thailand",
            "Tunisia",
            "Uganda",
            "Ukraine",
            "Uzbekistan",
            "Vietnam",
            "Zambia"
           ],
           "legendgroup": "🤖",
           "locations": [
            "ALB",
            "AZE",
            "BHR",
            "BGD",
            "BLR",
            "BIH",
            "CMR",
            "HRV",
            "DJI",
            "DOM",
            "EST",
            "HUN",
            "IND",
            "IDN",
            "IRQ",
            "JPN",
            "JOR",
            "KAZ",
            "XKX",
            "LVA",
            "LBN",
            "LTU",
            "MWI",
            "MYS",
            "MRT",
            "MDA",
            "MNE",
            "NPL",
            "NIC",
            "NGA",
            "PAK",
            "PRY",
            "PER",
            "PHL",
            "POL",
            "ROU",
            "SVN",
            "ZAF",
            "TJK",
            "THA",
            "TUN",
            "UGA",
            "UKR",
            "UZB",
            "VNM",
            "ZMB"
           ],
           "marker": {
            "color": "#EF553B",
            "size": [
             5.485469818115234,
             4.57372522354126,
             5.700523376464844,
             5.082851409912109,
             5.564131259918213,
             4.96347713470459,
             4.741408348083496,
             5.433319568634033,
             4.905925273895264,
             5.431613922119141,
             5.1377387046813965,
             4.89460039138794,
             4.521517753601074,
             5.472361087799072,
             4.775316715240479,
             5.844999313354492,
             5.99985933303833,
             5.38256311416626,
             5.891432762145996,
             4.668910503387451,
             5.20599889755249,
             5.466920852661133,
             5.148239612579346,
             5.384701728820801,
             4.500431537628174,
             5.5543742179870605,
             4.801060199737549,
             4.916868209838867,
             5.352804660797119,
             4.980220317840576,
             5.208146572113037,
             5.576147079467773,
             5.5188469886779785,
             4.879910945892334,
             5.772027492523193,
             5.367565155029297,
             5.830160617828369,
             5.218430995941162,
             4.575174808502197,
             5.475645065307617,
             5.02547025680542,
             4.611985683441162,
             5.165639400482178,
             5.260720729827881,
             5.304264545440674,
             5.2603607177734375
            ],
            "sizemode": "area",
            "sizeref": 7.970891952514648,
            "symbol": "circle"
           },
           "mode": "markers+text",
           "name": "🤖",
           "showlegend": true,
           "text": [
            "🤖",
            "🤖",
            "🤖",
            "🤖",
            "🤖",
            "🤖",
            "🤖",
            "🤖",
            "🤖",
            "🤖",
            "🤖",
            "🤖",
            "🤖",
            "🤖",
            "🤖",
            "🤖",
            "🤖",
            "🤖",
            "🤖",
            "🤖",
            "🤖",
            "🤖",
            "🤖",
            "🤖",
            "🤖",
            "🤖",
            "🤖",
            "🤖",
            "🤖",
            "🤖",
            "🤖",
            "🤖",
            "🤖",
            "🤖",
            "🤖",
            "🤖",
            "🤖",
            "🤖",
            "🤖",
            "🤖",
            "🤖",
            "🤖",
            "🤖",
            "🤖",
            "🤖",
            "🤖"
           ],
           "type": "scattergeo"
          },
          {
           "customdata": [
            [
             "Afghanistan",
             "Asia",
             2009,
             4.401778221130371,
             "🤢",
             "AFG"
            ],
            [
             "Armenia",
             "Asia",
             2009,
             4.177581787109375,
             "🤢",
             "ARM"
            ],
            [
             "Burundi",
             "Africa",
             2009,
             3.791680812835693,
             "🤢",
             "BDI"
            ],
            [
             "Cambodia",
             "Asia",
             2009,
             4.110625743865967,
             "🤢",
             "KHM"
            ],
            [
             "Chad",
             "Africa",
             2009,
             3.6394450664520255,
             "🤢",
             "TCD"
            ],
            [
             "China",
             "Asia",
             2009,
             4.454360961914063,
             "🤢",
             "CHN"
            ],
            [
             "Comoros",
             null,
             2009,
             3.476027250289917,
             "🤢",
             "COM"
            ],
            [
             "Georgia",
             "Asia",
             2009,
             3.800639152526856,
             "🤢",
             "GEO"
            ],
            [
             "Ghana",
             "Africa",
             2009,
             4.197695732116699,
             "🤢",
             "GHA"
            ],
            [
             "Kenya",
             "Africa",
             2009,
             4.270434856414795,
             "🤢",
             "KEN"
            ],
            [
             "Mali",
             "Africa",
             2009,
             3.976598501205444,
             "🤢",
             "MLI"
            ],
            [
             "Niger",
             "Africa",
             2009,
             4.267169952392578,
             "🤢",
             "NER"
            ],
            [
             "North Macedonia",
             null,
             2009,
             4.4280219078063965,
             "🤢",
             "MKD"
            ],
            [
             "Rwanda",
             "Africa",
             2009,
             4.029761791229248,
             "🤢",
             "RWA"
            ],
            [
             "Senegal",
             "Africa",
             2009,
             4.335114002227783,
             "🤢",
             "SEN"
            ],
            [
             "Serbia",
             "Europe",
             2009,
             4.380311965942383,
             "🤢",
             "SRB"
            ],
            [
             "Sri Lanka",
             "Asia",
             2009,
             4.212026596069336,
             "🤢",
             "LKA"
            ],
            [
             "Sudan",
             null,
             2009,
             4.4549174308776855,
             "🤢",
             "SDN"
            ],
            [
             "Tanzania",
             "Africa",
             2009,
             3.40750789642334,
             "🤢",
             "TZA"
            ],
            [
             "Zimbabwe",
             "Africa",
             2009,
             4.055914402008057,
             "🤢",
             "ZWE"
            ]
           ],
           "geo": "geo",
           "hovertemplate": "<b>%{hovertext}</b><br><br>emoji=%{customdata[4]}<br>year=%{customdata[2]}<br>Happiness Score=%{customdata[3]}<br>continent=%{customdata[1]}<extra></extra>",
           "hovertext": [
            "Afghanistan",
            "Armenia",
            "Burundi",
            "Cambodia",
            "Chad",
            "China",
            "Comoros",
            "Georgia",
            "Ghana",
            "Kenya",
            "Mali",
            "Niger",
            "North Macedonia",
            "Rwanda",
            "Senegal",
            "Serbia",
            "Sri Lanka",
            "Sudan",
            "Tanzania",
            "Zimbabwe"
           ],
           "legendgroup": "🤢",
           "locations": [
            "AFG",
            "ARM",
            "BDI",
            "KHM",
            "TCD",
            "CHN",
            "COM",
            "GEO",
            "GHA",
            "KEN",
            "MLI",
            "NER",
            "MKD",
            "RWA",
            "SEN",
            "SRB",
            "LKA",
            "SDN",
            "TZA",
            "ZWE"
           ],
           "marker": {
            "color": "#00cc96",
            "size": [
             4.401778221130371,
             4.177581787109375,
             3.791680812835693,
             4.110625743865967,
             3.6394450664520255,
             4.454360961914063,
             3.476027250289917,
             3.800639152526856,
             4.197695732116699,
             4.270434856414795,
             3.976598501205444,
             4.267169952392578,
             4.4280219078063965,
             4.029761791229248,
             4.335114002227783,
             4.380311965942383,
             4.212026596069336,
             4.4549174308776855,
             3.40750789642334,
             4.055914402008057
            ],
            "sizemode": "area",
            "sizeref": 7.970891952514648,
            "symbol": "circle"
           },
           "mode": "markers+text",
           "name": "🤢",
           "showlegend": true,
           "text": [
            "🤢",
            "🤢",
            "🤢",
            "🤢",
            "🤢",
            "🤢",
            "🤢",
            "🤢",
            "🤢",
            "🤢",
            "🤢",
            "🤢",
            "🤢",
            "🤢",
            "🤢",
            "🤢",
            "🤢",
            "🤢",
            "🤢",
            "🤢"
           ],
           "type": "scattergeo"
          }
         ],
         "name": "2009"
        },
        {
         "data": [
          {
           "customdata": [
            [
             "Argentina",
             "South America",
             2010,
             6.441067218780518,
             "🥰",
             "ARG"
            ],
            [
             "Australia",
             "Oceania",
             2010,
             7.450047016143799,
             "🥰",
             "AUS"
            ],
            [
             "Austria",
             "Europe",
             2010,
             7.30267858505249,
             "🥰",
             "AUT"
            ],
            [
             "Belgium",
             "Europe",
             2010,
             6.853514194488525,
             "🥰",
             "BEL"
            ],
            [
             "Brazil",
             "South America",
             2010,
             6.837331295013428,
             "🥰",
             "BRA"
            ],
            [
             "Canada",
             "North America",
             2010,
             7.650346279144287,
             "🥰",
             "CAN"
            ],
            [
             "Chile",
             "South America",
             2010,
             6.635655879974365,
             "🥰",
             "CHL"
            ],
            [
             "Colombia",
             "South America",
             2010,
             6.408113479614258,
             "🥰",
             "COL"
            ],
            [
             "Costa Rica",
             "South America",
             2010,
             7.271053791046143,
             "🥰",
             "CRI"
            ],
            [
             "Cyprus",
             "Asia",
             2010,
             6.3865461349487305,
             "🥰",
             "CYP"
            ],
            [
             "Czechia",
             null,
             2010,
             6.249617576599121,
             "🥰",
             "CZE"
            ],
            [
             "Denmark",
             "Europe",
             2010,
             7.770515441894531,
             "🥰",
             "DNK"
            ],
            [
             "El Salvador",
             "South America",
             2010,
             6.739911079406738,
             "🥰",
             "SLV"
            ],
            [
             "Finland",
             "Europe",
             2010,
             7.393264293670654,
             "🥰",
             "FIN"
            ],
            [
             "France",
             "Europe",
             2010,
             6.797901153564453,
             "🥰",
             "FRA"
            ],
            [
             "Germany",
             "Europe",
             2010,
             6.724531173706055,
             "🥰",
             "DEU"
            ],
            [
             "Guatemala",
             "South America",
             2010,
             6.289748668670654,
             "🥰",
             "GTM"
            ],
            [
             "Ireland",
             "Europe",
             2010,
             7.257389545440674,
             "🥰",
             "IRL"
            ],
            [
             "Israel",
             "Asia",
             2010,
             7.358916282653809,
             "🥰",
             "ISR"
            ],
            [
             "Italy",
             "Europe",
             2010,
             6.354238033294678,
             "🥰",
             "ITA"
            ],
            [
             "Japan",
             "Asia",
             2010,
             6.056752681732178,
             "🥰",
             "JPN"
            ],
            [
             "Kuwait",
             "Asia",
             2010,
             6.798151016235352,
             "🥰",
             "KWT"
            ],
            [
             "Luxembourg",
             "Europe",
             2010,
             7.097251892089844,
             "🥰",
             "LUX"
            ],
            [
             "Mexico",
             "North America",
             2010,
             6.802388668060303,
             "🥰",
             "MEX"
            ],
            [
             "Netherlands",
             "Europe",
             2010,
             7.501875877380371,
             "🥰",
             "NLD"
            ],
            [
             "New Zealand",
             "Oceania",
             2010,
             7.223756313323975,
             "🥰",
             "NZL"
            ],
            [
             "Panama",
             "South America",
             2010,
             7.321467399597168,
             "🥰",
             "PAN"
            ],
            [
             "Qatar",
             null,
             2010,
             6.8496527671813965,
             "🥰",
             "QAT"
            ],
            [
             "Saudi Arabia",
             "Asia",
             2010,
             6.307098388671875,
             "🥰",
             "SAU"
            ],
            [
             "Singapore",
             "Asia",
             2010,
             6.531401634216309,
             "🥰",
             "SGP"
            ],
            [
             "Slovenia",
             "Europe",
             2010,
             6.082555294036865,
             "🥰",
             "SVN"
            ],
            [
             "Spain",
             "Europe",
             2010,
             6.188262462615967,
             "🥰",
             "ESP"
            ],
            [
             "Sweden",
             "Europe",
             2010,
             7.496018886566162,
             "🥰",
             "SWE"
            ],
            [
             "Thailand",
             "Asia",
             2010,
             6.216702938079834,
             "🥰",
             "THA"
            ],
            [
             "United Arab Emirates",
             "Asia",
             2010,
             7.0974555015563965,
             "🥰",
             "ARE"
            ],
            [
             "United Kingdom",
             "Europe",
             2010,
             7.029364109039307,
             "🥰",
             "GBR"
            ],
            [
             "United States",
             "North America",
             2010,
             7.163616180419922,
             "🥰",
             "USA"
            ],
            [
             "Uruguay",
             "South America",
             2010,
             6.062010765075684,
             "🥰",
             "URY"
            ]
           ],
           "geo": "geo",
           "hovertemplate": "<b>%{hovertext}</b><br><br>emoji=%{customdata[4]}<br>year=%{customdata[2]}<br>Happiness Score=%{customdata[3]}<br>continent=%{customdata[1]}<extra></extra>",
           "hovertext": [
            "Argentina",
            "Australia",
            "Austria",
            "Belgium",
            "Brazil",
            "Canada",
            "Chile",
            "Colombia",
            "Costa Rica",
            "Cyprus",
            "Czechia",
            "Denmark",
            "El Salvador",
            "Finland",
            "France",
            "Germany",
            "Guatemala",
            "Ireland",
            "Israel",
            "Italy",
            "Japan",
            "Kuwait",
            "Luxembourg",
            "Mexico",
            "Netherlands",
            "New Zealand",
            "Panama",
            "Qatar",
            "Saudi Arabia",
            "Singapore",
            "Slovenia",
            "Spain",
            "Sweden",
            "Thailand",
            "United Arab Emirates",
            "United Kingdom",
            "United States",
            "Uruguay"
           ],
           "legendgroup": "🥰",
           "locations": [
            "ARG",
            "AUS",
            "AUT",
            "BEL",
            "BRA",
            "CAN",
            "CHL",
            "COL",
            "CRI",
            "CYP",
            "CZE",
            "DNK",
            "SLV",
            "FIN",
            "FRA",
            "DEU",
            "GTM",
            "IRL",
            "ISR",
            "ITA",
            "JPN",
            "KWT",
            "LUX",
            "MEX",
            "NLD",
            "NZL",
            "PAN",
            "QAT",
            "SAU",
            "SGP",
            "SVN",
            "ESP",
            "SWE",
            "THA",
            "ARE",
            "GBR",
            "USA",
            "URY"
           ],
           "marker": {
            "color": "#636efa",
            "size": [
             6.441067218780518,
             7.450047016143799,
             7.30267858505249,
             6.853514194488525,
             6.837331295013428,
             7.650346279144287,
             6.635655879974365,
             6.408113479614258,
             7.271053791046143,
             6.3865461349487305,
             6.249617576599121,
             7.770515441894531,
             6.739911079406738,
             7.393264293670654,
             6.797901153564453,
             6.724531173706055,
             6.289748668670654,
             7.257389545440674,
             7.358916282653809,
             6.354238033294678,
             6.056752681732178,
             6.798151016235352,
             7.097251892089844,
             6.802388668060303,
             7.501875877380371,
             7.223756313323975,
             7.321467399597168,
             6.8496527671813965,
             6.307098388671875,
             6.531401634216309,
             6.082555294036865,
             6.188262462615967,
             7.496018886566162,
             6.216702938079834,
             7.0974555015563965,
             7.029364109039307,
             7.163616180419922,
             6.062010765075684
            ],
            "sizemode": "area",
            "sizeref": 7.970891952514648,
            "symbol": "circle"
           },
           "mode": "markers+text",
           "name": "🥰",
           "showlegend": true,
           "text": [
            "🥰",
            "🥰",
            "🥰",
            "🥰",
            "🥰",
            "🥰",
            "🥰",
            "🥰",
            "🥰",
            "🥰",
            "🥰",
            "🥰",
            "🥰",
            "🥰",
            "🥰",
            "🥰",
            "🥰",
            "🥰",
            "🥰",
            "🥰",
            "🥰",
            "🥰",
            "🥰",
            "🥰",
            "🥰",
            "🥰",
            "🥰",
            "🥰",
            "🥰",
            "🥰",
            "🥰",
            "🥰",
            "🥰",
            "🥰",
            "🥰",
            "🥰",
            "🥰",
            "🥰"
           ],
           "type": "scattergeo"
          },
          {
           "customdata": [
            [
             "Afghanistan",
             "Asia",
             2010,
             4.758380889892578,
             "🤖",
             "AFG"
            ],
            [
             "Albania",
             "Europe",
             2010,
             5.268936634063721,
             "🤖",
             "ALB"
            ],
            [
             "Algeria",
             "Africa",
             2010,
             5.463566780090332,
             "🤖",
             "DZA"
            ],
            [
             "Bahrain",
             "Asia",
             2010,
             5.936869144439697,
             "🤖",
             "BHR"
            ],
            [
             "Bangladesh",
             "Asia",
             2010,
             4.858481407165527,
             "🤖",
             "BGD"
            ],
            [
             "Belarus",
             "Europe",
             2010,
             5.525923252105713,
             "🤖",
             "BLR"
            ],
            [
             "Bolivia",
             "South America",
             2010,
             5.780620098114014,
             "🤖",
             "BOL"
            ],
            [
             "Bosnia and Herzegovina",
             "Europe",
             2010,
             4.668517589569092,
             "🤖",
             "BIH"
            ],
            [
             "Cameroon",
             "Africa",
             2010,
             4.554256916046143,
             "🤖",
             "CMR"
            ],
            [
             "China",
             "Asia",
             2010,
             4.652736663818359,
             "🤖",
             "CHN"
            ],
            [
             "Croatia",
             "Europe",
             2010,
             5.595575332641602,
             "🤖",
             "HRV"
            ],
            [
             "Djibouti",
             null,
             2010,
             5.005810737609863,
             "🤖",
             "DJI"
            ],
            [
             "Dominican Republic",
             "South America",
             2010,
             4.735021114349365,
             "🤖",
             "DOM"
            ],
            [
             "Ecuador",
             "South America",
             2010,
             5.8380513191223145,
             "🤖",
             "ECU"
            ],
            [
             "Ghana",
             "Africa",
             2010,
             4.6062517166137695,
             "🤖",
             "GHA"
            ],
            [
             "Greece",
             "Europe",
             2010,
             5.8395586013793945,
             "🤖",
             "GRC"
            ],
            [
             "Honduras",
             "South America",
             2010,
             5.86613130569458,
             "🤖",
             "HND"
            ],
            [
             "Hungary",
             "Europe",
             2010,
             4.725132465362549,
             "🤖",
             "HUN"
            ],
            [
             "India",
             "Asia",
             2010,
             4.989277362823486,
             "🤖",
             "IND"
            ],
            [
             "Indonesia",
             "Asia",
             2010,
             5.45729923248291,
             "🤖",
             "IDN"
            ],
            [
             "Iraq",
             "Asia",
             2010,
             5.065462112426758,
             "🤖",
             "IRQ"
            ],
            [
             "Jordan",
             "Asia",
             2010,
             5.569942474365234,
             "🤖",
             "JOR"
            ],
            [
             "Kazakhstan",
             "Asia",
             2010,
             5.514286518096924,
             "🤖",
             "KAZ"
            ],
            [
             "Kosovo",
             "Europe",
             2010,
             5.176601409912109,
             "🤖",
             "XKX"
            ],
            [
             "Lebanon",
             "Asia",
             2010,
             5.031899452209473,
             "🤖",
             "LBN"
            ],
            [
             "Lithuania",
             "Europe",
             2010,
             5.06582498550415,
             "🤖",
             "LTU"
            ],
            [
             "Malaysia",
             "Asia",
             2010,
             5.580281734466553,
             "🤖",
             "MYS"
            ],
            [
             "Malta",
             "Europe",
             2010,
             5.773874759674072,
             "🤖",
             "MLT"
            ],
            [
             "Mauritania",
             "Africa",
             2010,
             4.7723069190979,
             "🤖",
             "MRT"
            ],
            [
             "Moldova",
             "Europe",
             2010,
             5.589736461639404,
             "🤖",
             "MDA"
            ],
            [
             "Mongolia",
             "Asia",
             2010,
             4.58552360534668,
             "🤖",
             "MNG"
            ],
            [
             "Montenegro",
             "Europe",
             2010,
             5.45503044128418,
             "🤖",
             "MNE"
            ],
            [
             "Nicaragua",
             "South America",
             2010,
             5.686699390411377,
             "🤖",
             "NIC"
            ],
            [
             "Nigeria",
             "Africa",
             2010,
             4.760275840759277,
             "🤖",
             "NGA"
            ],
            [
             "Pakistan",
             "Asia",
             2010,
             5.7861328125,
             "🤖",
             "PAK"
            ],
            [
             "Paraguay",
             "South America",
             2010,
             5.841174125671387,
             "🤖",
             "PRY"
            ],
            [
             "Peru",
             "South America",
             2010,
             5.612785339355469,
             "🤖",
             "PER"
            ],
            [
             "Philippines",
             "Asia",
             2010,
             4.941514015197754,
             "🤖",
             "PHL"
            ],
            [
             "Poland",
             "Europe",
             2010,
             5.887029647827148,
             "🤖",
             "POL"
            ],
            [
             "Portugal",
             "Europe",
             2010,
             5.0945258140563965,
             "🤖",
             "PRT"
            ],
            [
             "Romania",
             "Europe",
             2010,
             4.909165859222412,
             "🤖",
             "ROU"
            ],
            [
             "South Africa",
             "Africa",
             2010,
             4.65242862701416,
             "🤖",
             "ZAF"
            ],
            [
             "Tunisia",
             "Africa",
             2010,
             5.130520820617676,
             "🤖",
             "TUN"
            ],
            [
             "Ukraine",
             "Europe",
             2010,
             5.05756139755249,
             "🤖",
             "UKR"
            ],
            [
             "Uzbekistan",
             "Asia",
             2010,
             5.09534215927124,
             "🤖",
             "UZB"
            ],
            [
             "Vietnam",
             "Asia",
             2010,
             5.295780658721924,
             "🤖",
             "VNM"
            ],
            [
             "Zimbabwe",
             "Africa",
             2010,
             4.681569576263428,
             "🤖",
             "ZWE"
            ]
           ],
           "geo": "geo",
           "hovertemplate": "<b>%{hovertext}</b><br><br>emoji=%{customdata[4]}<br>year=%{customdata[2]}<br>Happiness Score=%{customdata[3]}<br>continent=%{customdata[1]}<extra></extra>",
           "hovertext": [
            "Afghanistan",
            "Albania",
            "Algeria",
            "Bahrain",
            "Bangladesh",
            "Belarus",
            "Bolivia",
            "Bosnia and Herzegovina",
            "Cameroon",
            "China",
            "Croatia",
            "Djibouti",
            "Dominican Republic",
            "Ecuador",
            "Ghana",
            "Greece",
            "Honduras",
            "Hungary",
            "India",
            "Indonesia",
            "Iraq",
            "Jordan",
            "Kazakhstan",
            "Kosovo",
            "Lebanon",
            "Lithuania",
            "Malaysia",
            "Malta",
            "Mauritania",
            "Moldova",
            "Mongolia",
            "Montenegro",
            "Nicaragua",
            "Nigeria",
            "Pakistan",
            "Paraguay",
            "Peru",
            "Philippines",
            "Poland",
            "Portugal",
            "Romania",
            "South Africa",
            "Tunisia",
            "Ukraine",
            "Uzbekistan",
            "Vietnam",
            "Zimbabwe"
           ],
           "legendgroup": "🤖",
           "locations": [
            "AFG",
            "ALB",
            "DZA",
            "BHR",
            "BGD",
            "BLR",
            "BOL",
            "BIH",
            "CMR",
            "CHN",
            "HRV",
            "DJI",
            "DOM",
            "ECU",
            "GHA",
            "GRC",
            "HND",
            "HUN",
            "IND",
            "IDN",
            "IRQ",
            "JOR",
            "KAZ",
            "XKX",
            "LBN",
            "LTU",
            "MYS",
            "MLT",
            "MRT",
            "MDA",
            "MNG",
            "MNE",
            "NIC",
            "NGA",
            "PAK",
            "PRY",
            "PER",
            "PHL",
            "POL",
            "PRT",
            "ROU",
            "ZAF",
            "TUN",
            "UKR",
            "UZB",
            "VNM",
            "ZWE"
           ],
           "marker": {
            "color": "#EF553B",
            "size": [
             4.758380889892578,
             5.268936634063721,
             5.463566780090332,
             5.936869144439697,
             4.858481407165527,
             5.525923252105713,
             5.780620098114014,
             4.668517589569092,
             4.554256916046143,
             4.652736663818359,
             5.595575332641602,
             5.005810737609863,
             4.735021114349365,
             5.8380513191223145,
             4.6062517166137695,
             5.8395586013793945,
             5.86613130569458,
             4.725132465362549,
             4.989277362823486,
             5.45729923248291,
             5.065462112426758,
             5.569942474365234,
             5.514286518096924,
             5.176601409912109,
             5.031899452209473,
             5.06582498550415,
             5.580281734466553,
             5.773874759674072,
             4.7723069190979,
             5.589736461639404,
             4.58552360534668,
             5.45503044128418,
             5.686699390411377,
             4.760275840759277,
             5.7861328125,
             5.841174125671387,
             5.612785339355469,
             4.941514015197754,
             5.887029647827148,
             5.0945258140563965,
             4.909165859222412,
             4.65242862701416,
             5.130520820617676,
             5.05756139755249,
             5.09534215927124,
             5.295780658721924,
             4.681569576263428
            ],
            "sizemode": "area",
            "sizeref": 7.970891952514648,
            "symbol": "circle"
           },
           "mode": "markers+text",
           "name": "🤖",
           "showlegend": true,
           "text": [
            "🤖",
            "🤖",
            "🤖",
            "🤖",
            "🤖",
            "🤖",
            "🤖",
            "🤖",
            "🤖",
            "🤖",
            "🤖",
            "🤖",
            "🤖",
            "🤖",
            "🤖",
            "🤖",
            "🤖",
            "🤖",
            "🤖",
            "🤖",
            "🤖",
            "🤖",
            "🤖",
            "🤖",
            "🤖",
            "🤖",
            "🤖",
            "🤖",
            "🤖",
            "🤖",
            "🤖",
            "🤖",
            "🤖",
            "🤖",
            "🤖",
            "🤖",
            "🤖",
            "🤖",
            "🤖",
            "🤖",
            "🤖",
            "🤖",
            "🤖",
            "🤖",
            "🤖",
            "🤖",
            "🤖"
           ],
           "type": "scattergeo"
          },
          {
           "customdata": [
            [
             "Armenia",
             "Asia",
             2010,
             4.36781120300293,
             "🤢",
             "ARM"
            ],
            [
             "Azerbaijan",
             "Asia",
             2010,
             4.218610763549805,
             "🤢",
             "AZE"
            ],
            [
             "Botswana",
             "Africa",
             2010,
             3.5530202388763428,
             "🤢",
             "BWA"
            ],
            [
             "Bulgaria",
             "Europe",
             2010,
             3.912276268005371,
             "🤢",
             "BGR"
            ],
            [
             "Burkina Faso",
             "Africa",
             2010,
             4.035560607910156,
             "🤢",
             "BFA"
            ],
            [
             "Cambodia",
             "Asia",
             2010,
             4.1410722732543945,
             "🤢",
             "KHM"
            ],
            [
             "Central African Republic",
             null,
             2010,
             3.567892551422119,
             "🤢",
             "CAF"
            ],
            [
             "Chad",
             "Africa",
             2010,
             3.742871046066284,
             "🤢",
             "TCD"
            ],
            [
             "Comoros",
             null,
             2010,
             3.812191009521485,
             "🤢",
             "COM"
            ],
            [
             "Georgia",
             "Asia",
             2010,
             4.101837158203125,
             "🤢",
             "GEO"
            ],
            [
             "Haiti",
             "South America",
             2010,
             3.7659988403320312,
             "🤢",
             "HTI"
            ],
            [
             "Kenya",
             "Africa",
             2010,
             4.255859375,
             "🤢",
             "KEN"
            ],
            [
             "Liberia",
             "Africa",
             2010,
             4.196063041687012,
             "🤢",
             "LBR"
            ],
            [
             "Mali",
             "Africa",
             2010,
             3.7623050212860103,
             "🤢",
             "MLI"
            ],
            [
             "Morocco",
             "Africa",
             2010,
             4.383247375488281,
             "🤢",
             "MAR"
            ],
            [
             "Nepal",
             "Asia",
             2010,
             4.349675178527832,
             "🤢",
             "NPL"
            ],
            [
             "Niger",
             "Africa",
             2010,
             4.101016044616699,
             "🤢",
             "NER"
            ],
            [
             "North Macedonia",
             null,
             2010,
             4.180202007293701,
             "🤢",
             "MKD"
            ],
            [
             "Senegal",
             "Africa",
             2010,
             4.372156143188477,
             "🤢",
             "SEN"
            ],
            [
             "Serbia",
             "Europe",
             2010,
             4.461304187774658,
             "🤢",
             "SRB"
            ],
            [
             "Sierra Leone",
             "Africa",
             2010,
             4.133955955505371,
             "🤢",
             "SLE"
            ],
            [
             "Sri Lanka",
             "Asia",
             2010,
             3.976905107498169,
             "🤢",
             "LKA"
            ],
            [
             "Sudan",
             null,
             2010,
             4.435159683227539,
             "🤢",
             "SDN"
            ],
            [
             "Tajikistan",
             "Asia",
             2010,
             4.380636215209961,
             "🤢",
             "TJK"
            ],
            [
             "Tanzania",
             "Africa",
             2010,
             3.2291290760040283,
             "🤢",
             "TZA"
            ],
            [
             "Uganda",
             "Africa",
             2010,
             4.192882061004639,
             "🤢",
             "UGA"
            ]
           ],
           "geo": "geo",
           "hovertemplate": "<b>%{hovertext}</b><br><br>emoji=%{customdata[4]}<br>year=%{customdata[2]}<br>Happiness Score=%{customdata[3]}<br>continent=%{customdata[1]}<extra></extra>",
           "hovertext": [
            "Armenia",
            "Azerbaijan",
            "Botswana",
            "Bulgaria",
            "Burkina Faso",
            "Cambodia",
            "Central African Republic",
            "Chad",
            "Comoros",
            "Georgia",
            "Haiti",
            "Kenya",
            "Liberia",
            "Mali",
            "Morocco",
            "Nepal",
            "Niger",
            "North Macedonia",
            "Senegal",
            "Serbia",
            "Sierra Leone",
            "Sri Lanka",
            "Sudan",
            "Tajikistan",
            "Tanzania",
            "Uganda"
           ],
           "legendgroup": "🤢",
           "locations": [
            "ARM",
            "AZE",
            "BWA",
            "BGR",
            "BFA",
            "KHM",
            "CAF",
            "TCD",
            "COM",
            "GEO",
            "HTI",
            "KEN",
            "LBR",
            "MLI",
            "MAR",
            "NPL",
            "NER",
            "MKD",
            "SEN",
            "SRB",
            "SLE",
            "LKA",
            "SDN",
            "TJK",
            "TZA",
            "UGA"
           ],
           "marker": {
            "color": "#00cc96",
            "size": [
             4.36781120300293,
             4.218610763549805,
             3.5530202388763428,
             3.912276268005371,
             4.035560607910156,
             4.1410722732543945,
             3.567892551422119,
             3.742871046066284,
             3.812191009521485,
             4.101837158203125,
             3.7659988403320312,
             4.255859375,
             4.196063041687012,
             3.7623050212860103,
             4.383247375488281,
             4.349675178527832,
             4.101016044616699,
             4.180202007293701,
             4.372156143188477,
             4.461304187774658,
             4.133955955505371,
             3.976905107498169,
             4.435159683227539,
             4.380636215209961,
             3.2291290760040283,
             4.192882061004639
            ],
            "sizemode": "area",
            "sizeref": 7.970891952514648,
            "symbol": "circle"
           },
           "mode": "markers+text",
           "name": "🤢",
           "showlegend": true,
           "text": [
            "🤢",
            "🤢",
            "🤢",
            "🤢",
            "🤢",
            "🤢",
            "🤢",
            "🤢",
            "🤢",
            "🤢",
            "🤢",
            "🤢",
            "🤢",
            "🤢",
            "🤢",
            "🤢",
            "🤢",
            "🤢",
            "🤢",
            "🤢",
            "🤢",
            "🤢",
            "🤢",
            "🤢",
            "🤢",
            "🤢"
           ],
           "type": "scattergeo"
          }
         ],
         "name": "2010"
        },
        {
         "data": [
          {
           "customdata": [
            [
             "Argentina",
             "South America",
             2011,
             6.775805473327637,
             "🥰",
             "ARG"
            ],
            [
             "Australia",
             "Oceania",
             2011,
             7.405616283416748,
             "🥰",
             "AUS"
            ],
            [
             "Austria",
             "Europe",
             2011,
             7.470512866973877,
             "🥰",
             "AUT"
            ],
            [
             "Belgium",
             "Europe",
             2011,
             7.111363887786865,
             "🥰",
             "BEL"
            ],
            [
             "Brazil",
             "South America",
             2011,
             7.037816524505615,
             "🥰",
             "BRA"
            ],
            [
             "Canada",
             "North America",
             2011,
             7.426053524017334,
             "🥰",
             "CAN"
            ],
            [
             "Chile",
             "South America",
             2011,
             6.526334762573242,
             "🥰",
             "CHL"
            ],
            [
             "Colombia",
             "South America",
             2011,
             6.463952541351318,
             "🥰",
             "COL"
            ],
            [
             "Costa Rica",
             "South America",
             2011,
             7.228888511657715,
             "🥰",
             "CRI"
            ],
            [
             "Cyprus",
             "Asia",
             2011,
             6.689608573913574,
             "🥰",
             "CYP"
            ],
            [
             "Czechia",
             null,
             2011,
             6.331490993499756,
             "🥰",
             "CZE"
            ],
            [
             "Denmark",
             "Europe",
             2011,
             7.78823184967041,
             "🥰",
             "DNK"
            ],
            [
             "Finland",
             "Europe",
             2011,
             7.354225158691406,
             "🥰",
             "FIN"
            ],
            [
             "France",
             "Europe",
             2011,
             6.959185123443604,
             "🥰",
             "FRA"
            ],
            [
             "Germany",
             "Europe",
             2011,
             6.621312141418457,
             "🥰",
             "DEU"
            ],
            [
             "Ireland",
             "Europe",
             2011,
             7.006904125213623,
             "🥰",
             "IRL"
            ],
            [
             "Israel",
             "Asia",
             2011,
             7.43314790725708,
             "🥰",
             "ISR"
            ],
            [
             "Italy",
             "Europe",
             2011,
             6.05708646774292,
             "🥰",
             "ITA"
            ],
            [
             "Japan",
             "Asia",
             2011,
             6.26279354095459,
             "🥰",
             "JPN"
            ],
            [
             "Kuwait",
             "Asia",
             2011,
             6.377699375152588,
             "🥰",
             "KWT"
            ],
            [
             "Luxembourg",
             "Europe",
             2011,
             7.101400375366211,
             "🥰",
             "LUX"
            ],
            [
             "Malta",
             "Europe",
             2011,
             6.154718399047852,
             "🥰",
             "MLT"
            ],
            [
             "Mexico",
             "North America",
             2011,
             6.909515380859375,
             "🥰",
             "MEX"
            ],
            [
             "Netherlands",
             "Europe",
             2011,
             7.563797950744629,
             "🥰",
             "NLD"
            ],
            [
             "New Zealand",
             "Oceania",
             2011,
             7.190638065338135,
             "🥰",
             "NZL"
            ],
            [
             "Oman",
             null,
             2011,
             6.852982044219971,
             "🥰",
             "OMN"
            ],
            [
             "Panama",
             "South America",
             2011,
             7.248080730438232,
             "🥰",
             "PAN"
            ],
            [
             "Qatar",
             null,
             2011,
             6.591604232788086,
             "🥰",
             "QAT"
            ],
            [
             "Saudi Arabia",
             "Asia",
             2011,
             6.699789524078369,
             "🥰",
             "SAU"
            ],
            [
             "Singapore",
             "Asia",
             2011,
             6.561041831970215,
             "🥰",
             "SGP"
            ],
            [
             "Slovenia",
             "Europe",
             2011,
             6.035964012145996,
             "🥰",
             "SVN"
            ],
            [
             "Spain",
             "Europe",
             2011,
             6.518249034881592,
             "🥰",
             "ESP"
            ],
            [
             "Sweden",
             "Europe",
             2011,
             7.382232189178467,
             "🥰",
             "SWE"
            ],
            [
             "Thailand",
             "Asia",
             2011,
             6.663609027862549,
             "🥰",
             "THA"
            ],
            [
             "Trinidad and Tobago",
             null,
             2011,
             6.51874589920044,
             "🥰",
             "TTO"
            ],
            [
             "United Arab Emirates",
             "Asia",
             2011,
             7.118701457977295,
             "🥰",
             "ARE"
            ],
            [
             "United Kingdom",
             "Europe",
             2011,
             6.869248867034912,
             "🥰",
             "GBR"
            ],
            [
             "United States",
             "North America",
             2011,
             7.115138530731201,
             "🥰",
             "USA"
            ],
            [
             "Uruguay",
             "South America",
             2011,
             6.554047107696533,
             "🥰",
             "URY"
            ]
           ],
           "geo": "geo",
           "hovertemplate": "<b>%{hovertext}</b><br><br>emoji=%{customdata[4]}<br>year=%{customdata[2]}<br>Happiness Score=%{customdata[3]}<br>continent=%{customdata[1]}<extra></extra>",
           "hovertext": [
            "Argentina",
            "Australia",
            "Austria",
            "Belgium",
            "Brazil",
            "Canada",
            "Chile",
            "Colombia",
            "Costa Rica",
            "Cyprus",
            "Czechia",
            "Denmark",
            "Finland",
            "France",
            "Germany",
            "Ireland",
            "Israel",
            "Italy",
            "Japan",
            "Kuwait",
            "Luxembourg",
            "Malta",
            "Mexico",
            "Netherlands",
            "New Zealand",
            "Oman",
            "Panama",
            "Qatar",
            "Saudi Arabia",
            "Singapore",
            "Slovenia",
            "Spain",
            "Sweden",
            "Thailand",
            "Trinidad and Tobago",
            "United Arab Emirates",
            "United Kingdom",
            "United States",
            "Uruguay"
           ],
           "legendgroup": "🥰",
           "locations": [
            "ARG",
            "AUS",
            "AUT",
            "BEL",
            "BRA",
            "CAN",
            "CHL",
            "COL",
            "CRI",
            "CYP",
            "CZE",
            "DNK",
            "FIN",
            "FRA",
            "DEU",
            "IRL",
            "ISR",
            "ITA",
            "JPN",
            "KWT",
            "LUX",
            "MLT",
            "MEX",
            "NLD",
            "NZL",
            "OMN",
            "PAN",
            "QAT",
            "SAU",
            "SGP",
            "SVN",
            "ESP",
            "SWE",
            "THA",
            "TTO",
            "ARE",
            "GBR",
            "USA",
            "URY"
           ],
           "marker": {
            "color": "#636efa",
            "size": [
             6.775805473327637,
             7.405616283416748,
             7.470512866973877,
             7.111363887786865,
             7.037816524505615,
             7.426053524017334,
             6.526334762573242,
             6.463952541351318,
             7.228888511657715,
             6.689608573913574,
             6.331490993499756,
             7.78823184967041,
             7.354225158691406,
             6.959185123443604,
             6.621312141418457,
             7.006904125213623,
             7.43314790725708,
             6.05708646774292,
             6.26279354095459,
             6.377699375152588,
             7.101400375366211,
             6.154718399047852,
             6.909515380859375,
             7.563797950744629,
             7.190638065338135,
             6.852982044219971,
             7.248080730438232,
             6.591604232788086,
             6.699789524078369,
             6.561041831970215,
             6.035964012145996,
             6.518249034881592,
             7.382232189178467,
             6.663609027862549,
             6.51874589920044,
             7.118701457977295,
             6.869248867034912,
             7.115138530731201,
             6.554047107696533
            ],
            "sizemode": "area",
            "sizeref": 7.970891952514648,
            "symbol": "circle"
           },
           "mode": "markers+text",
           "name": "🥰",
           "showlegend": true,
           "text": [
            "🥰",
            "🥰",
            "🥰",
            "🥰",
            "🥰",
            "🥰",
            "🥰",
            "🥰",
            "🥰",
            "🥰",
            "🥰",
            "🥰",
            "🥰",
            "🥰",
            "🥰",
            "🥰",
            "🥰",
            "🥰",
            "🥰",
            "🥰",
            "🥰",
            "🥰",
            "🥰",
            "🥰",
            "🥰",
            "🥰",
            "🥰",
            "🥰",
            "🥰",
            "🥰",
            "🥰",
            "🥰",
            "🥰",
            "🥰",
            "🥰",
            "🥰",
            "🥰",
            "🥰",
            "🥰"
           ],
           "type": "scattergeo"
          },
          {
           "customdata": [
            [
             "Albania",
             "Europe",
             2011,
             5.867421627044678,
             "🤖",
             "ALB"
            ],
            [
             "Algeria",
             "Africa",
             2011,
             5.31719446182251,
             "🤖",
             "DZA"
            ],
            [
             "Angola",
             null,
             2011,
             5.589000701904297,
             "🤖",
             "AGO"
            ],
            [
             "Azerbaijan",
             "Asia",
             2011,
             4.680469512939453,
             "🤖",
             "AZE"
            ],
            [
             "Bahrain",
             "Asia",
             2011,
             4.823976039886475,
             "🤖",
             "BHR"
            ],
            [
             "Bangladesh",
             "Asia",
             2011,
             4.985649108886719,
             "🤖",
             "BGD"
            ],
            [
             "Belarus",
             "Europe",
             2011,
             5.225307941436768,
             "🤖",
             "BLR"
            ],
            [
             "Bolivia",
             "South America",
             2011,
             5.778874397277832,
             "🤖",
             "BOL"
            ],
            [
             "Bosnia and Herzegovina",
             "Europe",
             2011,
             4.994670867919922,
             "🤖",
             "BIH"
            ],
            [
             "Burkina Faso",
             "Africa",
             2011,
             4.785367488861084,
             "🤖",
             "BFA"
            ],
            [
             "China",
             "Asia",
             2011,
             5.03720760345459,
             "🤖",
             "CHN"
            ],
            [
             "Croatia",
             "Europe",
             2011,
             5.385372638702393,
             "🤖",
             "HRV"
            ],
            [
             "Dominican Republic",
             "South America",
             2011,
             5.396535396575928,
             "🤖",
             "DOM"
            ],
            [
             "Ecuador",
             "South America",
             2011,
             5.795088291168213,
             "🤖",
             "ECU"
            ],
            [
             "El Salvador",
             "South America",
             2011,
             4.741294860839844,
             "🤖",
             "SLV"
            ],
            [
             "Estonia",
             "Europe",
             2011,
             5.486819744110107,
             "🤖",
             "EST"
            ],
            [
             "Eswatini",
             null,
             2011,
             4.867091178894043,
             "🤖",
             "SWZ"
            ],
            [
             "Ghana",
             "Africa",
             2011,
             5.608199596405029,
             "🤖",
             "GHA"
            ],
            [
             "Greece",
             "Europe",
             2011,
             5.372039794921875,
             "🤖",
             "GRC"
            ],
            [
             "Guatemala",
             "South America",
             2011,
             5.743353843688965,
             "🤖",
             "GTM"
            ],
            [
             "Haiti",
             "South America",
             2011,
             4.844573974609375,
             "🤖",
             "HTI"
            ],
            [
             "Honduras",
             "South America",
             2011,
             4.961031436920166,
             "🤖",
             "HND"
            ],
            [
             "Hungary",
             "Europe",
             2011,
             4.9176025390625,
             "🤖",
             "HUN"
            ],
            [
             "India",
             "Asia",
             2011,
             4.634871482849121,
             "🤖",
             "IND"
            ],
            [
             "Indonesia",
             "Asia",
             2011,
             5.172608375549316,
             "🤖",
             "IDN"
            ],
            [
             "Iraq",
             "Asia",
             2011,
             4.725366115570068,
             "🤖",
             "IRQ"
            ],
            [
             "Jamaica",
             "South America",
             2011,
             5.374446392059326,
             "🤖",
             "JAM"
            ],
            [
             "Jordan",
             "Asia",
             2011,
             5.539327621459961,
             "🤖",
             "JOR"
            ],
            [
             "Kazakhstan",
             "Asia",
             2011,
             5.735662937164307,
             "🤖",
             "KAZ"
            ],
            [
             "Kosovo",
             "Europe",
             2011,
             4.859501838684082,
             "🤖",
             "XKX"
            ],
            [
             "Latvia",
             "Europe",
             2011,
             4.966811656951904,
             "🤖",
             "LVA"
            ],
            [
             "Lebanon",
             "Asia",
             2011,
             5.1875715255737305,
             "🤖",
             "LBN"
            ],
            [
             "Lesotho",
             null,
             2011,
             4.897514820098877,
             "🤖",
             "LSO"
            ],
            [
             "Lithuania",
             "Europe",
             2011,
             5.432437419891357,
             "🤖",
             "LTU"
            ],
            [
             "Malaysia",
             "Asia",
             2011,
             5.786367416381836,
             "🤖",
             "MYS"
            ],
            [
             "Mali",
             "Africa",
             2011,
             4.66683292388916,
             "🤖",
             "MLI"
            ],
            [
             "Mauritania",
             "Africa",
             2011,
             4.784804344177246,
             "🤖",
             "MRT"
            ],
            [
             "Mauritius",
             "Africa",
             2011,
             5.477073192596436,
             "🤖",
             "MUS"
            ],
            [
             "Moldova",
             "Europe",
             2011,
             5.792262554168701,
             "🤖",
             "MDA"
            ],
            [
             "Mongolia",
             "Asia",
             2011,
             5.031173706054688,
             "🤖",
             "MNG"
            ],
            [
             "Montenegro",
             "Europe",
             2011,
             5.223116874694824,
             "🤖",
             "MNE"
            ],
            [
             "Morocco",
             "Africa",
             2011,
             5.084972858428955,
             "🤖",
             "MAR"
            ],
            [
             "Mozambique",
             null,
             2011,
             4.97111177444458,
             "🤖",
             "MOZ"
            ],
            [
             "Nicaragua",
             "South America",
             2011,
             5.385705471038818,
             "🤖",
             "NIC"
            ],
            [
             "Niger",
             "Africa",
             2011,
             4.5558295249938965,
             "🤖",
             "NER"
            ],
            [
             "North Macedonia",
             null,
             2011,
             4.89818000793457,
             "🤖",
             "MKD"
            ],
            [
             "Pakistan",
             "Asia",
             2011,
             5.267186164855957,
             "🤖",
             "PAK"
            ],
            [
             "Paraguay",
             "South America",
             2011,
             5.677080631256104,
             "🤖",
             "PRY"
            ],
            [
             "Peru",
             "South America",
             2011,
             5.892457485198975,
             "🤖",
             "PER"
            ],
            [
             "Philippines",
             "Asia",
             2011,
             4.993956565856934,
             "🤖",
             "PHL"
            ],
            [
             "Poland",
             "Europe",
             2011,
             5.646204948425293,
             "🤖",
             "POL"
            ],
            [
             "Portugal",
             "Europe",
             2011,
             5.219997882843018,
             "🤖",
             "PRT"
            ],
            [
             "Romania",
             "Europe",
             2011,
             5.022757530212402,
             "🤖",
             "ROU"
            ],
            [
             "Serbia",
             "Europe",
             2011,
             4.815186500549316,
             "🤖",
             "SRB"
            ],
            [
             "Sierra Leone",
             "Africa",
             2011,
             4.501643657684326,
             "🤖",
             "SLE"
            ],
            [
             "South Africa",
             "Africa",
             2011,
             4.930511474609375,
             "🤖",
             "ZAF"
            ],
            [
             "Tunisia",
             "Africa",
             2011,
             4.876482009887695,
             "🤖",
             "TUN"
            ],
            [
             "Turkmenistan",
             "Asia",
             2011,
             5.791754722595215,
             "🤖",
             "TKM"
            ],
            [
             "Uganda",
             "Africa",
             2011,
             4.826001167297363,
             "🤖",
             "UGA"
            ],
            [
             "Ukraine",
             "Europe",
             2011,
             5.083132743835449,
             "🤖",
             "UKR"
            ],
            [
             "Uzbekistan",
             "Asia",
             2011,
             5.738744258880615,
             "🤖",
             "UZB"
            ],
            [
             "Vietnam",
             "Asia",
             2011,
             5.7673444747924805,
             "🤖",
             "VNM"
            ],
            [
             "Zambia",
             "Africa",
             2011,
             4.9991135597229,
             "🤖",
             "ZMB"
            ],
            [
             "Zimbabwe",
             "Africa",
             2011,
             4.845641613006592,
             "🤖",
             "ZWE"
            ]
           ],
           "geo": "geo",
           "hovertemplate": "<b>%{hovertext}</b><br><br>emoji=%{customdata[4]}<br>year=%{customdata[2]}<br>Happiness Score=%{customdata[3]}<br>continent=%{customdata[1]}<extra></extra>",
           "hovertext": [
            "Albania",
            "Algeria",
            "Angola",
            "Azerbaijan",
            "Bahrain",
            "Bangladesh",
            "Belarus",
            "Bolivia",
            "Bosnia and Herzegovina",
            "Burkina Faso",
            "China",
            "Croatia",
            "Dominican Republic",
            "Ecuador",
            "El Salvador",
            "Estonia",
            "Eswatini",
            "Ghana",
            "Greece",
            "Guatemala",
            "Haiti",
            "Honduras",
            "Hungary",
            "India",
            "Indonesia",
            "Iraq",
            "Jamaica",
            "Jordan",
            "Kazakhstan",
            "Kosovo",
            "Latvia",
            "Lebanon",
            "Lesotho",
            "Lithuania",
            "Malaysia",
            "Mali",
            "Mauritania",
            "Mauritius",
            "Moldova",
            "Mongolia",
            "Montenegro",
            "Morocco",
            "Mozambique",
            "Nicaragua",
            "Niger",
            "North Macedonia",
            "Pakistan",
            "Paraguay",
            "Peru",
            "Philippines",
            "Poland",
            "Portugal",
            "Romania",
            "Serbia",
            "Sierra Leone",
            "South Africa",
            "Tunisia",
            "Turkmenistan",
            "Uganda",
            "Ukraine",
            "Uzbekistan",
            "Vietnam",
            "Zambia",
            "Zimbabwe"
           ],
           "legendgroup": "🤖",
           "locations": [
            "ALB",
            "DZA",
            "AGO",
            "AZE",
            "BHR",
            "BGD",
            "BLR",
            "BOL",
            "BIH",
            "BFA",
            "CHN",
            "HRV",
            "DOM",
            "ECU",
            "SLV",
            "EST",
            "SWZ",
            "GHA",
            "GRC",
            "GTM",
            "HTI",
            "HND",
            "HUN",
            "IND",
            "IDN",
            "IRQ",
            "JAM",
            "JOR",
            "KAZ",
            "XKX",
            "LVA",
            "LBN",
            "LSO",
            "LTU",
            "MYS",
            "MLI",
            "MRT",
            "MUS",
            "MDA",
            "MNG",
            "MNE",
            "MAR",
            "MOZ",
            "NIC",
            "NER",
            "MKD",
            "PAK",
            "PRY",
            "PER",
            "PHL",
            "POL",
            "PRT",
            "ROU",
            "SRB",
            "SLE",
            "ZAF",
            "TUN",
            "TKM",
            "UGA",
            "UKR",
            "UZB",
            "VNM",
            "ZMB",
            "ZWE"
           ],
           "marker": {
            "color": "#EF553B",
            "size": [
             5.867421627044678,
             5.31719446182251,
             5.589000701904297,
             4.680469512939453,
             4.823976039886475,
             4.985649108886719,
             5.225307941436768,
             5.778874397277832,
             4.994670867919922,
             4.785367488861084,
             5.03720760345459,
             5.385372638702393,
             5.396535396575928,
             5.795088291168213,
             4.741294860839844,
             5.486819744110107,
             4.867091178894043,
             5.608199596405029,
             5.372039794921875,
             5.743353843688965,
             4.844573974609375,
             4.961031436920166,
             4.9176025390625,
             4.634871482849121,
             5.172608375549316,
             4.725366115570068,
             5.374446392059326,
             5.539327621459961,
             5.735662937164307,
             4.859501838684082,
             4.966811656951904,
             5.1875715255737305,
             4.897514820098877,
             5.432437419891357,
             5.786367416381836,
             4.66683292388916,
             4.784804344177246,
             5.477073192596436,
             5.792262554168701,
             5.031173706054688,
             5.223116874694824,
             5.084972858428955,
             4.97111177444458,
             5.385705471038818,
             4.5558295249938965,
             4.89818000793457,
             5.267186164855957,
             5.677080631256104,
             5.892457485198975,
             4.993956565856934,
             5.646204948425293,
             5.219997882843018,
             5.022757530212402,
             4.815186500549316,
             4.501643657684326,
             4.930511474609375,
             4.876482009887695,
             5.791754722595215,
             4.826001167297363,
             5.083132743835449,
             5.738744258880615,
             5.7673444747924805,
             4.9991135597229,
             4.845641613006592
            ],
            "sizemode": "area",
            "sizeref": 7.970891952514648,
            "symbol": "circle"
           },
           "mode": "markers+text",
           "name": "🤖",
           "showlegend": true,
           "text": [
            "🤖",
            "🤖",
            "🤖",
            "🤖",
            "🤖",
            "🤖",
            "🤖",
            "🤖",
            "🤖",
            "🤖",
            "🤖",
            "🤖",
            "🤖",
            "🤖",
            "🤖",
            "🤖",
            "🤖",
            "🤖",
            "🤖",
            "🤖",
            "🤖",
            "🤖",
            "🤖",
            "🤖",
            "🤖",
            "🤖",
            "🤖",
            "🤖",
            "🤖",
            "🤖",
            "🤖",
            "🤖",
            "🤖",
            "🤖",
            "🤖",
            "🤖",
            "🤖",
            "🤖",
            "🤖",
            "🤖",
            "🤖",
            "🤖",
            "🤖",
            "🤖",
            "🤖",
            "🤖",
            "🤖",
            "🤖",
            "🤖",
            "🤖",
            "🤖",
            "🤖",
            "🤖",
            "🤖",
            "🤖",
            "🤖",
            "🤖",
            "🤖",
            "🤖",
            "🤖",
            "🤖",
            "🤖",
            "🤖",
            "🤖"
           ],
           "type": "scattergeo"
          },
          {
           "customdata": [
            [
             "Afghanistan",
             "Asia",
             2011,
             3.831719160079956,
             "🤢",
             "AFG"
            ],
            [
             "Armenia",
             "Asia",
             2011,
             4.260491371154785,
             "🤢",
             "ARM"
            ],
            [
             "Benin",
             "Africa",
             2011,
             3.870279550552368,
             "🤢",
             "BEN"
            ],
            [
             "Botswana",
             "Africa",
             2011,
             3.519921064376831,
             "🤢",
             "BWA"
            ],
            [
             "Bulgaria",
             "Europe",
             2011,
             3.875382423400879,
             "🤢",
             "BGR"
            ],
            [
             "Burundi",
             "Africa",
             2011,
             3.7058942317962646,
             "🤢",
             "BDI"
            ],
            [
             "Cambodia",
             "Asia",
             2011,
             4.161225318908691,
             "🤢",
             "KHM"
            ],
            [
             "Cameroon",
             "Africa",
             2011,
             4.433885097503662,
             "🤢",
             "CMR"
            ],
            [
             "Central African Republic",
             null,
             2011,
             3.677826404571533,
             "🤢",
             "CAF"
            ],
            [
             "Chad",
             "Africa",
             2011,
             4.393482208251953,
             "🤢",
             "TCD"
            ],
            [
             "Comoros",
             null,
             2011,
             3.8384859561920166,
             "🤢",
             "COM"
            ],
            [
             "Djibouti",
             null,
             2011,
             4.3691935539245605,
             "🤢",
             "DJI"
            ],
            [
             "Gabon",
             "Africa",
             2011,
             4.255400657653809,
             "🤢",
             "GAB"
            ],
            [
             "Georgia",
             "Asia",
             2011,
             4.203030586242676,
             "🤢",
             "GEO"
            ],
            [
             "Guinea",
             "South America",
             2011,
             4.044569492340088,
             "🤢",
             "GIN"
            ],
            [
             "Kenya",
             "Africa",
             2011,
             4.405310153961182,
             "🤢",
             "KEN"
            ],
            [
             "Madagascar",
             "Africa",
             2011,
             4.381415367126465,
             "🤢",
             "MDG"
            ],
            [
             "Malawi",
             "Africa",
             2011,
             3.9460625648498535,
             "🤢",
             "MWI"
            ],
            [
             "Nepal",
             "Asia",
             2011,
             3.8094446659088135,
             "🤢",
             "NPL"
            ],
            [
             "Rwanda",
             "Africa",
             2011,
             4.09743595123291,
             "🤢",
             "RWA"
            ],
            [
             "Senegal",
             "Africa",
             2011,
             3.8342015743255615,
             "🤢",
             "SEN"
            ],
            [
             "Sri Lanka",
             "Asia",
             2011,
             4.180569171905518,
             "🤢",
             "LKA"
            ],
            [
             "Sudan",
             null,
             2011,
             4.314456462860107,
             "🤢",
             "SDN"
            ],
            [
             "Tajikistan",
             "Asia",
             2011,
             4.26267147064209,
             "🤢",
             "TJK"
            ],
            [
             "Tanzania",
             "Africa",
             2011,
             4.073562145233154,
             "🤢",
             "TZA"
            ],
            [
             "Togo",
             "Africa",
             2011,
             2.93622088432312,
             "🤢",
             "TGO"
            ]
           ],
           "geo": "geo",
           "hovertemplate": "<b>%{hovertext}</b><br><br>emoji=%{customdata[4]}<br>year=%{customdata[2]}<br>Happiness Score=%{customdata[3]}<br>continent=%{customdata[1]}<extra></extra>",
           "hovertext": [
            "Afghanistan",
            "Armenia",
            "Benin",
            "Botswana",
            "Bulgaria",
            "Burundi",
            "Cambodia",
            "Cameroon",
            "Central African Republic",
            "Chad",
            "Comoros",
            "Djibouti",
            "Gabon",
            "Georgia",
            "Guinea",
            "Kenya",
            "Madagascar",
            "Malawi",
            "Nepal",
            "Rwanda",
            "Senegal",
            "Sri Lanka",
            "Sudan",
            "Tajikistan",
            "Tanzania",
            "Togo"
           ],
           "legendgroup": "🤢",
           "locations": [
            "AFG",
            "ARM",
            "BEN",
            "BWA",
            "BGR",
            "BDI",
            "KHM",
            "CMR",
            "CAF",
            "TCD",
            "COM",
            "DJI",
            "GAB",
            "GEO",
            "GIN",
            "KEN",
            "MDG",
            "MWI",
            "NPL",
            "RWA",
            "SEN",
            "LKA",
            "SDN",
            "TJK",
            "TZA",
            "TGO"
           ],
           "marker": {
            "color": "#00cc96",
            "size": [
             3.831719160079956,
             4.260491371154785,
             3.870279550552368,
             3.519921064376831,
             3.875382423400879,
             3.7058942317962646,
             4.161225318908691,
             4.433885097503662,
             3.677826404571533,
             4.393482208251953,
             3.8384859561920166,
             4.3691935539245605,
             4.255400657653809,
             4.203030586242676,
             4.044569492340088,
             4.405310153961182,
             4.381415367126465,
             3.9460625648498535,
             3.8094446659088135,
             4.09743595123291,
             3.8342015743255615,
             4.180569171905518,
             4.314456462860107,
             4.26267147064209,
             4.073562145233154,
             2.93622088432312
            ],
            "sizemode": "area",
            "sizeref": 7.970891952514648,
            "symbol": "circle"
           },
           "mode": "markers+text",
           "name": "🤢",
           "showlegend": true,
           "text": [
            "🤢",
            "🤢",
            "🤢",
            "🤢",
            "🤢",
            "🤢",
            "🤢",
            "🤢",
            "🤢",
            "🤢",
            "🤢",
            "🤢",
            "🤢",
            "🤢",
            "🤢",
            "🤢",
            "🤢",
            "🤢",
            "🤢",
            "🤢",
            "🤢",
            "🤢",
            "🤢",
            "🤢",
            "🤢",
            "🤢"
           ],
           "type": "scattergeo"
          }
         ],
         "name": "2011"
        },
        {
         "data": [
          {
           "customdata": [
            [
             "Argentina",
             "South America",
             2012,
             6.468387126922607,
             "🥰",
             "ARG"
            ],
            [
             "Australia",
             "Oceania",
             2012,
             7.19558572769165,
             "🥰",
             "AUS"
            ],
            [
             "Austria",
             "Europe",
             2012,
             7.400688648223877,
             "🥰",
             "AUT"
            ],
            [
             "Belgium",
             "Europe",
             2012,
             6.935122013092041,
             "🥰",
             "BEL"
            ],
            [
             "Bolivia",
             "South America",
             2012,
             6.018894672393799,
             "🥰",
             "BOL"
            ],
            [
             "Brazil",
             "South America",
             2012,
             6.660003662109375,
             "🥰",
             "BRA"
            ],
            [
             "Canada",
             "North America",
             2012,
             7.415144443511963,
             "🥰",
             "CAN"
            ],
            [
             "Chile",
             "South America",
             2012,
             6.599128723144531,
             "🥰",
             "CHL"
            ],
            [
             "Colombia",
             "South America",
             2012,
             6.374879837036133,
             "🥰",
             "COL"
            ],
            [
             "Costa Rica",
             "South America",
             2012,
             7.272250175476074,
             "🥰",
             "CRI"
            ],
            [
             "Croatia",
             "Europe",
             2012,
             6.027634620666504,
             "🥰",
             "HRV"
            ],
            [
             "Cyprus",
             "Asia",
             2012,
             6.180507183074951,
             "🥰",
             "CYP"
            ],
            [
             "Czechia",
             null,
             2012,
             6.334149360656738,
             "🥰",
             "CZE"
            ],
            [
             "Denmark",
             "Europe",
             2012,
             7.519909381866455,
             "🥰",
             "DNK"
            ],
            [
             "Finland",
             "Europe",
             2012,
             7.4202094078063965,
             "🥰",
             "FIN"
            ],
            [
             "France",
             "Europe",
             2012,
             6.649365425109863,
             "🥰",
             "FRA"
            ],
            [
             "Germany",
             "Europe",
             2012,
             6.702362060546875,
             "🥰",
             "DEU"
            ],
            [
             "Iceland",
             "Europe",
             2012,
             7.590660095214844,
             "🥰",
             "ISL"
            ],
            [
             "Ireland",
             "Europe",
             2012,
             6.964645385742188,
             "🥰",
             "IRL"
            ],
            [
             "Israel",
             "Asia",
             2012,
             7.110854625701904,
             "🥰",
             "ISR"
            ],
            [
             "Kuwait",
             "Asia",
             2012,
             6.221094608306885,
             "🥰",
             "KWT"
            ],
            [
             "Luxembourg",
             "Europe",
             2012,
             6.964097023010254,
             "🥰",
             "LUX"
            ],
            [
             "Mexico",
             "North America",
             2012,
             7.32018518447876,
             "🥰",
             "MEX"
            ],
            [
             "Netherlands",
             "Europe",
             2012,
             7.470715522766113,
             "🥰",
             "NLD"
            ],
            [
             "New Zealand",
             "Oceania",
             2012,
             7.249629974365234,
             "🥰",
             "NZL"
            ],
            [
             "Norway",
             "Europe",
             2012,
             7.678277015686035,
             "🥰",
             "NOR"
            ],
            [
             "Panama",
             "South America",
             2012,
             6.859835624694824,
             "🥰",
             "PAN"
            ],
            [
             "Qatar",
             null,
             2012,
             6.611298561096191,
             "🥰",
             "QAT"
            ],
            [
             "Saudi Arabia",
             "Asia",
             2012,
             6.396359443664551,
             "🥰",
             "SAU"
            ],
            [
             "Slovenia",
             "Europe",
             2012,
             6.062891006469727,
             "🥰",
             "SVN"
            ],
            [
             "Spain",
             "Europe",
             2012,
             6.2906904220581055,
             "🥰",
             "ESP"
            ],
            [
             "Suriname",
             null,
             2012,
             6.269286632537842,
             "🥰",
             "SUR"
            ],
            [
             "Sweden",
             "Europe",
             2012,
             7.560147762298584,
             "🥰",
             "SWE"
            ],
            [
             "Switzerland",
             "Europe",
             2012,
             7.776208877563477,
             "🥰",
             "CHE"
            ],
            [
             "Thailand",
             "Asia",
             2012,
             6.300235271453857,
             "🥰",
             "THA"
            ],
            [
             "United Arab Emirates",
             "Asia",
             2012,
             7.217766761779785,
             "🥰",
             "ARE"
            ],
            [
             "United Kingdom",
             "Europe",
             2012,
             6.880784034729004,
             "🥰",
             "GBR"
            ],
            [
             "United States",
             "North America",
             2012,
             7.026226997375488,
             "🥰",
             "USA"
            ],
            [
             "Uruguay",
             "South America",
             2012,
             6.449728488922119,
             "🥰",
             "URY"
            ],
            [
             "Uzbekistan",
             "Asia",
             2012,
             6.019331932067871,
             "🥰",
             "UZB"
            ]
           ],
           "geo": "geo",
           "hovertemplate": "<b>%{hovertext}</b><br><br>emoji=%{customdata[4]}<br>year=%{customdata[2]}<br>Happiness Score=%{customdata[3]}<br>continent=%{customdata[1]}<extra></extra>",
           "hovertext": [
            "Argentina",
            "Australia",
            "Austria",
            "Belgium",
            "Bolivia",
            "Brazil",
            "Canada",
            "Chile",
            "Colombia",
            "Costa Rica",
            "Croatia",
            "Cyprus",
            "Czechia",
            "Denmark",
            "Finland",
            "France",
            "Germany",
            "Iceland",
            "Ireland",
            "Israel",
            "Kuwait",
            "Luxembourg",
            "Mexico",
            "Netherlands",
            "New Zealand",
            "Norway",
            "Panama",
            "Qatar",
            "Saudi Arabia",
            "Slovenia",
            "Spain",
            "Suriname",
            "Sweden",
            "Switzerland",
            "Thailand",
            "United Arab Emirates",
            "United Kingdom",
            "United States",
            "Uruguay",
            "Uzbekistan"
           ],
           "legendgroup": "🥰",
           "locations": [
            "ARG",
            "AUS",
            "AUT",
            "BEL",
            "BOL",
            "BRA",
            "CAN",
            "CHL",
            "COL",
            "CRI",
            "HRV",
            "CYP",
            "CZE",
            "DNK",
            "FIN",
            "FRA",
            "DEU",
            "ISL",
            "IRL",
            "ISR",
            "KWT",
            "LUX",
            "MEX",
            "NLD",
            "NZL",
            "NOR",
            "PAN",
            "QAT",
            "SAU",
            "SVN",
            "ESP",
            "SUR",
            "SWE",
            "CHE",
            "THA",
            "ARE",
            "GBR",
            "USA",
            "URY",
            "UZB"
           ],
           "marker": {
            "color": "#636efa",
            "size": [
             6.468387126922607,
             7.19558572769165,
             7.400688648223877,
             6.935122013092041,
             6.018894672393799,
             6.660003662109375,
             7.415144443511963,
             6.599128723144531,
             6.374879837036133,
             7.272250175476074,
             6.027634620666504,
             6.180507183074951,
             6.334149360656738,
             7.519909381866455,
             7.4202094078063965,
             6.649365425109863,
             6.702362060546875,
             7.590660095214844,
             6.964645385742188,
             7.110854625701904,
             6.221094608306885,
             6.964097023010254,
             7.32018518447876,
             7.470715522766113,
             7.249629974365234,
             7.678277015686035,
             6.859835624694824,
             6.611298561096191,
             6.396359443664551,
             6.062891006469727,
             6.2906904220581055,
             6.269286632537842,
             7.560147762298584,
             7.776208877563477,
             6.300235271453857,
             7.217766761779785,
             6.880784034729004,
             7.026226997375488,
             6.449728488922119,
             6.019331932067871
            ],
            "sizemode": "area",
            "sizeref": 7.970891952514648,
            "symbol": "circle"
           },
           "mode": "markers+text",
           "name": "🥰",
           "showlegend": true,
           "text": [
            "🥰",
            "🥰",
            "🥰",
            "🥰",
            "🥰",
            "🥰",
            "🥰",
            "🥰",
            "🥰",
            "🥰",
            "🥰",
            "🥰",
            "🥰",
            "🥰",
            "🥰",
            "🥰",
            "🥰",
            "🥰",
            "🥰",
            "🥰",
            "🥰",
            "🥰",
            "🥰",
            "🥰",
            "🥰",
            "🥰",
            "🥰",
            "🥰",
            "🥰",
            "🥰",
            "🥰",
            "🥰",
            "🥰",
            "🥰",
            "🥰",
            "🥰",
            "🥰",
            "🥰",
            "🥰",
            "🥰"
           ],
           "type": "scattergeo"
          },
          {
           "customdata": [
            [
             "Albania",
             "Europe",
             2012,
             5.510124206542969,
             "🤖",
             "ALB"
            ],
            [
             "Algeria",
             "Africa",
             2012,
             5.60459566116333,
             "🤖",
             "DZA"
            ],
            [
             "Azerbaijan",
             "Asia",
             2012,
             4.91077184677124,
             "🤖",
             "AZE"
            ],
            [
             "Bahrain",
             "Asia",
             2012,
             5.027186870574951,
             "🤖",
             "BHR"
            ],
            [
             "Bangladesh",
             "Asia",
             2012,
             4.724443912506104,
             "🤖",
             "BGD"
            ],
            [
             "Belarus",
             "Europe",
             2012,
             5.7490434646606445,
             "🤖",
             "BLR"
            ],
            [
             "Bosnia and Herzegovina",
             "Europe",
             2012,
             4.773144721984863,
             "🤖",
             "BIH"
            ],
            [
             "Botswana",
             "Africa",
             2012,
             4.835938930511475,
             "🤖",
             "BWA"
            ],
            [
             "China",
             "Asia",
             2012,
             5.094917297363281,
             "🤖",
             "CHN"
            ],
            [
             "Dominican Republic",
             "South America",
             2012,
             4.7533111572265625,
             "🤖",
             "DOM"
            ],
            [
             "Ecuador",
             "South America",
             2012,
             5.960716247558594,
             "🤖",
             "ECU"
            ],
            [
             "El Salvador",
             "South America",
             2012,
             5.934371471405029,
             "🤖",
             "SLV"
            ],
            [
             "Estonia",
             "Europe",
             2012,
             5.363927841186523,
             "🤖",
             "EST"
            ],
            [
             "Ethiopia",
             "Africa",
             2012,
             4.561168670654297,
             "🤖",
             "ETH"
            ],
            [
             "Ghana",
             "Africa",
             2012,
             5.057261943817139,
             "🤖",
             "GHA"
            ],
            [
             "Greece",
             "Europe",
             2012,
             5.096354007720947,
             "🤖",
             "GRC"
            ],
            [
             "Guatemala",
             "South America",
             2012,
             5.855717182159424,
             "🤖",
             "GTM"
            ],
            [
             "Honduras",
             "South America",
             2012,
             4.602218151092529,
             "🤖",
             "HND"
            ],
            [
             "Hungary",
             "Europe",
             2012,
             4.683358192443848,
             "🤖",
             "HUN"
            ],
            [
             "India",
             "Asia",
             2012,
             4.720146656036377,
             "🤖",
             "IND"
            ],
            [
             "Indonesia",
             "Asia",
             2012,
             5.36777400970459,
             "🤖",
             "IDN"
            ],
            [
             "Iraq",
             "Asia",
             2012,
             4.65950870513916,
             "🤖",
             "IRQ"
            ],
            [
             "Italy",
             "Europe",
             2012,
             5.839313983917236,
             "🤖",
             "ITA"
            ],
            [
             "Japan",
             "Asia",
             2012,
             5.968216419219971,
             "🤖",
             "JPN"
            ],
            [
             "Jordan",
             "Asia",
             2012,
             5.131996154785156,
             "🤖",
             "JOR"
            ],
            [
             "Kazakhstan",
             "Asia",
             2012,
             5.759469509124756,
             "🤖",
             "KAZ"
            ],
            [
             "Kenya",
             "Africa",
             2012,
             4.547335147857666,
             "🤖",
             "KEN"
            ],
            [
             "Kosovo",
             "Europe",
             2012,
             5.639588356018066,
             "🤖",
             "XKX"
            ],
            [
             "Latvia",
             "Europe",
             2012,
             5.125025272369385,
             "🤖",
             "LVA"
            ],
            [
             "Lebanon",
             "Asia",
             2012,
             4.572566986083984,
             "🤖",
             "LBN"
            ],
            [
             "Libya",
             "Africa",
             2012,
             5.754394054412842,
             "🤖",
             "LBY"
            ],
            [
             "Lithuania",
             "Europe",
             2012,
             5.7710371017456055,
             "🤖",
             "LTU"
            ],
            [
             "Malaysia",
             "Asia",
             2012,
             5.914283752441406,
             "🤖",
             "MYS"
            ],
            [
             "Malta",
             "Europe",
             2012,
             5.96287202835083,
             "🤖",
             "MLT"
            ],
            [
             "Mauritania",
             "Africa",
             2012,
             4.673203945159912,
             "🤖",
             "MRT"
            ],
            [
             "Moldova",
             "Europe",
             2012,
             5.995712757110596,
             "🤖",
             "MDA"
            ],
            [
             "Mongolia",
             "Asia",
             2012,
             4.88515043258667,
             "🤖",
             "MNG"
            ],
            [
             "Montenegro",
             "Europe",
             2012,
             5.218724250793457,
             "🤖",
             "MNE"
            ],
            [
             "Morocco",
             "Africa",
             2012,
             4.969656467437744,
             "🤖",
             "MAR"
            ],
            [
             "Nicaragua",
             "South America",
             2012,
             5.4480061531066895,
             "🤖",
             "NIC"
            ],
            [
             "Nigeria",
             "Africa",
             2012,
             5.492954254150391,
             "🤖",
             "NGA"
            ],
            [
             "North Macedonia",
             null,
             2012,
             4.639647483825684,
             "🤖",
             "MKD"
            ],
            [
             "Pakistan",
             "Asia",
             2012,
             5.131565093994141,
             "🤖",
             "PAK"
            ],
            [
             "Paraguay",
             "South America",
             2012,
             5.820058345794678,
             "🤖",
             "PRY"
            ],
            [
             "Peru",
             "South America",
             2012,
             5.824557304382324,
             "🤖",
             "PER"
            ],
            [
             "Philippines",
             "Asia",
             2012,
             5.001965045928955,
             "🤖",
             "PHL"
            ],
            [
             "Poland",
             "Europe",
             2012,
             5.875931739807129,
             "🤖",
             "POL"
            ],
            [
             "Portugal",
             "Europe",
             2012,
             4.993962287902832,
             "🤖",
             "PRT"
            ],
            [
             "Romania",
             "Europe",
             2012,
             5.166874885559082,
             "🤖",
             "ROU"
            ],
            [
             "Serbia",
             "Europe",
             2012,
             5.154521942138672,
             "🤖",
             "SRB"
            ],
            [
             "South Africa",
             "Africa",
             2012,
             5.133887767791748,
             "🤖",
             "ZAF"
            ],
            [
             "Sudan",
             null,
             2012,
             4.550499439239502,
             "🤖",
             "SDN"
            ],
            [
             "Turkmenistan",
             "Asia",
             2012,
             5.463827133178711,
             "🤖",
             "TKM"
            ],
            [
             "Ukraine",
             "Europe",
             2012,
             5.030342102050781,
             "🤖",
             "UKR"
            ],
            [
             "Vietnam",
             "Asia",
             2012,
             5.53456974029541,
             "🤖",
             "VNM"
            ],
            [
             "Zambia",
             "Africa",
             2012,
             5.01337480545044,
             "🤖",
             "ZMB"
            ],
            [
             "Zimbabwe",
             "Africa",
             2012,
             4.955100536346436,
             "🤖",
             "ZWE"
            ]
           ],
           "geo": "geo",
           "hovertemplate": "<b>%{hovertext}</b><br><br>emoji=%{customdata[4]}<br>year=%{customdata[2]}<br>Happiness Score=%{customdata[3]}<br>continent=%{customdata[1]}<extra></extra>",
           "hovertext": [
            "Albania",
            "Algeria",
            "Azerbaijan",
            "Bahrain",
            "Bangladesh",
            "Belarus",
            "Bosnia and Herzegovina",
            "Botswana",
            "China",
            "Dominican Republic",
            "Ecuador",
            "El Salvador",
            "Estonia",
            "Ethiopia",
            "Ghana",
            "Greece",
            "Guatemala",
            "Honduras",
            "Hungary",
            "India",
            "Indonesia",
            "Iraq",
            "Italy",
            "Japan",
            "Jordan",
            "Kazakhstan",
            "Kenya",
            "Kosovo",
            "Latvia",
            "Lebanon",
            "Libya",
            "Lithuania",
            "Malaysia",
            "Malta",
            "Mauritania",
            "Moldova",
            "Mongolia",
            "Montenegro",
            "Morocco",
            "Nicaragua",
            "Nigeria",
            "North Macedonia",
            "Pakistan",
            "Paraguay",
            "Peru",
            "Philippines",
            "Poland",
            "Portugal",
            "Romania",
            "Serbia",
            "South Africa",
            "Sudan",
            "Turkmenistan",
            "Ukraine",
            "Vietnam",
            "Zambia",
            "Zimbabwe"
           ],
           "legendgroup": "🤖",
           "locations": [
            "ALB",
            "DZA",
            "AZE",
            "BHR",
            "BGD",
            "BLR",
            "BIH",
            "BWA",
            "CHN",
            "DOM",
            "ECU",
            "SLV",
            "EST",
            "ETH",
            "GHA",
            "GRC",
            "GTM",
            "HND",
            "HUN",
            "IND",
            "IDN",
            "IRQ",
            "ITA",
            "JPN",
            "JOR",
            "KAZ",
            "KEN",
            "XKX",
            "LVA",
            "LBN",
            "LBY",
            "LTU",
            "MYS",
            "MLT",
            "MRT",
            "MDA",
            "MNG",
            "MNE",
            "MAR",
            "NIC",
            "NGA",
            "MKD",
            "PAK",
            "PRY",
            "PER",
            "PHL",
            "POL",
            "PRT",
            "ROU",
            "SRB",
            "ZAF",
            "SDN",
            "TKM",
            "UKR",
            "VNM",
            "ZMB",
            "ZWE"
           ],
           "marker": {
            "color": "#EF553B",
            "size": [
             5.510124206542969,
             5.60459566116333,
             4.91077184677124,
             5.027186870574951,
             4.724443912506104,
             5.7490434646606445,
             4.773144721984863,
             4.835938930511475,
             5.094917297363281,
             4.7533111572265625,
             5.960716247558594,
             5.934371471405029,
             5.363927841186523,
             4.561168670654297,
             5.057261943817139,
             5.096354007720947,
             5.855717182159424,
             4.602218151092529,
             4.683358192443848,
             4.720146656036377,
             5.36777400970459,
             4.65950870513916,
             5.839313983917236,
             5.968216419219971,
             5.131996154785156,
             5.759469509124756,
             4.547335147857666,
             5.639588356018066,
             5.125025272369385,
             4.572566986083984,
             5.754394054412842,
             5.7710371017456055,
             5.914283752441406,
             5.96287202835083,
             4.673203945159912,
             5.995712757110596,
             4.88515043258667,
             5.218724250793457,
             4.969656467437744,
             5.4480061531066895,
             5.492954254150391,
             4.639647483825684,
             5.131565093994141,
             5.820058345794678,
             5.824557304382324,
             5.001965045928955,
             5.875931739807129,
             4.993962287902832,
             5.166874885559082,
             5.154521942138672,
             5.133887767791748,
             4.550499439239502,
             5.463827133178711,
             5.030342102050781,
             5.53456974029541,
             5.01337480545044,
             4.955100536346436
            ],
            "sizemode": "area",
            "sizeref": 7.970891952514648,
            "symbol": "circle"
           },
           "mode": "markers+text",
           "name": "🤖",
           "showlegend": true,
           "text": [
            "🤖",
            "🤖",
            "🤖",
            "🤖",
            "🤖",
            "🤖",
            "🤖",
            "🤖",
            "🤖",
            "🤖",
            "🤖",
            "🤖",
            "🤖",
            "🤖",
            "🤖",
            "🤖",
            "🤖",
            "🤖",
            "🤖",
            "🤖",
            "🤖",
            "🤖",
            "🤖",
            "🤖",
            "🤖",
            "🤖",
            "🤖",
            "🤖",
            "🤖",
            "🤖",
            "🤖",
            "🤖",
            "🤖",
            "🤖",
            "🤖",
            "🤖",
            "🤖",
            "🤖",
            "🤖",
            "🤖",
            "🤖",
            "🤖",
            "🤖",
            "🤖",
            "🤖",
            "🤖",
            "🤖",
            "🤖",
            "🤖",
            "🤖",
            "🤖",
            "🤖",
            "🤖",
            "🤖",
            "🤖",
            "🤖",
            "🤖"
           ],
           "type": "scattergeo"
          },
          {
           "customdata": [
            [
             "Afghanistan",
             "Asia",
             2012,
             3.782937526702881,
             "🤢",
             "AFG"
            ],
            [
             "Angola",
             null,
             2012,
             4.360249996185303,
             "🤢",
             "AGO"
            ],
            [
             "Armenia",
             "Asia",
             2012,
             4.319711685180664,
             "🤢",
             "ARM"
            ],
            [
             "Benin",
             "Africa",
             2012,
             3.193468809127808,
             "🤢",
             "BEN"
            ],
            [
             "Bulgaria",
             "Europe",
             2012,
             4.222297191619873,
             "🤢",
             "BGR"
            ],
            [
             "Burkina Faso",
             "Africa",
             2012,
             3.955008029937744,
             "🤢",
             "BFA"
            ],
            [
             "Cambodia",
             "Asia",
             2012,
             3.8987069129943848,
             "🤢",
             "KHM"
            ],
            [
             "Cameroon",
             "Africa",
             2012,
             4.24463415145874,
             "🤢",
             "CMR"
            ],
            [
             "Chad",
             "Africa",
             2012,
             4.032974720001221,
             "🤢",
             "TCD"
            ],
            [
             "Comoros",
             null,
             2012,
             3.9556403160095215,
             "🤢",
             "COM"
            ],
            [
             "Gabon",
             "Africa",
             2012,
             3.9720592498779297,
             "🤢",
             "GAB"
            ],
            [
             "Georgia",
             "Asia",
             2012,
             4.254445552825928,
             "🤢",
             "GEO"
            ],
            [
             "Guinea",
             "South America",
             2012,
             3.651554822921753,
             "🤢",
             "GIN"
            ],
            [
             "Haiti",
             "South America",
             2012,
             4.413475036621094,
             "🤢",
             "HTI"
            ],
            [
             "Madagascar",
             "Africa",
             2012,
             3.550609588623047,
             "🤢",
             "MDG"
            ],
            [
             "Malawi",
             "Africa",
             2012,
             4.279269695281982,
             "🤢",
             "MWI"
            ],
            [
             "Mali",
             "Africa",
             2012,
             4.313016891479492,
             "🤢",
             "MLI"
            ],
            [
             "Myanmar",
             "Asia",
             2012,
             4.438939571380615,
             "🤢",
             "MMR"
            ],
            [
             "Nepal",
             "Asia",
             2012,
             4.233244895935059,
             "🤢",
             "NPL"
            ],
            [
             "Niger",
             "Africa",
             2012,
             3.798088312149048,
             "🤢",
             "NER"
            ],
            [
             "Rwanda",
             "Africa",
             2012,
             3.333047866821289,
             "🤢",
             "RWA"
            ],
            [
             "Senegal",
             "Africa",
             2012,
             3.668736934661865,
             "🤢",
             "SEN"
            ],
            [
             "Sri Lanka",
             "Asia",
             2012,
             4.224593162536621,
             "🤢",
             "LKA"
            ],
            [
             "Tajikistan",
             "Asia",
             2012,
             4.49657154083252,
             "🤢",
             "TJK"
            ],
            [
             "Tanzania",
             "Africa",
             2012,
             4.006897449493408,
             "🤢",
             "TZA"
            ],
            [
             "Tunisia",
             "Africa",
             2012,
             4.463531017303467,
             "🤢",
             "TUN"
            ],
            [
             "Uganda",
             "Africa",
             2012,
             4.309237957000732,
             "🤢",
             "UGA"
            ]
           ],
           "geo": "geo",
           "hovertemplate": "<b>%{hovertext}</b><br><br>emoji=%{customdata[4]}<br>year=%{customdata[2]}<br>Happiness Score=%{customdata[3]}<br>continent=%{customdata[1]}<extra></extra>",
           "hovertext": [
            "Afghanistan",
            "Angola",
            "Armenia",
            "Benin",
            "Bulgaria",
            "Burkina Faso",
            "Cambodia",
            "Cameroon",
            "Chad",
            "Comoros",
            "Gabon",
            "Georgia",
            "Guinea",
            "Haiti",
            "Madagascar",
            "Malawi",
            "Mali",
            "Myanmar",
            "Nepal",
            "Niger",
            "Rwanda",
            "Senegal",
            "Sri Lanka",
            "Tajikistan",
            "Tanzania",
            "Tunisia",
            "Uganda"
           ],
           "legendgroup": "🤢",
           "locations": [
            "AFG",
            "AGO",
            "ARM",
            "BEN",
            "BGR",
            "BFA",
            "KHM",
            "CMR",
            "TCD",
            "COM",
            "GAB",
            "GEO",
            "GIN",
            "HTI",
            "MDG",
            "MWI",
            "MLI",
            "MMR",
            "NPL",
            "NER",
            "RWA",
            "SEN",
            "LKA",
            "TJK",
            "TZA",
            "TUN",
            "UGA"
           ],
           "marker": {
            "color": "#00cc96",
            "size": [
             3.782937526702881,
             4.360249996185303,
             4.319711685180664,
             3.193468809127808,
             4.222297191619873,
             3.955008029937744,
             3.8987069129943848,
             4.24463415145874,
             4.032974720001221,
             3.9556403160095215,
             3.9720592498779297,
             4.254445552825928,
             3.651554822921753,
             4.413475036621094,
             3.550609588623047,
             4.279269695281982,
             4.313016891479492,
             4.438939571380615,
             4.233244895935059,
             3.798088312149048,
             3.333047866821289,
             3.668736934661865,
             4.224593162536621,
             4.49657154083252,
             4.006897449493408,
             4.463531017303467,
             4.309237957000732
            ],
            "sizemode": "area",
            "sizeref": 7.970891952514648,
            "symbol": "circle"
           },
           "mode": "markers+text",
           "name": "🤢",
           "showlegend": true,
           "text": [
            "🤢",
            "🤢",
            "🤢",
            "🤢",
            "🤢",
            "🤢",
            "🤢",
            "🤢",
            "🤢",
            "🤢",
            "🤢",
            "🤢",
            "🤢",
            "🤢",
            "🤢",
            "🤢",
            "🤢",
            "🤢",
            "🤢",
            "🤢",
            "🤢",
            "🤢",
            "🤢",
            "🤢",
            "🤢",
            "🤢",
            "🤢"
           ],
           "type": "scattergeo"
          }
         ],
         "name": "2012"
        },
        {
         "data": [
          {
           "customdata": [
            [
             "Argentina",
             "South America",
             2013,
             6.5822601318359375,
             "🥰",
             "ARG"
            ],
            [
             "Australia",
             "Oceania",
             2013,
             7.364169120788574,
             "🥰",
             "AUS"
            ],
            [
             "Austria",
             "Europe",
             2013,
             7.498802661895752,
             "🥰",
             "AUT"
            ],
            [
             "Bahrain",
             "Asia",
             2013,
             6.689711093902588,
             "🥰",
             "BHR"
            ],
            [
             "Belgium",
             "Europe",
             2013,
             7.103661060333252,
             "🥰",
             "BEL"
            ],
            [
             "Brazil",
             "South America",
             2013,
             7.14028263092041,
             "🥰",
             "BRA"
            ],
            [
             "Canada",
             "North America",
             2013,
             7.593793869018555,
             "🥰",
             "CAN"
            ],
            [
             "Chile",
             "South America",
             2013,
             6.740153789520264,
             "🥰",
             "CHL"
            ],
            [
             "Colombia",
             "South America",
             2013,
             6.606550693511963,
             "🥰",
             "COL"
            ],
            [
             "Costa Rica",
             "South America",
             2013,
             7.158000469207764,
             "🥰",
             "CRI"
            ],
            [
             "Czechia",
             null,
             2013,
             6.69765567779541,
             "🥰",
             "CZE"
            ],
            [
             "Denmark",
             "Europe",
             2013,
             7.588606834411621,
             "🥰",
             "DNK"
            ],
            [
             "Ecuador",
             "South America",
             2013,
             6.0192060470581055,
             "🥰",
             "ECU"
            ],
            [
             "El Salvador",
             "South America",
             2013,
             6.325063228607178,
             "🥰",
             "SLV"
            ],
            [
             "Finland",
             "Europe",
             2013,
             7.44463586807251,
             "🥰",
             "FIN"
            ],
            [
             "France",
             "Europe",
             2013,
             6.667121410369873,
             "🥰",
             "FRA"
            ],
            [
             "Germany",
             "Europe",
             2013,
             6.96512508392334,
             "🥰",
             "DEU"
            ],
            [
             "Iceland",
             "Europe",
             2013,
             7.501394271850586,
             "🥰",
             "ISL"
            ],
            [
             "Ireland",
             "Europe",
             2013,
             6.760085105895996,
             "🥰",
             "IRL"
            ],
            [
             "Israel",
             "Asia",
             2013,
             7.320563316345215,
             "🥰",
             "ISR"
            ],
            [
             "Italy",
             "Europe",
             2013,
             6.009373664855957,
             "🥰",
             "ITA"
            ],
            [
             "Kosovo",
             "Europe",
             2013,
             6.125758171081543,
             "🥰",
             "XKX"
            ],
            [
             "Kuwait",
             "Asia",
             2013,
             6.4800310134887695,
             "🥰",
             "KWT"
            ],
            [
             "Luxembourg",
             "Europe",
             2013,
             7.130809307098389,
             "🥰",
             "LUX"
            ],
            [
             "Malta",
             "Europe",
             2013,
             6.379924774169922,
             "🥰",
             "MLT"
            ],
            [
             "Mexico",
             "North America",
             2013,
             7.442546367645264,
             "🥰",
             "MEX"
            ],
            [
             "Netherlands",
             "Europe",
             2013,
             7.406550407409668,
             "🥰",
             "NLD"
            ],
            [
             "New Zealand",
             "Oceania",
             2013,
             7.280151844024658,
             "🥰",
             "NZL"
            ],
            [
             "Panama",
             "South America",
             2013,
             6.866480350494385,
             "🥰",
             "PAN"
            ],
            [
             "Saudi Arabia",
             "Asia",
             2013,
             6.495132923126221,
             "🥰",
             "SAU"
            ],
            [
             "Singapore",
             "Asia",
             2013,
             6.533206939697266,
             "🥰",
             "SGP"
            ],
            [
             "Spain",
             "Europe",
             2013,
             6.150027275085449,
             "🥰",
             "ESP"
            ],
            [
             "Sweden",
             "Europe",
             2013,
             7.434010505676269,
             "🥰",
             "SWE"
            ],
            [
             "Thailand",
             "Asia",
             2013,
             6.231024742126465,
             "🥰",
             "THA"
            ],
            [
             "Trinidad and Tobago",
             null,
             2013,
             6.1677069664001465,
             "🥰",
             "TTO"
            ],
            [
             "United Arab Emirates",
             "Asia",
             2013,
             6.620951175689697,
             "🥰",
             "ARE"
            ],
            [
             "United Kingdom",
             "Europe",
             2013,
             6.918055057525635,
             "🥰",
             "GBR"
            ],
            [
             "United States",
             "North America",
             2013,
             7.249285221099853,
             "🥰",
             "USA"
            ],
            [
             "Uruguay",
             "South America",
             2013,
             6.444464683532715,
             "🥰",
             "URY"
            ]
           ],
           "geo": "geo",
           "hovertemplate": "<b>%{hovertext}</b><br><br>emoji=%{customdata[4]}<br>year=%{customdata[2]}<br>Happiness Score=%{customdata[3]}<br>continent=%{customdata[1]}<extra></extra>",
           "hovertext": [
            "Argentina",
            "Australia",
            "Austria",
            "Bahrain",
            "Belgium",
            "Brazil",
            "Canada",
            "Chile",
            "Colombia",
            "Costa Rica",
            "Czechia",
            "Denmark",
            "Ecuador",
            "El Salvador",
            "Finland",
            "France",
            "Germany",
            "Iceland",
            "Ireland",
            "Israel",
            "Italy",
            "Kosovo",
            "Kuwait",
            "Luxembourg",
            "Malta",
            "Mexico",
            "Netherlands",
            "New Zealand",
            "Panama",
            "Saudi Arabia",
            "Singapore",
            "Spain",
            "Sweden",
            "Thailand",
            "Trinidad and Tobago",
            "United Arab Emirates",
            "United Kingdom",
            "United States",
            "Uruguay"
           ],
           "legendgroup": "🥰",
           "locations": [
            "ARG",
            "AUS",
            "AUT",
            "BHR",
            "BEL",
            "BRA",
            "CAN",
            "CHL",
            "COL",
            "CRI",
            "CZE",
            "DNK",
            "ECU",
            "SLV",
            "FIN",
            "FRA",
            "DEU",
            "ISL",
            "IRL",
            "ISR",
            "ITA",
            "XKX",
            "KWT",
            "LUX",
            "MLT",
            "MEX",
            "NLD",
            "NZL",
            "PAN",
            "SAU",
            "SGP",
            "ESP",
            "SWE",
            "THA",
            "TTO",
            "ARE",
            "GBR",
            "USA",
            "URY"
           ],
           "marker": {
            "color": "#636efa",
            "size": [
             6.5822601318359375,
             7.364169120788574,
             7.498802661895752,
             6.689711093902588,
             7.103661060333252,
             7.14028263092041,
             7.593793869018555,
             6.740153789520264,
             6.606550693511963,
             7.158000469207764,
             6.69765567779541,
             7.588606834411621,
             6.0192060470581055,
             6.325063228607178,
             7.44463586807251,
             6.667121410369873,
             6.96512508392334,
             7.501394271850586,
             6.760085105895996,
             7.320563316345215,
             6.009373664855957,
             6.125758171081543,
             6.4800310134887695,
             7.130809307098389,
             6.379924774169922,
             7.442546367645264,
             7.406550407409668,
             7.280151844024658,
             6.866480350494385,
             6.495132923126221,
             6.533206939697266,
             6.150027275085449,
             7.434010505676269,
             6.231024742126465,
             6.1677069664001465,
             6.620951175689697,
             6.918055057525635,
             7.249285221099853,
             6.444464683532715
            ],
            "sizemode": "area",
            "sizeref": 7.970891952514648,
            "symbol": "circle"
           },
           "mode": "markers+text",
           "name": "🥰",
           "showlegend": true,
           "text": [
            "🥰",
            "🥰",
            "🥰",
            "🥰",
            "🥰",
            "🥰",
            "🥰",
            "🥰",
            "🥰",
            "🥰",
            "🥰",
            "🥰",
            "🥰",
            "🥰",
            "🥰",
            "🥰",
            "🥰",
            "🥰",
            "🥰",
            "🥰",
            "🥰",
            "🥰",
            "🥰",
            "🥰",
            "🥰",
            "🥰",
            "🥰",
            "🥰",
            "🥰",
            "🥰",
            "🥰",
            "🥰",
            "🥰",
            "🥰",
            "🥰",
            "🥰",
            "🥰",
            "🥰",
            "🥰"
           ],
           "type": "scattergeo"
          },
          {
           "customdata": [
            [
             "Albania",
             "Europe",
             2013,
             4.550647735595703,
             "🤖",
             "ALB"
            ],
            [
             "Azerbaijan",
             "Asia",
             2013,
             5.481178283691406,
             "🤖",
             "AZE"
            ],
            [
             "Bangladesh",
             "Asia",
             2013,
             4.660161018371582,
             "🤖",
             "BGD"
            ],
            [
             "Belarus",
             "Europe",
             2013,
             5.876466274261475,
             "🤖",
             "BLR"
            ],
            [
             "Bhutan",
             null,
             2013,
             5.569091796875,
             "🤖",
             "BTN"
            ],
            [
             "Bolivia",
             "South America",
             2013,
             5.767428874969482,
             "🤖",
             "BOL"
            ],
            [
             "Bosnia and Herzegovina",
             "Europe",
             2013,
             5.123664379119873,
             "🤖",
             "BIH"
            ],
            [
             "China",
             "Asia",
             2013,
             5.241090297698975,
             "🤖",
             "CHN"
            ],
            [
             "Croatia",
             "Europe",
             2013,
             5.885462760925293,
             "🤖",
             "HRV"
            ],
            [
             "Cyprus",
             "Asia",
             2013,
             5.438952445983887,
             "🤖",
             "CYP"
            ],
            [
             "Dominican Republic",
             "South America",
             2013,
             5.015515327453613,
             "🤖",
             "DOM"
            ],
            [
             "Estonia",
             "Europe",
             2013,
             5.367445945739746,
             "🤖",
             "EST"
            ],
            [
             "Ghana",
             "Africa",
             2013,
             4.965053081512451,
             "🤖",
             "GHA"
            ],
            [
             "Greece",
             "Europe",
             2013,
             4.720251083374023,
             "🤖",
             "GRC"
            ],
            [
             "Guatemala",
             "South America",
             2013,
             5.9846014976501465,
             "🤖",
             "GTM"
            ],
            [
             "Haiti",
             "South America",
             2013,
             4.621962070465088,
             "🤖",
             "HTI"
            ],
            [
             "Honduras",
             "South America",
             2013,
             4.713358402252197,
             "🤖",
             "HND"
            ],
            [
             "Hungary",
             "Europe",
             2013,
             4.914466857910156,
             "🤖",
             "HUN"
            ],
            [
             "Indonesia",
             "Asia",
             2013,
             5.292237758636475,
             "🤖",
             "IDN"
            ],
            [
             "Iraq",
             "Asia",
             2013,
             4.725017070770264,
             "🤖",
             "IRQ"
            ],
            [
             "Jamaica",
             "South America",
             2013,
             5.708886623382568,
             "🤖",
             "JAM"
            ],
            [
             "Japan",
             "Asia",
             2013,
             5.959361553192139,
             "🤖",
             "JPN"
            ],
            [
             "Jordan",
             "Asia",
             2013,
             5.171952724456787,
             "🤖",
             "JOR"
            ],
            [
             "Kazakhstan",
             "Asia",
             2013,
             5.835483074188232,
             "🤖",
             "KAZ"
            ],
            [
             "Latvia",
             "Europe",
             2013,
             5.069770336151123,
             "🤖",
             "LVA"
            ],
            [
             "Lebanon",
             "Asia",
             2013,
             4.983288764953613,
             "🤖",
             "LBN"
            ],
            [
             "Lithuania",
             "Europe",
             2013,
             5.595689296722412,
             "🤖",
             "LTU"
            ],
            [
             "Malaysia",
             "Asia",
             2013,
             5.770199775695801,
             "🤖",
             "MYS"
            ],
            [
             "Moldova",
             "Europe",
             2013,
             5.756059169769287,
             "🤖",
             "MDA"
            ],
            [
             "Mongolia",
             "Asia",
             2013,
             4.912928104400635,
             "🤖",
             "MNG"
            ],
            [
             "Montenegro",
             "Europe",
             2013,
             5.074341773986816,
             "🤖",
             "MNE"
            ],
            [
             "Morocco",
             "Africa",
             2013,
             5.142160415649414,
             "🤖",
             "MAR"
            ],
            [
             "Nepal",
             "Asia",
             2013,
             4.604576587677002,
             "🤖",
             "NPL"
            ],
            [
             "Nicaragua",
             "South America",
             2013,
             5.772274971008301,
             "🤖",
             "NIC"
            ],
            [
             "Nigeria",
             "Africa",
             2013,
             4.817868709564209,
             "🤖",
             "NGA"
            ],
            [
             "North Macedonia",
             null,
             2013,
             5.186190605163574,
             "🤖",
             "MKD"
            ],
            [
             "Pakistan",
             "Asia",
             2013,
             5.138082504272461,
             "🤖",
             "PAK"
            ],
            [
             "Paraguay",
             "South America",
             2013,
             5.9362406730651855,
             "🤖",
             "PRY"
            ],
            [
             "Peru",
             "South America",
             2013,
             5.782557487487793,
             "🤖",
             "PER"
            ],
            [
             "Philippines",
             "Asia",
             2013,
             4.976925373077393,
             "🤖",
             "PHL"
            ],
            [
             "Poland",
             "Europe",
             2013,
             5.746131896972656,
             "🤖",
             "POL"
            ],
            [
             "Portugal",
             "Europe",
             2013,
             5.157688140869141,
             "🤖",
             "PRT"
            ],
            [
             "Romania",
             "Europe",
             2013,
             5.081584453582764,
             "🤖",
             "ROU"
            ],
            [
             "Serbia",
             "Europe",
             2013,
             5.101840496063232,
             "🤖",
             "SRB"
            ],
            [
             "Sierra Leone",
             "Africa",
             2013,
             4.514291286468506,
             "🤖",
             "SLE"
            ],
            [
             "Slovenia",
             "Europe",
             2013,
             5.974888801574707,
             "🤖",
             "SVN"
            ],
            [
             "Tajikistan",
             "Asia",
             2013,
             4.966521263122559,
             "🤖",
             "TJK"
            ],
            [
             "Tunisia",
             "Africa",
             2013,
             5.245604991912842,
             "🤖",
             "TUN"
            ],
            [
             "Turkmenistan",
             "Asia",
             2013,
             5.391762733459473,
             "🤖",
             "TKM"
            ],
            [
             "Ukraine",
             "Europe",
             2013,
             4.7108025550842285,
             "🤖",
             "UKR"
            ],
            [
             "Uzbekistan",
             "Asia",
             2013,
             5.939986228942871,
             "🤖",
             "UZB"
            ],
            [
             "Vietnam",
             "Asia",
             2013,
             5.022698879241943,
             "🤖",
             "VNM"
            ],
            [
             "Zambia",
             "Africa",
             2013,
             5.243995666503906,
             "🤖",
             "ZMB"
            ],
            [
             "Zimbabwe",
             "Africa",
             2013,
             4.690187931060791,
             "🤖",
             "ZWE"
            ]
           ],
           "geo": "geo",
           "hovertemplate": "<b>%{hovertext}</b><br><br>emoji=%{customdata[4]}<br>year=%{customdata[2]}<br>Happiness Score=%{customdata[3]}<br>continent=%{customdata[1]}<extra></extra>",
           "hovertext": [
            "Albania",
            "Azerbaijan",
            "Bangladesh",
            "Belarus",
            "Bhutan",
            "Bolivia",
            "Bosnia and Herzegovina",
            "China",
            "Croatia",
            "Cyprus",
            "Dominican Republic",
            "Estonia",
            "Ghana",
            "Greece",
            "Guatemala",
            "Haiti",
            "Honduras",
            "Hungary",
            "Indonesia",
            "Iraq",
            "Jamaica",
            "Japan",
            "Jordan",
            "Kazakhstan",
            "Latvia",
            "Lebanon",
            "Lithuania",
            "Malaysia",
            "Moldova",
            "Mongolia",
            "Montenegro",
            "Morocco",
            "Nepal",
            "Nicaragua",
            "Nigeria",
            "North Macedonia",
            "Pakistan",
            "Paraguay",
            "Peru",
            "Philippines",
            "Poland",
            "Portugal",
            "Romania",
            "Serbia",
            "Sierra Leone",
            "Slovenia",
            "Tajikistan",
            "Tunisia",
            "Turkmenistan",
            "Ukraine",
            "Uzbekistan",
            "Vietnam",
            "Zambia",
            "Zimbabwe"
           ],
           "legendgroup": "🤖",
           "locations": [
            "ALB",
            "AZE",
            "BGD",
            "BLR",
            "BTN",
            "BOL",
            "BIH",
            "CHN",
            "HRV",
            "CYP",
            "DOM",
            "EST",
            "GHA",
            "GRC",
            "GTM",
            "HTI",
            "HND",
            "HUN",
            "IDN",
            "IRQ",
            "JAM",
            "JPN",
            "JOR",
            "KAZ",
            "LVA",
            "LBN",
            "LTU",
            "MYS",
            "MDA",
            "MNG",
            "MNE",
            "MAR",
            "NPL",
            "NIC",
            "NGA",
            "MKD",
            "PAK",
            "PRY",
            "PER",
            "PHL",
            "POL",
            "PRT",
            "ROU",
            "SRB",
            "SLE",
            "SVN",
            "TJK",
            "TUN",
            "TKM",
            "UKR",
            "UZB",
            "VNM",
            "ZMB",
            "ZWE"
           ],
           "marker": {
            "color": "#EF553B",
            "size": [
             4.550647735595703,
             5.481178283691406,
             4.660161018371582,
             5.876466274261475,
             5.569091796875,
             5.767428874969482,
             5.123664379119873,
             5.241090297698975,
             5.885462760925293,
             5.438952445983887,
             5.015515327453613,
             5.367445945739746,
             4.965053081512451,
             4.720251083374023,
             5.9846014976501465,
             4.621962070465088,
             4.713358402252197,
             4.914466857910156,
             5.292237758636475,
             4.725017070770264,
             5.708886623382568,
             5.959361553192139,
             5.171952724456787,
             5.835483074188232,
             5.069770336151123,
             4.983288764953613,
             5.595689296722412,
             5.770199775695801,
             5.756059169769287,
             4.912928104400635,
             5.074341773986816,
             5.142160415649414,
             4.604576587677002,
             5.772274971008301,
             4.817868709564209,
             5.186190605163574,
             5.138082504272461,
             5.9362406730651855,
             5.782557487487793,
             4.976925373077393,
             5.746131896972656,
             5.157688140869141,
             5.081584453582764,
             5.101840496063232,
             4.514291286468506,
             5.974888801574707,
             4.966521263122559,
             5.245604991912842,
             5.391762733459473,
             4.7108025550842285,
             5.939986228942871,
             5.022698879241943,
             5.243995666503906,
             4.690187931060791
            ],
            "sizemode": "area",
            "sizeref": 7.970891952514648,
            "symbol": "circle"
           },
           "mode": "markers+text",
           "name": "🤖",
           "showlegend": true,
           "text": [
            "🤖",
            "🤖",
            "🤖",
            "🤖",
            "🤖",
            "🤖",
            "🤖",
            "🤖",
            "🤖",
            "🤖",
            "🤖",
            "🤖",
            "🤖",
            "🤖",
            "🤖",
            "🤖",
            "🤖",
            "🤖",
            "🤖",
            "🤖",
            "🤖",
            "🤖",
            "🤖",
            "🤖",
            "🤖",
            "🤖",
            "🤖",
            "🤖",
            "🤖",
            "🤖",
            "🤖",
            "🤖",
            "🤖",
            "🤖",
            "🤖",
            "🤖",
            "🤖",
            "🤖",
            "🤖",
            "🤖",
            "🤖",
            "🤖",
            "🤖",
            "🤖",
            "🤖",
            "🤖",
            "🤖",
            "🤖",
            "🤖",
            "🤖",
            "🤖",
            "🤖",
            "🤖",
            "🤖"
           ],
           "type": "scattergeo"
          },
          {
           "customdata": [
            [
             "Afghanistan",
             "Asia",
             2013,
             3.5721004009246826,
             "🤢",
             "AFG"
            ],
            [
             "Angola",
             null,
             2013,
             3.9371068477630615,
             "🤢",
             "AGO"
            ],
            [
             "Armenia",
             "Asia",
             2013,
             4.277191162109375,
             "🤢",
             "ARM"
            ],
            [
             "Benin",
             "Africa",
             2013,
             3.479412794113159,
             "🤢",
             "BEN"
            ],
            [
             "Botswana",
             "Africa",
             2013,
             4.128298759460449,
             "🤢",
             "BWA"
            ],
            [
             "Bulgaria",
             "Europe",
             2013,
             3.993020534515381,
             "🤢",
             "BGR"
            ],
            [
             "Burkina Faso",
             "Africa",
             2013,
             3.3259496688842773,
             "🤢",
             "BFA"
            ],
            [
             "Cambodia",
             "Asia",
             2013,
             3.674466848373413,
             "🤢",
             "KHM"
            ],
            [
             "Cameroon",
             "Africa",
             2013,
             4.271038055419922,
             "🤢",
             "CMR"
            ],
            [
             "Chad",
             "Africa",
             2013,
             3.5076630115509038,
             "🤢",
             "TCD"
            ],
            [
             "Ethiopia",
             "Africa",
             2013,
             4.444827079772949,
             "🤢",
             "ETH"
            ],
            [
             "Gabon",
             "Africa",
             2013,
             3.8002870082855225,
             "🤢",
             "GAB"
            ],
            [
             "Georgia",
             "Asia",
             2013,
             4.348920822143555,
             "🤢",
             "GEO"
            ],
            [
             "Guinea",
             "South America",
             2013,
             3.9017930030822754,
             "🤢",
             "GIN"
            ],
            [
             "India",
             "Asia",
             2013,
             4.427788734436035,
             "🤢",
             "IND"
            ],
            [
             "Kenya",
             "Africa",
             2013,
             3.7953832149505615,
             "🤢",
             "KEN"
            ],
            [
             "Madagascar",
             "Africa",
             2013,
             3.815607070922852,
             "🤢",
             "MDG"
            ],
            [
             "Malawi",
             "Africa",
             2013,
             4.035084247589111,
             "🤢",
             "MWI"
            ],
            [
             "Mali",
             "Africa",
             2013,
             3.6762771606445312,
             "🤢",
             "MLI"
            ],
            [
             "Mauritania",
             "Africa",
             2013,
             4.199015140533447,
             "🤢",
             "MRT"
            ],
            [
             "Myanmar",
             "Asia",
             2013,
             4.175670623779297,
             "🤢",
             "MMR"
            ],
            [
             "Niger",
             "Africa",
             2013,
             3.71632981300354,
             "🤢",
             "NER"
            ],
            [
             "Rwanda",
             "Africa",
             2013,
             3.4663877487182617,
             "🤢",
             "RWA"
            ],
            [
             "Senegal",
             "Africa",
             2013,
             3.647367000579834,
             "🤢",
             "SEN"
            ],
            [
             "South Africa",
             "Africa",
             2013,
             3.660727262496948,
             "🤢",
             "ZAF"
            ],
            [
             "Sri Lanka",
             "Asia",
             2013,
             4.364694118499756,
             "🤢",
             "LKA"
            ],
            [
             "Tanzania",
             "Africa",
             2013,
             3.852394819259644,
             "🤢",
             "TZA"
            ],
            [
             "Uganda",
             "Africa",
             2013,
             3.7095787525177,
             "🤢",
             "UGA"
            ]
           ],
           "geo": "geo",
           "hovertemplate": "<b>%{hovertext}</b><br><br>emoji=%{customdata[4]}<br>year=%{customdata[2]}<br>Happiness Score=%{customdata[3]}<br>continent=%{customdata[1]}<extra></extra>",
           "hovertext": [
            "Afghanistan",
            "Angola",
            "Armenia",
            "Benin",
            "Botswana",
            "Bulgaria",
            "Burkina Faso",
            "Cambodia",
            "Cameroon",
            "Chad",
            "Ethiopia",
            "Gabon",
            "Georgia",
            "Guinea",
            "India",
            "Kenya",
            "Madagascar",
            "Malawi",
            "Mali",
            "Mauritania",
            "Myanmar",
            "Niger",
            "Rwanda",
            "Senegal",
            "South Africa",
            "Sri Lanka",
            "Tanzania",
            "Uganda"
           ],
           "legendgroup": "🤢",
           "locations": [
            "AFG",
            "AGO",
            "ARM",
            "BEN",
            "BWA",
            "BGR",
            "BFA",
            "KHM",
            "CMR",
            "TCD",
            "ETH",
            "GAB",
            "GEO",
            "GIN",
            "IND",
            "KEN",
            "MDG",
            "MWI",
            "MLI",
            "MRT",
            "MMR",
            "NER",
            "RWA",
            "SEN",
            "ZAF",
            "LKA",
            "TZA",
            "UGA"
           ],
           "marker": {
            "color": "#00cc96",
            "size": [
             3.5721004009246826,
             3.9371068477630615,
             4.277191162109375,
             3.479412794113159,
             4.128298759460449,
             3.993020534515381,
             3.3259496688842773,
             3.674466848373413,
             4.271038055419922,
             3.5076630115509038,
             4.444827079772949,
             3.8002870082855225,
             4.348920822143555,
             3.9017930030822754,
             4.427788734436035,
             3.7953832149505615,
             3.815607070922852,
             4.035084247589111,
             3.6762771606445312,
             4.199015140533447,
             4.175670623779297,
             3.71632981300354,
             3.4663877487182617,
             3.647367000579834,
             3.660727262496948,
             4.364694118499756,
             3.852394819259644,
             3.7095787525177
            ],
            "sizemode": "area",
            "sizeref": 7.970891952514648,
            "symbol": "circle"
           },
           "mode": "markers+text",
           "name": "🤢",
           "showlegend": true,
           "text": [
            "🤢",
            "🤢",
            "🤢",
            "🤢",
            "🤢",
            "🤢",
            "🤢",
            "🤢",
            "🤢",
            "🤢",
            "🤢",
            "🤢",
            "🤢",
            "🤢",
            "🤢",
            "🤢",
            "🤢",
            "🤢",
            "🤢",
            "🤢",
            "🤢",
            "🤢",
            "🤢",
            "🤢",
            "🤢",
            "🤢",
            "🤢",
            "🤢"
           ],
           "type": "scattergeo"
          }
         ],
         "name": "2013"
        },
        {
         "data": [
          {
           "customdata": [
            [
             "Algeria",
             "Africa",
             2014,
             6.354898452758789,
             "🥰",
             "DZA"
            ],
            [
             "Argentina",
             "South America",
             2014,
             6.671114444732666,
             "🥰",
             "ARG"
            ],
            [
             "Australia",
             "Oceania",
             2014,
             7.28855037689209,
             "🥰",
             "AUS"
            ],
            [
             "Austria",
             "Europe",
             2014,
             6.949999809265137,
             "🥰",
             "AUT"
            ],
            [
             "Bahrain",
             "Asia",
             2014,
             6.165133953094482,
             "🥰",
             "BHR"
            ],
            [
             "Belgium",
             "Europe",
             2014,
             6.855329036712647,
             "🥰",
             "BEL"
            ],
            [
             "Brazil",
             "South America",
             2014,
             6.980998992919922,
             "🥰",
             "BRA"
            ],
            [
             "Canada",
             "North America",
             2014,
             7.304257869720459,
             "🥰",
             "CAN"
            ],
            [
             "Chile",
             "South America",
             2014,
             6.84423828125,
             "🥰",
             "CHL"
            ],
            [
             "Colombia",
             "South America",
             2014,
             6.448789119720459,
             "🥰",
             "COL"
            ],
            [
             "Costa Rica",
             "South America",
             2014,
             7.247086048126221,
             "🥰",
             "CRI"
            ],
            [
             "Czechia",
             null,
             2014,
             6.483729839324951,
             "🥰",
             "CZE"
            ],
            [
             "Denmark",
             "Europe",
             2014,
             7.507559299468994,
             "🥰",
             "DNK"
            ],
            [
             "Finland",
             "Europe",
             2014,
             7.384571075439453,
             "🥰",
             "FIN"
            ],
            [
             "France",
             "Europe",
             2014,
             6.466867923736572,
             "🥰",
             "FRA"
            ],
            [
             "Germany",
             "Europe",
             2014,
             6.9842143058776855,
             "🥰",
             "DEU"
            ],
            [
             "Guatemala",
             "South America",
             2014,
             6.5360307693481445,
             "🥰",
             "GTM"
            ],
            [
             "Ireland",
             "Europe",
             2014,
             7.018379211425781,
             "🥰",
             "IRL"
            ],
            [
             "Israel",
             "Asia",
             2014,
             7.400570392608643,
             "🥰",
             "ISR"
            ],
            [
             "Italy",
             "Europe",
             2014,
             6.026585102081299,
             "🥰",
             "ITA"
            ],
            [
             "Kuwait",
             "Asia",
             2014,
             6.18013858795166,
             "🥰",
             "KWT"
            ],
            [
             "Lithuania",
             "Europe",
             2014,
             6.125723838806152,
             "🥰",
             "LTU"
            ],
            [
             "Luxembourg",
             "Europe",
             2014,
             6.891127109527588,
             "🥰",
             "LUX"
            ],
            [
             "Malta",
             "Europe",
             2014,
             6.452117919921875,
             "🥰",
             "MLT"
            ],
            [
             "Mexico",
             "North America",
             2014,
             6.679831027984619,
             "🥰",
             "MEX"
            ],
            [
             "Netherlands",
             "Europe",
             2014,
             7.321188449859619,
             "🥰",
             "NLD"
            ],
            [
             "New Zealand",
             "Oceania",
             2014,
             7.305892467498779,
             "🥰",
             "NZL"
            ],
            [
             "Nicaragua",
             "South America",
             2014,
             6.275266647338867,
             "🥰",
             "NIC"
            ],
            [
             "Norway",
             "Europe",
             2014,
             7.4444708824157715,
             "🥰",
             "NOR"
            ],
            [
             "Panama",
             "South America",
             2014,
             6.631171226501465,
             "🥰",
             "PAN"
            ],
            [
             "Saudi Arabia",
             "Asia",
             2014,
             6.278378009796143,
             "🥰",
             "SAU"
            ],
            [
             "Singapore",
             "Asia",
             2014,
             7.06236457824707,
             "🥰",
             "SGP"
            ],
            [
             "Spain",
             "Europe",
             2014,
             6.456477642059326,
             "🥰",
             "ESP"
            ],
            [
             "Sweden",
             "Europe",
             2014,
             7.239147663116455,
             "🥰",
             "SWE"
            ],
            [
             "Switzerland",
             "Europe",
             2014,
             7.492803573608398,
             "🥰",
             "CHE"
            ],
            [
             "Thailand",
             "Asia",
             2014,
             6.985463619232178,
             "🥰",
             "THA"
            ],
            [
             "United Arab Emirates",
             "Asia",
             2014,
             6.539854526519775,
             "🥰",
             "ARE"
            ],
            [
             "United Kingdom",
             "Europe",
             2014,
             6.758147716522217,
             "🥰",
             "GBR"
            ],
            [
             "United States",
             "North America",
             2014,
             7.151114463806152,
             "🥰",
             "USA"
            ],
            [
             "Uruguay",
             "South America",
             2014,
             6.56144380569458,
             "🥰",
             "URY"
            ],
            [
             "Uzbekistan",
             "Asia",
             2014,
             6.049212455749512,
             "🥰",
             "UZB"
            ]
           ],
           "geo": "geo",
           "hovertemplate": "<b>%{hovertext}</b><br><br>emoji=%{customdata[4]}<br>year=%{customdata[2]}<br>Happiness Score=%{customdata[3]}<br>continent=%{customdata[1]}<extra></extra>",
           "hovertext": [
            "Algeria",
            "Argentina",
            "Australia",
            "Austria",
            "Bahrain",
            "Belgium",
            "Brazil",
            "Canada",
            "Chile",
            "Colombia",
            "Costa Rica",
            "Czechia",
            "Denmark",
            "Finland",
            "France",
            "Germany",
            "Guatemala",
            "Ireland",
            "Israel",
            "Italy",
            "Kuwait",
            "Lithuania",
            "Luxembourg",
            "Malta",
            "Mexico",
            "Netherlands",
            "New Zealand",
            "Nicaragua",
            "Norway",
            "Panama",
            "Saudi Arabia",
            "Singapore",
            "Spain",
            "Sweden",
            "Switzerland",
            "Thailand",
            "United Arab Emirates",
            "United Kingdom",
            "United States",
            "Uruguay",
            "Uzbekistan"
           ],
           "legendgroup": "🥰",
           "locations": [
            "DZA",
            "ARG",
            "AUS",
            "AUT",
            "BHR",
            "BEL",
            "BRA",
            "CAN",
            "CHL",
            "COL",
            "CRI",
            "CZE",
            "DNK",
            "FIN",
            "FRA",
            "DEU",
            "GTM",
            "IRL",
            "ISR",
            "ITA",
            "KWT",
            "LTU",
            "LUX",
            "MLT",
            "MEX",
            "NLD",
            "NZL",
            "NIC",
            "NOR",
            "PAN",
            "SAU",
            "SGP",
            "ESP",
            "SWE",
            "CHE",
            "THA",
            "ARE",
            "GBR",
            "USA",
            "URY",
            "UZB"
           ],
           "marker": {
            "color": "#636efa",
            "size": [
             6.354898452758789,
             6.671114444732666,
             7.28855037689209,
             6.949999809265137,
             6.165133953094482,
             6.855329036712647,
             6.980998992919922,
             7.304257869720459,
             6.84423828125,
             6.448789119720459,
             7.247086048126221,
             6.483729839324951,
             7.507559299468994,
             7.384571075439453,
             6.466867923736572,
             6.9842143058776855,
             6.5360307693481445,
             7.018379211425781,
             7.400570392608643,
             6.026585102081299,
             6.18013858795166,
             6.125723838806152,
             6.891127109527588,
             6.452117919921875,
             6.679831027984619,
             7.321188449859619,
             7.305892467498779,
             6.275266647338867,
             7.4444708824157715,
             6.631171226501465,
             6.278378009796143,
             7.06236457824707,
             6.456477642059326,
             7.239147663116455,
             7.492803573608398,
             6.985463619232178,
             6.539854526519775,
             6.758147716522217,
             7.151114463806152,
             6.56144380569458,
             6.049212455749512
            ],
            "sizemode": "area",
            "sizeref": 7.970891952514648,
            "symbol": "circle"
           },
           "mode": "markers+text",
           "name": "🥰",
           "showlegend": true,
           "text": [
            "🥰",
            "🥰",
            "🥰",
            "🥰",
            "🥰",
            "🥰",
            "🥰",
            "🥰",
            "🥰",
            "🥰",
            "🥰",
            "🥰",
            "🥰",
            "🥰",
            "🥰",
            "🥰",
            "🥰",
            "🥰",
            "🥰",
            "🥰",
            "🥰",
            "🥰",
            "🥰",
            "🥰",
            "🥰",
            "🥰",
            "🥰",
            "🥰",
            "🥰",
            "🥰",
            "🥰",
            "🥰",
            "🥰",
            "🥰",
            "🥰",
            "🥰",
            "🥰",
            "🥰",
            "🥰",
            "🥰",
            "🥰"
           ],
           "type": "scattergeo"
          },
          {
           "customdata": [
            [
             "Albania",
             "Europe",
             2014,
             4.81376314163208,
             "🤖",
             "ALB"
            ],
            [
             "Azerbaijan",
             "Asia",
             2014,
             5.251530170440674,
             "🤖",
             "AZE"
            ],
            [
             "Bangladesh",
             "Asia",
             2014,
             4.635564804077148,
             "🤖",
             "BGD"
            ],
            [
             "Belarus",
             "Europe",
             2014,
             5.812400817871094,
             "🤖",
             "BLR"
            ],
            [
             "Belize",
             null,
             2014,
             5.955646514892578,
             "🤖",
             "BLZ"
            ],
            [
             "Bhutan",
             null,
             2014,
             4.938578128814697,
             "🤖",
             "BTN"
            ],
            [
             "Bolivia",
             "South America",
             2014,
             5.864798545837402,
             "🤖",
             "BOL"
            ],
            [
             "Bosnia and Herzegovina",
             "Europe",
             2014,
             5.2489542961120605,
             "🤖",
             "BIH"
            ],
            [
             "China",
             "Asia",
             2014,
             5.195619106292725,
             "🤖",
             "CHN"
            ],
            [
             "Croatia",
             "Europe",
             2014,
             5.380692481994629,
             "🤖",
             "HRV"
            ],
            [
             "Cyprus",
             "Asia",
             2014,
             5.627123832702637,
             "🤖",
             "CYP"
            ],
            [
             "Dominican Republic",
             "South America",
             2014,
             5.387331962585449,
             "🤖",
             "DOM"
            ],
            [
             "Ecuador",
             "South America",
             2014,
             5.945851802825928,
             "🤖",
             "ECU"
            ],
            [
             "El Salvador",
             "South America",
             2014,
             5.856523513793945,
             "🤖",
             "SLV"
            ],
            [
             "Estonia",
             "Europe",
             2014,
             5.55598258972168,
             "🤖",
             "EST"
            ],
            [
             "Ethiopia",
             "Africa",
             2014,
             4.506646633148193,
             "🤖",
             "ETH"
            ],
            [
             "Greece",
             "Europe",
             2014,
             4.756237030029297,
             "🤖",
             "GRC"
            ],
            [
             "Honduras",
             "South America",
             2014,
             5.055726051330566,
             "🤖",
             "HND"
            ],
            [
             "Hungary",
             "Europe",
             2014,
             5.180563449859619,
             "🤖",
             "HUN"
            ],
            [
             "Indonesia",
             "Asia",
             2014,
             5.597375392913818,
             "🤖",
             "IDN"
            ],
            [
             "Iraq",
             "Asia",
             2014,
             4.541502475738525,
             "🤖",
             "IRQ"
            ],
            [
             "Jamaica",
             "South America",
             2014,
             5.310538768768311,
             "🤖",
             "JAM"
            ],
            [
             "Japan",
             "Asia",
             2014,
             5.92262077331543,
             "🤖",
             "JPN"
            ],
            [
             "Jordan",
             "Asia",
             2014,
             5.333021640777588,
             "🤖",
             "JOR"
            ],
            [
             "Kazakhstan",
             "Asia",
             2014,
             5.970097541809082,
             "🤖",
             "KAZ"
            ],
            [
             "Kenya",
             "Africa",
             2014,
             4.904579639434815,
             "🤖",
             "KEN"
            ],
            [
             "Kosovo",
             "Europe",
             2014,
             5.000375270843506,
             "🤖",
             "XKX"
            ],
            [
             "Latvia",
             "Europe",
             2014,
             5.72911548614502,
             "🤖",
             "LVA"
            ],
            [
             "Lebanon",
             "Asia",
             2014,
             5.233025550842285,
             "🤖",
             "LBN"
            ],
            [
             "Liberia",
             "Africa",
             2014,
             4.5714192390441895,
             "🤖",
             "LBR"
            ],
            [
             "Malawi",
             "Africa",
             2014,
             4.563080310821533,
             "🤖",
             "MWI"
            ],
            [
             "Malaysia",
             "Asia",
             2014,
             5.962921619415283,
             "🤖",
             "MYS"
            ],
            [
             "Mauritius",
             "Africa",
             2014,
             5.647779941558838,
             "🤖",
             "MUS"
            ],
            [
             "Moldova",
             "Europe",
             2014,
             5.91705846786499,
             "🤖",
             "MDA"
            ],
            [
             "Mongolia",
             "Asia",
             2014,
             4.824834823608398,
             "🤖",
             "MNG"
            ],
            [
             "Montenegro",
             "Europe",
             2014,
             5.282720565795898,
             "🤖",
             "MNE"
            ],
            [
             "Myanmar",
             "Asia",
             2014,
             4.786247253417969,
             "🤖",
             "MMR"
            ],
            [
             "Namibia",
             null,
             2014,
             4.573991298675537,
             "🤖",
             "NAM"
            ],
            [
             "Nepal",
             "Asia",
             2014,
             4.975014686584473,
             "🤖",
             "NPL"
            ],
            [
             "North Macedonia",
             null,
             2014,
             5.203825950622559,
             "🤖",
             "MKD"
            ],
            [
             "Pakistan",
             "Asia",
             2014,
             5.435657978057861,
             "🤖",
             "PAK"
            ],
            [
             "Paraguay",
             "South America",
             2014,
             5.11864185333252,
             "🤖",
             "PRY"
            ],
            [
             "Peru",
             "South America",
             2014,
             5.86581563949585,
             "🤖",
             "PER"
            ],
            [
             "Philippines",
             "Asia",
             2014,
             5.312550067901611,
             "🤖",
             "PHL"
            ],
            [
             "Poland",
             "Europe",
             2014,
             5.750282287597656,
             "🤖",
             "POL"
            ],
            [
             "Portugal",
             "Europe",
             2014,
             5.126911640167236,
             "🤖",
             "PRT"
            ],
            [
             "Romania",
             "Europe",
             2014,
             5.726893424987793,
             "🤖",
             "ROU"
            ],
            [
             "Serbia",
             "Europe",
             2014,
             5.112728595733643,
             "🤖",
             "SRB"
            ],
            [
             "Slovenia",
             "Europe",
             2014,
             5.6783952713012695,
             "🤖",
             "SVN"
            ],
            [
             "Somalia",
             null,
             2014,
             5.52827262878418,
             "🤖",
             "SOM"
            ],
            [
             "South Africa",
             "Africa",
             2014,
             4.828456401824951,
             "🤖",
             "ZAF"
            ],
            [
             "Tajikistan",
             "Asia",
             2014,
             4.896157741546631,
             "🤖",
             "TJK"
            ],
            [
             "Tunisia",
             "Africa",
             2014,
             4.763594627380371,
             "🤖",
             "TUN"
            ],
            [
             "Turkmenistan",
             "Asia",
             2014,
             5.787379264831543,
             "🤖",
             "TKM"
            ],
            [
             "Vietnam",
             "Asia",
             2014,
             5.084923267364502,
             "🤖",
             "VNM"
            ]
           ],
           "geo": "geo",
           "hovertemplate": "<b>%{hovertext}</b><br><br>emoji=%{customdata[4]}<br>year=%{customdata[2]}<br>Happiness Score=%{customdata[3]}<br>continent=%{customdata[1]}<extra></extra>",
           "hovertext": [
            "Albania",
            "Azerbaijan",
            "Bangladesh",
            "Belarus",
            "Belize",
            "Bhutan",
            "Bolivia",
            "Bosnia and Herzegovina",
            "China",
            "Croatia",
            "Cyprus",
            "Dominican Republic",
            "Ecuador",
            "El Salvador",
            "Estonia",
            "Ethiopia",
            "Greece",
            "Honduras",
            "Hungary",
            "Indonesia",
            "Iraq",
            "Jamaica",
            "Japan",
            "Jordan",
            "Kazakhstan",
            "Kenya",
            "Kosovo",
            "Latvia",
            "Lebanon",
            "Liberia",
            "Malawi",
            "Malaysia",
            "Mauritius",
            "Moldova",
            "Mongolia",
            "Montenegro",
            "Myanmar",
            "Namibia",
            "Nepal",
            "North Macedonia",
            "Pakistan",
            "Paraguay",
            "Peru",
            "Philippines",
            "Poland",
            "Portugal",
            "Romania",
            "Serbia",
            "Slovenia",
            "Somalia",
            "South Africa",
            "Tajikistan",
            "Tunisia",
            "Turkmenistan",
            "Vietnam"
           ],
           "legendgroup": "🤖",
           "locations": [
            "ALB",
            "AZE",
            "BGD",
            "BLR",
            "BLZ",
            "BTN",
            "BOL",
            "BIH",
            "CHN",
            "HRV",
            "CYP",
            "DOM",
            "ECU",
            "SLV",
            "EST",
            "ETH",
            "GRC",
            "HND",
            "HUN",
            "IDN",
            "IRQ",
            "JAM",
            "JPN",
            "JOR",
            "KAZ",
            "KEN",
            "XKX",
            "LVA",
            "LBN",
            "LBR",
            "MWI",
            "MYS",
            "MUS",
            "MDA",
            "MNG",
            "MNE",
            "MMR",
            "NAM",
            "NPL",
            "MKD",
            "PAK",
            "PRY",
            "PER",
            "PHL",
            "POL",
            "PRT",
            "ROU",
            "SRB",
            "SVN",
            "SOM",
            "ZAF",
            "TJK",
            "TUN",
            "TKM",
            "VNM"
           ],
           "marker": {
            "color": "#EF553B",
            "size": [
             4.81376314163208,
             5.251530170440674,
             4.635564804077148,
             5.812400817871094,
             5.955646514892578,
             4.938578128814697,
             5.864798545837402,
             5.2489542961120605,
             5.195619106292725,
             5.380692481994629,
             5.627123832702637,
             5.387331962585449,
             5.945851802825928,
             5.856523513793945,
             5.55598258972168,
             4.506646633148193,
             4.756237030029297,
             5.055726051330566,
             5.180563449859619,
             5.597375392913818,
             4.541502475738525,
             5.310538768768311,
             5.92262077331543,
             5.333021640777588,
             5.970097541809082,
             4.904579639434815,
             5.000375270843506,
             5.72911548614502,
             5.233025550842285,
             4.5714192390441895,
             4.563080310821533,
             5.962921619415283,
             5.647779941558838,
             5.91705846786499,
             4.824834823608398,
             5.282720565795898,
             4.786247253417969,
             4.573991298675537,
             4.975014686584473,
             5.203825950622559,
             5.435657978057861,
             5.11864185333252,
             5.86581563949585,
             5.312550067901611,
             5.750282287597656,
             5.126911640167236,
             5.726893424987793,
             5.112728595733643,
             5.6783952713012695,
             5.52827262878418,
             4.828456401824951,
             4.896157741546631,
             4.763594627380371,
             5.787379264831543,
             5.084923267364502
            ],
            "sizemode": "area",
            "sizeref": 7.970891952514648,
            "symbol": "circle"
           },
           "mode": "markers+text",
           "name": "🤖",
           "showlegend": true,
           "text": [
            "🤖",
            "🤖",
            "🤖",
            "🤖",
            "🤖",
            "🤖",
            "🤖",
            "🤖",
            "🤖",
            "🤖",
            "🤖",
            "🤖",
            "🤖",
            "🤖",
            "🤖",
            "🤖",
            "🤖",
            "🤖",
            "🤖",
            "🤖",
            "🤖",
            "🤖",
            "🤖",
            "🤖",
            "🤖",
            "🤖",
            "🤖",
            "🤖",
            "🤖",
            "🤖",
            "🤖",
            "🤖",
            "🤖",
            "🤖",
            "🤖",
            "🤖",
            "🤖",
            "🤖",
            "🤖",
            "🤖",
            "🤖",
            "🤖",
            "🤖",
            "🤖",
            "🤖",
            "🤖",
            "🤖",
            "🤖",
            "🤖",
            "🤖",
            "🤖",
            "🤖",
            "🤖",
            "🤖",
            "🤖"
           ],
           "type": "scattergeo"
          },
          {
           "customdata": [
            [
             "Afghanistan",
             "Asia",
             2014,
             3.1308956146240234,
             "🤢",
             "AFG"
            ],
            [
             "Angola",
             null,
             2014,
             3.794837951660156,
             "🤢",
             "AGO"
            ],
            [
             "Armenia",
             "Asia",
             2014,
             4.453083038330078,
             "🤢",
             "ARM"
            ],
            [
             "Benin",
             "Africa",
             2014,
             3.347419261932373,
             "🤢",
             "BEN"
            ],
            [
             "Botswana",
             "Africa",
             2014,
             4.03119707107544,
             "🤢",
             "BWA"
            ],
            [
             "Bulgaria",
             "Europe",
             2014,
             4.438439846038818,
             "🤢",
             "BGR"
            ],
            [
             "Burkina Faso",
             "Africa",
             2014,
             3.4813477993011475,
             "🤢",
             "BFA"
            ],
            [
             "Burundi",
             "Africa",
             2014,
             2.9045350551605225,
             "🤢",
             "BDI"
            ],
            [
             "Cambodia",
             "Asia",
             2014,
             3.883305549621582,
             "🤢",
             "KHM"
            ],
            [
             "Cameroon",
             "Africa",
             2014,
             4.24044132232666,
             "🤢",
             "CMR"
            ],
            [
             "Chad",
             "Africa",
             2014,
             3.460182905197144,
             "🤢",
             "TCD"
            ],
            [
             "Gabon",
             "Africa",
             2014,
             3.9180731773376474,
             "🤢",
             "GAB"
            ],
            [
             "Georgia",
             "Asia",
             2014,
             4.287508010864258,
             "🤢",
             "GEO"
            ],
            [
             "Ghana",
             "Africa",
             2014,
             3.860351085662842,
             "🤢",
             "GHA"
            ],
            [
             "Guinea",
             "South America",
             2014,
             3.412482500076294,
             "🤢",
             "GIN"
            ],
            [
             "Haiti",
             "South America",
             2014,
             3.8887784481048575,
             "🤢",
             "HTI"
            ],
            [
             "India",
             "Asia",
             2014,
             4.424379348754883,
             "🤢",
             "IND"
            ],
            [
             "Madagascar",
             "Africa",
             2014,
             3.675626993179321,
             "🤢",
             "MDG"
            ],
            [
             "Mali",
             "Africa",
             2014,
             3.9747142791748047,
             "🤢",
             "MLI"
            ],
            [
             "Mauritania",
             "Africa",
             2014,
             4.482805252075195,
             "🤢",
             "MRT"
            ],
            [
             "Niger",
             "Africa",
             2014,
             4.180943489074707,
             "🤢",
             "NER"
            ],
            [
             "Rwanda",
             "Africa",
             2014,
             3.595678329467773,
             "🤢",
             "RWA"
            ],
            [
             "Senegal",
             "Africa",
             2014,
             4.394777297973633,
             "🤢",
             "SEN"
            ],
            [
             "Sierra Leone",
             "Africa",
             2014,
             4.499970436096191,
             "🤢",
             "SLE"
            ],
            [
             "Sri Lanka",
             "Asia",
             2014,
             4.267932891845703,
             "🤢",
             "LKA"
            ],
            [
             "Sudan",
             null,
             2014,
             4.138672828674316,
             "🤢",
             "SDN"
            ],
            [
             "Tanzania",
             "Africa",
             2014,
             3.483278512954712,
             "🤢",
             "TZA"
            ],
            [
             "Togo",
             "Africa",
             2014,
             2.838958740234375,
             "🤢",
             "TGO"
            ],
            [
             "Uganda",
             "Africa",
             2014,
             3.7699191570281982,
             "🤢",
             "UGA"
            ],
            [
             "Ukraine",
             "Europe",
             2014,
             4.297329902648926,
             "🤢",
             "UKR"
            ],
            [
             "Zambia",
             "Africa",
             2014,
             4.345837116241455,
             "🤢",
             "ZMB"
            ],
            [
             "Zimbabwe",
             "Africa",
             2014,
             4.184450626373291,
             "🤢",
             "ZWE"
            ]
           ],
           "geo": "geo",
           "hovertemplate": "<b>%{hovertext}</b><br><br>emoji=%{customdata[4]}<br>year=%{customdata[2]}<br>Happiness Score=%{customdata[3]}<br>continent=%{customdata[1]}<extra></extra>",
           "hovertext": [
            "Afghanistan",
            "Angola",
            "Armenia",
            "Benin",
            "Botswana",
            "Bulgaria",
            "Burkina Faso",
            "Burundi",
            "Cambodia",
            "Cameroon",
            "Chad",
            "Gabon",
            "Georgia",
            "Ghana",
            "Guinea",
            "Haiti",
            "India",
            "Madagascar",
            "Mali",
            "Mauritania",
            "Niger",
            "Rwanda",
            "Senegal",
            "Sierra Leone",
            "Sri Lanka",
            "Sudan",
            "Tanzania",
            "Togo",
            "Uganda",
            "Ukraine",
            "Zambia",
            "Zimbabwe"
           ],
           "legendgroup": "🤢",
           "locations": [
            "AFG",
            "AGO",
            "ARM",
            "BEN",
            "BWA",
            "BGR",
            "BFA",
            "BDI",
            "KHM",
            "CMR",
            "TCD",
            "GAB",
            "GEO",
            "GHA",
            "GIN",
            "HTI",
            "IND",
            "MDG",
            "MLI",
            "MRT",
            "NER",
            "RWA",
            "SEN",
            "SLE",
            "LKA",
            "SDN",
            "TZA",
            "TGO",
            "UGA",
            "UKR",
            "ZMB",
            "ZWE"
           ],
           "marker": {
            "color": "#00cc96",
            "size": [
             3.1308956146240234,
             3.794837951660156,
             4.453083038330078,
             3.347419261932373,
             4.03119707107544,
             4.438439846038818,
             3.4813477993011475,
             2.9045350551605225,
             3.883305549621582,
             4.24044132232666,
             3.460182905197144,
             3.9180731773376474,
             4.287508010864258,
             3.860351085662842,
             3.412482500076294,
             3.8887784481048575,
             4.424379348754883,
             3.675626993179321,
             3.9747142791748047,
             4.482805252075195,
             4.180943489074707,
             3.595678329467773,
             4.394777297973633,
             4.499970436096191,
             4.267932891845703,
             4.138672828674316,
             3.483278512954712,
             2.838958740234375,
             3.7699191570281982,
             4.297329902648926,
             4.345837116241455,
             4.184450626373291
            ],
            "sizemode": "area",
            "sizeref": 7.970891952514648,
            "symbol": "circle"
           },
           "mode": "markers+text",
           "name": "🤢",
           "showlegend": true,
           "text": [
            "🤢",
            "🤢",
            "🤢",
            "🤢",
            "🤢",
            "🤢",
            "🤢",
            "🤢",
            "🤢",
            "🤢",
            "🤢",
            "🤢",
            "🤢",
            "🤢",
            "🤢",
            "🤢",
            "🤢",
            "🤢",
            "🤢",
            "🤢",
            "🤢",
            "🤢",
            "🤢",
            "🤢",
            "🤢",
            "🤢",
            "🤢",
            "🤢",
            "🤢",
            "🤢",
            "🤢",
            "🤢"
           ],
           "type": "scattergeo"
          }
         ],
         "name": "2014"
        },
        {
         "data": [
          {
           "customdata": [
            [
             "Argentina",
             "South America",
             2015,
             6.6971306800842285,
             "🥰",
             "ARG"
            ],
            [
             "Australia",
             "Oceania",
             2015,
             7.309060573577881,
             "🥰",
             "AUS"
            ],
            [
             "Austria",
             "Europe",
             2015,
             7.076447010040283,
             "🥰",
             "AUT"
            ],
            [
             "Bahrain",
             "Asia",
             2015,
             6.007375240325928,
             "🥰",
             "BHR"
            ],
            [
             "Belgium",
             "Europe",
             2015,
             6.904219150543213,
             "🥰",
             "BEL"
            ],
            [
             "Brazil",
             "South America",
             2015,
             6.546896934509277,
             "🥰",
             "BRA"
            ],
            [
             "Canada",
             "North America",
             2015,
             7.412772655487059,
             "🥰",
             "CAN"
            ],
            [
             "Chile",
             "South America",
             2015,
             6.532749652862549,
             "🥰",
             "CHL"
            ],
            [
             "Colombia",
             "South America",
             2015,
             6.387571811676025,
             "🥰",
             "COL"
            ],
            [
             "Costa Rica",
             "South America",
             2015,
             6.854004383087158,
             "🥰",
             "CRI"
            ],
            [
             "Czechia",
             null,
             2015,
             6.608017444610596,
             "🥰",
             "CZE"
            ],
            [
             "Denmark",
             "Europe",
             2015,
             7.514424800872803,
             "🥰",
             "DNK"
            ],
            [
             "El Salvador",
             "South America",
             2015,
             6.018496036529541,
             "🥰",
             "SLV"
            ],
            [
             "Finland",
             "Europe",
             2015,
             7.447925567626953,
             "🥰",
             "FIN"
            ],
            [
             "France",
             "Europe",
             2015,
             6.3576250076293945,
             "🥰",
             "FRA"
            ],
            [
             "Germany",
             "Europe",
             2015,
             7.037137508392334,
             "🥰",
             "DEU"
            ],
            [
             "Guatemala",
             "South America",
             2015,
             6.464986801147461,
             "🥰",
             "GTM"
            ],
            [
             "Iceland",
             "Europe",
             2015,
             7.49807071685791,
             "🥰",
             "ISL"
            ],
            [
             "Ireland",
             "Europe",
             2015,
             6.830125331878662,
             "🥰",
             "IRL"
            ],
            [
             "Israel",
             "Asia",
             2015,
             7.079411029815674,
             "🥰",
             "ISR"
            ],
            [
             "Kuwait",
             "Asia",
             2015,
             6.146031856536865,
             "🥰",
             "KWT"
            ],
            [
             "Luxembourg",
             "Europe",
             2015,
             6.701571464538574,
             "🥰",
             "LUX"
            ],
            [
             "Malaysia",
             "Asia",
             2015,
             6.3221211433410645,
             "🥰",
             "MYS"
            ],
            [
             "Malta",
             "Europe",
             2015,
             6.613394260406494,
             "🥰",
             "MLT"
            ],
            [
             "Mexico",
             "North America",
             2015,
             6.2362871170043945,
             "🥰",
             "MEX"
            ],
            [
             "Moldova",
             "Europe",
             2015,
             6.017472267150879,
             "🥰",
             "MDA"
            ],
            [
             "Netherlands",
             "Europe",
             2015,
             7.324437141418457,
             "🥰",
             "NLD"
            ],
            [
             "New Zealand",
             "Oceania",
             2015,
             7.418120861053467,
             "🥰",
             "NZL"
            ],
            [
             "Norway",
             "Europe",
             2015,
             7.603433609008789,
             "🥰",
             "NOR"
            ],
            [
             "Panama",
             "South America",
             2015,
             6.605550289154053,
             "🥰",
             "PAN"
            ],
            [
             "Poland",
             "Europe",
             2015,
             6.007021903991699,
             "🥰",
             "POL"
            ],
            [
             "Qatar",
             null,
             2015,
             6.3745293617248535,
             "🥰",
             "QAT"
            ],
            [
             "Saudi Arabia",
             "Asia",
             2015,
             6.345491886138916,
             "🥰",
             "SAU"
            ],
            [
             "Singapore",
             "Asia",
             2015,
             6.619524955749512,
             "🥰",
             "SGP"
            ],
            [
             "Spain",
             "Europe",
             2015,
             6.3806633949279785,
             "🥰",
             "ESP"
            ],
            [
             "Sweden",
             "Europe",
             2015,
             7.288922309875488,
             "🥰",
             "SWE"
            ],
            [
             "Switzerland",
             "Europe",
             2015,
             7.572136878967285,
             "🥰",
             "CHE"
            ],
            [
             "Thailand",
             "Asia",
             2015,
             6.201762676239014,
             "🥰",
             "THA"
            ],
            [
             "United Arab Emirates",
             "Asia",
             2015,
             6.568397521972656,
             "🥰",
             "ARE"
            ],
            [
             "United Kingdom",
             "Europe",
             2015,
             6.515445232391357,
             "🥰",
             "GBR"
            ],
            [
             "United States",
             "North America",
             2015,
             6.863946914672852,
             "🥰",
             "USA"
            ],
            [
             "Uruguay",
             "South America",
             2015,
             6.628080368041992,
             "🥰",
             "URY"
            ]
           ],
           "geo": "geo",
           "hovertemplate": "<b>%{hovertext}</b><br><br>emoji=%{customdata[4]}<br>year=%{customdata[2]}<br>Happiness Score=%{customdata[3]}<br>continent=%{customdata[1]}<extra></extra>",
           "hovertext": [
            "Argentina",
            "Australia",
            "Austria",
            "Bahrain",
            "Belgium",
            "Brazil",
            "Canada",
            "Chile",
            "Colombia",
            "Costa Rica",
            "Czechia",
            "Denmark",
            "El Salvador",
            "Finland",
            "France",
            "Germany",
            "Guatemala",
            "Iceland",
            "Ireland",
            "Israel",
            "Kuwait",
            "Luxembourg",
            "Malaysia",
            "Malta",
            "Mexico",
            "Moldova",
            "Netherlands",
            "New Zealand",
            "Norway",
            "Panama",
            "Poland",
            "Qatar",
            "Saudi Arabia",
            "Singapore",
            "Spain",
            "Sweden",
            "Switzerland",
            "Thailand",
            "United Arab Emirates",
            "United Kingdom",
            "United States",
            "Uruguay"
           ],
           "legendgroup": "🥰",
           "locations": [
            "ARG",
            "AUS",
            "AUT",
            "BHR",
            "BEL",
            "BRA",
            "CAN",
            "CHL",
            "COL",
            "CRI",
            "CZE",
            "DNK",
            "SLV",
            "FIN",
            "FRA",
            "DEU",
            "GTM",
            "ISL",
            "IRL",
            "ISR",
            "KWT",
            "LUX",
            "MYS",
            "MLT",
            "MEX",
            "MDA",
            "NLD",
            "NZL",
            "NOR",
            "PAN",
            "POL",
            "QAT",
            "SAU",
            "SGP",
            "ESP",
            "SWE",
            "CHE",
            "THA",
            "ARE",
            "GBR",
            "USA",
            "URY"
           ],
           "marker": {
            "color": "#636efa",
            "size": [
             6.6971306800842285,
             7.309060573577881,
             7.076447010040283,
             6.007375240325928,
             6.904219150543213,
             6.546896934509277,
             7.412772655487059,
             6.532749652862549,
             6.387571811676025,
             6.854004383087158,
             6.608017444610596,
             7.514424800872803,
             6.018496036529541,
             7.447925567626953,
             6.3576250076293945,
             7.037137508392334,
             6.464986801147461,
             7.49807071685791,
             6.830125331878662,
             7.079411029815674,
             6.146031856536865,
             6.701571464538574,
             6.3221211433410645,
             6.613394260406494,
             6.2362871170043945,
             6.017472267150879,
             7.324437141418457,
             7.418120861053467,
             7.603433609008789,
             6.605550289154053,
             6.007021903991699,
             6.3745293617248535,
             6.345491886138916,
             6.619524955749512,
             6.3806633949279785,
             7.288922309875488,
             7.572136878967285,
             6.201762676239014,
             6.568397521972656,
             6.515445232391357,
             6.863946914672852,
             6.628080368041992
            ],
            "sizemode": "area",
            "sizeref": 7.970891952514648,
            "symbol": "circle"
           },
           "mode": "markers+text",
           "name": "🥰",
           "showlegend": true,
           "text": [
            "🥰",
            "🥰",
            "🥰",
            "🥰",
            "🥰",
            "🥰",
            "🥰",
            "🥰",
            "🥰",
            "🥰",
            "🥰",
            "🥰",
            "🥰",
            "🥰",
            "🥰",
            "🥰",
            "🥰",
            "🥰",
            "🥰",
            "🥰",
            "🥰",
            "🥰",
            "🥰",
            "🥰",
            "🥰",
            "🥰",
            "🥰",
            "🥰",
            "🥰",
            "🥰",
            "🥰",
            "🥰",
            "🥰",
            "🥰",
            "🥰",
            "🥰",
            "🥰",
            "🥰",
            "🥰",
            "🥰",
            "🥰",
            "🥰"
           ],
           "type": "scattergeo"
          },
          {
           "customdata": [
            [
             "Albania",
             "Europe",
             2015,
             4.6066508293151855,
             "🤖",
             "ALB"
            ],
            [
             "Azerbaijan",
             "Asia",
             2015,
             5.146774768829346,
             "🤖",
             "AZE"
            ],
            [
             "Bangladesh",
             "Asia",
             2015,
             4.633473873138428,
             "🤖",
             "BGD"
            ],
            [
             "Belarus",
             "Europe",
             2015,
             5.718907833099365,
             "🤖",
             "BLR"
            ],
            [
             "Bhutan",
             null,
             2015,
             5.082128524780273,
             "🤖",
             "BTN"
            ],
            [
             "Bolivia",
             "South America",
             2015,
             5.834329128265381,
             "🤖",
             "BOL"
            ],
            [
             "Bosnia and Herzegovina",
             "Europe",
             2015,
             5.117177963256836,
             "🤖",
             "BIH"
            ],
            [
             "Bulgaria",
             "Europe",
             2015,
             4.865401268005371,
             "🤖",
             "BGR"
            ],
            [
             "Cameroon",
             "Africa",
             2015,
             5.037964820861816,
             "🤖",
             "CMR"
            ],
            [
             "China",
             "Asia",
             2015,
             5.303877830505371,
             "🤖",
             "CHN"
            ],
            [
             "Croatia",
             "Europe",
             2015,
             5.205438137054443,
             "🤖",
             "HRV"
            ],
            [
             "Cyprus",
             "Asia",
             2015,
             5.43916130065918,
             "🤖",
             "CYP"
            ],
            [
             "Dominican Republic",
             "South America",
             2015,
             5.061862468719482,
             "🤖",
             "DOM"
            ],
            [
             "Ecuador",
             "South America",
             2015,
             5.964075088500977,
             "🤖",
             "ECU"
            ],
            [
             "Estonia",
             "Europe",
             2015,
             5.628908634185791,
             "🤖",
             "EST"
            ],
            [
             "Ethiopia",
             "Africa",
             2015,
             4.573154926300049,
             "🤖",
             "ETH"
            ],
            [
             "Gabon",
             "Africa",
             2015,
             4.661012649536133,
             "🤖",
             "GAB"
            ],
            [
             "Greece",
             "Europe",
             2015,
             5.622519016265869,
             "🤖",
             "GRC"
            ],
            [
             "Honduras",
             "South America",
             2015,
             4.8454365730285645,
             "🤖",
             "HND"
            ],
            [
             "Hungary",
             "Europe",
             2015,
             5.344383239746094,
             "🤖",
             "HUN"
            ],
            [
             "Indonesia",
             "Asia",
             2015,
             5.042799949645996,
             "🤖",
             "IDN"
            ],
            [
             "Italy",
             "Europe",
             2015,
             5.847683906555176,
             "🤖",
             "ITA"
            ],
            [
             "Japan",
             "Asia",
             2015,
             5.879684448242188,
             "🤖",
             "JPN"
            ],
            [
             "Jordan",
             "Asia",
             2015,
             5.404593467712402,
             "🤖",
             "JOR"
            ],
            [
             "Kazakhstan",
             "Asia",
             2015,
             5.949995040893555,
             "🤖",
             "KAZ"
            ],
            [
             "Kosovo",
             "Europe",
             2015,
             5.077460765838623,
             "🤖",
             "XKX"
            ],
            [
             "Latvia",
             "Europe",
             2015,
             5.8805975914001465,
             "🤖",
             "LVA"
            ],
            [
             "Lebanon",
             "Asia",
             2015,
             5.171971321105957,
             "🤖",
             "LBN"
            ],
            [
             "Libya",
             "Africa",
             2015,
             5.615404605865479,
             "🤖",
             "LBY"
            ],
            [
             "Lithuania",
             "Europe",
             2015,
             5.71137809753418,
             "🤖",
             "LTU"
            ],
            [
             "Mali",
             "Africa",
             2015,
             4.582098484039307,
             "🤖",
             "MLI"
            ],
            [
             "Mongolia",
             "Asia",
             2015,
             4.982719898223877,
             "🤖",
             "MNG"
            ],
            [
             "Montenegro",
             "Europe",
             2015,
             5.1249213218688965,
             "🤖",
             "MNE"
            ],
            [
             "Morocco",
             "Africa",
             2015,
             5.163156986236572,
             "🤖",
             "MAR"
            ],
            [
             "Mozambique",
             null,
             2015,
             4.54976749420166,
             "🤖",
             "MOZ"
            ],
            [
             "Nepal",
             "Asia",
             2015,
             4.812436580657959,
             "🤖",
             "NPL"
            ],
            [
             "Nicaragua",
             "South America",
             2015,
             5.924112796783447,
             "🤖",
             "NIC"
            ],
            [
             "Nigeria",
             "Africa",
             2015,
             4.932914733886719,
             "🤖",
             "NGA"
            ],
            [
             "North Macedonia",
             null,
             2015,
             4.975589752197266,
             "🤖",
             "MKD"
            ],
            [
             "Pakistan",
             "Asia",
             2015,
             4.823194980621338,
             "🤖",
             "PAK"
            ],
            [
             "Paraguay",
             "South America",
             2015,
             5.5597243309021,
             "🤖",
             "PRY"
            ],
            [
             "Peru",
             "South America",
             2015,
             5.577263355255127,
             "🤖",
             "PER"
            ],
            [
             "Philippines",
             "Asia",
             2015,
             5.547489166259766,
             "🤖",
             "PHL"
            ],
            [
             "Portugal",
             "Europe",
             2015,
             5.08086633682251,
             "🤖",
             "PRT"
            ],
            [
             "Romania",
             "Europe",
             2015,
             5.777491092681885,
             "🤖",
             "ROU"
            ],
            [
             "Senegal",
             "Africa",
             2015,
             4.617000579833984,
             "🤖",
             "SEN"
            ],
            [
             "Serbia",
             "Europe",
             2015,
             5.317685127258301,
             "🤖",
             "SRB"
            ],
            [
             "Sierra Leone",
             "Africa",
             2015,
             4.908617973327637,
             "🤖",
             "SLE"
            ],
            [
             "Slovenia",
             "Europe",
             2015,
             5.740642070770264,
             "🤖",
             "SVN"
            ],
            [
             "Somalia",
             null,
             2015,
             5.353644847869873,
             "🤖",
             "SOM"
            ],
            [
             "South Africa",
             "Africa",
             2015,
             4.887325763702393,
             "🤖",
             "ZAF"
            ],
            [
             "Sri Lanka",
             "Asia",
             2015,
             4.611606597900391,
             "🤖",
             "LKA"
            ],
            [
             "Tajikistan",
             "Asia",
             2015,
             5.124210834503174,
             "🤖",
             "TJK"
            ],
            [
             "Tunisia",
             "Africa",
             2015,
             5.1316118240356445,
             "🤖",
             "TUN"
            ],
            [
             "Turkmenistan",
             "Asia",
             2015,
             5.791460037231445,
             "🤖",
             "TKM"
            ],
            [
             "Uzbekistan",
             "Asia",
             2015,
             5.97236442565918,
             "🤖",
             "UZB"
            ],
            [
             "Vietnam",
             "Asia",
             2015,
             5.076315402984619,
             "🤖",
             "VNM"
            ],
            [
             "Zambia",
             "Africa",
             2015,
             4.843164443969727,
             "🤖",
             "ZMB"
            ]
           ],
           "geo": "geo",
           "hovertemplate": "<b>%{hovertext}</b><br><br>emoji=%{customdata[4]}<br>year=%{customdata[2]}<br>Happiness Score=%{customdata[3]}<br>continent=%{customdata[1]}<extra></extra>",
           "hovertext": [
            "Albania",
            "Azerbaijan",
            "Bangladesh",
            "Belarus",
            "Bhutan",
            "Bolivia",
            "Bosnia and Herzegovina",
            "Bulgaria",
            "Cameroon",
            "China",
            "Croatia",
            "Cyprus",
            "Dominican Republic",
            "Ecuador",
            "Estonia",
            "Ethiopia",
            "Gabon",
            "Greece",
            "Honduras",
            "Hungary",
            "Indonesia",
            "Italy",
            "Japan",
            "Jordan",
            "Kazakhstan",
            "Kosovo",
            "Latvia",
            "Lebanon",
            "Libya",
            "Lithuania",
            "Mali",
            "Mongolia",
            "Montenegro",
            "Morocco",
            "Mozambique",
            "Nepal",
            "Nicaragua",
            "Nigeria",
            "North Macedonia",
            "Pakistan",
            "Paraguay",
            "Peru",
            "Philippines",
            "Portugal",
            "Romania",
            "Senegal",
            "Serbia",
            "Sierra Leone",
            "Slovenia",
            "Somalia",
            "South Africa",
            "Sri Lanka",
            "Tajikistan",
            "Tunisia",
            "Turkmenistan",
            "Uzbekistan",
            "Vietnam",
            "Zambia"
           ],
           "legendgroup": "🤖",
           "locations": [
            "ALB",
            "AZE",
            "BGD",
            "BLR",
            "BTN",
            "BOL",
            "BIH",
            "BGR",
            "CMR",
            "CHN",
            "HRV",
            "CYP",
            "DOM",
            "ECU",
            "EST",
            "ETH",
            "GAB",
            "GRC",
            "HND",
            "HUN",
            "IDN",
            "ITA",
            "JPN",
            "JOR",
            "KAZ",
            "XKX",
            "LVA",
            "LBN",
            "LBY",
            "LTU",
            "MLI",
            "MNG",
            "MNE",
            "MAR",
            "MOZ",
            "NPL",
            "NIC",
            "NGA",
            "MKD",
            "PAK",
            "PRY",
            "PER",
            "PHL",
            "PRT",
            "ROU",
            "SEN",
            "SRB",
            "SLE",
            "SVN",
            "SOM",
            "ZAF",
            "LKA",
            "TJK",
            "TUN",
            "TKM",
            "UZB",
            "VNM",
            "ZMB"
           ],
           "marker": {
            "color": "#EF553B",
            "size": [
             4.6066508293151855,
             5.146774768829346,
             4.633473873138428,
             5.718907833099365,
             5.082128524780273,
             5.834329128265381,
             5.117177963256836,
             4.865401268005371,
             5.037964820861816,
             5.303877830505371,
             5.205438137054443,
             5.43916130065918,
             5.061862468719482,
             5.964075088500977,
             5.628908634185791,
             4.573154926300049,
             4.661012649536133,
             5.622519016265869,
             4.8454365730285645,
             5.344383239746094,
             5.042799949645996,
             5.847683906555176,
             5.879684448242188,
             5.404593467712402,
             5.949995040893555,
             5.077460765838623,
             5.8805975914001465,
             5.171971321105957,
             5.615404605865479,
             5.71137809753418,
             4.582098484039307,
             4.982719898223877,
             5.1249213218688965,
             5.163156986236572,
             4.54976749420166,
             4.812436580657959,
             5.924112796783447,
             4.932914733886719,
             4.975589752197266,
             4.823194980621338,
             5.5597243309021,
             5.577263355255127,
             5.547489166259766,
             5.08086633682251,
             5.777491092681885,
             4.617000579833984,
             5.317685127258301,
             4.908617973327637,
             5.740642070770264,
             5.353644847869873,
             4.887325763702393,
             4.611606597900391,
             5.124210834503174,
             5.1316118240356445,
             5.791460037231445,
             5.97236442565918,
             5.076315402984619,
             4.843164443969727
            ],
            "sizemode": "area",
            "sizeref": 7.970891952514648,
            "symbol": "circle"
           },
           "mode": "markers+text",
           "name": "🤖",
           "showlegend": true,
           "text": [
            "🤖",
            "🤖",
            "🤖",
            "🤖",
            "🤖",
            "🤖",
            "🤖",
            "🤖",
            "🤖",
            "🤖",
            "🤖",
            "🤖",
            "🤖",
            "🤖",
            "🤖",
            "🤖",
            "🤖",
            "🤖",
            "🤖",
            "🤖",
            "🤖",
            "🤖",
            "🤖",
            "🤖",
            "🤖",
            "🤖",
            "🤖",
            "🤖",
            "🤖",
            "🤖",
            "🤖",
            "🤖",
            "🤖",
            "🤖",
            "🤖",
            "🤖",
            "🤖",
            "🤖",
            "🤖",
            "🤖",
            "🤖",
            "🤖",
            "🤖",
            "🤖",
            "🤖",
            "🤖",
            "🤖",
            "🤖",
            "🤖",
            "🤖",
            "🤖",
            "🤖",
            "🤖",
            "🤖",
            "🤖",
            "🤖",
            "🤖",
            "🤖"
           ],
           "type": "scattergeo"
          },
          {
           "customdata": [
            [
             "Afghanistan",
             "Asia",
             2015,
             3.982854604721069,
             "🤢",
             "AFG"
            ],
            [
             "Armenia",
             "Asia",
             2015,
             4.3483195304870605,
             "🤢",
             "ARM"
            ],
            [
             "Benin",
             "Africa",
             2015,
             3.624664306640625,
             "🤢",
             "BEN"
            ],
            [
             "Botswana",
             "Africa",
             2015,
             3.761964797973633,
             "🤢",
             "BWA"
            ],
            [
             "Burkina Faso",
             "Africa",
             2015,
             4.4189300537109375,
             "🤢",
             "BFA"
            ],
            [
             "Cambodia",
             "Asia",
             2015,
             4.162164688110352,
             "🤢",
             "KHM"
            ],
            [
             "Chad",
             "Africa",
             2015,
             4.3226752281188965,
             "🤢",
             "TCD"
            ],
            [
             "Georgia",
             "Asia",
             2015,
             4.121940612792969,
             "🤢",
             "GEO"
            ],
            [
             "Ghana",
             "Africa",
             2015,
             3.985916137695313,
             "🤢",
             "GHA"
            ],
            [
             "Guinea",
             "South America",
             2015,
             3.5046935081481934,
             "🤢",
             "GIN"
            ],
            [
             "Haiti",
             "South America",
             2015,
             3.5697624683380127,
             "🤢",
             "HTI"
            ],
            [
             "India",
             "Asia",
             2015,
             4.342079162597656,
             "🤢",
             "IND"
            ],
            [
             "Iraq",
             "Asia",
             2015,
             4.493377208709717,
             "🤢",
             "IRQ"
            ],
            [
             "Kenya",
             "Africa",
             2015,
             4.3576178550720215,
             "🤢",
             "KEN"
            ],
            [
             "Liberia",
             "Africa",
             2015,
             2.70159125328064,
             "🤢",
             "LBR"
            ],
            [
             "Madagascar",
             "Africa",
             2015,
             3.592514038085937,
             "🤢",
             "MDG"
            ],
            [
             "Malawi",
             "Africa",
             2015,
             3.867638349533081,
             "🤢",
             "MWI"
            ],
            [
             "Mauritania",
             "Africa",
             2015,
             3.922664165496826,
             "🤢",
             "MRT"
            ],
            [
             "Myanmar",
             "Asia",
             2015,
             4.223846435546875,
             "🤢",
             "MMR"
            ],
            [
             "Niger",
             "Africa",
             2015,
             3.671453714370728,
             "🤢",
             "NER"
            ],
            [
             "Rwanda",
             "Africa",
             2015,
             3.4831089973449707,
             "🤢",
             "RWA"
            ],
            [
             "Tanzania",
             "Africa",
             2015,
             3.660597324371338,
             "🤢",
             "TZA"
            ],
            [
             "Togo",
             "Africa",
             2015,
             3.768301963806152,
             "🤢",
             "TGO"
            ],
            [
             "Uganda",
             "Africa",
             2015,
             4.237686634063721,
             "🤢",
             "UGA"
            ],
            [
             "Ukraine",
             "Europe",
             2015,
             3.964542865753174,
             "🤢",
             "UKR"
            ],
            [
             "Zimbabwe",
             "Africa",
             2015,
             3.7031912803649902,
             "🤢",
             "ZWE"
            ]
           ],
           "geo": "geo",
           "hovertemplate": "<b>%{hovertext}</b><br><br>emoji=%{customdata[4]}<br>year=%{customdata[2]}<br>Happiness Score=%{customdata[3]}<br>continent=%{customdata[1]}<extra></extra>",
           "hovertext": [
            "Afghanistan",
            "Armenia",
            "Benin",
            "Botswana",
            "Burkina Faso",
            "Cambodia",
            "Chad",
            "Georgia",
            "Ghana",
            "Guinea",
            "Haiti",
            "India",
            "Iraq",
            "Kenya",
            "Liberia",
            "Madagascar",
            "Malawi",
            "Mauritania",
            "Myanmar",
            "Niger",
            "Rwanda",
            "Tanzania",
            "Togo",
            "Uganda",
            "Ukraine",
            "Zimbabwe"
           ],
           "legendgroup": "🤢",
           "locations": [
            "AFG",
            "ARM",
            "BEN",
            "BWA",
            "BFA",
            "KHM",
            "TCD",
            "GEO",
            "GHA",
            "GIN",
            "HTI",
            "IND",
            "IRQ",
            "KEN",
            "LBR",
            "MDG",
            "MWI",
            "MRT",
            "MMR",
            "NER",
            "RWA",
            "TZA",
            "TGO",
            "UGA",
            "UKR",
            "ZWE"
           ],
           "marker": {
            "color": "#00cc96",
            "size": [
             3.982854604721069,
             4.3483195304870605,
             3.624664306640625,
             3.761964797973633,
             4.4189300537109375,
             4.162164688110352,
             4.3226752281188965,
             4.121940612792969,
             3.985916137695313,
             3.5046935081481934,
             3.5697624683380127,
             4.342079162597656,
             4.493377208709717,
             4.3576178550720215,
             2.70159125328064,
             3.592514038085937,
             3.867638349533081,
             3.922664165496826,
             4.223846435546875,
             3.671453714370728,
             3.4831089973449707,
             3.660597324371338,
             3.768301963806152,
             4.237686634063721,
             3.964542865753174,
             3.7031912803649902
            ],
            "sizemode": "area",
            "sizeref": 7.970891952514648,
            "symbol": "circle"
           },
           "mode": "markers+text",
           "name": "🤢",
           "showlegend": true,
           "text": [
            "🤢",
            "🤢",
            "🤢",
            "🤢",
            "🤢",
            "🤢",
            "🤢",
            "🤢",
            "🤢",
            "🤢",
            "🤢",
            "🤢",
            "🤢",
            "🤢",
            "🤢",
            "🤢",
            "🤢",
            "🤢",
            "🤢",
            "🤢",
            "🤢",
            "🤢",
            "🤢",
            "🤢",
            "🤢",
            "🤢"
           ],
           "type": "scattergeo"
          }
         ],
         "name": "2015"
        },
        {
         "data": [
          {
           "customdata": [
            [
             "Argentina",
             "South America",
             2016,
             6.427221298217773,
             "🥰",
             "ARG"
            ],
            [
             "Australia",
             "Oceania",
             2016,
             7.250080108642578,
             "🥰",
             "AUS"
            ],
            [
             "Austria",
             "Europe",
             2016,
             7.04807186126709,
             "🥰",
             "AUT"
            ],
            [
             "Bahrain",
             "Asia",
             2016,
             6.169673442840576,
             "🥰",
             "BHR"
            ],
            [
             "Belgium",
             "Europe",
             2016,
             6.948936462402344,
             "🥰",
             "BEL"
            ],
            [
             "Brazil",
             "South America",
             2016,
             6.374817371368408,
             "🥰",
             "BRA"
            ],
            [
             "Canada",
             "North America",
             2016,
             7.244845867156982,
             "🥰",
             "CAN"
            ],
            [
             "Chile",
             "South America",
             2016,
             6.579056262969971,
             "🥰",
             "CHL"
            ],
            [
             "Colombia",
             "South America",
             2016,
             6.233715057373047,
             "🥰",
             "COL"
            ],
            [
             "Costa Rica",
             "South America",
             2016,
             7.135617733001709,
             "🥰",
             "CRI"
            ],
            [
             "Czechia",
             null,
             2016,
             6.735627174377441,
             "🥰",
             "CZE"
            ],
            [
             "Denmark",
             "Europe",
             2016,
             7.557782649993896,
             "🥰",
             "DNK"
            ],
            [
             "Ecuador",
             "South America",
             2016,
             6.1154375076293945,
             "🥰",
             "ECU"
            ],
            [
             "El Salvador",
             "South America",
             2016,
             6.139824867248535,
             "🥰",
             "SLV"
            ],
            [
             "Finland",
             "Europe",
             2016,
             7.659843444824219,
             "🥰",
             "FIN"
            ],
            [
             "France",
             "Europe",
             2016,
             6.475208759307861,
             "🥰",
             "FRA"
            ],
            [
             "Germany",
             "Europe",
             2016,
             6.873763084411621,
             "🥰",
             "DEU"
            ],
            [
             "Guatemala",
             "South America",
             2016,
             6.358916282653809,
             "🥰",
             "GTM"
            ],
            [
             "Iceland",
             "Europe",
             2016,
             7.510034561157227,
             "🥰",
             "ISL"
            ],
            [
             "Ireland",
             "Europe",
             2016,
             7.040731430053711,
             "🥰",
             "IRL"
            ],
            [
             "Israel",
             "Asia",
             2016,
             7.159010887145996,
             "🥰",
             "ISR"
            ],
            [
             "Luxembourg",
             "Europe",
             2016,
             6.96734094619751,
             "🥰",
             "LUX"
            ],
            [
             "Malta",
             "Europe",
             2016,
             6.590842247009277,
             "🥰",
             "MLT"
            ],
            [
             "Mexico",
             "North America",
             2016,
             6.8241729736328125,
             "🥰",
             "MEX"
            ],
            [
             "Netherlands",
             "Europe",
             2016,
             7.540877342224121,
             "🥰",
             "NLD"
            ],
            [
             "New Zealand",
             "Oceania",
             2016,
             7.225687980651855,
             "🥰",
             "NZL"
            ],
            [
             "Nicaragua",
             "South America",
             2016,
             6.012739658355713,
             "🥰",
             "NIC"
            ],
            [
             "Norway",
             "Europe",
             2016,
             7.596331596374512,
             "🥰",
             "NOR"
            ],
            [
             "Panama",
             "South America",
             2016,
             6.117638111114502,
             "🥰",
             "PAN"
            ],
            [
             "Poland",
             "Europe",
             2016,
             6.162076473236084,
             "🥰",
             "POL"
            ],
            [
             "Saudi Arabia",
             "Asia",
             2016,
             6.473921298980713,
             "🥰",
             "SAU"
            ],
            [
             "Singapore",
             "Asia",
             2016,
             6.033480644226074,
             "🥰",
             "SGP"
            ],
            [
             "Spain",
             "Europe",
             2016,
             6.318612098693848,
             "🥰",
             "ESP"
            ],
            [
             "Sweden",
             "Europe",
             2016,
             7.368744373321533,
             "🥰",
             "SWE"
            ],
            [
             "Switzerland",
             "Europe",
             2016,
             7.45851993560791,
             "🥰",
             "CHE"
            ],
            [
             "Thailand",
             "Asia",
             2016,
             6.073639869689941,
             "🥰",
             "THA"
            ],
            [
             "United Arab Emirates",
             "Asia",
             2016,
             6.8309502601623535,
             "🥰",
             "ARE"
            ],
            [
             "United Kingdom",
             "Europe",
             2016,
             6.824283599853516,
             "🥰",
             "GBR"
            ],
            [
             "United States",
             "North America",
             2016,
             6.803599834442139,
             "🥰",
             "USA"
            ],
            [
             "Uruguay",
             "South America",
             2016,
             6.171485424041748,
             "🥰",
             "URY"
            ]
           ],
           "geo": "geo",
           "hovertemplate": "<b>%{hovertext}</b><br><br>emoji=%{customdata[4]}<br>year=%{customdata[2]}<br>Happiness Score=%{customdata[3]}<br>continent=%{customdata[1]}<extra></extra>",
           "hovertext": [
            "Argentina",
            "Australia",
            "Austria",
            "Bahrain",
            "Belgium",
            "Brazil",
            "Canada",
            "Chile",
            "Colombia",
            "Costa Rica",
            "Czechia",
            "Denmark",
            "Ecuador",
            "El Salvador",
            "Finland",
            "France",
            "Germany",
            "Guatemala",
            "Iceland",
            "Ireland",
            "Israel",
            "Luxembourg",
            "Malta",
            "Mexico",
            "Netherlands",
            "New Zealand",
            "Nicaragua",
            "Norway",
            "Panama",
            "Poland",
            "Saudi Arabia",
            "Singapore",
            "Spain",
            "Sweden",
            "Switzerland",
            "Thailand",
            "United Arab Emirates",
            "United Kingdom",
            "United States",
            "Uruguay"
           ],
           "legendgroup": "🥰",
           "locations": [
            "ARG",
            "AUS",
            "AUT",
            "BHR",
            "BEL",
            "BRA",
            "CAN",
            "CHL",
            "COL",
            "CRI",
            "CZE",
            "DNK",
            "ECU",
            "SLV",
            "FIN",
            "FRA",
            "DEU",
            "GTM",
            "ISL",
            "IRL",
            "ISR",
            "LUX",
            "MLT",
            "MEX",
            "NLD",
            "NZL",
            "NIC",
            "NOR",
            "PAN",
            "POL",
            "SAU",
            "SGP",
            "ESP",
            "SWE",
            "CHE",
            "THA",
            "ARE",
            "GBR",
            "USA",
            "URY"
           ],
           "marker": {
            "color": "#636efa",
            "size": [
             6.427221298217773,
             7.250080108642578,
             7.04807186126709,
             6.169673442840576,
             6.948936462402344,
             6.374817371368408,
             7.244845867156982,
             6.579056262969971,
             6.233715057373047,
             7.135617733001709,
             6.735627174377441,
             7.557782649993896,
             6.1154375076293945,
             6.139824867248535,
             7.659843444824219,
             6.475208759307861,
             6.873763084411621,
             6.358916282653809,
             7.510034561157227,
             7.040731430053711,
             7.159010887145996,
             6.96734094619751,
             6.590842247009277,
             6.8241729736328125,
             7.540877342224121,
             7.225687980651855,
             6.012739658355713,
             7.596331596374512,
             6.117638111114502,
             6.162076473236084,
             6.473921298980713,
             6.033480644226074,
             6.318612098693848,
             7.368744373321533,
             7.45851993560791,
             6.073639869689941,
             6.8309502601623535,
             6.824283599853516,
             6.803599834442139,
             6.171485424041748
            ],
            "sizemode": "area",
            "sizeref": 7.970891952514648,
            "symbol": "circle"
           },
           "mode": "markers+text",
           "name": "🥰",
           "showlegend": true,
           "text": [
            "🥰",
            "🥰",
            "🥰",
            "🥰",
            "🥰",
            "🥰",
            "🥰",
            "🥰",
            "🥰",
            "🥰",
            "🥰",
            "🥰",
            "🥰",
            "🥰",
            "🥰",
            "🥰",
            "🥰",
            "🥰",
            "🥰",
            "🥰",
            "🥰",
            "🥰",
            "🥰",
            "🥰",
            "🥰",
            "🥰",
            "🥰",
            "🥰",
            "🥰",
            "🥰",
            "🥰",
            "🥰",
            "🥰",
            "🥰",
            "🥰",
            "🥰",
            "🥰",
            "🥰",
            "🥰",
            "🥰"
           ],
           "type": "scattergeo"
          },
          {
           "customdata": [
            [
             "Albania",
             "Europe",
             2016,
             4.511100769042969,
             "🤖",
             "ALB"
            ],
            [
             "Algeria",
             "Africa",
             2016,
             5.340853691101074,
             "🤖",
             "DZA"
            ],
            [
             "Azerbaijan",
             "Asia",
             2016,
             5.303894996643066,
             "🤖",
             "AZE"
            ],
            [
             "Bangladesh",
             "Asia",
             2016,
             4.556140899658203,
             "🤖",
             "BGD"
            ],
            [
             "Belarus",
             "Europe",
             2016,
             5.177899360656738,
             "🤖",
             "BLR"
            ],
            [
             "Bolivia",
             "South America",
             2016,
             5.769723415374756,
             "🤖",
             "BOL"
            ],
            [
             "Bosnia and Herzegovina",
             "Europe",
             2016,
             5.180865287780762,
             "🤖",
             "BIH"
            ],
            [
             "Bulgaria",
             "Europe",
             2016,
             4.837560653686523,
             "🤖",
             "BGR"
            ],
            [
             "Cameroon",
             "Africa",
             2016,
             4.816232204437256,
             "🤖",
             "CMR"
            ],
            [
             "China",
             "Asia",
             2016,
             5.324955940246582,
             "🤖",
             "CHN"
            ],
            [
             "Croatia",
             "Europe",
             2016,
             5.41687536239624,
             "🤖",
             "HRV"
            ],
            [
             "Cyprus",
             "Asia",
             2016,
             5.794618606567383,
             "🤖",
             "CYP"
            ],
            [
             "Dominican Republic",
             "South America",
             2016,
             5.238698482513428,
             "🤖",
             "DOM"
            ],
            [
             "Estonia",
             "Europe",
             2016,
             5.649675369262695,
             "🤖",
             "EST"
            ],
            [
             "Gabon",
             "Africa",
             2016,
             4.831764221191406,
             "🤖",
             "GAB"
            ],
            [
             "Ghana",
             "Africa",
             2016,
             4.514411449432373,
             "🤖",
             "GHA"
            ],
            [
             "Greece",
             "Europe",
             2016,
             5.302619457244873,
             "🤖",
             "GRC"
            ],
            [
             "Honduras",
             "South America",
             2016,
             5.6481547355651855,
             "🤖",
             "HND"
            ],
            [
             "Hungary",
             "Europe",
             2016,
             5.448901653289795,
             "🤖",
             "HUN"
            ],
            [
             "Indonesia",
             "Asia",
             2016,
             5.136325359344482,
             "🤖",
             "IDN"
            ],
            [
             "Italy",
             "Europe",
             2016,
             5.954524040222168,
             "🤖",
             "ITA"
            ],
            [
             "Japan",
             "Asia",
             2016,
             5.95465087890625,
             "🤖",
             "JPN"
            ],
            [
             "Jordan",
             "Asia",
             2016,
             5.271284580230713,
             "🤖",
             "JOR"
            ],
            [
             "Kazakhstan",
             "Asia",
             2016,
             5.533551692962647,
             "🤖",
             "KAZ"
            ],
            [
             "Kosovo",
             "Europe",
             2016,
             5.759412288665772,
             "🤖",
             "XKX"
            ],
            [
             "Kuwait",
             "Asia",
             2016,
             5.947194576263428,
             "🤖",
             "KWT"
            ],
            [
             "Latvia",
             "Europe",
             2016,
             5.940446376800537,
             "🤖",
             "LVA"
            ],
            [
             "Lebanon",
             "Asia",
             2016,
             5.270723819732666,
             "🤖",
             "LBN"
            ],
            [
             "Libya",
             "Africa",
             2016,
             5.43358325958252,
             "🤖",
             "LBY"
            ],
            [
             "Lithuania",
             "Europe",
             2016,
             5.8655524253845215,
             "🤖",
             "LTU"
            ],
            [
             "Mauritius",
             "Africa",
             2016,
             5.610003471374512,
             "🤖",
             "MUS"
            ],
            [
             "Moldova",
             "Europe",
             2016,
             5.577784061431885,
             "🤖",
             "MDA"
            ],
            [
             "Mongolia",
             "Asia",
             2016,
             5.056999683380127,
             "🤖",
             "MNG"
            ],
            [
             "Montenegro",
             "Europe",
             2016,
             5.304066181182861,
             "🤖",
             "MNE"
            ],
            [
             "Morocco",
             "Africa",
             2016,
             5.386307239532471,
             "🤖",
             "MAR"
            ],
            [
             "Myanmar",
             "Asia",
             2016,
             4.623119831085205,
             "🤖",
             "MMR"
            ],
            [
             "Nepal",
             "Asia",
             2016,
             5.099539756774902,
             "🤖",
             "NPL"
            ],
            [
             "Nigeria",
             "Africa",
             2016,
             5.219567775726318,
             "🤖",
             "NGA"
            ],
            [
             "North Macedonia",
             null,
             2016,
             5.345746040344238,
             "🤖",
             "MKD"
            ],
            [
             "Pakistan",
             "Asia",
             2016,
             5.548508167266846,
             "🤖",
             "PAK"
            ],
            [
             "Paraguay",
             "South America",
             2016,
             5.801380157470703,
             "🤖",
             "PRY"
            ],
            [
             "Peru",
             "South America",
             2016,
             5.700628757476807,
             "🤖",
             "PER"
            ],
            [
             "Philippines",
             "Asia",
             2016,
             5.430832862854004,
             "🤖",
             "PHL"
            ],
            [
             "Portugal",
             "Europe",
             2016,
             5.446637153625488,
             "🤖",
             "PRT"
            ],
            [
             "Romania",
             "Europe",
             2016,
             5.968870639801025,
             "🤖",
             "ROU"
            ],
            [
             "Senegal",
             "Africa",
             2016,
             4.594533920288086,
             "🤖",
             "SEN"
            ],
            [
             "Serbia",
             "Europe",
             2016,
             5.75275468826294,
             "🤖",
             "SRB"
            ],
            [
             "Sierra Leone",
             "Africa",
             2016,
             4.732953071594238,
             "🤖",
             "SLE"
            ],
            [
             "Slovenia",
             "Europe",
             2016,
             5.936821460723877,
             "🤖",
             "SVN"
            ],
            [
             "Somalia",
             null,
             2016,
             4.667941093444824,
             "🤖",
             "SOM"
            ],
            [
             "South Africa",
             "Africa",
             2016,
             4.769739627838135,
             "🤖",
             "ZAF"
            ],
            [
             "Tajikistan",
             "Asia",
             2016,
             5.1037211418151855,
             "🤖",
             "TJK"
            ],
            [
             "Tunisia",
             "Africa",
             2016,
             4.521453380584717,
             "🤖",
             "TUN"
            ],
            [
             "Turkmenistan",
             "Asia",
             2016,
             5.887051582336426,
             "🤖",
             "TKM"
            ],
            [
             "Uzbekistan",
             "Asia",
             2016,
             5.892539024353027,
             "🤖",
             "UZB"
            ],
            [
             "Vietnam",
             "Asia",
             2016,
             5.062267303466797,
             "🤖",
             "VNM"
            ]
           ],
           "geo": "geo",
           "hovertemplate": "<b>%{hovertext}</b><br><br>emoji=%{customdata[4]}<br>year=%{customdata[2]}<br>Happiness Score=%{customdata[3]}<br>continent=%{customdata[1]}<extra></extra>",
           "hovertext": [
            "Albania",
            "Algeria",
            "Azerbaijan",
            "Bangladesh",
            "Belarus",
            "Bolivia",
            "Bosnia and Herzegovina",
            "Bulgaria",
            "Cameroon",
            "China",
            "Croatia",
            "Cyprus",
            "Dominican Republic",
            "Estonia",
            "Gabon",
            "Ghana",
            "Greece",
            "Honduras",
            "Hungary",
            "Indonesia",
            "Italy",
            "Japan",
            "Jordan",
            "Kazakhstan",
            "Kosovo",
            "Kuwait",
            "Latvia",
            "Lebanon",
            "Libya",
            "Lithuania",
            "Mauritius",
            "Moldova",
            "Mongolia",
            "Montenegro",
            "Morocco",
            "Myanmar",
            "Nepal",
            "Nigeria",
            "North Macedonia",
            "Pakistan",
            "Paraguay",
            "Peru",
            "Philippines",
            "Portugal",
            "Romania",
            "Senegal",
            "Serbia",
            "Sierra Leone",
            "Slovenia",
            "Somalia",
            "South Africa",
            "Tajikistan",
            "Tunisia",
            "Turkmenistan",
            "Uzbekistan",
            "Vietnam"
           ],
           "legendgroup": "🤖",
           "locations": [
            "ALB",
            "DZA",
            "AZE",
            "BGD",
            "BLR",
            "BOL",
            "BIH",
            "BGR",
            "CMR",
            "CHN",
            "HRV",
            "CYP",
            "DOM",
            "EST",
            "GAB",
            "GHA",
            "GRC",
            "HND",
            "HUN",
            "IDN",
            "ITA",
            "JPN",
            "JOR",
            "KAZ",
            "XKX",
            "KWT",
            "LVA",
            "LBN",
            "LBY",
            "LTU",
            "MUS",
            "MDA",
            "MNG",
            "MNE",
            "MAR",
            "MMR",
            "NPL",
            "NGA",
            "MKD",
            "PAK",
            "PRY",
            "PER",
            "PHL",
            "PRT",
            "ROU",
            "SEN",
            "SRB",
            "SLE",
            "SVN",
            "SOM",
            "ZAF",
            "TJK",
            "TUN",
            "TKM",
            "UZB",
            "VNM"
           ],
           "marker": {
            "color": "#EF553B",
            "size": [
             4.511100769042969,
             5.340853691101074,
             5.303894996643066,
             4.556140899658203,
             5.177899360656738,
             5.769723415374756,
             5.180865287780762,
             4.837560653686523,
             4.816232204437256,
             5.324955940246582,
             5.41687536239624,
             5.794618606567383,
             5.238698482513428,
             5.649675369262695,
             4.831764221191406,
             4.514411449432373,
             5.302619457244873,
             5.6481547355651855,
             5.448901653289795,
             5.136325359344482,
             5.954524040222168,
             5.95465087890625,
             5.271284580230713,
             5.533551692962647,
             5.759412288665772,
             5.947194576263428,
             5.940446376800537,
             5.270723819732666,
             5.43358325958252,
             5.8655524253845215,
             5.610003471374512,
             5.577784061431885,
             5.056999683380127,
             5.304066181182861,
             5.386307239532471,
             4.623119831085205,
             5.099539756774902,
             5.219567775726318,
             5.345746040344238,
             5.548508167266846,
             5.801380157470703,
             5.700628757476807,
             5.430832862854004,
             5.446637153625488,
             5.968870639801025,
             4.594533920288086,
             5.75275468826294,
             4.732953071594238,
             5.936821460723877,
             4.667941093444824,
             4.769739627838135,
             5.1037211418151855,
             4.521453380584717,
             5.887051582336426,
             5.892539024353027,
             5.062267303466797
            ],
            "sizemode": "area",
            "sizeref": 7.970891952514648,
            "symbol": "circle"
           },
           "mode": "markers+text",
           "name": "🤖",
           "showlegend": true,
           "text": [
            "🤖",
            "🤖",
            "🤖",
            "🤖",
            "🤖",
            "🤖",
            "🤖",
            "🤖",
            "🤖",
            "🤖",
            "🤖",
            "🤖",
            "🤖",
            "🤖",
            "🤖",
            "🤖",
            "🤖",
            "🤖",
            "🤖",
            "🤖",
            "🤖",
            "🤖",
            "🤖",
            "🤖",
            "🤖",
            "🤖",
            "🤖",
            "🤖",
            "🤖",
            "🤖",
            "🤖",
            "🤖",
            "🤖",
            "🤖",
            "🤖",
            "🤖",
            "🤖",
            "🤖",
            "🤖",
            "🤖",
            "🤖",
            "🤖",
            "🤖",
            "🤖",
            "🤖",
            "🤖",
            "🤖",
            "🤖",
            "🤖",
            "🤖",
            "🤖",
            "🤖",
            "🤖",
            "🤖",
            "🤖",
            "🤖"
           ],
           "type": "scattergeo"
          },
          {
           "customdata": [
            [
             "Afghanistan",
             "Asia",
             2016,
             4.220168590545654,
             "🤢",
             "AFG"
            ],
            [
             "Armenia",
             "Asia",
             2016,
             4.325471878051758,
             "🤢",
             "ARM"
            ],
            [
             "Benin",
             "Africa",
             2016,
             4.007357597351074,
             "🤢",
             "BEN"
            ],
            [
             "Botswana",
             "Africa",
             2016,
             3.498936653137207,
             "🤢",
             "BWA"
            ],
            [
             "Burkina Faso",
             "Africa",
             2016,
             4.205634593963623,
             "🤢",
             "BFA"
            ],
            [
             "Cambodia",
             "Asia",
             2016,
             4.461259365081787,
             "🤢",
             "KHM"
            ],
            [
             "Central African Republic",
             null,
             2016,
             2.693061113357544,
             "🤢",
             "CAF"
            ],
            [
             "Chad",
             "Africa",
             2016,
             4.029350280761719,
             "🤢",
             "TCD"
            ],
            [
             "Ethiopia",
             "Africa",
             2016,
             4.297848701477051,
             "🤢",
             "ETH"
            ],
            [
             "Georgia",
             "Asia",
             2016,
             4.448386192321777,
             "🤢",
             "GEO"
            ],
            [
             "Guinea",
             "South America",
             2016,
             3.6028547286987305,
             "🤢",
             "GIN"
            ],
            [
             "Haiti",
             "South America",
             2016,
             3.35230016708374,
             "🤢",
             "HTI"
            ],
            [
             "India",
             "Asia",
             2016,
             4.179177284240723,
             "🤢",
             "IND"
            ],
            [
             "Iraq",
             "Asia",
             2016,
             4.412537097930908,
             "🤢",
             "IRQ"
            ],
            [
             "Kenya",
             "Africa",
             2016,
             4.396127700805664,
             "🤢",
             "KEN"
            ],
            [
             "Lesotho",
             null,
             2016,
             3.808204889297485,
             "🤢",
             "LSO"
            ],
            [
             "Liberia",
             "Africa",
             2016,
             3.3546760082244877,
             "🤢",
             "LBR"
            ],
            [
             "Madagascar",
             "Africa",
             2016,
             3.6630859375,
             "🤢",
             "MDG"
            ],
            [
             "Malawi",
             "Africa",
             2016,
             3.4764926433563232,
             "🤢",
             "MWI"
            ],
            [
             "Mali",
             "Africa",
             2016,
             4.016027927398682,
             "🤢",
             "MLI"
            ],
            [
             "Mauritania",
             "Africa",
             2016,
             4.47214937210083,
             "🤢",
             "MRT"
            ],
            [
             "Niger",
             "Africa",
             2016,
             4.234645843505859,
             "🤢",
             "NER"
            ],
            [
             "Rwanda",
             "Africa",
             2016,
             3.3329899311065674,
             "🤢",
             "RWA"
            ],
            [
             "Tanzania",
             "Africa",
             2016,
             2.9027342796325684,
             "🤢",
             "TZA"
            ],
            [
             "Togo",
             "Africa",
             2016,
             3.878578424453736,
             "🤢",
             "TGO"
            ],
            [
             "Uganda",
             "Africa",
             2016,
             4.2332611083984375,
             "🤢",
             "UGA"
            ],
            [
             "Ukraine",
             "Europe",
             2016,
             4.028690338134766,
             "🤢",
             "UKR"
            ],
            [
             "Zambia",
             "Africa",
             2016,
             4.347543716430664,
             "🤢",
             "ZMB"
            ],
            [
             "Zimbabwe",
             "Africa",
             2016,
             3.7354001998901367,
             "🤢",
             "ZWE"
            ]
           ],
           "geo": "geo",
           "hovertemplate": "<b>%{hovertext}</b><br><br>emoji=%{customdata[4]}<br>year=%{customdata[2]}<br>Happiness Score=%{customdata[3]}<br>continent=%{customdata[1]}<extra></extra>",
           "hovertext": [
            "Afghanistan",
            "Armenia",
            "Benin",
            "Botswana",
            "Burkina Faso",
            "Cambodia",
            "Central African Republic",
            "Chad",
            "Ethiopia",
            "Georgia",
            "Guinea",
            "Haiti",
            "India",
            "Iraq",
            "Kenya",
            "Lesotho",
            "Liberia",
            "Madagascar",
            "Malawi",
            "Mali",
            "Mauritania",
            "Niger",
            "Rwanda",
            "Tanzania",
            "Togo",
            "Uganda",
            "Ukraine",
            "Zambia",
            "Zimbabwe"
           ],
           "legendgroup": "🤢",
           "locations": [
            "AFG",
            "ARM",
            "BEN",
            "BWA",
            "BFA",
            "KHM",
            "CAF",
            "TCD",
            "ETH",
            "GEO",
            "GIN",
            "HTI",
            "IND",
            "IRQ",
            "KEN",
            "LSO",
            "LBR",
            "MDG",
            "MWI",
            "MLI",
            "MRT",
            "NER",
            "RWA",
            "TZA",
            "TGO",
            "UGA",
            "UKR",
            "ZMB",
            "ZWE"
           ],
           "marker": {
            "color": "#00cc96",
            "size": [
             4.220168590545654,
             4.325471878051758,
             4.007357597351074,
             3.498936653137207,
             4.205634593963623,
             4.461259365081787,
             2.693061113357544,
             4.029350280761719,
             4.297848701477051,
             4.448386192321777,
             3.6028547286987305,
             3.35230016708374,
             4.179177284240723,
             4.412537097930908,
             4.396127700805664,
             3.808204889297485,
             3.3546760082244877,
             3.6630859375,
             3.4764926433563232,
             4.016027927398682,
             4.47214937210083,
             4.234645843505859,
             3.3329899311065674,
             2.9027342796325684,
             3.878578424453736,
             4.2332611083984375,
             4.028690338134766,
             4.347543716430664,
             3.7354001998901367
            ],
            "sizemode": "area",
            "sizeref": 7.970891952514648,
            "symbol": "circle"
           },
           "mode": "markers+text",
           "name": "🤢",
           "showlegend": true,
           "text": [
            "🤢",
            "🤢",
            "🤢",
            "🤢",
            "🤢",
            "🤢",
            "🤢",
            "🤢",
            "🤢",
            "🤢",
            "🤢",
            "🤢",
            "🤢",
            "🤢",
            "🤢",
            "🤢",
            "🤢",
            "🤢",
            "🤢",
            "🤢",
            "🤢",
            "🤢",
            "🤢",
            "🤢",
            "🤢",
            "🤢",
            "🤢",
            "🤢",
            "🤢"
           ],
           "type": "scattergeo"
          }
         ],
         "name": "2016"
        },
        {
         "data": [
          {
           "customdata": [
            [
             "Argentina",
             "South America",
             2017,
             6.039330005645752,
             "🥰",
             "ARG"
            ],
            [
             "Australia",
             "Oceania",
             2017,
             7.25703763961792,
             "🥰",
             "AUS"
            ],
            [
             "Austria",
             "Europe",
             2017,
             7.293727874755859,
             "🥰",
             "AUT"
            ],
            [
             "Bahrain",
             "Asia",
             2017,
             6.227320671081543,
             "🥰",
             "BHR"
            ],
            [
             "Belgium",
             "Europe",
             2017,
             6.928347587585449,
             "🥰",
             "BEL"
            ],
            [
             "Brazil",
             "South America",
             2017,
             6.3329291343688965,
             "🥰",
             "BRA"
            ],
            [
             "Canada",
             "North America",
             2017,
             7.414868354797363,
             "🥰",
             "CAN"
            ],
            [
             "Chile",
             "South America",
             2017,
             6.320119380950928,
             "🥰",
             "CHL"
            ],
            [
             "Colombia",
             "South America",
             2017,
             6.157341957092285,
             "🥰",
             "COL"
            ],
            [
             "Costa Rica",
             "South America",
             2017,
             7.225181579589844,
             "🥰",
             "CRI"
            ],
            [
             "Cyprus",
             "Asia",
             2017,
             6.062051296234131,
             "🥰",
             "CYP"
            ],
            [
             "Czechia",
             null,
             2017,
             6.789567947387695,
             "🥰",
             "CZE"
            ],
            [
             "Denmark",
             "Europe",
             2017,
             7.59370231628418,
             "🥰",
             "DNK"
            ],
            [
             "El Salvador",
             "South America",
             2017,
             6.33931827545166,
             "🥰",
             "SLV"
            ],
            [
             "Finland",
             "Europe",
             2017,
             7.788251876831055,
             "🥰",
             "FIN"
            ],
            [
             "France",
             "Europe",
             2017,
             6.635222434997559,
             "🥰",
             "FRA"
            ],
            [
             "Germany",
             "Europe",
             2017,
             7.074324607849121,
             "🥰",
             "DEU"
            ],
            [
             "Guatemala",
             "South America",
             2017,
             6.325118541717529,
             "🥰",
             "GTM"
            ],
            [
             "Honduras",
             "South America",
             2017,
             6.019985675811768,
             "🥰",
             "HND"
            ],
            [
             "Hungary",
             "Europe",
             2017,
             6.065038681030273,
             "🥰",
             "HUN"
            ],
            [
             "Iceland",
             "Europe",
             2017,
             7.4762139320373535,
             "🥰",
             "ISL"
            ],
            [
             "Ireland",
             "Europe",
             2017,
             7.060155391693115,
             "🥰",
             "IRL"
            ],
            [
             "Israel",
             "Asia",
             2017,
             7.33103609085083,
             "🥰",
             "ISR"
            ],
            [
             "Italy",
             "Europe",
             2017,
             6.1988701820373535,
             "🥰",
             "ITA"
            ],
            [
             "Kosovo",
             "Europe",
             2017,
             6.149199962615967,
             "🥰",
             "XKX"
            ],
            [
             "Kuwait",
             "Asia",
             2017,
             6.093905448913574,
             "🥰",
             "KWT"
            ],
            [
             "Lithuania",
             "Europe",
             2017,
             6.272940635681152,
             "🥰",
             "LTU"
            ],
            [
             "Luxembourg",
             "Europe",
             2017,
             7.061380863189697,
             "🥰",
             "LUX"
            ],
            [
             "Malta",
             "Europe",
             2017,
             6.675665855407715,
             "🥰",
             "MLT"
            ],
            [
             "Mauritius",
             "Africa",
             2017,
             6.174117565155029,
             "🥰",
             "MUS"
            ],
            [
             "Mexico",
             "North America",
             2017,
             6.410299301147461,
             "🥰",
             "MEX"
            ],
            [
             "Netherlands",
             "Europe",
             2017,
             7.458965301513672,
             "🥰",
             "NLD"
            ],
            [
             "New Zealand",
             "Oceania",
             2017,
             7.327182769775391,
             "🥰",
             "NZL"
            ],
            [
             "Nicaragua",
             "South America",
             2017,
             6.476356506347656,
             "🥰",
             "NIC"
            ],
            [
             "Norway",
             "Europe",
             2017,
             7.578744888305664,
             "🥰",
             "NOR"
            ],
            [
             "Panama",
             "South America",
             2017,
             6.5676589012146,
             "🥰",
             "PAN"
            ],
            [
             "Poland",
             "Europe",
             2017,
             6.201268196105957,
             "🥰",
             "POL"
            ],
            [
             "Romania",
             "Europe",
             2017,
             6.08990478515625,
             "🥰",
             "ROU"
            ],
            [
             "Saudi Arabia",
             "Asia",
             2017,
             6.29428243637085,
             "🥰",
             "SAU"
            ],
            [
             "Singapore",
             "Asia",
             2017,
             6.3784379959106445,
             "🥰",
             "SGP"
            ],
            [
             "Slovenia",
             "Europe",
             2017,
             6.166837692260742,
             "🥰",
             "SVN"
            ],
            [
             "Spain",
             "Europe",
             2017,
             6.230173110961914,
             "🥰",
             "ESP"
            ],
            [
             "Sweden",
             "Europe",
             2017,
             7.286804676055908,
             "🥰",
             "SWE"
            ],
            [
             "Switzerland",
             "Europe",
             2017,
             7.473593235015869,
             "🥰",
             "CHE"
            ],
            [
             "Trinidad and Tobago",
             null,
             2017,
             6.191859722137451,
             "🥰",
             "TTO"
            ],
            [
             "United Arab Emirates",
             "Asia",
             2017,
             7.039419651031494,
             "🥰",
             "ARE"
            ],
            [
             "United Kingdom",
             "Europe",
             2017,
             7.103273391723633,
             "🥰",
             "GBR"
            ],
            [
             "United States",
             "North America",
             2017,
             6.991759300231934,
             "🥰",
             "USA"
            ],
            [
             "Uruguay",
             "South America",
             2017,
             6.336009979248047,
             "🥰",
             "URY"
            ],
            [
             "Uzbekistan",
             "Asia",
             2017,
             6.42144775390625,
             "🥰",
             "UZB"
            ]
           ],
           "geo": "geo",
           "hovertemplate": "<b>%{hovertext}</b><br><br>emoji=%{customdata[4]}<br>year=%{customdata[2]}<br>Happiness Score=%{customdata[3]}<br>continent=%{customdata[1]}<extra></extra>",
           "hovertext": [
            "Argentina",
            "Australia",
            "Austria",
            "Bahrain",
            "Belgium",
            "Brazil",
            "Canada",
            "Chile",
            "Colombia",
            "Costa Rica",
            "Cyprus",
            "Czechia",
            "Denmark",
            "El Salvador",
            "Finland",
            "France",
            "Germany",
            "Guatemala",
            "Honduras",
            "Hungary",
            "Iceland",
            "Ireland",
            "Israel",
            "Italy",
            "Kosovo",
            "Kuwait",
            "Lithuania",
            "Luxembourg",
            "Malta",
            "Mauritius",
            "Mexico",
            "Netherlands",
            "New Zealand",
            "Nicaragua",
            "Norway",
            "Panama",
            "Poland",
            "Romania",
            "Saudi Arabia",
            "Singapore",
            "Slovenia",
            "Spain",
            "Sweden",
            "Switzerland",
            "Trinidad and Tobago",
            "United Arab Emirates",
            "United Kingdom",
            "United States",
            "Uruguay",
            "Uzbekistan"
           ],
           "legendgroup": "🥰",
           "locations": [
            "ARG",
            "AUS",
            "AUT",
            "BHR",
            "BEL",
            "BRA",
            "CAN",
            "CHL",
            "COL",
            "CRI",
            "CYP",
            "CZE",
            "DNK",
            "SLV",
            "FIN",
            "FRA",
            "DEU",
            "GTM",
            "HND",
            "HUN",
            "ISL",
            "IRL",
            "ISR",
            "ITA",
            "XKX",
            "KWT",
            "LTU",
            "LUX",
            "MLT",
            "MUS",
            "MEX",
            "NLD",
            "NZL",
            "NIC",
            "NOR",
            "PAN",
            "POL",
            "ROU",
            "SAU",
            "SGP",
            "SVN",
            "ESP",
            "SWE",
            "CHE",
            "TTO",
            "ARE",
            "GBR",
            "USA",
            "URY",
            "UZB"
           ],
           "marker": {
            "color": "#636efa",
            "size": [
             6.039330005645752,
             7.25703763961792,
             7.293727874755859,
             6.227320671081543,
             6.928347587585449,
             6.3329291343688965,
             7.414868354797363,
             6.320119380950928,
             6.157341957092285,
             7.225181579589844,
             6.062051296234131,
             6.789567947387695,
             7.59370231628418,
             6.33931827545166,
             7.788251876831055,
             6.635222434997559,
             7.074324607849121,
             6.325118541717529,
             6.019985675811768,
             6.065038681030273,
             7.4762139320373535,
             7.060155391693115,
             7.33103609085083,
             6.1988701820373535,
             6.149199962615967,
             6.093905448913574,
             6.272940635681152,
             7.061380863189697,
             6.675665855407715,
             6.174117565155029,
             6.410299301147461,
             7.458965301513672,
             7.327182769775391,
             6.476356506347656,
             7.578744888305664,
             6.5676589012146,
             6.201268196105957,
             6.08990478515625,
             6.29428243637085,
             6.3784379959106445,
             6.166837692260742,
             6.230173110961914,
             7.286804676055908,
             7.473593235015869,
             6.191859722137451,
             7.039419651031494,
             7.103273391723633,
             6.991759300231934,
             6.336009979248047,
             6.42144775390625
            ],
            "sizemode": "area",
            "sizeref": 7.970891952514648,
            "symbol": "circle"
           },
           "mode": "markers+text",
           "name": "🥰",
           "showlegend": true,
           "text": [
            "🥰",
            "🥰",
            "🥰",
            "🥰",
            "🥰",
            "🥰",
            "🥰",
            "🥰",
            "🥰",
            "🥰",
            "🥰",
            "🥰",
            "🥰",
            "🥰",
            "🥰",
            "🥰",
            "🥰",
            "🥰",
            "🥰",
            "🥰",
            "🥰",
            "🥰",
            "🥰",
            "🥰",
            "🥰",
            "🥰",
            "🥰",
            "🥰",
            "🥰",
            "🥰",
            "🥰",
            "🥰",
            "🥰",
            "🥰",
            "🥰",
            "🥰",
            "🥰",
            "🥰",
            "🥰",
            "🥰",
            "🥰",
            "🥰",
            "🥰",
            "🥰",
            "🥰",
            "🥰",
            "🥰",
            "🥰",
            "🥰",
            "🥰"
           ],
           "type": "scattergeo"
          },
          {
           "customdata": [
            [
             "Albania",
             "Europe",
             2017,
             4.639548301696777,
             "🤖",
             "ALB"
            ],
            [
             "Algeria",
             "Africa",
             2017,
             5.248912334442139,
             "🤖",
             "DZA"
            ],
            [
             "Azerbaijan",
             "Asia",
             2017,
             5.152279376983643,
             "🤖",
             "AZE"
            ],
            [
             "Belarus",
             "Europe",
             2017,
             5.552915096282959,
             "🤖",
             "BLR"
            ],
            [
             "Benin",
             "Africa",
             2017,
             4.853180885314941,
             "🤖",
             "BEN"
            ],
            [
             "Bolivia",
             "South America",
             2017,
             5.650552749633789,
             "🤖",
             "BOL"
            ],
            [
             "Bosnia and Herzegovina",
             "Europe",
             2017,
             5.089902400970459,
             "🤖",
             "BIH"
            ],
            [
             "Bulgaria",
             "Europe",
             2017,
             5.096901893615723,
             "🤖",
             "BGR"
            ],
            [
             "Burkina Faso",
             "Africa",
             2017,
             4.646891117095947,
             "🤖",
             "BFA"
            ],
            [
             "Cambodia",
             "Asia",
             2017,
             4.585842132568359,
             "🤖",
             "KHM"
            ],
            [
             "Cameroon",
             "Africa",
             2017,
             5.074051380157471,
             "🤖",
             "CMR"
            ],
            [
             "Chad",
             "Africa",
             2017,
             4.558937072753906,
             "🤖",
             "TCD"
            ],
            [
             "China",
             "Asia",
             2017,
             5.099061489105225,
             "🤖",
             "CHN"
            ],
            [
             "Croatia",
             "Europe",
             2017,
             5.343165874481201,
             "🤖",
             "HRV"
            ],
            [
             "Dominican Republic",
             "South America",
             2017,
             5.605202674865723,
             "🤖",
             "DOM"
            ],
            [
             "Ecuador",
             "South America",
             2017,
             5.8395185470581055,
             "🤖",
             "ECU"
            ],
            [
             "Estonia",
             "Europe",
             2017,
             5.938395977020264,
             "🤖",
             "EST"
            ],
            [
             "Gabon",
             "Africa",
             2017,
             4.782382965087891,
             "🤖",
             "GAB"
            ],
            [
             "Ghana",
             "Africa",
             2017,
             5.481310844421387,
             "🤖",
             "GHA"
            ],
            [
             "Greece",
             "Europe",
             2017,
             5.1482415199279785,
             "🤖",
             "GRC"
            ],
            [
             "Guinea",
             "South America",
             2017,
             4.873722553253174,
             "🤖",
             "GIN"
            ],
            [
             "Indonesia",
             "Asia",
             2017,
             5.098401546478272,
             "🤖",
             "IDN"
            ],
            [
             "Jamaica",
             "South America",
             2017,
             5.889759063720703,
             "🤖",
             "JAM"
            ],
            [
             "Japan",
             "Asia",
             2017,
             5.9106764793396,
             "🤖",
             "JPN"
            ],
            [
             "Jordan",
             "Asia",
             2017,
             4.808082580566406,
             "🤖",
             "JOR"
            ],
            [
             "Kazakhstan",
             "Asia",
             2017,
             5.882351398468018,
             "🤖",
             "KAZ"
            ],
            [
             "Latvia",
             "Europe",
             2017,
             5.977817535400391,
             "🤖",
             "LVA"
            ],
            [
             "Lebanon",
             "Asia",
             2017,
             5.153989791870117,
             "🤖",
             "LBN"
            ],
            [
             "Libya",
             "Africa",
             2017,
             5.646852493286133,
             "🤖",
             "LBY"
            ],
            [
             "Mali",
             "Africa",
             2017,
             4.74185037612915,
             "🤖",
             "MLI"
            ],
            [
             "Mauritania",
             "Africa",
             2017,
             4.678159713745117,
             "🤖",
             "MRT"
            ],
            [
             "Moldova",
             "Europe",
             2017,
             5.325530529022217,
             "🤖",
             "MDA"
            ],
            [
             "Mongolia",
             "Asia",
             2017,
             5.333850383758545,
             "🤖",
             "MNG"
            ],
            [
             "Montenegro",
             "Europe",
             2017,
             5.614798545837402,
             "🤖",
             "MNE"
            ],
            [
             "Morocco",
             "Africa",
             2017,
             5.312482833862305,
             "🤖",
             "MAR"
            ],
            [
             "Nepal",
             "Asia",
             2017,
             4.736692428588867,
             "🤖",
             "NPL"
            ],
            [
             "Niger",
             "Africa",
             2017,
             4.615673542022705,
             "🤖",
             "NER"
            ],
            [
             "Nigeria",
             "Africa",
             2017,
             5.321928024291992,
             "🤖",
             "NGA"
            ],
            [
             "North Macedonia",
             null,
             2017,
             5.233866691589356,
             "🤖",
             "MKD"
            ],
            [
             "Pakistan",
             "Asia",
             2017,
             5.830870628356934,
             "🤖",
             "PAK"
            ],
            [
             "Paraguay",
             "South America",
             2017,
             5.7132954597473145,
             "🤖",
             "PRY"
            ],
            [
             "Peru",
             "South America",
             2017,
             5.710936546325684,
             "🤖",
             "PER"
            ],
            [
             "Philippines",
             "Asia",
             2017,
             5.5942702293396,
             "🤖",
             "PHL"
            ],
            [
             "Portugal",
             "Europe",
             2017,
             5.711499214172363,
             "🤖",
             "PRT"
            ],
            [
             "Senegal",
             "Africa",
             2017,
             4.683024883270264,
             "🤖",
             "SEN"
            ],
            [
             "Serbia",
             "Europe",
             2017,
             5.122031211853027,
             "🤖",
             "SRB"
            ],
            [
             "South Africa",
             "Africa",
             2017,
             4.513655185699463,
             "🤖",
             "ZAF"
            ],
            [
             "Tajikistan",
             "Asia",
             2017,
             5.8292341232299805,
             "🤖",
             "TJK"
            ],
            [
             "Thailand",
             "Asia",
             2017,
             5.938895225524902,
             "🤖",
             "THA"
            ],
            [
             "Turkmenistan",
             "Asia",
             2017,
             5.229148864746094,
             "🤖",
             "TKM"
            ],
            [
             "Vietnam",
             "Asia",
             2017,
             5.175278663635254,
             "🤖",
             "VNM"
            ]
           ],
           "geo": "geo",
           "hovertemplate": "<b>%{hovertext}</b><br><br>emoji=%{customdata[4]}<br>year=%{customdata[2]}<br>Happiness Score=%{customdata[3]}<br>continent=%{customdata[1]}<extra></extra>",
           "hovertext": [
            "Albania",
            "Algeria",
            "Azerbaijan",
            "Belarus",
            "Benin",
            "Bolivia",
            "Bosnia and Herzegovina",
            "Bulgaria",
            "Burkina Faso",
            "Cambodia",
            "Cameroon",
            "Chad",
            "China",
            "Croatia",
            "Dominican Republic",
            "Ecuador",
            "Estonia",
            "Gabon",
            "Ghana",
            "Greece",
            "Guinea",
            "Indonesia",
            "Jamaica",
            "Japan",
            "Jordan",
            "Kazakhstan",
            "Latvia",
            "Lebanon",
            "Libya",
            "Mali",
            "Mauritania",
            "Moldova",
            "Mongolia",
            "Montenegro",
            "Morocco",
            "Nepal",
            "Niger",
            "Nigeria",
            "North Macedonia",
            "Pakistan",
            "Paraguay",
            "Peru",
            "Philippines",
            "Portugal",
            "Senegal",
            "Serbia",
            "South Africa",
            "Tajikistan",
            "Thailand",
            "Turkmenistan",
            "Vietnam"
           ],
           "legendgroup": "🤖",
           "locations": [
            "ALB",
            "DZA",
            "AZE",
            "BLR",
            "BEN",
            "BOL",
            "BIH",
            "BGR",
            "BFA",
            "KHM",
            "CMR",
            "TCD",
            "CHN",
            "HRV",
            "DOM",
            "ECU",
            "EST",
            "GAB",
            "GHA",
            "GRC",
            "GIN",
            "IDN",
            "JAM",
            "JPN",
            "JOR",
            "KAZ",
            "LVA",
            "LBN",
            "LBY",
            "MLI",
            "MRT",
            "MDA",
            "MNG",
            "MNE",
            "MAR",
            "NPL",
            "NER",
            "NGA",
            "MKD",
            "PAK",
            "PRY",
            "PER",
            "PHL",
            "PRT",
            "SEN",
            "SRB",
            "ZAF",
            "TJK",
            "THA",
            "TKM",
            "VNM"
           ],
           "marker": {
            "color": "#EF553B",
            "size": [
             4.639548301696777,
             5.248912334442139,
             5.152279376983643,
             5.552915096282959,
             4.853180885314941,
             5.650552749633789,
             5.089902400970459,
             5.096901893615723,
             4.646891117095947,
             4.585842132568359,
             5.074051380157471,
             4.558937072753906,
             5.099061489105225,
             5.343165874481201,
             5.605202674865723,
             5.8395185470581055,
             5.938395977020264,
             4.782382965087891,
             5.481310844421387,
             5.1482415199279785,
             4.873722553253174,
             5.098401546478272,
             5.889759063720703,
             5.9106764793396,
             4.808082580566406,
             5.882351398468018,
             5.977817535400391,
             5.153989791870117,
             5.646852493286133,
             4.74185037612915,
             4.678159713745117,
             5.325530529022217,
             5.333850383758545,
             5.614798545837402,
             5.312482833862305,
             4.736692428588867,
             4.615673542022705,
             5.321928024291992,
             5.233866691589356,
             5.830870628356934,
             5.7132954597473145,
             5.710936546325684,
             5.5942702293396,
             5.711499214172363,
             4.683024883270264,
             5.122031211853027,
             4.513655185699463,
             5.8292341232299805,
             5.938895225524902,
             5.229148864746094,
             5.175278663635254
            ],
            "sizemode": "area",
            "sizeref": 7.970891952514648,
            "symbol": "circle"
           },
           "mode": "markers+text",
           "name": "🤖",
           "showlegend": true,
           "text": [
            "🤖",
            "🤖",
            "🤖",
            "🤖",
            "🤖",
            "🤖",
            "🤖",
            "🤖",
            "🤖",
            "🤖",
            "🤖",
            "🤖",
            "🤖",
            "🤖",
            "🤖",
            "🤖",
            "🤖",
            "🤖",
            "🤖",
            "🤖",
            "🤖",
            "🤖",
            "🤖",
            "🤖",
            "🤖",
            "🤖",
            "🤖",
            "🤖",
            "🤖",
            "🤖",
            "🤖",
            "🤖",
            "🤖",
            "🤖",
            "🤖",
            "🤖",
            "🤖",
            "🤖",
            "🤖",
            "🤖",
            "🤖",
            "🤖",
            "🤖",
            "🤖",
            "🤖",
            "🤖",
            "🤖",
            "🤖",
            "🤖",
            "🤖",
            "🤖"
           ],
           "type": "scattergeo"
          },
          {
           "customdata": [
            [
             "Afghanistan",
             "Asia",
             2017,
             2.6617181301116943,
             "🤢",
             "AFG"
            ],
            [
             "Armenia",
             "Asia",
             2017,
             4.287736415863037,
             "🤢",
             "ARM"
            ],
            [
             "Bangladesh",
             "Asia",
             2017,
             4.309771060943604,
             "🤢",
             "BGD"
            ],
            [
             "Botswana",
             "Africa",
             2017,
             3.5048811435699463,
             "🤢",
             "BWA"
            ],
            [
             "Central African Republic",
             null,
             2017,
             3.4758620262146,
             "🤢",
             "CAF"
            ],
            [
             "Ethiopia",
             "Africa",
             2017,
             4.1803154945373535,
             "🤢",
             "ETH"
            ],
            [
             "Georgia",
             "Asia",
             2017,
             4.450774669647217,
             "🤢",
             "GEO"
            ],
            [
             "Haiti",
             "South America",
             2017,
             3.823865652084351,
             "🤢",
             "HTI"
            ],
            [
             "India",
             "Asia",
             2017,
             4.046111106872559,
             "🤢",
             "IND"
            ],
            [
             "Iraq",
             "Asia",
             2017,
             4.462399005889893,
             "🤢",
             "IRQ"
            ],
            [
             "Kenya",
             "Africa",
             2017,
             4.475654125213623,
             "🤢",
             "KEN"
            ],
            [
             "Lesotho",
             null,
             2017,
             3.795300722122192,
             "🤢",
             "LSO"
            ],
            [
             "Liberia",
             "Africa",
             2017,
             4.424490928649902,
             "🤢",
             "LBR"
            ],
            [
             "Madagascar",
             "Africa",
             2017,
             4.078620433807373,
             "🤢",
             "MDG"
            ],
            [
             "Malawi",
             "Africa",
             2017,
             3.416862964630127,
             "🤢",
             "MWI"
            ],
            [
             "Mozambique",
             null,
             2017,
             4.279863357543945,
             "🤢",
             "MOZ"
            ],
            [
             "Myanmar",
             "Asia",
             2017,
             4.154341697692871,
             "🤢",
             "MMR"
            ],
            [
             "Namibia",
             null,
             2017,
             4.441306114196777,
             "🤢",
             "NAM"
            ],
            [
             "Rwanda",
             "Africa",
             2017,
             3.1083738803863525,
             "🤢",
             "RWA"
            ],
            [
             "Sierra Leone",
             "Africa",
             2017,
             4.08956241607666,
             "🤢",
             "SLE"
            ],
            [
             "Sri Lanka",
             "Asia",
             2017,
             4.330945491790772,
             "🤢",
             "LKA"
            ],
            [
             "Tanzania",
             "Africa",
             2017,
             3.347121238708496,
             "🤢",
             "TZA"
            ],
            [
             "Togo",
             "Africa",
             2017,
             4.360805034637451,
             "🤢",
             "TGO"
            ],
            [
             "Tunisia",
             "Africa",
             2017,
             4.124342918395996,
             "🤢",
             "TUN"
            ],
            [
             "Uganda",
             "Africa",
             2017,
             4.000516891479492,
             "🤢",
             "UGA"
            ],
            [
             "Ukraine",
             "Europe",
             2017,
             4.3110671043396,
             "🤢",
             "UKR"
            ],
            [
             "Zambia",
             "Africa",
             2017,
             3.932777404785156,
             "🤢",
             "ZMB"
            ],
            [
             "Zimbabwe",
             "Africa",
             2017,
             3.6383001804351807,
             "🤢",
             "ZWE"
            ]
           ],
           "geo": "geo",
           "hovertemplate": "<b>%{hovertext}</b><br><br>emoji=%{customdata[4]}<br>year=%{customdata[2]}<br>Happiness Score=%{customdata[3]}<br>continent=%{customdata[1]}<extra></extra>",
           "hovertext": [
            "Afghanistan",
            "Armenia",
            "Bangladesh",
            "Botswana",
            "Central African Republic",
            "Ethiopia",
            "Georgia",
            "Haiti",
            "India",
            "Iraq",
            "Kenya",
            "Lesotho",
            "Liberia",
            "Madagascar",
            "Malawi",
            "Mozambique",
            "Myanmar",
            "Namibia",
            "Rwanda",
            "Sierra Leone",
            "Sri Lanka",
            "Tanzania",
            "Togo",
            "Tunisia",
            "Uganda",
            "Ukraine",
            "Zambia",
            "Zimbabwe"
           ],
           "legendgroup": "🤢",
           "locations": [
            "AFG",
            "ARM",
            "BGD",
            "BWA",
            "CAF",
            "ETH",
            "GEO",
            "HTI",
            "IND",
            "IRQ",
            "KEN",
            "LSO",
            "LBR",
            "MDG",
            "MWI",
            "MOZ",
            "MMR",
            "NAM",
            "RWA",
            "SLE",
            "LKA",
            "TZA",
            "TGO",
            "TUN",
            "UGA",
            "UKR",
            "ZMB",
            "ZWE"
           ],
           "marker": {
            "color": "#00cc96",
            "size": [
             2.6617181301116943,
             4.287736415863037,
             4.309771060943604,
             3.5048811435699463,
             3.4758620262146,
             4.1803154945373535,
             4.450774669647217,
             3.823865652084351,
             4.046111106872559,
             4.462399005889893,
             4.475654125213623,
             3.795300722122192,
             4.424490928649902,
             4.078620433807373,
             3.416862964630127,
             4.279863357543945,
             4.154341697692871,
             4.441306114196777,
             3.1083738803863525,
             4.08956241607666,
             4.330945491790772,
             3.347121238708496,
             4.360805034637451,
             4.124342918395996,
             4.000516891479492,
             4.3110671043396,
             3.932777404785156,
             3.6383001804351807
            ],
            "sizemode": "area",
            "sizeref": 7.970891952514648,
            "symbol": "circle"
           },
           "mode": "markers+text",
           "name": "🤢",
           "showlegend": true,
           "text": [
            "🤢",
            "🤢",
            "🤢",
            "🤢",
            "🤢",
            "🤢",
            "🤢",
            "🤢",
            "🤢",
            "🤢",
            "🤢",
            "🤢",
            "🤢",
            "🤢",
            "🤢",
            "🤢",
            "🤢",
            "🤢",
            "🤢",
            "🤢",
            "🤢",
            "🤢",
            "🤢",
            "🤢",
            "🤢",
            "🤢",
            "🤢",
            "🤢"
           ],
           "type": "scattergeo"
          }
         ],
         "name": "2017"
        },
        {
         "data": [
          {
           "customdata": [
            [
             "Australia",
             "Oceania",
             2018,
             7.176993370056152,
             "🥰",
             "AUS"
            ],
            [
             "Austria",
             "Europe",
             2018,
             7.396001815795898,
             "🥰",
             "AUT"
            ],
            [
             "Belgium",
             "Europe",
             2018,
             6.892171859741211,
             "🥰",
             "BEL"
            ],
            [
             "Brazil",
             "South America",
             2018,
             6.190921783447266,
             "🥰",
             "BRA"
            ],
            [
             "Canada",
             "North America",
             2018,
             7.175496578216553,
             "🥰",
             "CAN"
            ],
            [
             "Chile",
             "South America",
             2018,
             6.436220645904541,
             "🥰",
             "CHL"
            ],
            [
             "Costa Rica",
             "South America",
             2018,
             7.1410746574401855,
             "🥰",
             "CRI"
            ],
            [
             "Cyprus",
             "Asia",
             2018,
             6.276443004608154,
             "🥰",
             "CYP"
            ],
            [
             "Czechia",
             null,
             2018,
             7.034165382385254,
             "🥰",
             "CZE"
            ],
            [
             "Denmark",
             "Europe",
             2018,
             7.648785591125488,
             "🥰",
             "DNK"
            ],
            [
             "Ecuador",
             "South America",
             2018,
             6.128010272979736,
             "🥰",
             "ECU"
            ],
            [
             "El Salvador",
             "South America",
             2018,
             6.241199493408203,
             "🥰",
             "SLV"
            ],
            [
             "Estonia",
             "Europe",
             2018,
             6.091302394866943,
             "🥰",
             "EST"
            ],
            [
             "Finland",
             "Europe",
             2018,
             7.858107089996338,
             "🥰",
             "FIN"
            ],
            [
             "France",
             "Europe",
             2018,
             6.665903568267822,
             "🥰",
             "FRA"
            ],
            [
             "Germany",
             "Europe",
             2018,
             7.118364334106445,
             "🥰",
             "DEU"
            ],
            [
             "Guatemala",
             "South America",
             2018,
             6.626591682434082,
             "🥰",
             "GTM"
            ],
            [
             "Ireland",
             "Europe",
             2018,
             6.962335586547852,
             "🥰",
             "IRL"
            ],
            [
             "Israel",
             "Asia",
             2018,
             6.927178859710693,
             "🥰",
             "ISR"
            ],
            [
             "Italy",
             "Europe",
             2018,
             6.516526699066162,
             "🥰",
             "ITA"
            ],
            [
             "Kazakhstan",
             "Asia",
             2018,
             6.007636070251465,
             "🥰",
             "KAZ"
            ],
            [
             "Kosovo",
             "Europe",
             2018,
             6.391825675964356,
             "🥰",
             "XKX"
            ],
            [
             "Lithuania",
             "Europe",
             2018,
             6.3088788986206055,
             "🥰",
             "LTU"
            ],
            [
             "Luxembourg",
             "Europe",
             2018,
             7.242630958557129,
             "🥰",
             "LUX"
            ],
            [
             "Malta",
             "Europe",
             2018,
             6.909710884094238,
             "🥰",
             "MLT"
            ],
            [
             "Mexico",
             "North America",
             2018,
             6.549578666687012,
             "🥰",
             "MEX"
            ],
            [
             "Netherlands",
             "Europe",
             2018,
             7.463097095489502,
             "🥰",
             "NLD"
            ],
            [
             "New Zealand",
             "Oceania",
             2018,
             7.370285987854004,
             "🥰",
             "NZL"
            ],
            [
             "Norway",
             "Europe",
             2018,
             7.4442620277404785,
             "🥰",
             "NOR"
            ],
            [
             "Panama",
             "South America",
             2018,
             6.281434059143066,
             "🥰",
             "PAN"
            ],
            [
             "Poland",
             "Europe",
             2018,
             6.111485004425049,
             "🥰",
             "POL"
            ],
            [
             "Romania",
             "Europe",
             2018,
             6.15087890625,
             "🥰",
             "ROU"
            ],
            [
             "Saudi Arabia",
             "Asia",
             2018,
             6.356393337249756,
             "🥰",
             "SAU"
            ],
            [
             "Singapore",
             "Asia",
             2018,
             6.374564170837402,
             "🥰",
             "SGP"
            ],
            [
             "Slovenia",
             "Europe",
             2018,
             6.249419212341309,
             "🥰",
             "SVN"
            ],
            [
             "Spain",
             "Europe",
             2018,
             6.513370990753174,
             "🥰",
             "ESP"
            ],
            [
             "Sweden",
             "Europe",
             2018,
             7.374792098999023,
             "🥰",
             "SWE"
            ],
            [
             "Switzerland",
             "Europe",
             2018,
             7.508586883544922,
             "🥰",
             "CHE"
            ],
            [
             "Thailand",
             "Asia",
             2018,
             6.011561870574951,
             "🥰",
             "THA"
            ],
            [
             "United Arab Emirates",
             "Asia",
             2018,
             6.603743553161621,
             "🥰",
             "ARE"
            ],
            [
             "United Kingdom",
             "Europe",
             2018,
             7.233445167541504,
             "🥰",
             "GBR"
            ],
            [
             "United States",
             "North America",
             2018,
             6.882684707641602,
             "🥰",
             "USA"
            ],
            [
             "Uruguay",
             "South America",
             2018,
             6.3717145919799805,
             "🥰",
             "URY"
            ],
            [
             "Uzbekistan",
             "Asia",
             2018,
             6.205460071563721,
             "🥰",
             "UZB"
            ]
           ],
           "geo": "geo",
           "hovertemplate": "<b>%{hovertext}</b><br><br>emoji=%{customdata[4]}<br>year=%{customdata[2]}<br>Happiness Score=%{customdata[3]}<br>continent=%{customdata[1]}<extra></extra>",
           "hovertext": [
            "Australia",
            "Austria",
            "Belgium",
            "Brazil",
            "Canada",
            "Chile",
            "Costa Rica",
            "Cyprus",
            "Czechia",
            "Denmark",
            "Ecuador",
            "El Salvador",
            "Estonia",
            "Finland",
            "France",
            "Germany",
            "Guatemala",
            "Ireland",
            "Israel",
            "Italy",
            "Kazakhstan",
            "Kosovo",
            "Lithuania",
            "Luxembourg",
            "Malta",
            "Mexico",
            "Netherlands",
            "New Zealand",
            "Norway",
            "Panama",
            "Poland",
            "Romania",
            "Saudi Arabia",
            "Singapore",
            "Slovenia",
            "Spain",
            "Sweden",
            "Switzerland",
            "Thailand",
            "United Arab Emirates",
            "United Kingdom",
            "United States",
            "Uruguay",
            "Uzbekistan"
           ],
           "legendgroup": "🥰",
           "locations": [
            "AUS",
            "AUT",
            "BEL",
            "BRA",
            "CAN",
            "CHL",
            "CRI",
            "CYP",
            "CZE",
            "DNK",
            "ECU",
            "SLV",
            "EST",
            "FIN",
            "FRA",
            "DEU",
            "GTM",
            "IRL",
            "ISR",
            "ITA",
            "KAZ",
            "XKX",
            "LTU",
            "LUX",
            "MLT",
            "MEX",
            "NLD",
            "NZL",
            "NOR",
            "PAN",
            "POL",
            "ROU",
            "SAU",
            "SGP",
            "SVN",
            "ESP",
            "SWE",
            "CHE",
            "THA",
            "ARE",
            "GBR",
            "USA",
            "URY",
            "UZB"
           ],
           "marker": {
            "color": "#636efa",
            "size": [
             7.176993370056152,
             7.396001815795898,
             6.892171859741211,
             6.190921783447266,
             7.175496578216553,
             6.436220645904541,
             7.1410746574401855,
             6.276443004608154,
             7.034165382385254,
             7.648785591125488,
             6.128010272979736,
             6.241199493408203,
             6.091302394866943,
             7.858107089996338,
             6.665903568267822,
             7.118364334106445,
             6.626591682434082,
             6.962335586547852,
             6.927178859710693,
             6.516526699066162,
             6.007636070251465,
             6.391825675964356,
             6.3088788986206055,
             7.242630958557129,
             6.909710884094238,
             6.549578666687012,
             7.463097095489502,
             7.370285987854004,
             7.4442620277404785,
             6.281434059143066,
             6.111485004425049,
             6.15087890625,
             6.356393337249756,
             6.374564170837402,
             6.249419212341309,
             6.513370990753174,
             7.374792098999023,
             7.508586883544922,
             6.011561870574951,
             6.603743553161621,
             7.233445167541504,
             6.882684707641602,
             6.3717145919799805,
             6.205460071563721
            ],
            "sizemode": "area",
            "sizeref": 7.970891952514648,
            "symbol": "circle"
           },
           "mode": "markers+text",
           "name": "🥰",
           "showlegend": true,
           "text": [
            "🥰",
            "🥰",
            "🥰",
            "🥰",
            "🥰",
            "🥰",
            "🥰",
            "🥰",
            "🥰",
            "🥰",
            "🥰",
            "🥰",
            "🥰",
            "🥰",
            "🥰",
            "🥰",
            "🥰",
            "🥰",
            "🥰",
            "🥰",
            "🥰",
            "🥰",
            "🥰",
            "🥰",
            "🥰",
            "🥰",
            "🥰",
            "🥰",
            "🥰",
            "🥰",
            "🥰",
            "🥰",
            "🥰",
            "🥰",
            "🥰",
            "🥰",
            "🥰",
            "🥰",
            "🥰",
            "🥰",
            "🥰",
            "🥰",
            "🥰",
            "🥰"
           ],
           "type": "scattergeo"
          },
          {
           "customdata": [
            [
             "Albania",
             "Europe",
             2018,
             5.0044026374816895,
             "🤖",
             "ALB"
            ],
            [
             "Algeria",
             "Africa",
             2018,
             5.043086051940918,
             "🤖",
             "DZA"
            ],
            [
             "Argentina",
             "South America",
             2018,
             5.792796611785889,
             "🤖",
             "ARG"
            ],
            [
             "Armenia",
             "Asia",
             2018,
             5.062448501586914,
             "🤖",
             "ARM"
            ],
            [
             "Azerbaijan",
             "Asia",
             2018,
             5.167995452880859,
             "🤖",
             "AZE"
            ],
            [
             "Belarus",
             "Europe",
             2018,
             5.23376989364624,
             "🤖",
             "BLR"
            ],
            [
             "Benin",
             "Africa",
             2018,
             5.819827079772949,
             "🤖",
             "BEN"
            ],
            [
             "Bolivia",
             "South America",
             2018,
             5.91573429107666,
             "🤖",
             "BOL"
            ],
            [
             "Bosnia and Herzegovina",
             "Europe",
             2018,
             5.887401103973389,
             "🤖",
             "BIH"
            ],
            [
             "Bulgaria",
             "Europe",
             2018,
             5.098813533782959,
             "🤖",
             "BGR"
            ],
            [
             "Burkina Faso",
             "Africa",
             2018,
             4.927236080169678,
             "🤖",
             "BFA"
            ],
            [
             "Cambodia",
             "Asia",
             2018,
             5.121837615966797,
             "🤖",
             "KHM"
            ],
            [
             "Cameroon",
             "Africa",
             2018,
             5.25073766708374,
             "🤖",
             "CMR"
            ],
            [
             "China",
             "Asia",
             2018,
             5.131433963775635,
             "🤖",
             "CHN"
            ],
            [
             "Colombia",
             "South America",
             2018,
             5.9835124015808105,
             "🤖",
             "COL"
            ],
            [
             "Croatia",
             "Europe",
             2018,
             5.536271095275879,
             "🤖",
             "HRV"
            ],
            [
             "Dominican Republic",
             "South America",
             2018,
             5.433215618133545,
             "🤖",
             "DOM"
            ],
            [
             "Gabon",
             "Africa",
             2018,
             4.783009052276611,
             "🤖",
             "GAB"
            ],
            [
             "Georgia",
             "Asia",
             2018,
             4.659097194671631,
             "🤖",
             "GEO"
            ],
            [
             "Ghana",
             "Africa",
             2018,
             5.003693103790283,
             "🤖",
             "GHA"
            ],
            [
             "Greece",
             "Europe",
             2018,
             5.409289360046387,
             "🤖",
             "GRC"
            ],
            [
             "Guinea",
             "South America",
             2018,
             5.252226829528809,
             "🤖",
             "GIN"
            ],
            [
             "Honduras",
             "South America",
             2018,
             5.908423900604248,
             "🤖",
             "HND"
            ],
            [
             "Hungary",
             "Europe",
             2018,
             5.935770988464356,
             "🤖",
             "HUN"
            ],
            [
             "Indonesia",
             "Asia",
             2018,
             5.340295791625977,
             "🤖",
             "IDN"
            ],
            [
             "Iraq",
             "Asia",
             2018,
             4.886400699615479,
             "🤖",
             "IRQ"
            ],
            [
             "Japan",
             "Asia",
             2018,
             5.793575286865234,
             "🤖",
             "JPN"
            ],
            [
             "Jordan",
             "Asia",
             2018,
             4.6389336585998535,
             "🤖",
             "JOR"
            ],
            [
             "Kenya",
             "Africa",
             2018,
             4.655702590942383,
             "🤖",
             "KEN"
            ],
            [
             "Latvia",
             "Europe",
             2018,
             5.901154041290283,
             "🤖",
             "LVA"
            ],
            [
             "Lebanon",
             "Asia",
             2018,
             5.167186737060547,
             "🤖",
             "LBN"
            ],
            [
             "Libya",
             "Africa",
             2018,
             5.493977546691895,
             "🤖",
             "LBY"
            ],
            [
             "Malaysia",
             "Asia",
             2018,
             5.338817596435547,
             "🤖",
             "MYS"
            ],
            [
             "Maldives",
             null,
             2018,
             5.197574615478516,
             "🤖",
             "MDV"
            ],
            [
             "Mauritius",
             "Africa",
             2018,
             5.881740570068359,
             "🤖",
             "MUS"
            ],
            [
             "Moldova",
             "Europe",
             2018,
             5.682277202606201,
             "🤖",
             "MDA"
            ],
            [
             "Mongolia",
             "Asia",
             2018,
             5.464622974395752,
             "🤖",
             "MNG"
            ],
            [
             "Montenegro",
             "Europe",
             2018,
             5.6501898765563965,
             "🤖",
             "MNE"
            ],
            [
             "Morocco",
             "Africa",
             2018,
             4.896791934967041,
             "🤖",
             "MAR"
            ],
            [
             "Mozambique",
             null,
             2018,
             4.653713703155518,
             "🤖",
             "MOZ"
            ],
            [
             "Namibia",
             null,
             2018,
             4.83408784866333,
             "🤖",
             "NAM"
            ],
            [
             "Nepal",
             "Asia",
             2018,
             4.910086631774902,
             "🤖",
             "NPL"
            ],
            [
             "Nicaragua",
             "South America",
             2018,
             5.818952560424805,
             "🤖",
             "NIC"
            ],
            [
             "Niger",
             "Africa",
             2018,
             5.164007186889648,
             "🤖",
             "NER"
            ],
            [
             "Nigeria",
             "Africa",
             2018,
             5.252288341522217,
             "🤖",
             "NGA"
            ],
            [
             "North Macedonia",
             null,
             2018,
             5.239834785461426,
             "🤖",
             "MKD"
            ],
            [
             "Pakistan",
             "Asia",
             2018,
             5.471553802490234,
             "🤖",
             "PAK"
            ],
            [
             "Peru",
             "South America",
             2018,
             5.679661273956299,
             "🤖",
             "PER"
            ],
            [
             "Philippines",
             "Asia",
             2018,
             5.8691725730896,
             "🤖",
             "PHL"
            ],
            [
             "Portugal",
             "Europe",
             2018,
             5.919822692871094,
             "🤖",
             "PRT"
            ],
            [
             "Senegal",
             "Africa",
             2018,
             4.7693772315979,
             "🤖",
             "SEN"
            ],
            [
             "Serbia",
             "Europe",
             2018,
             5.936493396759033,
             "🤖",
             "SRB"
            ],
            [
             "South Africa",
             "Africa",
             2018,
             4.883922100067139,
             "🤖",
             "ZAF"
            ],
            [
             "Tajikistan",
             "Asia",
             2018,
             5.497468948364258,
             "🤖",
             "TJK"
            ],
            [
             "Tunisia",
             "Africa",
             2018,
             4.7411322593688965,
             "🤖",
             "TUN"
            ],
            [
             "Turkmenistan",
             "Asia",
             2018,
             4.620601654052734,
             "🤖",
             "TKM"
            ],
            [
             "Ukraine",
             "Europe",
             2018,
             4.661909103393555,
             "🤖",
             "UKR"
            ],
            [
             "Vietnam",
             "Asia",
             2018,
             5.295547008514404,
             "🤖",
             "VNM"
            ]
           ],
           "geo": "geo",
           "hovertemplate": "<b>%{hovertext}</b><br><br>emoji=%{customdata[4]}<br>year=%{customdata[2]}<br>Happiness Score=%{customdata[3]}<br>continent=%{customdata[1]}<extra></extra>",
           "hovertext": [
            "Albania",
            "Algeria",
            "Argentina",
            "Armenia",
            "Azerbaijan",
            "Belarus",
            "Benin",
            "Bolivia",
            "Bosnia and Herzegovina",
            "Bulgaria",
            "Burkina Faso",
            "Cambodia",
            "Cameroon",
            "China",
            "Colombia",
            "Croatia",
            "Dominican Republic",
            "Gabon",
            "Georgia",
            "Ghana",
            "Greece",
            "Guinea",
            "Honduras",
            "Hungary",
            "Indonesia",
            "Iraq",
            "Japan",
            "Jordan",
            "Kenya",
            "Latvia",
            "Lebanon",
            "Libya",
            "Malaysia",
            "Maldives",
            "Mauritius",
            "Moldova",
            "Mongolia",
            "Montenegro",
            "Morocco",
            "Mozambique",
            "Namibia",
            "Nepal",
            "Nicaragua",
            "Niger",
            "Nigeria",
            "North Macedonia",
            "Pakistan",
            "Peru",
            "Philippines",
            "Portugal",
            "Senegal",
            "Serbia",
            "South Africa",
            "Tajikistan",
            "Tunisia",
            "Turkmenistan",
            "Ukraine",
            "Vietnam"
           ],
           "legendgroup": "🤖",
           "locations": [
            "ALB",
            "DZA",
            "ARG",
            "ARM",
            "AZE",
            "BLR",
            "BEN",
            "BOL",
            "BIH",
            "BGR",
            "BFA",
            "KHM",
            "CMR",
            "CHN",
            "COL",
            "HRV",
            "DOM",
            "GAB",
            "GEO",
            "GHA",
            "GRC",
            "GIN",
            "HND",
            "HUN",
            "IDN",
            "IRQ",
            "JPN",
            "JOR",
            "KEN",
            "LVA",
            "LBN",
            "LBY",
            "MYS",
            "MDV",
            "MUS",
            "MDA",
            "MNG",
            "MNE",
            "MAR",
            "MOZ",
            "NAM",
            "NPL",
            "NIC",
            "NER",
            "NGA",
            "MKD",
            "PAK",
            "PER",
            "PHL",
            "PRT",
            "SEN",
            "SRB",
            "ZAF",
            "TJK",
            "TUN",
            "TKM",
            "UKR",
            "VNM"
           ],
           "marker": {
            "color": "#EF553B",
            "size": [
             5.0044026374816895,
             5.043086051940918,
             5.792796611785889,
             5.062448501586914,
             5.167995452880859,
             5.23376989364624,
             5.819827079772949,
             5.91573429107666,
             5.887401103973389,
             5.098813533782959,
             4.927236080169678,
             5.121837615966797,
             5.25073766708374,
             5.131433963775635,
             5.9835124015808105,
             5.536271095275879,
             5.433215618133545,
             4.783009052276611,
             4.659097194671631,
             5.003693103790283,
             5.409289360046387,
             5.252226829528809,
             5.908423900604248,
             5.935770988464356,
             5.340295791625977,
             4.886400699615479,
             5.793575286865234,
             4.6389336585998535,
             4.655702590942383,
             5.901154041290283,
             5.167186737060547,
             5.493977546691895,
             5.338817596435547,
             5.197574615478516,
             5.881740570068359,
             5.682277202606201,
             5.464622974395752,
             5.6501898765563965,
             4.896791934967041,
             4.653713703155518,
             4.83408784866333,
             4.910086631774902,
             5.818952560424805,
             5.164007186889648,
             5.252288341522217,
             5.239834785461426,
             5.471553802490234,
             5.679661273956299,
             5.8691725730896,
             5.919822692871094,
             4.7693772315979,
             5.936493396759033,
             4.883922100067139,
             5.497468948364258,
             4.7411322593688965,
             4.620601654052734,
             4.661909103393555,
             5.295547008514404
            ],
            "sizemode": "area",
            "sizeref": 7.970891952514648,
            "symbol": "circle"
           },
           "mode": "markers+text",
           "name": "🤖",
           "showlegend": true,
           "text": [
            "🤖",
            "🤖",
            "🤖",
            "🤖",
            "🤖",
            "🤖",
            "🤖",
            "🤖",
            "🤖",
            "🤖",
            "🤖",
            "🤖",
            "🤖",
            "🤖",
            "🤖",
            "🤖",
            "🤖",
            "🤖",
            "🤖",
            "🤖",
            "🤖",
            "🤖",
            "🤖",
            "🤖",
            "🤖",
            "🤖",
            "🤖",
            "🤖",
            "🤖",
            "🤖",
            "🤖",
            "🤖",
            "🤖",
            "🤖",
            "🤖",
            "🤖",
            "🤖",
            "🤖",
            "🤖",
            "🤖",
            "🤖",
            "🤖",
            "🤖",
            "🤖",
            "🤖",
            "🤖",
            "🤖",
            "🤖",
            "🤖",
            "🤖",
            "🤖",
            "🤖",
            "🤖",
            "🤖",
            "🤖",
            "🤖",
            "🤖",
            "🤖"
           ],
           "type": "scattergeo"
          },
          {
           "customdata": [
            [
             "Afghanistan",
             "Asia",
             2018,
             2.694303274154663,
             "🤢",
             "AFG"
            ],
            [
             "Bangladesh",
             "Asia",
             2018,
             4.499217033386231,
             "🤢",
             "BGD"
            ],
            [
             "Botswana",
             "Africa",
             2018,
             3.4613656997680664,
             "🤢",
             "BWA"
            ],
            [
             "Burundi",
             "Africa",
             2018,
             3.775283098220825,
             "🤢",
             "BDI"
            ],
            [
             "Chad",
             "Africa",
             2018,
             4.486325263977051,
             "🤢",
             "TCD"
            ],
            [
             "Comoros",
             null,
             2018,
             3.972819566726685,
             "🤢",
             "COM"
            ],
            [
             "Eswatini",
             null,
             2018,
             4.211565017700195,
             "🤢",
             "SWZ"
            ],
            [
             "Ethiopia",
             "Africa",
             2018,
             4.379262447357178,
             "🤢",
             "ETH"
            ],
            [
             "Haiti",
             "South America",
             2018,
             3.6149280071258554,
             "🤢",
             "HTI"
            ],
            [
             "India",
             "Asia",
             2018,
             3.818068742752075,
             "🤢",
             "IND"
            ],
            [
             "Liberia",
             "Africa",
             2018,
             4.134852886199951,
             "🤢",
             "LBR"
            ],
            [
             "Madagascar",
             "Africa",
             2018,
             4.070586681365967,
             "🤢",
             "MDG"
            ],
            [
             "Malawi",
             "Africa",
             2018,
             3.3346335887908936,
             "🤢",
             "MWI"
            ],
            [
             "Mali",
             "Africa",
             2018,
             4.415729522705078,
             "🤢",
             "MLI"
            ],
            [
             "Mauritania",
             "Africa",
             2018,
             4.313615322113037,
             "🤢",
             "MRT"
            ],
            [
             "Myanmar",
             "Asia",
             2018,
             4.410633087158203,
             "🤢",
             "MMR"
            ],
            [
             "Rwanda",
             "Africa",
             2018,
             3.561046600341797,
             "🤢",
             "RWA"
            ],
            [
             "Sierra Leone",
             "Africa",
             2018,
             4.305683135986328,
             "🤢",
             "SLE"
            ],
            [
             "Sri Lanka",
             "Asia",
             2018,
             4.435023784637451,
             "🤢",
             "LKA"
            ],
            [
             "Tanzania",
             "Africa",
             2018,
             3.44502329826355,
             "🤢",
             "TZA"
            ],
            [
             "Togo",
             "Africa",
             2018,
             4.022894859313965,
             "🤢",
             "TGO"
            ],
            [
             "Uganda",
             "Africa",
             2018,
             4.321714878082275,
             "🤢",
             "UGA"
            ],
            [
             "Zambia",
             "Africa",
             2018,
             4.041488170623779,
             "🤢",
             "ZMB"
            ],
            [
             "Zimbabwe",
             "Africa",
             2018,
             3.6164798736572266,
             "🤢",
             "ZWE"
            ]
           ],
           "geo": "geo",
           "hovertemplate": "<b>%{hovertext}</b><br><br>emoji=%{customdata[4]}<br>year=%{customdata[2]}<br>Happiness Score=%{customdata[3]}<br>continent=%{customdata[1]}<extra></extra>",
           "hovertext": [
            "Afghanistan",
            "Bangladesh",
            "Botswana",
            "Burundi",
            "Chad",
            "Comoros",
            "Eswatini",
            "Ethiopia",
            "Haiti",
            "India",
            "Liberia",
            "Madagascar",
            "Malawi",
            "Mali",
            "Mauritania",
            "Myanmar",
            "Rwanda",
            "Sierra Leone",
            "Sri Lanka",
            "Tanzania",
            "Togo",
            "Uganda",
            "Zambia",
            "Zimbabwe"
           ],
           "legendgroup": "🤢",
           "locations": [
            "AFG",
            "BGD",
            "BWA",
            "BDI",
            "TCD",
            "COM",
            "SWZ",
            "ETH",
            "HTI",
            "IND",
            "LBR",
            "MDG",
            "MWI",
            "MLI",
            "MRT",
            "MMR",
            "RWA",
            "SLE",
            "LKA",
            "TZA",
            "TGO",
            "UGA",
            "ZMB",
            "ZWE"
           ],
           "marker": {
            "color": "#00cc96",
            "size": [
             2.694303274154663,
             4.499217033386231,
             3.4613656997680664,
             3.775283098220825,
             4.486325263977051,
             3.972819566726685,
             4.211565017700195,
             4.379262447357178,
             3.6149280071258554,
             3.818068742752075,
             4.134852886199951,
             4.070586681365967,
             3.3346335887908936,
             4.415729522705078,
             4.313615322113037,
             4.410633087158203,
             3.561046600341797,
             4.305683135986328,
             4.435023784637451,
             3.44502329826355,
             4.022894859313965,
             4.321714878082275,
             4.041488170623779,
             3.6164798736572266
            ],
            "sizemode": "area",
            "sizeref": 7.970891952514648,
            "symbol": "circle"
           },
           "mode": "markers+text",
           "name": "🤢",
           "showlegend": true,
           "text": [
            "🤢",
            "🤢",
            "🤢",
            "🤢",
            "🤢",
            "🤢",
            "🤢",
            "🤢",
            "🤢",
            "🤢",
            "🤢",
            "🤢",
            "🤢",
            "🤢",
            "🤢",
            "🤢",
            "🤢",
            "🤢",
            "🤢",
            "🤢",
            "🤢",
            "🤢",
            "🤢",
            "🤢"
           ],
           "type": "scattergeo"
          }
         ],
         "name": "2018"
        },
        {
         "data": [
          {
           "customdata": [
            [
             "Argentina",
             "South America",
             2019,
             6.08556079864502,
             "🥰",
             "ARG"
            ],
            [
             "Australia",
             "Oceania",
             2019,
             7.233994960784912,
             "🥰",
             "AUS"
            ],
            [
             "Austria",
             "Europe",
             2019,
             7.195361137390137,
             "🥰",
             "AUT"
            ],
            [
             "Bahrain",
             "Asia",
             2019,
             7.098012447357178,
             "🥰",
             "BHR"
            ],
            [
             "Belgium",
             "Europe",
             2019,
             6.7721381187438965,
             "🥰",
             "BEL"
            ],
            [
             "Bosnia and Herzegovina",
             "Europe",
             2019,
             6.015522480010986,
             "🥰",
             "BIH"
            ],
            [
             "Brazil",
             "South America",
             2019,
             6.451148986816406,
             "🥰",
             "BRA"
            ],
            [
             "Canada",
             "North America",
             2019,
             7.109076499938965,
             "🥰",
             "CAN"
            ],
            [
             "Colombia",
             "South America",
             2019,
             6.350297927856445,
             "🥰",
             "COL"
            ],
            [
             "Costa Rica",
             "South America",
             2019,
             6.997618675231934,
             "🥰",
             "CRI"
            ],
            [
             "Cyprus",
             "Asia",
             2019,
             6.1368327140808105,
             "🥰",
             "CYP"
            ],
            [
             "Denmark",
             "Europe",
             2019,
             7.693003177642822,
             "🥰",
             "DNK"
            ],
            [
             "Dominican Republic",
             "South America",
             2019,
             6.004237174987793,
             "🥰",
             "DOM"
            ],
            [
             "El Salvador",
             "South America",
             2019,
             6.45482063293457,
             "🥰",
             "SLV"
            ],
            [
             "Estonia",
             "Europe",
             2019,
             6.034641265869141,
             "🥰",
             "EST"
            ],
            [
             "Finland",
             "Europe",
             2019,
             7.78034782409668,
             "🥰",
             "FIN"
            ],
            [
             "France",
             "Europe",
             2019,
             6.68964433670044,
             "🥰",
             "FRA"
            ],
            [
             "Germany",
             "Europe",
             2019,
             7.035472393035889,
             "🥰",
             "DEU"
            ],
            [
             "Guatemala",
             "South America",
             2019,
             6.2621750831604,
             "🥰",
             "GTM"
            ],
            [
             "Hungary",
             "Europe",
             2019,
             6.000259876251221,
             "🥰",
             "HUN"
            ],
            [
             "Iceland",
             "Europe",
             2019,
             7.532504558563232,
             "🥰",
             "ISL"
            ],
            [
             "Ireland",
             "Europe",
             2019,
             7.254841327667236,
             "🥰",
             "IRL"
            ],
            [
             "Israel",
             "Asia",
             2019,
             7.331779956817627,
             "🥰",
             "ISR"
            ],
            [
             "Italy",
             "Europe",
             2019,
             6.445416927337647,
             "🥰",
             "ITA"
            ],
            [
             "Jamaica",
             "South America",
             2019,
             6.309238910675049,
             "🥰",
             "JAM"
            ],
            [
             "Kazakhstan",
             "Asia",
             2019,
             6.272268295288086,
             "🥰",
             "KAZ"
            ],
            [
             "Kosovo",
             "Europe",
             2019,
             6.425144195556641,
             "🥰",
             "XKX"
            ],
            [
             "Kuwait",
             "Asia",
             2019,
             6.106119632720947,
             "🥰",
             "KWT"
            ],
            [
             "Lithuania",
             "Europe",
             2019,
             6.064097881317139,
             "🥰",
             "LTU"
            ],
            [
             "Luxembourg",
             "Europe",
             2019,
             7.40401554107666,
             "🥰",
             "LUX"
            ],
            [
             "Malta",
             "Europe",
             2019,
             6.732977390289307,
             "🥰",
             "MLT"
            ],
            [
             "Mauritius",
             "Africa",
             2019,
             6.2411651611328125,
             "🥰",
             "MUS"
            ],
            [
             "Mexico",
             "North America",
             2019,
             6.431945323944092,
             "🥰",
             "MEX"
            ],
            [
             "Netherlands",
             "Europe",
             2019,
             7.425268650054932,
             "🥰",
             "NLD"
            ],
            [
             "New Zealand",
             "Oceania",
             2019,
             7.205174446105957,
             "🥰",
             "NZL"
            ],
            [
             "Nicaragua",
             "South America",
             2019,
             6.112545013427734,
             "🥰",
             "NIC"
            ],
            [
             "Norway",
             "Europe",
             2019,
             7.442139625549316,
             "🥰",
             "NOR"
            ],
            [
             "Panama",
             "South America",
             2019,
             6.0859551429748535,
             "🥰",
             "PAN"
            ],
            [
             "Philippines",
             "Asia",
             2019,
             6.267745018005371,
             "🥰",
             "PHL"
            ],
            [
             "Poland",
             "Europe",
             2019,
             6.242094039916992,
             "🥰",
             "POL"
            ],
            [
             "Portugal",
             "Europe",
             2019,
             6.095473289489746,
             "🥰",
             "PRT"
            ],
            [
             "Romania",
             "Europe",
             2019,
             6.129942417144775,
             "🥰",
             "ROU"
            ],
            [
             "Saudi Arabia",
             "Asia",
             2019,
             6.5612473487854,
             "🥰",
             "SAU"
            ],
            [
             "Serbia",
             "Europe",
             2019,
             6.24140739440918,
             "🥰",
             "SRB"
            ],
            [
             "Singapore",
             "Asia",
             2019,
             6.378359794616699,
             "🥰",
             "SGP"
            ],
            [
             "Slovenia",
             "Europe",
             2019,
             6.665273666381836,
             "🥰",
             "SVN"
            ],
            [
             "Spain",
             "Europe",
             2019,
             6.457449436187744,
             "🥰",
             "ESP"
            ],
            [
             "Sweden",
             "Europe",
             2019,
             7.398092746734619,
             "🥰",
             "SWE"
            ],
            [
             "Switzerland",
             "Europe",
             2019,
             7.694221019744873,
             "🥰",
             "CHE"
            ],
            [
             "Thailand",
             "Asia",
             2019,
             6.022151470184326,
             "🥰",
             "THA"
            ],
            [
             "United Arab Emirates",
             "Asia",
             2019,
             6.710782527923584,
             "🥰",
             "ARE"
            ],
            [
             "United Kingdom",
             "Europe",
             2019,
             7.157151222229004,
             "🥰",
             "GBR"
            ],
            [
             "United States",
             "North America",
             2019,
             6.943701267242432,
             "🥰",
             "USA"
            ],
            [
             "Uruguay",
             "South America",
             2019,
             6.600337028503418,
             "🥰",
             "URY"
            ],
            [
             "Uzbekistan",
             "Asia",
             2019,
             6.154049396514893,
             "🥰",
             "UZB"
            ]
           ],
           "geo": "geo",
           "hovertemplate": "<b>%{hovertext}</b><br><br>emoji=%{customdata[4]}<br>year=%{customdata[2]}<br>Happiness Score=%{customdata[3]}<br>continent=%{customdata[1]}<extra></extra>",
           "hovertext": [
            "Argentina",
            "Australia",
            "Austria",
            "Bahrain",
            "Belgium",
            "Bosnia and Herzegovina",
            "Brazil",
            "Canada",
            "Colombia",
            "Costa Rica",
            "Cyprus",
            "Denmark",
            "Dominican Republic",
            "El Salvador",
            "Estonia",
            "Finland",
            "France",
            "Germany",
            "Guatemala",
            "Hungary",
            "Iceland",
            "Ireland",
            "Israel",
            "Italy",
            "Jamaica",
            "Kazakhstan",
            "Kosovo",
            "Kuwait",
            "Lithuania",
            "Luxembourg",
            "Malta",
            "Mauritius",
            "Mexico",
            "Netherlands",
            "New Zealand",
            "Nicaragua",
            "Norway",
            "Panama",
            "Philippines",
            "Poland",
            "Portugal",
            "Romania",
            "Saudi Arabia",
            "Serbia",
            "Singapore",
            "Slovenia",
            "Spain",
            "Sweden",
            "Switzerland",
            "Thailand",
            "United Arab Emirates",
            "United Kingdom",
            "United States",
            "Uruguay",
            "Uzbekistan"
           ],
           "legendgroup": "🥰",
           "locations": [
            "ARG",
            "AUS",
            "AUT",
            "BHR",
            "BEL",
            "BIH",
            "BRA",
            "CAN",
            "COL",
            "CRI",
            "CYP",
            "DNK",
            "DOM",
            "SLV",
            "EST",
            "FIN",
            "FRA",
            "DEU",
            "GTM",
            "HUN",
            "ISL",
            "IRL",
            "ISR",
            "ITA",
            "JAM",
            "KAZ",
            "XKX",
            "KWT",
            "LTU",
            "LUX",
            "MLT",
            "MUS",
            "MEX",
            "NLD",
            "NZL",
            "NIC",
            "NOR",
            "PAN",
            "PHL",
            "POL",
            "PRT",
            "ROU",
            "SAU",
            "SRB",
            "SGP",
            "SVN",
            "ESP",
            "SWE",
            "CHE",
            "THA",
            "ARE",
            "GBR",
            "USA",
            "URY",
            "UZB"
           ],
           "marker": {
            "color": "#636efa",
            "size": [
             6.08556079864502,
             7.233994960784912,
             7.195361137390137,
             7.098012447357178,
             6.7721381187438965,
             6.015522480010986,
             6.451148986816406,
             7.109076499938965,
             6.350297927856445,
             6.997618675231934,
             6.1368327140808105,
             7.693003177642822,
             6.004237174987793,
             6.45482063293457,
             6.034641265869141,
             7.78034782409668,
             6.68964433670044,
             7.035472393035889,
             6.2621750831604,
             6.000259876251221,
             7.532504558563232,
             7.254841327667236,
             7.331779956817627,
             6.445416927337647,
             6.309238910675049,
             6.272268295288086,
             6.425144195556641,
             6.106119632720947,
             6.064097881317139,
             7.40401554107666,
             6.732977390289307,
             6.2411651611328125,
             6.431945323944092,
             7.425268650054932,
             7.205174446105957,
             6.112545013427734,
             7.442139625549316,
             6.0859551429748535,
             6.267745018005371,
             6.242094039916992,
             6.095473289489746,
             6.129942417144775,
             6.5612473487854,
             6.24140739440918,
             6.378359794616699,
             6.665273666381836,
             6.457449436187744,
             7.398092746734619,
             7.694221019744873,
             6.022151470184326,
             6.710782527923584,
             7.157151222229004,
             6.943701267242432,
             6.600337028503418,
             6.154049396514893
            ],
            "sizemode": "area",
            "sizeref": 7.970891952514648,
            "symbol": "circle"
           },
           "mode": "markers+text",
           "name": "🥰",
           "showlegend": true,
           "text": [
            "🥰",
            "🥰",
            "🥰",
            "🥰",
            "🥰",
            "🥰",
            "🥰",
            "🥰",
            "🥰",
            "🥰",
            "🥰",
            "🥰",
            "🥰",
            "🥰",
            "🥰",
            "🥰",
            "🥰",
            "🥰",
            "🥰",
            "🥰",
            "🥰",
            "🥰",
            "🥰",
            "🥰",
            "🥰",
            "🥰",
            "🥰",
            "🥰",
            "🥰",
            "🥰",
            "🥰",
            "🥰",
            "🥰",
            "🥰",
            "🥰",
            "🥰",
            "🥰",
            "🥰",
            "🥰",
            "🥰",
            "🥰",
            "🥰",
            "🥰",
            "🥰",
            "🥰",
            "🥰",
            "🥰",
            "🥰",
            "🥰",
            "🥰",
            "🥰",
            "🥰",
            "🥰",
            "🥰",
            "🥰"
           ],
           "type": "scattergeo"
          },
          {
           "customdata": [
            [
             "Albania",
             "Europe",
             2019,
             4.995317935943604,
             "🤖",
             "ALB"
            ],
            [
             "Algeria",
             "Africa",
             2019,
             4.744627475738525,
             "🤖",
             "DZA"
            ],
            [
             "Armenia",
             "Asia",
             2019,
             5.488086700439453,
             "🤖",
             "ARM"
            ],
            [
             "Azerbaijan",
             "Asia",
             2019,
             5.173389434814453,
             "🤖",
             "AZE"
            ],
            [
             "Bangladesh",
             "Asia",
             2019,
             5.1142168045043945,
             "🤖",
             "BGD"
            ],
            [
             "Belarus",
             "Europe",
             2019,
             5.821453094482422,
             "🤖",
             "BLR"
            ],
            [
             "Benin",
             "Africa",
             2019,
             4.97636079788208,
             "🤖",
             "BEN"
            ],
            [
             "Bolivia",
             "South America",
             2019,
             5.6742706298828125,
             "🤖",
             "BOL"
            ],
            [
             "Bulgaria",
             "Europe",
             2019,
             5.108438014984131,
             "🤖",
             "BGR"
            ],
            [
             "Burkina Faso",
             "Africa",
             2019,
             4.740892887115479,
             "🤖",
             "BFA"
            ],
            [
             "Cambodia",
             "Asia",
             2019,
             4.998284816741943,
             "🤖",
             "KHM"
            ],
            [
             "Cameroon",
             "Africa",
             2019,
             4.936737537384033,
             "🤖",
             "CMR"
            ],
            [
             "Chile",
             "South America",
             2019,
             5.94225025177002,
             "🤖",
             "CHL"
            ],
            [
             "China",
             "Asia",
             2019,
             5.144120216369629,
             "🤖",
             "CHN"
            ],
            [
             "Comoros",
             null,
             2019,
             4.608616352081299,
             "🤖",
             "COM"
            ],
            [
             "Croatia",
             "Europe",
             2019,
             5.625743865966797,
             "🤖",
             "HRV"
            ],
            [
             "Ecuador",
             "South America",
             2019,
             5.809131145477295,
             "🤖",
             "ECU"
            ],
            [
             "Gabon",
             "Africa",
             2019,
             4.914393424987793,
             "🤖",
             "GAB"
            ],
            [
             "Georgia",
             "Asia",
             2019,
             4.891835689544678,
             "🤖",
             "GEO"
            ],
            [
             "Ghana",
             "Africa",
             2019,
             4.966809749603272,
             "🤖",
             "GHA"
            ],
            [
             "Greece",
             "Europe",
             2019,
             5.952157497406006,
             "🤖",
             "GRC"
            ],
            [
             "Guinea",
             "South America",
             2019,
             4.767684459686279,
             "🤖",
             "GIN"
            ],
            [
             "Honduras",
             "South America",
             2019,
             5.930051326751709,
             "🤖",
             "HND"
            ],
            [
             "Indonesia",
             "Asia",
             2019,
             5.346512794494629,
             "🤖",
             "IDN"
            ],
            [
             "Japan",
             "Asia",
             2019,
             5.908039093017578,
             "🤖",
             "JPN"
            ],
            [
             "Kenya",
             "Africa",
             2019,
             4.618850231170654,
             "🤖",
             "KEN"
            ],
            [
             "Latvia",
             "Europe",
             2019,
             5.969753742218018,
             "🤖",
             "LVA"
            ],
            [
             "Liberia",
             "Africa",
             2019,
             5.121460914611816,
             "🤖",
             "LBR"
            ],
            [
             "Libya",
             "Africa",
             2019,
             5.330222129821777,
             "🤖",
             "LBY"
            ],
            [
             "Malaysia",
             "Asia",
             2019,
             5.427954196929932,
             "🤖",
             "MYS"
            ],
            [
             "Mali",
             "Africa",
             2019,
             4.987991809844971,
             "🤖",
             "MLI"
            ],
            [
             "Moldova",
             "Europe",
             2019,
             5.803450584411621,
             "🤖",
             "MDA"
            ],
            [
             "Mongolia",
             "Asia",
             2019,
             5.562905311584473,
             "🤖",
             "MNG"
            ],
            [
             "Montenegro",
             "Europe",
             2019,
             5.386024951934815,
             "🤖",
             "MNE"
            ],
            [
             "Morocco",
             "Africa",
             2019,
             5.056751728057861,
             "🤖",
             "MAR"
            ],
            [
             "Mozambique",
             null,
             2019,
             4.932132720947266,
             "🤖",
             "MOZ"
            ],
            [
             "Nepal",
             "Asia",
             2019,
             5.448724746704102,
             "🤖",
             "NPL"
            ],
            [
             "Niger",
             "Africa",
             2019,
             5.003544330596924,
             "🤖",
             "NER"
            ],
            [
             "North Macedonia",
             null,
             2019,
             5.015485286712647,
             "🤖",
             "MKD"
            ],
            [
             "Paraguay",
             "South America",
             2019,
             5.652625560760498,
             "🤖",
             "PRY"
            ],
            [
             "Peru",
             "South America",
             2019,
             5.9993815422058105,
             "🤖",
             "PER"
            ],
            [
             "Senegal",
             "Africa",
             2019,
             5.488736629486084,
             "🤖",
             "SEN"
            ],
            [
             "South Africa",
             "Africa",
             2019,
             5.034863471984863,
             "🤖",
             "ZAF"
            ],
            [
             "Tajikistan",
             "Asia",
             2019,
             5.464015483856201,
             "🤖",
             "TJK"
            ],
            [
             "Turkmenistan",
             "Asia",
             2019,
             5.474299907684326,
             "🤖",
             "TKM"
            ],
            [
             "Uganda",
             "Africa",
             2019,
             4.948051452636719,
             "🤖",
             "UGA"
            ],
            [
             "Ukraine",
             "Europe",
             2019,
             4.701762199401856,
             "🤖",
             "UKR"
            ],
            [
             "Vietnam",
             "Asia",
             2019,
             5.467451095581055,
             "🤖",
             "VNM"
            ]
           ],
           "geo": "geo",
           "hovertemplate": "<b>%{hovertext}</b><br><br>emoji=%{customdata[4]}<br>year=%{customdata[2]}<br>Happiness Score=%{customdata[3]}<br>continent=%{customdata[1]}<extra></extra>",
           "hovertext": [
            "Albania",
            "Algeria",
            "Armenia",
            "Azerbaijan",
            "Bangladesh",
            "Belarus",
            "Benin",
            "Bolivia",
            "Bulgaria",
            "Burkina Faso",
            "Cambodia",
            "Cameroon",
            "Chile",
            "China",
            "Comoros",
            "Croatia",
            "Ecuador",
            "Gabon",
            "Georgia",
            "Ghana",
            "Greece",
            "Guinea",
            "Honduras",
            "Indonesia",
            "Japan",
            "Kenya",
            "Latvia",
            "Liberia",
            "Libya",
            "Malaysia",
            "Mali",
            "Moldova",
            "Mongolia",
            "Montenegro",
            "Morocco",
            "Mozambique",
            "Nepal",
            "Niger",
            "North Macedonia",
            "Paraguay",
            "Peru",
            "Senegal",
            "South Africa",
            "Tajikistan",
            "Turkmenistan",
            "Uganda",
            "Ukraine",
            "Vietnam"
           ],
           "legendgroup": "🤖",
           "locations": [
            "ALB",
            "DZA",
            "ARM",
            "AZE",
            "BGD",
            "BLR",
            "BEN",
            "BOL",
            "BGR",
            "BFA",
            "KHM",
            "CMR",
            "CHL",
            "CHN",
            "COM",
            "HRV",
            "ECU",
            "GAB",
            "GEO",
            "GHA",
            "GRC",
            "GIN",
            "HND",
            "IDN",
            "JPN",
            "KEN",
            "LVA",
            "LBR",
            "LBY",
            "MYS",
            "MLI",
            "MDA",
            "MNG",
            "MNE",
            "MAR",
            "MOZ",
            "NPL",
            "NER",
            "MKD",
            "PRY",
            "PER",
            "SEN",
            "ZAF",
            "TJK",
            "TKM",
            "UGA",
            "UKR",
            "VNM"
           ],
           "marker": {
            "color": "#EF553B",
            "size": [
             4.995317935943604,
             4.744627475738525,
             5.488086700439453,
             5.173389434814453,
             5.1142168045043945,
             5.821453094482422,
             4.97636079788208,
             5.6742706298828125,
             5.108438014984131,
             4.740892887115479,
             4.998284816741943,
             4.936737537384033,
             5.94225025177002,
             5.144120216369629,
             4.608616352081299,
             5.625743865966797,
             5.809131145477295,
             4.914393424987793,
             4.891835689544678,
             4.966809749603272,
             5.952157497406006,
             4.767684459686279,
             5.930051326751709,
             5.346512794494629,
             5.908039093017578,
             4.618850231170654,
             5.969753742218018,
             5.121460914611816,
             5.330222129821777,
             5.427954196929932,
             4.987991809844971,
             5.803450584411621,
             5.562905311584473,
             5.386024951934815,
             5.056751728057861,
             4.932132720947266,
             5.448724746704102,
             5.003544330596924,
             5.015485286712647,
             5.652625560760498,
             5.9993815422058105,
             5.488736629486084,
             5.034863471984863,
             5.464015483856201,
             5.474299907684326,
             4.948051452636719,
             4.701762199401856,
             5.467451095581055
            ],
            "sizemode": "area",
            "sizeref": 7.970891952514648,
            "symbol": "circle"
           },
           "mode": "markers+text",
           "name": "🤖",
           "showlegend": true,
           "text": [
            "🤖",
            "🤖",
            "🤖",
            "🤖",
            "🤖",
            "🤖",
            "🤖",
            "🤖",
            "🤖",
            "🤖",
            "🤖",
            "🤖",
            "🤖",
            "🤖",
            "🤖",
            "🤖",
            "🤖",
            "🤖",
            "🤖",
            "🤖",
            "🤖",
            "🤖",
            "🤖",
            "🤖",
            "🤖",
            "🤖",
            "🤖",
            "🤖",
            "🤖",
            "🤖",
            "🤖",
            "🤖",
            "🤖",
            "🤖",
            "🤖",
            "🤖",
            "🤖",
            "🤖",
            "🤖",
            "🤖",
            "🤖",
            "🤖",
            "🤖",
            "🤖",
            "🤖",
            "🤖",
            "🤖",
            "🤖"
           ],
           "type": "scattergeo"
          },
          {
           "customdata": [
            [
             "Afghanistan",
             "Asia",
             2019,
             2.375091791152954,
             "🤢",
             "AFG"
            ],
            [
             "Botswana",
             "Africa",
             2019,
             3.4710848331451416,
             "🤢",
             "BWA"
            ],
            [
             "Chad",
             "Africa",
             2019,
             4.250799179077148,
             "🤢",
             "TCD"
            ],
            [
             "Eswatini",
             null,
             2019,
             4.396114826202393,
             "🤢",
             "SWZ"
            ],
            [
             "Ethiopia",
             "Africa",
             2019,
             4.099555015563965,
             "🤢",
             "ETH"
            ],
            [
             "India",
             "Asia",
             2019,
             3.248769760131836,
             "🤢",
             "IND"
            ],
            [
             "Jordan",
             "Asia",
             2019,
             4.452548027038574,
             "🤢",
             "JOR"
            ],
            [
             "Lebanon",
             "Asia",
             2019,
             4.024219512939453,
             "🤢",
             "LBN"
            ],
            [
             "Lesotho",
             null,
             2019,
             3.5117805004119877,
             "🤢",
             "LSO"
            ],
            [
             "Madagascar",
             "Africa",
             2019,
             4.33908748626709,
             "🤢",
             "MDG"
            ],
            [
             "Malawi",
             "Africa",
             2019,
             3.869123697280884,
             "🤢",
             "MWI"
            ],
            [
             "Mauritania",
             "Africa",
             2019,
             4.152619361877441,
             "🤢",
             "MRT"
            ],
            [
             "Myanmar",
             "Asia",
             2019,
             4.434237480163574,
             "🤢",
             "MMR"
            ],
            [
             "Namibia",
             null,
             2019,
             4.4358110427856445,
             "🤢",
             "NAM"
            ],
            [
             "Nigeria",
             "Africa",
             2019,
             4.266484260559082,
             "🤢",
             "NGA"
            ],
            [
             "Pakistan",
             "Asia",
             2019,
             4.442717552185059,
             "🤢",
             "PAK"
            ],
            [
             "Rwanda",
             "Africa",
             2019,
             3.268152236938477,
             "🤢",
             "RWA"
            ],
            [
             "Sierra Leone",
             "Africa",
             2019,
             3.447381496429444,
             "🤢",
             "SLE"
            ],
            [
             "Sri Lanka",
             "Asia",
             2019,
             4.21329927444458,
             "🤢",
             "LKA"
            ],
            [
             "Tanzania",
             "Africa",
             2019,
             3.640154838562012,
             "🤢",
             "TZA"
            ],
            [
             "Togo",
             "Africa",
             2019,
             4.1794939041137695,
             "🤢",
             "TGO"
            ],
            [
             "Tunisia",
             "Africa",
             2019,
             4.315479755401611,
             "🤢",
             "TUN"
            ],
            [
             "Zambia",
             "Africa",
             2019,
             3.3067965507507324,
             "🤢",
             "ZMB"
            ],
            [
             "Zimbabwe",
             "Africa",
             2019,
             2.6935231685638428,
             "🤢",
             "ZWE"
            ]
           ],
           "geo": "geo",
           "hovertemplate": "<b>%{hovertext}</b><br><br>emoji=%{customdata[4]}<br>year=%{customdata[2]}<br>Happiness Score=%{customdata[3]}<br>continent=%{customdata[1]}<extra></extra>",
           "hovertext": [
            "Afghanistan",
            "Botswana",
            "Chad",
            "Eswatini",
            "Ethiopia",
            "India",
            "Jordan",
            "Lebanon",
            "Lesotho",
            "Madagascar",
            "Malawi",
            "Mauritania",
            "Myanmar",
            "Namibia",
            "Nigeria",
            "Pakistan",
            "Rwanda",
            "Sierra Leone",
            "Sri Lanka",
            "Tanzania",
            "Togo",
            "Tunisia",
            "Zambia",
            "Zimbabwe"
           ],
           "legendgroup": "🤢",
           "locations": [
            "AFG",
            "BWA",
            "TCD",
            "SWZ",
            "ETH",
            "IND",
            "JOR",
            "LBN",
            "LSO",
            "MDG",
            "MWI",
            "MRT",
            "MMR",
            "NAM",
            "NGA",
            "PAK",
            "RWA",
            "SLE",
            "LKA",
            "TZA",
            "TGO",
            "TUN",
            "ZMB",
            "ZWE"
           ],
           "marker": {
            "color": "#00cc96",
            "size": [
             2.375091791152954,
             3.4710848331451416,
             4.250799179077148,
             4.396114826202393,
             4.099555015563965,
             3.248769760131836,
             4.452548027038574,
             4.024219512939453,
             3.5117805004119877,
             4.33908748626709,
             3.869123697280884,
             4.152619361877441,
             4.434237480163574,
             4.4358110427856445,
             4.266484260559082,
             4.442717552185059,
             3.268152236938477,
             3.447381496429444,
             4.21329927444458,
             3.640154838562012,
             4.1794939041137695,
             4.315479755401611,
             3.3067965507507324,
             2.6935231685638428
            ],
            "sizemode": "area",
            "sizeref": 7.970891952514648,
            "symbol": "circle"
           },
           "mode": "markers+text",
           "name": "🤢",
           "showlegend": true,
           "text": [
            "🤢",
            "🤢",
            "🤢",
            "🤢",
            "🤢",
            "🤢",
            "🤢",
            "🤢",
            "🤢",
            "🤢",
            "🤢",
            "🤢",
            "🤢",
            "🤢",
            "🤢",
            "🤢",
            "🤢",
            "🤢",
            "🤢",
            "🤢",
            "🤢",
            "🤢",
            "🤢",
            "🤢"
           ],
           "type": "scattergeo"
          }
         ],
         "name": "2019"
        },
        {
         "data": [
          {
           "customdata": [
            [
             "Australia",
             "Oceania",
             2020,
             7.1373677253723145,
             "🥰",
             "AUS"
            ],
            [
             "Austria",
             "Europe",
             2020,
             7.213489055633545,
             "🥰",
             "AUT"
            ],
            [
             "Bahrain",
             "Asia",
             2020,
             6.173175811767578,
             "🥰",
             "BHR"
            ],
            [
             "Belgium",
             "Europe",
             2020,
             6.838760852813721,
             "🥰",
             "BEL"
            ],
            [
             "Brazil",
             "South America",
             2020,
             6.109717845916748,
             "🥰",
             "BRA"
            ],
            [
             "Canada",
             "North America",
             2020,
             7.024904727935791,
             "🥰",
             "CAN"
            ],
            [
             "Chile",
             "South America",
             2020,
             6.1506428718566895,
             "🥰",
             "CHL"
            ],
            [
             "Costa Rica",
             "South America",
             2020,
             6.338472366333008,
             "🥰",
             "CRI"
            ],
            [
             "Croatia",
             "Europe",
             2020,
             6.507992267608643,
             "🥰",
             "HRV"
            ],
            [
             "Cyprus",
             "Asia",
             2020,
             6.259810447692871,
             "🥰",
             "CYP"
            ],
            [
             "Czechia",
             null,
             2020,
             6.897091388702393,
             "🥰",
             "CZE"
            ],
            [
             "Denmark",
             "Europe",
             2020,
             7.514631271362305,
             "🥰",
             "DNK"
            ],
            [
             "Estonia",
             "Europe",
             2020,
             6.452563762664795,
             "🥰",
             "EST"
            ],
            [
             "Finland",
             "Europe",
             2020,
             7.889349937438965,
             "🥰",
             "FIN"
            ],
            [
             "France",
             "Europe",
             2020,
             6.714111804962158,
             "🥰",
             "FRA"
            ],
            [
             "Germany",
             "Europe",
             2020,
             7.311897754669189,
             "🥰",
             "DEU"
            ],
            [
             "Hungary",
             "Europe",
             2020,
             6.038049697875977,
             "🥰",
             "HUN"
            ],
            [
             "Iceland",
             "Europe",
             2020,
             7.575489521026611,
             "🥰",
             "ISL"
            ],
            [
             "Ireland",
             "Europe",
             2020,
             7.03493070602417,
             "🥰",
             "IRL"
            ],
            [
             "Israel",
             "Asia",
             2020,
             7.194928169250488,
             "🥰",
             "ISR"
            ],
            [
             "Italy",
             "Europe",
             2020,
             6.488356113433838,
             "🥰",
             "ITA"
            ],
            [
             "Japan",
             "Asia",
             2020,
             6.1179633140563965,
             "🥰",
             "JPN"
            ],
            [
             "Kazakhstan",
             "Asia",
             2020,
             6.168269157409668,
             "🥰",
             "KAZ"
            ],
            [
             "Kosovo",
             "Europe",
             2020,
             6.294414043426514,
             "🥰",
             "XKX"
            ],
            [
             "Latvia",
             "Europe",
             2020,
             6.229008674621582,
             "🥰",
             "LVA"
            ],
            [
             "Lithuania",
             "Europe",
             2020,
             6.391378879547119,
             "🥰",
             "LTU"
            ],
            [
             "Malaysia",
             "Asia",
             2020,
             6.014198780059815,
             "🥰",
             "MYS"
            ],
            [
             "Malta",
             "Europe",
             2020,
             6.156822681427002,
             "🥰",
             "MLT"
            ],
            [
             "Mauritius",
             "Africa",
             2020,
             6.015300273895264,
             "🥰",
             "MUS"
            ],
            [
             "Mongolia",
             "Asia",
             2020,
             6.011364936828613,
             "🥰",
             "MNG"
            ],
            [
             "Netherlands",
             "Europe",
             2020,
             7.504447937011719,
             "🥰",
             "NLD"
            ],
            [
             "New Zealand",
             "Oceania",
             2020,
             7.257381916046143,
             "🥰",
             "NZL"
            ],
            [
             "Nicaragua",
             "South America",
             2020,
             6.286890029907227,
             "🥰",
             "NIC"
            ],
            [
             "Norway",
             "Europe",
             2020,
             7.290032386779785,
             "🥰",
             "NOR"
            ],
            [
             "Poland",
             "Europe",
             2020,
             6.139455318450928,
             "🥰",
             "POL"
            ],
            [
             "Romania",
             "Europe",
             2020,
             6.785142421722412,
             "🥰",
             "ROU"
            ],
            [
             "Saudi Arabia",
             "Asia",
             2020,
             6.559588432312012,
             "🥰",
             "SAU"
            ],
            [
             "Serbia",
             "Europe",
             2020,
             6.04154634475708,
             "🥰",
             "SRB"
            ],
            [
             "Slovenia",
             "Europe",
             2020,
             6.462076187133789,
             "🥰",
             "SVN"
            ],
            [
             "Spain",
             "Europe",
             2020,
             6.502175331115723,
             "🥰",
             "ESP"
            ],
            [
             "Sweden",
             "Europe",
             2020,
             7.314341068267822,
             "🥰",
             "SWE"
            ],
            [
             "Switzerland",
             "Europe",
             2020,
             7.508435249328613,
             "🥰",
             "CHE"
            ],
            [
             "United Arab Emirates",
             "Asia",
             2020,
             6.458392143249512,
             "🥰",
             "ARE"
            ],
            [
             "United Kingdom",
             "Europe",
             2020,
             6.798177242279053,
             "🥰",
             "GBR"
            ],
            [
             "United States",
             "North America",
             2020,
             7.028088092803955,
             "🥰",
             "USA"
            ],
            [
             "Uruguay",
             "South America",
             2020,
             6.309681415557861,
             "🥰",
             "URY"
            ]
           ],
           "geo": "geo",
           "hovertemplate": "<b>%{hovertext}</b><br><br>emoji=%{customdata[4]}<br>year=%{customdata[2]}<br>Happiness Score=%{customdata[3]}<br>continent=%{customdata[1]}<extra></extra>",
           "hovertext": [
            "Australia",
            "Austria",
            "Bahrain",
            "Belgium",
            "Brazil",
            "Canada",
            "Chile",
            "Costa Rica",
            "Croatia",
            "Cyprus",
            "Czechia",
            "Denmark",
            "Estonia",
            "Finland",
            "France",
            "Germany",
            "Hungary",
            "Iceland",
            "Ireland",
            "Israel",
            "Italy",
            "Japan",
            "Kazakhstan",
            "Kosovo",
            "Latvia",
            "Lithuania",
            "Malaysia",
            "Malta",
            "Mauritius",
            "Mongolia",
            "Netherlands",
            "New Zealand",
            "Nicaragua",
            "Norway",
            "Poland",
            "Romania",
            "Saudi Arabia",
            "Serbia",
            "Slovenia",
            "Spain",
            "Sweden",
            "Switzerland",
            "United Arab Emirates",
            "United Kingdom",
            "United States",
            "Uruguay"
           ],
           "legendgroup": "🥰",
           "locations": [
            "AUS",
            "AUT",
            "BHR",
            "BEL",
            "BRA",
            "CAN",
            "CHL",
            "CRI",
            "HRV",
            "CYP",
            "CZE",
            "DNK",
            "EST",
            "FIN",
            "FRA",
            "DEU",
            "HUN",
            "ISL",
            "IRL",
            "ISR",
            "ITA",
            "JPN",
            "KAZ",
            "XKX",
            "LVA",
            "LTU",
            "MYS",
            "MLT",
            "MUS",
            "MNG",
            "NLD",
            "NZL",
            "NIC",
            "NOR",
            "POL",
            "ROU",
            "SAU",
            "SRB",
            "SVN",
            "ESP",
            "SWE",
            "CHE",
            "ARE",
            "GBR",
            "USA",
            "URY"
           ],
           "marker": {
            "color": "#636efa",
            "size": [
             7.1373677253723145,
             7.213489055633545,
             6.173175811767578,
             6.838760852813721,
             6.109717845916748,
             7.024904727935791,
             6.1506428718566895,
             6.338472366333008,
             6.507992267608643,
             6.259810447692871,
             6.897091388702393,
             7.514631271362305,
             6.452563762664795,
             7.889349937438965,
             6.714111804962158,
             7.311897754669189,
             6.038049697875977,
             7.575489521026611,
             7.03493070602417,
             7.194928169250488,
             6.488356113433838,
             6.1179633140563965,
             6.168269157409668,
             6.294414043426514,
             6.229008674621582,
             6.391378879547119,
             6.014198780059815,
             6.156822681427002,
             6.015300273895264,
             6.011364936828613,
             7.504447937011719,
             7.257381916046143,
             6.286890029907227,
             7.290032386779785,
             6.139455318450928,
             6.785142421722412,
             6.559588432312012,
             6.04154634475708,
             6.462076187133789,
             6.502175331115723,
             7.314341068267822,
             7.508435249328613,
             6.458392143249512,
             6.798177242279053,
             7.028088092803955,
             6.309681415557861
            ],
            "sizemode": "area",
            "sizeref": 7.970891952514648,
            "symbol": "circle"
           },
           "mode": "markers+text",
           "name": "🥰",
           "showlegend": true,
           "text": [
            "🥰",
            "🥰",
            "🥰",
            "🥰",
            "🥰",
            "🥰",
            "🥰",
            "🥰",
            "🥰",
            "🥰",
            "🥰",
            "🥰",
            "🥰",
            "🥰",
            "🥰",
            "🥰",
            "🥰",
            "🥰",
            "🥰",
            "🥰",
            "🥰",
            "🥰",
            "🥰",
            "🥰",
            "🥰",
            "🥰",
            "🥰",
            "🥰",
            "🥰",
            "🥰",
            "🥰",
            "🥰",
            "🥰",
            "🥰",
            "🥰",
            "🥰",
            "🥰",
            "🥰",
            "🥰",
            "🥰",
            "🥰",
            "🥰",
            "🥰",
            "🥰",
            "🥰",
            "🥰"
           ],
           "type": "scattergeo"
          },
          {
           "customdata": [
            [
             "Albania",
             "Europe",
             2020,
             5.364909648895264,
             "🤖",
             "ALB"
            ],
            [
             "Algeria",
             "Africa",
             2020,
             5.437755107879639,
             "🤖",
             "DZA"
            ],
            [
             "Argentina",
             "South America",
             2020,
             5.900567054748535,
             "🤖",
             "ARG"
            ],
            [
             "Bangladesh",
             "Asia",
             2020,
             5.27998685836792,
             "🤖",
             "BGD"
            ],
            [
             "Bolivia",
             "South America",
             2020,
             5.559258937835693,
             "🤖",
             "BOL"
            ],
            [
             "Bosnia and Herzegovina",
             "Europe",
             2020,
             5.51581621170044,
             "🤖",
             "BIH"
            ],
            [
             "Bulgaria",
             "Europe",
             2020,
             5.597723007202148,
             "🤖",
             "BGR"
            ],
            [
             "Burkina Faso",
             "Africa",
             2020,
             4.639639854431152,
             "🤖",
             "BFA"
            ],
            [
             "Cameroon",
             "Africa",
             2020,
             5.241077899932861,
             "🤖",
             "CMR"
            ],
            [
             "China",
             "Asia",
             2020,
             5.771064758300781,
             "🤖",
             "CHN"
            ],
            [
             "Colombia",
             "South America",
             2020,
             5.709175109863281,
             "🤖",
             "COL"
            ],
            [
             "Dominican Republic",
             "South America",
             2020,
             5.168409824371338,
             "🤖",
             "DOM"
            ],
            [
             "Ecuador",
             "South America",
             2020,
             5.354461669921875,
             "🤖",
             "ECU"
            ],
            [
             "El Salvador",
             "South America",
             2020,
             5.461926937103272,
             "🤖",
             "SLV"
            ],
            [
             "Ethiopia",
             "Africa",
             2020,
             4.549219608306885,
             "🤖",
             "ETH"
            ],
            [
             "Gabon",
             "Africa",
             2020,
             4.886549949645996,
             "🤖",
             "GAB"
            ],
            [
             "Georgia",
             "Asia",
             2020,
             5.123143196105957,
             "🤖",
             "GEO"
            ],
            [
             "Ghana",
             "Africa",
             2020,
             5.319483280181885,
             "🤖",
             "GHA"
            ],
            [
             "Greece",
             "Europe",
             2020,
             5.787615776062012,
             "🤖",
             "GRC"
            ],
            [
             "Guinea",
             "South America",
             2020,
             4.972168445587158,
             "🤖",
             "GIN"
            ],
            [
             "Indonesia",
             "Asia",
             2020,
             4.828147411346436,
             "🤖",
             "IDN"
            ],
            [
             "Iraq",
             "Asia",
             2020,
             4.785165309906006,
             "🤖",
             "IRQ"
            ],
            [
             "Jamaica",
             "South America",
             2020,
             5.424990653991699,
             "🤖",
             "JAM"
            ],
            [
             "Kenya",
             "Africa",
             2020,
             4.546584129333496,
             "🤖",
             "KEN"
            ],
            [
             "Mexico",
             "North America",
             2020,
             5.964221000671387,
             "🤖",
             "MEX"
            ],
            [
             "Moldova",
             "Europe",
             2020,
             5.811628818511963,
             "🤖",
             "MDA"
            ],
            [
             "Montenegro",
             "Europe",
             2020,
             5.72216272354126,
             "🤖",
             "MNE"
            ],
            [
             "Morocco",
             "Africa",
             2020,
             4.80261754989624,
             "🤖",
             "MAR"
            ],
            [
             "Nepal",
             "Asia",
             2020,
             5.982410430908203,
             "🤖",
             "NPL"
            ],
            [
             "Nigeria",
             "Africa",
             2020,
             5.50294828414917,
             "🤖",
             "NGA"
            ],
            [
             "North Macedonia",
             null,
             2020,
             5.053664207458496,
             "🤖",
             "MKD"
            ],
            [
             "Pakistan",
             "Asia",
             2020,
             4.623969078063965,
             "🤖",
             "PAK"
            ],
            [
             "Paraguay",
             "South America",
             2020,
             5.501248836517334,
             "🤖",
             "PRY"
            ],
            [
             "Peru",
             "South America",
             2020,
             4.994379043579102,
             "🤖",
             "PER"
            ],
            [
             "Philippines",
             "Asia",
             2020,
             5.079585075378418,
             "🤖",
             "PHL"
            ],
            [
             "Portugal",
             "Europe",
             2020,
             5.767792224884033,
             "🤖",
             "PRT"
            ],
            [
             "Senegal",
             "Africa",
             2020,
             4.756773471832275,
             "🤖",
             "SEN"
            ],
            [
             "South Africa",
             "Africa",
             2020,
             4.946800708770752,
             "🤖",
             "ZAF"
            ],
            [
             "Sri Lanka",
             "Asia",
             2020,
             4.778489112854004,
             "🤖",
             "LKA"
            ],
            [
             "Tajikistan",
             "Asia",
             2020,
             5.373398780822754,
             "🤖",
             "TJK"
            ],
            [
             "Thailand",
             "Asia",
             2020,
             5.884544372558594,
             "🤖",
             "THA"
            ],
            [
             "Tunisia",
             "Africa",
             2020,
             4.73081111907959,
             "🤖",
             "TUN"
            ],
            [
             "Uganda",
             "Africa",
             2020,
             4.640909671783447,
             "🤖",
             "UGA"
            ],
            [
             "Ukraine",
             "Europe",
             2020,
             5.269675731658936,
             "🤖",
             "UKR"
            ],
            [
             "Uzbekistan",
             "Asia",
             2020,
             5.841929912567139,
             "🤖",
             "UZB"
            ],
            [
             "Vietnam",
             "Asia",
             2020,
             5.462341785430908,
             "🤖",
             "VNM"
            ],
            [
             "Zambia",
             "Africa",
             2020,
             4.837992191314697,
             "🤖",
             "ZMB"
            ]
           ],
           "geo": "geo",
           "hovertemplate": "<b>%{hovertext}</b><br><br>emoji=%{customdata[4]}<br>year=%{customdata[2]}<br>Happiness Score=%{customdata[3]}<br>continent=%{customdata[1]}<extra></extra>",
           "hovertext": [
            "Albania",
            "Algeria",
            "Argentina",
            "Bangladesh",
            "Bolivia",
            "Bosnia and Herzegovina",
            "Bulgaria",
            "Burkina Faso",
            "Cameroon",
            "China",
            "Colombia",
            "Dominican Republic",
            "Ecuador",
            "El Salvador",
            "Ethiopia",
            "Gabon",
            "Georgia",
            "Ghana",
            "Greece",
            "Guinea",
            "Indonesia",
            "Iraq",
            "Jamaica",
            "Kenya",
            "Mexico",
            "Moldova",
            "Montenegro",
            "Morocco",
            "Nepal",
            "Nigeria",
            "North Macedonia",
            "Pakistan",
            "Paraguay",
            "Peru",
            "Philippines",
            "Portugal",
            "Senegal",
            "South Africa",
            "Sri Lanka",
            "Tajikistan",
            "Thailand",
            "Tunisia",
            "Uganda",
            "Ukraine",
            "Uzbekistan",
            "Vietnam",
            "Zambia"
           ],
           "legendgroup": "🤖",
           "locations": [
            "ALB",
            "DZA",
            "ARG",
            "BGD",
            "BOL",
            "BIH",
            "BGR",
            "BFA",
            "CMR",
            "CHN",
            "COL",
            "DOM",
            "ECU",
            "SLV",
            "ETH",
            "GAB",
            "GEO",
            "GHA",
            "GRC",
            "GIN",
            "IDN",
            "IRQ",
            "JAM",
            "KEN",
            "MEX",
            "MDA",
            "MNE",
            "MAR",
            "NPL",
            "NGA",
            "MKD",
            "PAK",
            "PRY",
            "PER",
            "PHL",
            "PRT",
            "SEN",
            "ZAF",
            "LKA",
            "TJK",
            "THA",
            "TUN",
            "UGA",
            "UKR",
            "UZB",
            "VNM",
            "ZMB"
           ],
           "marker": {
            "color": "#EF553B",
            "size": [
             5.364909648895264,
             5.437755107879639,
             5.900567054748535,
             5.27998685836792,
             5.559258937835693,
             5.51581621170044,
             5.597723007202148,
             4.639639854431152,
             5.241077899932861,
             5.771064758300781,
             5.709175109863281,
             5.168409824371338,
             5.354461669921875,
             5.461926937103272,
             4.549219608306885,
             4.886549949645996,
             5.123143196105957,
             5.319483280181885,
             5.787615776062012,
             4.972168445587158,
             4.828147411346436,
             4.785165309906006,
             5.424990653991699,
             4.546584129333496,
             5.964221000671387,
             5.811628818511963,
             5.72216272354126,
             4.80261754989624,
             5.982410430908203,
             5.50294828414917,
             5.053664207458496,
             4.623969078063965,
             5.501248836517334,
             4.994379043579102,
             5.079585075378418,
             5.767792224884033,
             4.756773471832275,
             4.946800708770752,
             4.778489112854004,
             5.373398780822754,
             5.884544372558594,
             4.73081111907959,
             4.640909671783447,
             5.269675731658936,
             5.841929912567139,
             5.462341785430908,
             4.837992191314697
            ],
            "sizemode": "area",
            "sizeref": 7.970891952514648,
            "symbol": "circle"
           },
           "mode": "markers+text",
           "name": "🤖",
           "showlegend": true,
           "text": [
            "🤖",
            "🤖",
            "🤖",
            "🤖",
            "🤖",
            "🤖",
            "🤖",
            "🤖",
            "🤖",
            "🤖",
            "🤖",
            "🤖",
            "🤖",
            "🤖",
            "🤖",
            "🤖",
            "🤖",
            "🤖",
            "🤖",
            "🤖",
            "🤖",
            "🤖",
            "🤖",
            "🤖",
            "🤖",
            "🤖",
            "🤖",
            "🤖",
            "🤖",
            "🤖",
            "🤖",
            "🤖",
            "🤖",
            "🤖",
            "🤖",
            "🤖",
            "🤖",
            "🤖",
            "🤖",
            "🤖",
            "🤖",
            "🤖",
            "🤖",
            "🤖",
            "🤖",
            "🤖",
            "🤖"
           ],
           "type": "scattergeo"
          },
          {
           "customdata": [
            [
             "Benin",
             "Africa",
             2020,
             4.407745838165283,
             "🤢",
             "BEN"
            ],
            [
             "Cambodia",
             "Asia",
             2020,
             4.3769850730896,
             "🤢",
             "KHM"
            ],
            [
             "India",
             "Asia",
             2020,
             4.223865509033203,
             "🤢",
             "IND"
            ],
            [
             "Jordan",
             "Asia",
             2020,
             4.093991756439209,
             "🤢",
             "JOR"
            ],
            [
             "Lebanon",
             "Asia",
             2020,
             2.633752584457397,
             "🤢",
             "LBN"
            ],
            [
             "Mali",
             "Africa",
             2020,
             4.269473552703857,
             "🤢",
             "MLI"
            ],
            [
             "Myanmar",
             "Asia",
             2020,
             4.431364059448242,
             "🤢",
             "MMR"
            ],
            [
             "Namibia",
             null,
             2020,
             4.451010227203369,
             "🤢",
             "NAM"
            ],
            [
             "Tanzania",
             "Africa",
             2020,
             3.785684108734131,
             "🤢",
             "TZA"
            ],
            [
             "Zimbabwe",
             "Africa",
             2020,
             3.159802198410034,
             "🤢",
             "ZWE"
            ]
           ],
           "geo": "geo",
           "hovertemplate": "<b>%{hovertext}</b><br><br>emoji=%{customdata[4]}<br>year=%{customdata[2]}<br>Happiness Score=%{customdata[3]}<br>continent=%{customdata[1]}<extra></extra>",
           "hovertext": [
            "Benin",
            "Cambodia",
            "India",
            "Jordan",
            "Lebanon",
            "Mali",
            "Myanmar",
            "Namibia",
            "Tanzania",
            "Zimbabwe"
           ],
           "legendgroup": "🤢",
           "locations": [
            "BEN",
            "KHM",
            "IND",
            "JOR",
            "LBN",
            "MLI",
            "MMR",
            "NAM",
            "TZA",
            "ZWE"
           ],
           "marker": {
            "color": "#00cc96",
            "size": [
             4.407745838165283,
             4.3769850730896,
             4.223865509033203,
             4.093991756439209,
             2.633752584457397,
             4.269473552703857,
             4.431364059448242,
             4.451010227203369,
             3.785684108734131,
             3.159802198410034
            ],
            "sizemode": "area",
            "sizeref": 7.970891952514648,
            "symbol": "circle"
           },
           "mode": "markers+text",
           "name": "🤢",
           "showlegend": true,
           "text": [
            "🤢",
            "🤢",
            "🤢",
            "🤢",
            "🤢",
            "🤢",
            "🤢",
            "🤢",
            "🤢",
            "🤢"
           ],
           "type": "scattergeo"
          }
         ],
         "name": "2020"
        },
        {
         "data": [
          {
           "customdata": [
            [
             "Australia",
             "Oceania",
             2021,
             7.111598968505859,
             "🥰",
             "AUS"
            ],
            [
             "Austria",
             "Europe",
             2021,
             7.079640865325928,
             "🥰",
             "AUT"
            ],
            [
             "Brazil",
             "South America",
             2021,
             6.009953498840332,
             "🥰",
             "BRA"
            ],
            [
             "Canada",
             "North America",
             2021,
             6.9394354820251465,
             "🥰",
             "CAN"
            ],
            [
             "Chile",
             "South America",
             2021,
             6.435630798339844,
             "🥰",
             "CHL"
            ],
            [
             "Costa Rica",
             "South America",
             2021,
             6.408448219299316,
             "🥰",
             "CRI"
            ],
            [
             "Croatia",
             "Europe",
             2021,
             6.286790370941162,
             "🥰",
             "HRV"
            ],
            [
             "Czechia",
             null,
             2021,
             6.9424967765808105,
             "🥰",
             "CZE"
            ],
            [
             "Denmark",
             "Europe",
             2021,
             7.698747158050537,
             "🥰",
             "DNK"
            ],
            [
             "Dominican Republic",
             "South America",
             2021,
             6.030537128448486,
             "🥰",
             "DOM"
            ],
            [
             "El Salvador",
             "South America",
             2021,
             6.4314470291137695,
             "🥰",
             "SLV"
            ],
            [
             "Estonia",
             "Europe",
             2021,
             6.553915500640869,
             "🥰",
             "EST"
            ],
            [
             "Finland",
             "Europe",
             2021,
             7.79437780380249,
             "🥰",
             "FIN"
            ],
            [
             "France",
             "Europe",
             2021,
             6.656206607818604,
             "🥰",
             "FRA"
            ],
            [
             "Germany",
             "Europe",
             2021,
             6.754523754119873,
             "🥰",
             "DEU"
            ],
            [
             "Greece",
             "Europe",
             2021,
             6.104214191436768,
             "🥰",
             "GRC"
            ],
            [
             "Honduras",
             "South America",
             2021,
             6.113636016845703,
             "🥰",
             "HND"
            ],
            [
             "Hungary",
             "Europe",
             2021,
             6.226647853851318,
             "🥰",
             "HUN"
            ],
            [
             "Iceland",
             "Europe",
             2021,
             7.564624786376953,
             "🥰",
             "ISL"
            ],
            [
             "Ireland",
             "Europe",
             2021,
             6.827651977539063,
             "🥰",
             "IRL"
            ],
            [
             "Israel",
             "Asia",
             2021,
             7.57752799987793,
             "🥰",
             "ISR"
            ],
            [
             "Italy",
             "Europe",
             2021,
             6.466744899749756,
             "🥰",
             "ITA"
            ],
            [
             "Japan",
             "Asia",
             2021,
             6.091324806213379,
             "🥰",
             "JPN"
            ],
            [
             "Kazakhstan",
             "Asia",
             2021,
             6.259634017944336,
             "🥰",
             "KAZ"
            ],
            [
             "Latvia",
             "Europe",
             2021,
             6.353090763092041,
             "🥰",
             "LVA"
            ],
            [
             "Lithuania",
             "Europe",
             2021,
             6.864572525024414,
             "🥰",
             "LTU"
            ],
            [
             "Netherlands",
             "Europe",
             2021,
             7.314151287078857,
             "🥰",
             "NLD"
            ],
            [
             "New Zealand",
             "Oceania",
             2021,
             7.136700630187988,
             "🥰",
             "NZL"
            ],
            [
             "Nicaragua",
             "South America",
             2021,
             6.095348834991455,
             "🥰",
             "NIC"
            ],
            [
             "Norway",
             "Europe",
             2021,
             7.361573696136475,
             "🥰",
             "NOR"
            ],
            [
             "Panama",
             "South America",
             2021,
             6.552778720855713,
             "🥰",
             "PAN"
            ],
            [
             "Portugal",
             "Europe",
             2021,
             6.183014392852783,
             "🥰",
             "PRT"
            ],
            [
             "Romania",
             "Europe",
             2021,
             6.548725605010986,
             "🥰",
             "ROU"
            ],
            [
             "Saudi Arabia",
             "Asia",
             2021,
             6.445294380187988,
             "🥰",
             "SAU"
            ],
            [
             "Serbia",
             "Europe",
             2021,
             6.245267391204834,
             "🥰",
             "SRB"
            ],
            [
             "Slovenia",
             "Europe",
             2021,
             6.761220932006836,
             "🥰",
             "SVN"
            ],
            [
             "Spain",
             "Europe",
             2021,
             6.469611167907715,
             "🥰",
             "ESP"
            ],
            [
             "Sweden",
             "Europe",
             2021,
             7.439280033111572,
             "🥰",
             "SWE"
            ],
            [
             "Switzerland",
             "Europe",
             2021,
             7.327672481536865,
             "🥰",
             "CHE"
            ],
            [
             "United Arab Emirates",
             "Asia",
             2021,
             6.733067512512207,
             "🥰",
             "ARE"
            ],
            [
             "United Kingdom",
             "Europe",
             2021,
             6.86696195602417,
             "🥰",
             "GBR"
            ],
            [
             "United States",
             "North America",
             2021,
             6.95908784866333,
             "🥰",
             "USA"
            ],
            [
             "Uruguay",
             "South America",
             2021,
             6.501700401306152,
             "🥰",
             "URY"
            ],
            [
             "Uzbekistan",
             "Asia",
             2021,
             6.18530797958374,
             "🥰",
             "UZB"
            ]
           ],
           "geo": "geo",
           "hovertemplate": "<b>%{hovertext}</b><br><br>emoji=%{customdata[4]}<br>year=%{customdata[2]}<br>Happiness Score=%{customdata[3]}<br>continent=%{customdata[1]}<extra></extra>",
           "hovertext": [
            "Australia",
            "Austria",
            "Brazil",
            "Canada",
            "Chile",
            "Costa Rica",
            "Croatia",
            "Czechia",
            "Denmark",
            "Dominican Republic",
            "El Salvador",
            "Estonia",
            "Finland",
            "France",
            "Germany",
            "Greece",
            "Honduras",
            "Hungary",
            "Iceland",
            "Ireland",
            "Israel",
            "Italy",
            "Japan",
            "Kazakhstan",
            "Latvia",
            "Lithuania",
            "Netherlands",
            "New Zealand",
            "Nicaragua",
            "Norway",
            "Panama",
            "Portugal",
            "Romania",
            "Saudi Arabia",
            "Serbia",
            "Slovenia",
            "Spain",
            "Sweden",
            "Switzerland",
            "United Arab Emirates",
            "United Kingdom",
            "United States",
            "Uruguay",
            "Uzbekistan"
           ],
           "legendgroup": "🥰",
           "locations": [
            "AUS",
            "AUT",
            "BRA",
            "CAN",
            "CHL",
            "CRI",
            "HRV",
            "CZE",
            "DNK",
            "DOM",
            "SLV",
            "EST",
            "FIN",
            "FRA",
            "DEU",
            "GRC",
            "HND",
            "HUN",
            "ISL",
            "IRL",
            "ISR",
            "ITA",
            "JPN",
            "KAZ",
            "LVA",
            "LTU",
            "NLD",
            "NZL",
            "NIC",
            "NOR",
            "PAN",
            "PRT",
            "ROU",
            "SAU",
            "SRB",
            "SVN",
            "ESP",
            "SWE",
            "CHE",
            "ARE",
            "GBR",
            "USA",
            "URY",
            "UZB"
           ],
           "marker": {
            "color": "#636efa",
            "size": [
             7.111598968505859,
             7.079640865325928,
             6.009953498840332,
             6.9394354820251465,
             6.435630798339844,
             6.408448219299316,
             6.286790370941162,
             6.9424967765808105,
             7.698747158050537,
             6.030537128448486,
             6.4314470291137695,
             6.553915500640869,
             7.79437780380249,
             6.656206607818604,
             6.754523754119873,
             6.104214191436768,
             6.113636016845703,
             6.226647853851318,
             7.564624786376953,
             6.827651977539063,
             7.57752799987793,
             6.466744899749756,
             6.091324806213379,
             6.259634017944336,
             6.353090763092041,
             6.864572525024414,
             7.314151287078857,
             7.136700630187988,
             6.095348834991455,
             7.361573696136475,
             6.552778720855713,
             6.183014392852783,
             6.548725605010986,
             6.445294380187988,
             6.245267391204834,
             6.761220932006836,
             6.469611167907715,
             7.439280033111572,
             7.327672481536865,
             6.733067512512207,
             6.86696195602417,
             6.95908784866333,
             6.501700401306152,
             6.18530797958374
            ],
            "sizemode": "area",
            "sizeref": 7.970891952514648,
            "symbol": "circle"
           },
           "mode": "markers+text",
           "name": "🥰",
           "showlegend": true,
           "text": [
            "🥰",
            "🥰",
            "🥰",
            "🥰",
            "🥰",
            "🥰",
            "🥰",
            "🥰",
            "🥰",
            "🥰",
            "🥰",
            "🥰",
            "🥰",
            "🥰",
            "🥰",
            "🥰",
            "🥰",
            "🥰",
            "🥰",
            "🥰",
            "🥰",
            "🥰",
            "🥰",
            "🥰",
            "🥰",
            "🥰",
            "🥰",
            "🥰",
            "🥰",
            "🥰",
            "🥰",
            "🥰",
            "🥰",
            "🥰",
            "🥰",
            "🥰",
            "🥰",
            "🥰",
            "🥰",
            "🥰",
            "🥰",
            "🥰",
            "🥰",
            "🥰"
           ],
           "type": "scattergeo"
          },
          {
           "customdata": [
            [
             "Albania",
             "Europe",
             2021,
             5.255481719970703,
             "🤖",
             "ALB"
            ],
            [
             "Algeria",
             "Africa",
             2021,
             5.217017650604248,
             "🤖",
             "DZA"
            ],
            [
             "Argentina",
             "South America",
             2021,
             5.908278942108154,
             "🤖",
             "ARG"
            ],
            [
             "Armenia",
             "Asia",
             2021,
             5.300568580627441,
             "🤖",
             "ARM"
            ],
            [
             "Bolivia",
             "South America",
             2021,
             5.568624019622803,
             "🤖",
             "BOL"
            ],
            [
             "Bosnia and Herzegovina",
             "Europe",
             2021,
             5.748823165893555,
             "🤖",
             "BIH"
            ],
            [
             "Bulgaria",
             "Europe",
             2021,
             5.421693325042725,
             "🤖",
             "BGR"
            ],
            [
             "Burkina Faso",
             "Africa",
             2021,
             4.6355085372924805,
             "🤖",
             "BFA"
            ],
            [
             "Cambodia",
             "Asia",
             2021,
             4.555141448974609,
             "🤖",
             "KHM"
            ],
            [
             "Cameroon",
             "Africa",
             2021,
             4.962747573852539,
             "🤖",
             "CMR"
            ],
            [
             "China",
             "Asia",
             2021,
             5.8628644943237305,
             "🤖",
             "CHN"
            ],
            [
             "Colombia",
             "South America",
             2021,
             5.289958477020264,
             "🤖",
             "COL"
            ],
            [
             "Ecuador",
             "South America",
             2021,
             5.434872150421143,
             "🤖",
             "ECU"
            ],
            [
             "Gabon",
             "Africa",
             2021,
             5.075422286987305,
             "🤖",
             "GAB"
            ],
            [
             "Georgia",
             "Asia",
             2021,
             4.91127347946167,
             "🤖",
             "GEO"
            ],
            [
             "Guinea",
             "South America",
             2021,
             4.944539546966553,
             "🤖",
             "GIN"
            ],
            [
             "Indonesia",
             "Asia",
             2021,
             5.433173179626465,
             "🤖",
             "IDN"
            ],
            [
             "Iraq",
             "Asia",
             2021,
             5.093667984008789,
             "🤖",
             "IRQ"
            ],
            [
             "Jamaica",
             "South America",
             2021,
             5.813733577728272,
             "🤖",
             "JAM"
            ],
            [
             "Mauritius",
             "Africa",
             2021,
             5.949120044708252,
             "🤖",
             "MUS"
            ],
            [
             "Mexico",
             "North America",
             2021,
             5.990750789642334,
             "🤖",
             "MEX"
            ],
            [
             "Moldova",
             "Europe",
             2021,
             5.959048748016357,
             "🤖",
             "MDA"
            ],
            [
             "Mongolia",
             "Asia",
             2021,
             5.721034049987793,
             "🤖",
             "MNG"
            ],
            [
             "Morocco",
             "Africa",
             2021,
             5.326248645782471,
             "🤖",
             "MAR"
            ],
            [
             "Mozambique",
             null,
             2021,
             5.1784868240356445,
             "🤖",
             "MOZ"
            ],
            [
             "Nepal",
             "Asia",
             2021,
             4.622300148010254,
             "🤖",
             "NPL"
            ],
            [
             "North Macedonia",
             null,
             2021,
             5.534749984741211,
             "🤖",
             "MKD"
            ],
            [
             "Paraguay",
             "South America",
             2021,
             5.575535297393799,
             "🤖",
             "PRY"
            ],
            [
             "Peru",
             "South America",
             2021,
             5.694317817687988,
             "🤖",
             "PER"
            ],
            [
             "Philippines",
             "Asia",
             2021,
             5.965057849884033,
             "🤖",
             "PHL"
            ],
            [
             "Poland",
             "Europe",
             2021,
             5.978068828582764,
             "🤖",
             "POL"
            ],
            [
             "Senegal",
             "Africa",
             2021,
             4.902830600738525,
             "🤖",
             "SEN"
            ],
            [
             "South Africa",
             "Africa",
             2021,
             5.598653793334961,
             "🤖",
             "ZAF"
            ],
            [
             "Tajikistan",
             "Asia",
             2021,
             5.2868242263793945,
             "🤖",
             "TJK"
            ],
            [
             "Thailand",
             "Asia",
             2021,
             5.638096809387207,
             "🤖",
             "THA"
            ],
            [
             "Ukraine",
             "Europe",
             2021,
             5.311355113983154,
             "🤖",
             "UKR"
            ],
            [
             "Vietnam",
             "Asia",
             2021,
             5.540249824523926,
             "🤖",
             "VNM"
            ]
           ],
           "geo": "geo",
           "hovertemplate": "<b>%{hovertext}</b><br><br>emoji=%{customdata[4]}<br>year=%{customdata[2]}<br>Happiness Score=%{customdata[3]}<br>continent=%{customdata[1]}<extra></extra>",
           "hovertext": [
            "Albania",
            "Algeria",
            "Argentina",
            "Armenia",
            "Bolivia",
            "Bosnia and Herzegovina",
            "Bulgaria",
            "Burkina Faso",
            "Cambodia",
            "Cameroon",
            "China",
            "Colombia",
            "Ecuador",
            "Gabon",
            "Georgia",
            "Guinea",
            "Indonesia",
            "Iraq",
            "Jamaica",
            "Mauritius",
            "Mexico",
            "Moldova",
            "Mongolia",
            "Morocco",
            "Mozambique",
            "Nepal",
            "North Macedonia",
            "Paraguay",
            "Peru",
            "Philippines",
            "Poland",
            "Senegal",
            "South Africa",
            "Tajikistan",
            "Thailand",
            "Ukraine",
            "Vietnam"
           ],
           "legendgroup": "🤖",
           "locations": [
            "ALB",
            "DZA",
            "ARG",
            "ARM",
            "BOL",
            "BIH",
            "BGR",
            "BFA",
            "KHM",
            "CMR",
            "CHN",
            "COL",
            "ECU",
            "GAB",
            "GEO",
            "GIN",
            "IDN",
            "IRQ",
            "JAM",
            "MUS",
            "MEX",
            "MDA",
            "MNG",
            "MAR",
            "MOZ",
            "NPL",
            "MKD",
            "PRY",
            "PER",
            "PHL",
            "POL",
            "SEN",
            "ZAF",
            "TJK",
            "THA",
            "UKR",
            "VNM"
           ],
           "marker": {
            "color": "#EF553B",
            "size": [
             5.255481719970703,
             5.217017650604248,
             5.908278942108154,
             5.300568580627441,
             5.568624019622803,
             5.748823165893555,
             5.421693325042725,
             4.6355085372924805,
             4.555141448974609,
             4.962747573852539,
             5.8628644943237305,
             5.289958477020264,
             5.434872150421143,
             5.075422286987305,
             4.91127347946167,
             4.944539546966553,
             5.433173179626465,
             5.093667984008789,
             5.813733577728272,
             5.949120044708252,
             5.990750789642334,
             5.959048748016357,
             5.721034049987793,
             5.326248645782471,
             5.1784868240356445,
             4.622300148010254,
             5.534749984741211,
             5.575535297393799,
             5.694317817687988,
             5.965057849884033,
             5.978068828582764,
             4.902830600738525,
             5.598653793334961,
             5.2868242263793945,
             5.638096809387207,
             5.311355113983154,
             5.540249824523926
            ],
            "sizemode": "area",
            "sizeref": 7.970891952514648,
            "symbol": "circle"
           },
           "mode": "markers+text",
           "name": "🤖",
           "showlegend": true,
           "text": [
            "🤖",
            "🤖",
            "🤖",
            "🤖",
            "🤖",
            "🤖",
            "🤖",
            "🤖",
            "🤖",
            "🤖",
            "🤖",
            "🤖",
            "🤖",
            "🤖",
            "🤖",
            "🤖",
            "🤖",
            "🤖",
            "🤖",
            "🤖",
            "🤖",
            "🤖",
            "🤖",
            "🤖",
            "🤖",
            "🤖",
            "🤖",
            "🤖",
            "🤖",
            "🤖",
            "🤖",
            "🤖",
            "🤖",
            "🤖",
            "🤖",
            "🤖",
            "🤖"
           ],
           "type": "scattergeo"
          },
          {
           "customdata": [
            [
             "Benin",
             "Africa",
             2021,
             4.493431091308594,
             "🤢",
             "BEN"
            ],
            [
             "Ghana",
             "Africa",
             2021,
             4.377950668334961,
             "🤢",
             "GHA"
            ],
            [
             "India",
             "Asia",
             2021,
             3.558253765106201,
             "🤢",
             "IND"
            ],
            [
             "Jordan",
             "Asia",
             2021,
             3.909149169921875,
             "🤢",
             "JOR"
            ],
            [
             "Kenya",
             "Africa",
             2021,
             4.464540958404541,
             "🤢",
             "KEN"
            ],
            [
             "Lebanon",
             "Asia",
             2021,
             2.178809404373169,
             "🤢",
             "LBN"
            ],
            [
             "Malawi",
             "Africa",
             2021,
             3.6352832317352295,
             "🤢",
             "MWI"
            ],
            [
             "Mali",
             "Africa",
             2021,
             4.113095760345459,
             "🤢",
             "MLI"
            ],
            [
             "Myanmar",
             "Asia",
             2021,
             4.314039707183838,
             "🤢",
             "MMR"
            ],
            [
             "Namibia",
             null,
             2021,
             4.491207122802734,
             "🤢",
             "NAM"
            ],
            [
             "Nigeria",
             "Africa",
             2021,
             4.4792656898498535,
             "🤢",
             "NGA"
            ],
            [
             "Pakistan",
             "Asia",
             2021,
             4.486834526062012,
             "🤢",
             "PAK"
            ],
            [
             "Sierra Leone",
             "Africa",
             2021,
             3.71429443359375,
             "🤢",
             "SLE"
            ],
            [
             "Sri Lanka",
             "Asia",
             2021,
             4.103446960449219,
             "🤢",
             "LKA"
            ],
            [
             "Tanzania",
             "Africa",
             2021,
             3.680567979812622,
             "🤢",
             "TZA"
            ],
            [
             "Togo",
             "Africa",
             2021,
             4.036543846130371,
             "🤢",
             "TGO"
            ],
            [
             "Tunisia",
             "Africa",
             2021,
             4.499485969543457,
             "🤢",
             "TUN"
            ],
            [
             "Uganda",
             "Africa",
             2021,
             4.224533557891846,
             "🤢",
             "UGA"
            ],
            [
             "Zambia",
             "Africa",
             2021,
             3.0821549892425537,
             "🤢",
             "ZMB"
            ],
            [
             "Zimbabwe",
             "Africa",
             2021,
             3.15457820892334,
             "🤢",
             "ZWE"
            ]
           ],
           "geo": "geo",
           "hovertemplate": "<b>%{hovertext}</b><br><br>emoji=%{customdata[4]}<br>year=%{customdata[2]}<br>Happiness Score=%{customdata[3]}<br>continent=%{customdata[1]}<extra></extra>",
           "hovertext": [
            "Benin",
            "Ghana",
            "India",
            "Jordan",
            "Kenya",
            "Lebanon",
            "Malawi",
            "Mali",
            "Myanmar",
            "Namibia",
            "Nigeria",
            "Pakistan",
            "Sierra Leone",
            "Sri Lanka",
            "Tanzania",
            "Togo",
            "Tunisia",
            "Uganda",
            "Zambia",
            "Zimbabwe"
           ],
           "legendgroup": "🤢",
           "locations": [
            "BEN",
            "GHA",
            "IND",
            "JOR",
            "KEN",
            "LBN",
            "MWI",
            "MLI",
            "MMR",
            "NAM",
            "NGA",
            "PAK",
            "SLE",
            "LKA",
            "TZA",
            "TGO",
            "TUN",
            "UGA",
            "ZMB",
            "ZWE"
           ],
           "marker": {
            "color": "#00cc96",
            "size": [
             4.493431091308594,
             4.377950668334961,
             3.558253765106201,
             3.909149169921875,
             4.464540958404541,
             2.178809404373169,
             3.6352832317352295,
             4.113095760345459,
             4.314039707183838,
             4.491207122802734,
             4.4792656898498535,
             4.486834526062012,
             3.71429443359375,
             4.103446960449219,
             3.680567979812622,
             4.036543846130371,
             4.499485969543457,
             4.224533557891846,
             3.0821549892425537,
             3.15457820892334
            ],
            "sizemode": "area",
            "sizeref": 7.970891952514648,
            "symbol": "circle"
           },
           "mode": "markers+text",
           "name": "🤢",
           "showlegend": true,
           "text": [
            "🤢",
            "🤢",
            "🤢",
            "🤢",
            "🤢",
            "🤢",
            "🤢",
            "🤢",
            "🤢",
            "🤢",
            "🤢",
            "🤢",
            "🤢",
            "🤢",
            "🤢",
            "🤢",
            "🤢",
            "🤢",
            "🤢",
            "🤢"
           ],
           "type": "scattergeo"
          }
         ],
         "name": "2021"
        }
       ],
       "layout": {
        "annotations": [
         {
          "font": {
           "color": "black",
           "family": "sans serif",
           "size": 14
          },
          "showarrow": false,
          "text": "🥰: Happy(score>=6)   🤖: Neural(6>score>=4.5)   🤢: Not Happy(score<4.5)",
          "x": 1,
          "xanchor": "right",
          "xref": "paper",
          "y": -0.1,
          "yanchor": "bottom",
          "yref": "paper"
         }
        ],
        "font": {
         "size": 14
        },
        "geo": {
         "center": {},
         "coastlinecolor": "rgb(141,160,203)",
         "countrycolor": "rgb(179,179,179)",
         "domain": {
          "x": [
           0,
           1
          ],
          "y": [
           0,
           1
          ]
         },
         "landcolor": "rgb(229, 196, 148)",
         "oceancolor": "rgb(179,205,227)",
         "projection": {
          "type": "natural earth"
         },
         "showcoastlines": true,
         "showcountries": true,
         "showframe": true,
         "showland": true,
         "showocean": true
        },
        "height": 600,
        "legend": {
         "itemsizing": "constant",
         "title": {
          "text": "emoji"
         },
         "tracegroupgap": 0
        },
        "showlegend": false,
        "sliders": [
         {
          "active": 0,
          "currentvalue": {
           "prefix": "year="
          },
          "len": 0.9,
          "pad": {
           "b": 10,
           "t": 60
          },
          "steps": [
           {
            "args": [
             [
              "2008"
             ],
             {
              "frame": {
               "duration": 0,
               "redraw": true
              },
              "fromcurrent": true,
              "mode": "immediate",
              "transition": {
               "duration": 0,
               "easing": "linear"
              }
             }
            ],
            "label": "2008",
            "method": "animate"
           },
           {
            "args": [
             [
              "2009"
             ],
             {
              "frame": {
               "duration": 0,
               "redraw": true
              },
              "fromcurrent": true,
              "mode": "immediate",
              "transition": {
               "duration": 0,
               "easing": "linear"
              }
             }
            ],
            "label": "2009",
            "method": "animate"
           },
           {
            "args": [
             [
              "2010"
             ],
             {
              "frame": {
               "duration": 0,
               "redraw": true
              },
              "fromcurrent": true,
              "mode": "immediate",
              "transition": {
               "duration": 0,
               "easing": "linear"
              }
             }
            ],
            "label": "2010",
            "method": "animate"
           },
           {
            "args": [
             [
              "2011"
             ],
             {
              "frame": {
               "duration": 0,
               "redraw": true
              },
              "fromcurrent": true,
              "mode": "immediate",
              "transition": {
               "duration": 0,
               "easing": "linear"
              }
             }
            ],
            "label": "2011",
            "method": "animate"
           },
           {
            "args": [
             [
              "2012"
             ],
             {
              "frame": {
               "duration": 0,
               "redraw": true
              },
              "fromcurrent": true,
              "mode": "immediate",
              "transition": {
               "duration": 0,
               "easing": "linear"
              }
             }
            ],
            "label": "2012",
            "method": "animate"
           },
           {
            "args": [
             [
              "2013"
             ],
             {
              "frame": {
               "duration": 0,
               "redraw": true
              },
              "fromcurrent": true,
              "mode": "immediate",
              "transition": {
               "duration": 0,
               "easing": "linear"
              }
             }
            ],
            "label": "2013",
            "method": "animate"
           },
           {
            "args": [
             [
              "2014"
             ],
             {
              "frame": {
               "duration": 0,
               "redraw": true
              },
              "fromcurrent": true,
              "mode": "immediate",
              "transition": {
               "duration": 0,
               "easing": "linear"
              }
             }
            ],
            "label": "2014",
            "method": "animate"
           },
           {
            "args": [
             [
              "2015"
             ],
             {
              "frame": {
               "duration": 0,
               "redraw": true
              },
              "fromcurrent": true,
              "mode": "immediate",
              "transition": {
               "duration": 0,
               "easing": "linear"
              }
             }
            ],
            "label": "2015",
            "method": "animate"
           },
           {
            "args": [
             [
              "2016"
             ],
             {
              "frame": {
               "duration": 0,
               "redraw": true
              },
              "fromcurrent": true,
              "mode": "immediate",
              "transition": {
               "duration": 0,
               "easing": "linear"
              }
             }
            ],
            "label": "2016",
            "method": "animate"
           },
           {
            "args": [
             [
              "2017"
             ],
             {
              "frame": {
               "duration": 0,
               "redraw": true
              },
              "fromcurrent": true,
              "mode": "immediate",
              "transition": {
               "duration": 0,
               "easing": "linear"
              }
             }
            ],
            "label": "2017",
            "method": "animate"
           },
           {
            "args": [
             [
              "2018"
             ],
             {
              "frame": {
               "duration": 0,
               "redraw": true
              },
              "fromcurrent": true,
              "mode": "immediate",
              "transition": {
               "duration": 0,
               "easing": "linear"
              }
             }
            ],
            "label": "2018",
            "method": "animate"
           },
           {
            "args": [
             [
              "2019"
             ],
             {
              "frame": {
               "duration": 0,
               "redraw": true
              },
              "fromcurrent": true,
              "mode": "immediate",
              "transition": {
               "duration": 0,
               "easing": "linear"
              }
             }
            ],
            "label": "2019",
            "method": "animate"
           },
           {
            "args": [
             [
              "2020"
             ],
             {
              "frame": {
               "duration": 0,
               "redraw": true
              },
              "fromcurrent": true,
              "mode": "immediate",
              "transition": {
               "duration": 0,
               "easing": "linear"
              }
             }
            ],
            "label": "2020",
            "method": "animate"
           },
           {
            "args": [
             [
              "2021"
             ],
             {
              "frame": {
               "duration": 0,
               "redraw": true
              },
              "fromcurrent": true,
              "mode": "immediate",
              "transition": {
               "duration": 0,
               "easing": "linear"
              }
             }
            ],
            "label": "2021",
            "method": "animate"
           }
          ],
          "x": 0.1,
          "xanchor": "left",
          "y": 0,
          "yanchor": "top"
         }
        ],
        "template": {
         "data": {
          "bar": [
           {
            "error_x": {
             "color": "#2a3f5f"
            },
            "error_y": {
             "color": "#2a3f5f"
            },
            "marker": {
             "line": {
              "color": "#E5ECF6",
              "width": 0.5
             },
             "pattern": {
              "fillmode": "overlay",
              "size": 10,
              "solidity": 0.2
             }
            },
            "type": "bar"
           }
          ],
          "barpolar": [
           {
            "marker": {
             "line": {
              "color": "#E5ECF6",
              "width": 0.5
             },
             "pattern": {
              "fillmode": "overlay",
              "size": 10,
              "solidity": 0.2
             }
            },
            "type": "barpolar"
           }
          ],
          "carpet": [
           {
            "aaxis": {
             "endlinecolor": "#2a3f5f",
             "gridcolor": "white",
             "linecolor": "white",
             "minorgridcolor": "white",
             "startlinecolor": "#2a3f5f"
            },
            "baxis": {
             "endlinecolor": "#2a3f5f",
             "gridcolor": "white",
             "linecolor": "white",
             "minorgridcolor": "white",
             "startlinecolor": "#2a3f5f"
            },
            "type": "carpet"
           }
          ],
          "choropleth": [
           {
            "colorbar": {
             "outlinewidth": 0,
             "ticks": ""
            },
            "type": "choropleth"
           }
          ],
          "contour": [
           {
            "colorbar": {
             "outlinewidth": 0,
             "ticks": ""
            },
            "colorscale": [
             [
              0,
              "#0d0887"
             ],
             [
              0.1111111111111111,
              "#46039f"
             ],
             [
              0.2222222222222222,
              "#7201a8"
             ],
             [
              0.3333333333333333,
              "#9c179e"
             ],
             [
              0.4444444444444444,
              "#bd3786"
             ],
             [
              0.5555555555555556,
              "#d8576b"
             ],
             [
              0.6666666666666666,
              "#ed7953"
             ],
             [
              0.7777777777777778,
              "#fb9f3a"
             ],
             [
              0.8888888888888888,
              "#fdca26"
             ],
             [
              1,
              "#f0f921"
             ]
            ],
            "type": "contour"
           }
          ],
          "contourcarpet": [
           {
            "colorbar": {
             "outlinewidth": 0,
             "ticks": ""
            },
            "type": "contourcarpet"
           }
          ],
          "heatmap": [
           {
            "colorbar": {
             "outlinewidth": 0,
             "ticks": ""
            },
            "colorscale": [
             [
              0,
              "#0d0887"
             ],
             [
              0.1111111111111111,
              "#46039f"
             ],
             [
              0.2222222222222222,
              "#7201a8"
             ],
             [
              0.3333333333333333,
              "#9c179e"
             ],
             [
              0.4444444444444444,
              "#bd3786"
             ],
             [
              0.5555555555555556,
              "#d8576b"
             ],
             [
              0.6666666666666666,
              "#ed7953"
             ],
             [
              0.7777777777777778,
              "#fb9f3a"
             ],
             [
              0.8888888888888888,
              "#fdca26"
             ],
             [
              1,
              "#f0f921"
             ]
            ],
            "type": "heatmap"
           }
          ],
          "heatmapgl": [
           {
            "colorbar": {
             "outlinewidth": 0,
             "ticks": ""
            },
            "colorscale": [
             [
              0,
              "#0d0887"
             ],
             [
              0.1111111111111111,
              "#46039f"
             ],
             [
              0.2222222222222222,
              "#7201a8"
             ],
             [
              0.3333333333333333,
              "#9c179e"
             ],
             [
              0.4444444444444444,
              "#bd3786"
             ],
             [
              0.5555555555555556,
              "#d8576b"
             ],
             [
              0.6666666666666666,
              "#ed7953"
             ],
             [
              0.7777777777777778,
              "#fb9f3a"
             ],
             [
              0.8888888888888888,
              "#fdca26"
             ],
             [
              1,
              "#f0f921"
             ]
            ],
            "type": "heatmapgl"
           }
          ],
          "histogram": [
           {
            "marker": {
             "pattern": {
              "fillmode": "overlay",
              "size": 10,
              "solidity": 0.2
             }
            },
            "type": "histogram"
           }
          ],
          "histogram2d": [
           {
            "colorbar": {
             "outlinewidth": 0,
             "ticks": ""
            },
            "colorscale": [
             [
              0,
              "#0d0887"
             ],
             [
              0.1111111111111111,
              "#46039f"
             ],
             [
              0.2222222222222222,
              "#7201a8"
             ],
             [
              0.3333333333333333,
              "#9c179e"
             ],
             [
              0.4444444444444444,
              "#bd3786"
             ],
             [
              0.5555555555555556,
              "#d8576b"
             ],
             [
              0.6666666666666666,
              "#ed7953"
             ],
             [
              0.7777777777777778,
              "#fb9f3a"
             ],
             [
              0.8888888888888888,
              "#fdca26"
             ],
             [
              1,
              "#f0f921"
             ]
            ],
            "type": "histogram2d"
           }
          ],
          "histogram2dcontour": [
           {
            "colorbar": {
             "outlinewidth": 0,
             "ticks": ""
            },
            "colorscale": [
             [
              0,
              "#0d0887"
             ],
             [
              0.1111111111111111,
              "#46039f"
             ],
             [
              0.2222222222222222,
              "#7201a8"
             ],
             [
              0.3333333333333333,
              "#9c179e"
             ],
             [
              0.4444444444444444,
              "#bd3786"
             ],
             [
              0.5555555555555556,
              "#d8576b"
             ],
             [
              0.6666666666666666,
              "#ed7953"
             ],
             [
              0.7777777777777778,
              "#fb9f3a"
             ],
             [
              0.8888888888888888,
              "#fdca26"
             ],
             [
              1,
              "#f0f921"
             ]
            ],
            "type": "histogram2dcontour"
           }
          ],
          "mesh3d": [
           {
            "colorbar": {
             "outlinewidth": 0,
             "ticks": ""
            },
            "type": "mesh3d"
           }
          ],
          "parcoords": [
           {
            "line": {
             "colorbar": {
              "outlinewidth": 0,
              "ticks": ""
             }
            },
            "type": "parcoords"
           }
          ],
          "pie": [
           {
            "automargin": true,
            "type": "pie"
           }
          ],
          "scatter": [
           {
            "fillpattern": {
             "fillmode": "overlay",
             "size": 10,
             "solidity": 0.2
            },
            "type": "scatter"
           }
          ],
          "scatter3d": [
           {
            "line": {
             "colorbar": {
              "outlinewidth": 0,
              "ticks": ""
             }
            },
            "marker": {
             "colorbar": {
              "outlinewidth": 0,
              "ticks": ""
             }
            },
            "type": "scatter3d"
           }
          ],
          "scattercarpet": [
           {
            "marker": {
             "colorbar": {
              "outlinewidth": 0,
              "ticks": ""
             }
            },
            "type": "scattercarpet"
           }
          ],
          "scattergeo": [
           {
            "marker": {
             "colorbar": {
              "outlinewidth": 0,
              "ticks": ""
             }
            },
            "type": "scattergeo"
           }
          ],
          "scattergl": [
           {
            "marker": {
             "colorbar": {
              "outlinewidth": 0,
              "ticks": ""
             }
            },
            "type": "scattergl"
           }
          ],
          "scattermapbox": [
           {
            "marker": {
             "colorbar": {
              "outlinewidth": 0,
              "ticks": ""
             }
            },
            "type": "scattermapbox"
           }
          ],
          "scatterpolar": [
           {
            "marker": {
             "colorbar": {
              "outlinewidth": 0,
              "ticks": ""
             }
            },
            "type": "scatterpolar"
           }
          ],
          "scatterpolargl": [
           {
            "marker": {
             "colorbar": {
              "outlinewidth": 0,
              "ticks": ""
             }
            },
            "type": "scatterpolargl"
           }
          ],
          "scatterternary": [
           {
            "marker": {
             "colorbar": {
              "outlinewidth": 0,
              "ticks": ""
             }
            },
            "type": "scatterternary"
           }
          ],
          "surface": [
           {
            "colorbar": {
             "outlinewidth": 0,
             "ticks": ""
            },
            "colorscale": [
             [
              0,
              "#0d0887"
             ],
             [
              0.1111111111111111,
              "#46039f"
             ],
             [
              0.2222222222222222,
              "#7201a8"
             ],
             [
              0.3333333333333333,
              "#9c179e"
             ],
             [
              0.4444444444444444,
              "#bd3786"
             ],
             [
              0.5555555555555556,
              "#d8576b"
             ],
             [
              0.6666666666666666,
              "#ed7953"
             ],
             [
              0.7777777777777778,
              "#fb9f3a"
             ],
             [
              0.8888888888888888,
              "#fdca26"
             ],
             [
              1,
              "#f0f921"
             ]
            ],
            "type": "surface"
           }
          ],
          "table": [
           {
            "cells": {
             "fill": {
              "color": "#EBF0F8"
             },
             "line": {
              "color": "white"
             }
            },
            "header": {
             "fill": {
              "color": "#C8D4E3"
             },
             "line": {
              "color": "white"
             }
            },
            "type": "table"
           }
          ]
         },
         "layout": {
          "annotationdefaults": {
           "arrowcolor": "#2a3f5f",
           "arrowhead": 0,
           "arrowwidth": 1
          },
          "autotypenumbers": "strict",
          "coloraxis": {
           "colorbar": {
            "outlinewidth": 0,
            "ticks": ""
           }
          },
          "colorscale": {
           "diverging": [
            [
             0,
             "#8e0152"
            ],
            [
             0.1,
             "#c51b7d"
            ],
            [
             0.2,
             "#de77ae"
            ],
            [
             0.3,
             "#f1b6da"
            ],
            [
             0.4,
             "#fde0ef"
            ],
            [
             0.5,
             "#f7f7f7"
            ],
            [
             0.6,
             "#e6f5d0"
            ],
            [
             0.7,
             "#b8e186"
            ],
            [
             0.8,
             "#7fbc41"
            ],
            [
             0.9,
             "#4d9221"
            ],
            [
             1,
             "#276419"
            ]
           ],
           "sequential": [
            [
             0,
             "#0d0887"
            ],
            [
             0.1111111111111111,
             "#46039f"
            ],
            [
             0.2222222222222222,
             "#7201a8"
            ],
            [
             0.3333333333333333,
             "#9c179e"
            ],
            [
             0.4444444444444444,
             "#bd3786"
            ],
            [
             0.5555555555555556,
             "#d8576b"
            ],
            [
             0.6666666666666666,
             "#ed7953"
            ],
            [
             0.7777777777777778,
             "#fb9f3a"
            ],
            [
             0.8888888888888888,
             "#fdca26"
            ],
            [
             1,
             "#f0f921"
            ]
           ],
           "sequentialminus": [
            [
             0,
             "#0d0887"
            ],
            [
             0.1111111111111111,
             "#46039f"
            ],
            [
             0.2222222222222222,
             "#7201a8"
            ],
            [
             0.3333333333333333,
             "#9c179e"
            ],
            [
             0.4444444444444444,
             "#bd3786"
            ],
            [
             0.5555555555555556,
             "#d8576b"
            ],
            [
             0.6666666666666666,
             "#ed7953"
            ],
            [
             0.7777777777777778,
             "#fb9f3a"
            ],
            [
             0.8888888888888888,
             "#fdca26"
            ],
            [
             1,
             "#f0f921"
            ]
           ]
          },
          "colorway": [
           "#636efa",
           "#EF553B",
           "#00cc96",
           "#ab63fa",
           "#FFA15A",
           "#19d3f3",
           "#FF6692",
           "#B6E880",
           "#FF97FF",
           "#FECB52"
          ],
          "font": {
           "color": "#2a3f5f"
          },
          "geo": {
           "bgcolor": "white",
           "lakecolor": "white",
           "landcolor": "#E5ECF6",
           "showlakes": true,
           "showland": true,
           "subunitcolor": "white"
          },
          "hoverlabel": {
           "align": "left"
          },
          "hovermode": "closest",
          "mapbox": {
           "style": "light"
          },
          "paper_bgcolor": "white",
          "plot_bgcolor": "#E5ECF6",
          "polar": {
           "angularaxis": {
            "gridcolor": "white",
            "linecolor": "white",
            "ticks": ""
           },
           "bgcolor": "#E5ECF6",
           "radialaxis": {
            "gridcolor": "white",
            "linecolor": "white",
            "ticks": ""
           }
          },
          "scene": {
           "xaxis": {
            "backgroundcolor": "#E5ECF6",
            "gridcolor": "white",
            "gridwidth": 2,
            "linecolor": "white",
            "showbackground": true,
            "ticks": "",
            "zerolinecolor": "white"
           },
           "yaxis": {
            "backgroundcolor": "#E5ECF6",
            "gridcolor": "white",
            "gridwidth": 2,
            "linecolor": "white",
            "showbackground": true,
            "ticks": "",
            "zerolinecolor": "white"
           },
           "zaxis": {
            "backgroundcolor": "#E5ECF6",
            "gridcolor": "white",
            "gridwidth": 2,
            "linecolor": "white",
            "showbackground": true,
            "ticks": "",
            "zerolinecolor": "white"
           }
          },
          "shapedefaults": {
           "line": {
            "color": "#2a3f5f"
           }
          },
          "ternary": {
           "aaxis": {
            "gridcolor": "white",
            "linecolor": "white",
            "ticks": ""
           },
           "baxis": {
            "gridcolor": "white",
            "linecolor": "white",
            "ticks": ""
           },
           "bgcolor": "#E5ECF6",
           "caxis": {
            "gridcolor": "white",
            "linecolor": "white",
            "ticks": ""
           }
          },
          "title": {
           "x": 0.05
          },
          "xaxis": {
           "automargin": true,
           "gridcolor": "white",
           "linecolor": "white",
           "ticks": "",
           "title": {
            "standoff": 15
           },
           "zerolinecolor": "white",
           "zerolinewidth": 2
          },
          "yaxis": {
           "automargin": true,
           "gridcolor": "white",
           "linecolor": "white",
           "ticks": "",
           "title": {
            "standoff": 15
           },
           "zerolinecolor": "white",
           "zerolinewidth": 2
          }
         }
        },
        "title": {
         "font": {
          "color": "black",
          "family": "sans serif",
          "size": 24
         },
         "text": "World Happiness in 2008-2021",
         "x": 0.05,
         "xanchor": "left",
         "y": 0.9,
         "yanchor": "top"
        },
        "updatemenus": [
         {
          "buttons": [
           {
            "args": [
             null,
             {
              "frame": {
               "duration": 500,
               "redraw": true
              },
              "fromcurrent": true,
              "mode": "immediate",
              "transition": {
               "duration": 500,
               "easing": "linear"
              }
             }
            ],
            "label": "&#9654;",
            "method": "animate"
           },
           {
            "args": [
             [
              null
             ],
             {
              "frame": {
               "duration": 0,
               "redraw": true
              },
              "fromcurrent": true,
              "mode": "immediate",
              "transition": {
               "duration": 0,
               "easing": "linear"
              }
             }
            ],
            "label": "&#9724;",
            "method": "animate"
           }
          ],
          "direction": "left",
          "pad": {
           "r": 10,
           "t": 70
          },
          "showactive": false,
          "type": "buttons",
          "x": 0.1,
          "xanchor": "right",
          "y": 0,
          "yanchor": "top"
         }
        ],
        "width": 800
       }
      },
      "text/html": [
       "<div>                            <div id=\"b91f3515-b8a2-4741-bcf6-a85db5e60492\" class=\"plotly-graph-div\" style=\"height:600px; width:800px;\"></div>            <script type=\"text/javascript\">                require([\"plotly\"], function(Plotly) {                    window.PLOTLYENV=window.PLOTLYENV || {};                                    if (document.getElementById(\"b91f3515-b8a2-4741-bcf6-a85db5e60492\")) {                    Plotly.newPlot(                        \"b91f3515-b8a2-4741-bcf6-a85db5e60492\",                        [{\"customdata\":[[\"Australia\",\"Oceania\",2008,7.253757476806641,\"\\ud83e\\udd70\",\"AUS\"],[\"Austria\",\"Europe\",2008,7.180953979492188,\"\\ud83e\\udd70\",\"AUT\"],[\"Belgium\",\"Europe\",2008,7.116590976715088,\"\\ud83e\\udd70\",\"BEL\"],[\"Brazil\",\"South America\",2008,6.69142484664917,\"\\ud83e\\udd70\",\"BRA\"],[\"Canada\",\"North America\",2008,7.4856038093566895,\"\\ud83e\\udd70\",\"CAN\"],[\"Colombia\",\"South America\",2008,6.168395042419434,\"\\ud83e\\udd70\",\"COL\"],[\"Costa Rica\",\"South America\",2008,6.850679874420166,\"\\ud83e\\udd70\",\"CRI\"],[\"Denmark\",\"Europe\",2008,7.970891952514648,\"\\ud83e\\udd70\",\"DNK\"],[\"Finland\",\"Europe\",2008,7.670626640319824,\"\\ud83e\\udd70\",\"FIN\"],[\"France\",\"Europe\",2008,7.0080647468566895,\"\\ud83e\\udd70\",\"FRA\"],[\"Germany\",\"Europe\",2008,6.521790027618408,\"\\ud83e\\udd70\",\"DEU\"],[\"Guatemala\",\"South America\",2008,6.414494514465332,\"\\ud83e\\udd70\",\"GTM\"],[\"Iceland\",\"Europe\",2008,6.888284206390381,\"\\ud83e\\udd70\",\"ISL\"],[\"Ireland\",\"Europe\",2008,7.568029880523682,\"\\ud83e\\udd70\",\"IRL\"],[\"Israel\",\"Asia\",2008,7.261261463165283,\"\\ud83e\\udd70\",\"ISR\"],[\"Italy\",\"Europe\",2008,6.779774188995361,\"\\ud83e\\udd70\",\"ITA\"],[\"Mexico\",\"North America\",2008,6.829036235809326,\"\\ud83e\\udd70\",\"MEX\"],[\"Netherlands\",\"Europe\",2008,7.631011962890625,\"\\ud83e\\udd70\",\"NLD\"],[\"New Zealand\",\"Oceania\",2008,7.381170749664307,\"\\ud83e\\udd70\",\"NZL\"],[\"Norway\",\"Europe\",2008,7.632287502288818,\"\\ud83e\\udd70\",\"NOR\"],[\"Panama\",\"South America\",2008,6.930903434753418,\"\\ud83e\\udd70\",\"PAN\"],[\"Saudi Arabia\",\"Asia\",2008,6.811370372772217,\"\\ud83e\\udd70\",\"SAU\"],[\"Singapore\",\"Asia\",2008,6.641956806182861,\"\\ud83e\\udd70\",\"SGP\"],[\"Spain\",\"Europe\",2008,7.294472694396973,\"\\ud83e\\udd70\",\"ESP\"],[\"Sweden\",\"Europe\",2008,7.515997409820557,\"\\ud83e\\udd70\",\"SWE\"],[\"Trinidad and Tobago\",null,2008,6.696444034576416,\"\\ud83e\\udd70\",\"TTO\"],[\"United Kingdom\",\"Europe\",2008,6.98646354675293,\"\\ud83e\\udd70\",\"GBR\"],[\"United States\",\"North America\",2008,7.280385971069336,\"\\ud83e\\udd70\",\"USA\"]],\"geo\":\"geo\",\"hovertemplate\":\"<b>%{hovertext}</b><br><br>emoji=%{customdata[4]}<br>year=%{customdata[2]}<br>Happiness Score=%{customdata[3]}<br>continent=%{customdata[1]}<extra></extra>\",\"hovertext\":[\"Australia\",\"Austria\",\"Belgium\",\"Brazil\",\"Canada\",\"Colombia\",\"Costa Rica\",\"Denmark\",\"Finland\",\"France\",\"Germany\",\"Guatemala\",\"Iceland\",\"Ireland\",\"Israel\",\"Italy\",\"Mexico\",\"Netherlands\",\"New Zealand\",\"Norway\",\"Panama\",\"Saudi Arabia\",\"Singapore\",\"Spain\",\"Sweden\",\"Trinidad and Tobago\",\"United Kingdom\",\"United States\"],\"legendgroup\":\"\\ud83e\\udd70\",\"locations\":[\"AUS\",\"AUT\",\"BEL\",\"BRA\",\"CAN\",\"COL\",\"CRI\",\"DNK\",\"FIN\",\"FRA\",\"DEU\",\"GTM\",\"ISL\",\"IRL\",\"ISR\",\"ITA\",\"MEX\",\"NLD\",\"NZL\",\"NOR\",\"PAN\",\"SAU\",\"SGP\",\"ESP\",\"SWE\",\"TTO\",\"GBR\",\"USA\"],\"marker\":{\"color\":\"#636efa\",\"size\":[7.253757476806641,7.180953979492188,7.116590976715088,6.69142484664917,7.4856038093566895,6.168395042419434,6.850679874420166,7.970891952514648,7.670626640319824,7.0080647468566895,6.521790027618408,6.414494514465332,6.888284206390381,7.568029880523682,7.261261463165283,6.779774188995361,6.829036235809326,7.631011962890625,7.381170749664307,7.632287502288818,6.930903434753418,6.811370372772217,6.641956806182861,7.294472694396973,7.515997409820557,6.696444034576416,6.98646354675293,7.280385971069336],\"sizemode\":\"area\",\"sizeref\":7.970891952514648,\"symbol\":\"circle\"},\"mode\":\"markers+text\",\"name\":\"\\ud83e\\udd70\",\"showlegend\":true,\"text\":[\"\\ud83e\\udd70\",\"\\ud83e\\udd70\",\"\\ud83e\\udd70\",\"\\ud83e\\udd70\",\"\\ud83e\\udd70\",\"\\ud83e\\udd70\",\"\\ud83e\\udd70\",\"\\ud83e\\udd70\",\"\\ud83e\\udd70\",\"\\ud83e\\udd70\",\"\\ud83e\\udd70\",\"\\ud83e\\udd70\",\"\\ud83e\\udd70\",\"\\ud83e\\udd70\",\"\\ud83e\\udd70\",\"\\ud83e\\udd70\",\"\\ud83e\\udd70\",\"\\ud83e\\udd70\",\"\\ud83e\\udd70\",\"\\ud83e\\udd70\",\"\\ud83e\\udd70\",\"\\ud83e\\udd70\",\"\\ud83e\\udd70\",\"\\ud83e\\udd70\",\"\\ud83e\\udd70\",\"\\ud83e\\udd70\",\"\\ud83e\\udd70\",\"\\ud83e\\udd70\"],\"type\":\"scattergeo\",\"textfont\":{\"size\":17}},{\"customdata\":[[\"Argentina\",\"South America\",2008,5.961034297943115,\"\\ud83e\\udd16\",\"ARG\"],[\"Armenia\",\"Asia\",2008,4.65197229385376,\"\\ud83e\\udd16\",\"ARM\"],[\"Azerbaijan\",\"Asia\",2008,4.8171892166137695,\"\\ud83e\\udd16\",\"AZE\"],[\"Bangladesh\",\"Asia\",2008,5.052278518676758,\"\\ud83e\\udd16\",\"BGD\"],[\"Belarus\",\"Europe\",2008,5.463332176208496,\"\\ud83e\\udd16\",\"BLR\"],[\"Bolivia\",\"South America\",2008,5.297872543334961,\"\\ud83e\\udd16\",\"BOL\"],[\"Botswana\",\"Africa\",2008,5.451147079467773,\"\\ud83e\\udd16\",\"BWA\"],[\"Chad\",\"Africa\",2008,4.632468223571777,\"\\ud83e\\udd16\",\"TCD\"],[\"Chile\",\"South America\",2008,5.789438724517822,\"\\ud83e\\udd16\",\"CHL\"],[\"China\",\"Asia\",2008,4.84629487991333,\"\\ud83e\\udd16\",\"CHN\"],[\"Djibouti\",null,2008,5.0093302726745605,\"\\ud83e\\udd16\",\"DJI\"],[\"Dominican Republic\",\"South America\",2008,4.842305660247803,\"\\ud83e\\udd16\",\"DOM\"],[\"Ecuador\",\"South America\",2008,5.296513080596924,\"\\ud83e\\udd16\",\"ECU\"],[\"El Salvador\",\"South America\",2008,5.191493988037109,\"\\ud83e\\udd16\",\"SLV\"],[\"Estonia\",\"Europe\",2008,5.451937675476074,\"\\ud83e\\udd16\",\"EST\"],[\"Ghana\",\"Africa\",2008,4.965134620666504,\"\\ud83e\\udd16\",\"GHA\"],[\"Honduras\",\"South America\",2008,5.420331001281738,\"\\ud83e\\udd16\",\"HND\"],[\"India\",\"Asia\",2008,5.145833015441895,\"\\ud83e\\udd16\",\"IND\"],[\"Indonesia\",\"Asia\",2008,4.815309524536133,\"\\ud83e\\udd16\",\"IDN\"],[\"Iraq\",\"Asia\",2008,4.589844703674316,\"\\ud83e\\udd16\",\"IRQ\"],[\"Japan\",\"Asia\",2008,5.910679340362549,\"\\ud83e\\udd16\",\"JPN\"],[\"Jordan\",\"Asia\",2008,4.930058002471924,\"\\ud83e\\udd16\",\"JOR\"],[\"Kazakhstan\",\"Asia\",2008,5.886419773101807,\"\\ud83e\\udd16\",\"KAZ\"],[\"Kosovo\",\"Europe\",2008,5.521659851074219,\"\\ud83e\\udd16\",\"XKX\"],[\"Latvia\",\"Europe\",2008,5.14537525177002,\"\\ud83e\\udd16\",\"LVA\"],[\"Lebanon\",\"Asia\",2008,4.594851016998291,\"\\ud83e\\udd16\",\"LBN\"],[\"Lithuania\",\"Europe\",2008,5.55392599105835,\"\\ud83e\\udd16\",\"LTU\"],[\"Madagascar\",\"Africa\",2008,4.640079021453857,\"\\ud83e\\udd16\",\"MDG\"],[\"Malaysia\",\"Asia\",2008,5.806781768798828,\"\\ud83e\\udd16\",\"MYS\"],[\"Moldova\",\"Europe\",2008,5.502756118774414,\"\\ud83e\\udd16\",\"MDA\"],[\"Mozambique\",null,2008,4.65358304977417,\"\\ud83e\\udd16\",\"MOZ\"],[\"Nicaragua\",\"South America\",2008,5.103827476501465,\"\\ud83e\\udd16\",\"NIC\"],[\"Nigeria\",\"Africa\",2008,4.938560485839844,\"\\ud83e\\udd16\",\"NGA\"],[\"Paraguay\",\"South America\",2008,5.570061683654785,\"\\ud83e\\udd16\",\"PRY\"],[\"Peru\",\"South America\",2008,5.129230976104736,\"\\ud83e\\udd16\",\"PER\"],[\"Philippines\",\"Asia\",2008,4.589065074920654,\"\\ud83e\\udd16\",\"PHL\"],[\"Portugal\",\"Europe\",2008,5.71696662902832,\"\\ud83e\\udd16\",\"PRT\"],[\"Senegal\",\"Africa\",2008,4.683499813079834,\"\\ud83e\\udd16\",\"SEN\"],[\"South Africa\",\"Africa\",2008,5.346306800842285,\"\\ud83e\\udd16\",\"ZAF\"],[\"Tajikistan\",\"Asia\",2008,5.063986778259277,\"\\ud83e\\udd16\",\"TJK\"],[\"Thailand\",\"Asia\",2008,5.636471271514893,\"\\ud83e\\udd16\",\"THA\"],[\"Uganda\",\"Africa\",2008,4.568619251251221,\"\\ud83e\\udd16\",\"UGA\"],[\"Ukraine\",\"Europe\",2008,5.172380447387695,\"\\ud83e\\udd16\",\"UKR\"],[\"Uruguay\",\"South America\",2008,5.663869857788086,\"\\ud83e\\udd16\",\"URY\"],[\"Uzbekistan\",\"Asia\",2008,5.311368465423584,\"\\ud83e\\udd16\",\"UZB\"],[\"Vietnam\",\"Asia\",2008,5.480425357818604,\"\\ud83e\\udd16\",\"VNM\"],[\"Zambia\",\"Africa\",2008,4.730263233184815,\"\\ud83e\\udd16\",\"ZMB\"]],\"geo\":\"geo\",\"hovertemplate\":\"<b>%{hovertext}</b><br><br>emoji=%{customdata[4]}<br>year=%{customdata[2]}<br>Happiness Score=%{customdata[3]}<br>continent=%{customdata[1]}<extra></extra>\",\"hovertext\":[\"Argentina\",\"Armenia\",\"Azerbaijan\",\"Bangladesh\",\"Belarus\",\"Bolivia\",\"Botswana\",\"Chad\",\"Chile\",\"China\",\"Djibouti\",\"Dominican Republic\",\"Ecuador\",\"El Salvador\",\"Estonia\",\"Ghana\",\"Honduras\",\"India\",\"Indonesia\",\"Iraq\",\"Japan\",\"Jordan\",\"Kazakhstan\",\"Kosovo\",\"Latvia\",\"Lebanon\",\"Lithuania\",\"Madagascar\",\"Malaysia\",\"Moldova\",\"Mozambique\",\"Nicaragua\",\"Nigeria\",\"Paraguay\",\"Peru\",\"Philippines\",\"Portugal\",\"Senegal\",\"South Africa\",\"Tajikistan\",\"Thailand\",\"Uganda\",\"Ukraine\",\"Uruguay\",\"Uzbekistan\",\"Vietnam\",\"Zambia\"],\"legendgroup\":\"\\ud83e\\udd16\",\"locations\":[\"ARG\",\"ARM\",\"AZE\",\"BGD\",\"BLR\",\"BOL\",\"BWA\",\"TCD\",\"CHL\",\"CHN\",\"DJI\",\"DOM\",\"ECU\",\"SLV\",\"EST\",\"GHA\",\"HND\",\"IND\",\"IDN\",\"IRQ\",\"JPN\",\"JOR\",\"KAZ\",\"XKX\",\"LVA\",\"LBN\",\"LTU\",\"MDG\",\"MYS\",\"MDA\",\"MOZ\",\"NIC\",\"NGA\",\"PRY\",\"PER\",\"PHL\",\"PRT\",\"SEN\",\"ZAF\",\"TJK\",\"THA\",\"UGA\",\"UKR\",\"URY\",\"UZB\",\"VNM\",\"ZMB\"],\"marker\":{\"color\":\"#EF553B\",\"size\":[5.961034297943115,4.65197229385376,4.8171892166137695,5.052278518676758,5.463332176208496,5.297872543334961,5.451147079467773,4.632468223571777,5.789438724517822,4.84629487991333,5.0093302726745605,4.842305660247803,5.296513080596924,5.191493988037109,5.451937675476074,4.965134620666504,5.420331001281738,5.145833015441895,4.815309524536133,4.589844703674316,5.910679340362549,4.930058002471924,5.886419773101807,5.521659851074219,5.14537525177002,4.594851016998291,5.55392599105835,4.640079021453857,5.806781768798828,5.502756118774414,4.65358304977417,5.103827476501465,4.938560485839844,5.570061683654785,5.129230976104736,4.589065074920654,5.71696662902832,4.683499813079834,5.346306800842285,5.063986778259277,5.636471271514893,4.568619251251221,5.172380447387695,5.663869857788086,5.311368465423584,5.480425357818604,4.730263233184815],\"sizemode\":\"area\",\"sizeref\":7.970891952514648,\"symbol\":\"circle\"},\"mode\":\"markers+text\",\"name\":\"\\ud83e\\udd16\",\"showlegend\":true,\"text\":[\"\\ud83e\\udd16\",\"\\ud83e\\udd16\",\"\\ud83e\\udd16\",\"\\ud83e\\udd16\",\"\\ud83e\\udd16\",\"\\ud83e\\udd16\",\"\\ud83e\\udd16\",\"\\ud83e\\udd16\",\"\\ud83e\\udd16\",\"\\ud83e\\udd16\",\"\\ud83e\\udd16\",\"\\ud83e\\udd16\",\"\\ud83e\\udd16\",\"\\ud83e\\udd16\",\"\\ud83e\\udd16\",\"\\ud83e\\udd16\",\"\\ud83e\\udd16\",\"\\ud83e\\udd16\",\"\\ud83e\\udd16\",\"\\ud83e\\udd16\",\"\\ud83e\\udd16\",\"\\ud83e\\udd16\",\"\\ud83e\\udd16\",\"\\ud83e\\udd16\",\"\\ud83e\\udd16\",\"\\ud83e\\udd16\",\"\\ud83e\\udd16\",\"\\ud83e\\udd16\",\"\\ud83e\\udd16\",\"\\ud83e\\udd16\",\"\\ud83e\\udd16\",\"\\ud83e\\udd16\",\"\\ud83e\\udd16\",\"\\ud83e\\udd16\",\"\\ud83e\\udd16\",\"\\ud83e\\udd16\",\"\\ud83e\\udd16\",\"\\ud83e\\udd16\",\"\\ud83e\\udd16\",\"\\ud83e\\udd16\",\"\\ud83e\\udd16\",\"\\ud83e\\udd16\",\"\\ud83e\\udd16\",\"\\ud83e\\udd16\",\"\\ud83e\\udd16\",\"\\ud83e\\udd16\",\"\\ud83e\\udd16\"],\"type\":\"scattergeo\",\"textfont\":{\"size\":17}},{\"customdata\":[[\"Afghanistan\",\"Asia\",2008,3.7235898971557617,\"\\ud83e\\udd22\",\"AFG\"],[\"Benin\",\"Africa\",2008,3.6671395301818848,\"\\ud83e\\udd22\",\"BEN\"],[\"Burkina Faso\",\"Africa\",2008,3.8464388847351074,\"\\ud83e\\udd22\",\"BFA\"],[\"Burundi\",\"Africa\",2008,3.563227653503418,\"\\ud83e\\udd22\",\"BDI\"],[\"Cambodia\",\"Asia\",2008,4.462163925170898,\"\\ud83e\\udd22\",\"KHM\"],[\"Cameroon\",\"Africa\",2008,4.291800498962402,\"\\ud83e\\udd22\",\"CMR\"],[\"Georgia\",\"Asia\",2008,4.156090259552002,\"\\ud83e\\udd22\",\"GEO\"],[\"Haiti\",\"South America\",2008,3.8463292121887207,\"\\ud83e\\udd22\",\"HTI\"],[\"Kenya\",\"Africa\",2008,4.015274524688721,\"\\ud83e\\udd22\",\"KEN\"],[\"Liberia\",\"Africa\",2008,4.221354007720947,\"\\ud83e\\udd22\",\"LBR\"],[\"Mali\",\"Africa\",2008,4.114664077758789,\"\\ud83e\\udd22\",\"MLI\"],[\"Mauritania\",\"Africa\",2008,4.248075008392334,\"\\ud83e\\udd22\",\"MRT\"],[\"Mongolia\",\"Asia\",2008,4.4930100440979,\"\\ud83e\\udd22\",\"MNG\"],[\"Nepal\",\"Asia\",2008,4.440526485443115,\"\\ud83e\\udd22\",\"NPL\"],[\"Niger\",\"Africa\",2008,4.235657215118408,\"\\ud83e\\udd22\",\"NER\"],[\"Pakistan\",\"Asia\",2008,4.413918972015381,\"\\ud83e\\udd22\",\"PAK\"],[\"Rwanda\",\"Africa\",2008,4.3629889488220215,\"\\ud83e\\udd22\",\"RWA\"],[\"Sierra Leone\",\"Africa\",2008,2.997251033782959,\"\\ud83e\\udd22\",\"SLE\"],[\"Sri Lanka\",\"Asia\",2008,4.430846214294434,\"\\ud83e\\udd22\",\"LKA\"],[\"Tanzania\",\"Africa\",2008,4.38474178314209,\"\\ud83e\\udd22\",\"TZA\"],[\"Togo\",\"Africa\",2008,2.807855129241944,\"\\ud83e\\udd22\",\"TGO\"],[\"Zimbabwe\",\"Africa\",2008,3.1742637157440186,\"\\ud83e\\udd22\",\"ZWE\"]],\"geo\":\"geo\",\"hovertemplate\":\"<b>%{hovertext}</b><br><br>emoji=%{customdata[4]}<br>year=%{customdata[2]}<br>Happiness Score=%{customdata[3]}<br>continent=%{customdata[1]}<extra></extra>\",\"hovertext\":[\"Afghanistan\",\"Benin\",\"Burkina Faso\",\"Burundi\",\"Cambodia\",\"Cameroon\",\"Georgia\",\"Haiti\",\"Kenya\",\"Liberia\",\"Mali\",\"Mauritania\",\"Mongolia\",\"Nepal\",\"Niger\",\"Pakistan\",\"Rwanda\",\"Sierra Leone\",\"Sri Lanka\",\"Tanzania\",\"Togo\",\"Zimbabwe\"],\"legendgroup\":\"\\ud83e\\udd22\",\"locations\":[\"AFG\",\"BEN\",\"BFA\",\"BDI\",\"KHM\",\"CMR\",\"GEO\",\"HTI\",\"KEN\",\"LBR\",\"MLI\",\"MRT\",\"MNG\",\"NPL\",\"NER\",\"PAK\",\"RWA\",\"SLE\",\"LKA\",\"TZA\",\"TGO\",\"ZWE\"],\"marker\":{\"color\":\"#00cc96\",\"size\":[3.7235898971557617,3.6671395301818848,3.8464388847351074,3.563227653503418,4.462163925170898,4.291800498962402,4.156090259552002,3.8463292121887207,4.015274524688721,4.221354007720947,4.114664077758789,4.248075008392334,4.4930100440979,4.440526485443115,4.235657215118408,4.413918972015381,4.3629889488220215,2.997251033782959,4.430846214294434,4.38474178314209,2.807855129241944,3.1742637157440186],\"sizemode\":\"area\",\"sizeref\":7.970891952514648,\"symbol\":\"circle\"},\"mode\":\"markers+text\",\"name\":\"\\ud83e\\udd22\",\"showlegend\":true,\"text\":[\"\\ud83e\\udd22\",\"\\ud83e\\udd22\",\"\\ud83e\\udd22\",\"\\ud83e\\udd22\",\"\\ud83e\\udd22\",\"\\ud83e\\udd22\",\"\\ud83e\\udd22\",\"\\ud83e\\udd22\",\"\\ud83e\\udd22\",\"\\ud83e\\udd22\",\"\\ud83e\\udd22\",\"\\ud83e\\udd22\",\"\\ud83e\\udd22\",\"\\ud83e\\udd22\",\"\\ud83e\\udd22\",\"\\ud83e\\udd22\",\"\\ud83e\\udd22\",\"\\ud83e\\udd22\",\"\\ud83e\\udd22\",\"\\ud83e\\udd22\",\"\\ud83e\\udd22\",\"\\ud83e\\udd22\"],\"type\":\"scattergeo\",\"textfont\":{\"size\":17}}],                        {\"template\":{\"data\":{\"histogram2dcontour\":[{\"type\":\"histogram2dcontour\",\"colorbar\":{\"outlinewidth\":0,\"ticks\":\"\"},\"colorscale\":[[0.0,\"#0d0887\"],[0.1111111111111111,\"#46039f\"],[0.2222222222222222,\"#7201a8\"],[0.3333333333333333,\"#9c179e\"],[0.4444444444444444,\"#bd3786\"],[0.5555555555555556,\"#d8576b\"],[0.6666666666666666,\"#ed7953\"],[0.7777777777777778,\"#fb9f3a\"],[0.8888888888888888,\"#fdca26\"],[1.0,\"#f0f921\"]]}],\"choropleth\":[{\"type\":\"choropleth\",\"colorbar\":{\"outlinewidth\":0,\"ticks\":\"\"}}],\"histogram2d\":[{\"type\":\"histogram2d\",\"colorbar\":{\"outlinewidth\":0,\"ticks\":\"\"},\"colorscale\":[[0.0,\"#0d0887\"],[0.1111111111111111,\"#46039f\"],[0.2222222222222222,\"#7201a8\"],[0.3333333333333333,\"#9c179e\"],[0.4444444444444444,\"#bd3786\"],[0.5555555555555556,\"#d8576b\"],[0.6666666666666666,\"#ed7953\"],[0.7777777777777778,\"#fb9f3a\"],[0.8888888888888888,\"#fdca26\"],[1.0,\"#f0f921\"]]}],\"heatmap\":[{\"type\":\"heatmap\",\"colorbar\":{\"outlinewidth\":0,\"ticks\":\"\"},\"colorscale\":[[0.0,\"#0d0887\"],[0.1111111111111111,\"#46039f\"],[0.2222222222222222,\"#7201a8\"],[0.3333333333333333,\"#9c179e\"],[0.4444444444444444,\"#bd3786\"],[0.5555555555555556,\"#d8576b\"],[0.6666666666666666,\"#ed7953\"],[0.7777777777777778,\"#fb9f3a\"],[0.8888888888888888,\"#fdca26\"],[1.0,\"#f0f921\"]]}],\"heatmapgl\":[{\"type\":\"heatmapgl\",\"colorbar\":{\"outlinewidth\":0,\"ticks\":\"\"},\"colorscale\":[[0.0,\"#0d0887\"],[0.1111111111111111,\"#46039f\"],[0.2222222222222222,\"#7201a8\"],[0.3333333333333333,\"#9c179e\"],[0.4444444444444444,\"#bd3786\"],[0.5555555555555556,\"#d8576b\"],[0.6666666666666666,\"#ed7953\"],[0.7777777777777778,\"#fb9f3a\"],[0.8888888888888888,\"#fdca26\"],[1.0,\"#f0f921\"]]}],\"contourcarpet\":[{\"type\":\"contourcarpet\",\"colorbar\":{\"outlinewidth\":0,\"ticks\":\"\"}}],\"contour\":[{\"type\":\"contour\",\"colorbar\":{\"outlinewidth\":0,\"ticks\":\"\"},\"colorscale\":[[0.0,\"#0d0887\"],[0.1111111111111111,\"#46039f\"],[0.2222222222222222,\"#7201a8\"],[0.3333333333333333,\"#9c179e\"],[0.4444444444444444,\"#bd3786\"],[0.5555555555555556,\"#d8576b\"],[0.6666666666666666,\"#ed7953\"],[0.7777777777777778,\"#fb9f3a\"],[0.8888888888888888,\"#fdca26\"],[1.0,\"#f0f921\"]]}],\"surface\":[{\"type\":\"surface\",\"colorbar\":{\"outlinewidth\":0,\"ticks\":\"\"},\"colorscale\":[[0.0,\"#0d0887\"],[0.1111111111111111,\"#46039f\"],[0.2222222222222222,\"#7201a8\"],[0.3333333333333333,\"#9c179e\"],[0.4444444444444444,\"#bd3786\"],[0.5555555555555556,\"#d8576b\"],[0.6666666666666666,\"#ed7953\"],[0.7777777777777778,\"#fb9f3a\"],[0.8888888888888888,\"#fdca26\"],[1.0,\"#f0f921\"]]}],\"mesh3d\":[{\"type\":\"mesh3d\",\"colorbar\":{\"outlinewidth\":0,\"ticks\":\"\"}}],\"scatter\":[{\"fillpattern\":{\"fillmode\":\"overlay\",\"size\":10,\"solidity\":0.2},\"type\":\"scatter\"}],\"parcoords\":[{\"type\":\"parcoords\",\"line\":{\"colorbar\":{\"outlinewidth\":0,\"ticks\":\"\"}}}],\"scatterpolargl\":[{\"type\":\"scatterpolargl\",\"marker\":{\"colorbar\":{\"outlinewidth\":0,\"ticks\":\"\"}}}],\"bar\":[{\"error_x\":{\"color\":\"#2a3f5f\"},\"error_y\":{\"color\":\"#2a3f5f\"},\"marker\":{\"line\":{\"color\":\"#E5ECF6\",\"width\":0.5},\"pattern\":{\"fillmode\":\"overlay\",\"size\":10,\"solidity\":0.2}},\"type\":\"bar\"}],\"scattergeo\":[{\"type\":\"scattergeo\",\"marker\":{\"colorbar\":{\"outlinewidth\":0,\"ticks\":\"\"}}}],\"scatterpolar\":[{\"type\":\"scatterpolar\",\"marker\":{\"colorbar\":{\"outlinewidth\":0,\"ticks\":\"\"}}}],\"histogram\":[{\"marker\":{\"pattern\":{\"fillmode\":\"overlay\",\"size\":10,\"solidity\":0.2}},\"type\":\"histogram\"}],\"scattergl\":[{\"type\":\"scattergl\",\"marker\":{\"colorbar\":{\"outlinewidth\":0,\"ticks\":\"\"}}}],\"scatter3d\":[{\"type\":\"scatter3d\",\"line\":{\"colorbar\":{\"outlinewidth\":0,\"ticks\":\"\"}},\"marker\":{\"colorbar\":{\"outlinewidth\":0,\"ticks\":\"\"}}}],\"scattermapbox\":[{\"type\":\"scattermapbox\",\"marker\":{\"colorbar\":{\"outlinewidth\":0,\"ticks\":\"\"}}}],\"scatterternary\":[{\"type\":\"scatterternary\",\"marker\":{\"colorbar\":{\"outlinewidth\":0,\"ticks\":\"\"}}}],\"scattercarpet\":[{\"type\":\"scattercarpet\",\"marker\":{\"colorbar\":{\"outlinewidth\":0,\"ticks\":\"\"}}}],\"carpet\":[{\"aaxis\":{\"endlinecolor\":\"#2a3f5f\",\"gridcolor\":\"white\",\"linecolor\":\"white\",\"minorgridcolor\":\"white\",\"startlinecolor\":\"#2a3f5f\"},\"baxis\":{\"endlinecolor\":\"#2a3f5f\",\"gridcolor\":\"white\",\"linecolor\":\"white\",\"minorgridcolor\":\"white\",\"startlinecolor\":\"#2a3f5f\"},\"type\":\"carpet\"}],\"table\":[{\"cells\":{\"fill\":{\"color\":\"#EBF0F8\"},\"line\":{\"color\":\"white\"}},\"header\":{\"fill\":{\"color\":\"#C8D4E3\"},\"line\":{\"color\":\"white\"}},\"type\":\"table\"}],\"barpolar\":[{\"marker\":{\"line\":{\"color\":\"#E5ECF6\",\"width\":0.5},\"pattern\":{\"fillmode\":\"overlay\",\"size\":10,\"solidity\":0.2}},\"type\":\"barpolar\"}],\"pie\":[{\"automargin\":true,\"type\":\"pie\"}]},\"layout\":{\"autotypenumbers\":\"strict\",\"colorway\":[\"#636efa\",\"#EF553B\",\"#00cc96\",\"#ab63fa\",\"#FFA15A\",\"#19d3f3\",\"#FF6692\",\"#B6E880\",\"#FF97FF\",\"#FECB52\"],\"font\":{\"color\":\"#2a3f5f\"},\"hovermode\":\"closest\",\"hoverlabel\":{\"align\":\"left\"},\"paper_bgcolor\":\"white\",\"plot_bgcolor\":\"#E5ECF6\",\"polar\":{\"bgcolor\":\"#E5ECF6\",\"angularaxis\":{\"gridcolor\":\"white\",\"linecolor\":\"white\",\"ticks\":\"\"},\"radialaxis\":{\"gridcolor\":\"white\",\"linecolor\":\"white\",\"ticks\":\"\"}},\"ternary\":{\"bgcolor\":\"#E5ECF6\",\"aaxis\":{\"gridcolor\":\"white\",\"linecolor\":\"white\",\"ticks\":\"\"},\"baxis\":{\"gridcolor\":\"white\",\"linecolor\":\"white\",\"ticks\":\"\"},\"caxis\":{\"gridcolor\":\"white\",\"linecolor\":\"white\",\"ticks\":\"\"}},\"coloraxis\":{\"colorbar\":{\"outlinewidth\":0,\"ticks\":\"\"}},\"colorscale\":{\"sequential\":[[0.0,\"#0d0887\"],[0.1111111111111111,\"#46039f\"],[0.2222222222222222,\"#7201a8\"],[0.3333333333333333,\"#9c179e\"],[0.4444444444444444,\"#bd3786\"],[0.5555555555555556,\"#d8576b\"],[0.6666666666666666,\"#ed7953\"],[0.7777777777777778,\"#fb9f3a\"],[0.8888888888888888,\"#fdca26\"],[1.0,\"#f0f921\"]],\"sequentialminus\":[[0.0,\"#0d0887\"],[0.1111111111111111,\"#46039f\"],[0.2222222222222222,\"#7201a8\"],[0.3333333333333333,\"#9c179e\"],[0.4444444444444444,\"#bd3786\"],[0.5555555555555556,\"#d8576b\"],[0.6666666666666666,\"#ed7953\"],[0.7777777777777778,\"#fb9f3a\"],[0.8888888888888888,\"#fdca26\"],[1.0,\"#f0f921\"]],\"diverging\":[[0,\"#8e0152\"],[0.1,\"#c51b7d\"],[0.2,\"#de77ae\"],[0.3,\"#f1b6da\"],[0.4,\"#fde0ef\"],[0.5,\"#f7f7f7\"],[0.6,\"#e6f5d0\"],[0.7,\"#b8e186\"],[0.8,\"#7fbc41\"],[0.9,\"#4d9221\"],[1,\"#276419\"]]},\"xaxis\":{\"gridcolor\":\"white\",\"linecolor\":\"white\",\"ticks\":\"\",\"title\":{\"standoff\":15},\"zerolinecolor\":\"white\",\"automargin\":true,\"zerolinewidth\":2},\"yaxis\":{\"gridcolor\":\"white\",\"linecolor\":\"white\",\"ticks\":\"\",\"title\":{\"standoff\":15},\"zerolinecolor\":\"white\",\"automargin\":true,\"zerolinewidth\":2},\"scene\":{\"xaxis\":{\"backgroundcolor\":\"#E5ECF6\",\"gridcolor\":\"white\",\"linecolor\":\"white\",\"showbackground\":true,\"ticks\":\"\",\"zerolinecolor\":\"white\",\"gridwidth\":2},\"yaxis\":{\"backgroundcolor\":\"#E5ECF6\",\"gridcolor\":\"white\",\"linecolor\":\"white\",\"showbackground\":true,\"ticks\":\"\",\"zerolinecolor\":\"white\",\"gridwidth\":2},\"zaxis\":{\"backgroundcolor\":\"#E5ECF6\",\"gridcolor\":\"white\",\"linecolor\":\"white\",\"showbackground\":true,\"ticks\":\"\",\"zerolinecolor\":\"white\",\"gridwidth\":2}},\"shapedefaults\":{\"line\":{\"color\":\"#2a3f5f\"}},\"annotationdefaults\":{\"arrowcolor\":\"#2a3f5f\",\"arrowhead\":0,\"arrowwidth\":1},\"geo\":{\"bgcolor\":\"white\",\"landcolor\":\"#E5ECF6\",\"subunitcolor\":\"white\",\"showland\":true,\"showlakes\":true,\"lakecolor\":\"white\"},\"title\":{\"x\":0.05},\"mapbox\":{\"style\":\"light\"}}},\"geo\":{\"domain\":{\"x\":[0.0,1.0],\"y\":[0.0,1.0]},\"projection\":{\"type\":\"natural earth\"},\"center\":{},\"showframe\":true,\"showcoastlines\":true,\"showland\":true,\"showocean\":true,\"coastlinecolor\":\"rgb(141,160,203)\",\"landcolor\":\"rgb(229, 196, 148)\",\"oceancolor\":\"rgb(179,205,227)\",\"showcountries\":true,\"countrycolor\":\"rgb(179,179,179)\"},\"legend\":{\"title\":{\"text\":\"emoji\"},\"tracegroupgap\":0,\"itemsizing\":\"constant\"},\"title\":{\"text\":\"World Happiness in 2008-2021\",\"font\":{\"family\":\"sans serif\",\"size\":24,\"color\":\"black\"},\"x\":0.05,\"y\":0.9,\"xanchor\":\"left\",\"yanchor\":\"top\"},\"updatemenus\":[{\"buttons\":[{\"args\":[null,{\"frame\":{\"duration\":500,\"redraw\":true},\"mode\":\"immediate\",\"fromcurrent\":true,\"transition\":{\"duration\":500,\"easing\":\"linear\"}}],\"label\":\"&#9654;\",\"method\":\"animate\"},{\"args\":[[null],{\"frame\":{\"duration\":0,\"redraw\":true},\"mode\":\"immediate\",\"fromcurrent\":true,\"transition\":{\"duration\":0,\"easing\":\"linear\"}}],\"label\":\"&#9724;\",\"method\":\"animate\"}],\"direction\":\"left\",\"pad\":{\"r\":10,\"t\":70},\"showactive\":false,\"type\":\"buttons\",\"x\":0.1,\"xanchor\":\"right\",\"y\":0,\"yanchor\":\"top\"}],\"sliders\":[{\"active\":0,\"currentvalue\":{\"prefix\":\"year=\"},\"len\":0.9,\"pad\":{\"b\":10,\"t\":60},\"steps\":[{\"args\":[[\"2008\"],{\"frame\":{\"duration\":0,\"redraw\":true},\"mode\":\"immediate\",\"fromcurrent\":true,\"transition\":{\"duration\":0,\"easing\":\"linear\"}}],\"label\":\"2008\",\"method\":\"animate\"},{\"args\":[[\"2009\"],{\"frame\":{\"duration\":0,\"redraw\":true},\"mode\":\"immediate\",\"fromcurrent\":true,\"transition\":{\"duration\":0,\"easing\":\"linear\"}}],\"label\":\"2009\",\"method\":\"animate\"},{\"args\":[[\"2010\"],{\"frame\":{\"duration\":0,\"redraw\":true},\"mode\":\"immediate\",\"fromcurrent\":true,\"transition\":{\"duration\":0,\"easing\":\"linear\"}}],\"label\":\"2010\",\"method\":\"animate\"},{\"args\":[[\"2011\"],{\"frame\":{\"duration\":0,\"redraw\":true},\"mode\":\"immediate\",\"fromcurrent\":true,\"transition\":{\"duration\":0,\"easing\":\"linear\"}}],\"label\":\"2011\",\"method\":\"animate\"},{\"args\":[[\"2012\"],{\"frame\":{\"duration\":0,\"redraw\":true},\"mode\":\"immediate\",\"fromcurrent\":true,\"transition\":{\"duration\":0,\"easing\":\"linear\"}}],\"label\":\"2012\",\"method\":\"animate\"},{\"args\":[[\"2013\"],{\"frame\":{\"duration\":0,\"redraw\":true},\"mode\":\"immediate\",\"fromcurrent\":true,\"transition\":{\"duration\":0,\"easing\":\"linear\"}}],\"label\":\"2013\",\"method\":\"animate\"},{\"args\":[[\"2014\"],{\"frame\":{\"duration\":0,\"redraw\":true},\"mode\":\"immediate\",\"fromcurrent\":true,\"transition\":{\"duration\":0,\"easing\":\"linear\"}}],\"label\":\"2014\",\"method\":\"animate\"},{\"args\":[[\"2015\"],{\"frame\":{\"duration\":0,\"redraw\":true},\"mode\":\"immediate\",\"fromcurrent\":true,\"transition\":{\"duration\":0,\"easing\":\"linear\"}}],\"label\":\"2015\",\"method\":\"animate\"},{\"args\":[[\"2016\"],{\"frame\":{\"duration\":0,\"redraw\":true},\"mode\":\"immediate\",\"fromcurrent\":true,\"transition\":{\"duration\":0,\"easing\":\"linear\"}}],\"label\":\"2016\",\"method\":\"animate\"},{\"args\":[[\"2017\"],{\"frame\":{\"duration\":0,\"redraw\":true},\"mode\":\"immediate\",\"fromcurrent\":true,\"transition\":{\"duration\":0,\"easing\":\"linear\"}}],\"label\":\"2017\",\"method\":\"animate\"},{\"args\":[[\"2018\"],{\"frame\":{\"duration\":0,\"redraw\":true},\"mode\":\"immediate\",\"fromcurrent\":true,\"transition\":{\"duration\":0,\"easing\":\"linear\"}}],\"label\":\"2018\",\"method\":\"animate\"},{\"args\":[[\"2019\"],{\"frame\":{\"duration\":0,\"redraw\":true},\"mode\":\"immediate\",\"fromcurrent\":true,\"transition\":{\"duration\":0,\"easing\":\"linear\"}}],\"label\":\"2019\",\"method\":\"animate\"},{\"args\":[[\"2020\"],{\"frame\":{\"duration\":0,\"redraw\":true},\"mode\":\"immediate\",\"fromcurrent\":true,\"transition\":{\"duration\":0,\"easing\":\"linear\"}}],\"label\":\"2020\",\"method\":\"animate\"},{\"args\":[[\"2021\"],{\"frame\":{\"duration\":0,\"redraw\":true},\"mode\":\"immediate\",\"fromcurrent\":true,\"transition\":{\"duration\":0,\"easing\":\"linear\"}}],\"label\":\"2021\",\"method\":\"animate\"}],\"x\":0.1,\"xanchor\":\"left\",\"y\":0,\"yanchor\":\"top\"}],\"annotations\":[{\"font\":{\"color\":\"black\",\"family\":\"sans serif\",\"size\":14},\"showarrow\":false,\"text\":\"\\ud83e\\udd70: Happy(score>=6)   \\ud83e\\udd16: Neural(6>score>=4.5)   \\ud83e\\udd22: Not Happy(score<4.5)\",\"x\":1.0,\"xanchor\":\"right\",\"xref\":\"paper\",\"y\":-0.1,\"yanchor\":\"bottom\",\"yref\":\"paper\"}],\"font\":{\"size\":14},\"width\":800,\"height\":600,\"showlegend\":false},                        {\"responsive\": true}                    ).then(function(){\n",
       "                            Plotly.addFrames('b91f3515-b8a2-4741-bcf6-a85db5e60492', [{\"data\":[{\"customdata\":[[\"Australia\",\"Oceania\",2008,7.253757476806641,\"\\ud83e\\udd70\",\"AUS\"],[\"Austria\",\"Europe\",2008,7.180953979492188,\"\\ud83e\\udd70\",\"AUT\"],[\"Belgium\",\"Europe\",2008,7.116590976715088,\"\\ud83e\\udd70\",\"BEL\"],[\"Brazil\",\"South America\",2008,6.69142484664917,\"\\ud83e\\udd70\",\"BRA\"],[\"Canada\",\"North America\",2008,7.4856038093566895,\"\\ud83e\\udd70\",\"CAN\"],[\"Colombia\",\"South America\",2008,6.168395042419434,\"\\ud83e\\udd70\",\"COL\"],[\"Costa Rica\",\"South America\",2008,6.850679874420166,\"\\ud83e\\udd70\",\"CRI\"],[\"Denmark\",\"Europe\",2008,7.970891952514648,\"\\ud83e\\udd70\",\"DNK\"],[\"Finland\",\"Europe\",2008,7.670626640319824,\"\\ud83e\\udd70\",\"FIN\"],[\"France\",\"Europe\",2008,7.0080647468566895,\"\\ud83e\\udd70\",\"FRA\"],[\"Germany\",\"Europe\",2008,6.521790027618408,\"\\ud83e\\udd70\",\"DEU\"],[\"Guatemala\",\"South America\",2008,6.414494514465332,\"\\ud83e\\udd70\",\"GTM\"],[\"Iceland\",\"Europe\",2008,6.888284206390381,\"\\ud83e\\udd70\",\"ISL\"],[\"Ireland\",\"Europe\",2008,7.568029880523682,\"\\ud83e\\udd70\",\"IRL\"],[\"Israel\",\"Asia\",2008,7.261261463165283,\"\\ud83e\\udd70\",\"ISR\"],[\"Italy\",\"Europe\",2008,6.779774188995361,\"\\ud83e\\udd70\",\"ITA\"],[\"Mexico\",\"North America\",2008,6.829036235809326,\"\\ud83e\\udd70\",\"MEX\"],[\"Netherlands\",\"Europe\",2008,7.631011962890625,\"\\ud83e\\udd70\",\"NLD\"],[\"New Zealand\",\"Oceania\",2008,7.381170749664307,\"\\ud83e\\udd70\",\"NZL\"],[\"Norway\",\"Europe\",2008,7.632287502288818,\"\\ud83e\\udd70\",\"NOR\"],[\"Panama\",\"South America\",2008,6.930903434753418,\"\\ud83e\\udd70\",\"PAN\"],[\"Saudi Arabia\",\"Asia\",2008,6.811370372772217,\"\\ud83e\\udd70\",\"SAU\"],[\"Singapore\",\"Asia\",2008,6.641956806182861,\"\\ud83e\\udd70\",\"SGP\"],[\"Spain\",\"Europe\",2008,7.294472694396973,\"\\ud83e\\udd70\",\"ESP\"],[\"Sweden\",\"Europe\",2008,7.515997409820557,\"\\ud83e\\udd70\",\"SWE\"],[\"Trinidad and Tobago\",null,2008,6.696444034576416,\"\\ud83e\\udd70\",\"TTO\"],[\"United Kingdom\",\"Europe\",2008,6.98646354675293,\"\\ud83e\\udd70\",\"GBR\"],[\"United States\",\"North America\",2008,7.280385971069336,\"\\ud83e\\udd70\",\"USA\"]],\"geo\":\"geo\",\"hovertemplate\":\"<b>%{hovertext}</b><br><br>emoji=%{customdata[4]}<br>year=%{customdata[2]}<br>Happiness Score=%{customdata[3]}<br>continent=%{customdata[1]}<extra></extra>\",\"hovertext\":[\"Australia\",\"Austria\",\"Belgium\",\"Brazil\",\"Canada\",\"Colombia\",\"Costa Rica\",\"Denmark\",\"Finland\",\"France\",\"Germany\",\"Guatemala\",\"Iceland\",\"Ireland\",\"Israel\",\"Italy\",\"Mexico\",\"Netherlands\",\"New Zealand\",\"Norway\",\"Panama\",\"Saudi Arabia\",\"Singapore\",\"Spain\",\"Sweden\",\"Trinidad and Tobago\",\"United Kingdom\",\"United States\"],\"legendgroup\":\"\\ud83e\\udd70\",\"locations\":[\"AUS\",\"AUT\",\"BEL\",\"BRA\",\"CAN\",\"COL\",\"CRI\",\"DNK\",\"FIN\",\"FRA\",\"DEU\",\"GTM\",\"ISL\",\"IRL\",\"ISR\",\"ITA\",\"MEX\",\"NLD\",\"NZL\",\"NOR\",\"PAN\",\"SAU\",\"SGP\",\"ESP\",\"SWE\",\"TTO\",\"GBR\",\"USA\"],\"marker\":{\"color\":\"#636efa\",\"size\":[7.253757476806641,7.180953979492188,7.116590976715088,6.69142484664917,7.4856038093566895,6.168395042419434,6.850679874420166,7.970891952514648,7.670626640319824,7.0080647468566895,6.521790027618408,6.414494514465332,6.888284206390381,7.568029880523682,7.261261463165283,6.779774188995361,6.829036235809326,7.631011962890625,7.381170749664307,7.632287502288818,6.930903434753418,6.811370372772217,6.641956806182861,7.294472694396973,7.515997409820557,6.696444034576416,6.98646354675293,7.280385971069336],\"sizemode\":\"area\",\"sizeref\":7.970891952514648,\"symbol\":\"circle\"},\"mode\":\"markers+text\",\"name\":\"\\ud83e\\udd70\",\"showlegend\":true,\"text\":[\"\\ud83e\\udd70\",\"\\ud83e\\udd70\",\"\\ud83e\\udd70\",\"\\ud83e\\udd70\",\"\\ud83e\\udd70\",\"\\ud83e\\udd70\",\"\\ud83e\\udd70\",\"\\ud83e\\udd70\",\"\\ud83e\\udd70\",\"\\ud83e\\udd70\",\"\\ud83e\\udd70\",\"\\ud83e\\udd70\",\"\\ud83e\\udd70\",\"\\ud83e\\udd70\",\"\\ud83e\\udd70\",\"\\ud83e\\udd70\",\"\\ud83e\\udd70\",\"\\ud83e\\udd70\",\"\\ud83e\\udd70\",\"\\ud83e\\udd70\",\"\\ud83e\\udd70\",\"\\ud83e\\udd70\",\"\\ud83e\\udd70\",\"\\ud83e\\udd70\",\"\\ud83e\\udd70\",\"\\ud83e\\udd70\",\"\\ud83e\\udd70\",\"\\ud83e\\udd70\"],\"type\":\"scattergeo\"},{\"customdata\":[[\"Argentina\",\"South America\",2008,5.961034297943115,\"\\ud83e\\udd16\",\"ARG\"],[\"Armenia\",\"Asia\",2008,4.65197229385376,\"\\ud83e\\udd16\",\"ARM\"],[\"Azerbaijan\",\"Asia\",2008,4.8171892166137695,\"\\ud83e\\udd16\",\"AZE\"],[\"Bangladesh\",\"Asia\",2008,5.052278518676758,\"\\ud83e\\udd16\",\"BGD\"],[\"Belarus\",\"Europe\",2008,5.463332176208496,\"\\ud83e\\udd16\",\"BLR\"],[\"Bolivia\",\"South America\",2008,5.297872543334961,\"\\ud83e\\udd16\",\"BOL\"],[\"Botswana\",\"Africa\",2008,5.451147079467773,\"\\ud83e\\udd16\",\"BWA\"],[\"Chad\",\"Africa\",2008,4.632468223571777,\"\\ud83e\\udd16\",\"TCD\"],[\"Chile\",\"South America\",2008,5.789438724517822,\"\\ud83e\\udd16\",\"CHL\"],[\"China\",\"Asia\",2008,4.84629487991333,\"\\ud83e\\udd16\",\"CHN\"],[\"Djibouti\",null,2008,5.0093302726745605,\"\\ud83e\\udd16\",\"DJI\"],[\"Dominican Republic\",\"South America\",2008,4.842305660247803,\"\\ud83e\\udd16\",\"DOM\"],[\"Ecuador\",\"South America\",2008,5.296513080596924,\"\\ud83e\\udd16\",\"ECU\"],[\"El Salvador\",\"South America\",2008,5.191493988037109,\"\\ud83e\\udd16\",\"SLV\"],[\"Estonia\",\"Europe\",2008,5.451937675476074,\"\\ud83e\\udd16\",\"EST\"],[\"Ghana\",\"Africa\",2008,4.965134620666504,\"\\ud83e\\udd16\",\"GHA\"],[\"Honduras\",\"South America\",2008,5.420331001281738,\"\\ud83e\\udd16\",\"HND\"],[\"India\",\"Asia\",2008,5.145833015441895,\"\\ud83e\\udd16\",\"IND\"],[\"Indonesia\",\"Asia\",2008,4.815309524536133,\"\\ud83e\\udd16\",\"IDN\"],[\"Iraq\",\"Asia\",2008,4.589844703674316,\"\\ud83e\\udd16\",\"IRQ\"],[\"Japan\",\"Asia\",2008,5.910679340362549,\"\\ud83e\\udd16\",\"JPN\"],[\"Jordan\",\"Asia\",2008,4.930058002471924,\"\\ud83e\\udd16\",\"JOR\"],[\"Kazakhstan\",\"Asia\",2008,5.886419773101807,\"\\ud83e\\udd16\",\"KAZ\"],[\"Kosovo\",\"Europe\",2008,5.521659851074219,\"\\ud83e\\udd16\",\"XKX\"],[\"Latvia\",\"Europe\",2008,5.14537525177002,\"\\ud83e\\udd16\",\"LVA\"],[\"Lebanon\",\"Asia\",2008,4.594851016998291,\"\\ud83e\\udd16\",\"LBN\"],[\"Lithuania\",\"Europe\",2008,5.55392599105835,\"\\ud83e\\udd16\",\"LTU\"],[\"Madagascar\",\"Africa\",2008,4.640079021453857,\"\\ud83e\\udd16\",\"MDG\"],[\"Malaysia\",\"Asia\",2008,5.806781768798828,\"\\ud83e\\udd16\",\"MYS\"],[\"Moldova\",\"Europe\",2008,5.502756118774414,\"\\ud83e\\udd16\",\"MDA\"],[\"Mozambique\",null,2008,4.65358304977417,\"\\ud83e\\udd16\",\"MOZ\"],[\"Nicaragua\",\"South America\",2008,5.103827476501465,\"\\ud83e\\udd16\",\"NIC\"],[\"Nigeria\",\"Africa\",2008,4.938560485839844,\"\\ud83e\\udd16\",\"NGA\"],[\"Paraguay\",\"South America\",2008,5.570061683654785,\"\\ud83e\\udd16\",\"PRY\"],[\"Peru\",\"South America\",2008,5.129230976104736,\"\\ud83e\\udd16\",\"PER\"],[\"Philippines\",\"Asia\",2008,4.589065074920654,\"\\ud83e\\udd16\",\"PHL\"],[\"Portugal\",\"Europe\",2008,5.71696662902832,\"\\ud83e\\udd16\",\"PRT\"],[\"Senegal\",\"Africa\",2008,4.683499813079834,\"\\ud83e\\udd16\",\"SEN\"],[\"South Africa\",\"Africa\",2008,5.346306800842285,\"\\ud83e\\udd16\",\"ZAF\"],[\"Tajikistan\",\"Asia\",2008,5.063986778259277,\"\\ud83e\\udd16\",\"TJK\"],[\"Thailand\",\"Asia\",2008,5.636471271514893,\"\\ud83e\\udd16\",\"THA\"],[\"Uganda\",\"Africa\",2008,4.568619251251221,\"\\ud83e\\udd16\",\"UGA\"],[\"Ukraine\",\"Europe\",2008,5.172380447387695,\"\\ud83e\\udd16\",\"UKR\"],[\"Uruguay\",\"South America\",2008,5.663869857788086,\"\\ud83e\\udd16\",\"URY\"],[\"Uzbekistan\",\"Asia\",2008,5.311368465423584,\"\\ud83e\\udd16\",\"UZB\"],[\"Vietnam\",\"Asia\",2008,5.480425357818604,\"\\ud83e\\udd16\",\"VNM\"],[\"Zambia\",\"Africa\",2008,4.730263233184815,\"\\ud83e\\udd16\",\"ZMB\"]],\"geo\":\"geo\",\"hovertemplate\":\"<b>%{hovertext}</b><br><br>emoji=%{customdata[4]}<br>year=%{customdata[2]}<br>Happiness Score=%{customdata[3]}<br>continent=%{customdata[1]}<extra></extra>\",\"hovertext\":[\"Argentina\",\"Armenia\",\"Azerbaijan\",\"Bangladesh\",\"Belarus\",\"Bolivia\",\"Botswana\",\"Chad\",\"Chile\",\"China\",\"Djibouti\",\"Dominican Republic\",\"Ecuador\",\"El Salvador\",\"Estonia\",\"Ghana\",\"Honduras\",\"India\",\"Indonesia\",\"Iraq\",\"Japan\",\"Jordan\",\"Kazakhstan\",\"Kosovo\",\"Latvia\",\"Lebanon\",\"Lithuania\",\"Madagascar\",\"Malaysia\",\"Moldova\",\"Mozambique\",\"Nicaragua\",\"Nigeria\",\"Paraguay\",\"Peru\",\"Philippines\",\"Portugal\",\"Senegal\",\"South Africa\",\"Tajikistan\",\"Thailand\",\"Uganda\",\"Ukraine\",\"Uruguay\",\"Uzbekistan\",\"Vietnam\",\"Zambia\"],\"legendgroup\":\"\\ud83e\\udd16\",\"locations\":[\"ARG\",\"ARM\",\"AZE\",\"BGD\",\"BLR\",\"BOL\",\"BWA\",\"TCD\",\"CHL\",\"CHN\",\"DJI\",\"DOM\",\"ECU\",\"SLV\",\"EST\",\"GHA\",\"HND\",\"IND\",\"IDN\",\"IRQ\",\"JPN\",\"JOR\",\"KAZ\",\"XKX\",\"LVA\",\"LBN\",\"LTU\",\"MDG\",\"MYS\",\"MDA\",\"MOZ\",\"NIC\",\"NGA\",\"PRY\",\"PER\",\"PHL\",\"PRT\",\"SEN\",\"ZAF\",\"TJK\",\"THA\",\"UGA\",\"UKR\",\"URY\",\"UZB\",\"VNM\",\"ZMB\"],\"marker\":{\"color\":\"#EF553B\",\"size\":[5.961034297943115,4.65197229385376,4.8171892166137695,5.052278518676758,5.463332176208496,5.297872543334961,5.451147079467773,4.632468223571777,5.789438724517822,4.84629487991333,5.0093302726745605,4.842305660247803,5.296513080596924,5.191493988037109,5.451937675476074,4.965134620666504,5.420331001281738,5.145833015441895,4.815309524536133,4.589844703674316,5.910679340362549,4.930058002471924,5.886419773101807,5.521659851074219,5.14537525177002,4.594851016998291,5.55392599105835,4.640079021453857,5.806781768798828,5.502756118774414,4.65358304977417,5.103827476501465,4.938560485839844,5.570061683654785,5.129230976104736,4.589065074920654,5.71696662902832,4.683499813079834,5.346306800842285,5.063986778259277,5.636471271514893,4.568619251251221,5.172380447387695,5.663869857788086,5.311368465423584,5.480425357818604,4.730263233184815],\"sizemode\":\"area\",\"sizeref\":7.970891952514648,\"symbol\":\"circle\"},\"mode\":\"markers+text\",\"name\":\"\\ud83e\\udd16\",\"showlegend\":true,\"text\":[\"\\ud83e\\udd16\",\"\\ud83e\\udd16\",\"\\ud83e\\udd16\",\"\\ud83e\\udd16\",\"\\ud83e\\udd16\",\"\\ud83e\\udd16\",\"\\ud83e\\udd16\",\"\\ud83e\\udd16\",\"\\ud83e\\udd16\",\"\\ud83e\\udd16\",\"\\ud83e\\udd16\",\"\\ud83e\\udd16\",\"\\ud83e\\udd16\",\"\\ud83e\\udd16\",\"\\ud83e\\udd16\",\"\\ud83e\\udd16\",\"\\ud83e\\udd16\",\"\\ud83e\\udd16\",\"\\ud83e\\udd16\",\"\\ud83e\\udd16\",\"\\ud83e\\udd16\",\"\\ud83e\\udd16\",\"\\ud83e\\udd16\",\"\\ud83e\\udd16\",\"\\ud83e\\udd16\",\"\\ud83e\\udd16\",\"\\ud83e\\udd16\",\"\\ud83e\\udd16\",\"\\ud83e\\udd16\",\"\\ud83e\\udd16\",\"\\ud83e\\udd16\",\"\\ud83e\\udd16\",\"\\ud83e\\udd16\",\"\\ud83e\\udd16\",\"\\ud83e\\udd16\",\"\\ud83e\\udd16\",\"\\ud83e\\udd16\",\"\\ud83e\\udd16\",\"\\ud83e\\udd16\",\"\\ud83e\\udd16\",\"\\ud83e\\udd16\",\"\\ud83e\\udd16\",\"\\ud83e\\udd16\",\"\\ud83e\\udd16\",\"\\ud83e\\udd16\",\"\\ud83e\\udd16\",\"\\ud83e\\udd16\"],\"type\":\"scattergeo\"},{\"customdata\":[[\"Afghanistan\",\"Asia\",2008,3.7235898971557617,\"\\ud83e\\udd22\",\"AFG\"],[\"Benin\",\"Africa\",2008,3.6671395301818848,\"\\ud83e\\udd22\",\"BEN\"],[\"Burkina Faso\",\"Africa\",2008,3.8464388847351074,\"\\ud83e\\udd22\",\"BFA\"],[\"Burundi\",\"Africa\",2008,3.563227653503418,\"\\ud83e\\udd22\",\"BDI\"],[\"Cambodia\",\"Asia\",2008,4.462163925170898,\"\\ud83e\\udd22\",\"KHM\"],[\"Cameroon\",\"Africa\",2008,4.291800498962402,\"\\ud83e\\udd22\",\"CMR\"],[\"Georgia\",\"Asia\",2008,4.156090259552002,\"\\ud83e\\udd22\",\"GEO\"],[\"Haiti\",\"South America\",2008,3.8463292121887207,\"\\ud83e\\udd22\",\"HTI\"],[\"Kenya\",\"Africa\",2008,4.015274524688721,\"\\ud83e\\udd22\",\"KEN\"],[\"Liberia\",\"Africa\",2008,4.221354007720947,\"\\ud83e\\udd22\",\"LBR\"],[\"Mali\",\"Africa\",2008,4.114664077758789,\"\\ud83e\\udd22\",\"MLI\"],[\"Mauritania\",\"Africa\",2008,4.248075008392334,\"\\ud83e\\udd22\",\"MRT\"],[\"Mongolia\",\"Asia\",2008,4.4930100440979,\"\\ud83e\\udd22\",\"MNG\"],[\"Nepal\",\"Asia\",2008,4.440526485443115,\"\\ud83e\\udd22\",\"NPL\"],[\"Niger\",\"Africa\",2008,4.235657215118408,\"\\ud83e\\udd22\",\"NER\"],[\"Pakistan\",\"Asia\",2008,4.413918972015381,\"\\ud83e\\udd22\",\"PAK\"],[\"Rwanda\",\"Africa\",2008,4.3629889488220215,\"\\ud83e\\udd22\",\"RWA\"],[\"Sierra Leone\",\"Africa\",2008,2.997251033782959,\"\\ud83e\\udd22\",\"SLE\"],[\"Sri Lanka\",\"Asia\",2008,4.430846214294434,\"\\ud83e\\udd22\",\"LKA\"],[\"Tanzania\",\"Africa\",2008,4.38474178314209,\"\\ud83e\\udd22\",\"TZA\"],[\"Togo\",\"Africa\",2008,2.807855129241944,\"\\ud83e\\udd22\",\"TGO\"],[\"Zimbabwe\",\"Africa\",2008,3.1742637157440186,\"\\ud83e\\udd22\",\"ZWE\"]],\"geo\":\"geo\",\"hovertemplate\":\"<b>%{hovertext}</b><br><br>emoji=%{customdata[4]}<br>year=%{customdata[2]}<br>Happiness Score=%{customdata[3]}<br>continent=%{customdata[1]}<extra></extra>\",\"hovertext\":[\"Afghanistan\",\"Benin\",\"Burkina Faso\",\"Burundi\",\"Cambodia\",\"Cameroon\",\"Georgia\",\"Haiti\",\"Kenya\",\"Liberia\",\"Mali\",\"Mauritania\",\"Mongolia\",\"Nepal\",\"Niger\",\"Pakistan\",\"Rwanda\",\"Sierra Leone\",\"Sri Lanka\",\"Tanzania\",\"Togo\",\"Zimbabwe\"],\"legendgroup\":\"\\ud83e\\udd22\",\"locations\":[\"AFG\",\"BEN\",\"BFA\",\"BDI\",\"KHM\",\"CMR\",\"GEO\",\"HTI\",\"KEN\",\"LBR\",\"MLI\",\"MRT\",\"MNG\",\"NPL\",\"NER\",\"PAK\",\"RWA\",\"SLE\",\"LKA\",\"TZA\",\"TGO\",\"ZWE\"],\"marker\":{\"color\":\"#00cc96\",\"size\":[3.7235898971557617,3.6671395301818848,3.8464388847351074,3.563227653503418,4.462163925170898,4.291800498962402,4.156090259552002,3.8463292121887207,4.015274524688721,4.221354007720947,4.114664077758789,4.248075008392334,4.4930100440979,4.440526485443115,4.235657215118408,4.413918972015381,4.3629889488220215,2.997251033782959,4.430846214294434,4.38474178314209,2.807855129241944,3.1742637157440186],\"sizemode\":\"area\",\"sizeref\":7.970891952514648,\"symbol\":\"circle\"},\"mode\":\"markers+text\",\"name\":\"\\ud83e\\udd22\",\"showlegend\":true,\"text\":[\"\\ud83e\\udd22\",\"\\ud83e\\udd22\",\"\\ud83e\\udd22\",\"\\ud83e\\udd22\",\"\\ud83e\\udd22\",\"\\ud83e\\udd22\",\"\\ud83e\\udd22\",\"\\ud83e\\udd22\",\"\\ud83e\\udd22\",\"\\ud83e\\udd22\",\"\\ud83e\\udd22\",\"\\ud83e\\udd22\",\"\\ud83e\\udd22\",\"\\ud83e\\udd22\",\"\\ud83e\\udd22\",\"\\ud83e\\udd22\",\"\\ud83e\\udd22\",\"\\ud83e\\udd22\",\"\\ud83e\\udd22\",\"\\ud83e\\udd22\",\"\\ud83e\\udd22\",\"\\ud83e\\udd22\"],\"type\":\"scattergeo\"}],\"name\":\"2008\"},{\"data\":[{\"customdata\":[[\"Argentina\",\"South America\",2009,6.42413330078125,\"\\ud83e\\udd70\",\"ARG\"],[\"Bolivia\",\"South America\",2009,6.0855793952941895,\"\\ud83e\\udd70\",\"BOL\"],[\"Brazil\",\"South America\",2009,7.000831604003906,\"\\ud83e\\udd70\",\"BRA\"],[\"Canada\",\"North America\",2009,7.487824440002441,\"\\ud83e\\udd70\",\"CAN\"],[\"Chile\",\"South America\",2009,6.493686199188232,\"\\ud83e\\udd70\",\"CHL\"],[\"Colombia\",\"South America\",2009,6.271604537963867,\"\\ud83e\\udd70\",\"COL\"],[\"Costa Rica\",\"South America\",2009,7.614928722381592,\"\\ud83e\\udd70\",\"CRI\"],[\"Cyprus\",\"Asia\",2009,6.83347749710083,\"\\ud83e\\udd70\",\"CYP\"],[\"Denmark\",\"Europe\",2009,7.683358669281006,\"\\ud83e\\udd70\",\"DNK\"],[\"Ecuador\",\"South America\",2009,6.021803379058838,\"\\ud83e\\udd70\",\"ECU\"],[\"El Salvador\",\"South America\",2009,6.839087009429932,\"\\ud83e\\udd70\",\"SLV\"],[\"France\",\"Europe\",2009,6.283498287200928,\"\\ud83e\\udd70\",\"FRA\"],[\"Germany\",\"Europe\",2009,6.641493320465088,\"\\ud83e\\udd70\",\"DEU\"],[\"Greece\",\"Europe\",2009,6.038574695587158,\"\\ud83e\\udd70\",\"GRC\"],[\"Guatemala\",\"South America\",2009,6.451916217803955,\"\\ud83e\\udd70\",\"GTM\"],[\"Honduras\",\"South America\",2009,6.033189296722412,\"\\ud83e\\udd70\",\"HND\"],[\"Ireland\",\"Europe\",2009,7.045911312103272,\"\\ud83e\\udd70\",\"IRL\"],[\"Israel\",\"Asia\",2009,7.352979183197021,\"\\ud83e\\udd70\",\"ISR\"],[\"Italy\",\"Europe\",2009,6.333800315856934,\"\\ud83e\\udd70\",\"ITA\"],[\"Kuwait\",\"Asia\",2009,6.5852460861206055,\"\\ud83e\\udd70\",\"KWT\"],[\"Luxembourg\",\"Europe\",2009,6.957920074462891,\"\\ud83e\\udd70\",\"LUX\"],[\"Malta\",\"Europe\",2009,6.327639579772949,\"\\ud83e\\udd70\",\"MLT\"],[\"Mexico\",\"North America\",2009,6.9628190994262695,\"\\ud83e\\udd70\",\"MEX\"],[\"Panama\",\"South America\",2009,7.033740043640137,\"\\ud83e\\udd70\",\"PAN\"],[\"Qatar\",null,2009,6.4178242683410645,\"\\ud83e\\udd70\",\"QAT\"],[\"Saudi Arabia\",\"Asia\",2009,6.147590160369873,\"\\ud83e\\udd70\",\"SAU\"],[\"Singapore\",\"Asia\",2009,6.144676685333252,\"\\ud83e\\udd70\",\"SGP\"],[\"Spain\",\"Europe\",2009,6.198601245880127,\"\\ud83e\\udd70\",\"ESP\"],[\"Sweden\",\"Europe\",2009,7.265977382659912,\"\\ud83e\\udd70\",\"SWE\"],[\"Switzerland\",\"Europe\",2009,7.524520874023437,\"\\ud83e\\udd70\",\"CHE\"],[\"Turkmenistan\",\"Asia\",2009,6.567713260650635,\"\\ud83e\\udd70\",\"TKM\"],[\"United Arab Emirates\",\"Asia\",2009,6.866062641143799,\"\\ud83e\\udd70\",\"ARE\"],[\"United Kingdom\",\"Europe\",2009,6.9065470695495605,\"\\ud83e\\udd70\",\"GBR\"],[\"United States\",\"North America\",2009,7.158032417297363,\"\\ud83e\\udd70\",\"USA\"],[\"Uruguay\",\"South America\",2009,6.296222686767578,\"\\ud83e\\udd70\",\"URY\"]],\"geo\":\"geo\",\"hovertemplate\":\"<b>%{hovertext}</b><br><br>emoji=%{customdata[4]}<br>year=%{customdata[2]}<br>Happiness Score=%{customdata[3]}<br>continent=%{customdata[1]}<extra></extra>\",\"hovertext\":[\"Argentina\",\"Bolivia\",\"Brazil\",\"Canada\",\"Chile\",\"Colombia\",\"Costa Rica\",\"Cyprus\",\"Denmark\",\"Ecuador\",\"El Salvador\",\"France\",\"Germany\",\"Greece\",\"Guatemala\",\"Honduras\",\"Ireland\",\"Israel\",\"Italy\",\"Kuwait\",\"Luxembourg\",\"Malta\",\"Mexico\",\"Panama\",\"Qatar\",\"Saudi Arabia\",\"Singapore\",\"Spain\",\"Sweden\",\"Switzerland\",\"Turkmenistan\",\"United Arab Emirates\",\"United Kingdom\",\"United States\",\"Uruguay\"],\"legendgroup\":\"\\ud83e\\udd70\",\"locations\":[\"ARG\",\"BOL\",\"BRA\",\"CAN\",\"CHL\",\"COL\",\"CRI\",\"CYP\",\"DNK\",\"ECU\",\"SLV\",\"FRA\",\"DEU\",\"GRC\",\"GTM\",\"HND\",\"IRL\",\"ISR\",\"ITA\",\"KWT\",\"LUX\",\"MLT\",\"MEX\",\"PAN\",\"QAT\",\"SAU\",\"SGP\",\"ESP\",\"SWE\",\"CHE\",\"TKM\",\"ARE\",\"GBR\",\"USA\",\"URY\"],\"marker\":{\"color\":\"#636efa\",\"size\":[6.42413330078125,6.0855793952941895,7.000831604003906,7.487824440002441,6.493686199188232,6.271604537963867,7.614928722381592,6.83347749710083,7.683358669281006,6.021803379058838,6.839087009429932,6.283498287200928,6.641493320465088,6.038574695587158,6.451916217803955,6.033189296722412,7.045911312103272,7.352979183197021,6.333800315856934,6.5852460861206055,6.957920074462891,6.327639579772949,6.9628190994262695,7.033740043640137,6.4178242683410645,6.147590160369873,6.144676685333252,6.198601245880127,7.265977382659912,7.524520874023437,6.567713260650635,6.866062641143799,6.9065470695495605,7.158032417297363,6.296222686767578],\"sizemode\":\"area\",\"sizeref\":7.970891952514648,\"symbol\":\"circle\"},\"mode\":\"markers+text\",\"name\":\"\\ud83e\\udd70\",\"showlegend\":true,\"text\":[\"\\ud83e\\udd70\",\"\\ud83e\\udd70\",\"\\ud83e\\udd70\",\"\\ud83e\\udd70\",\"\\ud83e\\udd70\",\"\\ud83e\\udd70\",\"\\ud83e\\udd70\",\"\\ud83e\\udd70\",\"\\ud83e\\udd70\",\"\\ud83e\\udd70\",\"\\ud83e\\udd70\",\"\\ud83e\\udd70\",\"\\ud83e\\udd70\",\"\\ud83e\\udd70\",\"\\ud83e\\udd70\",\"\\ud83e\\udd70\",\"\\ud83e\\udd70\",\"\\ud83e\\udd70\",\"\\ud83e\\udd70\",\"\\ud83e\\udd70\",\"\\ud83e\\udd70\",\"\\ud83e\\udd70\",\"\\ud83e\\udd70\",\"\\ud83e\\udd70\",\"\\ud83e\\udd70\",\"\\ud83e\\udd70\",\"\\ud83e\\udd70\",\"\\ud83e\\udd70\",\"\\ud83e\\udd70\",\"\\ud83e\\udd70\",\"\\ud83e\\udd70\",\"\\ud83e\\udd70\",\"\\ud83e\\udd70\",\"\\ud83e\\udd70\",\"\\ud83e\\udd70\"],\"type\":\"scattergeo\"},{\"customdata\":[[\"Albania\",\"Europe\",2009,5.485469818115234,\"\\ud83e\\udd16\",\"ALB\"],[\"Azerbaijan\",\"Asia\",2009,4.57372522354126,\"\\ud83e\\udd16\",\"AZE\"],[\"Bahrain\",\"Asia\",2009,5.700523376464844,\"\\ud83e\\udd16\",\"BHR\"],[\"Bangladesh\",\"Asia\",2009,5.082851409912109,\"\\ud83e\\udd16\",\"BGD\"],[\"Belarus\",\"Europe\",2009,5.564131259918213,\"\\ud83e\\udd16\",\"BLR\"],[\"Bosnia and Herzegovina\",\"Europe\",2009,4.96347713470459,\"\\ud83e\\udd16\",\"BIH\"],[\"Cameroon\",\"Africa\",2009,4.741408348083496,\"\\ud83e\\udd16\",\"CMR\"],[\"Croatia\",\"Europe\",2009,5.433319568634033,\"\\ud83e\\udd16\",\"HRV\"],[\"Djibouti\",null,2009,4.905925273895264,\"\\ud83e\\udd16\",\"DJI\"],[\"Dominican Republic\",\"South America\",2009,5.431613922119141,\"\\ud83e\\udd16\",\"DOM\"],[\"Estonia\",\"Europe\",2009,5.1377387046813965,\"\\ud83e\\udd16\",\"EST\"],[\"Hungary\",\"Europe\",2009,4.89460039138794,\"\\ud83e\\udd16\",\"HUN\"],[\"India\",\"Asia\",2009,4.521517753601074,\"\\ud83e\\udd16\",\"IND\"],[\"Indonesia\",\"Asia\",2009,5.472361087799072,\"\\ud83e\\udd16\",\"IDN\"],[\"Iraq\",\"Asia\",2009,4.775316715240479,\"\\ud83e\\udd16\",\"IRQ\"],[\"Japan\",\"Asia\",2009,5.844999313354492,\"\\ud83e\\udd16\",\"JPN\"],[\"Jordan\",\"Asia\",2009,5.99985933303833,\"\\ud83e\\udd16\",\"JOR\"],[\"Kazakhstan\",\"Asia\",2009,5.38256311416626,\"\\ud83e\\udd16\",\"KAZ\"],[\"Kosovo\",\"Europe\",2009,5.891432762145996,\"\\ud83e\\udd16\",\"XKX\"],[\"Latvia\",\"Europe\",2009,4.668910503387451,\"\\ud83e\\udd16\",\"LVA\"],[\"Lebanon\",\"Asia\",2009,5.20599889755249,\"\\ud83e\\udd16\",\"LBN\"],[\"Lithuania\",\"Europe\",2009,5.466920852661133,\"\\ud83e\\udd16\",\"LTU\"],[\"Malawi\",\"Africa\",2009,5.148239612579346,\"\\ud83e\\udd16\",\"MWI\"],[\"Malaysia\",\"Asia\",2009,5.384701728820801,\"\\ud83e\\udd16\",\"MYS\"],[\"Mauritania\",\"Africa\",2009,4.500431537628174,\"\\ud83e\\udd16\",\"MRT\"],[\"Moldova\",\"Europe\",2009,5.5543742179870605,\"\\ud83e\\udd16\",\"MDA\"],[\"Montenegro\",\"Europe\",2009,4.801060199737549,\"\\ud83e\\udd16\",\"MNE\"],[\"Nepal\",\"Asia\",2009,4.916868209838867,\"\\ud83e\\udd16\",\"NPL\"],[\"Nicaragua\",\"South America\",2009,5.352804660797119,\"\\ud83e\\udd16\",\"NIC\"],[\"Nigeria\",\"Africa\",2009,4.980220317840576,\"\\ud83e\\udd16\",\"NGA\"],[\"Pakistan\",\"Asia\",2009,5.208146572113037,\"\\ud83e\\udd16\",\"PAK\"],[\"Paraguay\",\"South America\",2009,5.576147079467773,\"\\ud83e\\udd16\",\"PRY\"],[\"Peru\",\"South America\",2009,5.5188469886779785,\"\\ud83e\\udd16\",\"PER\"],[\"Philippines\",\"Asia\",2009,4.879910945892334,\"\\ud83e\\udd16\",\"PHL\"],[\"Poland\",\"Europe\",2009,5.772027492523193,\"\\ud83e\\udd16\",\"POL\"],[\"Romania\",\"Europe\",2009,5.367565155029297,\"\\ud83e\\udd16\",\"ROU\"],[\"Slovenia\",\"Europe\",2009,5.830160617828369,\"\\ud83e\\udd16\",\"SVN\"],[\"South Africa\",\"Africa\",2009,5.218430995941162,\"\\ud83e\\udd16\",\"ZAF\"],[\"Tajikistan\",\"Asia\",2009,4.575174808502197,\"\\ud83e\\udd16\",\"TJK\"],[\"Thailand\",\"Asia\",2009,5.475645065307617,\"\\ud83e\\udd16\",\"THA\"],[\"Tunisia\",\"Africa\",2009,5.02547025680542,\"\\ud83e\\udd16\",\"TUN\"],[\"Uganda\",\"Africa\",2009,4.611985683441162,\"\\ud83e\\udd16\",\"UGA\"],[\"Ukraine\",\"Europe\",2009,5.165639400482178,\"\\ud83e\\udd16\",\"UKR\"],[\"Uzbekistan\",\"Asia\",2009,5.260720729827881,\"\\ud83e\\udd16\",\"UZB\"],[\"Vietnam\",\"Asia\",2009,5.304264545440674,\"\\ud83e\\udd16\",\"VNM\"],[\"Zambia\",\"Africa\",2009,5.2603607177734375,\"\\ud83e\\udd16\",\"ZMB\"]],\"geo\":\"geo\",\"hovertemplate\":\"<b>%{hovertext}</b><br><br>emoji=%{customdata[4]}<br>year=%{customdata[2]}<br>Happiness Score=%{customdata[3]}<br>continent=%{customdata[1]}<extra></extra>\",\"hovertext\":[\"Albania\",\"Azerbaijan\",\"Bahrain\",\"Bangladesh\",\"Belarus\",\"Bosnia and Herzegovina\",\"Cameroon\",\"Croatia\",\"Djibouti\",\"Dominican Republic\",\"Estonia\",\"Hungary\",\"India\",\"Indonesia\",\"Iraq\",\"Japan\",\"Jordan\",\"Kazakhstan\",\"Kosovo\",\"Latvia\",\"Lebanon\",\"Lithuania\",\"Malawi\",\"Malaysia\",\"Mauritania\",\"Moldova\",\"Montenegro\",\"Nepal\",\"Nicaragua\",\"Nigeria\",\"Pakistan\",\"Paraguay\",\"Peru\",\"Philippines\",\"Poland\",\"Romania\",\"Slovenia\",\"South Africa\",\"Tajikistan\",\"Thailand\",\"Tunisia\",\"Uganda\",\"Ukraine\",\"Uzbekistan\",\"Vietnam\",\"Zambia\"],\"legendgroup\":\"\\ud83e\\udd16\",\"locations\":[\"ALB\",\"AZE\",\"BHR\",\"BGD\",\"BLR\",\"BIH\",\"CMR\",\"HRV\",\"DJI\",\"DOM\",\"EST\",\"HUN\",\"IND\",\"IDN\",\"IRQ\",\"JPN\",\"JOR\",\"KAZ\",\"XKX\",\"LVA\",\"LBN\",\"LTU\",\"MWI\",\"MYS\",\"MRT\",\"MDA\",\"MNE\",\"NPL\",\"NIC\",\"NGA\",\"PAK\",\"PRY\",\"PER\",\"PHL\",\"POL\",\"ROU\",\"SVN\",\"ZAF\",\"TJK\",\"THA\",\"TUN\",\"UGA\",\"UKR\",\"UZB\",\"VNM\",\"ZMB\"],\"marker\":{\"color\":\"#EF553B\",\"size\":[5.485469818115234,4.57372522354126,5.700523376464844,5.082851409912109,5.564131259918213,4.96347713470459,4.741408348083496,5.433319568634033,4.905925273895264,5.431613922119141,5.1377387046813965,4.89460039138794,4.521517753601074,5.472361087799072,4.775316715240479,5.844999313354492,5.99985933303833,5.38256311416626,5.891432762145996,4.668910503387451,5.20599889755249,5.466920852661133,5.148239612579346,5.384701728820801,4.500431537628174,5.5543742179870605,4.801060199737549,4.916868209838867,5.352804660797119,4.980220317840576,5.208146572113037,5.576147079467773,5.5188469886779785,4.879910945892334,5.772027492523193,5.367565155029297,5.830160617828369,5.218430995941162,4.575174808502197,5.475645065307617,5.02547025680542,4.611985683441162,5.165639400482178,5.260720729827881,5.304264545440674,5.2603607177734375],\"sizemode\":\"area\",\"sizeref\":7.970891952514648,\"symbol\":\"circle\"},\"mode\":\"markers+text\",\"name\":\"\\ud83e\\udd16\",\"showlegend\":true,\"text\":[\"\\ud83e\\udd16\",\"\\ud83e\\udd16\",\"\\ud83e\\udd16\",\"\\ud83e\\udd16\",\"\\ud83e\\udd16\",\"\\ud83e\\udd16\",\"\\ud83e\\udd16\",\"\\ud83e\\udd16\",\"\\ud83e\\udd16\",\"\\ud83e\\udd16\",\"\\ud83e\\udd16\",\"\\ud83e\\udd16\",\"\\ud83e\\udd16\",\"\\ud83e\\udd16\",\"\\ud83e\\udd16\",\"\\ud83e\\udd16\",\"\\ud83e\\udd16\",\"\\ud83e\\udd16\",\"\\ud83e\\udd16\",\"\\ud83e\\udd16\",\"\\ud83e\\udd16\",\"\\ud83e\\udd16\",\"\\ud83e\\udd16\",\"\\ud83e\\udd16\",\"\\ud83e\\udd16\",\"\\ud83e\\udd16\",\"\\ud83e\\udd16\",\"\\ud83e\\udd16\",\"\\ud83e\\udd16\",\"\\ud83e\\udd16\",\"\\ud83e\\udd16\",\"\\ud83e\\udd16\",\"\\ud83e\\udd16\",\"\\ud83e\\udd16\",\"\\ud83e\\udd16\",\"\\ud83e\\udd16\",\"\\ud83e\\udd16\",\"\\ud83e\\udd16\",\"\\ud83e\\udd16\",\"\\ud83e\\udd16\",\"\\ud83e\\udd16\",\"\\ud83e\\udd16\",\"\\ud83e\\udd16\",\"\\ud83e\\udd16\",\"\\ud83e\\udd16\",\"\\ud83e\\udd16\"],\"type\":\"scattergeo\"},{\"customdata\":[[\"Afghanistan\",\"Asia\",2009,4.401778221130371,\"\\ud83e\\udd22\",\"AFG\"],[\"Armenia\",\"Asia\",2009,4.177581787109375,\"\\ud83e\\udd22\",\"ARM\"],[\"Burundi\",\"Africa\",2009,3.791680812835693,\"\\ud83e\\udd22\",\"BDI\"],[\"Cambodia\",\"Asia\",2009,4.110625743865967,\"\\ud83e\\udd22\",\"KHM\"],[\"Chad\",\"Africa\",2009,3.6394450664520255,\"\\ud83e\\udd22\",\"TCD\"],[\"China\",\"Asia\",2009,4.454360961914063,\"\\ud83e\\udd22\",\"CHN\"],[\"Comoros\",null,2009,3.476027250289917,\"\\ud83e\\udd22\",\"COM\"],[\"Georgia\",\"Asia\",2009,3.800639152526856,\"\\ud83e\\udd22\",\"GEO\"],[\"Ghana\",\"Africa\",2009,4.197695732116699,\"\\ud83e\\udd22\",\"GHA\"],[\"Kenya\",\"Africa\",2009,4.270434856414795,\"\\ud83e\\udd22\",\"KEN\"],[\"Mali\",\"Africa\",2009,3.976598501205444,\"\\ud83e\\udd22\",\"MLI\"],[\"Niger\",\"Africa\",2009,4.267169952392578,\"\\ud83e\\udd22\",\"NER\"],[\"North Macedonia\",null,2009,4.4280219078063965,\"\\ud83e\\udd22\",\"MKD\"],[\"Rwanda\",\"Africa\",2009,4.029761791229248,\"\\ud83e\\udd22\",\"RWA\"],[\"Senegal\",\"Africa\",2009,4.335114002227783,\"\\ud83e\\udd22\",\"SEN\"],[\"Serbia\",\"Europe\",2009,4.380311965942383,\"\\ud83e\\udd22\",\"SRB\"],[\"Sri Lanka\",\"Asia\",2009,4.212026596069336,\"\\ud83e\\udd22\",\"LKA\"],[\"Sudan\",null,2009,4.4549174308776855,\"\\ud83e\\udd22\",\"SDN\"],[\"Tanzania\",\"Africa\",2009,3.40750789642334,\"\\ud83e\\udd22\",\"TZA\"],[\"Zimbabwe\",\"Africa\",2009,4.055914402008057,\"\\ud83e\\udd22\",\"ZWE\"]],\"geo\":\"geo\",\"hovertemplate\":\"<b>%{hovertext}</b><br><br>emoji=%{customdata[4]}<br>year=%{customdata[2]}<br>Happiness Score=%{customdata[3]}<br>continent=%{customdata[1]}<extra></extra>\",\"hovertext\":[\"Afghanistan\",\"Armenia\",\"Burundi\",\"Cambodia\",\"Chad\",\"China\",\"Comoros\",\"Georgia\",\"Ghana\",\"Kenya\",\"Mali\",\"Niger\",\"North Macedonia\",\"Rwanda\",\"Senegal\",\"Serbia\",\"Sri Lanka\",\"Sudan\",\"Tanzania\",\"Zimbabwe\"],\"legendgroup\":\"\\ud83e\\udd22\",\"locations\":[\"AFG\",\"ARM\",\"BDI\",\"KHM\",\"TCD\",\"CHN\",\"COM\",\"GEO\",\"GHA\",\"KEN\",\"MLI\",\"NER\",\"MKD\",\"RWA\",\"SEN\",\"SRB\",\"LKA\",\"SDN\",\"TZA\",\"ZWE\"],\"marker\":{\"color\":\"#00cc96\",\"size\":[4.401778221130371,4.177581787109375,3.791680812835693,4.110625743865967,3.6394450664520255,4.454360961914063,3.476027250289917,3.800639152526856,4.197695732116699,4.270434856414795,3.976598501205444,4.267169952392578,4.4280219078063965,4.029761791229248,4.335114002227783,4.380311965942383,4.212026596069336,4.4549174308776855,3.40750789642334,4.055914402008057],\"sizemode\":\"area\",\"sizeref\":7.970891952514648,\"symbol\":\"circle\"},\"mode\":\"markers+text\",\"name\":\"\\ud83e\\udd22\",\"showlegend\":true,\"text\":[\"\\ud83e\\udd22\",\"\\ud83e\\udd22\",\"\\ud83e\\udd22\",\"\\ud83e\\udd22\",\"\\ud83e\\udd22\",\"\\ud83e\\udd22\",\"\\ud83e\\udd22\",\"\\ud83e\\udd22\",\"\\ud83e\\udd22\",\"\\ud83e\\udd22\",\"\\ud83e\\udd22\",\"\\ud83e\\udd22\",\"\\ud83e\\udd22\",\"\\ud83e\\udd22\",\"\\ud83e\\udd22\",\"\\ud83e\\udd22\",\"\\ud83e\\udd22\",\"\\ud83e\\udd22\",\"\\ud83e\\udd22\",\"\\ud83e\\udd22\"],\"type\":\"scattergeo\"}],\"name\":\"2009\"},{\"data\":[{\"customdata\":[[\"Argentina\",\"South America\",2010,6.441067218780518,\"\\ud83e\\udd70\",\"ARG\"],[\"Australia\",\"Oceania\",2010,7.450047016143799,\"\\ud83e\\udd70\",\"AUS\"],[\"Austria\",\"Europe\",2010,7.30267858505249,\"\\ud83e\\udd70\",\"AUT\"],[\"Belgium\",\"Europe\",2010,6.853514194488525,\"\\ud83e\\udd70\",\"BEL\"],[\"Brazil\",\"South America\",2010,6.837331295013428,\"\\ud83e\\udd70\",\"BRA\"],[\"Canada\",\"North America\",2010,7.650346279144287,\"\\ud83e\\udd70\",\"CAN\"],[\"Chile\",\"South America\",2010,6.635655879974365,\"\\ud83e\\udd70\",\"CHL\"],[\"Colombia\",\"South America\",2010,6.408113479614258,\"\\ud83e\\udd70\",\"COL\"],[\"Costa Rica\",\"South America\",2010,7.271053791046143,\"\\ud83e\\udd70\",\"CRI\"],[\"Cyprus\",\"Asia\",2010,6.3865461349487305,\"\\ud83e\\udd70\",\"CYP\"],[\"Czechia\",null,2010,6.249617576599121,\"\\ud83e\\udd70\",\"CZE\"],[\"Denmark\",\"Europe\",2010,7.770515441894531,\"\\ud83e\\udd70\",\"DNK\"],[\"El Salvador\",\"South America\",2010,6.739911079406738,\"\\ud83e\\udd70\",\"SLV\"],[\"Finland\",\"Europe\",2010,7.393264293670654,\"\\ud83e\\udd70\",\"FIN\"],[\"France\",\"Europe\",2010,6.797901153564453,\"\\ud83e\\udd70\",\"FRA\"],[\"Germany\",\"Europe\",2010,6.724531173706055,\"\\ud83e\\udd70\",\"DEU\"],[\"Guatemala\",\"South America\",2010,6.289748668670654,\"\\ud83e\\udd70\",\"GTM\"],[\"Ireland\",\"Europe\",2010,7.257389545440674,\"\\ud83e\\udd70\",\"IRL\"],[\"Israel\",\"Asia\",2010,7.358916282653809,\"\\ud83e\\udd70\",\"ISR\"],[\"Italy\",\"Europe\",2010,6.354238033294678,\"\\ud83e\\udd70\",\"ITA\"],[\"Japan\",\"Asia\",2010,6.056752681732178,\"\\ud83e\\udd70\",\"JPN\"],[\"Kuwait\",\"Asia\",2010,6.798151016235352,\"\\ud83e\\udd70\",\"KWT\"],[\"Luxembourg\",\"Europe\",2010,7.097251892089844,\"\\ud83e\\udd70\",\"LUX\"],[\"Mexico\",\"North America\",2010,6.802388668060303,\"\\ud83e\\udd70\",\"MEX\"],[\"Netherlands\",\"Europe\",2010,7.501875877380371,\"\\ud83e\\udd70\",\"NLD\"],[\"New Zealand\",\"Oceania\",2010,7.223756313323975,\"\\ud83e\\udd70\",\"NZL\"],[\"Panama\",\"South America\",2010,7.321467399597168,\"\\ud83e\\udd70\",\"PAN\"],[\"Qatar\",null,2010,6.8496527671813965,\"\\ud83e\\udd70\",\"QAT\"],[\"Saudi Arabia\",\"Asia\",2010,6.307098388671875,\"\\ud83e\\udd70\",\"SAU\"],[\"Singapore\",\"Asia\",2010,6.531401634216309,\"\\ud83e\\udd70\",\"SGP\"],[\"Slovenia\",\"Europe\",2010,6.082555294036865,\"\\ud83e\\udd70\",\"SVN\"],[\"Spain\",\"Europe\",2010,6.188262462615967,\"\\ud83e\\udd70\",\"ESP\"],[\"Sweden\",\"Europe\",2010,7.496018886566162,\"\\ud83e\\udd70\",\"SWE\"],[\"Thailand\",\"Asia\",2010,6.216702938079834,\"\\ud83e\\udd70\",\"THA\"],[\"United Arab Emirates\",\"Asia\",2010,7.0974555015563965,\"\\ud83e\\udd70\",\"ARE\"],[\"United Kingdom\",\"Europe\",2010,7.029364109039307,\"\\ud83e\\udd70\",\"GBR\"],[\"United States\",\"North America\",2010,7.163616180419922,\"\\ud83e\\udd70\",\"USA\"],[\"Uruguay\",\"South America\",2010,6.062010765075684,\"\\ud83e\\udd70\",\"URY\"]],\"geo\":\"geo\",\"hovertemplate\":\"<b>%{hovertext}</b><br><br>emoji=%{customdata[4]}<br>year=%{customdata[2]}<br>Happiness Score=%{customdata[3]}<br>continent=%{customdata[1]}<extra></extra>\",\"hovertext\":[\"Argentina\",\"Australia\",\"Austria\",\"Belgium\",\"Brazil\",\"Canada\",\"Chile\",\"Colombia\",\"Costa Rica\",\"Cyprus\",\"Czechia\",\"Denmark\",\"El Salvador\",\"Finland\",\"France\",\"Germany\",\"Guatemala\",\"Ireland\",\"Israel\",\"Italy\",\"Japan\",\"Kuwait\",\"Luxembourg\",\"Mexico\",\"Netherlands\",\"New Zealand\",\"Panama\",\"Qatar\",\"Saudi Arabia\",\"Singapore\",\"Slovenia\",\"Spain\",\"Sweden\",\"Thailand\",\"United Arab Emirates\",\"United Kingdom\",\"United States\",\"Uruguay\"],\"legendgroup\":\"\\ud83e\\udd70\",\"locations\":[\"ARG\",\"AUS\",\"AUT\",\"BEL\",\"BRA\",\"CAN\",\"CHL\",\"COL\",\"CRI\",\"CYP\",\"CZE\",\"DNK\",\"SLV\",\"FIN\",\"FRA\",\"DEU\",\"GTM\",\"IRL\",\"ISR\",\"ITA\",\"JPN\",\"KWT\",\"LUX\",\"MEX\",\"NLD\",\"NZL\",\"PAN\",\"QAT\",\"SAU\",\"SGP\",\"SVN\",\"ESP\",\"SWE\",\"THA\",\"ARE\",\"GBR\",\"USA\",\"URY\"],\"marker\":{\"color\":\"#636efa\",\"size\":[6.441067218780518,7.450047016143799,7.30267858505249,6.853514194488525,6.837331295013428,7.650346279144287,6.635655879974365,6.408113479614258,7.271053791046143,6.3865461349487305,6.249617576599121,7.770515441894531,6.739911079406738,7.393264293670654,6.797901153564453,6.724531173706055,6.289748668670654,7.257389545440674,7.358916282653809,6.354238033294678,6.056752681732178,6.798151016235352,7.097251892089844,6.802388668060303,7.501875877380371,7.223756313323975,7.321467399597168,6.8496527671813965,6.307098388671875,6.531401634216309,6.082555294036865,6.188262462615967,7.496018886566162,6.216702938079834,7.0974555015563965,7.029364109039307,7.163616180419922,6.062010765075684],\"sizemode\":\"area\",\"sizeref\":7.970891952514648,\"symbol\":\"circle\"},\"mode\":\"markers+text\",\"name\":\"\\ud83e\\udd70\",\"showlegend\":true,\"text\":[\"\\ud83e\\udd70\",\"\\ud83e\\udd70\",\"\\ud83e\\udd70\",\"\\ud83e\\udd70\",\"\\ud83e\\udd70\",\"\\ud83e\\udd70\",\"\\ud83e\\udd70\",\"\\ud83e\\udd70\",\"\\ud83e\\udd70\",\"\\ud83e\\udd70\",\"\\ud83e\\udd70\",\"\\ud83e\\udd70\",\"\\ud83e\\udd70\",\"\\ud83e\\udd70\",\"\\ud83e\\udd70\",\"\\ud83e\\udd70\",\"\\ud83e\\udd70\",\"\\ud83e\\udd70\",\"\\ud83e\\udd70\",\"\\ud83e\\udd70\",\"\\ud83e\\udd70\",\"\\ud83e\\udd70\",\"\\ud83e\\udd70\",\"\\ud83e\\udd70\",\"\\ud83e\\udd70\",\"\\ud83e\\udd70\",\"\\ud83e\\udd70\",\"\\ud83e\\udd70\",\"\\ud83e\\udd70\",\"\\ud83e\\udd70\",\"\\ud83e\\udd70\",\"\\ud83e\\udd70\",\"\\ud83e\\udd70\",\"\\ud83e\\udd70\",\"\\ud83e\\udd70\",\"\\ud83e\\udd70\",\"\\ud83e\\udd70\",\"\\ud83e\\udd70\"],\"type\":\"scattergeo\"},{\"customdata\":[[\"Afghanistan\",\"Asia\",2010,4.758380889892578,\"\\ud83e\\udd16\",\"AFG\"],[\"Albania\",\"Europe\",2010,5.268936634063721,\"\\ud83e\\udd16\",\"ALB\"],[\"Algeria\",\"Africa\",2010,5.463566780090332,\"\\ud83e\\udd16\",\"DZA\"],[\"Bahrain\",\"Asia\",2010,5.936869144439697,\"\\ud83e\\udd16\",\"BHR\"],[\"Bangladesh\",\"Asia\",2010,4.858481407165527,\"\\ud83e\\udd16\",\"BGD\"],[\"Belarus\",\"Europe\",2010,5.525923252105713,\"\\ud83e\\udd16\",\"BLR\"],[\"Bolivia\",\"South America\",2010,5.780620098114014,\"\\ud83e\\udd16\",\"BOL\"],[\"Bosnia and Herzegovina\",\"Europe\",2010,4.668517589569092,\"\\ud83e\\udd16\",\"BIH\"],[\"Cameroon\",\"Africa\",2010,4.554256916046143,\"\\ud83e\\udd16\",\"CMR\"],[\"China\",\"Asia\",2010,4.652736663818359,\"\\ud83e\\udd16\",\"CHN\"],[\"Croatia\",\"Europe\",2010,5.595575332641602,\"\\ud83e\\udd16\",\"HRV\"],[\"Djibouti\",null,2010,5.005810737609863,\"\\ud83e\\udd16\",\"DJI\"],[\"Dominican Republic\",\"South America\",2010,4.735021114349365,\"\\ud83e\\udd16\",\"DOM\"],[\"Ecuador\",\"South America\",2010,5.8380513191223145,\"\\ud83e\\udd16\",\"ECU\"],[\"Ghana\",\"Africa\",2010,4.6062517166137695,\"\\ud83e\\udd16\",\"GHA\"],[\"Greece\",\"Europe\",2010,5.8395586013793945,\"\\ud83e\\udd16\",\"GRC\"],[\"Honduras\",\"South America\",2010,5.86613130569458,\"\\ud83e\\udd16\",\"HND\"],[\"Hungary\",\"Europe\",2010,4.725132465362549,\"\\ud83e\\udd16\",\"HUN\"],[\"India\",\"Asia\",2010,4.989277362823486,\"\\ud83e\\udd16\",\"IND\"],[\"Indonesia\",\"Asia\",2010,5.45729923248291,\"\\ud83e\\udd16\",\"IDN\"],[\"Iraq\",\"Asia\",2010,5.065462112426758,\"\\ud83e\\udd16\",\"IRQ\"],[\"Jordan\",\"Asia\",2010,5.569942474365234,\"\\ud83e\\udd16\",\"JOR\"],[\"Kazakhstan\",\"Asia\",2010,5.514286518096924,\"\\ud83e\\udd16\",\"KAZ\"],[\"Kosovo\",\"Europe\",2010,5.176601409912109,\"\\ud83e\\udd16\",\"XKX\"],[\"Lebanon\",\"Asia\",2010,5.031899452209473,\"\\ud83e\\udd16\",\"LBN\"],[\"Lithuania\",\"Europe\",2010,5.06582498550415,\"\\ud83e\\udd16\",\"LTU\"],[\"Malaysia\",\"Asia\",2010,5.580281734466553,\"\\ud83e\\udd16\",\"MYS\"],[\"Malta\",\"Europe\",2010,5.773874759674072,\"\\ud83e\\udd16\",\"MLT\"],[\"Mauritania\",\"Africa\",2010,4.7723069190979,\"\\ud83e\\udd16\",\"MRT\"],[\"Moldova\",\"Europe\",2010,5.589736461639404,\"\\ud83e\\udd16\",\"MDA\"],[\"Mongolia\",\"Asia\",2010,4.58552360534668,\"\\ud83e\\udd16\",\"MNG\"],[\"Montenegro\",\"Europe\",2010,5.45503044128418,\"\\ud83e\\udd16\",\"MNE\"],[\"Nicaragua\",\"South America\",2010,5.686699390411377,\"\\ud83e\\udd16\",\"NIC\"],[\"Nigeria\",\"Africa\",2010,4.760275840759277,\"\\ud83e\\udd16\",\"NGA\"],[\"Pakistan\",\"Asia\",2010,5.7861328125,\"\\ud83e\\udd16\",\"PAK\"],[\"Paraguay\",\"South America\",2010,5.841174125671387,\"\\ud83e\\udd16\",\"PRY\"],[\"Peru\",\"South America\",2010,5.612785339355469,\"\\ud83e\\udd16\",\"PER\"],[\"Philippines\",\"Asia\",2010,4.941514015197754,\"\\ud83e\\udd16\",\"PHL\"],[\"Poland\",\"Europe\",2010,5.887029647827148,\"\\ud83e\\udd16\",\"POL\"],[\"Portugal\",\"Europe\",2010,5.0945258140563965,\"\\ud83e\\udd16\",\"PRT\"],[\"Romania\",\"Europe\",2010,4.909165859222412,\"\\ud83e\\udd16\",\"ROU\"],[\"South Africa\",\"Africa\",2010,4.65242862701416,\"\\ud83e\\udd16\",\"ZAF\"],[\"Tunisia\",\"Africa\",2010,5.130520820617676,\"\\ud83e\\udd16\",\"TUN\"],[\"Ukraine\",\"Europe\",2010,5.05756139755249,\"\\ud83e\\udd16\",\"UKR\"],[\"Uzbekistan\",\"Asia\",2010,5.09534215927124,\"\\ud83e\\udd16\",\"UZB\"],[\"Vietnam\",\"Asia\",2010,5.295780658721924,\"\\ud83e\\udd16\",\"VNM\"],[\"Zimbabwe\",\"Africa\",2010,4.681569576263428,\"\\ud83e\\udd16\",\"ZWE\"]],\"geo\":\"geo\",\"hovertemplate\":\"<b>%{hovertext}</b><br><br>emoji=%{customdata[4]}<br>year=%{customdata[2]}<br>Happiness Score=%{customdata[3]}<br>continent=%{customdata[1]}<extra></extra>\",\"hovertext\":[\"Afghanistan\",\"Albania\",\"Algeria\",\"Bahrain\",\"Bangladesh\",\"Belarus\",\"Bolivia\",\"Bosnia and Herzegovina\",\"Cameroon\",\"China\",\"Croatia\",\"Djibouti\",\"Dominican Republic\",\"Ecuador\",\"Ghana\",\"Greece\",\"Honduras\",\"Hungary\",\"India\",\"Indonesia\",\"Iraq\",\"Jordan\",\"Kazakhstan\",\"Kosovo\",\"Lebanon\",\"Lithuania\",\"Malaysia\",\"Malta\",\"Mauritania\",\"Moldova\",\"Mongolia\",\"Montenegro\",\"Nicaragua\",\"Nigeria\",\"Pakistan\",\"Paraguay\",\"Peru\",\"Philippines\",\"Poland\",\"Portugal\",\"Romania\",\"South Africa\",\"Tunisia\",\"Ukraine\",\"Uzbekistan\",\"Vietnam\",\"Zimbabwe\"],\"legendgroup\":\"\\ud83e\\udd16\",\"locations\":[\"AFG\",\"ALB\",\"DZA\",\"BHR\",\"BGD\",\"BLR\",\"BOL\",\"BIH\",\"CMR\",\"CHN\",\"HRV\",\"DJI\",\"DOM\",\"ECU\",\"GHA\",\"GRC\",\"HND\",\"HUN\",\"IND\",\"IDN\",\"IRQ\",\"JOR\",\"KAZ\",\"XKX\",\"LBN\",\"LTU\",\"MYS\",\"MLT\",\"MRT\",\"MDA\",\"MNG\",\"MNE\",\"NIC\",\"NGA\",\"PAK\",\"PRY\",\"PER\",\"PHL\",\"POL\",\"PRT\",\"ROU\",\"ZAF\",\"TUN\",\"UKR\",\"UZB\",\"VNM\",\"ZWE\"],\"marker\":{\"color\":\"#EF553B\",\"size\":[4.758380889892578,5.268936634063721,5.463566780090332,5.936869144439697,4.858481407165527,5.525923252105713,5.780620098114014,4.668517589569092,4.554256916046143,4.652736663818359,5.595575332641602,5.005810737609863,4.735021114349365,5.8380513191223145,4.6062517166137695,5.8395586013793945,5.86613130569458,4.725132465362549,4.989277362823486,5.45729923248291,5.065462112426758,5.569942474365234,5.514286518096924,5.176601409912109,5.031899452209473,5.06582498550415,5.580281734466553,5.773874759674072,4.7723069190979,5.589736461639404,4.58552360534668,5.45503044128418,5.686699390411377,4.760275840759277,5.7861328125,5.841174125671387,5.612785339355469,4.941514015197754,5.887029647827148,5.0945258140563965,4.909165859222412,4.65242862701416,5.130520820617676,5.05756139755249,5.09534215927124,5.295780658721924,4.681569576263428],\"sizemode\":\"area\",\"sizeref\":7.970891952514648,\"symbol\":\"circle\"},\"mode\":\"markers+text\",\"name\":\"\\ud83e\\udd16\",\"showlegend\":true,\"text\":[\"\\ud83e\\udd16\",\"\\ud83e\\udd16\",\"\\ud83e\\udd16\",\"\\ud83e\\udd16\",\"\\ud83e\\udd16\",\"\\ud83e\\udd16\",\"\\ud83e\\udd16\",\"\\ud83e\\udd16\",\"\\ud83e\\udd16\",\"\\ud83e\\udd16\",\"\\ud83e\\udd16\",\"\\ud83e\\udd16\",\"\\ud83e\\udd16\",\"\\ud83e\\udd16\",\"\\ud83e\\udd16\",\"\\ud83e\\udd16\",\"\\ud83e\\udd16\",\"\\ud83e\\udd16\",\"\\ud83e\\udd16\",\"\\ud83e\\udd16\",\"\\ud83e\\udd16\",\"\\ud83e\\udd16\",\"\\ud83e\\udd16\",\"\\ud83e\\udd16\",\"\\ud83e\\udd16\",\"\\ud83e\\udd16\",\"\\ud83e\\udd16\",\"\\ud83e\\udd16\",\"\\ud83e\\udd16\",\"\\ud83e\\udd16\",\"\\ud83e\\udd16\",\"\\ud83e\\udd16\",\"\\ud83e\\udd16\",\"\\ud83e\\udd16\",\"\\ud83e\\udd16\",\"\\ud83e\\udd16\",\"\\ud83e\\udd16\",\"\\ud83e\\udd16\",\"\\ud83e\\udd16\",\"\\ud83e\\udd16\",\"\\ud83e\\udd16\",\"\\ud83e\\udd16\",\"\\ud83e\\udd16\",\"\\ud83e\\udd16\",\"\\ud83e\\udd16\",\"\\ud83e\\udd16\",\"\\ud83e\\udd16\"],\"type\":\"scattergeo\"},{\"customdata\":[[\"Armenia\",\"Asia\",2010,4.36781120300293,\"\\ud83e\\udd22\",\"ARM\"],[\"Azerbaijan\",\"Asia\",2010,4.218610763549805,\"\\ud83e\\udd22\",\"AZE\"],[\"Botswana\",\"Africa\",2010,3.5530202388763428,\"\\ud83e\\udd22\",\"BWA\"],[\"Bulgaria\",\"Europe\",2010,3.912276268005371,\"\\ud83e\\udd22\",\"BGR\"],[\"Burkina Faso\",\"Africa\",2010,4.035560607910156,\"\\ud83e\\udd22\",\"BFA\"],[\"Cambodia\",\"Asia\",2010,4.1410722732543945,\"\\ud83e\\udd22\",\"KHM\"],[\"Central African Republic\",null,2010,3.567892551422119,\"\\ud83e\\udd22\",\"CAF\"],[\"Chad\",\"Africa\",2010,3.742871046066284,\"\\ud83e\\udd22\",\"TCD\"],[\"Comoros\",null,2010,3.812191009521485,\"\\ud83e\\udd22\",\"COM\"],[\"Georgia\",\"Asia\",2010,4.101837158203125,\"\\ud83e\\udd22\",\"GEO\"],[\"Haiti\",\"South America\",2010,3.7659988403320312,\"\\ud83e\\udd22\",\"HTI\"],[\"Kenya\",\"Africa\",2010,4.255859375,\"\\ud83e\\udd22\",\"KEN\"],[\"Liberia\",\"Africa\",2010,4.196063041687012,\"\\ud83e\\udd22\",\"LBR\"],[\"Mali\",\"Africa\",2010,3.7623050212860103,\"\\ud83e\\udd22\",\"MLI\"],[\"Morocco\",\"Africa\",2010,4.383247375488281,\"\\ud83e\\udd22\",\"MAR\"],[\"Nepal\",\"Asia\",2010,4.349675178527832,\"\\ud83e\\udd22\",\"NPL\"],[\"Niger\",\"Africa\",2010,4.101016044616699,\"\\ud83e\\udd22\",\"NER\"],[\"North Macedonia\",null,2010,4.180202007293701,\"\\ud83e\\udd22\",\"MKD\"],[\"Senegal\",\"Africa\",2010,4.372156143188477,\"\\ud83e\\udd22\",\"SEN\"],[\"Serbia\",\"Europe\",2010,4.461304187774658,\"\\ud83e\\udd22\",\"SRB\"],[\"Sierra Leone\",\"Africa\",2010,4.133955955505371,\"\\ud83e\\udd22\",\"SLE\"],[\"Sri Lanka\",\"Asia\",2010,3.976905107498169,\"\\ud83e\\udd22\",\"LKA\"],[\"Sudan\",null,2010,4.435159683227539,\"\\ud83e\\udd22\",\"SDN\"],[\"Tajikistan\",\"Asia\",2010,4.380636215209961,\"\\ud83e\\udd22\",\"TJK\"],[\"Tanzania\",\"Africa\",2010,3.2291290760040283,\"\\ud83e\\udd22\",\"TZA\"],[\"Uganda\",\"Africa\",2010,4.192882061004639,\"\\ud83e\\udd22\",\"UGA\"]],\"geo\":\"geo\",\"hovertemplate\":\"<b>%{hovertext}</b><br><br>emoji=%{customdata[4]}<br>year=%{customdata[2]}<br>Happiness Score=%{customdata[3]}<br>continent=%{customdata[1]}<extra></extra>\",\"hovertext\":[\"Armenia\",\"Azerbaijan\",\"Botswana\",\"Bulgaria\",\"Burkina Faso\",\"Cambodia\",\"Central African Republic\",\"Chad\",\"Comoros\",\"Georgia\",\"Haiti\",\"Kenya\",\"Liberia\",\"Mali\",\"Morocco\",\"Nepal\",\"Niger\",\"North Macedonia\",\"Senegal\",\"Serbia\",\"Sierra Leone\",\"Sri Lanka\",\"Sudan\",\"Tajikistan\",\"Tanzania\",\"Uganda\"],\"legendgroup\":\"\\ud83e\\udd22\",\"locations\":[\"ARM\",\"AZE\",\"BWA\",\"BGR\",\"BFA\",\"KHM\",\"CAF\",\"TCD\",\"COM\",\"GEO\",\"HTI\",\"KEN\",\"LBR\",\"MLI\",\"MAR\",\"NPL\",\"NER\",\"MKD\",\"SEN\",\"SRB\",\"SLE\",\"LKA\",\"SDN\",\"TJK\",\"TZA\",\"UGA\"],\"marker\":{\"color\":\"#00cc96\",\"size\":[4.36781120300293,4.218610763549805,3.5530202388763428,3.912276268005371,4.035560607910156,4.1410722732543945,3.567892551422119,3.742871046066284,3.812191009521485,4.101837158203125,3.7659988403320312,4.255859375,4.196063041687012,3.7623050212860103,4.383247375488281,4.349675178527832,4.101016044616699,4.180202007293701,4.372156143188477,4.461304187774658,4.133955955505371,3.976905107498169,4.435159683227539,4.380636215209961,3.2291290760040283,4.192882061004639],\"sizemode\":\"area\",\"sizeref\":7.970891952514648,\"symbol\":\"circle\"},\"mode\":\"markers+text\",\"name\":\"\\ud83e\\udd22\",\"showlegend\":true,\"text\":[\"\\ud83e\\udd22\",\"\\ud83e\\udd22\",\"\\ud83e\\udd22\",\"\\ud83e\\udd22\",\"\\ud83e\\udd22\",\"\\ud83e\\udd22\",\"\\ud83e\\udd22\",\"\\ud83e\\udd22\",\"\\ud83e\\udd22\",\"\\ud83e\\udd22\",\"\\ud83e\\udd22\",\"\\ud83e\\udd22\",\"\\ud83e\\udd22\",\"\\ud83e\\udd22\",\"\\ud83e\\udd22\",\"\\ud83e\\udd22\",\"\\ud83e\\udd22\",\"\\ud83e\\udd22\",\"\\ud83e\\udd22\",\"\\ud83e\\udd22\",\"\\ud83e\\udd22\",\"\\ud83e\\udd22\",\"\\ud83e\\udd22\",\"\\ud83e\\udd22\",\"\\ud83e\\udd22\",\"\\ud83e\\udd22\"],\"type\":\"scattergeo\"}],\"name\":\"2010\"},{\"data\":[{\"customdata\":[[\"Argentina\",\"South America\",2011,6.775805473327637,\"\\ud83e\\udd70\",\"ARG\"],[\"Australia\",\"Oceania\",2011,7.405616283416748,\"\\ud83e\\udd70\",\"AUS\"],[\"Austria\",\"Europe\",2011,7.470512866973877,\"\\ud83e\\udd70\",\"AUT\"],[\"Belgium\",\"Europe\",2011,7.111363887786865,\"\\ud83e\\udd70\",\"BEL\"],[\"Brazil\",\"South America\",2011,7.037816524505615,\"\\ud83e\\udd70\",\"BRA\"],[\"Canada\",\"North America\",2011,7.426053524017334,\"\\ud83e\\udd70\",\"CAN\"],[\"Chile\",\"South America\",2011,6.526334762573242,\"\\ud83e\\udd70\",\"CHL\"],[\"Colombia\",\"South America\",2011,6.463952541351318,\"\\ud83e\\udd70\",\"COL\"],[\"Costa Rica\",\"South America\",2011,7.228888511657715,\"\\ud83e\\udd70\",\"CRI\"],[\"Cyprus\",\"Asia\",2011,6.689608573913574,\"\\ud83e\\udd70\",\"CYP\"],[\"Czechia\",null,2011,6.331490993499756,\"\\ud83e\\udd70\",\"CZE\"],[\"Denmark\",\"Europe\",2011,7.78823184967041,\"\\ud83e\\udd70\",\"DNK\"],[\"Finland\",\"Europe\",2011,7.354225158691406,\"\\ud83e\\udd70\",\"FIN\"],[\"France\",\"Europe\",2011,6.959185123443604,\"\\ud83e\\udd70\",\"FRA\"],[\"Germany\",\"Europe\",2011,6.621312141418457,\"\\ud83e\\udd70\",\"DEU\"],[\"Ireland\",\"Europe\",2011,7.006904125213623,\"\\ud83e\\udd70\",\"IRL\"],[\"Israel\",\"Asia\",2011,7.43314790725708,\"\\ud83e\\udd70\",\"ISR\"],[\"Italy\",\"Europe\",2011,6.05708646774292,\"\\ud83e\\udd70\",\"ITA\"],[\"Japan\",\"Asia\",2011,6.26279354095459,\"\\ud83e\\udd70\",\"JPN\"],[\"Kuwait\",\"Asia\",2011,6.377699375152588,\"\\ud83e\\udd70\",\"KWT\"],[\"Luxembourg\",\"Europe\",2011,7.101400375366211,\"\\ud83e\\udd70\",\"LUX\"],[\"Malta\",\"Europe\",2011,6.154718399047852,\"\\ud83e\\udd70\",\"MLT\"],[\"Mexico\",\"North America\",2011,6.909515380859375,\"\\ud83e\\udd70\",\"MEX\"],[\"Netherlands\",\"Europe\",2011,7.563797950744629,\"\\ud83e\\udd70\",\"NLD\"],[\"New Zealand\",\"Oceania\",2011,7.190638065338135,\"\\ud83e\\udd70\",\"NZL\"],[\"Oman\",null,2011,6.852982044219971,\"\\ud83e\\udd70\",\"OMN\"],[\"Panama\",\"South America\",2011,7.248080730438232,\"\\ud83e\\udd70\",\"PAN\"],[\"Qatar\",null,2011,6.591604232788086,\"\\ud83e\\udd70\",\"QAT\"],[\"Saudi Arabia\",\"Asia\",2011,6.699789524078369,\"\\ud83e\\udd70\",\"SAU\"],[\"Singapore\",\"Asia\",2011,6.561041831970215,\"\\ud83e\\udd70\",\"SGP\"],[\"Slovenia\",\"Europe\",2011,6.035964012145996,\"\\ud83e\\udd70\",\"SVN\"],[\"Spain\",\"Europe\",2011,6.518249034881592,\"\\ud83e\\udd70\",\"ESP\"],[\"Sweden\",\"Europe\",2011,7.382232189178467,\"\\ud83e\\udd70\",\"SWE\"],[\"Thailand\",\"Asia\",2011,6.663609027862549,\"\\ud83e\\udd70\",\"THA\"],[\"Trinidad and Tobago\",null,2011,6.51874589920044,\"\\ud83e\\udd70\",\"TTO\"],[\"United Arab Emirates\",\"Asia\",2011,7.118701457977295,\"\\ud83e\\udd70\",\"ARE\"],[\"United Kingdom\",\"Europe\",2011,6.869248867034912,\"\\ud83e\\udd70\",\"GBR\"],[\"United States\",\"North America\",2011,7.115138530731201,\"\\ud83e\\udd70\",\"USA\"],[\"Uruguay\",\"South America\",2011,6.554047107696533,\"\\ud83e\\udd70\",\"URY\"]],\"geo\":\"geo\",\"hovertemplate\":\"<b>%{hovertext}</b><br><br>emoji=%{customdata[4]}<br>year=%{customdata[2]}<br>Happiness Score=%{customdata[3]}<br>continent=%{customdata[1]}<extra></extra>\",\"hovertext\":[\"Argentina\",\"Australia\",\"Austria\",\"Belgium\",\"Brazil\",\"Canada\",\"Chile\",\"Colombia\",\"Costa Rica\",\"Cyprus\",\"Czechia\",\"Denmark\",\"Finland\",\"France\",\"Germany\",\"Ireland\",\"Israel\",\"Italy\",\"Japan\",\"Kuwait\",\"Luxembourg\",\"Malta\",\"Mexico\",\"Netherlands\",\"New Zealand\",\"Oman\",\"Panama\",\"Qatar\",\"Saudi Arabia\",\"Singapore\",\"Slovenia\",\"Spain\",\"Sweden\",\"Thailand\",\"Trinidad and Tobago\",\"United Arab Emirates\",\"United Kingdom\",\"United States\",\"Uruguay\"],\"legendgroup\":\"\\ud83e\\udd70\",\"locations\":[\"ARG\",\"AUS\",\"AUT\",\"BEL\",\"BRA\",\"CAN\",\"CHL\",\"COL\",\"CRI\",\"CYP\",\"CZE\",\"DNK\",\"FIN\",\"FRA\",\"DEU\",\"IRL\",\"ISR\",\"ITA\",\"JPN\",\"KWT\",\"LUX\",\"MLT\",\"MEX\",\"NLD\",\"NZL\",\"OMN\",\"PAN\",\"QAT\",\"SAU\",\"SGP\",\"SVN\",\"ESP\",\"SWE\",\"THA\",\"TTO\",\"ARE\",\"GBR\",\"USA\",\"URY\"],\"marker\":{\"color\":\"#636efa\",\"size\":[6.775805473327637,7.405616283416748,7.470512866973877,7.111363887786865,7.037816524505615,7.426053524017334,6.526334762573242,6.463952541351318,7.228888511657715,6.689608573913574,6.331490993499756,7.78823184967041,7.354225158691406,6.959185123443604,6.621312141418457,7.006904125213623,7.43314790725708,6.05708646774292,6.26279354095459,6.377699375152588,7.101400375366211,6.154718399047852,6.909515380859375,7.563797950744629,7.190638065338135,6.852982044219971,7.248080730438232,6.591604232788086,6.699789524078369,6.561041831970215,6.035964012145996,6.518249034881592,7.382232189178467,6.663609027862549,6.51874589920044,7.118701457977295,6.869248867034912,7.115138530731201,6.554047107696533],\"sizemode\":\"area\",\"sizeref\":7.970891952514648,\"symbol\":\"circle\"},\"mode\":\"markers+text\",\"name\":\"\\ud83e\\udd70\",\"showlegend\":true,\"text\":[\"\\ud83e\\udd70\",\"\\ud83e\\udd70\",\"\\ud83e\\udd70\",\"\\ud83e\\udd70\",\"\\ud83e\\udd70\",\"\\ud83e\\udd70\",\"\\ud83e\\udd70\",\"\\ud83e\\udd70\",\"\\ud83e\\udd70\",\"\\ud83e\\udd70\",\"\\ud83e\\udd70\",\"\\ud83e\\udd70\",\"\\ud83e\\udd70\",\"\\ud83e\\udd70\",\"\\ud83e\\udd70\",\"\\ud83e\\udd70\",\"\\ud83e\\udd70\",\"\\ud83e\\udd70\",\"\\ud83e\\udd70\",\"\\ud83e\\udd70\",\"\\ud83e\\udd70\",\"\\ud83e\\udd70\",\"\\ud83e\\udd70\",\"\\ud83e\\udd70\",\"\\ud83e\\udd70\",\"\\ud83e\\udd70\",\"\\ud83e\\udd70\",\"\\ud83e\\udd70\",\"\\ud83e\\udd70\",\"\\ud83e\\udd70\",\"\\ud83e\\udd70\",\"\\ud83e\\udd70\",\"\\ud83e\\udd70\",\"\\ud83e\\udd70\",\"\\ud83e\\udd70\",\"\\ud83e\\udd70\",\"\\ud83e\\udd70\",\"\\ud83e\\udd70\",\"\\ud83e\\udd70\"],\"type\":\"scattergeo\"},{\"customdata\":[[\"Albania\",\"Europe\",2011,5.867421627044678,\"\\ud83e\\udd16\",\"ALB\"],[\"Algeria\",\"Africa\",2011,5.31719446182251,\"\\ud83e\\udd16\",\"DZA\"],[\"Angola\",null,2011,5.589000701904297,\"\\ud83e\\udd16\",\"AGO\"],[\"Azerbaijan\",\"Asia\",2011,4.680469512939453,\"\\ud83e\\udd16\",\"AZE\"],[\"Bahrain\",\"Asia\",2011,4.823976039886475,\"\\ud83e\\udd16\",\"BHR\"],[\"Bangladesh\",\"Asia\",2011,4.985649108886719,\"\\ud83e\\udd16\",\"BGD\"],[\"Belarus\",\"Europe\",2011,5.225307941436768,\"\\ud83e\\udd16\",\"BLR\"],[\"Bolivia\",\"South America\",2011,5.778874397277832,\"\\ud83e\\udd16\",\"BOL\"],[\"Bosnia and Herzegovina\",\"Europe\",2011,4.994670867919922,\"\\ud83e\\udd16\",\"BIH\"],[\"Burkina Faso\",\"Africa\",2011,4.785367488861084,\"\\ud83e\\udd16\",\"BFA\"],[\"China\",\"Asia\",2011,5.03720760345459,\"\\ud83e\\udd16\",\"CHN\"],[\"Croatia\",\"Europe\",2011,5.385372638702393,\"\\ud83e\\udd16\",\"HRV\"],[\"Dominican Republic\",\"South America\",2011,5.396535396575928,\"\\ud83e\\udd16\",\"DOM\"],[\"Ecuador\",\"South America\",2011,5.795088291168213,\"\\ud83e\\udd16\",\"ECU\"],[\"El Salvador\",\"South America\",2011,4.741294860839844,\"\\ud83e\\udd16\",\"SLV\"],[\"Estonia\",\"Europe\",2011,5.486819744110107,\"\\ud83e\\udd16\",\"EST\"],[\"Eswatini\",null,2011,4.867091178894043,\"\\ud83e\\udd16\",\"SWZ\"],[\"Ghana\",\"Africa\",2011,5.608199596405029,\"\\ud83e\\udd16\",\"GHA\"],[\"Greece\",\"Europe\",2011,5.372039794921875,\"\\ud83e\\udd16\",\"GRC\"],[\"Guatemala\",\"South America\",2011,5.743353843688965,\"\\ud83e\\udd16\",\"GTM\"],[\"Haiti\",\"South America\",2011,4.844573974609375,\"\\ud83e\\udd16\",\"HTI\"],[\"Honduras\",\"South America\",2011,4.961031436920166,\"\\ud83e\\udd16\",\"HND\"],[\"Hungary\",\"Europe\",2011,4.9176025390625,\"\\ud83e\\udd16\",\"HUN\"],[\"India\",\"Asia\",2011,4.634871482849121,\"\\ud83e\\udd16\",\"IND\"],[\"Indonesia\",\"Asia\",2011,5.172608375549316,\"\\ud83e\\udd16\",\"IDN\"],[\"Iraq\",\"Asia\",2011,4.725366115570068,\"\\ud83e\\udd16\",\"IRQ\"],[\"Jamaica\",\"South America\",2011,5.374446392059326,\"\\ud83e\\udd16\",\"JAM\"],[\"Jordan\",\"Asia\",2011,5.539327621459961,\"\\ud83e\\udd16\",\"JOR\"],[\"Kazakhstan\",\"Asia\",2011,5.735662937164307,\"\\ud83e\\udd16\",\"KAZ\"],[\"Kosovo\",\"Europe\",2011,4.859501838684082,\"\\ud83e\\udd16\",\"XKX\"],[\"Latvia\",\"Europe\",2011,4.966811656951904,\"\\ud83e\\udd16\",\"LVA\"],[\"Lebanon\",\"Asia\",2011,5.1875715255737305,\"\\ud83e\\udd16\",\"LBN\"],[\"Lesotho\",null,2011,4.897514820098877,\"\\ud83e\\udd16\",\"LSO\"],[\"Lithuania\",\"Europe\",2011,5.432437419891357,\"\\ud83e\\udd16\",\"LTU\"],[\"Malaysia\",\"Asia\",2011,5.786367416381836,\"\\ud83e\\udd16\",\"MYS\"],[\"Mali\",\"Africa\",2011,4.66683292388916,\"\\ud83e\\udd16\",\"MLI\"],[\"Mauritania\",\"Africa\",2011,4.784804344177246,\"\\ud83e\\udd16\",\"MRT\"],[\"Mauritius\",\"Africa\",2011,5.477073192596436,\"\\ud83e\\udd16\",\"MUS\"],[\"Moldova\",\"Europe\",2011,5.792262554168701,\"\\ud83e\\udd16\",\"MDA\"],[\"Mongolia\",\"Asia\",2011,5.031173706054688,\"\\ud83e\\udd16\",\"MNG\"],[\"Montenegro\",\"Europe\",2011,5.223116874694824,\"\\ud83e\\udd16\",\"MNE\"],[\"Morocco\",\"Africa\",2011,5.084972858428955,\"\\ud83e\\udd16\",\"MAR\"],[\"Mozambique\",null,2011,4.97111177444458,\"\\ud83e\\udd16\",\"MOZ\"],[\"Nicaragua\",\"South America\",2011,5.385705471038818,\"\\ud83e\\udd16\",\"NIC\"],[\"Niger\",\"Africa\",2011,4.5558295249938965,\"\\ud83e\\udd16\",\"NER\"],[\"North Macedonia\",null,2011,4.89818000793457,\"\\ud83e\\udd16\",\"MKD\"],[\"Pakistan\",\"Asia\",2011,5.267186164855957,\"\\ud83e\\udd16\",\"PAK\"],[\"Paraguay\",\"South America\",2011,5.677080631256104,\"\\ud83e\\udd16\",\"PRY\"],[\"Peru\",\"South America\",2011,5.892457485198975,\"\\ud83e\\udd16\",\"PER\"],[\"Philippines\",\"Asia\",2011,4.993956565856934,\"\\ud83e\\udd16\",\"PHL\"],[\"Poland\",\"Europe\",2011,5.646204948425293,\"\\ud83e\\udd16\",\"POL\"],[\"Portugal\",\"Europe\",2011,5.219997882843018,\"\\ud83e\\udd16\",\"PRT\"],[\"Romania\",\"Europe\",2011,5.022757530212402,\"\\ud83e\\udd16\",\"ROU\"],[\"Serbia\",\"Europe\",2011,4.815186500549316,\"\\ud83e\\udd16\",\"SRB\"],[\"Sierra Leone\",\"Africa\",2011,4.501643657684326,\"\\ud83e\\udd16\",\"SLE\"],[\"South Africa\",\"Africa\",2011,4.930511474609375,\"\\ud83e\\udd16\",\"ZAF\"],[\"Tunisia\",\"Africa\",2011,4.876482009887695,\"\\ud83e\\udd16\",\"TUN\"],[\"Turkmenistan\",\"Asia\",2011,5.791754722595215,\"\\ud83e\\udd16\",\"TKM\"],[\"Uganda\",\"Africa\",2011,4.826001167297363,\"\\ud83e\\udd16\",\"UGA\"],[\"Ukraine\",\"Europe\",2011,5.083132743835449,\"\\ud83e\\udd16\",\"UKR\"],[\"Uzbekistan\",\"Asia\",2011,5.738744258880615,\"\\ud83e\\udd16\",\"UZB\"],[\"Vietnam\",\"Asia\",2011,5.7673444747924805,\"\\ud83e\\udd16\",\"VNM\"],[\"Zambia\",\"Africa\",2011,4.9991135597229,\"\\ud83e\\udd16\",\"ZMB\"],[\"Zimbabwe\",\"Africa\",2011,4.845641613006592,\"\\ud83e\\udd16\",\"ZWE\"]],\"geo\":\"geo\",\"hovertemplate\":\"<b>%{hovertext}</b><br><br>emoji=%{customdata[4]}<br>year=%{customdata[2]}<br>Happiness Score=%{customdata[3]}<br>continent=%{customdata[1]}<extra></extra>\",\"hovertext\":[\"Albania\",\"Algeria\",\"Angola\",\"Azerbaijan\",\"Bahrain\",\"Bangladesh\",\"Belarus\",\"Bolivia\",\"Bosnia and Herzegovina\",\"Burkina Faso\",\"China\",\"Croatia\",\"Dominican Republic\",\"Ecuador\",\"El Salvador\",\"Estonia\",\"Eswatini\",\"Ghana\",\"Greece\",\"Guatemala\",\"Haiti\",\"Honduras\",\"Hungary\",\"India\",\"Indonesia\",\"Iraq\",\"Jamaica\",\"Jordan\",\"Kazakhstan\",\"Kosovo\",\"Latvia\",\"Lebanon\",\"Lesotho\",\"Lithuania\",\"Malaysia\",\"Mali\",\"Mauritania\",\"Mauritius\",\"Moldova\",\"Mongolia\",\"Montenegro\",\"Morocco\",\"Mozambique\",\"Nicaragua\",\"Niger\",\"North Macedonia\",\"Pakistan\",\"Paraguay\",\"Peru\",\"Philippines\",\"Poland\",\"Portugal\",\"Romania\",\"Serbia\",\"Sierra Leone\",\"South Africa\",\"Tunisia\",\"Turkmenistan\",\"Uganda\",\"Ukraine\",\"Uzbekistan\",\"Vietnam\",\"Zambia\",\"Zimbabwe\"],\"legendgroup\":\"\\ud83e\\udd16\",\"locations\":[\"ALB\",\"DZA\",\"AGO\",\"AZE\",\"BHR\",\"BGD\",\"BLR\",\"BOL\",\"BIH\",\"BFA\",\"CHN\",\"HRV\",\"DOM\",\"ECU\",\"SLV\",\"EST\",\"SWZ\",\"GHA\",\"GRC\",\"GTM\",\"HTI\",\"HND\",\"HUN\",\"IND\",\"IDN\",\"IRQ\",\"JAM\",\"JOR\",\"KAZ\",\"XKX\",\"LVA\",\"LBN\",\"LSO\",\"LTU\",\"MYS\",\"MLI\",\"MRT\",\"MUS\",\"MDA\",\"MNG\",\"MNE\",\"MAR\",\"MOZ\",\"NIC\",\"NER\",\"MKD\",\"PAK\",\"PRY\",\"PER\",\"PHL\",\"POL\",\"PRT\",\"ROU\",\"SRB\",\"SLE\",\"ZAF\",\"TUN\",\"TKM\",\"UGA\",\"UKR\",\"UZB\",\"VNM\",\"ZMB\",\"ZWE\"],\"marker\":{\"color\":\"#EF553B\",\"size\":[5.867421627044678,5.31719446182251,5.589000701904297,4.680469512939453,4.823976039886475,4.985649108886719,5.225307941436768,5.778874397277832,4.994670867919922,4.785367488861084,5.03720760345459,5.385372638702393,5.396535396575928,5.795088291168213,4.741294860839844,5.486819744110107,4.867091178894043,5.608199596405029,5.372039794921875,5.743353843688965,4.844573974609375,4.961031436920166,4.9176025390625,4.634871482849121,5.172608375549316,4.725366115570068,5.374446392059326,5.539327621459961,5.735662937164307,4.859501838684082,4.966811656951904,5.1875715255737305,4.897514820098877,5.432437419891357,5.786367416381836,4.66683292388916,4.784804344177246,5.477073192596436,5.792262554168701,5.031173706054688,5.223116874694824,5.084972858428955,4.97111177444458,5.385705471038818,4.5558295249938965,4.89818000793457,5.267186164855957,5.677080631256104,5.892457485198975,4.993956565856934,5.646204948425293,5.219997882843018,5.022757530212402,4.815186500549316,4.501643657684326,4.930511474609375,4.876482009887695,5.791754722595215,4.826001167297363,5.083132743835449,5.738744258880615,5.7673444747924805,4.9991135597229,4.845641613006592],\"sizemode\":\"area\",\"sizeref\":7.970891952514648,\"symbol\":\"circle\"},\"mode\":\"markers+text\",\"name\":\"\\ud83e\\udd16\",\"showlegend\":true,\"text\":[\"\\ud83e\\udd16\",\"\\ud83e\\udd16\",\"\\ud83e\\udd16\",\"\\ud83e\\udd16\",\"\\ud83e\\udd16\",\"\\ud83e\\udd16\",\"\\ud83e\\udd16\",\"\\ud83e\\udd16\",\"\\ud83e\\udd16\",\"\\ud83e\\udd16\",\"\\ud83e\\udd16\",\"\\ud83e\\udd16\",\"\\ud83e\\udd16\",\"\\ud83e\\udd16\",\"\\ud83e\\udd16\",\"\\ud83e\\udd16\",\"\\ud83e\\udd16\",\"\\ud83e\\udd16\",\"\\ud83e\\udd16\",\"\\ud83e\\udd16\",\"\\ud83e\\udd16\",\"\\ud83e\\udd16\",\"\\ud83e\\udd16\",\"\\ud83e\\udd16\",\"\\ud83e\\udd16\",\"\\ud83e\\udd16\",\"\\ud83e\\udd16\",\"\\ud83e\\udd16\",\"\\ud83e\\udd16\",\"\\ud83e\\udd16\",\"\\ud83e\\udd16\",\"\\ud83e\\udd16\",\"\\ud83e\\udd16\",\"\\ud83e\\udd16\",\"\\ud83e\\udd16\",\"\\ud83e\\udd16\",\"\\ud83e\\udd16\",\"\\ud83e\\udd16\",\"\\ud83e\\udd16\",\"\\ud83e\\udd16\",\"\\ud83e\\udd16\",\"\\ud83e\\udd16\",\"\\ud83e\\udd16\",\"\\ud83e\\udd16\",\"\\ud83e\\udd16\",\"\\ud83e\\udd16\",\"\\ud83e\\udd16\",\"\\ud83e\\udd16\",\"\\ud83e\\udd16\",\"\\ud83e\\udd16\",\"\\ud83e\\udd16\",\"\\ud83e\\udd16\",\"\\ud83e\\udd16\",\"\\ud83e\\udd16\",\"\\ud83e\\udd16\",\"\\ud83e\\udd16\",\"\\ud83e\\udd16\",\"\\ud83e\\udd16\",\"\\ud83e\\udd16\",\"\\ud83e\\udd16\",\"\\ud83e\\udd16\",\"\\ud83e\\udd16\",\"\\ud83e\\udd16\",\"\\ud83e\\udd16\"],\"type\":\"scattergeo\"},{\"customdata\":[[\"Afghanistan\",\"Asia\",2011,3.831719160079956,\"\\ud83e\\udd22\",\"AFG\"],[\"Armenia\",\"Asia\",2011,4.260491371154785,\"\\ud83e\\udd22\",\"ARM\"],[\"Benin\",\"Africa\",2011,3.870279550552368,\"\\ud83e\\udd22\",\"BEN\"],[\"Botswana\",\"Africa\",2011,3.519921064376831,\"\\ud83e\\udd22\",\"BWA\"],[\"Bulgaria\",\"Europe\",2011,3.875382423400879,\"\\ud83e\\udd22\",\"BGR\"],[\"Burundi\",\"Africa\",2011,3.7058942317962646,\"\\ud83e\\udd22\",\"BDI\"],[\"Cambodia\",\"Asia\",2011,4.161225318908691,\"\\ud83e\\udd22\",\"KHM\"],[\"Cameroon\",\"Africa\",2011,4.433885097503662,\"\\ud83e\\udd22\",\"CMR\"],[\"Central African Republic\",null,2011,3.677826404571533,\"\\ud83e\\udd22\",\"CAF\"],[\"Chad\",\"Africa\",2011,4.393482208251953,\"\\ud83e\\udd22\",\"TCD\"],[\"Comoros\",null,2011,3.8384859561920166,\"\\ud83e\\udd22\",\"COM\"],[\"Djibouti\",null,2011,4.3691935539245605,\"\\ud83e\\udd22\",\"DJI\"],[\"Gabon\",\"Africa\",2011,4.255400657653809,\"\\ud83e\\udd22\",\"GAB\"],[\"Georgia\",\"Asia\",2011,4.203030586242676,\"\\ud83e\\udd22\",\"GEO\"],[\"Guinea\",\"South America\",2011,4.044569492340088,\"\\ud83e\\udd22\",\"GIN\"],[\"Kenya\",\"Africa\",2011,4.405310153961182,\"\\ud83e\\udd22\",\"KEN\"],[\"Madagascar\",\"Africa\",2011,4.381415367126465,\"\\ud83e\\udd22\",\"MDG\"],[\"Malawi\",\"Africa\",2011,3.9460625648498535,\"\\ud83e\\udd22\",\"MWI\"],[\"Nepal\",\"Asia\",2011,3.8094446659088135,\"\\ud83e\\udd22\",\"NPL\"],[\"Rwanda\",\"Africa\",2011,4.09743595123291,\"\\ud83e\\udd22\",\"RWA\"],[\"Senegal\",\"Africa\",2011,3.8342015743255615,\"\\ud83e\\udd22\",\"SEN\"],[\"Sri Lanka\",\"Asia\",2011,4.180569171905518,\"\\ud83e\\udd22\",\"LKA\"],[\"Sudan\",null,2011,4.314456462860107,\"\\ud83e\\udd22\",\"SDN\"],[\"Tajikistan\",\"Asia\",2011,4.26267147064209,\"\\ud83e\\udd22\",\"TJK\"],[\"Tanzania\",\"Africa\",2011,4.073562145233154,\"\\ud83e\\udd22\",\"TZA\"],[\"Togo\",\"Africa\",2011,2.93622088432312,\"\\ud83e\\udd22\",\"TGO\"]],\"geo\":\"geo\",\"hovertemplate\":\"<b>%{hovertext}</b><br><br>emoji=%{customdata[4]}<br>year=%{customdata[2]}<br>Happiness Score=%{customdata[3]}<br>continent=%{customdata[1]}<extra></extra>\",\"hovertext\":[\"Afghanistan\",\"Armenia\",\"Benin\",\"Botswana\",\"Bulgaria\",\"Burundi\",\"Cambodia\",\"Cameroon\",\"Central African Republic\",\"Chad\",\"Comoros\",\"Djibouti\",\"Gabon\",\"Georgia\",\"Guinea\",\"Kenya\",\"Madagascar\",\"Malawi\",\"Nepal\",\"Rwanda\",\"Senegal\",\"Sri Lanka\",\"Sudan\",\"Tajikistan\",\"Tanzania\",\"Togo\"],\"legendgroup\":\"\\ud83e\\udd22\",\"locations\":[\"AFG\",\"ARM\",\"BEN\",\"BWA\",\"BGR\",\"BDI\",\"KHM\",\"CMR\",\"CAF\",\"TCD\",\"COM\",\"DJI\",\"GAB\",\"GEO\",\"GIN\",\"KEN\",\"MDG\",\"MWI\",\"NPL\",\"RWA\",\"SEN\",\"LKA\",\"SDN\",\"TJK\",\"TZA\",\"TGO\"],\"marker\":{\"color\":\"#00cc96\",\"size\":[3.831719160079956,4.260491371154785,3.870279550552368,3.519921064376831,3.875382423400879,3.7058942317962646,4.161225318908691,4.433885097503662,3.677826404571533,4.393482208251953,3.8384859561920166,4.3691935539245605,4.255400657653809,4.203030586242676,4.044569492340088,4.405310153961182,4.381415367126465,3.9460625648498535,3.8094446659088135,4.09743595123291,3.8342015743255615,4.180569171905518,4.314456462860107,4.26267147064209,4.073562145233154,2.93622088432312],\"sizemode\":\"area\",\"sizeref\":7.970891952514648,\"symbol\":\"circle\"},\"mode\":\"markers+text\",\"name\":\"\\ud83e\\udd22\",\"showlegend\":true,\"text\":[\"\\ud83e\\udd22\",\"\\ud83e\\udd22\",\"\\ud83e\\udd22\",\"\\ud83e\\udd22\",\"\\ud83e\\udd22\",\"\\ud83e\\udd22\",\"\\ud83e\\udd22\",\"\\ud83e\\udd22\",\"\\ud83e\\udd22\",\"\\ud83e\\udd22\",\"\\ud83e\\udd22\",\"\\ud83e\\udd22\",\"\\ud83e\\udd22\",\"\\ud83e\\udd22\",\"\\ud83e\\udd22\",\"\\ud83e\\udd22\",\"\\ud83e\\udd22\",\"\\ud83e\\udd22\",\"\\ud83e\\udd22\",\"\\ud83e\\udd22\",\"\\ud83e\\udd22\",\"\\ud83e\\udd22\",\"\\ud83e\\udd22\",\"\\ud83e\\udd22\",\"\\ud83e\\udd22\",\"\\ud83e\\udd22\"],\"type\":\"scattergeo\"}],\"name\":\"2011\"},{\"data\":[{\"customdata\":[[\"Argentina\",\"South America\",2012,6.468387126922607,\"\\ud83e\\udd70\",\"ARG\"],[\"Australia\",\"Oceania\",2012,7.19558572769165,\"\\ud83e\\udd70\",\"AUS\"],[\"Austria\",\"Europe\",2012,7.400688648223877,\"\\ud83e\\udd70\",\"AUT\"],[\"Belgium\",\"Europe\",2012,6.935122013092041,\"\\ud83e\\udd70\",\"BEL\"],[\"Bolivia\",\"South America\",2012,6.018894672393799,\"\\ud83e\\udd70\",\"BOL\"],[\"Brazil\",\"South America\",2012,6.660003662109375,\"\\ud83e\\udd70\",\"BRA\"],[\"Canada\",\"North America\",2012,7.415144443511963,\"\\ud83e\\udd70\",\"CAN\"],[\"Chile\",\"South America\",2012,6.599128723144531,\"\\ud83e\\udd70\",\"CHL\"],[\"Colombia\",\"South America\",2012,6.374879837036133,\"\\ud83e\\udd70\",\"COL\"],[\"Costa Rica\",\"South America\",2012,7.272250175476074,\"\\ud83e\\udd70\",\"CRI\"],[\"Croatia\",\"Europe\",2012,6.027634620666504,\"\\ud83e\\udd70\",\"HRV\"],[\"Cyprus\",\"Asia\",2012,6.180507183074951,\"\\ud83e\\udd70\",\"CYP\"],[\"Czechia\",null,2012,6.334149360656738,\"\\ud83e\\udd70\",\"CZE\"],[\"Denmark\",\"Europe\",2012,7.519909381866455,\"\\ud83e\\udd70\",\"DNK\"],[\"Finland\",\"Europe\",2012,7.4202094078063965,\"\\ud83e\\udd70\",\"FIN\"],[\"France\",\"Europe\",2012,6.649365425109863,\"\\ud83e\\udd70\",\"FRA\"],[\"Germany\",\"Europe\",2012,6.702362060546875,\"\\ud83e\\udd70\",\"DEU\"],[\"Iceland\",\"Europe\",2012,7.590660095214844,\"\\ud83e\\udd70\",\"ISL\"],[\"Ireland\",\"Europe\",2012,6.964645385742188,\"\\ud83e\\udd70\",\"IRL\"],[\"Israel\",\"Asia\",2012,7.110854625701904,\"\\ud83e\\udd70\",\"ISR\"],[\"Kuwait\",\"Asia\",2012,6.221094608306885,\"\\ud83e\\udd70\",\"KWT\"],[\"Luxembourg\",\"Europe\",2012,6.964097023010254,\"\\ud83e\\udd70\",\"LUX\"],[\"Mexico\",\"North America\",2012,7.32018518447876,\"\\ud83e\\udd70\",\"MEX\"],[\"Netherlands\",\"Europe\",2012,7.470715522766113,\"\\ud83e\\udd70\",\"NLD\"],[\"New Zealand\",\"Oceania\",2012,7.249629974365234,\"\\ud83e\\udd70\",\"NZL\"],[\"Norway\",\"Europe\",2012,7.678277015686035,\"\\ud83e\\udd70\",\"NOR\"],[\"Panama\",\"South America\",2012,6.859835624694824,\"\\ud83e\\udd70\",\"PAN\"],[\"Qatar\",null,2012,6.611298561096191,\"\\ud83e\\udd70\",\"QAT\"],[\"Saudi Arabia\",\"Asia\",2012,6.396359443664551,\"\\ud83e\\udd70\",\"SAU\"],[\"Slovenia\",\"Europe\",2012,6.062891006469727,\"\\ud83e\\udd70\",\"SVN\"],[\"Spain\",\"Europe\",2012,6.2906904220581055,\"\\ud83e\\udd70\",\"ESP\"],[\"Suriname\",null,2012,6.269286632537842,\"\\ud83e\\udd70\",\"SUR\"],[\"Sweden\",\"Europe\",2012,7.560147762298584,\"\\ud83e\\udd70\",\"SWE\"],[\"Switzerland\",\"Europe\",2012,7.776208877563477,\"\\ud83e\\udd70\",\"CHE\"],[\"Thailand\",\"Asia\",2012,6.300235271453857,\"\\ud83e\\udd70\",\"THA\"],[\"United Arab Emirates\",\"Asia\",2012,7.217766761779785,\"\\ud83e\\udd70\",\"ARE\"],[\"United Kingdom\",\"Europe\",2012,6.880784034729004,\"\\ud83e\\udd70\",\"GBR\"],[\"United States\",\"North America\",2012,7.026226997375488,\"\\ud83e\\udd70\",\"USA\"],[\"Uruguay\",\"South America\",2012,6.449728488922119,\"\\ud83e\\udd70\",\"URY\"],[\"Uzbekistan\",\"Asia\",2012,6.019331932067871,\"\\ud83e\\udd70\",\"UZB\"]],\"geo\":\"geo\",\"hovertemplate\":\"<b>%{hovertext}</b><br><br>emoji=%{customdata[4]}<br>year=%{customdata[2]}<br>Happiness Score=%{customdata[3]}<br>continent=%{customdata[1]}<extra></extra>\",\"hovertext\":[\"Argentina\",\"Australia\",\"Austria\",\"Belgium\",\"Bolivia\",\"Brazil\",\"Canada\",\"Chile\",\"Colombia\",\"Costa Rica\",\"Croatia\",\"Cyprus\",\"Czechia\",\"Denmark\",\"Finland\",\"France\",\"Germany\",\"Iceland\",\"Ireland\",\"Israel\",\"Kuwait\",\"Luxembourg\",\"Mexico\",\"Netherlands\",\"New Zealand\",\"Norway\",\"Panama\",\"Qatar\",\"Saudi Arabia\",\"Slovenia\",\"Spain\",\"Suriname\",\"Sweden\",\"Switzerland\",\"Thailand\",\"United Arab Emirates\",\"United Kingdom\",\"United States\",\"Uruguay\",\"Uzbekistan\"],\"legendgroup\":\"\\ud83e\\udd70\",\"locations\":[\"ARG\",\"AUS\",\"AUT\",\"BEL\",\"BOL\",\"BRA\",\"CAN\",\"CHL\",\"COL\",\"CRI\",\"HRV\",\"CYP\",\"CZE\",\"DNK\",\"FIN\",\"FRA\",\"DEU\",\"ISL\",\"IRL\",\"ISR\",\"KWT\",\"LUX\",\"MEX\",\"NLD\",\"NZL\",\"NOR\",\"PAN\",\"QAT\",\"SAU\",\"SVN\",\"ESP\",\"SUR\",\"SWE\",\"CHE\",\"THA\",\"ARE\",\"GBR\",\"USA\",\"URY\",\"UZB\"],\"marker\":{\"color\":\"#636efa\",\"size\":[6.468387126922607,7.19558572769165,7.400688648223877,6.935122013092041,6.018894672393799,6.660003662109375,7.415144443511963,6.599128723144531,6.374879837036133,7.272250175476074,6.027634620666504,6.180507183074951,6.334149360656738,7.519909381866455,7.4202094078063965,6.649365425109863,6.702362060546875,7.590660095214844,6.964645385742188,7.110854625701904,6.221094608306885,6.964097023010254,7.32018518447876,7.470715522766113,7.249629974365234,7.678277015686035,6.859835624694824,6.611298561096191,6.396359443664551,6.062891006469727,6.2906904220581055,6.269286632537842,7.560147762298584,7.776208877563477,6.300235271453857,7.217766761779785,6.880784034729004,7.026226997375488,6.449728488922119,6.019331932067871],\"sizemode\":\"area\",\"sizeref\":7.970891952514648,\"symbol\":\"circle\"},\"mode\":\"markers+text\",\"name\":\"\\ud83e\\udd70\",\"showlegend\":true,\"text\":[\"\\ud83e\\udd70\",\"\\ud83e\\udd70\",\"\\ud83e\\udd70\",\"\\ud83e\\udd70\",\"\\ud83e\\udd70\",\"\\ud83e\\udd70\",\"\\ud83e\\udd70\",\"\\ud83e\\udd70\",\"\\ud83e\\udd70\",\"\\ud83e\\udd70\",\"\\ud83e\\udd70\",\"\\ud83e\\udd70\",\"\\ud83e\\udd70\",\"\\ud83e\\udd70\",\"\\ud83e\\udd70\",\"\\ud83e\\udd70\",\"\\ud83e\\udd70\",\"\\ud83e\\udd70\",\"\\ud83e\\udd70\",\"\\ud83e\\udd70\",\"\\ud83e\\udd70\",\"\\ud83e\\udd70\",\"\\ud83e\\udd70\",\"\\ud83e\\udd70\",\"\\ud83e\\udd70\",\"\\ud83e\\udd70\",\"\\ud83e\\udd70\",\"\\ud83e\\udd70\",\"\\ud83e\\udd70\",\"\\ud83e\\udd70\",\"\\ud83e\\udd70\",\"\\ud83e\\udd70\",\"\\ud83e\\udd70\",\"\\ud83e\\udd70\",\"\\ud83e\\udd70\",\"\\ud83e\\udd70\",\"\\ud83e\\udd70\",\"\\ud83e\\udd70\",\"\\ud83e\\udd70\",\"\\ud83e\\udd70\"],\"type\":\"scattergeo\"},{\"customdata\":[[\"Albania\",\"Europe\",2012,5.510124206542969,\"\\ud83e\\udd16\",\"ALB\"],[\"Algeria\",\"Africa\",2012,5.60459566116333,\"\\ud83e\\udd16\",\"DZA\"],[\"Azerbaijan\",\"Asia\",2012,4.91077184677124,\"\\ud83e\\udd16\",\"AZE\"],[\"Bahrain\",\"Asia\",2012,5.027186870574951,\"\\ud83e\\udd16\",\"BHR\"],[\"Bangladesh\",\"Asia\",2012,4.724443912506104,\"\\ud83e\\udd16\",\"BGD\"],[\"Belarus\",\"Europe\",2012,5.7490434646606445,\"\\ud83e\\udd16\",\"BLR\"],[\"Bosnia and Herzegovina\",\"Europe\",2012,4.773144721984863,\"\\ud83e\\udd16\",\"BIH\"],[\"Botswana\",\"Africa\",2012,4.835938930511475,\"\\ud83e\\udd16\",\"BWA\"],[\"China\",\"Asia\",2012,5.094917297363281,\"\\ud83e\\udd16\",\"CHN\"],[\"Dominican Republic\",\"South America\",2012,4.7533111572265625,\"\\ud83e\\udd16\",\"DOM\"],[\"Ecuador\",\"South America\",2012,5.960716247558594,\"\\ud83e\\udd16\",\"ECU\"],[\"El Salvador\",\"South America\",2012,5.934371471405029,\"\\ud83e\\udd16\",\"SLV\"],[\"Estonia\",\"Europe\",2012,5.363927841186523,\"\\ud83e\\udd16\",\"EST\"],[\"Ethiopia\",\"Africa\",2012,4.561168670654297,\"\\ud83e\\udd16\",\"ETH\"],[\"Ghana\",\"Africa\",2012,5.057261943817139,\"\\ud83e\\udd16\",\"GHA\"],[\"Greece\",\"Europe\",2012,5.096354007720947,\"\\ud83e\\udd16\",\"GRC\"],[\"Guatemala\",\"South America\",2012,5.855717182159424,\"\\ud83e\\udd16\",\"GTM\"],[\"Honduras\",\"South America\",2012,4.602218151092529,\"\\ud83e\\udd16\",\"HND\"],[\"Hungary\",\"Europe\",2012,4.683358192443848,\"\\ud83e\\udd16\",\"HUN\"],[\"India\",\"Asia\",2012,4.720146656036377,\"\\ud83e\\udd16\",\"IND\"],[\"Indonesia\",\"Asia\",2012,5.36777400970459,\"\\ud83e\\udd16\",\"IDN\"],[\"Iraq\",\"Asia\",2012,4.65950870513916,\"\\ud83e\\udd16\",\"IRQ\"],[\"Italy\",\"Europe\",2012,5.839313983917236,\"\\ud83e\\udd16\",\"ITA\"],[\"Japan\",\"Asia\",2012,5.968216419219971,\"\\ud83e\\udd16\",\"JPN\"],[\"Jordan\",\"Asia\",2012,5.131996154785156,\"\\ud83e\\udd16\",\"JOR\"],[\"Kazakhstan\",\"Asia\",2012,5.759469509124756,\"\\ud83e\\udd16\",\"KAZ\"],[\"Kenya\",\"Africa\",2012,4.547335147857666,\"\\ud83e\\udd16\",\"KEN\"],[\"Kosovo\",\"Europe\",2012,5.639588356018066,\"\\ud83e\\udd16\",\"XKX\"],[\"Latvia\",\"Europe\",2012,5.125025272369385,\"\\ud83e\\udd16\",\"LVA\"],[\"Lebanon\",\"Asia\",2012,4.572566986083984,\"\\ud83e\\udd16\",\"LBN\"],[\"Libya\",\"Africa\",2012,5.754394054412842,\"\\ud83e\\udd16\",\"LBY\"],[\"Lithuania\",\"Europe\",2012,5.7710371017456055,\"\\ud83e\\udd16\",\"LTU\"],[\"Malaysia\",\"Asia\",2012,5.914283752441406,\"\\ud83e\\udd16\",\"MYS\"],[\"Malta\",\"Europe\",2012,5.96287202835083,\"\\ud83e\\udd16\",\"MLT\"],[\"Mauritania\",\"Africa\",2012,4.673203945159912,\"\\ud83e\\udd16\",\"MRT\"],[\"Moldova\",\"Europe\",2012,5.995712757110596,\"\\ud83e\\udd16\",\"MDA\"],[\"Mongolia\",\"Asia\",2012,4.88515043258667,\"\\ud83e\\udd16\",\"MNG\"],[\"Montenegro\",\"Europe\",2012,5.218724250793457,\"\\ud83e\\udd16\",\"MNE\"],[\"Morocco\",\"Africa\",2012,4.969656467437744,\"\\ud83e\\udd16\",\"MAR\"],[\"Nicaragua\",\"South America\",2012,5.4480061531066895,\"\\ud83e\\udd16\",\"NIC\"],[\"Nigeria\",\"Africa\",2012,5.492954254150391,\"\\ud83e\\udd16\",\"NGA\"],[\"North Macedonia\",null,2012,4.639647483825684,\"\\ud83e\\udd16\",\"MKD\"],[\"Pakistan\",\"Asia\",2012,5.131565093994141,\"\\ud83e\\udd16\",\"PAK\"],[\"Paraguay\",\"South America\",2012,5.820058345794678,\"\\ud83e\\udd16\",\"PRY\"],[\"Peru\",\"South America\",2012,5.824557304382324,\"\\ud83e\\udd16\",\"PER\"],[\"Philippines\",\"Asia\",2012,5.001965045928955,\"\\ud83e\\udd16\",\"PHL\"],[\"Poland\",\"Europe\",2012,5.875931739807129,\"\\ud83e\\udd16\",\"POL\"],[\"Portugal\",\"Europe\",2012,4.993962287902832,\"\\ud83e\\udd16\",\"PRT\"],[\"Romania\",\"Europe\",2012,5.166874885559082,\"\\ud83e\\udd16\",\"ROU\"],[\"Serbia\",\"Europe\",2012,5.154521942138672,\"\\ud83e\\udd16\",\"SRB\"],[\"South Africa\",\"Africa\",2012,5.133887767791748,\"\\ud83e\\udd16\",\"ZAF\"],[\"Sudan\",null,2012,4.550499439239502,\"\\ud83e\\udd16\",\"SDN\"],[\"Turkmenistan\",\"Asia\",2012,5.463827133178711,\"\\ud83e\\udd16\",\"TKM\"],[\"Ukraine\",\"Europe\",2012,5.030342102050781,\"\\ud83e\\udd16\",\"UKR\"],[\"Vietnam\",\"Asia\",2012,5.53456974029541,\"\\ud83e\\udd16\",\"VNM\"],[\"Zambia\",\"Africa\",2012,5.01337480545044,\"\\ud83e\\udd16\",\"ZMB\"],[\"Zimbabwe\",\"Africa\",2012,4.955100536346436,\"\\ud83e\\udd16\",\"ZWE\"]],\"geo\":\"geo\",\"hovertemplate\":\"<b>%{hovertext}</b><br><br>emoji=%{customdata[4]}<br>year=%{customdata[2]}<br>Happiness Score=%{customdata[3]}<br>continent=%{customdata[1]}<extra></extra>\",\"hovertext\":[\"Albania\",\"Algeria\",\"Azerbaijan\",\"Bahrain\",\"Bangladesh\",\"Belarus\",\"Bosnia and Herzegovina\",\"Botswana\",\"China\",\"Dominican Republic\",\"Ecuador\",\"El Salvador\",\"Estonia\",\"Ethiopia\",\"Ghana\",\"Greece\",\"Guatemala\",\"Honduras\",\"Hungary\",\"India\",\"Indonesia\",\"Iraq\",\"Italy\",\"Japan\",\"Jordan\",\"Kazakhstan\",\"Kenya\",\"Kosovo\",\"Latvia\",\"Lebanon\",\"Libya\",\"Lithuania\",\"Malaysia\",\"Malta\",\"Mauritania\",\"Moldova\",\"Mongolia\",\"Montenegro\",\"Morocco\",\"Nicaragua\",\"Nigeria\",\"North Macedonia\",\"Pakistan\",\"Paraguay\",\"Peru\",\"Philippines\",\"Poland\",\"Portugal\",\"Romania\",\"Serbia\",\"South Africa\",\"Sudan\",\"Turkmenistan\",\"Ukraine\",\"Vietnam\",\"Zambia\",\"Zimbabwe\"],\"legendgroup\":\"\\ud83e\\udd16\",\"locations\":[\"ALB\",\"DZA\",\"AZE\",\"BHR\",\"BGD\",\"BLR\",\"BIH\",\"BWA\",\"CHN\",\"DOM\",\"ECU\",\"SLV\",\"EST\",\"ETH\",\"GHA\",\"GRC\",\"GTM\",\"HND\",\"HUN\",\"IND\",\"IDN\",\"IRQ\",\"ITA\",\"JPN\",\"JOR\",\"KAZ\",\"KEN\",\"XKX\",\"LVA\",\"LBN\",\"LBY\",\"LTU\",\"MYS\",\"MLT\",\"MRT\",\"MDA\",\"MNG\",\"MNE\",\"MAR\",\"NIC\",\"NGA\",\"MKD\",\"PAK\",\"PRY\",\"PER\",\"PHL\",\"POL\",\"PRT\",\"ROU\",\"SRB\",\"ZAF\",\"SDN\",\"TKM\",\"UKR\",\"VNM\",\"ZMB\",\"ZWE\"],\"marker\":{\"color\":\"#EF553B\",\"size\":[5.510124206542969,5.60459566116333,4.91077184677124,5.027186870574951,4.724443912506104,5.7490434646606445,4.773144721984863,4.835938930511475,5.094917297363281,4.7533111572265625,5.960716247558594,5.934371471405029,5.363927841186523,4.561168670654297,5.057261943817139,5.096354007720947,5.855717182159424,4.602218151092529,4.683358192443848,4.720146656036377,5.36777400970459,4.65950870513916,5.839313983917236,5.968216419219971,5.131996154785156,5.759469509124756,4.547335147857666,5.639588356018066,5.125025272369385,4.572566986083984,5.754394054412842,5.7710371017456055,5.914283752441406,5.96287202835083,4.673203945159912,5.995712757110596,4.88515043258667,5.218724250793457,4.969656467437744,5.4480061531066895,5.492954254150391,4.639647483825684,5.131565093994141,5.820058345794678,5.824557304382324,5.001965045928955,5.875931739807129,4.993962287902832,5.166874885559082,5.154521942138672,5.133887767791748,4.550499439239502,5.463827133178711,5.030342102050781,5.53456974029541,5.01337480545044,4.955100536346436],\"sizemode\":\"area\",\"sizeref\":7.970891952514648,\"symbol\":\"circle\"},\"mode\":\"markers+text\",\"name\":\"\\ud83e\\udd16\",\"showlegend\":true,\"text\":[\"\\ud83e\\udd16\",\"\\ud83e\\udd16\",\"\\ud83e\\udd16\",\"\\ud83e\\udd16\",\"\\ud83e\\udd16\",\"\\ud83e\\udd16\",\"\\ud83e\\udd16\",\"\\ud83e\\udd16\",\"\\ud83e\\udd16\",\"\\ud83e\\udd16\",\"\\ud83e\\udd16\",\"\\ud83e\\udd16\",\"\\ud83e\\udd16\",\"\\ud83e\\udd16\",\"\\ud83e\\udd16\",\"\\ud83e\\udd16\",\"\\ud83e\\udd16\",\"\\ud83e\\udd16\",\"\\ud83e\\udd16\",\"\\ud83e\\udd16\",\"\\ud83e\\udd16\",\"\\ud83e\\udd16\",\"\\ud83e\\udd16\",\"\\ud83e\\udd16\",\"\\ud83e\\udd16\",\"\\ud83e\\udd16\",\"\\ud83e\\udd16\",\"\\ud83e\\udd16\",\"\\ud83e\\udd16\",\"\\ud83e\\udd16\",\"\\ud83e\\udd16\",\"\\ud83e\\udd16\",\"\\ud83e\\udd16\",\"\\ud83e\\udd16\",\"\\ud83e\\udd16\",\"\\ud83e\\udd16\",\"\\ud83e\\udd16\",\"\\ud83e\\udd16\",\"\\ud83e\\udd16\",\"\\ud83e\\udd16\",\"\\ud83e\\udd16\",\"\\ud83e\\udd16\",\"\\ud83e\\udd16\",\"\\ud83e\\udd16\",\"\\ud83e\\udd16\",\"\\ud83e\\udd16\",\"\\ud83e\\udd16\",\"\\ud83e\\udd16\",\"\\ud83e\\udd16\",\"\\ud83e\\udd16\",\"\\ud83e\\udd16\",\"\\ud83e\\udd16\",\"\\ud83e\\udd16\",\"\\ud83e\\udd16\",\"\\ud83e\\udd16\",\"\\ud83e\\udd16\",\"\\ud83e\\udd16\"],\"type\":\"scattergeo\"},{\"customdata\":[[\"Afghanistan\",\"Asia\",2012,3.782937526702881,\"\\ud83e\\udd22\",\"AFG\"],[\"Angola\",null,2012,4.360249996185303,\"\\ud83e\\udd22\",\"AGO\"],[\"Armenia\",\"Asia\",2012,4.319711685180664,\"\\ud83e\\udd22\",\"ARM\"],[\"Benin\",\"Africa\",2012,3.193468809127808,\"\\ud83e\\udd22\",\"BEN\"],[\"Bulgaria\",\"Europe\",2012,4.222297191619873,\"\\ud83e\\udd22\",\"BGR\"],[\"Burkina Faso\",\"Africa\",2012,3.955008029937744,\"\\ud83e\\udd22\",\"BFA\"],[\"Cambodia\",\"Asia\",2012,3.8987069129943848,\"\\ud83e\\udd22\",\"KHM\"],[\"Cameroon\",\"Africa\",2012,4.24463415145874,\"\\ud83e\\udd22\",\"CMR\"],[\"Chad\",\"Africa\",2012,4.032974720001221,\"\\ud83e\\udd22\",\"TCD\"],[\"Comoros\",null,2012,3.9556403160095215,\"\\ud83e\\udd22\",\"COM\"],[\"Gabon\",\"Africa\",2012,3.9720592498779297,\"\\ud83e\\udd22\",\"GAB\"],[\"Georgia\",\"Asia\",2012,4.254445552825928,\"\\ud83e\\udd22\",\"GEO\"],[\"Guinea\",\"South America\",2012,3.651554822921753,\"\\ud83e\\udd22\",\"GIN\"],[\"Haiti\",\"South America\",2012,4.413475036621094,\"\\ud83e\\udd22\",\"HTI\"],[\"Madagascar\",\"Africa\",2012,3.550609588623047,\"\\ud83e\\udd22\",\"MDG\"],[\"Malawi\",\"Africa\",2012,4.279269695281982,\"\\ud83e\\udd22\",\"MWI\"],[\"Mali\",\"Africa\",2012,4.313016891479492,\"\\ud83e\\udd22\",\"MLI\"],[\"Myanmar\",\"Asia\",2012,4.438939571380615,\"\\ud83e\\udd22\",\"MMR\"],[\"Nepal\",\"Asia\",2012,4.233244895935059,\"\\ud83e\\udd22\",\"NPL\"],[\"Niger\",\"Africa\",2012,3.798088312149048,\"\\ud83e\\udd22\",\"NER\"],[\"Rwanda\",\"Africa\",2012,3.333047866821289,\"\\ud83e\\udd22\",\"RWA\"],[\"Senegal\",\"Africa\",2012,3.668736934661865,\"\\ud83e\\udd22\",\"SEN\"],[\"Sri Lanka\",\"Asia\",2012,4.224593162536621,\"\\ud83e\\udd22\",\"LKA\"],[\"Tajikistan\",\"Asia\",2012,4.49657154083252,\"\\ud83e\\udd22\",\"TJK\"],[\"Tanzania\",\"Africa\",2012,4.006897449493408,\"\\ud83e\\udd22\",\"TZA\"],[\"Tunisia\",\"Africa\",2012,4.463531017303467,\"\\ud83e\\udd22\",\"TUN\"],[\"Uganda\",\"Africa\",2012,4.309237957000732,\"\\ud83e\\udd22\",\"UGA\"]],\"geo\":\"geo\",\"hovertemplate\":\"<b>%{hovertext}</b><br><br>emoji=%{customdata[4]}<br>year=%{customdata[2]}<br>Happiness Score=%{customdata[3]}<br>continent=%{customdata[1]}<extra></extra>\",\"hovertext\":[\"Afghanistan\",\"Angola\",\"Armenia\",\"Benin\",\"Bulgaria\",\"Burkina Faso\",\"Cambodia\",\"Cameroon\",\"Chad\",\"Comoros\",\"Gabon\",\"Georgia\",\"Guinea\",\"Haiti\",\"Madagascar\",\"Malawi\",\"Mali\",\"Myanmar\",\"Nepal\",\"Niger\",\"Rwanda\",\"Senegal\",\"Sri Lanka\",\"Tajikistan\",\"Tanzania\",\"Tunisia\",\"Uganda\"],\"legendgroup\":\"\\ud83e\\udd22\",\"locations\":[\"AFG\",\"AGO\",\"ARM\",\"BEN\",\"BGR\",\"BFA\",\"KHM\",\"CMR\",\"TCD\",\"COM\",\"GAB\",\"GEO\",\"GIN\",\"HTI\",\"MDG\",\"MWI\",\"MLI\",\"MMR\",\"NPL\",\"NER\",\"RWA\",\"SEN\",\"LKA\",\"TJK\",\"TZA\",\"TUN\",\"UGA\"],\"marker\":{\"color\":\"#00cc96\",\"size\":[3.782937526702881,4.360249996185303,4.319711685180664,3.193468809127808,4.222297191619873,3.955008029937744,3.8987069129943848,4.24463415145874,4.032974720001221,3.9556403160095215,3.9720592498779297,4.254445552825928,3.651554822921753,4.413475036621094,3.550609588623047,4.279269695281982,4.313016891479492,4.438939571380615,4.233244895935059,3.798088312149048,3.333047866821289,3.668736934661865,4.224593162536621,4.49657154083252,4.006897449493408,4.463531017303467,4.309237957000732],\"sizemode\":\"area\",\"sizeref\":7.970891952514648,\"symbol\":\"circle\"},\"mode\":\"markers+text\",\"name\":\"\\ud83e\\udd22\",\"showlegend\":true,\"text\":[\"\\ud83e\\udd22\",\"\\ud83e\\udd22\",\"\\ud83e\\udd22\",\"\\ud83e\\udd22\",\"\\ud83e\\udd22\",\"\\ud83e\\udd22\",\"\\ud83e\\udd22\",\"\\ud83e\\udd22\",\"\\ud83e\\udd22\",\"\\ud83e\\udd22\",\"\\ud83e\\udd22\",\"\\ud83e\\udd22\",\"\\ud83e\\udd22\",\"\\ud83e\\udd22\",\"\\ud83e\\udd22\",\"\\ud83e\\udd22\",\"\\ud83e\\udd22\",\"\\ud83e\\udd22\",\"\\ud83e\\udd22\",\"\\ud83e\\udd22\",\"\\ud83e\\udd22\",\"\\ud83e\\udd22\",\"\\ud83e\\udd22\",\"\\ud83e\\udd22\",\"\\ud83e\\udd22\",\"\\ud83e\\udd22\",\"\\ud83e\\udd22\"],\"type\":\"scattergeo\"}],\"name\":\"2012\"},{\"data\":[{\"customdata\":[[\"Argentina\",\"South America\",2013,6.5822601318359375,\"\\ud83e\\udd70\",\"ARG\"],[\"Australia\",\"Oceania\",2013,7.364169120788574,\"\\ud83e\\udd70\",\"AUS\"],[\"Austria\",\"Europe\",2013,7.498802661895752,\"\\ud83e\\udd70\",\"AUT\"],[\"Bahrain\",\"Asia\",2013,6.689711093902588,\"\\ud83e\\udd70\",\"BHR\"],[\"Belgium\",\"Europe\",2013,7.103661060333252,\"\\ud83e\\udd70\",\"BEL\"],[\"Brazil\",\"South America\",2013,7.14028263092041,\"\\ud83e\\udd70\",\"BRA\"],[\"Canada\",\"North America\",2013,7.593793869018555,\"\\ud83e\\udd70\",\"CAN\"],[\"Chile\",\"South America\",2013,6.740153789520264,\"\\ud83e\\udd70\",\"CHL\"],[\"Colombia\",\"South America\",2013,6.606550693511963,\"\\ud83e\\udd70\",\"COL\"],[\"Costa Rica\",\"South America\",2013,7.158000469207764,\"\\ud83e\\udd70\",\"CRI\"],[\"Czechia\",null,2013,6.69765567779541,\"\\ud83e\\udd70\",\"CZE\"],[\"Denmark\",\"Europe\",2013,7.588606834411621,\"\\ud83e\\udd70\",\"DNK\"],[\"Ecuador\",\"South America\",2013,6.0192060470581055,\"\\ud83e\\udd70\",\"ECU\"],[\"El Salvador\",\"South America\",2013,6.325063228607178,\"\\ud83e\\udd70\",\"SLV\"],[\"Finland\",\"Europe\",2013,7.44463586807251,\"\\ud83e\\udd70\",\"FIN\"],[\"France\",\"Europe\",2013,6.667121410369873,\"\\ud83e\\udd70\",\"FRA\"],[\"Germany\",\"Europe\",2013,6.96512508392334,\"\\ud83e\\udd70\",\"DEU\"],[\"Iceland\",\"Europe\",2013,7.501394271850586,\"\\ud83e\\udd70\",\"ISL\"],[\"Ireland\",\"Europe\",2013,6.760085105895996,\"\\ud83e\\udd70\",\"IRL\"],[\"Israel\",\"Asia\",2013,7.320563316345215,\"\\ud83e\\udd70\",\"ISR\"],[\"Italy\",\"Europe\",2013,6.009373664855957,\"\\ud83e\\udd70\",\"ITA\"],[\"Kosovo\",\"Europe\",2013,6.125758171081543,\"\\ud83e\\udd70\",\"XKX\"],[\"Kuwait\",\"Asia\",2013,6.4800310134887695,\"\\ud83e\\udd70\",\"KWT\"],[\"Luxembourg\",\"Europe\",2013,7.130809307098389,\"\\ud83e\\udd70\",\"LUX\"],[\"Malta\",\"Europe\",2013,6.379924774169922,\"\\ud83e\\udd70\",\"MLT\"],[\"Mexico\",\"North America\",2013,7.442546367645264,\"\\ud83e\\udd70\",\"MEX\"],[\"Netherlands\",\"Europe\",2013,7.406550407409668,\"\\ud83e\\udd70\",\"NLD\"],[\"New Zealand\",\"Oceania\",2013,7.280151844024658,\"\\ud83e\\udd70\",\"NZL\"],[\"Panama\",\"South America\",2013,6.866480350494385,\"\\ud83e\\udd70\",\"PAN\"],[\"Saudi Arabia\",\"Asia\",2013,6.495132923126221,\"\\ud83e\\udd70\",\"SAU\"],[\"Singapore\",\"Asia\",2013,6.533206939697266,\"\\ud83e\\udd70\",\"SGP\"],[\"Spain\",\"Europe\",2013,6.150027275085449,\"\\ud83e\\udd70\",\"ESP\"],[\"Sweden\",\"Europe\",2013,7.434010505676269,\"\\ud83e\\udd70\",\"SWE\"],[\"Thailand\",\"Asia\",2013,6.231024742126465,\"\\ud83e\\udd70\",\"THA\"],[\"Trinidad and Tobago\",null,2013,6.1677069664001465,\"\\ud83e\\udd70\",\"TTO\"],[\"United Arab Emirates\",\"Asia\",2013,6.620951175689697,\"\\ud83e\\udd70\",\"ARE\"],[\"United Kingdom\",\"Europe\",2013,6.918055057525635,\"\\ud83e\\udd70\",\"GBR\"],[\"United States\",\"North America\",2013,7.249285221099853,\"\\ud83e\\udd70\",\"USA\"],[\"Uruguay\",\"South America\",2013,6.444464683532715,\"\\ud83e\\udd70\",\"URY\"]],\"geo\":\"geo\",\"hovertemplate\":\"<b>%{hovertext}</b><br><br>emoji=%{customdata[4]}<br>year=%{customdata[2]}<br>Happiness Score=%{customdata[3]}<br>continent=%{customdata[1]}<extra></extra>\",\"hovertext\":[\"Argentina\",\"Australia\",\"Austria\",\"Bahrain\",\"Belgium\",\"Brazil\",\"Canada\",\"Chile\",\"Colombia\",\"Costa Rica\",\"Czechia\",\"Denmark\",\"Ecuador\",\"El Salvador\",\"Finland\",\"France\",\"Germany\",\"Iceland\",\"Ireland\",\"Israel\",\"Italy\",\"Kosovo\",\"Kuwait\",\"Luxembourg\",\"Malta\",\"Mexico\",\"Netherlands\",\"New Zealand\",\"Panama\",\"Saudi Arabia\",\"Singapore\",\"Spain\",\"Sweden\",\"Thailand\",\"Trinidad and Tobago\",\"United Arab Emirates\",\"United Kingdom\",\"United States\",\"Uruguay\"],\"legendgroup\":\"\\ud83e\\udd70\",\"locations\":[\"ARG\",\"AUS\",\"AUT\",\"BHR\",\"BEL\",\"BRA\",\"CAN\",\"CHL\",\"COL\",\"CRI\",\"CZE\",\"DNK\",\"ECU\",\"SLV\",\"FIN\",\"FRA\",\"DEU\",\"ISL\",\"IRL\",\"ISR\",\"ITA\",\"XKX\",\"KWT\",\"LUX\",\"MLT\",\"MEX\",\"NLD\",\"NZL\",\"PAN\",\"SAU\",\"SGP\",\"ESP\",\"SWE\",\"THA\",\"TTO\",\"ARE\",\"GBR\",\"USA\",\"URY\"],\"marker\":{\"color\":\"#636efa\",\"size\":[6.5822601318359375,7.364169120788574,7.498802661895752,6.689711093902588,7.103661060333252,7.14028263092041,7.593793869018555,6.740153789520264,6.606550693511963,7.158000469207764,6.69765567779541,7.588606834411621,6.0192060470581055,6.325063228607178,7.44463586807251,6.667121410369873,6.96512508392334,7.501394271850586,6.760085105895996,7.320563316345215,6.009373664855957,6.125758171081543,6.4800310134887695,7.130809307098389,6.379924774169922,7.442546367645264,7.406550407409668,7.280151844024658,6.866480350494385,6.495132923126221,6.533206939697266,6.150027275085449,7.434010505676269,6.231024742126465,6.1677069664001465,6.620951175689697,6.918055057525635,7.249285221099853,6.444464683532715],\"sizemode\":\"area\",\"sizeref\":7.970891952514648,\"symbol\":\"circle\"},\"mode\":\"markers+text\",\"name\":\"\\ud83e\\udd70\",\"showlegend\":true,\"text\":[\"\\ud83e\\udd70\",\"\\ud83e\\udd70\",\"\\ud83e\\udd70\",\"\\ud83e\\udd70\",\"\\ud83e\\udd70\",\"\\ud83e\\udd70\",\"\\ud83e\\udd70\",\"\\ud83e\\udd70\",\"\\ud83e\\udd70\",\"\\ud83e\\udd70\",\"\\ud83e\\udd70\",\"\\ud83e\\udd70\",\"\\ud83e\\udd70\",\"\\ud83e\\udd70\",\"\\ud83e\\udd70\",\"\\ud83e\\udd70\",\"\\ud83e\\udd70\",\"\\ud83e\\udd70\",\"\\ud83e\\udd70\",\"\\ud83e\\udd70\",\"\\ud83e\\udd70\",\"\\ud83e\\udd70\",\"\\ud83e\\udd70\",\"\\ud83e\\udd70\",\"\\ud83e\\udd70\",\"\\ud83e\\udd70\",\"\\ud83e\\udd70\",\"\\ud83e\\udd70\",\"\\ud83e\\udd70\",\"\\ud83e\\udd70\",\"\\ud83e\\udd70\",\"\\ud83e\\udd70\",\"\\ud83e\\udd70\",\"\\ud83e\\udd70\",\"\\ud83e\\udd70\",\"\\ud83e\\udd70\",\"\\ud83e\\udd70\",\"\\ud83e\\udd70\",\"\\ud83e\\udd70\"],\"type\":\"scattergeo\"},{\"customdata\":[[\"Albania\",\"Europe\",2013,4.550647735595703,\"\\ud83e\\udd16\",\"ALB\"],[\"Azerbaijan\",\"Asia\",2013,5.481178283691406,\"\\ud83e\\udd16\",\"AZE\"],[\"Bangladesh\",\"Asia\",2013,4.660161018371582,\"\\ud83e\\udd16\",\"BGD\"],[\"Belarus\",\"Europe\",2013,5.876466274261475,\"\\ud83e\\udd16\",\"BLR\"],[\"Bhutan\",null,2013,5.569091796875,\"\\ud83e\\udd16\",\"BTN\"],[\"Bolivia\",\"South America\",2013,5.767428874969482,\"\\ud83e\\udd16\",\"BOL\"],[\"Bosnia and Herzegovina\",\"Europe\",2013,5.123664379119873,\"\\ud83e\\udd16\",\"BIH\"],[\"China\",\"Asia\",2013,5.241090297698975,\"\\ud83e\\udd16\",\"CHN\"],[\"Croatia\",\"Europe\",2013,5.885462760925293,\"\\ud83e\\udd16\",\"HRV\"],[\"Cyprus\",\"Asia\",2013,5.438952445983887,\"\\ud83e\\udd16\",\"CYP\"],[\"Dominican Republic\",\"South America\",2013,5.015515327453613,\"\\ud83e\\udd16\",\"DOM\"],[\"Estonia\",\"Europe\",2013,5.367445945739746,\"\\ud83e\\udd16\",\"EST\"],[\"Ghana\",\"Africa\",2013,4.965053081512451,\"\\ud83e\\udd16\",\"GHA\"],[\"Greece\",\"Europe\",2013,4.720251083374023,\"\\ud83e\\udd16\",\"GRC\"],[\"Guatemala\",\"South America\",2013,5.9846014976501465,\"\\ud83e\\udd16\",\"GTM\"],[\"Haiti\",\"South America\",2013,4.621962070465088,\"\\ud83e\\udd16\",\"HTI\"],[\"Honduras\",\"South America\",2013,4.713358402252197,\"\\ud83e\\udd16\",\"HND\"],[\"Hungary\",\"Europe\",2013,4.914466857910156,\"\\ud83e\\udd16\",\"HUN\"],[\"Indonesia\",\"Asia\",2013,5.292237758636475,\"\\ud83e\\udd16\",\"IDN\"],[\"Iraq\",\"Asia\",2013,4.725017070770264,\"\\ud83e\\udd16\",\"IRQ\"],[\"Jamaica\",\"South America\",2013,5.708886623382568,\"\\ud83e\\udd16\",\"JAM\"],[\"Japan\",\"Asia\",2013,5.959361553192139,\"\\ud83e\\udd16\",\"JPN\"],[\"Jordan\",\"Asia\",2013,5.171952724456787,\"\\ud83e\\udd16\",\"JOR\"],[\"Kazakhstan\",\"Asia\",2013,5.835483074188232,\"\\ud83e\\udd16\",\"KAZ\"],[\"Latvia\",\"Europe\",2013,5.069770336151123,\"\\ud83e\\udd16\",\"LVA\"],[\"Lebanon\",\"Asia\",2013,4.983288764953613,\"\\ud83e\\udd16\",\"LBN\"],[\"Lithuania\",\"Europe\",2013,5.595689296722412,\"\\ud83e\\udd16\",\"LTU\"],[\"Malaysia\",\"Asia\",2013,5.770199775695801,\"\\ud83e\\udd16\",\"MYS\"],[\"Moldova\",\"Europe\",2013,5.756059169769287,\"\\ud83e\\udd16\",\"MDA\"],[\"Mongolia\",\"Asia\",2013,4.912928104400635,\"\\ud83e\\udd16\",\"MNG\"],[\"Montenegro\",\"Europe\",2013,5.074341773986816,\"\\ud83e\\udd16\",\"MNE\"],[\"Morocco\",\"Africa\",2013,5.142160415649414,\"\\ud83e\\udd16\",\"MAR\"],[\"Nepal\",\"Asia\",2013,4.604576587677002,\"\\ud83e\\udd16\",\"NPL\"],[\"Nicaragua\",\"South America\",2013,5.772274971008301,\"\\ud83e\\udd16\",\"NIC\"],[\"Nigeria\",\"Africa\",2013,4.817868709564209,\"\\ud83e\\udd16\",\"NGA\"],[\"North Macedonia\",null,2013,5.186190605163574,\"\\ud83e\\udd16\",\"MKD\"],[\"Pakistan\",\"Asia\",2013,5.138082504272461,\"\\ud83e\\udd16\",\"PAK\"],[\"Paraguay\",\"South America\",2013,5.9362406730651855,\"\\ud83e\\udd16\",\"PRY\"],[\"Peru\",\"South America\",2013,5.782557487487793,\"\\ud83e\\udd16\",\"PER\"],[\"Philippines\",\"Asia\",2013,4.976925373077393,\"\\ud83e\\udd16\",\"PHL\"],[\"Poland\",\"Europe\",2013,5.746131896972656,\"\\ud83e\\udd16\",\"POL\"],[\"Portugal\",\"Europe\",2013,5.157688140869141,\"\\ud83e\\udd16\",\"PRT\"],[\"Romania\",\"Europe\",2013,5.081584453582764,\"\\ud83e\\udd16\",\"ROU\"],[\"Serbia\",\"Europe\",2013,5.101840496063232,\"\\ud83e\\udd16\",\"SRB\"],[\"Sierra Leone\",\"Africa\",2013,4.514291286468506,\"\\ud83e\\udd16\",\"SLE\"],[\"Slovenia\",\"Europe\",2013,5.974888801574707,\"\\ud83e\\udd16\",\"SVN\"],[\"Tajikistan\",\"Asia\",2013,4.966521263122559,\"\\ud83e\\udd16\",\"TJK\"],[\"Tunisia\",\"Africa\",2013,5.245604991912842,\"\\ud83e\\udd16\",\"TUN\"],[\"Turkmenistan\",\"Asia\",2013,5.391762733459473,\"\\ud83e\\udd16\",\"TKM\"],[\"Ukraine\",\"Europe\",2013,4.7108025550842285,\"\\ud83e\\udd16\",\"UKR\"],[\"Uzbekistan\",\"Asia\",2013,5.939986228942871,\"\\ud83e\\udd16\",\"UZB\"],[\"Vietnam\",\"Asia\",2013,5.022698879241943,\"\\ud83e\\udd16\",\"VNM\"],[\"Zambia\",\"Africa\",2013,5.243995666503906,\"\\ud83e\\udd16\",\"ZMB\"],[\"Zimbabwe\",\"Africa\",2013,4.690187931060791,\"\\ud83e\\udd16\",\"ZWE\"]],\"geo\":\"geo\",\"hovertemplate\":\"<b>%{hovertext}</b><br><br>emoji=%{customdata[4]}<br>year=%{customdata[2]}<br>Happiness Score=%{customdata[3]}<br>continent=%{customdata[1]}<extra></extra>\",\"hovertext\":[\"Albania\",\"Azerbaijan\",\"Bangladesh\",\"Belarus\",\"Bhutan\",\"Bolivia\",\"Bosnia and Herzegovina\",\"China\",\"Croatia\",\"Cyprus\",\"Dominican Republic\",\"Estonia\",\"Ghana\",\"Greece\",\"Guatemala\",\"Haiti\",\"Honduras\",\"Hungary\",\"Indonesia\",\"Iraq\",\"Jamaica\",\"Japan\",\"Jordan\",\"Kazakhstan\",\"Latvia\",\"Lebanon\",\"Lithuania\",\"Malaysia\",\"Moldova\",\"Mongolia\",\"Montenegro\",\"Morocco\",\"Nepal\",\"Nicaragua\",\"Nigeria\",\"North Macedonia\",\"Pakistan\",\"Paraguay\",\"Peru\",\"Philippines\",\"Poland\",\"Portugal\",\"Romania\",\"Serbia\",\"Sierra Leone\",\"Slovenia\",\"Tajikistan\",\"Tunisia\",\"Turkmenistan\",\"Ukraine\",\"Uzbekistan\",\"Vietnam\",\"Zambia\",\"Zimbabwe\"],\"legendgroup\":\"\\ud83e\\udd16\",\"locations\":[\"ALB\",\"AZE\",\"BGD\",\"BLR\",\"BTN\",\"BOL\",\"BIH\",\"CHN\",\"HRV\",\"CYP\",\"DOM\",\"EST\",\"GHA\",\"GRC\",\"GTM\",\"HTI\",\"HND\",\"HUN\",\"IDN\",\"IRQ\",\"JAM\",\"JPN\",\"JOR\",\"KAZ\",\"LVA\",\"LBN\",\"LTU\",\"MYS\",\"MDA\",\"MNG\",\"MNE\",\"MAR\",\"NPL\",\"NIC\",\"NGA\",\"MKD\",\"PAK\",\"PRY\",\"PER\",\"PHL\",\"POL\",\"PRT\",\"ROU\",\"SRB\",\"SLE\",\"SVN\",\"TJK\",\"TUN\",\"TKM\",\"UKR\",\"UZB\",\"VNM\",\"ZMB\",\"ZWE\"],\"marker\":{\"color\":\"#EF553B\",\"size\":[4.550647735595703,5.481178283691406,4.660161018371582,5.876466274261475,5.569091796875,5.767428874969482,5.123664379119873,5.241090297698975,5.885462760925293,5.438952445983887,5.015515327453613,5.367445945739746,4.965053081512451,4.720251083374023,5.9846014976501465,4.621962070465088,4.713358402252197,4.914466857910156,5.292237758636475,4.725017070770264,5.708886623382568,5.959361553192139,5.171952724456787,5.835483074188232,5.069770336151123,4.983288764953613,5.595689296722412,5.770199775695801,5.756059169769287,4.912928104400635,5.074341773986816,5.142160415649414,4.604576587677002,5.772274971008301,4.817868709564209,5.186190605163574,5.138082504272461,5.9362406730651855,5.782557487487793,4.976925373077393,5.746131896972656,5.157688140869141,5.081584453582764,5.101840496063232,4.514291286468506,5.974888801574707,4.966521263122559,5.245604991912842,5.391762733459473,4.7108025550842285,5.939986228942871,5.022698879241943,5.243995666503906,4.690187931060791],\"sizemode\":\"area\",\"sizeref\":7.970891952514648,\"symbol\":\"circle\"},\"mode\":\"markers+text\",\"name\":\"\\ud83e\\udd16\",\"showlegend\":true,\"text\":[\"\\ud83e\\udd16\",\"\\ud83e\\udd16\",\"\\ud83e\\udd16\",\"\\ud83e\\udd16\",\"\\ud83e\\udd16\",\"\\ud83e\\udd16\",\"\\ud83e\\udd16\",\"\\ud83e\\udd16\",\"\\ud83e\\udd16\",\"\\ud83e\\udd16\",\"\\ud83e\\udd16\",\"\\ud83e\\udd16\",\"\\ud83e\\udd16\",\"\\ud83e\\udd16\",\"\\ud83e\\udd16\",\"\\ud83e\\udd16\",\"\\ud83e\\udd16\",\"\\ud83e\\udd16\",\"\\ud83e\\udd16\",\"\\ud83e\\udd16\",\"\\ud83e\\udd16\",\"\\ud83e\\udd16\",\"\\ud83e\\udd16\",\"\\ud83e\\udd16\",\"\\ud83e\\udd16\",\"\\ud83e\\udd16\",\"\\ud83e\\udd16\",\"\\ud83e\\udd16\",\"\\ud83e\\udd16\",\"\\ud83e\\udd16\",\"\\ud83e\\udd16\",\"\\ud83e\\udd16\",\"\\ud83e\\udd16\",\"\\ud83e\\udd16\",\"\\ud83e\\udd16\",\"\\ud83e\\udd16\",\"\\ud83e\\udd16\",\"\\ud83e\\udd16\",\"\\ud83e\\udd16\",\"\\ud83e\\udd16\",\"\\ud83e\\udd16\",\"\\ud83e\\udd16\",\"\\ud83e\\udd16\",\"\\ud83e\\udd16\",\"\\ud83e\\udd16\",\"\\ud83e\\udd16\",\"\\ud83e\\udd16\",\"\\ud83e\\udd16\",\"\\ud83e\\udd16\",\"\\ud83e\\udd16\",\"\\ud83e\\udd16\",\"\\ud83e\\udd16\",\"\\ud83e\\udd16\",\"\\ud83e\\udd16\"],\"type\":\"scattergeo\"},{\"customdata\":[[\"Afghanistan\",\"Asia\",2013,3.5721004009246826,\"\\ud83e\\udd22\",\"AFG\"],[\"Angola\",null,2013,3.9371068477630615,\"\\ud83e\\udd22\",\"AGO\"],[\"Armenia\",\"Asia\",2013,4.277191162109375,\"\\ud83e\\udd22\",\"ARM\"],[\"Benin\",\"Africa\",2013,3.479412794113159,\"\\ud83e\\udd22\",\"BEN\"],[\"Botswana\",\"Africa\",2013,4.128298759460449,\"\\ud83e\\udd22\",\"BWA\"],[\"Bulgaria\",\"Europe\",2013,3.993020534515381,\"\\ud83e\\udd22\",\"BGR\"],[\"Burkina Faso\",\"Africa\",2013,3.3259496688842773,\"\\ud83e\\udd22\",\"BFA\"],[\"Cambodia\",\"Asia\",2013,3.674466848373413,\"\\ud83e\\udd22\",\"KHM\"],[\"Cameroon\",\"Africa\",2013,4.271038055419922,\"\\ud83e\\udd22\",\"CMR\"],[\"Chad\",\"Africa\",2013,3.5076630115509038,\"\\ud83e\\udd22\",\"TCD\"],[\"Ethiopia\",\"Africa\",2013,4.444827079772949,\"\\ud83e\\udd22\",\"ETH\"],[\"Gabon\",\"Africa\",2013,3.8002870082855225,\"\\ud83e\\udd22\",\"GAB\"],[\"Georgia\",\"Asia\",2013,4.348920822143555,\"\\ud83e\\udd22\",\"GEO\"],[\"Guinea\",\"South America\",2013,3.9017930030822754,\"\\ud83e\\udd22\",\"GIN\"],[\"India\",\"Asia\",2013,4.427788734436035,\"\\ud83e\\udd22\",\"IND\"],[\"Kenya\",\"Africa\",2013,3.7953832149505615,\"\\ud83e\\udd22\",\"KEN\"],[\"Madagascar\",\"Africa\",2013,3.815607070922852,\"\\ud83e\\udd22\",\"MDG\"],[\"Malawi\",\"Africa\",2013,4.035084247589111,\"\\ud83e\\udd22\",\"MWI\"],[\"Mali\",\"Africa\",2013,3.6762771606445312,\"\\ud83e\\udd22\",\"MLI\"],[\"Mauritania\",\"Africa\",2013,4.199015140533447,\"\\ud83e\\udd22\",\"MRT\"],[\"Myanmar\",\"Asia\",2013,4.175670623779297,\"\\ud83e\\udd22\",\"MMR\"],[\"Niger\",\"Africa\",2013,3.71632981300354,\"\\ud83e\\udd22\",\"NER\"],[\"Rwanda\",\"Africa\",2013,3.4663877487182617,\"\\ud83e\\udd22\",\"RWA\"],[\"Senegal\",\"Africa\",2013,3.647367000579834,\"\\ud83e\\udd22\",\"SEN\"],[\"South Africa\",\"Africa\",2013,3.660727262496948,\"\\ud83e\\udd22\",\"ZAF\"],[\"Sri Lanka\",\"Asia\",2013,4.364694118499756,\"\\ud83e\\udd22\",\"LKA\"],[\"Tanzania\",\"Africa\",2013,3.852394819259644,\"\\ud83e\\udd22\",\"TZA\"],[\"Uganda\",\"Africa\",2013,3.7095787525177,\"\\ud83e\\udd22\",\"UGA\"]],\"geo\":\"geo\",\"hovertemplate\":\"<b>%{hovertext}</b><br><br>emoji=%{customdata[4]}<br>year=%{customdata[2]}<br>Happiness Score=%{customdata[3]}<br>continent=%{customdata[1]}<extra></extra>\",\"hovertext\":[\"Afghanistan\",\"Angola\",\"Armenia\",\"Benin\",\"Botswana\",\"Bulgaria\",\"Burkina Faso\",\"Cambodia\",\"Cameroon\",\"Chad\",\"Ethiopia\",\"Gabon\",\"Georgia\",\"Guinea\",\"India\",\"Kenya\",\"Madagascar\",\"Malawi\",\"Mali\",\"Mauritania\",\"Myanmar\",\"Niger\",\"Rwanda\",\"Senegal\",\"South Africa\",\"Sri Lanka\",\"Tanzania\",\"Uganda\"],\"legendgroup\":\"\\ud83e\\udd22\",\"locations\":[\"AFG\",\"AGO\",\"ARM\",\"BEN\",\"BWA\",\"BGR\",\"BFA\",\"KHM\",\"CMR\",\"TCD\",\"ETH\",\"GAB\",\"GEO\",\"GIN\",\"IND\",\"KEN\",\"MDG\",\"MWI\",\"MLI\",\"MRT\",\"MMR\",\"NER\",\"RWA\",\"SEN\",\"ZAF\",\"LKA\",\"TZA\",\"UGA\"],\"marker\":{\"color\":\"#00cc96\",\"size\":[3.5721004009246826,3.9371068477630615,4.277191162109375,3.479412794113159,4.128298759460449,3.993020534515381,3.3259496688842773,3.674466848373413,4.271038055419922,3.5076630115509038,4.444827079772949,3.8002870082855225,4.348920822143555,3.9017930030822754,4.427788734436035,3.7953832149505615,3.815607070922852,4.035084247589111,3.6762771606445312,4.199015140533447,4.175670623779297,3.71632981300354,3.4663877487182617,3.647367000579834,3.660727262496948,4.364694118499756,3.852394819259644,3.7095787525177],\"sizemode\":\"area\",\"sizeref\":7.970891952514648,\"symbol\":\"circle\"},\"mode\":\"markers+text\",\"name\":\"\\ud83e\\udd22\",\"showlegend\":true,\"text\":[\"\\ud83e\\udd22\",\"\\ud83e\\udd22\",\"\\ud83e\\udd22\",\"\\ud83e\\udd22\",\"\\ud83e\\udd22\",\"\\ud83e\\udd22\",\"\\ud83e\\udd22\",\"\\ud83e\\udd22\",\"\\ud83e\\udd22\",\"\\ud83e\\udd22\",\"\\ud83e\\udd22\",\"\\ud83e\\udd22\",\"\\ud83e\\udd22\",\"\\ud83e\\udd22\",\"\\ud83e\\udd22\",\"\\ud83e\\udd22\",\"\\ud83e\\udd22\",\"\\ud83e\\udd22\",\"\\ud83e\\udd22\",\"\\ud83e\\udd22\",\"\\ud83e\\udd22\",\"\\ud83e\\udd22\",\"\\ud83e\\udd22\",\"\\ud83e\\udd22\",\"\\ud83e\\udd22\",\"\\ud83e\\udd22\",\"\\ud83e\\udd22\",\"\\ud83e\\udd22\"],\"type\":\"scattergeo\"}],\"name\":\"2013\"},{\"data\":[{\"customdata\":[[\"Algeria\",\"Africa\",2014,6.354898452758789,\"\\ud83e\\udd70\",\"DZA\"],[\"Argentina\",\"South America\",2014,6.671114444732666,\"\\ud83e\\udd70\",\"ARG\"],[\"Australia\",\"Oceania\",2014,7.28855037689209,\"\\ud83e\\udd70\",\"AUS\"],[\"Austria\",\"Europe\",2014,6.949999809265137,\"\\ud83e\\udd70\",\"AUT\"],[\"Bahrain\",\"Asia\",2014,6.165133953094482,\"\\ud83e\\udd70\",\"BHR\"],[\"Belgium\",\"Europe\",2014,6.855329036712647,\"\\ud83e\\udd70\",\"BEL\"],[\"Brazil\",\"South America\",2014,6.980998992919922,\"\\ud83e\\udd70\",\"BRA\"],[\"Canada\",\"North America\",2014,7.304257869720459,\"\\ud83e\\udd70\",\"CAN\"],[\"Chile\",\"South America\",2014,6.84423828125,\"\\ud83e\\udd70\",\"CHL\"],[\"Colombia\",\"South America\",2014,6.448789119720459,\"\\ud83e\\udd70\",\"COL\"],[\"Costa Rica\",\"South America\",2014,7.247086048126221,\"\\ud83e\\udd70\",\"CRI\"],[\"Czechia\",null,2014,6.483729839324951,\"\\ud83e\\udd70\",\"CZE\"],[\"Denmark\",\"Europe\",2014,7.507559299468994,\"\\ud83e\\udd70\",\"DNK\"],[\"Finland\",\"Europe\",2014,7.384571075439453,\"\\ud83e\\udd70\",\"FIN\"],[\"France\",\"Europe\",2014,6.466867923736572,\"\\ud83e\\udd70\",\"FRA\"],[\"Germany\",\"Europe\",2014,6.9842143058776855,\"\\ud83e\\udd70\",\"DEU\"],[\"Guatemala\",\"South America\",2014,6.5360307693481445,\"\\ud83e\\udd70\",\"GTM\"],[\"Ireland\",\"Europe\",2014,7.018379211425781,\"\\ud83e\\udd70\",\"IRL\"],[\"Israel\",\"Asia\",2014,7.400570392608643,\"\\ud83e\\udd70\",\"ISR\"],[\"Italy\",\"Europe\",2014,6.026585102081299,\"\\ud83e\\udd70\",\"ITA\"],[\"Kuwait\",\"Asia\",2014,6.18013858795166,\"\\ud83e\\udd70\",\"KWT\"],[\"Lithuania\",\"Europe\",2014,6.125723838806152,\"\\ud83e\\udd70\",\"LTU\"],[\"Luxembourg\",\"Europe\",2014,6.891127109527588,\"\\ud83e\\udd70\",\"LUX\"],[\"Malta\",\"Europe\",2014,6.452117919921875,\"\\ud83e\\udd70\",\"MLT\"],[\"Mexico\",\"North America\",2014,6.679831027984619,\"\\ud83e\\udd70\",\"MEX\"],[\"Netherlands\",\"Europe\",2014,7.321188449859619,\"\\ud83e\\udd70\",\"NLD\"],[\"New Zealand\",\"Oceania\",2014,7.305892467498779,\"\\ud83e\\udd70\",\"NZL\"],[\"Nicaragua\",\"South America\",2014,6.275266647338867,\"\\ud83e\\udd70\",\"NIC\"],[\"Norway\",\"Europe\",2014,7.4444708824157715,\"\\ud83e\\udd70\",\"NOR\"],[\"Panama\",\"South America\",2014,6.631171226501465,\"\\ud83e\\udd70\",\"PAN\"],[\"Saudi Arabia\",\"Asia\",2014,6.278378009796143,\"\\ud83e\\udd70\",\"SAU\"],[\"Singapore\",\"Asia\",2014,7.06236457824707,\"\\ud83e\\udd70\",\"SGP\"],[\"Spain\",\"Europe\",2014,6.456477642059326,\"\\ud83e\\udd70\",\"ESP\"],[\"Sweden\",\"Europe\",2014,7.239147663116455,\"\\ud83e\\udd70\",\"SWE\"],[\"Switzerland\",\"Europe\",2014,7.492803573608398,\"\\ud83e\\udd70\",\"CHE\"],[\"Thailand\",\"Asia\",2014,6.985463619232178,\"\\ud83e\\udd70\",\"THA\"],[\"United Arab Emirates\",\"Asia\",2014,6.539854526519775,\"\\ud83e\\udd70\",\"ARE\"],[\"United Kingdom\",\"Europe\",2014,6.758147716522217,\"\\ud83e\\udd70\",\"GBR\"],[\"United States\",\"North America\",2014,7.151114463806152,\"\\ud83e\\udd70\",\"USA\"],[\"Uruguay\",\"South America\",2014,6.56144380569458,\"\\ud83e\\udd70\",\"URY\"],[\"Uzbekistan\",\"Asia\",2014,6.049212455749512,\"\\ud83e\\udd70\",\"UZB\"]],\"geo\":\"geo\",\"hovertemplate\":\"<b>%{hovertext}</b><br><br>emoji=%{customdata[4]}<br>year=%{customdata[2]}<br>Happiness Score=%{customdata[3]}<br>continent=%{customdata[1]}<extra></extra>\",\"hovertext\":[\"Algeria\",\"Argentina\",\"Australia\",\"Austria\",\"Bahrain\",\"Belgium\",\"Brazil\",\"Canada\",\"Chile\",\"Colombia\",\"Costa Rica\",\"Czechia\",\"Denmark\",\"Finland\",\"France\",\"Germany\",\"Guatemala\",\"Ireland\",\"Israel\",\"Italy\",\"Kuwait\",\"Lithuania\",\"Luxembourg\",\"Malta\",\"Mexico\",\"Netherlands\",\"New Zealand\",\"Nicaragua\",\"Norway\",\"Panama\",\"Saudi Arabia\",\"Singapore\",\"Spain\",\"Sweden\",\"Switzerland\",\"Thailand\",\"United Arab Emirates\",\"United Kingdom\",\"United States\",\"Uruguay\",\"Uzbekistan\"],\"legendgroup\":\"\\ud83e\\udd70\",\"locations\":[\"DZA\",\"ARG\",\"AUS\",\"AUT\",\"BHR\",\"BEL\",\"BRA\",\"CAN\",\"CHL\",\"COL\",\"CRI\",\"CZE\",\"DNK\",\"FIN\",\"FRA\",\"DEU\",\"GTM\",\"IRL\",\"ISR\",\"ITA\",\"KWT\",\"LTU\",\"LUX\",\"MLT\",\"MEX\",\"NLD\",\"NZL\",\"NIC\",\"NOR\",\"PAN\",\"SAU\",\"SGP\",\"ESP\",\"SWE\",\"CHE\",\"THA\",\"ARE\",\"GBR\",\"USA\",\"URY\",\"UZB\"],\"marker\":{\"color\":\"#636efa\",\"size\":[6.354898452758789,6.671114444732666,7.28855037689209,6.949999809265137,6.165133953094482,6.855329036712647,6.980998992919922,7.304257869720459,6.84423828125,6.448789119720459,7.247086048126221,6.483729839324951,7.507559299468994,7.384571075439453,6.466867923736572,6.9842143058776855,6.5360307693481445,7.018379211425781,7.400570392608643,6.026585102081299,6.18013858795166,6.125723838806152,6.891127109527588,6.452117919921875,6.679831027984619,7.321188449859619,7.305892467498779,6.275266647338867,7.4444708824157715,6.631171226501465,6.278378009796143,7.06236457824707,6.456477642059326,7.239147663116455,7.492803573608398,6.985463619232178,6.539854526519775,6.758147716522217,7.151114463806152,6.56144380569458,6.049212455749512],\"sizemode\":\"area\",\"sizeref\":7.970891952514648,\"symbol\":\"circle\"},\"mode\":\"markers+text\",\"name\":\"\\ud83e\\udd70\",\"showlegend\":true,\"text\":[\"\\ud83e\\udd70\",\"\\ud83e\\udd70\",\"\\ud83e\\udd70\",\"\\ud83e\\udd70\",\"\\ud83e\\udd70\",\"\\ud83e\\udd70\",\"\\ud83e\\udd70\",\"\\ud83e\\udd70\",\"\\ud83e\\udd70\",\"\\ud83e\\udd70\",\"\\ud83e\\udd70\",\"\\ud83e\\udd70\",\"\\ud83e\\udd70\",\"\\ud83e\\udd70\",\"\\ud83e\\udd70\",\"\\ud83e\\udd70\",\"\\ud83e\\udd70\",\"\\ud83e\\udd70\",\"\\ud83e\\udd70\",\"\\ud83e\\udd70\",\"\\ud83e\\udd70\",\"\\ud83e\\udd70\",\"\\ud83e\\udd70\",\"\\ud83e\\udd70\",\"\\ud83e\\udd70\",\"\\ud83e\\udd70\",\"\\ud83e\\udd70\",\"\\ud83e\\udd70\",\"\\ud83e\\udd70\",\"\\ud83e\\udd70\",\"\\ud83e\\udd70\",\"\\ud83e\\udd70\",\"\\ud83e\\udd70\",\"\\ud83e\\udd70\",\"\\ud83e\\udd70\",\"\\ud83e\\udd70\",\"\\ud83e\\udd70\",\"\\ud83e\\udd70\",\"\\ud83e\\udd70\",\"\\ud83e\\udd70\",\"\\ud83e\\udd70\"],\"type\":\"scattergeo\"},{\"customdata\":[[\"Albania\",\"Europe\",2014,4.81376314163208,\"\\ud83e\\udd16\",\"ALB\"],[\"Azerbaijan\",\"Asia\",2014,5.251530170440674,\"\\ud83e\\udd16\",\"AZE\"],[\"Bangladesh\",\"Asia\",2014,4.635564804077148,\"\\ud83e\\udd16\",\"BGD\"],[\"Belarus\",\"Europe\",2014,5.812400817871094,\"\\ud83e\\udd16\",\"BLR\"],[\"Belize\",null,2014,5.955646514892578,\"\\ud83e\\udd16\",\"BLZ\"],[\"Bhutan\",null,2014,4.938578128814697,\"\\ud83e\\udd16\",\"BTN\"],[\"Bolivia\",\"South America\",2014,5.864798545837402,\"\\ud83e\\udd16\",\"BOL\"],[\"Bosnia and Herzegovina\",\"Europe\",2014,5.2489542961120605,\"\\ud83e\\udd16\",\"BIH\"],[\"China\",\"Asia\",2014,5.195619106292725,\"\\ud83e\\udd16\",\"CHN\"],[\"Croatia\",\"Europe\",2014,5.380692481994629,\"\\ud83e\\udd16\",\"HRV\"],[\"Cyprus\",\"Asia\",2014,5.627123832702637,\"\\ud83e\\udd16\",\"CYP\"],[\"Dominican Republic\",\"South America\",2014,5.387331962585449,\"\\ud83e\\udd16\",\"DOM\"],[\"Ecuador\",\"South America\",2014,5.945851802825928,\"\\ud83e\\udd16\",\"ECU\"],[\"El Salvador\",\"South America\",2014,5.856523513793945,\"\\ud83e\\udd16\",\"SLV\"],[\"Estonia\",\"Europe\",2014,5.55598258972168,\"\\ud83e\\udd16\",\"EST\"],[\"Ethiopia\",\"Africa\",2014,4.506646633148193,\"\\ud83e\\udd16\",\"ETH\"],[\"Greece\",\"Europe\",2014,4.756237030029297,\"\\ud83e\\udd16\",\"GRC\"],[\"Honduras\",\"South America\",2014,5.055726051330566,\"\\ud83e\\udd16\",\"HND\"],[\"Hungary\",\"Europe\",2014,5.180563449859619,\"\\ud83e\\udd16\",\"HUN\"],[\"Indonesia\",\"Asia\",2014,5.597375392913818,\"\\ud83e\\udd16\",\"IDN\"],[\"Iraq\",\"Asia\",2014,4.541502475738525,\"\\ud83e\\udd16\",\"IRQ\"],[\"Jamaica\",\"South America\",2014,5.310538768768311,\"\\ud83e\\udd16\",\"JAM\"],[\"Japan\",\"Asia\",2014,5.92262077331543,\"\\ud83e\\udd16\",\"JPN\"],[\"Jordan\",\"Asia\",2014,5.333021640777588,\"\\ud83e\\udd16\",\"JOR\"],[\"Kazakhstan\",\"Asia\",2014,5.970097541809082,\"\\ud83e\\udd16\",\"KAZ\"],[\"Kenya\",\"Africa\",2014,4.904579639434815,\"\\ud83e\\udd16\",\"KEN\"],[\"Kosovo\",\"Europe\",2014,5.000375270843506,\"\\ud83e\\udd16\",\"XKX\"],[\"Latvia\",\"Europe\",2014,5.72911548614502,\"\\ud83e\\udd16\",\"LVA\"],[\"Lebanon\",\"Asia\",2014,5.233025550842285,\"\\ud83e\\udd16\",\"LBN\"],[\"Liberia\",\"Africa\",2014,4.5714192390441895,\"\\ud83e\\udd16\",\"LBR\"],[\"Malawi\",\"Africa\",2014,4.563080310821533,\"\\ud83e\\udd16\",\"MWI\"],[\"Malaysia\",\"Asia\",2014,5.962921619415283,\"\\ud83e\\udd16\",\"MYS\"],[\"Mauritius\",\"Africa\",2014,5.647779941558838,\"\\ud83e\\udd16\",\"MUS\"],[\"Moldova\",\"Europe\",2014,5.91705846786499,\"\\ud83e\\udd16\",\"MDA\"],[\"Mongolia\",\"Asia\",2014,4.824834823608398,\"\\ud83e\\udd16\",\"MNG\"],[\"Montenegro\",\"Europe\",2014,5.282720565795898,\"\\ud83e\\udd16\",\"MNE\"],[\"Myanmar\",\"Asia\",2014,4.786247253417969,\"\\ud83e\\udd16\",\"MMR\"],[\"Namibia\",null,2014,4.573991298675537,\"\\ud83e\\udd16\",\"NAM\"],[\"Nepal\",\"Asia\",2014,4.975014686584473,\"\\ud83e\\udd16\",\"NPL\"],[\"North Macedonia\",null,2014,5.203825950622559,\"\\ud83e\\udd16\",\"MKD\"],[\"Pakistan\",\"Asia\",2014,5.435657978057861,\"\\ud83e\\udd16\",\"PAK\"],[\"Paraguay\",\"South America\",2014,5.11864185333252,\"\\ud83e\\udd16\",\"PRY\"],[\"Peru\",\"South America\",2014,5.86581563949585,\"\\ud83e\\udd16\",\"PER\"],[\"Philippines\",\"Asia\",2014,5.312550067901611,\"\\ud83e\\udd16\",\"PHL\"],[\"Poland\",\"Europe\",2014,5.750282287597656,\"\\ud83e\\udd16\",\"POL\"],[\"Portugal\",\"Europe\",2014,5.126911640167236,\"\\ud83e\\udd16\",\"PRT\"],[\"Romania\",\"Europe\",2014,5.726893424987793,\"\\ud83e\\udd16\",\"ROU\"],[\"Serbia\",\"Europe\",2014,5.112728595733643,\"\\ud83e\\udd16\",\"SRB\"],[\"Slovenia\",\"Europe\",2014,5.6783952713012695,\"\\ud83e\\udd16\",\"SVN\"],[\"Somalia\",null,2014,5.52827262878418,\"\\ud83e\\udd16\",\"SOM\"],[\"South Africa\",\"Africa\",2014,4.828456401824951,\"\\ud83e\\udd16\",\"ZAF\"],[\"Tajikistan\",\"Asia\",2014,4.896157741546631,\"\\ud83e\\udd16\",\"TJK\"],[\"Tunisia\",\"Africa\",2014,4.763594627380371,\"\\ud83e\\udd16\",\"TUN\"],[\"Turkmenistan\",\"Asia\",2014,5.787379264831543,\"\\ud83e\\udd16\",\"TKM\"],[\"Vietnam\",\"Asia\",2014,5.084923267364502,\"\\ud83e\\udd16\",\"VNM\"]],\"geo\":\"geo\",\"hovertemplate\":\"<b>%{hovertext}</b><br><br>emoji=%{customdata[4]}<br>year=%{customdata[2]}<br>Happiness Score=%{customdata[3]}<br>continent=%{customdata[1]}<extra></extra>\",\"hovertext\":[\"Albania\",\"Azerbaijan\",\"Bangladesh\",\"Belarus\",\"Belize\",\"Bhutan\",\"Bolivia\",\"Bosnia and Herzegovina\",\"China\",\"Croatia\",\"Cyprus\",\"Dominican Republic\",\"Ecuador\",\"El Salvador\",\"Estonia\",\"Ethiopia\",\"Greece\",\"Honduras\",\"Hungary\",\"Indonesia\",\"Iraq\",\"Jamaica\",\"Japan\",\"Jordan\",\"Kazakhstan\",\"Kenya\",\"Kosovo\",\"Latvia\",\"Lebanon\",\"Liberia\",\"Malawi\",\"Malaysia\",\"Mauritius\",\"Moldova\",\"Mongolia\",\"Montenegro\",\"Myanmar\",\"Namibia\",\"Nepal\",\"North Macedonia\",\"Pakistan\",\"Paraguay\",\"Peru\",\"Philippines\",\"Poland\",\"Portugal\",\"Romania\",\"Serbia\",\"Slovenia\",\"Somalia\",\"South Africa\",\"Tajikistan\",\"Tunisia\",\"Turkmenistan\",\"Vietnam\"],\"legendgroup\":\"\\ud83e\\udd16\",\"locations\":[\"ALB\",\"AZE\",\"BGD\",\"BLR\",\"BLZ\",\"BTN\",\"BOL\",\"BIH\",\"CHN\",\"HRV\",\"CYP\",\"DOM\",\"ECU\",\"SLV\",\"EST\",\"ETH\",\"GRC\",\"HND\",\"HUN\",\"IDN\",\"IRQ\",\"JAM\",\"JPN\",\"JOR\",\"KAZ\",\"KEN\",\"XKX\",\"LVA\",\"LBN\",\"LBR\",\"MWI\",\"MYS\",\"MUS\",\"MDA\",\"MNG\",\"MNE\",\"MMR\",\"NAM\",\"NPL\",\"MKD\",\"PAK\",\"PRY\",\"PER\",\"PHL\",\"POL\",\"PRT\",\"ROU\",\"SRB\",\"SVN\",\"SOM\",\"ZAF\",\"TJK\",\"TUN\",\"TKM\",\"VNM\"],\"marker\":{\"color\":\"#EF553B\",\"size\":[4.81376314163208,5.251530170440674,4.635564804077148,5.812400817871094,5.955646514892578,4.938578128814697,5.864798545837402,5.2489542961120605,5.195619106292725,5.380692481994629,5.627123832702637,5.387331962585449,5.945851802825928,5.856523513793945,5.55598258972168,4.506646633148193,4.756237030029297,5.055726051330566,5.180563449859619,5.597375392913818,4.541502475738525,5.310538768768311,5.92262077331543,5.333021640777588,5.970097541809082,4.904579639434815,5.000375270843506,5.72911548614502,5.233025550842285,4.5714192390441895,4.563080310821533,5.962921619415283,5.647779941558838,5.91705846786499,4.824834823608398,5.282720565795898,4.786247253417969,4.573991298675537,4.975014686584473,5.203825950622559,5.435657978057861,5.11864185333252,5.86581563949585,5.312550067901611,5.750282287597656,5.126911640167236,5.726893424987793,5.112728595733643,5.6783952713012695,5.52827262878418,4.828456401824951,4.896157741546631,4.763594627380371,5.787379264831543,5.084923267364502],\"sizemode\":\"area\",\"sizeref\":7.970891952514648,\"symbol\":\"circle\"},\"mode\":\"markers+text\",\"name\":\"\\ud83e\\udd16\",\"showlegend\":true,\"text\":[\"\\ud83e\\udd16\",\"\\ud83e\\udd16\",\"\\ud83e\\udd16\",\"\\ud83e\\udd16\",\"\\ud83e\\udd16\",\"\\ud83e\\udd16\",\"\\ud83e\\udd16\",\"\\ud83e\\udd16\",\"\\ud83e\\udd16\",\"\\ud83e\\udd16\",\"\\ud83e\\udd16\",\"\\ud83e\\udd16\",\"\\ud83e\\udd16\",\"\\ud83e\\udd16\",\"\\ud83e\\udd16\",\"\\ud83e\\udd16\",\"\\ud83e\\udd16\",\"\\ud83e\\udd16\",\"\\ud83e\\udd16\",\"\\ud83e\\udd16\",\"\\ud83e\\udd16\",\"\\ud83e\\udd16\",\"\\ud83e\\udd16\",\"\\ud83e\\udd16\",\"\\ud83e\\udd16\",\"\\ud83e\\udd16\",\"\\ud83e\\udd16\",\"\\ud83e\\udd16\",\"\\ud83e\\udd16\",\"\\ud83e\\udd16\",\"\\ud83e\\udd16\",\"\\ud83e\\udd16\",\"\\ud83e\\udd16\",\"\\ud83e\\udd16\",\"\\ud83e\\udd16\",\"\\ud83e\\udd16\",\"\\ud83e\\udd16\",\"\\ud83e\\udd16\",\"\\ud83e\\udd16\",\"\\ud83e\\udd16\",\"\\ud83e\\udd16\",\"\\ud83e\\udd16\",\"\\ud83e\\udd16\",\"\\ud83e\\udd16\",\"\\ud83e\\udd16\",\"\\ud83e\\udd16\",\"\\ud83e\\udd16\",\"\\ud83e\\udd16\",\"\\ud83e\\udd16\",\"\\ud83e\\udd16\",\"\\ud83e\\udd16\",\"\\ud83e\\udd16\",\"\\ud83e\\udd16\",\"\\ud83e\\udd16\",\"\\ud83e\\udd16\"],\"type\":\"scattergeo\"},{\"customdata\":[[\"Afghanistan\",\"Asia\",2014,3.1308956146240234,\"\\ud83e\\udd22\",\"AFG\"],[\"Angola\",null,2014,3.794837951660156,\"\\ud83e\\udd22\",\"AGO\"],[\"Armenia\",\"Asia\",2014,4.453083038330078,\"\\ud83e\\udd22\",\"ARM\"],[\"Benin\",\"Africa\",2014,3.347419261932373,\"\\ud83e\\udd22\",\"BEN\"],[\"Botswana\",\"Africa\",2014,4.03119707107544,\"\\ud83e\\udd22\",\"BWA\"],[\"Bulgaria\",\"Europe\",2014,4.438439846038818,\"\\ud83e\\udd22\",\"BGR\"],[\"Burkina Faso\",\"Africa\",2014,3.4813477993011475,\"\\ud83e\\udd22\",\"BFA\"],[\"Burundi\",\"Africa\",2014,2.9045350551605225,\"\\ud83e\\udd22\",\"BDI\"],[\"Cambodia\",\"Asia\",2014,3.883305549621582,\"\\ud83e\\udd22\",\"KHM\"],[\"Cameroon\",\"Africa\",2014,4.24044132232666,\"\\ud83e\\udd22\",\"CMR\"],[\"Chad\",\"Africa\",2014,3.460182905197144,\"\\ud83e\\udd22\",\"TCD\"],[\"Gabon\",\"Africa\",2014,3.9180731773376474,\"\\ud83e\\udd22\",\"GAB\"],[\"Georgia\",\"Asia\",2014,4.287508010864258,\"\\ud83e\\udd22\",\"GEO\"],[\"Ghana\",\"Africa\",2014,3.860351085662842,\"\\ud83e\\udd22\",\"GHA\"],[\"Guinea\",\"South America\",2014,3.412482500076294,\"\\ud83e\\udd22\",\"GIN\"],[\"Haiti\",\"South America\",2014,3.8887784481048575,\"\\ud83e\\udd22\",\"HTI\"],[\"India\",\"Asia\",2014,4.424379348754883,\"\\ud83e\\udd22\",\"IND\"],[\"Madagascar\",\"Africa\",2014,3.675626993179321,\"\\ud83e\\udd22\",\"MDG\"],[\"Mali\",\"Africa\",2014,3.9747142791748047,\"\\ud83e\\udd22\",\"MLI\"],[\"Mauritania\",\"Africa\",2014,4.482805252075195,\"\\ud83e\\udd22\",\"MRT\"],[\"Niger\",\"Africa\",2014,4.180943489074707,\"\\ud83e\\udd22\",\"NER\"],[\"Rwanda\",\"Africa\",2014,3.595678329467773,\"\\ud83e\\udd22\",\"RWA\"],[\"Senegal\",\"Africa\",2014,4.394777297973633,\"\\ud83e\\udd22\",\"SEN\"],[\"Sierra Leone\",\"Africa\",2014,4.499970436096191,\"\\ud83e\\udd22\",\"SLE\"],[\"Sri Lanka\",\"Asia\",2014,4.267932891845703,\"\\ud83e\\udd22\",\"LKA\"],[\"Sudan\",null,2014,4.138672828674316,\"\\ud83e\\udd22\",\"SDN\"],[\"Tanzania\",\"Africa\",2014,3.483278512954712,\"\\ud83e\\udd22\",\"TZA\"],[\"Togo\",\"Africa\",2014,2.838958740234375,\"\\ud83e\\udd22\",\"TGO\"],[\"Uganda\",\"Africa\",2014,3.7699191570281982,\"\\ud83e\\udd22\",\"UGA\"],[\"Ukraine\",\"Europe\",2014,4.297329902648926,\"\\ud83e\\udd22\",\"UKR\"],[\"Zambia\",\"Africa\",2014,4.345837116241455,\"\\ud83e\\udd22\",\"ZMB\"],[\"Zimbabwe\",\"Africa\",2014,4.184450626373291,\"\\ud83e\\udd22\",\"ZWE\"]],\"geo\":\"geo\",\"hovertemplate\":\"<b>%{hovertext}</b><br><br>emoji=%{customdata[4]}<br>year=%{customdata[2]}<br>Happiness Score=%{customdata[3]}<br>continent=%{customdata[1]}<extra></extra>\",\"hovertext\":[\"Afghanistan\",\"Angola\",\"Armenia\",\"Benin\",\"Botswana\",\"Bulgaria\",\"Burkina Faso\",\"Burundi\",\"Cambodia\",\"Cameroon\",\"Chad\",\"Gabon\",\"Georgia\",\"Ghana\",\"Guinea\",\"Haiti\",\"India\",\"Madagascar\",\"Mali\",\"Mauritania\",\"Niger\",\"Rwanda\",\"Senegal\",\"Sierra Leone\",\"Sri Lanka\",\"Sudan\",\"Tanzania\",\"Togo\",\"Uganda\",\"Ukraine\",\"Zambia\",\"Zimbabwe\"],\"legendgroup\":\"\\ud83e\\udd22\",\"locations\":[\"AFG\",\"AGO\",\"ARM\",\"BEN\",\"BWA\",\"BGR\",\"BFA\",\"BDI\",\"KHM\",\"CMR\",\"TCD\",\"GAB\",\"GEO\",\"GHA\",\"GIN\",\"HTI\",\"IND\",\"MDG\",\"MLI\",\"MRT\",\"NER\",\"RWA\",\"SEN\",\"SLE\",\"LKA\",\"SDN\",\"TZA\",\"TGO\",\"UGA\",\"UKR\",\"ZMB\",\"ZWE\"],\"marker\":{\"color\":\"#00cc96\",\"size\":[3.1308956146240234,3.794837951660156,4.453083038330078,3.347419261932373,4.03119707107544,4.438439846038818,3.4813477993011475,2.9045350551605225,3.883305549621582,4.24044132232666,3.460182905197144,3.9180731773376474,4.287508010864258,3.860351085662842,3.412482500076294,3.8887784481048575,4.424379348754883,3.675626993179321,3.9747142791748047,4.482805252075195,4.180943489074707,3.595678329467773,4.394777297973633,4.499970436096191,4.267932891845703,4.138672828674316,3.483278512954712,2.838958740234375,3.7699191570281982,4.297329902648926,4.345837116241455,4.184450626373291],\"sizemode\":\"area\",\"sizeref\":7.970891952514648,\"symbol\":\"circle\"},\"mode\":\"markers+text\",\"name\":\"\\ud83e\\udd22\",\"showlegend\":true,\"text\":[\"\\ud83e\\udd22\",\"\\ud83e\\udd22\",\"\\ud83e\\udd22\",\"\\ud83e\\udd22\",\"\\ud83e\\udd22\",\"\\ud83e\\udd22\",\"\\ud83e\\udd22\",\"\\ud83e\\udd22\",\"\\ud83e\\udd22\",\"\\ud83e\\udd22\",\"\\ud83e\\udd22\",\"\\ud83e\\udd22\",\"\\ud83e\\udd22\",\"\\ud83e\\udd22\",\"\\ud83e\\udd22\",\"\\ud83e\\udd22\",\"\\ud83e\\udd22\",\"\\ud83e\\udd22\",\"\\ud83e\\udd22\",\"\\ud83e\\udd22\",\"\\ud83e\\udd22\",\"\\ud83e\\udd22\",\"\\ud83e\\udd22\",\"\\ud83e\\udd22\",\"\\ud83e\\udd22\",\"\\ud83e\\udd22\",\"\\ud83e\\udd22\",\"\\ud83e\\udd22\",\"\\ud83e\\udd22\",\"\\ud83e\\udd22\",\"\\ud83e\\udd22\",\"\\ud83e\\udd22\"],\"type\":\"scattergeo\"}],\"name\":\"2014\"},{\"data\":[{\"customdata\":[[\"Argentina\",\"South America\",2015,6.6971306800842285,\"\\ud83e\\udd70\",\"ARG\"],[\"Australia\",\"Oceania\",2015,7.309060573577881,\"\\ud83e\\udd70\",\"AUS\"],[\"Austria\",\"Europe\",2015,7.076447010040283,\"\\ud83e\\udd70\",\"AUT\"],[\"Bahrain\",\"Asia\",2015,6.007375240325928,\"\\ud83e\\udd70\",\"BHR\"],[\"Belgium\",\"Europe\",2015,6.904219150543213,\"\\ud83e\\udd70\",\"BEL\"],[\"Brazil\",\"South America\",2015,6.546896934509277,\"\\ud83e\\udd70\",\"BRA\"],[\"Canada\",\"North America\",2015,7.412772655487059,\"\\ud83e\\udd70\",\"CAN\"],[\"Chile\",\"South America\",2015,6.532749652862549,\"\\ud83e\\udd70\",\"CHL\"],[\"Colombia\",\"South America\",2015,6.387571811676025,\"\\ud83e\\udd70\",\"COL\"],[\"Costa Rica\",\"South America\",2015,6.854004383087158,\"\\ud83e\\udd70\",\"CRI\"],[\"Czechia\",null,2015,6.608017444610596,\"\\ud83e\\udd70\",\"CZE\"],[\"Denmark\",\"Europe\",2015,7.514424800872803,\"\\ud83e\\udd70\",\"DNK\"],[\"El Salvador\",\"South America\",2015,6.018496036529541,\"\\ud83e\\udd70\",\"SLV\"],[\"Finland\",\"Europe\",2015,7.447925567626953,\"\\ud83e\\udd70\",\"FIN\"],[\"France\",\"Europe\",2015,6.3576250076293945,\"\\ud83e\\udd70\",\"FRA\"],[\"Germany\",\"Europe\",2015,7.037137508392334,\"\\ud83e\\udd70\",\"DEU\"],[\"Guatemala\",\"South America\",2015,6.464986801147461,\"\\ud83e\\udd70\",\"GTM\"],[\"Iceland\",\"Europe\",2015,7.49807071685791,\"\\ud83e\\udd70\",\"ISL\"],[\"Ireland\",\"Europe\",2015,6.830125331878662,\"\\ud83e\\udd70\",\"IRL\"],[\"Israel\",\"Asia\",2015,7.079411029815674,\"\\ud83e\\udd70\",\"ISR\"],[\"Kuwait\",\"Asia\",2015,6.146031856536865,\"\\ud83e\\udd70\",\"KWT\"],[\"Luxembourg\",\"Europe\",2015,6.701571464538574,\"\\ud83e\\udd70\",\"LUX\"],[\"Malaysia\",\"Asia\",2015,6.3221211433410645,\"\\ud83e\\udd70\",\"MYS\"],[\"Malta\",\"Europe\",2015,6.613394260406494,\"\\ud83e\\udd70\",\"MLT\"],[\"Mexico\",\"North America\",2015,6.2362871170043945,\"\\ud83e\\udd70\",\"MEX\"],[\"Moldova\",\"Europe\",2015,6.017472267150879,\"\\ud83e\\udd70\",\"MDA\"],[\"Netherlands\",\"Europe\",2015,7.324437141418457,\"\\ud83e\\udd70\",\"NLD\"],[\"New Zealand\",\"Oceania\",2015,7.418120861053467,\"\\ud83e\\udd70\",\"NZL\"],[\"Norway\",\"Europe\",2015,7.603433609008789,\"\\ud83e\\udd70\",\"NOR\"],[\"Panama\",\"South America\",2015,6.605550289154053,\"\\ud83e\\udd70\",\"PAN\"],[\"Poland\",\"Europe\",2015,6.007021903991699,\"\\ud83e\\udd70\",\"POL\"],[\"Qatar\",null,2015,6.3745293617248535,\"\\ud83e\\udd70\",\"QAT\"],[\"Saudi Arabia\",\"Asia\",2015,6.345491886138916,\"\\ud83e\\udd70\",\"SAU\"],[\"Singapore\",\"Asia\",2015,6.619524955749512,\"\\ud83e\\udd70\",\"SGP\"],[\"Spain\",\"Europe\",2015,6.3806633949279785,\"\\ud83e\\udd70\",\"ESP\"],[\"Sweden\",\"Europe\",2015,7.288922309875488,\"\\ud83e\\udd70\",\"SWE\"],[\"Switzerland\",\"Europe\",2015,7.572136878967285,\"\\ud83e\\udd70\",\"CHE\"],[\"Thailand\",\"Asia\",2015,6.201762676239014,\"\\ud83e\\udd70\",\"THA\"],[\"United Arab Emirates\",\"Asia\",2015,6.568397521972656,\"\\ud83e\\udd70\",\"ARE\"],[\"United Kingdom\",\"Europe\",2015,6.515445232391357,\"\\ud83e\\udd70\",\"GBR\"],[\"United States\",\"North America\",2015,6.863946914672852,\"\\ud83e\\udd70\",\"USA\"],[\"Uruguay\",\"South America\",2015,6.628080368041992,\"\\ud83e\\udd70\",\"URY\"]],\"geo\":\"geo\",\"hovertemplate\":\"<b>%{hovertext}</b><br><br>emoji=%{customdata[4]}<br>year=%{customdata[2]}<br>Happiness Score=%{customdata[3]}<br>continent=%{customdata[1]}<extra></extra>\",\"hovertext\":[\"Argentina\",\"Australia\",\"Austria\",\"Bahrain\",\"Belgium\",\"Brazil\",\"Canada\",\"Chile\",\"Colombia\",\"Costa Rica\",\"Czechia\",\"Denmark\",\"El Salvador\",\"Finland\",\"France\",\"Germany\",\"Guatemala\",\"Iceland\",\"Ireland\",\"Israel\",\"Kuwait\",\"Luxembourg\",\"Malaysia\",\"Malta\",\"Mexico\",\"Moldova\",\"Netherlands\",\"New Zealand\",\"Norway\",\"Panama\",\"Poland\",\"Qatar\",\"Saudi Arabia\",\"Singapore\",\"Spain\",\"Sweden\",\"Switzerland\",\"Thailand\",\"United Arab Emirates\",\"United Kingdom\",\"United States\",\"Uruguay\"],\"legendgroup\":\"\\ud83e\\udd70\",\"locations\":[\"ARG\",\"AUS\",\"AUT\",\"BHR\",\"BEL\",\"BRA\",\"CAN\",\"CHL\",\"COL\",\"CRI\",\"CZE\",\"DNK\",\"SLV\",\"FIN\",\"FRA\",\"DEU\",\"GTM\",\"ISL\",\"IRL\",\"ISR\",\"KWT\",\"LUX\",\"MYS\",\"MLT\",\"MEX\",\"MDA\",\"NLD\",\"NZL\",\"NOR\",\"PAN\",\"POL\",\"QAT\",\"SAU\",\"SGP\",\"ESP\",\"SWE\",\"CHE\",\"THA\",\"ARE\",\"GBR\",\"USA\",\"URY\"],\"marker\":{\"color\":\"#636efa\",\"size\":[6.6971306800842285,7.309060573577881,7.076447010040283,6.007375240325928,6.904219150543213,6.546896934509277,7.412772655487059,6.532749652862549,6.387571811676025,6.854004383087158,6.608017444610596,7.514424800872803,6.018496036529541,7.447925567626953,6.3576250076293945,7.037137508392334,6.464986801147461,7.49807071685791,6.830125331878662,7.079411029815674,6.146031856536865,6.701571464538574,6.3221211433410645,6.613394260406494,6.2362871170043945,6.017472267150879,7.324437141418457,7.418120861053467,7.603433609008789,6.605550289154053,6.007021903991699,6.3745293617248535,6.345491886138916,6.619524955749512,6.3806633949279785,7.288922309875488,7.572136878967285,6.201762676239014,6.568397521972656,6.515445232391357,6.863946914672852,6.628080368041992],\"sizemode\":\"area\",\"sizeref\":7.970891952514648,\"symbol\":\"circle\"},\"mode\":\"markers+text\",\"name\":\"\\ud83e\\udd70\",\"showlegend\":true,\"text\":[\"\\ud83e\\udd70\",\"\\ud83e\\udd70\",\"\\ud83e\\udd70\",\"\\ud83e\\udd70\",\"\\ud83e\\udd70\",\"\\ud83e\\udd70\",\"\\ud83e\\udd70\",\"\\ud83e\\udd70\",\"\\ud83e\\udd70\",\"\\ud83e\\udd70\",\"\\ud83e\\udd70\",\"\\ud83e\\udd70\",\"\\ud83e\\udd70\",\"\\ud83e\\udd70\",\"\\ud83e\\udd70\",\"\\ud83e\\udd70\",\"\\ud83e\\udd70\",\"\\ud83e\\udd70\",\"\\ud83e\\udd70\",\"\\ud83e\\udd70\",\"\\ud83e\\udd70\",\"\\ud83e\\udd70\",\"\\ud83e\\udd70\",\"\\ud83e\\udd70\",\"\\ud83e\\udd70\",\"\\ud83e\\udd70\",\"\\ud83e\\udd70\",\"\\ud83e\\udd70\",\"\\ud83e\\udd70\",\"\\ud83e\\udd70\",\"\\ud83e\\udd70\",\"\\ud83e\\udd70\",\"\\ud83e\\udd70\",\"\\ud83e\\udd70\",\"\\ud83e\\udd70\",\"\\ud83e\\udd70\",\"\\ud83e\\udd70\",\"\\ud83e\\udd70\",\"\\ud83e\\udd70\",\"\\ud83e\\udd70\",\"\\ud83e\\udd70\",\"\\ud83e\\udd70\"],\"type\":\"scattergeo\"},{\"customdata\":[[\"Albania\",\"Europe\",2015,4.6066508293151855,\"\\ud83e\\udd16\",\"ALB\"],[\"Azerbaijan\",\"Asia\",2015,5.146774768829346,\"\\ud83e\\udd16\",\"AZE\"],[\"Bangladesh\",\"Asia\",2015,4.633473873138428,\"\\ud83e\\udd16\",\"BGD\"],[\"Belarus\",\"Europe\",2015,5.718907833099365,\"\\ud83e\\udd16\",\"BLR\"],[\"Bhutan\",null,2015,5.082128524780273,\"\\ud83e\\udd16\",\"BTN\"],[\"Bolivia\",\"South America\",2015,5.834329128265381,\"\\ud83e\\udd16\",\"BOL\"],[\"Bosnia and Herzegovina\",\"Europe\",2015,5.117177963256836,\"\\ud83e\\udd16\",\"BIH\"],[\"Bulgaria\",\"Europe\",2015,4.865401268005371,\"\\ud83e\\udd16\",\"BGR\"],[\"Cameroon\",\"Africa\",2015,5.037964820861816,\"\\ud83e\\udd16\",\"CMR\"],[\"China\",\"Asia\",2015,5.303877830505371,\"\\ud83e\\udd16\",\"CHN\"],[\"Croatia\",\"Europe\",2015,5.205438137054443,\"\\ud83e\\udd16\",\"HRV\"],[\"Cyprus\",\"Asia\",2015,5.43916130065918,\"\\ud83e\\udd16\",\"CYP\"],[\"Dominican Republic\",\"South America\",2015,5.061862468719482,\"\\ud83e\\udd16\",\"DOM\"],[\"Ecuador\",\"South America\",2015,5.964075088500977,\"\\ud83e\\udd16\",\"ECU\"],[\"Estonia\",\"Europe\",2015,5.628908634185791,\"\\ud83e\\udd16\",\"EST\"],[\"Ethiopia\",\"Africa\",2015,4.573154926300049,\"\\ud83e\\udd16\",\"ETH\"],[\"Gabon\",\"Africa\",2015,4.661012649536133,\"\\ud83e\\udd16\",\"GAB\"],[\"Greece\",\"Europe\",2015,5.622519016265869,\"\\ud83e\\udd16\",\"GRC\"],[\"Honduras\",\"South America\",2015,4.8454365730285645,\"\\ud83e\\udd16\",\"HND\"],[\"Hungary\",\"Europe\",2015,5.344383239746094,\"\\ud83e\\udd16\",\"HUN\"],[\"Indonesia\",\"Asia\",2015,5.042799949645996,\"\\ud83e\\udd16\",\"IDN\"],[\"Italy\",\"Europe\",2015,5.847683906555176,\"\\ud83e\\udd16\",\"ITA\"],[\"Japan\",\"Asia\",2015,5.879684448242188,\"\\ud83e\\udd16\",\"JPN\"],[\"Jordan\",\"Asia\",2015,5.404593467712402,\"\\ud83e\\udd16\",\"JOR\"],[\"Kazakhstan\",\"Asia\",2015,5.949995040893555,\"\\ud83e\\udd16\",\"KAZ\"],[\"Kosovo\",\"Europe\",2015,5.077460765838623,\"\\ud83e\\udd16\",\"XKX\"],[\"Latvia\",\"Europe\",2015,5.8805975914001465,\"\\ud83e\\udd16\",\"LVA\"],[\"Lebanon\",\"Asia\",2015,5.171971321105957,\"\\ud83e\\udd16\",\"LBN\"],[\"Libya\",\"Africa\",2015,5.615404605865479,\"\\ud83e\\udd16\",\"LBY\"],[\"Lithuania\",\"Europe\",2015,5.71137809753418,\"\\ud83e\\udd16\",\"LTU\"],[\"Mali\",\"Africa\",2015,4.582098484039307,\"\\ud83e\\udd16\",\"MLI\"],[\"Mongolia\",\"Asia\",2015,4.982719898223877,\"\\ud83e\\udd16\",\"MNG\"],[\"Montenegro\",\"Europe\",2015,5.1249213218688965,\"\\ud83e\\udd16\",\"MNE\"],[\"Morocco\",\"Africa\",2015,5.163156986236572,\"\\ud83e\\udd16\",\"MAR\"],[\"Mozambique\",null,2015,4.54976749420166,\"\\ud83e\\udd16\",\"MOZ\"],[\"Nepal\",\"Asia\",2015,4.812436580657959,\"\\ud83e\\udd16\",\"NPL\"],[\"Nicaragua\",\"South America\",2015,5.924112796783447,\"\\ud83e\\udd16\",\"NIC\"],[\"Nigeria\",\"Africa\",2015,4.932914733886719,\"\\ud83e\\udd16\",\"NGA\"],[\"North Macedonia\",null,2015,4.975589752197266,\"\\ud83e\\udd16\",\"MKD\"],[\"Pakistan\",\"Asia\",2015,4.823194980621338,\"\\ud83e\\udd16\",\"PAK\"],[\"Paraguay\",\"South America\",2015,5.5597243309021,\"\\ud83e\\udd16\",\"PRY\"],[\"Peru\",\"South America\",2015,5.577263355255127,\"\\ud83e\\udd16\",\"PER\"],[\"Philippines\",\"Asia\",2015,5.547489166259766,\"\\ud83e\\udd16\",\"PHL\"],[\"Portugal\",\"Europe\",2015,5.08086633682251,\"\\ud83e\\udd16\",\"PRT\"],[\"Romania\",\"Europe\",2015,5.777491092681885,\"\\ud83e\\udd16\",\"ROU\"],[\"Senegal\",\"Africa\",2015,4.617000579833984,\"\\ud83e\\udd16\",\"SEN\"],[\"Serbia\",\"Europe\",2015,5.317685127258301,\"\\ud83e\\udd16\",\"SRB\"],[\"Sierra Leone\",\"Africa\",2015,4.908617973327637,\"\\ud83e\\udd16\",\"SLE\"],[\"Slovenia\",\"Europe\",2015,5.740642070770264,\"\\ud83e\\udd16\",\"SVN\"],[\"Somalia\",null,2015,5.353644847869873,\"\\ud83e\\udd16\",\"SOM\"],[\"South Africa\",\"Africa\",2015,4.887325763702393,\"\\ud83e\\udd16\",\"ZAF\"],[\"Sri Lanka\",\"Asia\",2015,4.611606597900391,\"\\ud83e\\udd16\",\"LKA\"],[\"Tajikistan\",\"Asia\",2015,5.124210834503174,\"\\ud83e\\udd16\",\"TJK\"],[\"Tunisia\",\"Africa\",2015,5.1316118240356445,\"\\ud83e\\udd16\",\"TUN\"],[\"Turkmenistan\",\"Asia\",2015,5.791460037231445,\"\\ud83e\\udd16\",\"TKM\"],[\"Uzbekistan\",\"Asia\",2015,5.97236442565918,\"\\ud83e\\udd16\",\"UZB\"],[\"Vietnam\",\"Asia\",2015,5.076315402984619,\"\\ud83e\\udd16\",\"VNM\"],[\"Zambia\",\"Africa\",2015,4.843164443969727,\"\\ud83e\\udd16\",\"ZMB\"]],\"geo\":\"geo\",\"hovertemplate\":\"<b>%{hovertext}</b><br><br>emoji=%{customdata[4]}<br>year=%{customdata[2]}<br>Happiness Score=%{customdata[3]}<br>continent=%{customdata[1]}<extra></extra>\",\"hovertext\":[\"Albania\",\"Azerbaijan\",\"Bangladesh\",\"Belarus\",\"Bhutan\",\"Bolivia\",\"Bosnia and Herzegovina\",\"Bulgaria\",\"Cameroon\",\"China\",\"Croatia\",\"Cyprus\",\"Dominican Republic\",\"Ecuador\",\"Estonia\",\"Ethiopia\",\"Gabon\",\"Greece\",\"Honduras\",\"Hungary\",\"Indonesia\",\"Italy\",\"Japan\",\"Jordan\",\"Kazakhstan\",\"Kosovo\",\"Latvia\",\"Lebanon\",\"Libya\",\"Lithuania\",\"Mali\",\"Mongolia\",\"Montenegro\",\"Morocco\",\"Mozambique\",\"Nepal\",\"Nicaragua\",\"Nigeria\",\"North Macedonia\",\"Pakistan\",\"Paraguay\",\"Peru\",\"Philippines\",\"Portugal\",\"Romania\",\"Senegal\",\"Serbia\",\"Sierra Leone\",\"Slovenia\",\"Somalia\",\"South Africa\",\"Sri Lanka\",\"Tajikistan\",\"Tunisia\",\"Turkmenistan\",\"Uzbekistan\",\"Vietnam\",\"Zambia\"],\"legendgroup\":\"\\ud83e\\udd16\",\"locations\":[\"ALB\",\"AZE\",\"BGD\",\"BLR\",\"BTN\",\"BOL\",\"BIH\",\"BGR\",\"CMR\",\"CHN\",\"HRV\",\"CYP\",\"DOM\",\"ECU\",\"EST\",\"ETH\",\"GAB\",\"GRC\",\"HND\",\"HUN\",\"IDN\",\"ITA\",\"JPN\",\"JOR\",\"KAZ\",\"XKX\",\"LVA\",\"LBN\",\"LBY\",\"LTU\",\"MLI\",\"MNG\",\"MNE\",\"MAR\",\"MOZ\",\"NPL\",\"NIC\",\"NGA\",\"MKD\",\"PAK\",\"PRY\",\"PER\",\"PHL\",\"PRT\",\"ROU\",\"SEN\",\"SRB\",\"SLE\",\"SVN\",\"SOM\",\"ZAF\",\"LKA\",\"TJK\",\"TUN\",\"TKM\",\"UZB\",\"VNM\",\"ZMB\"],\"marker\":{\"color\":\"#EF553B\",\"size\":[4.6066508293151855,5.146774768829346,4.633473873138428,5.718907833099365,5.082128524780273,5.834329128265381,5.117177963256836,4.865401268005371,5.037964820861816,5.303877830505371,5.205438137054443,5.43916130065918,5.061862468719482,5.964075088500977,5.628908634185791,4.573154926300049,4.661012649536133,5.622519016265869,4.8454365730285645,5.344383239746094,5.042799949645996,5.847683906555176,5.879684448242188,5.404593467712402,5.949995040893555,5.077460765838623,5.8805975914001465,5.171971321105957,5.615404605865479,5.71137809753418,4.582098484039307,4.982719898223877,5.1249213218688965,5.163156986236572,4.54976749420166,4.812436580657959,5.924112796783447,4.932914733886719,4.975589752197266,4.823194980621338,5.5597243309021,5.577263355255127,5.547489166259766,5.08086633682251,5.777491092681885,4.617000579833984,5.317685127258301,4.908617973327637,5.740642070770264,5.353644847869873,4.887325763702393,4.611606597900391,5.124210834503174,5.1316118240356445,5.791460037231445,5.97236442565918,5.076315402984619,4.843164443969727],\"sizemode\":\"area\",\"sizeref\":7.970891952514648,\"symbol\":\"circle\"},\"mode\":\"markers+text\",\"name\":\"\\ud83e\\udd16\",\"showlegend\":true,\"text\":[\"\\ud83e\\udd16\",\"\\ud83e\\udd16\",\"\\ud83e\\udd16\",\"\\ud83e\\udd16\",\"\\ud83e\\udd16\",\"\\ud83e\\udd16\",\"\\ud83e\\udd16\",\"\\ud83e\\udd16\",\"\\ud83e\\udd16\",\"\\ud83e\\udd16\",\"\\ud83e\\udd16\",\"\\ud83e\\udd16\",\"\\ud83e\\udd16\",\"\\ud83e\\udd16\",\"\\ud83e\\udd16\",\"\\ud83e\\udd16\",\"\\ud83e\\udd16\",\"\\ud83e\\udd16\",\"\\ud83e\\udd16\",\"\\ud83e\\udd16\",\"\\ud83e\\udd16\",\"\\ud83e\\udd16\",\"\\ud83e\\udd16\",\"\\ud83e\\udd16\",\"\\ud83e\\udd16\",\"\\ud83e\\udd16\",\"\\ud83e\\udd16\",\"\\ud83e\\udd16\",\"\\ud83e\\udd16\",\"\\ud83e\\udd16\",\"\\ud83e\\udd16\",\"\\ud83e\\udd16\",\"\\ud83e\\udd16\",\"\\ud83e\\udd16\",\"\\ud83e\\udd16\",\"\\ud83e\\udd16\",\"\\ud83e\\udd16\",\"\\ud83e\\udd16\",\"\\ud83e\\udd16\",\"\\ud83e\\udd16\",\"\\ud83e\\udd16\",\"\\ud83e\\udd16\",\"\\ud83e\\udd16\",\"\\ud83e\\udd16\",\"\\ud83e\\udd16\",\"\\ud83e\\udd16\",\"\\ud83e\\udd16\",\"\\ud83e\\udd16\",\"\\ud83e\\udd16\",\"\\ud83e\\udd16\",\"\\ud83e\\udd16\",\"\\ud83e\\udd16\",\"\\ud83e\\udd16\",\"\\ud83e\\udd16\",\"\\ud83e\\udd16\",\"\\ud83e\\udd16\",\"\\ud83e\\udd16\",\"\\ud83e\\udd16\"],\"type\":\"scattergeo\"},{\"customdata\":[[\"Afghanistan\",\"Asia\",2015,3.982854604721069,\"\\ud83e\\udd22\",\"AFG\"],[\"Armenia\",\"Asia\",2015,4.3483195304870605,\"\\ud83e\\udd22\",\"ARM\"],[\"Benin\",\"Africa\",2015,3.624664306640625,\"\\ud83e\\udd22\",\"BEN\"],[\"Botswana\",\"Africa\",2015,3.761964797973633,\"\\ud83e\\udd22\",\"BWA\"],[\"Burkina Faso\",\"Africa\",2015,4.4189300537109375,\"\\ud83e\\udd22\",\"BFA\"],[\"Cambodia\",\"Asia\",2015,4.162164688110352,\"\\ud83e\\udd22\",\"KHM\"],[\"Chad\",\"Africa\",2015,4.3226752281188965,\"\\ud83e\\udd22\",\"TCD\"],[\"Georgia\",\"Asia\",2015,4.121940612792969,\"\\ud83e\\udd22\",\"GEO\"],[\"Ghana\",\"Africa\",2015,3.985916137695313,\"\\ud83e\\udd22\",\"GHA\"],[\"Guinea\",\"South America\",2015,3.5046935081481934,\"\\ud83e\\udd22\",\"GIN\"],[\"Haiti\",\"South America\",2015,3.5697624683380127,\"\\ud83e\\udd22\",\"HTI\"],[\"India\",\"Asia\",2015,4.342079162597656,\"\\ud83e\\udd22\",\"IND\"],[\"Iraq\",\"Asia\",2015,4.493377208709717,\"\\ud83e\\udd22\",\"IRQ\"],[\"Kenya\",\"Africa\",2015,4.3576178550720215,\"\\ud83e\\udd22\",\"KEN\"],[\"Liberia\",\"Africa\",2015,2.70159125328064,\"\\ud83e\\udd22\",\"LBR\"],[\"Madagascar\",\"Africa\",2015,3.592514038085937,\"\\ud83e\\udd22\",\"MDG\"],[\"Malawi\",\"Africa\",2015,3.867638349533081,\"\\ud83e\\udd22\",\"MWI\"],[\"Mauritania\",\"Africa\",2015,3.922664165496826,\"\\ud83e\\udd22\",\"MRT\"],[\"Myanmar\",\"Asia\",2015,4.223846435546875,\"\\ud83e\\udd22\",\"MMR\"],[\"Niger\",\"Africa\",2015,3.671453714370728,\"\\ud83e\\udd22\",\"NER\"],[\"Rwanda\",\"Africa\",2015,3.4831089973449707,\"\\ud83e\\udd22\",\"RWA\"],[\"Tanzania\",\"Africa\",2015,3.660597324371338,\"\\ud83e\\udd22\",\"TZA\"],[\"Togo\",\"Africa\",2015,3.768301963806152,\"\\ud83e\\udd22\",\"TGO\"],[\"Uganda\",\"Africa\",2015,4.237686634063721,\"\\ud83e\\udd22\",\"UGA\"],[\"Ukraine\",\"Europe\",2015,3.964542865753174,\"\\ud83e\\udd22\",\"UKR\"],[\"Zimbabwe\",\"Africa\",2015,3.7031912803649902,\"\\ud83e\\udd22\",\"ZWE\"]],\"geo\":\"geo\",\"hovertemplate\":\"<b>%{hovertext}</b><br><br>emoji=%{customdata[4]}<br>year=%{customdata[2]}<br>Happiness Score=%{customdata[3]}<br>continent=%{customdata[1]}<extra></extra>\",\"hovertext\":[\"Afghanistan\",\"Armenia\",\"Benin\",\"Botswana\",\"Burkina Faso\",\"Cambodia\",\"Chad\",\"Georgia\",\"Ghana\",\"Guinea\",\"Haiti\",\"India\",\"Iraq\",\"Kenya\",\"Liberia\",\"Madagascar\",\"Malawi\",\"Mauritania\",\"Myanmar\",\"Niger\",\"Rwanda\",\"Tanzania\",\"Togo\",\"Uganda\",\"Ukraine\",\"Zimbabwe\"],\"legendgroup\":\"\\ud83e\\udd22\",\"locations\":[\"AFG\",\"ARM\",\"BEN\",\"BWA\",\"BFA\",\"KHM\",\"TCD\",\"GEO\",\"GHA\",\"GIN\",\"HTI\",\"IND\",\"IRQ\",\"KEN\",\"LBR\",\"MDG\",\"MWI\",\"MRT\",\"MMR\",\"NER\",\"RWA\",\"TZA\",\"TGO\",\"UGA\",\"UKR\",\"ZWE\"],\"marker\":{\"color\":\"#00cc96\",\"size\":[3.982854604721069,4.3483195304870605,3.624664306640625,3.761964797973633,4.4189300537109375,4.162164688110352,4.3226752281188965,4.121940612792969,3.985916137695313,3.5046935081481934,3.5697624683380127,4.342079162597656,4.493377208709717,4.3576178550720215,2.70159125328064,3.592514038085937,3.867638349533081,3.922664165496826,4.223846435546875,3.671453714370728,3.4831089973449707,3.660597324371338,3.768301963806152,4.237686634063721,3.964542865753174,3.7031912803649902],\"sizemode\":\"area\",\"sizeref\":7.970891952514648,\"symbol\":\"circle\"},\"mode\":\"markers+text\",\"name\":\"\\ud83e\\udd22\",\"showlegend\":true,\"text\":[\"\\ud83e\\udd22\",\"\\ud83e\\udd22\",\"\\ud83e\\udd22\",\"\\ud83e\\udd22\",\"\\ud83e\\udd22\",\"\\ud83e\\udd22\",\"\\ud83e\\udd22\",\"\\ud83e\\udd22\",\"\\ud83e\\udd22\",\"\\ud83e\\udd22\",\"\\ud83e\\udd22\",\"\\ud83e\\udd22\",\"\\ud83e\\udd22\",\"\\ud83e\\udd22\",\"\\ud83e\\udd22\",\"\\ud83e\\udd22\",\"\\ud83e\\udd22\",\"\\ud83e\\udd22\",\"\\ud83e\\udd22\",\"\\ud83e\\udd22\",\"\\ud83e\\udd22\",\"\\ud83e\\udd22\",\"\\ud83e\\udd22\",\"\\ud83e\\udd22\",\"\\ud83e\\udd22\",\"\\ud83e\\udd22\"],\"type\":\"scattergeo\"}],\"name\":\"2015\"},{\"data\":[{\"customdata\":[[\"Argentina\",\"South America\",2016,6.427221298217773,\"\\ud83e\\udd70\",\"ARG\"],[\"Australia\",\"Oceania\",2016,7.250080108642578,\"\\ud83e\\udd70\",\"AUS\"],[\"Austria\",\"Europe\",2016,7.04807186126709,\"\\ud83e\\udd70\",\"AUT\"],[\"Bahrain\",\"Asia\",2016,6.169673442840576,\"\\ud83e\\udd70\",\"BHR\"],[\"Belgium\",\"Europe\",2016,6.948936462402344,\"\\ud83e\\udd70\",\"BEL\"],[\"Brazil\",\"South America\",2016,6.374817371368408,\"\\ud83e\\udd70\",\"BRA\"],[\"Canada\",\"North America\",2016,7.244845867156982,\"\\ud83e\\udd70\",\"CAN\"],[\"Chile\",\"South America\",2016,6.579056262969971,\"\\ud83e\\udd70\",\"CHL\"],[\"Colombia\",\"South America\",2016,6.233715057373047,\"\\ud83e\\udd70\",\"COL\"],[\"Costa Rica\",\"South America\",2016,7.135617733001709,\"\\ud83e\\udd70\",\"CRI\"],[\"Czechia\",null,2016,6.735627174377441,\"\\ud83e\\udd70\",\"CZE\"],[\"Denmark\",\"Europe\",2016,7.557782649993896,\"\\ud83e\\udd70\",\"DNK\"],[\"Ecuador\",\"South America\",2016,6.1154375076293945,\"\\ud83e\\udd70\",\"ECU\"],[\"El Salvador\",\"South America\",2016,6.139824867248535,\"\\ud83e\\udd70\",\"SLV\"],[\"Finland\",\"Europe\",2016,7.659843444824219,\"\\ud83e\\udd70\",\"FIN\"],[\"France\",\"Europe\",2016,6.475208759307861,\"\\ud83e\\udd70\",\"FRA\"],[\"Germany\",\"Europe\",2016,6.873763084411621,\"\\ud83e\\udd70\",\"DEU\"],[\"Guatemala\",\"South America\",2016,6.358916282653809,\"\\ud83e\\udd70\",\"GTM\"],[\"Iceland\",\"Europe\",2016,7.510034561157227,\"\\ud83e\\udd70\",\"ISL\"],[\"Ireland\",\"Europe\",2016,7.040731430053711,\"\\ud83e\\udd70\",\"IRL\"],[\"Israel\",\"Asia\",2016,7.159010887145996,\"\\ud83e\\udd70\",\"ISR\"],[\"Luxembourg\",\"Europe\",2016,6.96734094619751,\"\\ud83e\\udd70\",\"LUX\"],[\"Malta\",\"Europe\",2016,6.590842247009277,\"\\ud83e\\udd70\",\"MLT\"],[\"Mexico\",\"North America\",2016,6.8241729736328125,\"\\ud83e\\udd70\",\"MEX\"],[\"Netherlands\",\"Europe\",2016,7.540877342224121,\"\\ud83e\\udd70\",\"NLD\"],[\"New Zealand\",\"Oceania\",2016,7.225687980651855,\"\\ud83e\\udd70\",\"NZL\"],[\"Nicaragua\",\"South America\",2016,6.012739658355713,\"\\ud83e\\udd70\",\"NIC\"],[\"Norway\",\"Europe\",2016,7.596331596374512,\"\\ud83e\\udd70\",\"NOR\"],[\"Panama\",\"South America\",2016,6.117638111114502,\"\\ud83e\\udd70\",\"PAN\"],[\"Poland\",\"Europe\",2016,6.162076473236084,\"\\ud83e\\udd70\",\"POL\"],[\"Saudi Arabia\",\"Asia\",2016,6.473921298980713,\"\\ud83e\\udd70\",\"SAU\"],[\"Singapore\",\"Asia\",2016,6.033480644226074,\"\\ud83e\\udd70\",\"SGP\"],[\"Spain\",\"Europe\",2016,6.318612098693848,\"\\ud83e\\udd70\",\"ESP\"],[\"Sweden\",\"Europe\",2016,7.368744373321533,\"\\ud83e\\udd70\",\"SWE\"],[\"Switzerland\",\"Europe\",2016,7.45851993560791,\"\\ud83e\\udd70\",\"CHE\"],[\"Thailand\",\"Asia\",2016,6.073639869689941,\"\\ud83e\\udd70\",\"THA\"],[\"United Arab Emirates\",\"Asia\",2016,6.8309502601623535,\"\\ud83e\\udd70\",\"ARE\"],[\"United Kingdom\",\"Europe\",2016,6.824283599853516,\"\\ud83e\\udd70\",\"GBR\"],[\"United States\",\"North America\",2016,6.803599834442139,\"\\ud83e\\udd70\",\"USA\"],[\"Uruguay\",\"South America\",2016,6.171485424041748,\"\\ud83e\\udd70\",\"URY\"]],\"geo\":\"geo\",\"hovertemplate\":\"<b>%{hovertext}</b><br><br>emoji=%{customdata[4]}<br>year=%{customdata[2]}<br>Happiness Score=%{customdata[3]}<br>continent=%{customdata[1]}<extra></extra>\",\"hovertext\":[\"Argentina\",\"Australia\",\"Austria\",\"Bahrain\",\"Belgium\",\"Brazil\",\"Canada\",\"Chile\",\"Colombia\",\"Costa Rica\",\"Czechia\",\"Denmark\",\"Ecuador\",\"El Salvador\",\"Finland\",\"France\",\"Germany\",\"Guatemala\",\"Iceland\",\"Ireland\",\"Israel\",\"Luxembourg\",\"Malta\",\"Mexico\",\"Netherlands\",\"New Zealand\",\"Nicaragua\",\"Norway\",\"Panama\",\"Poland\",\"Saudi Arabia\",\"Singapore\",\"Spain\",\"Sweden\",\"Switzerland\",\"Thailand\",\"United Arab Emirates\",\"United Kingdom\",\"United States\",\"Uruguay\"],\"legendgroup\":\"\\ud83e\\udd70\",\"locations\":[\"ARG\",\"AUS\",\"AUT\",\"BHR\",\"BEL\",\"BRA\",\"CAN\",\"CHL\",\"COL\",\"CRI\",\"CZE\",\"DNK\",\"ECU\",\"SLV\",\"FIN\",\"FRA\",\"DEU\",\"GTM\",\"ISL\",\"IRL\",\"ISR\",\"LUX\",\"MLT\",\"MEX\",\"NLD\",\"NZL\",\"NIC\",\"NOR\",\"PAN\",\"POL\",\"SAU\",\"SGP\",\"ESP\",\"SWE\",\"CHE\",\"THA\",\"ARE\",\"GBR\",\"USA\",\"URY\"],\"marker\":{\"color\":\"#636efa\",\"size\":[6.427221298217773,7.250080108642578,7.04807186126709,6.169673442840576,6.948936462402344,6.374817371368408,7.244845867156982,6.579056262969971,6.233715057373047,7.135617733001709,6.735627174377441,7.557782649993896,6.1154375076293945,6.139824867248535,7.659843444824219,6.475208759307861,6.873763084411621,6.358916282653809,7.510034561157227,7.040731430053711,7.159010887145996,6.96734094619751,6.590842247009277,6.8241729736328125,7.540877342224121,7.225687980651855,6.012739658355713,7.596331596374512,6.117638111114502,6.162076473236084,6.473921298980713,6.033480644226074,6.318612098693848,7.368744373321533,7.45851993560791,6.073639869689941,6.8309502601623535,6.824283599853516,6.803599834442139,6.171485424041748],\"sizemode\":\"area\",\"sizeref\":7.970891952514648,\"symbol\":\"circle\"},\"mode\":\"markers+text\",\"name\":\"\\ud83e\\udd70\",\"showlegend\":true,\"text\":[\"\\ud83e\\udd70\",\"\\ud83e\\udd70\",\"\\ud83e\\udd70\",\"\\ud83e\\udd70\",\"\\ud83e\\udd70\",\"\\ud83e\\udd70\",\"\\ud83e\\udd70\",\"\\ud83e\\udd70\",\"\\ud83e\\udd70\",\"\\ud83e\\udd70\",\"\\ud83e\\udd70\",\"\\ud83e\\udd70\",\"\\ud83e\\udd70\",\"\\ud83e\\udd70\",\"\\ud83e\\udd70\",\"\\ud83e\\udd70\",\"\\ud83e\\udd70\",\"\\ud83e\\udd70\",\"\\ud83e\\udd70\",\"\\ud83e\\udd70\",\"\\ud83e\\udd70\",\"\\ud83e\\udd70\",\"\\ud83e\\udd70\",\"\\ud83e\\udd70\",\"\\ud83e\\udd70\",\"\\ud83e\\udd70\",\"\\ud83e\\udd70\",\"\\ud83e\\udd70\",\"\\ud83e\\udd70\",\"\\ud83e\\udd70\",\"\\ud83e\\udd70\",\"\\ud83e\\udd70\",\"\\ud83e\\udd70\",\"\\ud83e\\udd70\",\"\\ud83e\\udd70\",\"\\ud83e\\udd70\",\"\\ud83e\\udd70\",\"\\ud83e\\udd70\",\"\\ud83e\\udd70\",\"\\ud83e\\udd70\"],\"type\":\"scattergeo\"},{\"customdata\":[[\"Albania\",\"Europe\",2016,4.511100769042969,\"\\ud83e\\udd16\",\"ALB\"],[\"Algeria\",\"Africa\",2016,5.340853691101074,\"\\ud83e\\udd16\",\"DZA\"],[\"Azerbaijan\",\"Asia\",2016,5.303894996643066,\"\\ud83e\\udd16\",\"AZE\"],[\"Bangladesh\",\"Asia\",2016,4.556140899658203,\"\\ud83e\\udd16\",\"BGD\"],[\"Belarus\",\"Europe\",2016,5.177899360656738,\"\\ud83e\\udd16\",\"BLR\"],[\"Bolivia\",\"South America\",2016,5.769723415374756,\"\\ud83e\\udd16\",\"BOL\"],[\"Bosnia and Herzegovina\",\"Europe\",2016,5.180865287780762,\"\\ud83e\\udd16\",\"BIH\"],[\"Bulgaria\",\"Europe\",2016,4.837560653686523,\"\\ud83e\\udd16\",\"BGR\"],[\"Cameroon\",\"Africa\",2016,4.816232204437256,\"\\ud83e\\udd16\",\"CMR\"],[\"China\",\"Asia\",2016,5.324955940246582,\"\\ud83e\\udd16\",\"CHN\"],[\"Croatia\",\"Europe\",2016,5.41687536239624,\"\\ud83e\\udd16\",\"HRV\"],[\"Cyprus\",\"Asia\",2016,5.794618606567383,\"\\ud83e\\udd16\",\"CYP\"],[\"Dominican Republic\",\"South America\",2016,5.238698482513428,\"\\ud83e\\udd16\",\"DOM\"],[\"Estonia\",\"Europe\",2016,5.649675369262695,\"\\ud83e\\udd16\",\"EST\"],[\"Gabon\",\"Africa\",2016,4.831764221191406,\"\\ud83e\\udd16\",\"GAB\"],[\"Ghana\",\"Africa\",2016,4.514411449432373,\"\\ud83e\\udd16\",\"GHA\"],[\"Greece\",\"Europe\",2016,5.302619457244873,\"\\ud83e\\udd16\",\"GRC\"],[\"Honduras\",\"South America\",2016,5.6481547355651855,\"\\ud83e\\udd16\",\"HND\"],[\"Hungary\",\"Europe\",2016,5.448901653289795,\"\\ud83e\\udd16\",\"HUN\"],[\"Indonesia\",\"Asia\",2016,5.136325359344482,\"\\ud83e\\udd16\",\"IDN\"],[\"Italy\",\"Europe\",2016,5.954524040222168,\"\\ud83e\\udd16\",\"ITA\"],[\"Japan\",\"Asia\",2016,5.95465087890625,\"\\ud83e\\udd16\",\"JPN\"],[\"Jordan\",\"Asia\",2016,5.271284580230713,\"\\ud83e\\udd16\",\"JOR\"],[\"Kazakhstan\",\"Asia\",2016,5.533551692962647,\"\\ud83e\\udd16\",\"KAZ\"],[\"Kosovo\",\"Europe\",2016,5.759412288665772,\"\\ud83e\\udd16\",\"XKX\"],[\"Kuwait\",\"Asia\",2016,5.947194576263428,\"\\ud83e\\udd16\",\"KWT\"],[\"Latvia\",\"Europe\",2016,5.940446376800537,\"\\ud83e\\udd16\",\"LVA\"],[\"Lebanon\",\"Asia\",2016,5.270723819732666,\"\\ud83e\\udd16\",\"LBN\"],[\"Libya\",\"Africa\",2016,5.43358325958252,\"\\ud83e\\udd16\",\"LBY\"],[\"Lithuania\",\"Europe\",2016,5.8655524253845215,\"\\ud83e\\udd16\",\"LTU\"],[\"Mauritius\",\"Africa\",2016,5.610003471374512,\"\\ud83e\\udd16\",\"MUS\"],[\"Moldova\",\"Europe\",2016,5.577784061431885,\"\\ud83e\\udd16\",\"MDA\"],[\"Mongolia\",\"Asia\",2016,5.056999683380127,\"\\ud83e\\udd16\",\"MNG\"],[\"Montenegro\",\"Europe\",2016,5.304066181182861,\"\\ud83e\\udd16\",\"MNE\"],[\"Morocco\",\"Africa\",2016,5.386307239532471,\"\\ud83e\\udd16\",\"MAR\"],[\"Myanmar\",\"Asia\",2016,4.623119831085205,\"\\ud83e\\udd16\",\"MMR\"],[\"Nepal\",\"Asia\",2016,5.099539756774902,\"\\ud83e\\udd16\",\"NPL\"],[\"Nigeria\",\"Africa\",2016,5.219567775726318,\"\\ud83e\\udd16\",\"NGA\"],[\"North Macedonia\",null,2016,5.345746040344238,\"\\ud83e\\udd16\",\"MKD\"],[\"Pakistan\",\"Asia\",2016,5.548508167266846,\"\\ud83e\\udd16\",\"PAK\"],[\"Paraguay\",\"South America\",2016,5.801380157470703,\"\\ud83e\\udd16\",\"PRY\"],[\"Peru\",\"South America\",2016,5.700628757476807,\"\\ud83e\\udd16\",\"PER\"],[\"Philippines\",\"Asia\",2016,5.430832862854004,\"\\ud83e\\udd16\",\"PHL\"],[\"Portugal\",\"Europe\",2016,5.446637153625488,\"\\ud83e\\udd16\",\"PRT\"],[\"Romania\",\"Europe\",2016,5.968870639801025,\"\\ud83e\\udd16\",\"ROU\"],[\"Senegal\",\"Africa\",2016,4.594533920288086,\"\\ud83e\\udd16\",\"SEN\"],[\"Serbia\",\"Europe\",2016,5.75275468826294,\"\\ud83e\\udd16\",\"SRB\"],[\"Sierra Leone\",\"Africa\",2016,4.732953071594238,\"\\ud83e\\udd16\",\"SLE\"],[\"Slovenia\",\"Europe\",2016,5.936821460723877,\"\\ud83e\\udd16\",\"SVN\"],[\"Somalia\",null,2016,4.667941093444824,\"\\ud83e\\udd16\",\"SOM\"],[\"South Africa\",\"Africa\",2016,4.769739627838135,\"\\ud83e\\udd16\",\"ZAF\"],[\"Tajikistan\",\"Asia\",2016,5.1037211418151855,\"\\ud83e\\udd16\",\"TJK\"],[\"Tunisia\",\"Africa\",2016,4.521453380584717,\"\\ud83e\\udd16\",\"TUN\"],[\"Turkmenistan\",\"Asia\",2016,5.887051582336426,\"\\ud83e\\udd16\",\"TKM\"],[\"Uzbekistan\",\"Asia\",2016,5.892539024353027,\"\\ud83e\\udd16\",\"UZB\"],[\"Vietnam\",\"Asia\",2016,5.062267303466797,\"\\ud83e\\udd16\",\"VNM\"]],\"geo\":\"geo\",\"hovertemplate\":\"<b>%{hovertext}</b><br><br>emoji=%{customdata[4]}<br>year=%{customdata[2]}<br>Happiness Score=%{customdata[3]}<br>continent=%{customdata[1]}<extra></extra>\",\"hovertext\":[\"Albania\",\"Algeria\",\"Azerbaijan\",\"Bangladesh\",\"Belarus\",\"Bolivia\",\"Bosnia and Herzegovina\",\"Bulgaria\",\"Cameroon\",\"China\",\"Croatia\",\"Cyprus\",\"Dominican Republic\",\"Estonia\",\"Gabon\",\"Ghana\",\"Greece\",\"Honduras\",\"Hungary\",\"Indonesia\",\"Italy\",\"Japan\",\"Jordan\",\"Kazakhstan\",\"Kosovo\",\"Kuwait\",\"Latvia\",\"Lebanon\",\"Libya\",\"Lithuania\",\"Mauritius\",\"Moldova\",\"Mongolia\",\"Montenegro\",\"Morocco\",\"Myanmar\",\"Nepal\",\"Nigeria\",\"North Macedonia\",\"Pakistan\",\"Paraguay\",\"Peru\",\"Philippines\",\"Portugal\",\"Romania\",\"Senegal\",\"Serbia\",\"Sierra Leone\",\"Slovenia\",\"Somalia\",\"South Africa\",\"Tajikistan\",\"Tunisia\",\"Turkmenistan\",\"Uzbekistan\",\"Vietnam\"],\"legendgroup\":\"\\ud83e\\udd16\",\"locations\":[\"ALB\",\"DZA\",\"AZE\",\"BGD\",\"BLR\",\"BOL\",\"BIH\",\"BGR\",\"CMR\",\"CHN\",\"HRV\",\"CYP\",\"DOM\",\"EST\",\"GAB\",\"GHA\",\"GRC\",\"HND\",\"HUN\",\"IDN\",\"ITA\",\"JPN\",\"JOR\",\"KAZ\",\"XKX\",\"KWT\",\"LVA\",\"LBN\",\"LBY\",\"LTU\",\"MUS\",\"MDA\",\"MNG\",\"MNE\",\"MAR\",\"MMR\",\"NPL\",\"NGA\",\"MKD\",\"PAK\",\"PRY\",\"PER\",\"PHL\",\"PRT\",\"ROU\",\"SEN\",\"SRB\",\"SLE\",\"SVN\",\"SOM\",\"ZAF\",\"TJK\",\"TUN\",\"TKM\",\"UZB\",\"VNM\"],\"marker\":{\"color\":\"#EF553B\",\"size\":[4.511100769042969,5.340853691101074,5.303894996643066,4.556140899658203,5.177899360656738,5.769723415374756,5.180865287780762,4.837560653686523,4.816232204437256,5.324955940246582,5.41687536239624,5.794618606567383,5.238698482513428,5.649675369262695,4.831764221191406,4.514411449432373,5.302619457244873,5.6481547355651855,5.448901653289795,5.136325359344482,5.954524040222168,5.95465087890625,5.271284580230713,5.533551692962647,5.759412288665772,5.947194576263428,5.940446376800537,5.270723819732666,5.43358325958252,5.8655524253845215,5.610003471374512,5.577784061431885,5.056999683380127,5.304066181182861,5.386307239532471,4.623119831085205,5.099539756774902,5.219567775726318,5.345746040344238,5.548508167266846,5.801380157470703,5.700628757476807,5.430832862854004,5.446637153625488,5.968870639801025,4.594533920288086,5.75275468826294,4.732953071594238,5.936821460723877,4.667941093444824,4.769739627838135,5.1037211418151855,4.521453380584717,5.887051582336426,5.892539024353027,5.062267303466797],\"sizemode\":\"area\",\"sizeref\":7.970891952514648,\"symbol\":\"circle\"},\"mode\":\"markers+text\",\"name\":\"\\ud83e\\udd16\",\"showlegend\":true,\"text\":[\"\\ud83e\\udd16\",\"\\ud83e\\udd16\",\"\\ud83e\\udd16\",\"\\ud83e\\udd16\",\"\\ud83e\\udd16\",\"\\ud83e\\udd16\",\"\\ud83e\\udd16\",\"\\ud83e\\udd16\",\"\\ud83e\\udd16\",\"\\ud83e\\udd16\",\"\\ud83e\\udd16\",\"\\ud83e\\udd16\",\"\\ud83e\\udd16\",\"\\ud83e\\udd16\",\"\\ud83e\\udd16\",\"\\ud83e\\udd16\",\"\\ud83e\\udd16\",\"\\ud83e\\udd16\",\"\\ud83e\\udd16\",\"\\ud83e\\udd16\",\"\\ud83e\\udd16\",\"\\ud83e\\udd16\",\"\\ud83e\\udd16\",\"\\ud83e\\udd16\",\"\\ud83e\\udd16\",\"\\ud83e\\udd16\",\"\\ud83e\\udd16\",\"\\ud83e\\udd16\",\"\\ud83e\\udd16\",\"\\ud83e\\udd16\",\"\\ud83e\\udd16\",\"\\ud83e\\udd16\",\"\\ud83e\\udd16\",\"\\ud83e\\udd16\",\"\\ud83e\\udd16\",\"\\ud83e\\udd16\",\"\\ud83e\\udd16\",\"\\ud83e\\udd16\",\"\\ud83e\\udd16\",\"\\ud83e\\udd16\",\"\\ud83e\\udd16\",\"\\ud83e\\udd16\",\"\\ud83e\\udd16\",\"\\ud83e\\udd16\",\"\\ud83e\\udd16\",\"\\ud83e\\udd16\",\"\\ud83e\\udd16\",\"\\ud83e\\udd16\",\"\\ud83e\\udd16\",\"\\ud83e\\udd16\",\"\\ud83e\\udd16\",\"\\ud83e\\udd16\",\"\\ud83e\\udd16\",\"\\ud83e\\udd16\",\"\\ud83e\\udd16\",\"\\ud83e\\udd16\"],\"type\":\"scattergeo\"},{\"customdata\":[[\"Afghanistan\",\"Asia\",2016,4.220168590545654,\"\\ud83e\\udd22\",\"AFG\"],[\"Armenia\",\"Asia\",2016,4.325471878051758,\"\\ud83e\\udd22\",\"ARM\"],[\"Benin\",\"Africa\",2016,4.007357597351074,\"\\ud83e\\udd22\",\"BEN\"],[\"Botswana\",\"Africa\",2016,3.498936653137207,\"\\ud83e\\udd22\",\"BWA\"],[\"Burkina Faso\",\"Africa\",2016,4.205634593963623,\"\\ud83e\\udd22\",\"BFA\"],[\"Cambodia\",\"Asia\",2016,4.461259365081787,\"\\ud83e\\udd22\",\"KHM\"],[\"Central African Republic\",null,2016,2.693061113357544,\"\\ud83e\\udd22\",\"CAF\"],[\"Chad\",\"Africa\",2016,4.029350280761719,\"\\ud83e\\udd22\",\"TCD\"],[\"Ethiopia\",\"Africa\",2016,4.297848701477051,\"\\ud83e\\udd22\",\"ETH\"],[\"Georgia\",\"Asia\",2016,4.448386192321777,\"\\ud83e\\udd22\",\"GEO\"],[\"Guinea\",\"South America\",2016,3.6028547286987305,\"\\ud83e\\udd22\",\"GIN\"],[\"Haiti\",\"South America\",2016,3.35230016708374,\"\\ud83e\\udd22\",\"HTI\"],[\"India\",\"Asia\",2016,4.179177284240723,\"\\ud83e\\udd22\",\"IND\"],[\"Iraq\",\"Asia\",2016,4.412537097930908,\"\\ud83e\\udd22\",\"IRQ\"],[\"Kenya\",\"Africa\",2016,4.396127700805664,\"\\ud83e\\udd22\",\"KEN\"],[\"Lesotho\",null,2016,3.808204889297485,\"\\ud83e\\udd22\",\"LSO\"],[\"Liberia\",\"Africa\",2016,3.3546760082244877,\"\\ud83e\\udd22\",\"LBR\"],[\"Madagascar\",\"Africa\",2016,3.6630859375,\"\\ud83e\\udd22\",\"MDG\"],[\"Malawi\",\"Africa\",2016,3.4764926433563232,\"\\ud83e\\udd22\",\"MWI\"],[\"Mali\",\"Africa\",2016,4.016027927398682,\"\\ud83e\\udd22\",\"MLI\"],[\"Mauritania\",\"Africa\",2016,4.47214937210083,\"\\ud83e\\udd22\",\"MRT\"],[\"Niger\",\"Africa\",2016,4.234645843505859,\"\\ud83e\\udd22\",\"NER\"],[\"Rwanda\",\"Africa\",2016,3.3329899311065674,\"\\ud83e\\udd22\",\"RWA\"],[\"Tanzania\",\"Africa\",2016,2.9027342796325684,\"\\ud83e\\udd22\",\"TZA\"],[\"Togo\",\"Africa\",2016,3.878578424453736,\"\\ud83e\\udd22\",\"TGO\"],[\"Uganda\",\"Africa\",2016,4.2332611083984375,\"\\ud83e\\udd22\",\"UGA\"],[\"Ukraine\",\"Europe\",2016,4.028690338134766,\"\\ud83e\\udd22\",\"UKR\"],[\"Zambia\",\"Africa\",2016,4.347543716430664,\"\\ud83e\\udd22\",\"ZMB\"],[\"Zimbabwe\",\"Africa\",2016,3.7354001998901367,\"\\ud83e\\udd22\",\"ZWE\"]],\"geo\":\"geo\",\"hovertemplate\":\"<b>%{hovertext}</b><br><br>emoji=%{customdata[4]}<br>year=%{customdata[2]}<br>Happiness Score=%{customdata[3]}<br>continent=%{customdata[1]}<extra></extra>\",\"hovertext\":[\"Afghanistan\",\"Armenia\",\"Benin\",\"Botswana\",\"Burkina Faso\",\"Cambodia\",\"Central African Republic\",\"Chad\",\"Ethiopia\",\"Georgia\",\"Guinea\",\"Haiti\",\"India\",\"Iraq\",\"Kenya\",\"Lesotho\",\"Liberia\",\"Madagascar\",\"Malawi\",\"Mali\",\"Mauritania\",\"Niger\",\"Rwanda\",\"Tanzania\",\"Togo\",\"Uganda\",\"Ukraine\",\"Zambia\",\"Zimbabwe\"],\"legendgroup\":\"\\ud83e\\udd22\",\"locations\":[\"AFG\",\"ARM\",\"BEN\",\"BWA\",\"BFA\",\"KHM\",\"CAF\",\"TCD\",\"ETH\",\"GEO\",\"GIN\",\"HTI\",\"IND\",\"IRQ\",\"KEN\",\"LSO\",\"LBR\",\"MDG\",\"MWI\",\"MLI\",\"MRT\",\"NER\",\"RWA\",\"TZA\",\"TGO\",\"UGA\",\"UKR\",\"ZMB\",\"ZWE\"],\"marker\":{\"color\":\"#00cc96\",\"size\":[4.220168590545654,4.325471878051758,4.007357597351074,3.498936653137207,4.205634593963623,4.461259365081787,2.693061113357544,4.029350280761719,4.297848701477051,4.448386192321777,3.6028547286987305,3.35230016708374,4.179177284240723,4.412537097930908,4.396127700805664,3.808204889297485,3.3546760082244877,3.6630859375,3.4764926433563232,4.016027927398682,4.47214937210083,4.234645843505859,3.3329899311065674,2.9027342796325684,3.878578424453736,4.2332611083984375,4.028690338134766,4.347543716430664,3.7354001998901367],\"sizemode\":\"area\",\"sizeref\":7.970891952514648,\"symbol\":\"circle\"},\"mode\":\"markers+text\",\"name\":\"\\ud83e\\udd22\",\"showlegend\":true,\"text\":[\"\\ud83e\\udd22\",\"\\ud83e\\udd22\",\"\\ud83e\\udd22\",\"\\ud83e\\udd22\",\"\\ud83e\\udd22\",\"\\ud83e\\udd22\",\"\\ud83e\\udd22\",\"\\ud83e\\udd22\",\"\\ud83e\\udd22\",\"\\ud83e\\udd22\",\"\\ud83e\\udd22\",\"\\ud83e\\udd22\",\"\\ud83e\\udd22\",\"\\ud83e\\udd22\",\"\\ud83e\\udd22\",\"\\ud83e\\udd22\",\"\\ud83e\\udd22\",\"\\ud83e\\udd22\",\"\\ud83e\\udd22\",\"\\ud83e\\udd22\",\"\\ud83e\\udd22\",\"\\ud83e\\udd22\",\"\\ud83e\\udd22\",\"\\ud83e\\udd22\",\"\\ud83e\\udd22\",\"\\ud83e\\udd22\",\"\\ud83e\\udd22\",\"\\ud83e\\udd22\",\"\\ud83e\\udd22\"],\"type\":\"scattergeo\"}],\"name\":\"2016\"},{\"data\":[{\"customdata\":[[\"Argentina\",\"South America\",2017,6.039330005645752,\"\\ud83e\\udd70\",\"ARG\"],[\"Australia\",\"Oceania\",2017,7.25703763961792,\"\\ud83e\\udd70\",\"AUS\"],[\"Austria\",\"Europe\",2017,7.293727874755859,\"\\ud83e\\udd70\",\"AUT\"],[\"Bahrain\",\"Asia\",2017,6.227320671081543,\"\\ud83e\\udd70\",\"BHR\"],[\"Belgium\",\"Europe\",2017,6.928347587585449,\"\\ud83e\\udd70\",\"BEL\"],[\"Brazil\",\"South America\",2017,6.3329291343688965,\"\\ud83e\\udd70\",\"BRA\"],[\"Canada\",\"North America\",2017,7.414868354797363,\"\\ud83e\\udd70\",\"CAN\"],[\"Chile\",\"South America\",2017,6.320119380950928,\"\\ud83e\\udd70\",\"CHL\"],[\"Colombia\",\"South America\",2017,6.157341957092285,\"\\ud83e\\udd70\",\"COL\"],[\"Costa Rica\",\"South America\",2017,7.225181579589844,\"\\ud83e\\udd70\",\"CRI\"],[\"Cyprus\",\"Asia\",2017,6.062051296234131,\"\\ud83e\\udd70\",\"CYP\"],[\"Czechia\",null,2017,6.789567947387695,\"\\ud83e\\udd70\",\"CZE\"],[\"Denmark\",\"Europe\",2017,7.59370231628418,\"\\ud83e\\udd70\",\"DNK\"],[\"El Salvador\",\"South America\",2017,6.33931827545166,\"\\ud83e\\udd70\",\"SLV\"],[\"Finland\",\"Europe\",2017,7.788251876831055,\"\\ud83e\\udd70\",\"FIN\"],[\"France\",\"Europe\",2017,6.635222434997559,\"\\ud83e\\udd70\",\"FRA\"],[\"Germany\",\"Europe\",2017,7.074324607849121,\"\\ud83e\\udd70\",\"DEU\"],[\"Guatemala\",\"South America\",2017,6.325118541717529,\"\\ud83e\\udd70\",\"GTM\"],[\"Honduras\",\"South America\",2017,6.019985675811768,\"\\ud83e\\udd70\",\"HND\"],[\"Hungary\",\"Europe\",2017,6.065038681030273,\"\\ud83e\\udd70\",\"HUN\"],[\"Iceland\",\"Europe\",2017,7.4762139320373535,\"\\ud83e\\udd70\",\"ISL\"],[\"Ireland\",\"Europe\",2017,7.060155391693115,\"\\ud83e\\udd70\",\"IRL\"],[\"Israel\",\"Asia\",2017,7.33103609085083,\"\\ud83e\\udd70\",\"ISR\"],[\"Italy\",\"Europe\",2017,6.1988701820373535,\"\\ud83e\\udd70\",\"ITA\"],[\"Kosovo\",\"Europe\",2017,6.149199962615967,\"\\ud83e\\udd70\",\"XKX\"],[\"Kuwait\",\"Asia\",2017,6.093905448913574,\"\\ud83e\\udd70\",\"KWT\"],[\"Lithuania\",\"Europe\",2017,6.272940635681152,\"\\ud83e\\udd70\",\"LTU\"],[\"Luxembourg\",\"Europe\",2017,7.061380863189697,\"\\ud83e\\udd70\",\"LUX\"],[\"Malta\",\"Europe\",2017,6.675665855407715,\"\\ud83e\\udd70\",\"MLT\"],[\"Mauritius\",\"Africa\",2017,6.174117565155029,\"\\ud83e\\udd70\",\"MUS\"],[\"Mexico\",\"North America\",2017,6.410299301147461,\"\\ud83e\\udd70\",\"MEX\"],[\"Netherlands\",\"Europe\",2017,7.458965301513672,\"\\ud83e\\udd70\",\"NLD\"],[\"New Zealand\",\"Oceania\",2017,7.327182769775391,\"\\ud83e\\udd70\",\"NZL\"],[\"Nicaragua\",\"South America\",2017,6.476356506347656,\"\\ud83e\\udd70\",\"NIC\"],[\"Norway\",\"Europe\",2017,7.578744888305664,\"\\ud83e\\udd70\",\"NOR\"],[\"Panama\",\"South America\",2017,6.5676589012146,\"\\ud83e\\udd70\",\"PAN\"],[\"Poland\",\"Europe\",2017,6.201268196105957,\"\\ud83e\\udd70\",\"POL\"],[\"Romania\",\"Europe\",2017,6.08990478515625,\"\\ud83e\\udd70\",\"ROU\"],[\"Saudi Arabia\",\"Asia\",2017,6.29428243637085,\"\\ud83e\\udd70\",\"SAU\"],[\"Singapore\",\"Asia\",2017,6.3784379959106445,\"\\ud83e\\udd70\",\"SGP\"],[\"Slovenia\",\"Europe\",2017,6.166837692260742,\"\\ud83e\\udd70\",\"SVN\"],[\"Spain\",\"Europe\",2017,6.230173110961914,\"\\ud83e\\udd70\",\"ESP\"],[\"Sweden\",\"Europe\",2017,7.286804676055908,\"\\ud83e\\udd70\",\"SWE\"],[\"Switzerland\",\"Europe\",2017,7.473593235015869,\"\\ud83e\\udd70\",\"CHE\"],[\"Trinidad and Tobago\",null,2017,6.191859722137451,\"\\ud83e\\udd70\",\"TTO\"],[\"United Arab Emirates\",\"Asia\",2017,7.039419651031494,\"\\ud83e\\udd70\",\"ARE\"],[\"United Kingdom\",\"Europe\",2017,7.103273391723633,\"\\ud83e\\udd70\",\"GBR\"],[\"United States\",\"North America\",2017,6.991759300231934,\"\\ud83e\\udd70\",\"USA\"],[\"Uruguay\",\"South America\",2017,6.336009979248047,\"\\ud83e\\udd70\",\"URY\"],[\"Uzbekistan\",\"Asia\",2017,6.42144775390625,\"\\ud83e\\udd70\",\"UZB\"]],\"geo\":\"geo\",\"hovertemplate\":\"<b>%{hovertext}</b><br><br>emoji=%{customdata[4]}<br>year=%{customdata[2]}<br>Happiness Score=%{customdata[3]}<br>continent=%{customdata[1]}<extra></extra>\",\"hovertext\":[\"Argentina\",\"Australia\",\"Austria\",\"Bahrain\",\"Belgium\",\"Brazil\",\"Canada\",\"Chile\",\"Colombia\",\"Costa Rica\",\"Cyprus\",\"Czechia\",\"Denmark\",\"El Salvador\",\"Finland\",\"France\",\"Germany\",\"Guatemala\",\"Honduras\",\"Hungary\",\"Iceland\",\"Ireland\",\"Israel\",\"Italy\",\"Kosovo\",\"Kuwait\",\"Lithuania\",\"Luxembourg\",\"Malta\",\"Mauritius\",\"Mexico\",\"Netherlands\",\"New Zealand\",\"Nicaragua\",\"Norway\",\"Panama\",\"Poland\",\"Romania\",\"Saudi Arabia\",\"Singapore\",\"Slovenia\",\"Spain\",\"Sweden\",\"Switzerland\",\"Trinidad and Tobago\",\"United Arab Emirates\",\"United Kingdom\",\"United States\",\"Uruguay\",\"Uzbekistan\"],\"legendgroup\":\"\\ud83e\\udd70\",\"locations\":[\"ARG\",\"AUS\",\"AUT\",\"BHR\",\"BEL\",\"BRA\",\"CAN\",\"CHL\",\"COL\",\"CRI\",\"CYP\",\"CZE\",\"DNK\",\"SLV\",\"FIN\",\"FRA\",\"DEU\",\"GTM\",\"HND\",\"HUN\",\"ISL\",\"IRL\",\"ISR\",\"ITA\",\"XKX\",\"KWT\",\"LTU\",\"LUX\",\"MLT\",\"MUS\",\"MEX\",\"NLD\",\"NZL\",\"NIC\",\"NOR\",\"PAN\",\"POL\",\"ROU\",\"SAU\",\"SGP\",\"SVN\",\"ESP\",\"SWE\",\"CHE\",\"TTO\",\"ARE\",\"GBR\",\"USA\",\"URY\",\"UZB\"],\"marker\":{\"color\":\"#636efa\",\"size\":[6.039330005645752,7.25703763961792,7.293727874755859,6.227320671081543,6.928347587585449,6.3329291343688965,7.414868354797363,6.320119380950928,6.157341957092285,7.225181579589844,6.062051296234131,6.789567947387695,7.59370231628418,6.33931827545166,7.788251876831055,6.635222434997559,7.074324607849121,6.325118541717529,6.019985675811768,6.065038681030273,7.4762139320373535,7.060155391693115,7.33103609085083,6.1988701820373535,6.149199962615967,6.093905448913574,6.272940635681152,7.061380863189697,6.675665855407715,6.174117565155029,6.410299301147461,7.458965301513672,7.327182769775391,6.476356506347656,7.578744888305664,6.5676589012146,6.201268196105957,6.08990478515625,6.29428243637085,6.3784379959106445,6.166837692260742,6.230173110961914,7.286804676055908,7.473593235015869,6.191859722137451,7.039419651031494,7.103273391723633,6.991759300231934,6.336009979248047,6.42144775390625],\"sizemode\":\"area\",\"sizeref\":7.970891952514648,\"symbol\":\"circle\"},\"mode\":\"markers+text\",\"name\":\"\\ud83e\\udd70\",\"showlegend\":true,\"text\":[\"\\ud83e\\udd70\",\"\\ud83e\\udd70\",\"\\ud83e\\udd70\",\"\\ud83e\\udd70\",\"\\ud83e\\udd70\",\"\\ud83e\\udd70\",\"\\ud83e\\udd70\",\"\\ud83e\\udd70\",\"\\ud83e\\udd70\",\"\\ud83e\\udd70\",\"\\ud83e\\udd70\",\"\\ud83e\\udd70\",\"\\ud83e\\udd70\",\"\\ud83e\\udd70\",\"\\ud83e\\udd70\",\"\\ud83e\\udd70\",\"\\ud83e\\udd70\",\"\\ud83e\\udd70\",\"\\ud83e\\udd70\",\"\\ud83e\\udd70\",\"\\ud83e\\udd70\",\"\\ud83e\\udd70\",\"\\ud83e\\udd70\",\"\\ud83e\\udd70\",\"\\ud83e\\udd70\",\"\\ud83e\\udd70\",\"\\ud83e\\udd70\",\"\\ud83e\\udd70\",\"\\ud83e\\udd70\",\"\\ud83e\\udd70\",\"\\ud83e\\udd70\",\"\\ud83e\\udd70\",\"\\ud83e\\udd70\",\"\\ud83e\\udd70\",\"\\ud83e\\udd70\",\"\\ud83e\\udd70\",\"\\ud83e\\udd70\",\"\\ud83e\\udd70\",\"\\ud83e\\udd70\",\"\\ud83e\\udd70\",\"\\ud83e\\udd70\",\"\\ud83e\\udd70\",\"\\ud83e\\udd70\",\"\\ud83e\\udd70\",\"\\ud83e\\udd70\",\"\\ud83e\\udd70\",\"\\ud83e\\udd70\",\"\\ud83e\\udd70\",\"\\ud83e\\udd70\",\"\\ud83e\\udd70\"],\"type\":\"scattergeo\"},{\"customdata\":[[\"Albania\",\"Europe\",2017,4.639548301696777,\"\\ud83e\\udd16\",\"ALB\"],[\"Algeria\",\"Africa\",2017,5.248912334442139,\"\\ud83e\\udd16\",\"DZA\"],[\"Azerbaijan\",\"Asia\",2017,5.152279376983643,\"\\ud83e\\udd16\",\"AZE\"],[\"Belarus\",\"Europe\",2017,5.552915096282959,\"\\ud83e\\udd16\",\"BLR\"],[\"Benin\",\"Africa\",2017,4.853180885314941,\"\\ud83e\\udd16\",\"BEN\"],[\"Bolivia\",\"South America\",2017,5.650552749633789,\"\\ud83e\\udd16\",\"BOL\"],[\"Bosnia and Herzegovina\",\"Europe\",2017,5.089902400970459,\"\\ud83e\\udd16\",\"BIH\"],[\"Bulgaria\",\"Europe\",2017,5.096901893615723,\"\\ud83e\\udd16\",\"BGR\"],[\"Burkina Faso\",\"Africa\",2017,4.646891117095947,\"\\ud83e\\udd16\",\"BFA\"],[\"Cambodia\",\"Asia\",2017,4.585842132568359,\"\\ud83e\\udd16\",\"KHM\"],[\"Cameroon\",\"Africa\",2017,5.074051380157471,\"\\ud83e\\udd16\",\"CMR\"],[\"Chad\",\"Africa\",2017,4.558937072753906,\"\\ud83e\\udd16\",\"TCD\"],[\"China\",\"Asia\",2017,5.099061489105225,\"\\ud83e\\udd16\",\"CHN\"],[\"Croatia\",\"Europe\",2017,5.343165874481201,\"\\ud83e\\udd16\",\"HRV\"],[\"Dominican Republic\",\"South America\",2017,5.605202674865723,\"\\ud83e\\udd16\",\"DOM\"],[\"Ecuador\",\"South America\",2017,5.8395185470581055,\"\\ud83e\\udd16\",\"ECU\"],[\"Estonia\",\"Europe\",2017,5.938395977020264,\"\\ud83e\\udd16\",\"EST\"],[\"Gabon\",\"Africa\",2017,4.782382965087891,\"\\ud83e\\udd16\",\"GAB\"],[\"Ghana\",\"Africa\",2017,5.481310844421387,\"\\ud83e\\udd16\",\"GHA\"],[\"Greece\",\"Europe\",2017,5.1482415199279785,\"\\ud83e\\udd16\",\"GRC\"],[\"Guinea\",\"South America\",2017,4.873722553253174,\"\\ud83e\\udd16\",\"GIN\"],[\"Indonesia\",\"Asia\",2017,5.098401546478272,\"\\ud83e\\udd16\",\"IDN\"],[\"Jamaica\",\"South America\",2017,5.889759063720703,\"\\ud83e\\udd16\",\"JAM\"],[\"Japan\",\"Asia\",2017,5.9106764793396,\"\\ud83e\\udd16\",\"JPN\"],[\"Jordan\",\"Asia\",2017,4.808082580566406,\"\\ud83e\\udd16\",\"JOR\"],[\"Kazakhstan\",\"Asia\",2017,5.882351398468018,\"\\ud83e\\udd16\",\"KAZ\"],[\"Latvia\",\"Europe\",2017,5.977817535400391,\"\\ud83e\\udd16\",\"LVA\"],[\"Lebanon\",\"Asia\",2017,5.153989791870117,\"\\ud83e\\udd16\",\"LBN\"],[\"Libya\",\"Africa\",2017,5.646852493286133,\"\\ud83e\\udd16\",\"LBY\"],[\"Mali\",\"Africa\",2017,4.74185037612915,\"\\ud83e\\udd16\",\"MLI\"],[\"Mauritania\",\"Africa\",2017,4.678159713745117,\"\\ud83e\\udd16\",\"MRT\"],[\"Moldova\",\"Europe\",2017,5.325530529022217,\"\\ud83e\\udd16\",\"MDA\"],[\"Mongolia\",\"Asia\",2017,5.333850383758545,\"\\ud83e\\udd16\",\"MNG\"],[\"Montenegro\",\"Europe\",2017,5.614798545837402,\"\\ud83e\\udd16\",\"MNE\"],[\"Morocco\",\"Africa\",2017,5.312482833862305,\"\\ud83e\\udd16\",\"MAR\"],[\"Nepal\",\"Asia\",2017,4.736692428588867,\"\\ud83e\\udd16\",\"NPL\"],[\"Niger\",\"Africa\",2017,4.615673542022705,\"\\ud83e\\udd16\",\"NER\"],[\"Nigeria\",\"Africa\",2017,5.321928024291992,\"\\ud83e\\udd16\",\"NGA\"],[\"North Macedonia\",null,2017,5.233866691589356,\"\\ud83e\\udd16\",\"MKD\"],[\"Pakistan\",\"Asia\",2017,5.830870628356934,\"\\ud83e\\udd16\",\"PAK\"],[\"Paraguay\",\"South America\",2017,5.7132954597473145,\"\\ud83e\\udd16\",\"PRY\"],[\"Peru\",\"South America\",2017,5.710936546325684,\"\\ud83e\\udd16\",\"PER\"],[\"Philippines\",\"Asia\",2017,5.5942702293396,\"\\ud83e\\udd16\",\"PHL\"],[\"Portugal\",\"Europe\",2017,5.711499214172363,\"\\ud83e\\udd16\",\"PRT\"],[\"Senegal\",\"Africa\",2017,4.683024883270264,\"\\ud83e\\udd16\",\"SEN\"],[\"Serbia\",\"Europe\",2017,5.122031211853027,\"\\ud83e\\udd16\",\"SRB\"],[\"South Africa\",\"Africa\",2017,4.513655185699463,\"\\ud83e\\udd16\",\"ZAF\"],[\"Tajikistan\",\"Asia\",2017,5.8292341232299805,\"\\ud83e\\udd16\",\"TJK\"],[\"Thailand\",\"Asia\",2017,5.938895225524902,\"\\ud83e\\udd16\",\"THA\"],[\"Turkmenistan\",\"Asia\",2017,5.229148864746094,\"\\ud83e\\udd16\",\"TKM\"],[\"Vietnam\",\"Asia\",2017,5.175278663635254,\"\\ud83e\\udd16\",\"VNM\"]],\"geo\":\"geo\",\"hovertemplate\":\"<b>%{hovertext}</b><br><br>emoji=%{customdata[4]}<br>year=%{customdata[2]}<br>Happiness Score=%{customdata[3]}<br>continent=%{customdata[1]}<extra></extra>\",\"hovertext\":[\"Albania\",\"Algeria\",\"Azerbaijan\",\"Belarus\",\"Benin\",\"Bolivia\",\"Bosnia and Herzegovina\",\"Bulgaria\",\"Burkina Faso\",\"Cambodia\",\"Cameroon\",\"Chad\",\"China\",\"Croatia\",\"Dominican Republic\",\"Ecuador\",\"Estonia\",\"Gabon\",\"Ghana\",\"Greece\",\"Guinea\",\"Indonesia\",\"Jamaica\",\"Japan\",\"Jordan\",\"Kazakhstan\",\"Latvia\",\"Lebanon\",\"Libya\",\"Mali\",\"Mauritania\",\"Moldova\",\"Mongolia\",\"Montenegro\",\"Morocco\",\"Nepal\",\"Niger\",\"Nigeria\",\"North Macedonia\",\"Pakistan\",\"Paraguay\",\"Peru\",\"Philippines\",\"Portugal\",\"Senegal\",\"Serbia\",\"South Africa\",\"Tajikistan\",\"Thailand\",\"Turkmenistan\",\"Vietnam\"],\"legendgroup\":\"\\ud83e\\udd16\",\"locations\":[\"ALB\",\"DZA\",\"AZE\",\"BLR\",\"BEN\",\"BOL\",\"BIH\",\"BGR\",\"BFA\",\"KHM\",\"CMR\",\"TCD\",\"CHN\",\"HRV\",\"DOM\",\"ECU\",\"EST\",\"GAB\",\"GHA\",\"GRC\",\"GIN\",\"IDN\",\"JAM\",\"JPN\",\"JOR\",\"KAZ\",\"LVA\",\"LBN\",\"LBY\",\"MLI\",\"MRT\",\"MDA\",\"MNG\",\"MNE\",\"MAR\",\"NPL\",\"NER\",\"NGA\",\"MKD\",\"PAK\",\"PRY\",\"PER\",\"PHL\",\"PRT\",\"SEN\",\"SRB\",\"ZAF\",\"TJK\",\"THA\",\"TKM\",\"VNM\"],\"marker\":{\"color\":\"#EF553B\",\"size\":[4.639548301696777,5.248912334442139,5.152279376983643,5.552915096282959,4.853180885314941,5.650552749633789,5.089902400970459,5.096901893615723,4.646891117095947,4.585842132568359,5.074051380157471,4.558937072753906,5.099061489105225,5.343165874481201,5.605202674865723,5.8395185470581055,5.938395977020264,4.782382965087891,5.481310844421387,5.1482415199279785,4.873722553253174,5.098401546478272,5.889759063720703,5.9106764793396,4.808082580566406,5.882351398468018,5.977817535400391,5.153989791870117,5.646852493286133,4.74185037612915,4.678159713745117,5.325530529022217,5.333850383758545,5.614798545837402,5.312482833862305,4.736692428588867,4.615673542022705,5.321928024291992,5.233866691589356,5.830870628356934,5.7132954597473145,5.710936546325684,5.5942702293396,5.711499214172363,4.683024883270264,5.122031211853027,4.513655185699463,5.8292341232299805,5.938895225524902,5.229148864746094,5.175278663635254],\"sizemode\":\"area\",\"sizeref\":7.970891952514648,\"symbol\":\"circle\"},\"mode\":\"markers+text\",\"name\":\"\\ud83e\\udd16\",\"showlegend\":true,\"text\":[\"\\ud83e\\udd16\",\"\\ud83e\\udd16\",\"\\ud83e\\udd16\",\"\\ud83e\\udd16\",\"\\ud83e\\udd16\",\"\\ud83e\\udd16\",\"\\ud83e\\udd16\",\"\\ud83e\\udd16\",\"\\ud83e\\udd16\",\"\\ud83e\\udd16\",\"\\ud83e\\udd16\",\"\\ud83e\\udd16\",\"\\ud83e\\udd16\",\"\\ud83e\\udd16\",\"\\ud83e\\udd16\",\"\\ud83e\\udd16\",\"\\ud83e\\udd16\",\"\\ud83e\\udd16\",\"\\ud83e\\udd16\",\"\\ud83e\\udd16\",\"\\ud83e\\udd16\",\"\\ud83e\\udd16\",\"\\ud83e\\udd16\",\"\\ud83e\\udd16\",\"\\ud83e\\udd16\",\"\\ud83e\\udd16\",\"\\ud83e\\udd16\",\"\\ud83e\\udd16\",\"\\ud83e\\udd16\",\"\\ud83e\\udd16\",\"\\ud83e\\udd16\",\"\\ud83e\\udd16\",\"\\ud83e\\udd16\",\"\\ud83e\\udd16\",\"\\ud83e\\udd16\",\"\\ud83e\\udd16\",\"\\ud83e\\udd16\",\"\\ud83e\\udd16\",\"\\ud83e\\udd16\",\"\\ud83e\\udd16\",\"\\ud83e\\udd16\",\"\\ud83e\\udd16\",\"\\ud83e\\udd16\",\"\\ud83e\\udd16\",\"\\ud83e\\udd16\",\"\\ud83e\\udd16\",\"\\ud83e\\udd16\",\"\\ud83e\\udd16\",\"\\ud83e\\udd16\",\"\\ud83e\\udd16\",\"\\ud83e\\udd16\"],\"type\":\"scattergeo\"},{\"customdata\":[[\"Afghanistan\",\"Asia\",2017,2.6617181301116943,\"\\ud83e\\udd22\",\"AFG\"],[\"Armenia\",\"Asia\",2017,4.287736415863037,\"\\ud83e\\udd22\",\"ARM\"],[\"Bangladesh\",\"Asia\",2017,4.309771060943604,\"\\ud83e\\udd22\",\"BGD\"],[\"Botswana\",\"Africa\",2017,3.5048811435699463,\"\\ud83e\\udd22\",\"BWA\"],[\"Central African Republic\",null,2017,3.4758620262146,\"\\ud83e\\udd22\",\"CAF\"],[\"Ethiopia\",\"Africa\",2017,4.1803154945373535,\"\\ud83e\\udd22\",\"ETH\"],[\"Georgia\",\"Asia\",2017,4.450774669647217,\"\\ud83e\\udd22\",\"GEO\"],[\"Haiti\",\"South America\",2017,3.823865652084351,\"\\ud83e\\udd22\",\"HTI\"],[\"India\",\"Asia\",2017,4.046111106872559,\"\\ud83e\\udd22\",\"IND\"],[\"Iraq\",\"Asia\",2017,4.462399005889893,\"\\ud83e\\udd22\",\"IRQ\"],[\"Kenya\",\"Africa\",2017,4.475654125213623,\"\\ud83e\\udd22\",\"KEN\"],[\"Lesotho\",null,2017,3.795300722122192,\"\\ud83e\\udd22\",\"LSO\"],[\"Liberia\",\"Africa\",2017,4.424490928649902,\"\\ud83e\\udd22\",\"LBR\"],[\"Madagascar\",\"Africa\",2017,4.078620433807373,\"\\ud83e\\udd22\",\"MDG\"],[\"Malawi\",\"Africa\",2017,3.416862964630127,\"\\ud83e\\udd22\",\"MWI\"],[\"Mozambique\",null,2017,4.279863357543945,\"\\ud83e\\udd22\",\"MOZ\"],[\"Myanmar\",\"Asia\",2017,4.154341697692871,\"\\ud83e\\udd22\",\"MMR\"],[\"Namibia\",null,2017,4.441306114196777,\"\\ud83e\\udd22\",\"NAM\"],[\"Rwanda\",\"Africa\",2017,3.1083738803863525,\"\\ud83e\\udd22\",\"RWA\"],[\"Sierra Leone\",\"Africa\",2017,4.08956241607666,\"\\ud83e\\udd22\",\"SLE\"],[\"Sri Lanka\",\"Asia\",2017,4.330945491790772,\"\\ud83e\\udd22\",\"LKA\"],[\"Tanzania\",\"Africa\",2017,3.347121238708496,\"\\ud83e\\udd22\",\"TZA\"],[\"Togo\",\"Africa\",2017,4.360805034637451,\"\\ud83e\\udd22\",\"TGO\"],[\"Tunisia\",\"Africa\",2017,4.124342918395996,\"\\ud83e\\udd22\",\"TUN\"],[\"Uganda\",\"Africa\",2017,4.000516891479492,\"\\ud83e\\udd22\",\"UGA\"],[\"Ukraine\",\"Europe\",2017,4.3110671043396,\"\\ud83e\\udd22\",\"UKR\"],[\"Zambia\",\"Africa\",2017,3.932777404785156,\"\\ud83e\\udd22\",\"ZMB\"],[\"Zimbabwe\",\"Africa\",2017,3.6383001804351807,\"\\ud83e\\udd22\",\"ZWE\"]],\"geo\":\"geo\",\"hovertemplate\":\"<b>%{hovertext}</b><br><br>emoji=%{customdata[4]}<br>year=%{customdata[2]}<br>Happiness Score=%{customdata[3]}<br>continent=%{customdata[1]}<extra></extra>\",\"hovertext\":[\"Afghanistan\",\"Armenia\",\"Bangladesh\",\"Botswana\",\"Central African Republic\",\"Ethiopia\",\"Georgia\",\"Haiti\",\"India\",\"Iraq\",\"Kenya\",\"Lesotho\",\"Liberia\",\"Madagascar\",\"Malawi\",\"Mozambique\",\"Myanmar\",\"Namibia\",\"Rwanda\",\"Sierra Leone\",\"Sri Lanka\",\"Tanzania\",\"Togo\",\"Tunisia\",\"Uganda\",\"Ukraine\",\"Zambia\",\"Zimbabwe\"],\"legendgroup\":\"\\ud83e\\udd22\",\"locations\":[\"AFG\",\"ARM\",\"BGD\",\"BWA\",\"CAF\",\"ETH\",\"GEO\",\"HTI\",\"IND\",\"IRQ\",\"KEN\",\"LSO\",\"LBR\",\"MDG\",\"MWI\",\"MOZ\",\"MMR\",\"NAM\",\"RWA\",\"SLE\",\"LKA\",\"TZA\",\"TGO\",\"TUN\",\"UGA\",\"UKR\",\"ZMB\",\"ZWE\"],\"marker\":{\"color\":\"#00cc96\",\"size\":[2.6617181301116943,4.287736415863037,4.309771060943604,3.5048811435699463,3.4758620262146,4.1803154945373535,4.450774669647217,3.823865652084351,4.046111106872559,4.462399005889893,4.475654125213623,3.795300722122192,4.424490928649902,4.078620433807373,3.416862964630127,4.279863357543945,4.154341697692871,4.441306114196777,3.1083738803863525,4.08956241607666,4.330945491790772,3.347121238708496,4.360805034637451,4.124342918395996,4.000516891479492,4.3110671043396,3.932777404785156,3.6383001804351807],\"sizemode\":\"area\",\"sizeref\":7.970891952514648,\"symbol\":\"circle\"},\"mode\":\"markers+text\",\"name\":\"\\ud83e\\udd22\",\"showlegend\":true,\"text\":[\"\\ud83e\\udd22\",\"\\ud83e\\udd22\",\"\\ud83e\\udd22\",\"\\ud83e\\udd22\",\"\\ud83e\\udd22\",\"\\ud83e\\udd22\",\"\\ud83e\\udd22\",\"\\ud83e\\udd22\",\"\\ud83e\\udd22\",\"\\ud83e\\udd22\",\"\\ud83e\\udd22\",\"\\ud83e\\udd22\",\"\\ud83e\\udd22\",\"\\ud83e\\udd22\",\"\\ud83e\\udd22\",\"\\ud83e\\udd22\",\"\\ud83e\\udd22\",\"\\ud83e\\udd22\",\"\\ud83e\\udd22\",\"\\ud83e\\udd22\",\"\\ud83e\\udd22\",\"\\ud83e\\udd22\",\"\\ud83e\\udd22\",\"\\ud83e\\udd22\",\"\\ud83e\\udd22\",\"\\ud83e\\udd22\",\"\\ud83e\\udd22\",\"\\ud83e\\udd22\"],\"type\":\"scattergeo\"}],\"name\":\"2017\"},{\"data\":[{\"customdata\":[[\"Australia\",\"Oceania\",2018,7.176993370056152,\"\\ud83e\\udd70\",\"AUS\"],[\"Austria\",\"Europe\",2018,7.396001815795898,\"\\ud83e\\udd70\",\"AUT\"],[\"Belgium\",\"Europe\",2018,6.892171859741211,\"\\ud83e\\udd70\",\"BEL\"],[\"Brazil\",\"South America\",2018,6.190921783447266,\"\\ud83e\\udd70\",\"BRA\"],[\"Canada\",\"North America\",2018,7.175496578216553,\"\\ud83e\\udd70\",\"CAN\"],[\"Chile\",\"South America\",2018,6.436220645904541,\"\\ud83e\\udd70\",\"CHL\"],[\"Costa Rica\",\"South America\",2018,7.1410746574401855,\"\\ud83e\\udd70\",\"CRI\"],[\"Cyprus\",\"Asia\",2018,6.276443004608154,\"\\ud83e\\udd70\",\"CYP\"],[\"Czechia\",null,2018,7.034165382385254,\"\\ud83e\\udd70\",\"CZE\"],[\"Denmark\",\"Europe\",2018,7.648785591125488,\"\\ud83e\\udd70\",\"DNK\"],[\"Ecuador\",\"South America\",2018,6.128010272979736,\"\\ud83e\\udd70\",\"ECU\"],[\"El Salvador\",\"South America\",2018,6.241199493408203,\"\\ud83e\\udd70\",\"SLV\"],[\"Estonia\",\"Europe\",2018,6.091302394866943,\"\\ud83e\\udd70\",\"EST\"],[\"Finland\",\"Europe\",2018,7.858107089996338,\"\\ud83e\\udd70\",\"FIN\"],[\"France\",\"Europe\",2018,6.665903568267822,\"\\ud83e\\udd70\",\"FRA\"],[\"Germany\",\"Europe\",2018,7.118364334106445,\"\\ud83e\\udd70\",\"DEU\"],[\"Guatemala\",\"South America\",2018,6.626591682434082,\"\\ud83e\\udd70\",\"GTM\"],[\"Ireland\",\"Europe\",2018,6.962335586547852,\"\\ud83e\\udd70\",\"IRL\"],[\"Israel\",\"Asia\",2018,6.927178859710693,\"\\ud83e\\udd70\",\"ISR\"],[\"Italy\",\"Europe\",2018,6.516526699066162,\"\\ud83e\\udd70\",\"ITA\"],[\"Kazakhstan\",\"Asia\",2018,6.007636070251465,\"\\ud83e\\udd70\",\"KAZ\"],[\"Kosovo\",\"Europe\",2018,6.391825675964356,\"\\ud83e\\udd70\",\"XKX\"],[\"Lithuania\",\"Europe\",2018,6.3088788986206055,\"\\ud83e\\udd70\",\"LTU\"],[\"Luxembourg\",\"Europe\",2018,7.242630958557129,\"\\ud83e\\udd70\",\"LUX\"],[\"Malta\",\"Europe\",2018,6.909710884094238,\"\\ud83e\\udd70\",\"MLT\"],[\"Mexico\",\"North America\",2018,6.549578666687012,\"\\ud83e\\udd70\",\"MEX\"],[\"Netherlands\",\"Europe\",2018,7.463097095489502,\"\\ud83e\\udd70\",\"NLD\"],[\"New Zealand\",\"Oceania\",2018,7.370285987854004,\"\\ud83e\\udd70\",\"NZL\"],[\"Norway\",\"Europe\",2018,7.4442620277404785,\"\\ud83e\\udd70\",\"NOR\"],[\"Panama\",\"South America\",2018,6.281434059143066,\"\\ud83e\\udd70\",\"PAN\"],[\"Poland\",\"Europe\",2018,6.111485004425049,\"\\ud83e\\udd70\",\"POL\"],[\"Romania\",\"Europe\",2018,6.15087890625,\"\\ud83e\\udd70\",\"ROU\"],[\"Saudi Arabia\",\"Asia\",2018,6.356393337249756,\"\\ud83e\\udd70\",\"SAU\"],[\"Singapore\",\"Asia\",2018,6.374564170837402,\"\\ud83e\\udd70\",\"SGP\"],[\"Slovenia\",\"Europe\",2018,6.249419212341309,\"\\ud83e\\udd70\",\"SVN\"],[\"Spain\",\"Europe\",2018,6.513370990753174,\"\\ud83e\\udd70\",\"ESP\"],[\"Sweden\",\"Europe\",2018,7.374792098999023,\"\\ud83e\\udd70\",\"SWE\"],[\"Switzerland\",\"Europe\",2018,7.508586883544922,\"\\ud83e\\udd70\",\"CHE\"],[\"Thailand\",\"Asia\",2018,6.011561870574951,\"\\ud83e\\udd70\",\"THA\"],[\"United Arab Emirates\",\"Asia\",2018,6.603743553161621,\"\\ud83e\\udd70\",\"ARE\"],[\"United Kingdom\",\"Europe\",2018,7.233445167541504,\"\\ud83e\\udd70\",\"GBR\"],[\"United States\",\"North America\",2018,6.882684707641602,\"\\ud83e\\udd70\",\"USA\"],[\"Uruguay\",\"South America\",2018,6.3717145919799805,\"\\ud83e\\udd70\",\"URY\"],[\"Uzbekistan\",\"Asia\",2018,6.205460071563721,\"\\ud83e\\udd70\",\"UZB\"]],\"geo\":\"geo\",\"hovertemplate\":\"<b>%{hovertext}</b><br><br>emoji=%{customdata[4]}<br>year=%{customdata[2]}<br>Happiness Score=%{customdata[3]}<br>continent=%{customdata[1]}<extra></extra>\",\"hovertext\":[\"Australia\",\"Austria\",\"Belgium\",\"Brazil\",\"Canada\",\"Chile\",\"Costa Rica\",\"Cyprus\",\"Czechia\",\"Denmark\",\"Ecuador\",\"El Salvador\",\"Estonia\",\"Finland\",\"France\",\"Germany\",\"Guatemala\",\"Ireland\",\"Israel\",\"Italy\",\"Kazakhstan\",\"Kosovo\",\"Lithuania\",\"Luxembourg\",\"Malta\",\"Mexico\",\"Netherlands\",\"New Zealand\",\"Norway\",\"Panama\",\"Poland\",\"Romania\",\"Saudi Arabia\",\"Singapore\",\"Slovenia\",\"Spain\",\"Sweden\",\"Switzerland\",\"Thailand\",\"United Arab Emirates\",\"United Kingdom\",\"United States\",\"Uruguay\",\"Uzbekistan\"],\"legendgroup\":\"\\ud83e\\udd70\",\"locations\":[\"AUS\",\"AUT\",\"BEL\",\"BRA\",\"CAN\",\"CHL\",\"CRI\",\"CYP\",\"CZE\",\"DNK\",\"ECU\",\"SLV\",\"EST\",\"FIN\",\"FRA\",\"DEU\",\"GTM\",\"IRL\",\"ISR\",\"ITA\",\"KAZ\",\"XKX\",\"LTU\",\"LUX\",\"MLT\",\"MEX\",\"NLD\",\"NZL\",\"NOR\",\"PAN\",\"POL\",\"ROU\",\"SAU\",\"SGP\",\"SVN\",\"ESP\",\"SWE\",\"CHE\",\"THA\",\"ARE\",\"GBR\",\"USA\",\"URY\",\"UZB\"],\"marker\":{\"color\":\"#636efa\",\"size\":[7.176993370056152,7.396001815795898,6.892171859741211,6.190921783447266,7.175496578216553,6.436220645904541,7.1410746574401855,6.276443004608154,7.034165382385254,7.648785591125488,6.128010272979736,6.241199493408203,6.091302394866943,7.858107089996338,6.665903568267822,7.118364334106445,6.626591682434082,6.962335586547852,6.927178859710693,6.516526699066162,6.007636070251465,6.391825675964356,6.3088788986206055,7.242630958557129,6.909710884094238,6.549578666687012,7.463097095489502,7.370285987854004,7.4442620277404785,6.281434059143066,6.111485004425049,6.15087890625,6.356393337249756,6.374564170837402,6.249419212341309,6.513370990753174,7.374792098999023,7.508586883544922,6.011561870574951,6.603743553161621,7.233445167541504,6.882684707641602,6.3717145919799805,6.205460071563721],\"sizemode\":\"area\",\"sizeref\":7.970891952514648,\"symbol\":\"circle\"},\"mode\":\"markers+text\",\"name\":\"\\ud83e\\udd70\",\"showlegend\":true,\"text\":[\"\\ud83e\\udd70\",\"\\ud83e\\udd70\",\"\\ud83e\\udd70\",\"\\ud83e\\udd70\",\"\\ud83e\\udd70\",\"\\ud83e\\udd70\",\"\\ud83e\\udd70\",\"\\ud83e\\udd70\",\"\\ud83e\\udd70\",\"\\ud83e\\udd70\",\"\\ud83e\\udd70\",\"\\ud83e\\udd70\",\"\\ud83e\\udd70\",\"\\ud83e\\udd70\",\"\\ud83e\\udd70\",\"\\ud83e\\udd70\",\"\\ud83e\\udd70\",\"\\ud83e\\udd70\",\"\\ud83e\\udd70\",\"\\ud83e\\udd70\",\"\\ud83e\\udd70\",\"\\ud83e\\udd70\",\"\\ud83e\\udd70\",\"\\ud83e\\udd70\",\"\\ud83e\\udd70\",\"\\ud83e\\udd70\",\"\\ud83e\\udd70\",\"\\ud83e\\udd70\",\"\\ud83e\\udd70\",\"\\ud83e\\udd70\",\"\\ud83e\\udd70\",\"\\ud83e\\udd70\",\"\\ud83e\\udd70\",\"\\ud83e\\udd70\",\"\\ud83e\\udd70\",\"\\ud83e\\udd70\",\"\\ud83e\\udd70\",\"\\ud83e\\udd70\",\"\\ud83e\\udd70\",\"\\ud83e\\udd70\",\"\\ud83e\\udd70\",\"\\ud83e\\udd70\",\"\\ud83e\\udd70\",\"\\ud83e\\udd70\"],\"type\":\"scattergeo\"},{\"customdata\":[[\"Albania\",\"Europe\",2018,5.0044026374816895,\"\\ud83e\\udd16\",\"ALB\"],[\"Algeria\",\"Africa\",2018,5.043086051940918,\"\\ud83e\\udd16\",\"DZA\"],[\"Argentina\",\"South America\",2018,5.792796611785889,\"\\ud83e\\udd16\",\"ARG\"],[\"Armenia\",\"Asia\",2018,5.062448501586914,\"\\ud83e\\udd16\",\"ARM\"],[\"Azerbaijan\",\"Asia\",2018,5.167995452880859,\"\\ud83e\\udd16\",\"AZE\"],[\"Belarus\",\"Europe\",2018,5.23376989364624,\"\\ud83e\\udd16\",\"BLR\"],[\"Benin\",\"Africa\",2018,5.819827079772949,\"\\ud83e\\udd16\",\"BEN\"],[\"Bolivia\",\"South America\",2018,5.91573429107666,\"\\ud83e\\udd16\",\"BOL\"],[\"Bosnia and Herzegovina\",\"Europe\",2018,5.887401103973389,\"\\ud83e\\udd16\",\"BIH\"],[\"Bulgaria\",\"Europe\",2018,5.098813533782959,\"\\ud83e\\udd16\",\"BGR\"],[\"Burkina Faso\",\"Africa\",2018,4.927236080169678,\"\\ud83e\\udd16\",\"BFA\"],[\"Cambodia\",\"Asia\",2018,5.121837615966797,\"\\ud83e\\udd16\",\"KHM\"],[\"Cameroon\",\"Africa\",2018,5.25073766708374,\"\\ud83e\\udd16\",\"CMR\"],[\"China\",\"Asia\",2018,5.131433963775635,\"\\ud83e\\udd16\",\"CHN\"],[\"Colombia\",\"South America\",2018,5.9835124015808105,\"\\ud83e\\udd16\",\"COL\"],[\"Croatia\",\"Europe\",2018,5.536271095275879,\"\\ud83e\\udd16\",\"HRV\"],[\"Dominican Republic\",\"South America\",2018,5.433215618133545,\"\\ud83e\\udd16\",\"DOM\"],[\"Gabon\",\"Africa\",2018,4.783009052276611,\"\\ud83e\\udd16\",\"GAB\"],[\"Georgia\",\"Asia\",2018,4.659097194671631,\"\\ud83e\\udd16\",\"GEO\"],[\"Ghana\",\"Africa\",2018,5.003693103790283,\"\\ud83e\\udd16\",\"GHA\"],[\"Greece\",\"Europe\",2018,5.409289360046387,\"\\ud83e\\udd16\",\"GRC\"],[\"Guinea\",\"South America\",2018,5.252226829528809,\"\\ud83e\\udd16\",\"GIN\"],[\"Honduras\",\"South America\",2018,5.908423900604248,\"\\ud83e\\udd16\",\"HND\"],[\"Hungary\",\"Europe\",2018,5.935770988464356,\"\\ud83e\\udd16\",\"HUN\"],[\"Indonesia\",\"Asia\",2018,5.340295791625977,\"\\ud83e\\udd16\",\"IDN\"],[\"Iraq\",\"Asia\",2018,4.886400699615479,\"\\ud83e\\udd16\",\"IRQ\"],[\"Japan\",\"Asia\",2018,5.793575286865234,\"\\ud83e\\udd16\",\"JPN\"],[\"Jordan\",\"Asia\",2018,4.6389336585998535,\"\\ud83e\\udd16\",\"JOR\"],[\"Kenya\",\"Africa\",2018,4.655702590942383,\"\\ud83e\\udd16\",\"KEN\"],[\"Latvia\",\"Europe\",2018,5.901154041290283,\"\\ud83e\\udd16\",\"LVA\"],[\"Lebanon\",\"Asia\",2018,5.167186737060547,\"\\ud83e\\udd16\",\"LBN\"],[\"Libya\",\"Africa\",2018,5.493977546691895,\"\\ud83e\\udd16\",\"LBY\"],[\"Malaysia\",\"Asia\",2018,5.338817596435547,\"\\ud83e\\udd16\",\"MYS\"],[\"Maldives\",null,2018,5.197574615478516,\"\\ud83e\\udd16\",\"MDV\"],[\"Mauritius\",\"Africa\",2018,5.881740570068359,\"\\ud83e\\udd16\",\"MUS\"],[\"Moldova\",\"Europe\",2018,5.682277202606201,\"\\ud83e\\udd16\",\"MDA\"],[\"Mongolia\",\"Asia\",2018,5.464622974395752,\"\\ud83e\\udd16\",\"MNG\"],[\"Montenegro\",\"Europe\",2018,5.6501898765563965,\"\\ud83e\\udd16\",\"MNE\"],[\"Morocco\",\"Africa\",2018,4.896791934967041,\"\\ud83e\\udd16\",\"MAR\"],[\"Mozambique\",null,2018,4.653713703155518,\"\\ud83e\\udd16\",\"MOZ\"],[\"Namibia\",null,2018,4.83408784866333,\"\\ud83e\\udd16\",\"NAM\"],[\"Nepal\",\"Asia\",2018,4.910086631774902,\"\\ud83e\\udd16\",\"NPL\"],[\"Nicaragua\",\"South America\",2018,5.818952560424805,\"\\ud83e\\udd16\",\"NIC\"],[\"Niger\",\"Africa\",2018,5.164007186889648,\"\\ud83e\\udd16\",\"NER\"],[\"Nigeria\",\"Africa\",2018,5.252288341522217,\"\\ud83e\\udd16\",\"NGA\"],[\"North Macedonia\",null,2018,5.239834785461426,\"\\ud83e\\udd16\",\"MKD\"],[\"Pakistan\",\"Asia\",2018,5.471553802490234,\"\\ud83e\\udd16\",\"PAK\"],[\"Peru\",\"South America\",2018,5.679661273956299,\"\\ud83e\\udd16\",\"PER\"],[\"Philippines\",\"Asia\",2018,5.8691725730896,\"\\ud83e\\udd16\",\"PHL\"],[\"Portugal\",\"Europe\",2018,5.919822692871094,\"\\ud83e\\udd16\",\"PRT\"],[\"Senegal\",\"Africa\",2018,4.7693772315979,\"\\ud83e\\udd16\",\"SEN\"],[\"Serbia\",\"Europe\",2018,5.936493396759033,\"\\ud83e\\udd16\",\"SRB\"],[\"South Africa\",\"Africa\",2018,4.883922100067139,\"\\ud83e\\udd16\",\"ZAF\"],[\"Tajikistan\",\"Asia\",2018,5.497468948364258,\"\\ud83e\\udd16\",\"TJK\"],[\"Tunisia\",\"Africa\",2018,4.7411322593688965,\"\\ud83e\\udd16\",\"TUN\"],[\"Turkmenistan\",\"Asia\",2018,4.620601654052734,\"\\ud83e\\udd16\",\"TKM\"],[\"Ukraine\",\"Europe\",2018,4.661909103393555,\"\\ud83e\\udd16\",\"UKR\"],[\"Vietnam\",\"Asia\",2018,5.295547008514404,\"\\ud83e\\udd16\",\"VNM\"]],\"geo\":\"geo\",\"hovertemplate\":\"<b>%{hovertext}</b><br><br>emoji=%{customdata[4]}<br>year=%{customdata[2]}<br>Happiness Score=%{customdata[3]}<br>continent=%{customdata[1]}<extra></extra>\",\"hovertext\":[\"Albania\",\"Algeria\",\"Argentina\",\"Armenia\",\"Azerbaijan\",\"Belarus\",\"Benin\",\"Bolivia\",\"Bosnia and Herzegovina\",\"Bulgaria\",\"Burkina Faso\",\"Cambodia\",\"Cameroon\",\"China\",\"Colombia\",\"Croatia\",\"Dominican Republic\",\"Gabon\",\"Georgia\",\"Ghana\",\"Greece\",\"Guinea\",\"Honduras\",\"Hungary\",\"Indonesia\",\"Iraq\",\"Japan\",\"Jordan\",\"Kenya\",\"Latvia\",\"Lebanon\",\"Libya\",\"Malaysia\",\"Maldives\",\"Mauritius\",\"Moldova\",\"Mongolia\",\"Montenegro\",\"Morocco\",\"Mozambique\",\"Namibia\",\"Nepal\",\"Nicaragua\",\"Niger\",\"Nigeria\",\"North Macedonia\",\"Pakistan\",\"Peru\",\"Philippines\",\"Portugal\",\"Senegal\",\"Serbia\",\"South Africa\",\"Tajikistan\",\"Tunisia\",\"Turkmenistan\",\"Ukraine\",\"Vietnam\"],\"legendgroup\":\"\\ud83e\\udd16\",\"locations\":[\"ALB\",\"DZA\",\"ARG\",\"ARM\",\"AZE\",\"BLR\",\"BEN\",\"BOL\",\"BIH\",\"BGR\",\"BFA\",\"KHM\",\"CMR\",\"CHN\",\"COL\",\"HRV\",\"DOM\",\"GAB\",\"GEO\",\"GHA\",\"GRC\",\"GIN\",\"HND\",\"HUN\",\"IDN\",\"IRQ\",\"JPN\",\"JOR\",\"KEN\",\"LVA\",\"LBN\",\"LBY\",\"MYS\",\"MDV\",\"MUS\",\"MDA\",\"MNG\",\"MNE\",\"MAR\",\"MOZ\",\"NAM\",\"NPL\",\"NIC\",\"NER\",\"NGA\",\"MKD\",\"PAK\",\"PER\",\"PHL\",\"PRT\",\"SEN\",\"SRB\",\"ZAF\",\"TJK\",\"TUN\",\"TKM\",\"UKR\",\"VNM\"],\"marker\":{\"color\":\"#EF553B\",\"size\":[5.0044026374816895,5.043086051940918,5.792796611785889,5.062448501586914,5.167995452880859,5.23376989364624,5.819827079772949,5.91573429107666,5.887401103973389,5.098813533782959,4.927236080169678,5.121837615966797,5.25073766708374,5.131433963775635,5.9835124015808105,5.536271095275879,5.433215618133545,4.783009052276611,4.659097194671631,5.003693103790283,5.409289360046387,5.252226829528809,5.908423900604248,5.935770988464356,5.340295791625977,4.886400699615479,5.793575286865234,4.6389336585998535,4.655702590942383,5.901154041290283,5.167186737060547,5.493977546691895,5.338817596435547,5.197574615478516,5.881740570068359,5.682277202606201,5.464622974395752,5.6501898765563965,4.896791934967041,4.653713703155518,4.83408784866333,4.910086631774902,5.818952560424805,5.164007186889648,5.252288341522217,5.239834785461426,5.471553802490234,5.679661273956299,5.8691725730896,5.919822692871094,4.7693772315979,5.936493396759033,4.883922100067139,5.497468948364258,4.7411322593688965,4.620601654052734,4.661909103393555,5.295547008514404],\"sizemode\":\"area\",\"sizeref\":7.970891952514648,\"symbol\":\"circle\"},\"mode\":\"markers+text\",\"name\":\"\\ud83e\\udd16\",\"showlegend\":true,\"text\":[\"\\ud83e\\udd16\",\"\\ud83e\\udd16\",\"\\ud83e\\udd16\",\"\\ud83e\\udd16\",\"\\ud83e\\udd16\",\"\\ud83e\\udd16\",\"\\ud83e\\udd16\",\"\\ud83e\\udd16\",\"\\ud83e\\udd16\",\"\\ud83e\\udd16\",\"\\ud83e\\udd16\",\"\\ud83e\\udd16\",\"\\ud83e\\udd16\",\"\\ud83e\\udd16\",\"\\ud83e\\udd16\",\"\\ud83e\\udd16\",\"\\ud83e\\udd16\",\"\\ud83e\\udd16\",\"\\ud83e\\udd16\",\"\\ud83e\\udd16\",\"\\ud83e\\udd16\",\"\\ud83e\\udd16\",\"\\ud83e\\udd16\",\"\\ud83e\\udd16\",\"\\ud83e\\udd16\",\"\\ud83e\\udd16\",\"\\ud83e\\udd16\",\"\\ud83e\\udd16\",\"\\ud83e\\udd16\",\"\\ud83e\\udd16\",\"\\ud83e\\udd16\",\"\\ud83e\\udd16\",\"\\ud83e\\udd16\",\"\\ud83e\\udd16\",\"\\ud83e\\udd16\",\"\\ud83e\\udd16\",\"\\ud83e\\udd16\",\"\\ud83e\\udd16\",\"\\ud83e\\udd16\",\"\\ud83e\\udd16\",\"\\ud83e\\udd16\",\"\\ud83e\\udd16\",\"\\ud83e\\udd16\",\"\\ud83e\\udd16\",\"\\ud83e\\udd16\",\"\\ud83e\\udd16\",\"\\ud83e\\udd16\",\"\\ud83e\\udd16\",\"\\ud83e\\udd16\",\"\\ud83e\\udd16\",\"\\ud83e\\udd16\",\"\\ud83e\\udd16\",\"\\ud83e\\udd16\",\"\\ud83e\\udd16\",\"\\ud83e\\udd16\",\"\\ud83e\\udd16\",\"\\ud83e\\udd16\",\"\\ud83e\\udd16\"],\"type\":\"scattergeo\"},{\"customdata\":[[\"Afghanistan\",\"Asia\",2018,2.694303274154663,\"\\ud83e\\udd22\",\"AFG\"],[\"Bangladesh\",\"Asia\",2018,4.499217033386231,\"\\ud83e\\udd22\",\"BGD\"],[\"Botswana\",\"Africa\",2018,3.4613656997680664,\"\\ud83e\\udd22\",\"BWA\"],[\"Burundi\",\"Africa\",2018,3.775283098220825,\"\\ud83e\\udd22\",\"BDI\"],[\"Chad\",\"Africa\",2018,4.486325263977051,\"\\ud83e\\udd22\",\"TCD\"],[\"Comoros\",null,2018,3.972819566726685,\"\\ud83e\\udd22\",\"COM\"],[\"Eswatini\",null,2018,4.211565017700195,\"\\ud83e\\udd22\",\"SWZ\"],[\"Ethiopia\",\"Africa\",2018,4.379262447357178,\"\\ud83e\\udd22\",\"ETH\"],[\"Haiti\",\"South America\",2018,3.6149280071258554,\"\\ud83e\\udd22\",\"HTI\"],[\"India\",\"Asia\",2018,3.818068742752075,\"\\ud83e\\udd22\",\"IND\"],[\"Liberia\",\"Africa\",2018,4.134852886199951,\"\\ud83e\\udd22\",\"LBR\"],[\"Madagascar\",\"Africa\",2018,4.070586681365967,\"\\ud83e\\udd22\",\"MDG\"],[\"Malawi\",\"Africa\",2018,3.3346335887908936,\"\\ud83e\\udd22\",\"MWI\"],[\"Mali\",\"Africa\",2018,4.415729522705078,\"\\ud83e\\udd22\",\"MLI\"],[\"Mauritania\",\"Africa\",2018,4.313615322113037,\"\\ud83e\\udd22\",\"MRT\"],[\"Myanmar\",\"Asia\",2018,4.410633087158203,\"\\ud83e\\udd22\",\"MMR\"],[\"Rwanda\",\"Africa\",2018,3.561046600341797,\"\\ud83e\\udd22\",\"RWA\"],[\"Sierra Leone\",\"Africa\",2018,4.305683135986328,\"\\ud83e\\udd22\",\"SLE\"],[\"Sri Lanka\",\"Asia\",2018,4.435023784637451,\"\\ud83e\\udd22\",\"LKA\"],[\"Tanzania\",\"Africa\",2018,3.44502329826355,\"\\ud83e\\udd22\",\"TZA\"],[\"Togo\",\"Africa\",2018,4.022894859313965,\"\\ud83e\\udd22\",\"TGO\"],[\"Uganda\",\"Africa\",2018,4.321714878082275,\"\\ud83e\\udd22\",\"UGA\"],[\"Zambia\",\"Africa\",2018,4.041488170623779,\"\\ud83e\\udd22\",\"ZMB\"],[\"Zimbabwe\",\"Africa\",2018,3.6164798736572266,\"\\ud83e\\udd22\",\"ZWE\"]],\"geo\":\"geo\",\"hovertemplate\":\"<b>%{hovertext}</b><br><br>emoji=%{customdata[4]}<br>year=%{customdata[2]}<br>Happiness Score=%{customdata[3]}<br>continent=%{customdata[1]}<extra></extra>\",\"hovertext\":[\"Afghanistan\",\"Bangladesh\",\"Botswana\",\"Burundi\",\"Chad\",\"Comoros\",\"Eswatini\",\"Ethiopia\",\"Haiti\",\"India\",\"Liberia\",\"Madagascar\",\"Malawi\",\"Mali\",\"Mauritania\",\"Myanmar\",\"Rwanda\",\"Sierra Leone\",\"Sri Lanka\",\"Tanzania\",\"Togo\",\"Uganda\",\"Zambia\",\"Zimbabwe\"],\"legendgroup\":\"\\ud83e\\udd22\",\"locations\":[\"AFG\",\"BGD\",\"BWA\",\"BDI\",\"TCD\",\"COM\",\"SWZ\",\"ETH\",\"HTI\",\"IND\",\"LBR\",\"MDG\",\"MWI\",\"MLI\",\"MRT\",\"MMR\",\"RWA\",\"SLE\",\"LKA\",\"TZA\",\"TGO\",\"UGA\",\"ZMB\",\"ZWE\"],\"marker\":{\"color\":\"#00cc96\",\"size\":[2.694303274154663,4.499217033386231,3.4613656997680664,3.775283098220825,4.486325263977051,3.972819566726685,4.211565017700195,4.379262447357178,3.6149280071258554,3.818068742752075,4.134852886199951,4.070586681365967,3.3346335887908936,4.415729522705078,4.313615322113037,4.410633087158203,3.561046600341797,4.305683135986328,4.435023784637451,3.44502329826355,4.022894859313965,4.321714878082275,4.041488170623779,3.6164798736572266],\"sizemode\":\"area\",\"sizeref\":7.970891952514648,\"symbol\":\"circle\"},\"mode\":\"markers+text\",\"name\":\"\\ud83e\\udd22\",\"showlegend\":true,\"text\":[\"\\ud83e\\udd22\",\"\\ud83e\\udd22\",\"\\ud83e\\udd22\",\"\\ud83e\\udd22\",\"\\ud83e\\udd22\",\"\\ud83e\\udd22\",\"\\ud83e\\udd22\",\"\\ud83e\\udd22\",\"\\ud83e\\udd22\",\"\\ud83e\\udd22\",\"\\ud83e\\udd22\",\"\\ud83e\\udd22\",\"\\ud83e\\udd22\",\"\\ud83e\\udd22\",\"\\ud83e\\udd22\",\"\\ud83e\\udd22\",\"\\ud83e\\udd22\",\"\\ud83e\\udd22\",\"\\ud83e\\udd22\",\"\\ud83e\\udd22\",\"\\ud83e\\udd22\",\"\\ud83e\\udd22\",\"\\ud83e\\udd22\",\"\\ud83e\\udd22\"],\"type\":\"scattergeo\"}],\"name\":\"2018\"},{\"data\":[{\"customdata\":[[\"Argentina\",\"South America\",2019,6.08556079864502,\"\\ud83e\\udd70\",\"ARG\"],[\"Australia\",\"Oceania\",2019,7.233994960784912,\"\\ud83e\\udd70\",\"AUS\"],[\"Austria\",\"Europe\",2019,7.195361137390137,\"\\ud83e\\udd70\",\"AUT\"],[\"Bahrain\",\"Asia\",2019,7.098012447357178,\"\\ud83e\\udd70\",\"BHR\"],[\"Belgium\",\"Europe\",2019,6.7721381187438965,\"\\ud83e\\udd70\",\"BEL\"],[\"Bosnia and Herzegovina\",\"Europe\",2019,6.015522480010986,\"\\ud83e\\udd70\",\"BIH\"],[\"Brazil\",\"South America\",2019,6.451148986816406,\"\\ud83e\\udd70\",\"BRA\"],[\"Canada\",\"North America\",2019,7.109076499938965,\"\\ud83e\\udd70\",\"CAN\"],[\"Colombia\",\"South America\",2019,6.350297927856445,\"\\ud83e\\udd70\",\"COL\"],[\"Costa Rica\",\"South America\",2019,6.997618675231934,\"\\ud83e\\udd70\",\"CRI\"],[\"Cyprus\",\"Asia\",2019,6.1368327140808105,\"\\ud83e\\udd70\",\"CYP\"],[\"Denmark\",\"Europe\",2019,7.693003177642822,\"\\ud83e\\udd70\",\"DNK\"],[\"Dominican Republic\",\"South America\",2019,6.004237174987793,\"\\ud83e\\udd70\",\"DOM\"],[\"El Salvador\",\"South America\",2019,6.45482063293457,\"\\ud83e\\udd70\",\"SLV\"],[\"Estonia\",\"Europe\",2019,6.034641265869141,\"\\ud83e\\udd70\",\"EST\"],[\"Finland\",\"Europe\",2019,7.78034782409668,\"\\ud83e\\udd70\",\"FIN\"],[\"France\",\"Europe\",2019,6.68964433670044,\"\\ud83e\\udd70\",\"FRA\"],[\"Germany\",\"Europe\",2019,7.035472393035889,\"\\ud83e\\udd70\",\"DEU\"],[\"Guatemala\",\"South America\",2019,6.2621750831604,\"\\ud83e\\udd70\",\"GTM\"],[\"Hungary\",\"Europe\",2019,6.000259876251221,\"\\ud83e\\udd70\",\"HUN\"],[\"Iceland\",\"Europe\",2019,7.532504558563232,\"\\ud83e\\udd70\",\"ISL\"],[\"Ireland\",\"Europe\",2019,7.254841327667236,\"\\ud83e\\udd70\",\"IRL\"],[\"Israel\",\"Asia\",2019,7.331779956817627,\"\\ud83e\\udd70\",\"ISR\"],[\"Italy\",\"Europe\",2019,6.445416927337647,\"\\ud83e\\udd70\",\"ITA\"],[\"Jamaica\",\"South America\",2019,6.309238910675049,\"\\ud83e\\udd70\",\"JAM\"],[\"Kazakhstan\",\"Asia\",2019,6.272268295288086,\"\\ud83e\\udd70\",\"KAZ\"],[\"Kosovo\",\"Europe\",2019,6.425144195556641,\"\\ud83e\\udd70\",\"XKX\"],[\"Kuwait\",\"Asia\",2019,6.106119632720947,\"\\ud83e\\udd70\",\"KWT\"],[\"Lithuania\",\"Europe\",2019,6.064097881317139,\"\\ud83e\\udd70\",\"LTU\"],[\"Luxembourg\",\"Europe\",2019,7.40401554107666,\"\\ud83e\\udd70\",\"LUX\"],[\"Malta\",\"Europe\",2019,6.732977390289307,\"\\ud83e\\udd70\",\"MLT\"],[\"Mauritius\",\"Africa\",2019,6.2411651611328125,\"\\ud83e\\udd70\",\"MUS\"],[\"Mexico\",\"North America\",2019,6.431945323944092,\"\\ud83e\\udd70\",\"MEX\"],[\"Netherlands\",\"Europe\",2019,7.425268650054932,\"\\ud83e\\udd70\",\"NLD\"],[\"New Zealand\",\"Oceania\",2019,7.205174446105957,\"\\ud83e\\udd70\",\"NZL\"],[\"Nicaragua\",\"South America\",2019,6.112545013427734,\"\\ud83e\\udd70\",\"NIC\"],[\"Norway\",\"Europe\",2019,7.442139625549316,\"\\ud83e\\udd70\",\"NOR\"],[\"Panama\",\"South America\",2019,6.0859551429748535,\"\\ud83e\\udd70\",\"PAN\"],[\"Philippines\",\"Asia\",2019,6.267745018005371,\"\\ud83e\\udd70\",\"PHL\"],[\"Poland\",\"Europe\",2019,6.242094039916992,\"\\ud83e\\udd70\",\"POL\"],[\"Portugal\",\"Europe\",2019,6.095473289489746,\"\\ud83e\\udd70\",\"PRT\"],[\"Romania\",\"Europe\",2019,6.129942417144775,\"\\ud83e\\udd70\",\"ROU\"],[\"Saudi Arabia\",\"Asia\",2019,6.5612473487854,\"\\ud83e\\udd70\",\"SAU\"],[\"Serbia\",\"Europe\",2019,6.24140739440918,\"\\ud83e\\udd70\",\"SRB\"],[\"Singapore\",\"Asia\",2019,6.378359794616699,\"\\ud83e\\udd70\",\"SGP\"],[\"Slovenia\",\"Europe\",2019,6.665273666381836,\"\\ud83e\\udd70\",\"SVN\"],[\"Spain\",\"Europe\",2019,6.457449436187744,\"\\ud83e\\udd70\",\"ESP\"],[\"Sweden\",\"Europe\",2019,7.398092746734619,\"\\ud83e\\udd70\",\"SWE\"],[\"Switzerland\",\"Europe\",2019,7.694221019744873,\"\\ud83e\\udd70\",\"CHE\"],[\"Thailand\",\"Asia\",2019,6.022151470184326,\"\\ud83e\\udd70\",\"THA\"],[\"United Arab Emirates\",\"Asia\",2019,6.710782527923584,\"\\ud83e\\udd70\",\"ARE\"],[\"United Kingdom\",\"Europe\",2019,7.157151222229004,\"\\ud83e\\udd70\",\"GBR\"],[\"United States\",\"North America\",2019,6.943701267242432,\"\\ud83e\\udd70\",\"USA\"],[\"Uruguay\",\"South America\",2019,6.600337028503418,\"\\ud83e\\udd70\",\"URY\"],[\"Uzbekistan\",\"Asia\",2019,6.154049396514893,\"\\ud83e\\udd70\",\"UZB\"]],\"geo\":\"geo\",\"hovertemplate\":\"<b>%{hovertext}</b><br><br>emoji=%{customdata[4]}<br>year=%{customdata[2]}<br>Happiness Score=%{customdata[3]}<br>continent=%{customdata[1]}<extra></extra>\",\"hovertext\":[\"Argentina\",\"Australia\",\"Austria\",\"Bahrain\",\"Belgium\",\"Bosnia and Herzegovina\",\"Brazil\",\"Canada\",\"Colombia\",\"Costa Rica\",\"Cyprus\",\"Denmark\",\"Dominican Republic\",\"El Salvador\",\"Estonia\",\"Finland\",\"France\",\"Germany\",\"Guatemala\",\"Hungary\",\"Iceland\",\"Ireland\",\"Israel\",\"Italy\",\"Jamaica\",\"Kazakhstan\",\"Kosovo\",\"Kuwait\",\"Lithuania\",\"Luxembourg\",\"Malta\",\"Mauritius\",\"Mexico\",\"Netherlands\",\"New Zealand\",\"Nicaragua\",\"Norway\",\"Panama\",\"Philippines\",\"Poland\",\"Portugal\",\"Romania\",\"Saudi Arabia\",\"Serbia\",\"Singapore\",\"Slovenia\",\"Spain\",\"Sweden\",\"Switzerland\",\"Thailand\",\"United Arab Emirates\",\"United Kingdom\",\"United States\",\"Uruguay\",\"Uzbekistan\"],\"legendgroup\":\"\\ud83e\\udd70\",\"locations\":[\"ARG\",\"AUS\",\"AUT\",\"BHR\",\"BEL\",\"BIH\",\"BRA\",\"CAN\",\"COL\",\"CRI\",\"CYP\",\"DNK\",\"DOM\",\"SLV\",\"EST\",\"FIN\",\"FRA\",\"DEU\",\"GTM\",\"HUN\",\"ISL\",\"IRL\",\"ISR\",\"ITA\",\"JAM\",\"KAZ\",\"XKX\",\"KWT\",\"LTU\",\"LUX\",\"MLT\",\"MUS\",\"MEX\",\"NLD\",\"NZL\",\"NIC\",\"NOR\",\"PAN\",\"PHL\",\"POL\",\"PRT\",\"ROU\",\"SAU\",\"SRB\",\"SGP\",\"SVN\",\"ESP\",\"SWE\",\"CHE\",\"THA\",\"ARE\",\"GBR\",\"USA\",\"URY\",\"UZB\"],\"marker\":{\"color\":\"#636efa\",\"size\":[6.08556079864502,7.233994960784912,7.195361137390137,7.098012447357178,6.7721381187438965,6.015522480010986,6.451148986816406,7.109076499938965,6.350297927856445,6.997618675231934,6.1368327140808105,7.693003177642822,6.004237174987793,6.45482063293457,6.034641265869141,7.78034782409668,6.68964433670044,7.035472393035889,6.2621750831604,6.000259876251221,7.532504558563232,7.254841327667236,7.331779956817627,6.445416927337647,6.309238910675049,6.272268295288086,6.425144195556641,6.106119632720947,6.064097881317139,7.40401554107666,6.732977390289307,6.2411651611328125,6.431945323944092,7.425268650054932,7.205174446105957,6.112545013427734,7.442139625549316,6.0859551429748535,6.267745018005371,6.242094039916992,6.095473289489746,6.129942417144775,6.5612473487854,6.24140739440918,6.378359794616699,6.665273666381836,6.457449436187744,7.398092746734619,7.694221019744873,6.022151470184326,6.710782527923584,7.157151222229004,6.943701267242432,6.600337028503418,6.154049396514893],\"sizemode\":\"area\",\"sizeref\":7.970891952514648,\"symbol\":\"circle\"},\"mode\":\"markers+text\",\"name\":\"\\ud83e\\udd70\",\"showlegend\":true,\"text\":[\"\\ud83e\\udd70\",\"\\ud83e\\udd70\",\"\\ud83e\\udd70\",\"\\ud83e\\udd70\",\"\\ud83e\\udd70\",\"\\ud83e\\udd70\",\"\\ud83e\\udd70\",\"\\ud83e\\udd70\",\"\\ud83e\\udd70\",\"\\ud83e\\udd70\",\"\\ud83e\\udd70\",\"\\ud83e\\udd70\",\"\\ud83e\\udd70\",\"\\ud83e\\udd70\",\"\\ud83e\\udd70\",\"\\ud83e\\udd70\",\"\\ud83e\\udd70\",\"\\ud83e\\udd70\",\"\\ud83e\\udd70\",\"\\ud83e\\udd70\",\"\\ud83e\\udd70\",\"\\ud83e\\udd70\",\"\\ud83e\\udd70\",\"\\ud83e\\udd70\",\"\\ud83e\\udd70\",\"\\ud83e\\udd70\",\"\\ud83e\\udd70\",\"\\ud83e\\udd70\",\"\\ud83e\\udd70\",\"\\ud83e\\udd70\",\"\\ud83e\\udd70\",\"\\ud83e\\udd70\",\"\\ud83e\\udd70\",\"\\ud83e\\udd70\",\"\\ud83e\\udd70\",\"\\ud83e\\udd70\",\"\\ud83e\\udd70\",\"\\ud83e\\udd70\",\"\\ud83e\\udd70\",\"\\ud83e\\udd70\",\"\\ud83e\\udd70\",\"\\ud83e\\udd70\",\"\\ud83e\\udd70\",\"\\ud83e\\udd70\",\"\\ud83e\\udd70\",\"\\ud83e\\udd70\",\"\\ud83e\\udd70\",\"\\ud83e\\udd70\",\"\\ud83e\\udd70\",\"\\ud83e\\udd70\",\"\\ud83e\\udd70\",\"\\ud83e\\udd70\",\"\\ud83e\\udd70\",\"\\ud83e\\udd70\",\"\\ud83e\\udd70\"],\"type\":\"scattergeo\"},{\"customdata\":[[\"Albania\",\"Europe\",2019,4.995317935943604,\"\\ud83e\\udd16\",\"ALB\"],[\"Algeria\",\"Africa\",2019,4.744627475738525,\"\\ud83e\\udd16\",\"DZA\"],[\"Armenia\",\"Asia\",2019,5.488086700439453,\"\\ud83e\\udd16\",\"ARM\"],[\"Azerbaijan\",\"Asia\",2019,5.173389434814453,\"\\ud83e\\udd16\",\"AZE\"],[\"Bangladesh\",\"Asia\",2019,5.1142168045043945,\"\\ud83e\\udd16\",\"BGD\"],[\"Belarus\",\"Europe\",2019,5.821453094482422,\"\\ud83e\\udd16\",\"BLR\"],[\"Benin\",\"Africa\",2019,4.97636079788208,\"\\ud83e\\udd16\",\"BEN\"],[\"Bolivia\",\"South America\",2019,5.6742706298828125,\"\\ud83e\\udd16\",\"BOL\"],[\"Bulgaria\",\"Europe\",2019,5.108438014984131,\"\\ud83e\\udd16\",\"BGR\"],[\"Burkina Faso\",\"Africa\",2019,4.740892887115479,\"\\ud83e\\udd16\",\"BFA\"],[\"Cambodia\",\"Asia\",2019,4.998284816741943,\"\\ud83e\\udd16\",\"KHM\"],[\"Cameroon\",\"Africa\",2019,4.936737537384033,\"\\ud83e\\udd16\",\"CMR\"],[\"Chile\",\"South America\",2019,5.94225025177002,\"\\ud83e\\udd16\",\"CHL\"],[\"China\",\"Asia\",2019,5.144120216369629,\"\\ud83e\\udd16\",\"CHN\"],[\"Comoros\",null,2019,4.608616352081299,\"\\ud83e\\udd16\",\"COM\"],[\"Croatia\",\"Europe\",2019,5.625743865966797,\"\\ud83e\\udd16\",\"HRV\"],[\"Ecuador\",\"South America\",2019,5.809131145477295,\"\\ud83e\\udd16\",\"ECU\"],[\"Gabon\",\"Africa\",2019,4.914393424987793,\"\\ud83e\\udd16\",\"GAB\"],[\"Georgia\",\"Asia\",2019,4.891835689544678,\"\\ud83e\\udd16\",\"GEO\"],[\"Ghana\",\"Africa\",2019,4.966809749603272,\"\\ud83e\\udd16\",\"GHA\"],[\"Greece\",\"Europe\",2019,5.952157497406006,\"\\ud83e\\udd16\",\"GRC\"],[\"Guinea\",\"South America\",2019,4.767684459686279,\"\\ud83e\\udd16\",\"GIN\"],[\"Honduras\",\"South America\",2019,5.930051326751709,\"\\ud83e\\udd16\",\"HND\"],[\"Indonesia\",\"Asia\",2019,5.346512794494629,\"\\ud83e\\udd16\",\"IDN\"],[\"Japan\",\"Asia\",2019,5.908039093017578,\"\\ud83e\\udd16\",\"JPN\"],[\"Kenya\",\"Africa\",2019,4.618850231170654,\"\\ud83e\\udd16\",\"KEN\"],[\"Latvia\",\"Europe\",2019,5.969753742218018,\"\\ud83e\\udd16\",\"LVA\"],[\"Liberia\",\"Africa\",2019,5.121460914611816,\"\\ud83e\\udd16\",\"LBR\"],[\"Libya\",\"Africa\",2019,5.330222129821777,\"\\ud83e\\udd16\",\"LBY\"],[\"Malaysia\",\"Asia\",2019,5.427954196929932,\"\\ud83e\\udd16\",\"MYS\"],[\"Mali\",\"Africa\",2019,4.987991809844971,\"\\ud83e\\udd16\",\"MLI\"],[\"Moldova\",\"Europe\",2019,5.803450584411621,\"\\ud83e\\udd16\",\"MDA\"],[\"Mongolia\",\"Asia\",2019,5.562905311584473,\"\\ud83e\\udd16\",\"MNG\"],[\"Montenegro\",\"Europe\",2019,5.386024951934815,\"\\ud83e\\udd16\",\"MNE\"],[\"Morocco\",\"Africa\",2019,5.056751728057861,\"\\ud83e\\udd16\",\"MAR\"],[\"Mozambique\",null,2019,4.932132720947266,\"\\ud83e\\udd16\",\"MOZ\"],[\"Nepal\",\"Asia\",2019,5.448724746704102,\"\\ud83e\\udd16\",\"NPL\"],[\"Niger\",\"Africa\",2019,5.003544330596924,\"\\ud83e\\udd16\",\"NER\"],[\"North Macedonia\",null,2019,5.015485286712647,\"\\ud83e\\udd16\",\"MKD\"],[\"Paraguay\",\"South America\",2019,5.652625560760498,\"\\ud83e\\udd16\",\"PRY\"],[\"Peru\",\"South America\",2019,5.9993815422058105,\"\\ud83e\\udd16\",\"PER\"],[\"Senegal\",\"Africa\",2019,5.488736629486084,\"\\ud83e\\udd16\",\"SEN\"],[\"South Africa\",\"Africa\",2019,5.034863471984863,\"\\ud83e\\udd16\",\"ZAF\"],[\"Tajikistan\",\"Asia\",2019,5.464015483856201,\"\\ud83e\\udd16\",\"TJK\"],[\"Turkmenistan\",\"Asia\",2019,5.474299907684326,\"\\ud83e\\udd16\",\"TKM\"],[\"Uganda\",\"Africa\",2019,4.948051452636719,\"\\ud83e\\udd16\",\"UGA\"],[\"Ukraine\",\"Europe\",2019,4.701762199401856,\"\\ud83e\\udd16\",\"UKR\"],[\"Vietnam\",\"Asia\",2019,5.467451095581055,\"\\ud83e\\udd16\",\"VNM\"]],\"geo\":\"geo\",\"hovertemplate\":\"<b>%{hovertext}</b><br><br>emoji=%{customdata[4]}<br>year=%{customdata[2]}<br>Happiness Score=%{customdata[3]}<br>continent=%{customdata[1]}<extra></extra>\",\"hovertext\":[\"Albania\",\"Algeria\",\"Armenia\",\"Azerbaijan\",\"Bangladesh\",\"Belarus\",\"Benin\",\"Bolivia\",\"Bulgaria\",\"Burkina Faso\",\"Cambodia\",\"Cameroon\",\"Chile\",\"China\",\"Comoros\",\"Croatia\",\"Ecuador\",\"Gabon\",\"Georgia\",\"Ghana\",\"Greece\",\"Guinea\",\"Honduras\",\"Indonesia\",\"Japan\",\"Kenya\",\"Latvia\",\"Liberia\",\"Libya\",\"Malaysia\",\"Mali\",\"Moldova\",\"Mongolia\",\"Montenegro\",\"Morocco\",\"Mozambique\",\"Nepal\",\"Niger\",\"North Macedonia\",\"Paraguay\",\"Peru\",\"Senegal\",\"South Africa\",\"Tajikistan\",\"Turkmenistan\",\"Uganda\",\"Ukraine\",\"Vietnam\"],\"legendgroup\":\"\\ud83e\\udd16\",\"locations\":[\"ALB\",\"DZA\",\"ARM\",\"AZE\",\"BGD\",\"BLR\",\"BEN\",\"BOL\",\"BGR\",\"BFA\",\"KHM\",\"CMR\",\"CHL\",\"CHN\",\"COM\",\"HRV\",\"ECU\",\"GAB\",\"GEO\",\"GHA\",\"GRC\",\"GIN\",\"HND\",\"IDN\",\"JPN\",\"KEN\",\"LVA\",\"LBR\",\"LBY\",\"MYS\",\"MLI\",\"MDA\",\"MNG\",\"MNE\",\"MAR\",\"MOZ\",\"NPL\",\"NER\",\"MKD\",\"PRY\",\"PER\",\"SEN\",\"ZAF\",\"TJK\",\"TKM\",\"UGA\",\"UKR\",\"VNM\"],\"marker\":{\"color\":\"#EF553B\",\"size\":[4.995317935943604,4.744627475738525,5.488086700439453,5.173389434814453,5.1142168045043945,5.821453094482422,4.97636079788208,5.6742706298828125,5.108438014984131,4.740892887115479,4.998284816741943,4.936737537384033,5.94225025177002,5.144120216369629,4.608616352081299,5.625743865966797,5.809131145477295,4.914393424987793,4.891835689544678,4.966809749603272,5.952157497406006,4.767684459686279,5.930051326751709,5.346512794494629,5.908039093017578,4.618850231170654,5.969753742218018,5.121460914611816,5.330222129821777,5.427954196929932,4.987991809844971,5.803450584411621,5.562905311584473,5.386024951934815,5.056751728057861,4.932132720947266,5.448724746704102,5.003544330596924,5.015485286712647,5.652625560760498,5.9993815422058105,5.488736629486084,5.034863471984863,5.464015483856201,5.474299907684326,4.948051452636719,4.701762199401856,5.467451095581055],\"sizemode\":\"area\",\"sizeref\":7.970891952514648,\"symbol\":\"circle\"},\"mode\":\"markers+text\",\"name\":\"\\ud83e\\udd16\",\"showlegend\":true,\"text\":[\"\\ud83e\\udd16\",\"\\ud83e\\udd16\",\"\\ud83e\\udd16\",\"\\ud83e\\udd16\",\"\\ud83e\\udd16\",\"\\ud83e\\udd16\",\"\\ud83e\\udd16\",\"\\ud83e\\udd16\",\"\\ud83e\\udd16\",\"\\ud83e\\udd16\",\"\\ud83e\\udd16\",\"\\ud83e\\udd16\",\"\\ud83e\\udd16\",\"\\ud83e\\udd16\",\"\\ud83e\\udd16\",\"\\ud83e\\udd16\",\"\\ud83e\\udd16\",\"\\ud83e\\udd16\",\"\\ud83e\\udd16\",\"\\ud83e\\udd16\",\"\\ud83e\\udd16\",\"\\ud83e\\udd16\",\"\\ud83e\\udd16\",\"\\ud83e\\udd16\",\"\\ud83e\\udd16\",\"\\ud83e\\udd16\",\"\\ud83e\\udd16\",\"\\ud83e\\udd16\",\"\\ud83e\\udd16\",\"\\ud83e\\udd16\",\"\\ud83e\\udd16\",\"\\ud83e\\udd16\",\"\\ud83e\\udd16\",\"\\ud83e\\udd16\",\"\\ud83e\\udd16\",\"\\ud83e\\udd16\",\"\\ud83e\\udd16\",\"\\ud83e\\udd16\",\"\\ud83e\\udd16\",\"\\ud83e\\udd16\",\"\\ud83e\\udd16\",\"\\ud83e\\udd16\",\"\\ud83e\\udd16\",\"\\ud83e\\udd16\",\"\\ud83e\\udd16\",\"\\ud83e\\udd16\",\"\\ud83e\\udd16\",\"\\ud83e\\udd16\"],\"type\":\"scattergeo\"},{\"customdata\":[[\"Afghanistan\",\"Asia\",2019,2.375091791152954,\"\\ud83e\\udd22\",\"AFG\"],[\"Botswana\",\"Africa\",2019,3.4710848331451416,\"\\ud83e\\udd22\",\"BWA\"],[\"Chad\",\"Africa\",2019,4.250799179077148,\"\\ud83e\\udd22\",\"TCD\"],[\"Eswatini\",null,2019,4.396114826202393,\"\\ud83e\\udd22\",\"SWZ\"],[\"Ethiopia\",\"Africa\",2019,4.099555015563965,\"\\ud83e\\udd22\",\"ETH\"],[\"India\",\"Asia\",2019,3.248769760131836,\"\\ud83e\\udd22\",\"IND\"],[\"Jordan\",\"Asia\",2019,4.452548027038574,\"\\ud83e\\udd22\",\"JOR\"],[\"Lebanon\",\"Asia\",2019,4.024219512939453,\"\\ud83e\\udd22\",\"LBN\"],[\"Lesotho\",null,2019,3.5117805004119877,\"\\ud83e\\udd22\",\"LSO\"],[\"Madagascar\",\"Africa\",2019,4.33908748626709,\"\\ud83e\\udd22\",\"MDG\"],[\"Malawi\",\"Africa\",2019,3.869123697280884,\"\\ud83e\\udd22\",\"MWI\"],[\"Mauritania\",\"Africa\",2019,4.152619361877441,\"\\ud83e\\udd22\",\"MRT\"],[\"Myanmar\",\"Asia\",2019,4.434237480163574,\"\\ud83e\\udd22\",\"MMR\"],[\"Namibia\",null,2019,4.4358110427856445,\"\\ud83e\\udd22\",\"NAM\"],[\"Nigeria\",\"Africa\",2019,4.266484260559082,\"\\ud83e\\udd22\",\"NGA\"],[\"Pakistan\",\"Asia\",2019,4.442717552185059,\"\\ud83e\\udd22\",\"PAK\"],[\"Rwanda\",\"Africa\",2019,3.268152236938477,\"\\ud83e\\udd22\",\"RWA\"],[\"Sierra Leone\",\"Africa\",2019,3.447381496429444,\"\\ud83e\\udd22\",\"SLE\"],[\"Sri Lanka\",\"Asia\",2019,4.21329927444458,\"\\ud83e\\udd22\",\"LKA\"],[\"Tanzania\",\"Africa\",2019,3.640154838562012,\"\\ud83e\\udd22\",\"TZA\"],[\"Togo\",\"Africa\",2019,4.1794939041137695,\"\\ud83e\\udd22\",\"TGO\"],[\"Tunisia\",\"Africa\",2019,4.315479755401611,\"\\ud83e\\udd22\",\"TUN\"],[\"Zambia\",\"Africa\",2019,3.3067965507507324,\"\\ud83e\\udd22\",\"ZMB\"],[\"Zimbabwe\",\"Africa\",2019,2.6935231685638428,\"\\ud83e\\udd22\",\"ZWE\"]],\"geo\":\"geo\",\"hovertemplate\":\"<b>%{hovertext}</b><br><br>emoji=%{customdata[4]}<br>year=%{customdata[2]}<br>Happiness Score=%{customdata[3]}<br>continent=%{customdata[1]}<extra></extra>\",\"hovertext\":[\"Afghanistan\",\"Botswana\",\"Chad\",\"Eswatini\",\"Ethiopia\",\"India\",\"Jordan\",\"Lebanon\",\"Lesotho\",\"Madagascar\",\"Malawi\",\"Mauritania\",\"Myanmar\",\"Namibia\",\"Nigeria\",\"Pakistan\",\"Rwanda\",\"Sierra Leone\",\"Sri Lanka\",\"Tanzania\",\"Togo\",\"Tunisia\",\"Zambia\",\"Zimbabwe\"],\"legendgroup\":\"\\ud83e\\udd22\",\"locations\":[\"AFG\",\"BWA\",\"TCD\",\"SWZ\",\"ETH\",\"IND\",\"JOR\",\"LBN\",\"LSO\",\"MDG\",\"MWI\",\"MRT\",\"MMR\",\"NAM\",\"NGA\",\"PAK\",\"RWA\",\"SLE\",\"LKA\",\"TZA\",\"TGO\",\"TUN\",\"ZMB\",\"ZWE\"],\"marker\":{\"color\":\"#00cc96\",\"size\":[2.375091791152954,3.4710848331451416,4.250799179077148,4.396114826202393,4.099555015563965,3.248769760131836,4.452548027038574,4.024219512939453,3.5117805004119877,4.33908748626709,3.869123697280884,4.152619361877441,4.434237480163574,4.4358110427856445,4.266484260559082,4.442717552185059,3.268152236938477,3.447381496429444,4.21329927444458,3.640154838562012,4.1794939041137695,4.315479755401611,3.3067965507507324,2.6935231685638428],\"sizemode\":\"area\",\"sizeref\":7.970891952514648,\"symbol\":\"circle\"},\"mode\":\"markers+text\",\"name\":\"\\ud83e\\udd22\",\"showlegend\":true,\"text\":[\"\\ud83e\\udd22\",\"\\ud83e\\udd22\",\"\\ud83e\\udd22\",\"\\ud83e\\udd22\",\"\\ud83e\\udd22\",\"\\ud83e\\udd22\",\"\\ud83e\\udd22\",\"\\ud83e\\udd22\",\"\\ud83e\\udd22\",\"\\ud83e\\udd22\",\"\\ud83e\\udd22\",\"\\ud83e\\udd22\",\"\\ud83e\\udd22\",\"\\ud83e\\udd22\",\"\\ud83e\\udd22\",\"\\ud83e\\udd22\",\"\\ud83e\\udd22\",\"\\ud83e\\udd22\",\"\\ud83e\\udd22\",\"\\ud83e\\udd22\",\"\\ud83e\\udd22\",\"\\ud83e\\udd22\",\"\\ud83e\\udd22\",\"\\ud83e\\udd22\"],\"type\":\"scattergeo\"}],\"name\":\"2019\"},{\"data\":[{\"customdata\":[[\"Australia\",\"Oceania\",2020,7.1373677253723145,\"\\ud83e\\udd70\",\"AUS\"],[\"Austria\",\"Europe\",2020,7.213489055633545,\"\\ud83e\\udd70\",\"AUT\"],[\"Bahrain\",\"Asia\",2020,6.173175811767578,\"\\ud83e\\udd70\",\"BHR\"],[\"Belgium\",\"Europe\",2020,6.838760852813721,\"\\ud83e\\udd70\",\"BEL\"],[\"Brazil\",\"South America\",2020,6.109717845916748,\"\\ud83e\\udd70\",\"BRA\"],[\"Canada\",\"North America\",2020,7.024904727935791,\"\\ud83e\\udd70\",\"CAN\"],[\"Chile\",\"South America\",2020,6.1506428718566895,\"\\ud83e\\udd70\",\"CHL\"],[\"Costa Rica\",\"South America\",2020,6.338472366333008,\"\\ud83e\\udd70\",\"CRI\"],[\"Croatia\",\"Europe\",2020,6.507992267608643,\"\\ud83e\\udd70\",\"HRV\"],[\"Cyprus\",\"Asia\",2020,6.259810447692871,\"\\ud83e\\udd70\",\"CYP\"],[\"Czechia\",null,2020,6.897091388702393,\"\\ud83e\\udd70\",\"CZE\"],[\"Denmark\",\"Europe\",2020,7.514631271362305,\"\\ud83e\\udd70\",\"DNK\"],[\"Estonia\",\"Europe\",2020,6.452563762664795,\"\\ud83e\\udd70\",\"EST\"],[\"Finland\",\"Europe\",2020,7.889349937438965,\"\\ud83e\\udd70\",\"FIN\"],[\"France\",\"Europe\",2020,6.714111804962158,\"\\ud83e\\udd70\",\"FRA\"],[\"Germany\",\"Europe\",2020,7.311897754669189,\"\\ud83e\\udd70\",\"DEU\"],[\"Hungary\",\"Europe\",2020,6.038049697875977,\"\\ud83e\\udd70\",\"HUN\"],[\"Iceland\",\"Europe\",2020,7.575489521026611,\"\\ud83e\\udd70\",\"ISL\"],[\"Ireland\",\"Europe\",2020,7.03493070602417,\"\\ud83e\\udd70\",\"IRL\"],[\"Israel\",\"Asia\",2020,7.194928169250488,\"\\ud83e\\udd70\",\"ISR\"],[\"Italy\",\"Europe\",2020,6.488356113433838,\"\\ud83e\\udd70\",\"ITA\"],[\"Japan\",\"Asia\",2020,6.1179633140563965,\"\\ud83e\\udd70\",\"JPN\"],[\"Kazakhstan\",\"Asia\",2020,6.168269157409668,\"\\ud83e\\udd70\",\"KAZ\"],[\"Kosovo\",\"Europe\",2020,6.294414043426514,\"\\ud83e\\udd70\",\"XKX\"],[\"Latvia\",\"Europe\",2020,6.229008674621582,\"\\ud83e\\udd70\",\"LVA\"],[\"Lithuania\",\"Europe\",2020,6.391378879547119,\"\\ud83e\\udd70\",\"LTU\"],[\"Malaysia\",\"Asia\",2020,6.014198780059815,\"\\ud83e\\udd70\",\"MYS\"],[\"Malta\",\"Europe\",2020,6.156822681427002,\"\\ud83e\\udd70\",\"MLT\"],[\"Mauritius\",\"Africa\",2020,6.015300273895264,\"\\ud83e\\udd70\",\"MUS\"],[\"Mongolia\",\"Asia\",2020,6.011364936828613,\"\\ud83e\\udd70\",\"MNG\"],[\"Netherlands\",\"Europe\",2020,7.504447937011719,\"\\ud83e\\udd70\",\"NLD\"],[\"New Zealand\",\"Oceania\",2020,7.257381916046143,\"\\ud83e\\udd70\",\"NZL\"],[\"Nicaragua\",\"South America\",2020,6.286890029907227,\"\\ud83e\\udd70\",\"NIC\"],[\"Norway\",\"Europe\",2020,7.290032386779785,\"\\ud83e\\udd70\",\"NOR\"],[\"Poland\",\"Europe\",2020,6.139455318450928,\"\\ud83e\\udd70\",\"POL\"],[\"Romania\",\"Europe\",2020,6.785142421722412,\"\\ud83e\\udd70\",\"ROU\"],[\"Saudi Arabia\",\"Asia\",2020,6.559588432312012,\"\\ud83e\\udd70\",\"SAU\"],[\"Serbia\",\"Europe\",2020,6.04154634475708,\"\\ud83e\\udd70\",\"SRB\"],[\"Slovenia\",\"Europe\",2020,6.462076187133789,\"\\ud83e\\udd70\",\"SVN\"],[\"Spain\",\"Europe\",2020,6.502175331115723,\"\\ud83e\\udd70\",\"ESP\"],[\"Sweden\",\"Europe\",2020,7.314341068267822,\"\\ud83e\\udd70\",\"SWE\"],[\"Switzerland\",\"Europe\",2020,7.508435249328613,\"\\ud83e\\udd70\",\"CHE\"],[\"United Arab Emirates\",\"Asia\",2020,6.458392143249512,\"\\ud83e\\udd70\",\"ARE\"],[\"United Kingdom\",\"Europe\",2020,6.798177242279053,\"\\ud83e\\udd70\",\"GBR\"],[\"United States\",\"North America\",2020,7.028088092803955,\"\\ud83e\\udd70\",\"USA\"],[\"Uruguay\",\"South America\",2020,6.309681415557861,\"\\ud83e\\udd70\",\"URY\"]],\"geo\":\"geo\",\"hovertemplate\":\"<b>%{hovertext}</b><br><br>emoji=%{customdata[4]}<br>year=%{customdata[2]}<br>Happiness Score=%{customdata[3]}<br>continent=%{customdata[1]}<extra></extra>\",\"hovertext\":[\"Australia\",\"Austria\",\"Bahrain\",\"Belgium\",\"Brazil\",\"Canada\",\"Chile\",\"Costa Rica\",\"Croatia\",\"Cyprus\",\"Czechia\",\"Denmark\",\"Estonia\",\"Finland\",\"France\",\"Germany\",\"Hungary\",\"Iceland\",\"Ireland\",\"Israel\",\"Italy\",\"Japan\",\"Kazakhstan\",\"Kosovo\",\"Latvia\",\"Lithuania\",\"Malaysia\",\"Malta\",\"Mauritius\",\"Mongolia\",\"Netherlands\",\"New Zealand\",\"Nicaragua\",\"Norway\",\"Poland\",\"Romania\",\"Saudi Arabia\",\"Serbia\",\"Slovenia\",\"Spain\",\"Sweden\",\"Switzerland\",\"United Arab Emirates\",\"United Kingdom\",\"United States\",\"Uruguay\"],\"legendgroup\":\"\\ud83e\\udd70\",\"locations\":[\"AUS\",\"AUT\",\"BHR\",\"BEL\",\"BRA\",\"CAN\",\"CHL\",\"CRI\",\"HRV\",\"CYP\",\"CZE\",\"DNK\",\"EST\",\"FIN\",\"FRA\",\"DEU\",\"HUN\",\"ISL\",\"IRL\",\"ISR\",\"ITA\",\"JPN\",\"KAZ\",\"XKX\",\"LVA\",\"LTU\",\"MYS\",\"MLT\",\"MUS\",\"MNG\",\"NLD\",\"NZL\",\"NIC\",\"NOR\",\"POL\",\"ROU\",\"SAU\",\"SRB\",\"SVN\",\"ESP\",\"SWE\",\"CHE\",\"ARE\",\"GBR\",\"USA\",\"URY\"],\"marker\":{\"color\":\"#636efa\",\"size\":[7.1373677253723145,7.213489055633545,6.173175811767578,6.838760852813721,6.109717845916748,7.024904727935791,6.1506428718566895,6.338472366333008,6.507992267608643,6.259810447692871,6.897091388702393,7.514631271362305,6.452563762664795,7.889349937438965,6.714111804962158,7.311897754669189,6.038049697875977,7.575489521026611,7.03493070602417,7.194928169250488,6.488356113433838,6.1179633140563965,6.168269157409668,6.294414043426514,6.229008674621582,6.391378879547119,6.014198780059815,6.156822681427002,6.015300273895264,6.011364936828613,7.504447937011719,7.257381916046143,6.286890029907227,7.290032386779785,6.139455318450928,6.785142421722412,6.559588432312012,6.04154634475708,6.462076187133789,6.502175331115723,7.314341068267822,7.508435249328613,6.458392143249512,6.798177242279053,7.028088092803955,6.309681415557861],\"sizemode\":\"area\",\"sizeref\":7.970891952514648,\"symbol\":\"circle\"},\"mode\":\"markers+text\",\"name\":\"\\ud83e\\udd70\",\"showlegend\":true,\"text\":[\"\\ud83e\\udd70\",\"\\ud83e\\udd70\",\"\\ud83e\\udd70\",\"\\ud83e\\udd70\",\"\\ud83e\\udd70\",\"\\ud83e\\udd70\",\"\\ud83e\\udd70\",\"\\ud83e\\udd70\",\"\\ud83e\\udd70\",\"\\ud83e\\udd70\",\"\\ud83e\\udd70\",\"\\ud83e\\udd70\",\"\\ud83e\\udd70\",\"\\ud83e\\udd70\",\"\\ud83e\\udd70\",\"\\ud83e\\udd70\",\"\\ud83e\\udd70\",\"\\ud83e\\udd70\",\"\\ud83e\\udd70\",\"\\ud83e\\udd70\",\"\\ud83e\\udd70\",\"\\ud83e\\udd70\",\"\\ud83e\\udd70\",\"\\ud83e\\udd70\",\"\\ud83e\\udd70\",\"\\ud83e\\udd70\",\"\\ud83e\\udd70\",\"\\ud83e\\udd70\",\"\\ud83e\\udd70\",\"\\ud83e\\udd70\",\"\\ud83e\\udd70\",\"\\ud83e\\udd70\",\"\\ud83e\\udd70\",\"\\ud83e\\udd70\",\"\\ud83e\\udd70\",\"\\ud83e\\udd70\",\"\\ud83e\\udd70\",\"\\ud83e\\udd70\",\"\\ud83e\\udd70\",\"\\ud83e\\udd70\",\"\\ud83e\\udd70\",\"\\ud83e\\udd70\",\"\\ud83e\\udd70\",\"\\ud83e\\udd70\",\"\\ud83e\\udd70\",\"\\ud83e\\udd70\"],\"type\":\"scattergeo\"},{\"customdata\":[[\"Albania\",\"Europe\",2020,5.364909648895264,\"\\ud83e\\udd16\",\"ALB\"],[\"Algeria\",\"Africa\",2020,5.437755107879639,\"\\ud83e\\udd16\",\"DZA\"],[\"Argentina\",\"South America\",2020,5.900567054748535,\"\\ud83e\\udd16\",\"ARG\"],[\"Bangladesh\",\"Asia\",2020,5.27998685836792,\"\\ud83e\\udd16\",\"BGD\"],[\"Bolivia\",\"South America\",2020,5.559258937835693,\"\\ud83e\\udd16\",\"BOL\"],[\"Bosnia and Herzegovina\",\"Europe\",2020,5.51581621170044,\"\\ud83e\\udd16\",\"BIH\"],[\"Bulgaria\",\"Europe\",2020,5.597723007202148,\"\\ud83e\\udd16\",\"BGR\"],[\"Burkina Faso\",\"Africa\",2020,4.639639854431152,\"\\ud83e\\udd16\",\"BFA\"],[\"Cameroon\",\"Africa\",2020,5.241077899932861,\"\\ud83e\\udd16\",\"CMR\"],[\"China\",\"Asia\",2020,5.771064758300781,\"\\ud83e\\udd16\",\"CHN\"],[\"Colombia\",\"South America\",2020,5.709175109863281,\"\\ud83e\\udd16\",\"COL\"],[\"Dominican Republic\",\"South America\",2020,5.168409824371338,\"\\ud83e\\udd16\",\"DOM\"],[\"Ecuador\",\"South America\",2020,5.354461669921875,\"\\ud83e\\udd16\",\"ECU\"],[\"El Salvador\",\"South America\",2020,5.461926937103272,\"\\ud83e\\udd16\",\"SLV\"],[\"Ethiopia\",\"Africa\",2020,4.549219608306885,\"\\ud83e\\udd16\",\"ETH\"],[\"Gabon\",\"Africa\",2020,4.886549949645996,\"\\ud83e\\udd16\",\"GAB\"],[\"Georgia\",\"Asia\",2020,5.123143196105957,\"\\ud83e\\udd16\",\"GEO\"],[\"Ghana\",\"Africa\",2020,5.319483280181885,\"\\ud83e\\udd16\",\"GHA\"],[\"Greece\",\"Europe\",2020,5.787615776062012,\"\\ud83e\\udd16\",\"GRC\"],[\"Guinea\",\"South America\",2020,4.972168445587158,\"\\ud83e\\udd16\",\"GIN\"],[\"Indonesia\",\"Asia\",2020,4.828147411346436,\"\\ud83e\\udd16\",\"IDN\"],[\"Iraq\",\"Asia\",2020,4.785165309906006,\"\\ud83e\\udd16\",\"IRQ\"],[\"Jamaica\",\"South America\",2020,5.424990653991699,\"\\ud83e\\udd16\",\"JAM\"],[\"Kenya\",\"Africa\",2020,4.546584129333496,\"\\ud83e\\udd16\",\"KEN\"],[\"Mexico\",\"North America\",2020,5.964221000671387,\"\\ud83e\\udd16\",\"MEX\"],[\"Moldova\",\"Europe\",2020,5.811628818511963,\"\\ud83e\\udd16\",\"MDA\"],[\"Montenegro\",\"Europe\",2020,5.72216272354126,\"\\ud83e\\udd16\",\"MNE\"],[\"Morocco\",\"Africa\",2020,4.80261754989624,\"\\ud83e\\udd16\",\"MAR\"],[\"Nepal\",\"Asia\",2020,5.982410430908203,\"\\ud83e\\udd16\",\"NPL\"],[\"Nigeria\",\"Africa\",2020,5.50294828414917,\"\\ud83e\\udd16\",\"NGA\"],[\"North Macedonia\",null,2020,5.053664207458496,\"\\ud83e\\udd16\",\"MKD\"],[\"Pakistan\",\"Asia\",2020,4.623969078063965,\"\\ud83e\\udd16\",\"PAK\"],[\"Paraguay\",\"South America\",2020,5.501248836517334,\"\\ud83e\\udd16\",\"PRY\"],[\"Peru\",\"South America\",2020,4.994379043579102,\"\\ud83e\\udd16\",\"PER\"],[\"Philippines\",\"Asia\",2020,5.079585075378418,\"\\ud83e\\udd16\",\"PHL\"],[\"Portugal\",\"Europe\",2020,5.767792224884033,\"\\ud83e\\udd16\",\"PRT\"],[\"Senegal\",\"Africa\",2020,4.756773471832275,\"\\ud83e\\udd16\",\"SEN\"],[\"South Africa\",\"Africa\",2020,4.946800708770752,\"\\ud83e\\udd16\",\"ZAF\"],[\"Sri Lanka\",\"Asia\",2020,4.778489112854004,\"\\ud83e\\udd16\",\"LKA\"],[\"Tajikistan\",\"Asia\",2020,5.373398780822754,\"\\ud83e\\udd16\",\"TJK\"],[\"Thailand\",\"Asia\",2020,5.884544372558594,\"\\ud83e\\udd16\",\"THA\"],[\"Tunisia\",\"Africa\",2020,4.73081111907959,\"\\ud83e\\udd16\",\"TUN\"],[\"Uganda\",\"Africa\",2020,4.640909671783447,\"\\ud83e\\udd16\",\"UGA\"],[\"Ukraine\",\"Europe\",2020,5.269675731658936,\"\\ud83e\\udd16\",\"UKR\"],[\"Uzbekistan\",\"Asia\",2020,5.841929912567139,\"\\ud83e\\udd16\",\"UZB\"],[\"Vietnam\",\"Asia\",2020,5.462341785430908,\"\\ud83e\\udd16\",\"VNM\"],[\"Zambia\",\"Africa\",2020,4.837992191314697,\"\\ud83e\\udd16\",\"ZMB\"]],\"geo\":\"geo\",\"hovertemplate\":\"<b>%{hovertext}</b><br><br>emoji=%{customdata[4]}<br>year=%{customdata[2]}<br>Happiness Score=%{customdata[3]}<br>continent=%{customdata[1]}<extra></extra>\",\"hovertext\":[\"Albania\",\"Algeria\",\"Argentina\",\"Bangladesh\",\"Bolivia\",\"Bosnia and Herzegovina\",\"Bulgaria\",\"Burkina Faso\",\"Cameroon\",\"China\",\"Colombia\",\"Dominican Republic\",\"Ecuador\",\"El Salvador\",\"Ethiopia\",\"Gabon\",\"Georgia\",\"Ghana\",\"Greece\",\"Guinea\",\"Indonesia\",\"Iraq\",\"Jamaica\",\"Kenya\",\"Mexico\",\"Moldova\",\"Montenegro\",\"Morocco\",\"Nepal\",\"Nigeria\",\"North Macedonia\",\"Pakistan\",\"Paraguay\",\"Peru\",\"Philippines\",\"Portugal\",\"Senegal\",\"South Africa\",\"Sri Lanka\",\"Tajikistan\",\"Thailand\",\"Tunisia\",\"Uganda\",\"Ukraine\",\"Uzbekistan\",\"Vietnam\",\"Zambia\"],\"legendgroup\":\"\\ud83e\\udd16\",\"locations\":[\"ALB\",\"DZA\",\"ARG\",\"BGD\",\"BOL\",\"BIH\",\"BGR\",\"BFA\",\"CMR\",\"CHN\",\"COL\",\"DOM\",\"ECU\",\"SLV\",\"ETH\",\"GAB\",\"GEO\",\"GHA\",\"GRC\",\"GIN\",\"IDN\",\"IRQ\",\"JAM\",\"KEN\",\"MEX\",\"MDA\",\"MNE\",\"MAR\",\"NPL\",\"NGA\",\"MKD\",\"PAK\",\"PRY\",\"PER\",\"PHL\",\"PRT\",\"SEN\",\"ZAF\",\"LKA\",\"TJK\",\"THA\",\"TUN\",\"UGA\",\"UKR\",\"UZB\",\"VNM\",\"ZMB\"],\"marker\":{\"color\":\"#EF553B\",\"size\":[5.364909648895264,5.437755107879639,5.900567054748535,5.27998685836792,5.559258937835693,5.51581621170044,5.597723007202148,4.639639854431152,5.241077899932861,5.771064758300781,5.709175109863281,5.168409824371338,5.354461669921875,5.461926937103272,4.549219608306885,4.886549949645996,5.123143196105957,5.319483280181885,5.787615776062012,4.972168445587158,4.828147411346436,4.785165309906006,5.424990653991699,4.546584129333496,5.964221000671387,5.811628818511963,5.72216272354126,4.80261754989624,5.982410430908203,5.50294828414917,5.053664207458496,4.623969078063965,5.501248836517334,4.994379043579102,5.079585075378418,5.767792224884033,4.756773471832275,4.946800708770752,4.778489112854004,5.373398780822754,5.884544372558594,4.73081111907959,4.640909671783447,5.269675731658936,5.841929912567139,5.462341785430908,4.837992191314697],\"sizemode\":\"area\",\"sizeref\":7.970891952514648,\"symbol\":\"circle\"},\"mode\":\"markers+text\",\"name\":\"\\ud83e\\udd16\",\"showlegend\":true,\"text\":[\"\\ud83e\\udd16\",\"\\ud83e\\udd16\",\"\\ud83e\\udd16\",\"\\ud83e\\udd16\",\"\\ud83e\\udd16\",\"\\ud83e\\udd16\",\"\\ud83e\\udd16\",\"\\ud83e\\udd16\",\"\\ud83e\\udd16\",\"\\ud83e\\udd16\",\"\\ud83e\\udd16\",\"\\ud83e\\udd16\",\"\\ud83e\\udd16\",\"\\ud83e\\udd16\",\"\\ud83e\\udd16\",\"\\ud83e\\udd16\",\"\\ud83e\\udd16\",\"\\ud83e\\udd16\",\"\\ud83e\\udd16\",\"\\ud83e\\udd16\",\"\\ud83e\\udd16\",\"\\ud83e\\udd16\",\"\\ud83e\\udd16\",\"\\ud83e\\udd16\",\"\\ud83e\\udd16\",\"\\ud83e\\udd16\",\"\\ud83e\\udd16\",\"\\ud83e\\udd16\",\"\\ud83e\\udd16\",\"\\ud83e\\udd16\",\"\\ud83e\\udd16\",\"\\ud83e\\udd16\",\"\\ud83e\\udd16\",\"\\ud83e\\udd16\",\"\\ud83e\\udd16\",\"\\ud83e\\udd16\",\"\\ud83e\\udd16\",\"\\ud83e\\udd16\",\"\\ud83e\\udd16\",\"\\ud83e\\udd16\",\"\\ud83e\\udd16\",\"\\ud83e\\udd16\",\"\\ud83e\\udd16\",\"\\ud83e\\udd16\",\"\\ud83e\\udd16\",\"\\ud83e\\udd16\",\"\\ud83e\\udd16\"],\"type\":\"scattergeo\"},{\"customdata\":[[\"Benin\",\"Africa\",2020,4.407745838165283,\"\\ud83e\\udd22\",\"BEN\"],[\"Cambodia\",\"Asia\",2020,4.3769850730896,\"\\ud83e\\udd22\",\"KHM\"],[\"India\",\"Asia\",2020,4.223865509033203,\"\\ud83e\\udd22\",\"IND\"],[\"Jordan\",\"Asia\",2020,4.093991756439209,\"\\ud83e\\udd22\",\"JOR\"],[\"Lebanon\",\"Asia\",2020,2.633752584457397,\"\\ud83e\\udd22\",\"LBN\"],[\"Mali\",\"Africa\",2020,4.269473552703857,\"\\ud83e\\udd22\",\"MLI\"],[\"Myanmar\",\"Asia\",2020,4.431364059448242,\"\\ud83e\\udd22\",\"MMR\"],[\"Namibia\",null,2020,4.451010227203369,\"\\ud83e\\udd22\",\"NAM\"],[\"Tanzania\",\"Africa\",2020,3.785684108734131,\"\\ud83e\\udd22\",\"TZA\"],[\"Zimbabwe\",\"Africa\",2020,3.159802198410034,\"\\ud83e\\udd22\",\"ZWE\"]],\"geo\":\"geo\",\"hovertemplate\":\"<b>%{hovertext}</b><br><br>emoji=%{customdata[4]}<br>year=%{customdata[2]}<br>Happiness Score=%{customdata[3]}<br>continent=%{customdata[1]}<extra></extra>\",\"hovertext\":[\"Benin\",\"Cambodia\",\"India\",\"Jordan\",\"Lebanon\",\"Mali\",\"Myanmar\",\"Namibia\",\"Tanzania\",\"Zimbabwe\"],\"legendgroup\":\"\\ud83e\\udd22\",\"locations\":[\"BEN\",\"KHM\",\"IND\",\"JOR\",\"LBN\",\"MLI\",\"MMR\",\"NAM\",\"TZA\",\"ZWE\"],\"marker\":{\"color\":\"#00cc96\",\"size\":[4.407745838165283,4.3769850730896,4.223865509033203,4.093991756439209,2.633752584457397,4.269473552703857,4.431364059448242,4.451010227203369,3.785684108734131,3.159802198410034],\"sizemode\":\"area\",\"sizeref\":7.970891952514648,\"symbol\":\"circle\"},\"mode\":\"markers+text\",\"name\":\"\\ud83e\\udd22\",\"showlegend\":true,\"text\":[\"\\ud83e\\udd22\",\"\\ud83e\\udd22\",\"\\ud83e\\udd22\",\"\\ud83e\\udd22\",\"\\ud83e\\udd22\",\"\\ud83e\\udd22\",\"\\ud83e\\udd22\",\"\\ud83e\\udd22\",\"\\ud83e\\udd22\",\"\\ud83e\\udd22\"],\"type\":\"scattergeo\"}],\"name\":\"2020\"},{\"data\":[{\"customdata\":[[\"Australia\",\"Oceania\",2021,7.111598968505859,\"\\ud83e\\udd70\",\"AUS\"],[\"Austria\",\"Europe\",2021,7.079640865325928,\"\\ud83e\\udd70\",\"AUT\"],[\"Brazil\",\"South America\",2021,6.009953498840332,\"\\ud83e\\udd70\",\"BRA\"],[\"Canada\",\"North America\",2021,6.9394354820251465,\"\\ud83e\\udd70\",\"CAN\"],[\"Chile\",\"South America\",2021,6.435630798339844,\"\\ud83e\\udd70\",\"CHL\"],[\"Costa Rica\",\"South America\",2021,6.408448219299316,\"\\ud83e\\udd70\",\"CRI\"],[\"Croatia\",\"Europe\",2021,6.286790370941162,\"\\ud83e\\udd70\",\"HRV\"],[\"Czechia\",null,2021,6.9424967765808105,\"\\ud83e\\udd70\",\"CZE\"],[\"Denmark\",\"Europe\",2021,7.698747158050537,\"\\ud83e\\udd70\",\"DNK\"],[\"Dominican Republic\",\"South America\",2021,6.030537128448486,\"\\ud83e\\udd70\",\"DOM\"],[\"El Salvador\",\"South America\",2021,6.4314470291137695,\"\\ud83e\\udd70\",\"SLV\"],[\"Estonia\",\"Europe\",2021,6.553915500640869,\"\\ud83e\\udd70\",\"EST\"],[\"Finland\",\"Europe\",2021,7.79437780380249,\"\\ud83e\\udd70\",\"FIN\"],[\"France\",\"Europe\",2021,6.656206607818604,\"\\ud83e\\udd70\",\"FRA\"],[\"Germany\",\"Europe\",2021,6.754523754119873,\"\\ud83e\\udd70\",\"DEU\"],[\"Greece\",\"Europe\",2021,6.104214191436768,\"\\ud83e\\udd70\",\"GRC\"],[\"Honduras\",\"South America\",2021,6.113636016845703,\"\\ud83e\\udd70\",\"HND\"],[\"Hungary\",\"Europe\",2021,6.226647853851318,\"\\ud83e\\udd70\",\"HUN\"],[\"Iceland\",\"Europe\",2021,7.564624786376953,\"\\ud83e\\udd70\",\"ISL\"],[\"Ireland\",\"Europe\",2021,6.827651977539063,\"\\ud83e\\udd70\",\"IRL\"],[\"Israel\",\"Asia\",2021,7.57752799987793,\"\\ud83e\\udd70\",\"ISR\"],[\"Italy\",\"Europe\",2021,6.466744899749756,\"\\ud83e\\udd70\",\"ITA\"],[\"Japan\",\"Asia\",2021,6.091324806213379,\"\\ud83e\\udd70\",\"JPN\"],[\"Kazakhstan\",\"Asia\",2021,6.259634017944336,\"\\ud83e\\udd70\",\"KAZ\"],[\"Latvia\",\"Europe\",2021,6.353090763092041,\"\\ud83e\\udd70\",\"LVA\"],[\"Lithuania\",\"Europe\",2021,6.864572525024414,\"\\ud83e\\udd70\",\"LTU\"],[\"Netherlands\",\"Europe\",2021,7.314151287078857,\"\\ud83e\\udd70\",\"NLD\"],[\"New Zealand\",\"Oceania\",2021,7.136700630187988,\"\\ud83e\\udd70\",\"NZL\"],[\"Nicaragua\",\"South America\",2021,6.095348834991455,\"\\ud83e\\udd70\",\"NIC\"],[\"Norway\",\"Europe\",2021,7.361573696136475,\"\\ud83e\\udd70\",\"NOR\"],[\"Panama\",\"South America\",2021,6.552778720855713,\"\\ud83e\\udd70\",\"PAN\"],[\"Portugal\",\"Europe\",2021,6.183014392852783,\"\\ud83e\\udd70\",\"PRT\"],[\"Romania\",\"Europe\",2021,6.548725605010986,\"\\ud83e\\udd70\",\"ROU\"],[\"Saudi Arabia\",\"Asia\",2021,6.445294380187988,\"\\ud83e\\udd70\",\"SAU\"],[\"Serbia\",\"Europe\",2021,6.245267391204834,\"\\ud83e\\udd70\",\"SRB\"],[\"Slovenia\",\"Europe\",2021,6.761220932006836,\"\\ud83e\\udd70\",\"SVN\"],[\"Spain\",\"Europe\",2021,6.469611167907715,\"\\ud83e\\udd70\",\"ESP\"],[\"Sweden\",\"Europe\",2021,7.439280033111572,\"\\ud83e\\udd70\",\"SWE\"],[\"Switzerland\",\"Europe\",2021,7.327672481536865,\"\\ud83e\\udd70\",\"CHE\"],[\"United Arab Emirates\",\"Asia\",2021,6.733067512512207,\"\\ud83e\\udd70\",\"ARE\"],[\"United Kingdom\",\"Europe\",2021,6.86696195602417,\"\\ud83e\\udd70\",\"GBR\"],[\"United States\",\"North America\",2021,6.95908784866333,\"\\ud83e\\udd70\",\"USA\"],[\"Uruguay\",\"South America\",2021,6.501700401306152,\"\\ud83e\\udd70\",\"URY\"],[\"Uzbekistan\",\"Asia\",2021,6.18530797958374,\"\\ud83e\\udd70\",\"UZB\"]],\"geo\":\"geo\",\"hovertemplate\":\"<b>%{hovertext}</b><br><br>emoji=%{customdata[4]}<br>year=%{customdata[2]}<br>Happiness Score=%{customdata[3]}<br>continent=%{customdata[1]}<extra></extra>\",\"hovertext\":[\"Australia\",\"Austria\",\"Brazil\",\"Canada\",\"Chile\",\"Costa Rica\",\"Croatia\",\"Czechia\",\"Denmark\",\"Dominican Republic\",\"El Salvador\",\"Estonia\",\"Finland\",\"France\",\"Germany\",\"Greece\",\"Honduras\",\"Hungary\",\"Iceland\",\"Ireland\",\"Israel\",\"Italy\",\"Japan\",\"Kazakhstan\",\"Latvia\",\"Lithuania\",\"Netherlands\",\"New Zealand\",\"Nicaragua\",\"Norway\",\"Panama\",\"Portugal\",\"Romania\",\"Saudi Arabia\",\"Serbia\",\"Slovenia\",\"Spain\",\"Sweden\",\"Switzerland\",\"United Arab Emirates\",\"United Kingdom\",\"United States\",\"Uruguay\",\"Uzbekistan\"],\"legendgroup\":\"\\ud83e\\udd70\",\"locations\":[\"AUS\",\"AUT\",\"BRA\",\"CAN\",\"CHL\",\"CRI\",\"HRV\",\"CZE\",\"DNK\",\"DOM\",\"SLV\",\"EST\",\"FIN\",\"FRA\",\"DEU\",\"GRC\",\"HND\",\"HUN\",\"ISL\",\"IRL\",\"ISR\",\"ITA\",\"JPN\",\"KAZ\",\"LVA\",\"LTU\",\"NLD\",\"NZL\",\"NIC\",\"NOR\",\"PAN\",\"PRT\",\"ROU\",\"SAU\",\"SRB\",\"SVN\",\"ESP\",\"SWE\",\"CHE\",\"ARE\",\"GBR\",\"USA\",\"URY\",\"UZB\"],\"marker\":{\"color\":\"#636efa\",\"size\":[7.111598968505859,7.079640865325928,6.009953498840332,6.9394354820251465,6.435630798339844,6.408448219299316,6.286790370941162,6.9424967765808105,7.698747158050537,6.030537128448486,6.4314470291137695,6.553915500640869,7.79437780380249,6.656206607818604,6.754523754119873,6.104214191436768,6.113636016845703,6.226647853851318,7.564624786376953,6.827651977539063,7.57752799987793,6.466744899749756,6.091324806213379,6.259634017944336,6.353090763092041,6.864572525024414,7.314151287078857,7.136700630187988,6.095348834991455,7.361573696136475,6.552778720855713,6.183014392852783,6.548725605010986,6.445294380187988,6.245267391204834,6.761220932006836,6.469611167907715,7.439280033111572,7.327672481536865,6.733067512512207,6.86696195602417,6.95908784866333,6.501700401306152,6.18530797958374],\"sizemode\":\"area\",\"sizeref\":7.970891952514648,\"symbol\":\"circle\"},\"mode\":\"markers+text\",\"name\":\"\\ud83e\\udd70\",\"showlegend\":true,\"text\":[\"\\ud83e\\udd70\",\"\\ud83e\\udd70\",\"\\ud83e\\udd70\",\"\\ud83e\\udd70\",\"\\ud83e\\udd70\",\"\\ud83e\\udd70\",\"\\ud83e\\udd70\",\"\\ud83e\\udd70\",\"\\ud83e\\udd70\",\"\\ud83e\\udd70\",\"\\ud83e\\udd70\",\"\\ud83e\\udd70\",\"\\ud83e\\udd70\",\"\\ud83e\\udd70\",\"\\ud83e\\udd70\",\"\\ud83e\\udd70\",\"\\ud83e\\udd70\",\"\\ud83e\\udd70\",\"\\ud83e\\udd70\",\"\\ud83e\\udd70\",\"\\ud83e\\udd70\",\"\\ud83e\\udd70\",\"\\ud83e\\udd70\",\"\\ud83e\\udd70\",\"\\ud83e\\udd70\",\"\\ud83e\\udd70\",\"\\ud83e\\udd70\",\"\\ud83e\\udd70\",\"\\ud83e\\udd70\",\"\\ud83e\\udd70\",\"\\ud83e\\udd70\",\"\\ud83e\\udd70\",\"\\ud83e\\udd70\",\"\\ud83e\\udd70\",\"\\ud83e\\udd70\",\"\\ud83e\\udd70\",\"\\ud83e\\udd70\",\"\\ud83e\\udd70\",\"\\ud83e\\udd70\",\"\\ud83e\\udd70\",\"\\ud83e\\udd70\",\"\\ud83e\\udd70\",\"\\ud83e\\udd70\",\"\\ud83e\\udd70\"],\"type\":\"scattergeo\"},{\"customdata\":[[\"Albania\",\"Europe\",2021,5.255481719970703,\"\\ud83e\\udd16\",\"ALB\"],[\"Algeria\",\"Africa\",2021,5.217017650604248,\"\\ud83e\\udd16\",\"DZA\"],[\"Argentina\",\"South America\",2021,5.908278942108154,\"\\ud83e\\udd16\",\"ARG\"],[\"Armenia\",\"Asia\",2021,5.300568580627441,\"\\ud83e\\udd16\",\"ARM\"],[\"Bolivia\",\"South America\",2021,5.568624019622803,\"\\ud83e\\udd16\",\"BOL\"],[\"Bosnia and Herzegovina\",\"Europe\",2021,5.748823165893555,\"\\ud83e\\udd16\",\"BIH\"],[\"Bulgaria\",\"Europe\",2021,5.421693325042725,\"\\ud83e\\udd16\",\"BGR\"],[\"Burkina Faso\",\"Africa\",2021,4.6355085372924805,\"\\ud83e\\udd16\",\"BFA\"],[\"Cambodia\",\"Asia\",2021,4.555141448974609,\"\\ud83e\\udd16\",\"KHM\"],[\"Cameroon\",\"Africa\",2021,4.962747573852539,\"\\ud83e\\udd16\",\"CMR\"],[\"China\",\"Asia\",2021,5.8628644943237305,\"\\ud83e\\udd16\",\"CHN\"],[\"Colombia\",\"South America\",2021,5.289958477020264,\"\\ud83e\\udd16\",\"COL\"],[\"Ecuador\",\"South America\",2021,5.434872150421143,\"\\ud83e\\udd16\",\"ECU\"],[\"Gabon\",\"Africa\",2021,5.075422286987305,\"\\ud83e\\udd16\",\"GAB\"],[\"Georgia\",\"Asia\",2021,4.91127347946167,\"\\ud83e\\udd16\",\"GEO\"],[\"Guinea\",\"South America\",2021,4.944539546966553,\"\\ud83e\\udd16\",\"GIN\"],[\"Indonesia\",\"Asia\",2021,5.433173179626465,\"\\ud83e\\udd16\",\"IDN\"],[\"Iraq\",\"Asia\",2021,5.093667984008789,\"\\ud83e\\udd16\",\"IRQ\"],[\"Jamaica\",\"South America\",2021,5.813733577728272,\"\\ud83e\\udd16\",\"JAM\"],[\"Mauritius\",\"Africa\",2021,5.949120044708252,\"\\ud83e\\udd16\",\"MUS\"],[\"Mexico\",\"North America\",2021,5.990750789642334,\"\\ud83e\\udd16\",\"MEX\"],[\"Moldova\",\"Europe\",2021,5.959048748016357,\"\\ud83e\\udd16\",\"MDA\"],[\"Mongolia\",\"Asia\",2021,5.721034049987793,\"\\ud83e\\udd16\",\"MNG\"],[\"Morocco\",\"Africa\",2021,5.326248645782471,\"\\ud83e\\udd16\",\"MAR\"],[\"Mozambique\",null,2021,5.1784868240356445,\"\\ud83e\\udd16\",\"MOZ\"],[\"Nepal\",\"Asia\",2021,4.622300148010254,\"\\ud83e\\udd16\",\"NPL\"],[\"North Macedonia\",null,2021,5.534749984741211,\"\\ud83e\\udd16\",\"MKD\"],[\"Paraguay\",\"South America\",2021,5.575535297393799,\"\\ud83e\\udd16\",\"PRY\"],[\"Peru\",\"South America\",2021,5.694317817687988,\"\\ud83e\\udd16\",\"PER\"],[\"Philippines\",\"Asia\",2021,5.965057849884033,\"\\ud83e\\udd16\",\"PHL\"],[\"Poland\",\"Europe\",2021,5.978068828582764,\"\\ud83e\\udd16\",\"POL\"],[\"Senegal\",\"Africa\",2021,4.902830600738525,\"\\ud83e\\udd16\",\"SEN\"],[\"South Africa\",\"Africa\",2021,5.598653793334961,\"\\ud83e\\udd16\",\"ZAF\"],[\"Tajikistan\",\"Asia\",2021,5.2868242263793945,\"\\ud83e\\udd16\",\"TJK\"],[\"Thailand\",\"Asia\",2021,5.638096809387207,\"\\ud83e\\udd16\",\"THA\"],[\"Ukraine\",\"Europe\",2021,5.311355113983154,\"\\ud83e\\udd16\",\"UKR\"],[\"Vietnam\",\"Asia\",2021,5.540249824523926,\"\\ud83e\\udd16\",\"VNM\"]],\"geo\":\"geo\",\"hovertemplate\":\"<b>%{hovertext}</b><br><br>emoji=%{customdata[4]}<br>year=%{customdata[2]}<br>Happiness Score=%{customdata[3]}<br>continent=%{customdata[1]}<extra></extra>\",\"hovertext\":[\"Albania\",\"Algeria\",\"Argentina\",\"Armenia\",\"Bolivia\",\"Bosnia and Herzegovina\",\"Bulgaria\",\"Burkina Faso\",\"Cambodia\",\"Cameroon\",\"China\",\"Colombia\",\"Ecuador\",\"Gabon\",\"Georgia\",\"Guinea\",\"Indonesia\",\"Iraq\",\"Jamaica\",\"Mauritius\",\"Mexico\",\"Moldova\",\"Mongolia\",\"Morocco\",\"Mozambique\",\"Nepal\",\"North Macedonia\",\"Paraguay\",\"Peru\",\"Philippines\",\"Poland\",\"Senegal\",\"South Africa\",\"Tajikistan\",\"Thailand\",\"Ukraine\",\"Vietnam\"],\"legendgroup\":\"\\ud83e\\udd16\",\"locations\":[\"ALB\",\"DZA\",\"ARG\",\"ARM\",\"BOL\",\"BIH\",\"BGR\",\"BFA\",\"KHM\",\"CMR\",\"CHN\",\"COL\",\"ECU\",\"GAB\",\"GEO\",\"GIN\",\"IDN\",\"IRQ\",\"JAM\",\"MUS\",\"MEX\",\"MDA\",\"MNG\",\"MAR\",\"MOZ\",\"NPL\",\"MKD\",\"PRY\",\"PER\",\"PHL\",\"POL\",\"SEN\",\"ZAF\",\"TJK\",\"THA\",\"UKR\",\"VNM\"],\"marker\":{\"color\":\"#EF553B\",\"size\":[5.255481719970703,5.217017650604248,5.908278942108154,5.300568580627441,5.568624019622803,5.748823165893555,5.421693325042725,4.6355085372924805,4.555141448974609,4.962747573852539,5.8628644943237305,5.289958477020264,5.434872150421143,5.075422286987305,4.91127347946167,4.944539546966553,5.433173179626465,5.093667984008789,5.813733577728272,5.949120044708252,5.990750789642334,5.959048748016357,5.721034049987793,5.326248645782471,5.1784868240356445,4.622300148010254,5.534749984741211,5.575535297393799,5.694317817687988,5.965057849884033,5.978068828582764,4.902830600738525,5.598653793334961,5.2868242263793945,5.638096809387207,5.311355113983154,5.540249824523926],\"sizemode\":\"area\",\"sizeref\":7.970891952514648,\"symbol\":\"circle\"},\"mode\":\"markers+text\",\"name\":\"\\ud83e\\udd16\",\"showlegend\":true,\"text\":[\"\\ud83e\\udd16\",\"\\ud83e\\udd16\",\"\\ud83e\\udd16\",\"\\ud83e\\udd16\",\"\\ud83e\\udd16\",\"\\ud83e\\udd16\",\"\\ud83e\\udd16\",\"\\ud83e\\udd16\",\"\\ud83e\\udd16\",\"\\ud83e\\udd16\",\"\\ud83e\\udd16\",\"\\ud83e\\udd16\",\"\\ud83e\\udd16\",\"\\ud83e\\udd16\",\"\\ud83e\\udd16\",\"\\ud83e\\udd16\",\"\\ud83e\\udd16\",\"\\ud83e\\udd16\",\"\\ud83e\\udd16\",\"\\ud83e\\udd16\",\"\\ud83e\\udd16\",\"\\ud83e\\udd16\",\"\\ud83e\\udd16\",\"\\ud83e\\udd16\",\"\\ud83e\\udd16\",\"\\ud83e\\udd16\",\"\\ud83e\\udd16\",\"\\ud83e\\udd16\",\"\\ud83e\\udd16\",\"\\ud83e\\udd16\",\"\\ud83e\\udd16\",\"\\ud83e\\udd16\",\"\\ud83e\\udd16\",\"\\ud83e\\udd16\",\"\\ud83e\\udd16\",\"\\ud83e\\udd16\",\"\\ud83e\\udd16\"],\"type\":\"scattergeo\"},{\"customdata\":[[\"Benin\",\"Africa\",2021,4.493431091308594,\"\\ud83e\\udd22\",\"BEN\"],[\"Ghana\",\"Africa\",2021,4.377950668334961,\"\\ud83e\\udd22\",\"GHA\"],[\"India\",\"Asia\",2021,3.558253765106201,\"\\ud83e\\udd22\",\"IND\"],[\"Jordan\",\"Asia\",2021,3.909149169921875,\"\\ud83e\\udd22\",\"JOR\"],[\"Kenya\",\"Africa\",2021,4.464540958404541,\"\\ud83e\\udd22\",\"KEN\"],[\"Lebanon\",\"Asia\",2021,2.178809404373169,\"\\ud83e\\udd22\",\"LBN\"],[\"Malawi\",\"Africa\",2021,3.6352832317352295,\"\\ud83e\\udd22\",\"MWI\"],[\"Mali\",\"Africa\",2021,4.113095760345459,\"\\ud83e\\udd22\",\"MLI\"],[\"Myanmar\",\"Asia\",2021,4.314039707183838,\"\\ud83e\\udd22\",\"MMR\"],[\"Namibia\",null,2021,4.491207122802734,\"\\ud83e\\udd22\",\"NAM\"],[\"Nigeria\",\"Africa\",2021,4.4792656898498535,\"\\ud83e\\udd22\",\"NGA\"],[\"Pakistan\",\"Asia\",2021,4.486834526062012,\"\\ud83e\\udd22\",\"PAK\"],[\"Sierra Leone\",\"Africa\",2021,3.71429443359375,\"\\ud83e\\udd22\",\"SLE\"],[\"Sri Lanka\",\"Asia\",2021,4.103446960449219,\"\\ud83e\\udd22\",\"LKA\"],[\"Tanzania\",\"Africa\",2021,3.680567979812622,\"\\ud83e\\udd22\",\"TZA\"],[\"Togo\",\"Africa\",2021,4.036543846130371,\"\\ud83e\\udd22\",\"TGO\"],[\"Tunisia\",\"Africa\",2021,4.499485969543457,\"\\ud83e\\udd22\",\"TUN\"],[\"Uganda\",\"Africa\",2021,4.224533557891846,\"\\ud83e\\udd22\",\"UGA\"],[\"Zambia\",\"Africa\",2021,3.0821549892425537,\"\\ud83e\\udd22\",\"ZMB\"],[\"Zimbabwe\",\"Africa\",2021,3.15457820892334,\"\\ud83e\\udd22\",\"ZWE\"]],\"geo\":\"geo\",\"hovertemplate\":\"<b>%{hovertext}</b><br><br>emoji=%{customdata[4]}<br>year=%{customdata[2]}<br>Happiness Score=%{customdata[3]}<br>continent=%{customdata[1]}<extra></extra>\",\"hovertext\":[\"Benin\",\"Ghana\",\"India\",\"Jordan\",\"Kenya\",\"Lebanon\",\"Malawi\",\"Mali\",\"Myanmar\",\"Namibia\",\"Nigeria\",\"Pakistan\",\"Sierra Leone\",\"Sri Lanka\",\"Tanzania\",\"Togo\",\"Tunisia\",\"Uganda\",\"Zambia\",\"Zimbabwe\"],\"legendgroup\":\"\\ud83e\\udd22\",\"locations\":[\"BEN\",\"GHA\",\"IND\",\"JOR\",\"KEN\",\"LBN\",\"MWI\",\"MLI\",\"MMR\",\"NAM\",\"NGA\",\"PAK\",\"SLE\",\"LKA\",\"TZA\",\"TGO\",\"TUN\",\"UGA\",\"ZMB\",\"ZWE\"],\"marker\":{\"color\":\"#00cc96\",\"size\":[4.493431091308594,4.377950668334961,3.558253765106201,3.909149169921875,4.464540958404541,2.178809404373169,3.6352832317352295,4.113095760345459,4.314039707183838,4.491207122802734,4.4792656898498535,4.486834526062012,3.71429443359375,4.103446960449219,3.680567979812622,4.036543846130371,4.499485969543457,4.224533557891846,3.0821549892425537,3.15457820892334],\"sizemode\":\"area\",\"sizeref\":7.970891952514648,\"symbol\":\"circle\"},\"mode\":\"markers+text\",\"name\":\"\\ud83e\\udd22\",\"showlegend\":true,\"text\":[\"\\ud83e\\udd22\",\"\\ud83e\\udd22\",\"\\ud83e\\udd22\",\"\\ud83e\\udd22\",\"\\ud83e\\udd22\",\"\\ud83e\\udd22\",\"\\ud83e\\udd22\",\"\\ud83e\\udd22\",\"\\ud83e\\udd22\",\"\\ud83e\\udd22\",\"\\ud83e\\udd22\",\"\\ud83e\\udd22\",\"\\ud83e\\udd22\",\"\\ud83e\\udd22\",\"\\ud83e\\udd22\",\"\\ud83e\\udd22\",\"\\ud83e\\udd22\",\"\\ud83e\\udd22\",\"\\ud83e\\udd22\",\"\\ud83e\\udd22\"],\"type\":\"scattergeo\"}],\"name\":\"2021\"}]);\n",
       "                        }).then(function(){\n",
       "                            \n",
       "var gd = document.getElementById('b91f3515-b8a2-4741-bcf6-a85db5e60492');\n",
       "var x = new MutationObserver(function (mutations, observer) {{\n",
       "        var display = window.getComputedStyle(gd).display;\n",
       "        if (!display || display === 'none') {{\n",
       "            console.log([gd, 'removed!']);\n",
       "            Plotly.purge(gd);\n",
       "            observer.disconnect();\n",
       "        }}\n",
       "}});\n",
       "\n",
       "// Listen for the removal of the full notebook cells\n",
       "var notebookContainer = gd.closest('#notebook-container');\n",
       "if (notebookContainer) {{\n",
       "    x.observe(notebookContainer, {childList: true});\n",
       "}}\n",
       "\n",
       "// Listen for the clearing of the current output cell\n",
       "var outputEl = gd.closest('.output');\n",
       "if (outputEl) {{\n",
       "    x.observe(outputEl, {childList: true});\n",
       "}}\n",
       "\n",
       "                        })                };                });            </script>        </div>"
      ]
     },
     "metadata": {},
     "output_type": "display_data"
    }
   ],
   "source": [
    "fig = px.scatter_geo(data, locations=\"Country Code\", color=\"emoji\", \n",
    "                     hover_name=\"Country\", size=\"Happiness Score\", animation_frame=\"year\", \n",
    "                     projection=\"natural earth\", title=\"World Happiness in 2008-2021\",\n",
    "                     size_max=1, text=\"emoji\",\n",
    "                     # Custom Legend Content\n",
    "                     category_orders={\"emoji\": [\"🥰\", \"🤖\", \"🤢\"]},\n",
    "                     # Custom Legend Item\n",
    "                     hover_data={\"Country\": False, \"continent\": True, \"year\": True, \"Happiness Score\": True, \"emoji\": True, \"Country Code\": False},\n",
    "                    )\n",
    "\n",
    "# Annotation (explain the emoji)\n",
    "fig.add_annotation(\n",
    "    x=1.00,\n",
    "    y=-0.10,\n",
    "    xanchor=\"right\",\n",
    "    yanchor=\"bottom\",\n",
    "    xref=\"paper\",\n",
    "    yref=\"paper\",\n",
    "    text=\"🥰: Happy(score>=6)   🤖: Neural(6>score>=4.5)   🤢: Not Happy(score<4.5)\",\n",
    "    showarrow=False,\n",
    "    font=dict(\n",
    "        family=\"sans serif\",\n",
    "        size=14,\n",
    "        color=\"black\",\n",
    "    ),\n",
    ")\n",
    "\n",
    "# Custom Emoji Size\n",
    "fig.update_traces(\n",
    "    textfont=dict(size=17,)\n",
    ")\n",
    "\n",
    "fig.update_layout(\n",
    "    # Figure Size\n",
    "    width=800,\n",
    "    height=600,\n",
    "    # Custom Map\n",
    "    geo=dict(\n",
    "        showframe=True,\n",
    "        showcoastlines=True,\n",
    "        showland=True,\n",
    "        showocean=True,\n",
    "        coastlinecolor=\"rgb(141,160,203)\",\n",
    "        landcolor=\"rgb(229, 196, 148)\",\n",
    "        oceancolor=\"rgb(179,205,227)\",\n",
    "        showcountries=True,\n",
    "        countrycolor=\"rgb(179,179,179)\",\n",
    "        projection_type=\"natural earth\",\n",
    "    ),\n",
    "    # Custom Legend\n",
    "    showlegend = False,\n",
    "    # Custom Title\n",
    "    title=dict(\n",
    "        text=\"World Happiness in 2008-2021\",\n",
    "        x=0.05,\n",
    "        y=0.90,\n",
    "        xanchor=\"left\",\n",
    "        yanchor=\"top\",\n",
    "        font=dict(\n",
    "            family=\"sans serif\",\n",
    "            size=24,\n",
    "            color=\"black\",\n",
    "        ),\n",
    "    ),\n",
    "    # Custom Font\n",
    "    font=dict(\n",
    "        size=14,\n",
    "    ),\n",
    ")\n",
    "\n",
    "# SHOW\n",
    "fig.show()"
   ]
  },
  {
   "cell_type": "code",
   "execution_count": 24,
   "metadata": {},
   "outputs": [],
   "source": [
    "# download the plot\n",
    "# fig.write_html(\"choropleth_withanimation.html\")"
   ]
  },
  {
   "attachments": {},
   "cell_type": "markdown",
   "metadata": {},
   "source": [
    "### For Poster"
   ]
  },
  {
   "cell_type": "code",
   "execution_count": 17,
   "metadata": {},
   "outputs": [
    {
     "data": {
      "application/vnd.plotly.v1+json": {
       "config": {
        "plotlyServerURL": "https://plot.ly"
       },
       "data": [
        {
         "geo": "geo",
         "hovertemplate": "<b>%{hovertext}</b><br><br>emoji=%{text}<br>Country Code=%{location}<extra></extra>",
         "hovertext": [
          "Australia",
          "Austria",
          "Brazil",
          "Canada",
          "Chile",
          "Costa Rica",
          "Croatia",
          "Czechia",
          "Denmark",
          "Dominican Republic",
          "El Salvador",
          "Estonia",
          "Finland",
          "France",
          "Germany",
          "Greece",
          "Honduras",
          "Hungary",
          "Iceland",
          "Ireland",
          "Israel",
          "Italy",
          "Japan",
          "Kazakhstan",
          "Latvia",
          "Lithuania",
          "Netherlands",
          "New Zealand",
          "Nicaragua",
          "Norway",
          "Panama",
          "Portugal",
          "Romania",
          "Saudi Arabia",
          "Serbia",
          "Slovenia",
          "Spain",
          "Sweden",
          "Switzerland",
          "United Arab Emirates",
          "United Kingdom",
          "United States",
          "Uruguay",
          "Uzbekistan"
         ],
         "legendgroup": "🥰",
         "locations": [
          "AUS",
          "AUT",
          "BRA",
          "CAN",
          "CHL",
          "CRI",
          "HRV",
          "CZE",
          "DNK",
          "DOM",
          "SLV",
          "EST",
          "FIN",
          "FRA",
          "DEU",
          "GRC",
          "HND",
          "HUN",
          "ISL",
          "IRL",
          "ISR",
          "ITA",
          "JPN",
          "KAZ",
          "LVA",
          "LTU",
          "NLD",
          "NZL",
          "NIC",
          "NOR",
          "PAN",
          "PRT",
          "ROU",
          "SAU",
          "SRB",
          "SVN",
          "ESP",
          "SWE",
          "CHE",
          "ARE",
          "GBR",
          "USA",
          "URY",
          "UZB"
         ],
         "marker": {
          "color": "#636efa",
          "symbol": "circle"
         },
         "mode": "markers+text",
         "name": "🥰",
         "showlegend": true,
         "text": [
          "🥰",
          "🥰",
          "🥰",
          "🥰",
          "🥰",
          "🥰",
          "🥰",
          "🥰",
          "🥰",
          "🥰",
          "🥰",
          "🥰",
          "🥰",
          "🥰",
          "🥰",
          "🥰",
          "🥰",
          "🥰",
          "🥰",
          "🥰",
          "🥰",
          "🥰",
          "🥰",
          "🥰",
          "🥰",
          "🥰",
          "🥰",
          "🥰",
          "🥰",
          "🥰",
          "🥰",
          "🥰",
          "🥰",
          "🥰",
          "🥰",
          "🥰",
          "🥰",
          "🥰",
          "🥰",
          "🥰",
          "🥰",
          "🥰",
          "🥰",
          "🥰"
         ],
         "textfont": {
          "color": "black",
          "family": "sans serif",
          "size": 16
         },
         "type": "scattergeo"
        },
        {
         "geo": "geo",
         "hovertemplate": "<b>%{hovertext}</b><br><br>emoji=%{text}<br>Country Code=%{location}<extra></extra>",
         "hovertext": [
          "Albania",
          "Algeria",
          "Argentina",
          "Armenia",
          "Bolivia",
          "Bosnia and Herzegovina",
          "Bulgaria",
          "Burkina Faso",
          "Cambodia",
          "Cameroon",
          "China",
          "Colombia",
          "Ecuador",
          "Gabon",
          "Georgia",
          "Guinea",
          "Indonesia",
          "Iraq",
          "Jamaica",
          "Mauritius",
          "Mexico",
          "Moldova",
          "Mongolia",
          "Morocco",
          "Mozambique",
          "Nepal",
          "North Macedonia",
          "Paraguay",
          "Peru",
          "Philippines",
          "Poland",
          "Senegal",
          "South Africa",
          "Tajikistan",
          "Thailand",
          "Ukraine",
          "Vietnam"
         ],
         "legendgroup": "🤖",
         "locations": [
          "ALB",
          "DZA",
          "ARG",
          "ARM",
          "BOL",
          "BIH",
          "BGR",
          "BFA",
          "KHM",
          "CMR",
          "CHN",
          "COL",
          "ECU",
          "GAB",
          "GEO",
          "GIN",
          "IDN",
          "IRQ",
          "JAM",
          "MUS",
          "MEX",
          "MDA",
          "MNG",
          "MAR",
          "MOZ",
          "NPL",
          "MKD",
          "PRY",
          "PER",
          "PHL",
          "POL",
          "SEN",
          "ZAF",
          "TJK",
          "THA",
          "UKR",
          "VNM"
         ],
         "marker": {
          "color": "#EF553B",
          "symbol": "circle"
         },
         "mode": "markers+text",
         "name": "🤖",
         "showlegend": true,
         "text": [
          "🤖",
          "🤖",
          "🤖",
          "🤖",
          "🤖",
          "🤖",
          "🤖",
          "🤖",
          "🤖",
          "🤖",
          "🤖",
          "🤖",
          "🤖",
          "🤖",
          "🤖",
          "🤖",
          "🤖",
          "🤖",
          "🤖",
          "🤖",
          "🤖",
          "🤖",
          "🤖",
          "🤖",
          "🤖",
          "🤖",
          "🤖",
          "🤖",
          "🤖",
          "🤖",
          "🤖",
          "🤖",
          "🤖",
          "🤖",
          "🤖",
          "🤖",
          "🤖"
         ],
         "textfont": {
          "color": "black",
          "family": "sans serif",
          "size": 16
         },
         "type": "scattergeo"
        },
        {
         "geo": "geo",
         "hovertemplate": "<b>%{hovertext}</b><br><br>emoji=%{text}<br>Country Code=%{location}<extra></extra>",
         "hovertext": [
          "Benin",
          "Ghana",
          "India",
          "Jordan",
          "Kenya",
          "Lebanon",
          "Malawi",
          "Mali",
          "Myanmar",
          "Namibia",
          "Nigeria",
          "Pakistan",
          "Sierra Leone",
          "Sri Lanka",
          "Tanzania",
          "Togo",
          "Tunisia",
          "Uganda",
          "Zambia",
          "Zimbabwe"
         ],
         "legendgroup": "🤢",
         "locations": [
          "BEN",
          "GHA",
          "IND",
          "JOR",
          "KEN",
          "LBN",
          "MWI",
          "MLI",
          "MMR",
          "NAM",
          "NGA",
          "PAK",
          "SLE",
          "LKA",
          "TZA",
          "TGO",
          "TUN",
          "UGA",
          "ZMB",
          "ZWE"
         ],
         "marker": {
          "color": "#00cc96",
          "symbol": "circle"
         },
         "mode": "markers+text",
         "name": "🤢",
         "showlegend": true,
         "text": [
          "🤢",
          "🤢",
          "🤢",
          "🤢",
          "🤢",
          "🤢",
          "🤢",
          "🤢",
          "🤢",
          "🤢",
          "🤢",
          "🤢",
          "🤢",
          "🤢",
          "🤢",
          "🤢",
          "🤢",
          "🤢",
          "🤢",
          "🤢"
         ],
         "textfont": {
          "color": "black",
          "family": "sans serif",
          "size": 16
         },
         "type": "scattergeo"
        }
       ],
       "layout": {
        "annotations": [
         {
          "font": {
           "color": "black",
           "family": "sans serif",
           "size": 14
          },
          "showarrow": false,
          "text": "🥰: Happy(score>=6)   🤖: Neural(6>score>=4.5)   🤢: Not Happy(score<4.5)",
          "x": 1,
          "xanchor": "right",
          "xref": "paper",
          "y": -0.08,
          "yanchor": "bottom",
          "yref": "paper"
         }
        ],
        "font": {
         "size": 16
        },
        "geo": {
         "center": {},
         "coastlinecolor": "rgb(141,160,203)",
         "countrycolor": "rgb(179,179,179)",
         "domain": {
          "x": [
           0,
           1
          ],
          "y": [
           0,
           1
          ]
         },
         "landcolor": "rgb(229, 196, 148)",
         "oceancolor": "rgb(179,205,227)",
         "projection": {
          "type": "natural earth"
         },
         "showcoastlines": true,
         "showcountries": true,
         "showframe": true,
         "showland": true,
         "showocean": true
        },
        "height": 600,
        "legend": {
         "font": {
          "color": "black",
          "family": "sans serif",
          "size": 13
         },
         "orientation": "h",
         "title": {
          "text": "Happiness Score"
         },
         "tracegroupgap": 0,
         "x": 1,
         "xanchor": "right",
         "y": -0.1,
         "yanchor": "bottom"
        },
        "showlegend": false,
        "template": {
         "data": {
          "bar": [
           {
            "error_x": {
             "color": "#2a3f5f"
            },
            "error_y": {
             "color": "#2a3f5f"
            },
            "marker": {
             "line": {
              "color": "#E5ECF6",
              "width": 0.5
             },
             "pattern": {
              "fillmode": "overlay",
              "size": 10,
              "solidity": 0.2
             }
            },
            "type": "bar"
           }
          ],
          "barpolar": [
           {
            "marker": {
             "line": {
              "color": "#E5ECF6",
              "width": 0.5
             },
             "pattern": {
              "fillmode": "overlay",
              "size": 10,
              "solidity": 0.2
             }
            },
            "type": "barpolar"
           }
          ],
          "carpet": [
           {
            "aaxis": {
             "endlinecolor": "#2a3f5f",
             "gridcolor": "white",
             "linecolor": "white",
             "minorgridcolor": "white",
             "startlinecolor": "#2a3f5f"
            },
            "baxis": {
             "endlinecolor": "#2a3f5f",
             "gridcolor": "white",
             "linecolor": "white",
             "minorgridcolor": "white",
             "startlinecolor": "#2a3f5f"
            },
            "type": "carpet"
           }
          ],
          "choropleth": [
           {
            "colorbar": {
             "outlinewidth": 0,
             "ticks": ""
            },
            "type": "choropleth"
           }
          ],
          "contour": [
           {
            "colorbar": {
             "outlinewidth": 0,
             "ticks": ""
            },
            "colorscale": [
             [
              0,
              "#0d0887"
             ],
             [
              0.1111111111111111,
              "#46039f"
             ],
             [
              0.2222222222222222,
              "#7201a8"
             ],
             [
              0.3333333333333333,
              "#9c179e"
             ],
             [
              0.4444444444444444,
              "#bd3786"
             ],
             [
              0.5555555555555556,
              "#d8576b"
             ],
             [
              0.6666666666666666,
              "#ed7953"
             ],
             [
              0.7777777777777778,
              "#fb9f3a"
             ],
             [
              0.8888888888888888,
              "#fdca26"
             ],
             [
              1,
              "#f0f921"
             ]
            ],
            "type": "contour"
           }
          ],
          "contourcarpet": [
           {
            "colorbar": {
             "outlinewidth": 0,
             "ticks": ""
            },
            "type": "contourcarpet"
           }
          ],
          "heatmap": [
           {
            "colorbar": {
             "outlinewidth": 0,
             "ticks": ""
            },
            "colorscale": [
             [
              0,
              "#0d0887"
             ],
             [
              0.1111111111111111,
              "#46039f"
             ],
             [
              0.2222222222222222,
              "#7201a8"
             ],
             [
              0.3333333333333333,
              "#9c179e"
             ],
             [
              0.4444444444444444,
              "#bd3786"
             ],
             [
              0.5555555555555556,
              "#d8576b"
             ],
             [
              0.6666666666666666,
              "#ed7953"
             ],
             [
              0.7777777777777778,
              "#fb9f3a"
             ],
             [
              0.8888888888888888,
              "#fdca26"
             ],
             [
              1,
              "#f0f921"
             ]
            ],
            "type": "heatmap"
           }
          ],
          "heatmapgl": [
           {
            "colorbar": {
             "outlinewidth": 0,
             "ticks": ""
            },
            "colorscale": [
             [
              0,
              "#0d0887"
             ],
             [
              0.1111111111111111,
              "#46039f"
             ],
             [
              0.2222222222222222,
              "#7201a8"
             ],
             [
              0.3333333333333333,
              "#9c179e"
             ],
             [
              0.4444444444444444,
              "#bd3786"
             ],
             [
              0.5555555555555556,
              "#d8576b"
             ],
             [
              0.6666666666666666,
              "#ed7953"
             ],
             [
              0.7777777777777778,
              "#fb9f3a"
             ],
             [
              0.8888888888888888,
              "#fdca26"
             ],
             [
              1,
              "#f0f921"
             ]
            ],
            "type": "heatmapgl"
           }
          ],
          "histogram": [
           {
            "marker": {
             "pattern": {
              "fillmode": "overlay",
              "size": 10,
              "solidity": 0.2
             }
            },
            "type": "histogram"
           }
          ],
          "histogram2d": [
           {
            "colorbar": {
             "outlinewidth": 0,
             "ticks": ""
            },
            "colorscale": [
             [
              0,
              "#0d0887"
             ],
             [
              0.1111111111111111,
              "#46039f"
             ],
             [
              0.2222222222222222,
              "#7201a8"
             ],
             [
              0.3333333333333333,
              "#9c179e"
             ],
             [
              0.4444444444444444,
              "#bd3786"
             ],
             [
              0.5555555555555556,
              "#d8576b"
             ],
             [
              0.6666666666666666,
              "#ed7953"
             ],
             [
              0.7777777777777778,
              "#fb9f3a"
             ],
             [
              0.8888888888888888,
              "#fdca26"
             ],
             [
              1,
              "#f0f921"
             ]
            ],
            "type": "histogram2d"
           }
          ],
          "histogram2dcontour": [
           {
            "colorbar": {
             "outlinewidth": 0,
             "ticks": ""
            },
            "colorscale": [
             [
              0,
              "#0d0887"
             ],
             [
              0.1111111111111111,
              "#46039f"
             ],
             [
              0.2222222222222222,
              "#7201a8"
             ],
             [
              0.3333333333333333,
              "#9c179e"
             ],
             [
              0.4444444444444444,
              "#bd3786"
             ],
             [
              0.5555555555555556,
              "#d8576b"
             ],
             [
              0.6666666666666666,
              "#ed7953"
             ],
             [
              0.7777777777777778,
              "#fb9f3a"
             ],
             [
              0.8888888888888888,
              "#fdca26"
             ],
             [
              1,
              "#f0f921"
             ]
            ],
            "type": "histogram2dcontour"
           }
          ],
          "mesh3d": [
           {
            "colorbar": {
             "outlinewidth": 0,
             "ticks": ""
            },
            "type": "mesh3d"
           }
          ],
          "parcoords": [
           {
            "line": {
             "colorbar": {
              "outlinewidth": 0,
              "ticks": ""
             }
            },
            "type": "parcoords"
           }
          ],
          "pie": [
           {
            "automargin": true,
            "type": "pie"
           }
          ],
          "scatter": [
           {
            "fillpattern": {
             "fillmode": "overlay",
             "size": 10,
             "solidity": 0.2
            },
            "type": "scatter"
           }
          ],
          "scatter3d": [
           {
            "line": {
             "colorbar": {
              "outlinewidth": 0,
              "ticks": ""
             }
            },
            "marker": {
             "colorbar": {
              "outlinewidth": 0,
              "ticks": ""
             }
            },
            "type": "scatter3d"
           }
          ],
          "scattercarpet": [
           {
            "marker": {
             "colorbar": {
              "outlinewidth": 0,
              "ticks": ""
             }
            },
            "type": "scattercarpet"
           }
          ],
          "scattergeo": [
           {
            "marker": {
             "colorbar": {
              "outlinewidth": 0,
              "ticks": ""
             }
            },
            "type": "scattergeo"
           }
          ],
          "scattergl": [
           {
            "marker": {
             "colorbar": {
              "outlinewidth": 0,
              "ticks": ""
             }
            },
            "type": "scattergl"
           }
          ],
          "scattermapbox": [
           {
            "marker": {
             "colorbar": {
              "outlinewidth": 0,
              "ticks": ""
             }
            },
            "type": "scattermapbox"
           }
          ],
          "scatterpolar": [
           {
            "marker": {
             "colorbar": {
              "outlinewidth": 0,
              "ticks": ""
             }
            },
            "type": "scatterpolar"
           }
          ],
          "scatterpolargl": [
           {
            "marker": {
             "colorbar": {
              "outlinewidth": 0,
              "ticks": ""
             }
            },
            "type": "scatterpolargl"
           }
          ],
          "scatterternary": [
           {
            "marker": {
             "colorbar": {
              "outlinewidth": 0,
              "ticks": ""
             }
            },
            "type": "scatterternary"
           }
          ],
          "surface": [
           {
            "colorbar": {
             "outlinewidth": 0,
             "ticks": ""
            },
            "colorscale": [
             [
              0,
              "#0d0887"
             ],
             [
              0.1111111111111111,
              "#46039f"
             ],
             [
              0.2222222222222222,
              "#7201a8"
             ],
             [
              0.3333333333333333,
              "#9c179e"
             ],
             [
              0.4444444444444444,
              "#bd3786"
             ],
             [
              0.5555555555555556,
              "#d8576b"
             ],
             [
              0.6666666666666666,
              "#ed7953"
             ],
             [
              0.7777777777777778,
              "#fb9f3a"
             ],
             [
              0.8888888888888888,
              "#fdca26"
             ],
             [
              1,
              "#f0f921"
             ]
            ],
            "type": "surface"
           }
          ],
          "table": [
           {
            "cells": {
             "fill": {
              "color": "#EBF0F8"
             },
             "line": {
              "color": "white"
             }
            },
            "header": {
             "fill": {
              "color": "#C8D4E3"
             },
             "line": {
              "color": "white"
             }
            },
            "type": "table"
           }
          ]
         },
         "layout": {
          "annotationdefaults": {
           "arrowcolor": "#2a3f5f",
           "arrowhead": 0,
           "arrowwidth": 1
          },
          "autotypenumbers": "strict",
          "coloraxis": {
           "colorbar": {
            "outlinewidth": 0,
            "ticks": ""
           }
          },
          "colorscale": {
           "diverging": [
            [
             0,
             "#8e0152"
            ],
            [
             0.1,
             "#c51b7d"
            ],
            [
             0.2,
             "#de77ae"
            ],
            [
             0.3,
             "#f1b6da"
            ],
            [
             0.4,
             "#fde0ef"
            ],
            [
             0.5,
             "#f7f7f7"
            ],
            [
             0.6,
             "#e6f5d0"
            ],
            [
             0.7,
             "#b8e186"
            ],
            [
             0.8,
             "#7fbc41"
            ],
            [
             0.9,
             "#4d9221"
            ],
            [
             1,
             "#276419"
            ]
           ],
           "sequential": [
            [
             0,
             "#0d0887"
            ],
            [
             0.1111111111111111,
             "#46039f"
            ],
            [
             0.2222222222222222,
             "#7201a8"
            ],
            [
             0.3333333333333333,
             "#9c179e"
            ],
            [
             0.4444444444444444,
             "#bd3786"
            ],
            [
             0.5555555555555556,
             "#d8576b"
            ],
            [
             0.6666666666666666,
             "#ed7953"
            ],
            [
             0.7777777777777778,
             "#fb9f3a"
            ],
            [
             0.8888888888888888,
             "#fdca26"
            ],
            [
             1,
             "#f0f921"
            ]
           ],
           "sequentialminus": [
            [
             0,
             "#0d0887"
            ],
            [
             0.1111111111111111,
             "#46039f"
            ],
            [
             0.2222222222222222,
             "#7201a8"
            ],
            [
             0.3333333333333333,
             "#9c179e"
            ],
            [
             0.4444444444444444,
             "#bd3786"
            ],
            [
             0.5555555555555556,
             "#d8576b"
            ],
            [
             0.6666666666666666,
             "#ed7953"
            ],
            [
             0.7777777777777778,
             "#fb9f3a"
            ],
            [
             0.8888888888888888,
             "#fdca26"
            ],
            [
             1,
             "#f0f921"
            ]
           ]
          },
          "colorway": [
           "#636efa",
           "#EF553B",
           "#00cc96",
           "#ab63fa",
           "#FFA15A",
           "#19d3f3",
           "#FF6692",
           "#B6E880",
           "#FF97FF",
           "#FECB52"
          ],
          "font": {
           "color": "#2a3f5f"
          },
          "geo": {
           "bgcolor": "white",
           "lakecolor": "white",
           "landcolor": "#E5ECF6",
           "showlakes": true,
           "showland": true,
           "subunitcolor": "white"
          },
          "hoverlabel": {
           "align": "left"
          },
          "hovermode": "closest",
          "mapbox": {
           "style": "light"
          },
          "paper_bgcolor": "white",
          "plot_bgcolor": "#E5ECF6",
          "polar": {
           "angularaxis": {
            "gridcolor": "white",
            "linecolor": "white",
            "ticks": ""
           },
           "bgcolor": "#E5ECF6",
           "radialaxis": {
            "gridcolor": "white",
            "linecolor": "white",
            "ticks": ""
           }
          },
          "scene": {
           "xaxis": {
            "backgroundcolor": "#E5ECF6",
            "gridcolor": "white",
            "gridwidth": 2,
            "linecolor": "white",
            "showbackground": true,
            "ticks": "",
            "zerolinecolor": "white"
           },
           "yaxis": {
            "backgroundcolor": "#E5ECF6",
            "gridcolor": "white",
            "gridwidth": 2,
            "linecolor": "white",
            "showbackground": true,
            "ticks": "",
            "zerolinecolor": "white"
           },
           "zaxis": {
            "backgroundcolor": "#E5ECF6",
            "gridcolor": "white",
            "gridwidth": 2,
            "linecolor": "white",
            "showbackground": true,
            "ticks": "",
            "zerolinecolor": "white"
           }
          },
          "shapedefaults": {
           "line": {
            "color": "#2a3f5f"
           }
          },
          "ternary": {
           "aaxis": {
            "gridcolor": "white",
            "linecolor": "white",
            "ticks": ""
           },
           "baxis": {
            "gridcolor": "white",
            "linecolor": "white",
            "ticks": ""
           },
           "bgcolor": "#E5ECF6",
           "caxis": {
            "gridcolor": "white",
            "linecolor": "white",
            "ticks": ""
           }
          },
          "title": {
           "x": 0.05
          },
          "xaxis": {
           "automargin": true,
           "gridcolor": "white",
           "linecolor": "white",
           "ticks": "",
           "title": {
            "standoff": 15
           },
           "zerolinecolor": "white",
           "zerolinewidth": 2
          },
          "yaxis": {
           "automargin": true,
           "gridcolor": "white",
           "linecolor": "white",
           "ticks": "",
           "title": {
            "standoff": 15
           },
           "zerolinecolor": "white",
           "zerolinewidth": 2
          }
         }
        },
        "title": {
         "font": {
          "color": "black",
          "family": "sans serif",
          "size": 24
         },
         "text": "Happiness Score of Each Continent in 2021",
         "x": 0.05,
         "xanchor": "left",
         "y": 0.9,
         "yanchor": "top"
        },
        "width": 1000
       }
      },
      "text/html": [
       "<div>                            <div id=\"22c72f93-d2a2-4506-8cd3-05e389259759\" class=\"plotly-graph-div\" style=\"height:600px; width:1000px;\"></div>            <script type=\"text/javascript\">                require([\"plotly\"], function(Plotly) {                    window.PLOTLYENV=window.PLOTLYENV || {};                                    if (document.getElementById(\"22c72f93-d2a2-4506-8cd3-05e389259759\")) {                    Plotly.newPlot(                        \"22c72f93-d2a2-4506-8cd3-05e389259759\",                        [{\"geo\":\"geo\",\"hovertemplate\":\"<b>%{hovertext}</b><br><br>emoji=%{text}<br>Country Code=%{location}<extra></extra>\",\"hovertext\":[\"Australia\",\"Austria\",\"Brazil\",\"Canada\",\"Chile\",\"Costa Rica\",\"Croatia\",\"Czechia\",\"Denmark\",\"Dominican Republic\",\"El Salvador\",\"Estonia\",\"Finland\",\"France\",\"Germany\",\"Greece\",\"Honduras\",\"Hungary\",\"Iceland\",\"Ireland\",\"Israel\",\"Italy\",\"Japan\",\"Kazakhstan\",\"Latvia\",\"Lithuania\",\"Netherlands\",\"New Zealand\",\"Nicaragua\",\"Norway\",\"Panama\",\"Portugal\",\"Romania\",\"Saudi Arabia\",\"Serbia\",\"Slovenia\",\"Spain\",\"Sweden\",\"Switzerland\",\"United Arab Emirates\",\"United Kingdom\",\"United States\",\"Uruguay\",\"Uzbekistan\"],\"legendgroup\":\"\\ud83e\\udd70\",\"locations\":[\"AUS\",\"AUT\",\"BRA\",\"CAN\",\"CHL\",\"CRI\",\"HRV\",\"CZE\",\"DNK\",\"DOM\",\"SLV\",\"EST\",\"FIN\",\"FRA\",\"DEU\",\"GRC\",\"HND\",\"HUN\",\"ISL\",\"IRL\",\"ISR\",\"ITA\",\"JPN\",\"KAZ\",\"LVA\",\"LTU\",\"NLD\",\"NZL\",\"NIC\",\"NOR\",\"PAN\",\"PRT\",\"ROU\",\"SAU\",\"SRB\",\"SVN\",\"ESP\",\"SWE\",\"CHE\",\"ARE\",\"GBR\",\"USA\",\"URY\",\"UZB\"],\"marker\":{\"color\":\"#636efa\",\"symbol\":\"circle\"},\"mode\":\"markers+text\",\"name\":\"\\ud83e\\udd70\",\"showlegend\":true,\"text\":[\"\\ud83e\\udd70\",\"\\ud83e\\udd70\",\"\\ud83e\\udd70\",\"\\ud83e\\udd70\",\"\\ud83e\\udd70\",\"\\ud83e\\udd70\",\"\\ud83e\\udd70\",\"\\ud83e\\udd70\",\"\\ud83e\\udd70\",\"\\ud83e\\udd70\",\"\\ud83e\\udd70\",\"\\ud83e\\udd70\",\"\\ud83e\\udd70\",\"\\ud83e\\udd70\",\"\\ud83e\\udd70\",\"\\ud83e\\udd70\",\"\\ud83e\\udd70\",\"\\ud83e\\udd70\",\"\\ud83e\\udd70\",\"\\ud83e\\udd70\",\"\\ud83e\\udd70\",\"\\ud83e\\udd70\",\"\\ud83e\\udd70\",\"\\ud83e\\udd70\",\"\\ud83e\\udd70\",\"\\ud83e\\udd70\",\"\\ud83e\\udd70\",\"\\ud83e\\udd70\",\"\\ud83e\\udd70\",\"\\ud83e\\udd70\",\"\\ud83e\\udd70\",\"\\ud83e\\udd70\",\"\\ud83e\\udd70\",\"\\ud83e\\udd70\",\"\\ud83e\\udd70\",\"\\ud83e\\udd70\",\"\\ud83e\\udd70\",\"\\ud83e\\udd70\",\"\\ud83e\\udd70\",\"\\ud83e\\udd70\",\"\\ud83e\\udd70\",\"\\ud83e\\udd70\",\"\\ud83e\\udd70\",\"\\ud83e\\udd70\"],\"type\":\"scattergeo\",\"textfont\":{\"color\":\"black\",\"family\":\"sans serif\",\"size\":16}},{\"geo\":\"geo\",\"hovertemplate\":\"<b>%{hovertext}</b><br><br>emoji=%{text}<br>Country Code=%{location}<extra></extra>\",\"hovertext\":[\"Albania\",\"Algeria\",\"Argentina\",\"Armenia\",\"Bolivia\",\"Bosnia and Herzegovina\",\"Bulgaria\",\"Burkina Faso\",\"Cambodia\",\"Cameroon\",\"China\",\"Colombia\",\"Ecuador\",\"Gabon\",\"Georgia\",\"Guinea\",\"Indonesia\",\"Iraq\",\"Jamaica\",\"Mauritius\",\"Mexico\",\"Moldova\",\"Mongolia\",\"Morocco\",\"Mozambique\",\"Nepal\",\"North Macedonia\",\"Paraguay\",\"Peru\",\"Philippines\",\"Poland\",\"Senegal\",\"South Africa\",\"Tajikistan\",\"Thailand\",\"Ukraine\",\"Vietnam\"],\"legendgroup\":\"\\ud83e\\udd16\",\"locations\":[\"ALB\",\"DZA\",\"ARG\",\"ARM\",\"BOL\",\"BIH\",\"BGR\",\"BFA\",\"KHM\",\"CMR\",\"CHN\",\"COL\",\"ECU\",\"GAB\",\"GEO\",\"GIN\",\"IDN\",\"IRQ\",\"JAM\",\"MUS\",\"MEX\",\"MDA\",\"MNG\",\"MAR\",\"MOZ\",\"NPL\",\"MKD\",\"PRY\",\"PER\",\"PHL\",\"POL\",\"SEN\",\"ZAF\",\"TJK\",\"THA\",\"UKR\",\"VNM\"],\"marker\":{\"color\":\"#EF553B\",\"symbol\":\"circle\"},\"mode\":\"markers+text\",\"name\":\"\\ud83e\\udd16\",\"showlegend\":true,\"text\":[\"\\ud83e\\udd16\",\"\\ud83e\\udd16\",\"\\ud83e\\udd16\",\"\\ud83e\\udd16\",\"\\ud83e\\udd16\",\"\\ud83e\\udd16\",\"\\ud83e\\udd16\",\"\\ud83e\\udd16\",\"\\ud83e\\udd16\",\"\\ud83e\\udd16\",\"\\ud83e\\udd16\",\"\\ud83e\\udd16\",\"\\ud83e\\udd16\",\"\\ud83e\\udd16\",\"\\ud83e\\udd16\",\"\\ud83e\\udd16\",\"\\ud83e\\udd16\",\"\\ud83e\\udd16\",\"\\ud83e\\udd16\",\"\\ud83e\\udd16\",\"\\ud83e\\udd16\",\"\\ud83e\\udd16\",\"\\ud83e\\udd16\",\"\\ud83e\\udd16\",\"\\ud83e\\udd16\",\"\\ud83e\\udd16\",\"\\ud83e\\udd16\",\"\\ud83e\\udd16\",\"\\ud83e\\udd16\",\"\\ud83e\\udd16\",\"\\ud83e\\udd16\",\"\\ud83e\\udd16\",\"\\ud83e\\udd16\",\"\\ud83e\\udd16\",\"\\ud83e\\udd16\",\"\\ud83e\\udd16\",\"\\ud83e\\udd16\"],\"type\":\"scattergeo\",\"textfont\":{\"color\":\"black\",\"family\":\"sans serif\",\"size\":16}},{\"geo\":\"geo\",\"hovertemplate\":\"<b>%{hovertext}</b><br><br>emoji=%{text}<br>Country Code=%{location}<extra></extra>\",\"hovertext\":[\"Benin\",\"Ghana\",\"India\",\"Jordan\",\"Kenya\",\"Lebanon\",\"Malawi\",\"Mali\",\"Myanmar\",\"Namibia\",\"Nigeria\",\"Pakistan\",\"Sierra Leone\",\"Sri Lanka\",\"Tanzania\",\"Togo\",\"Tunisia\",\"Uganda\",\"Zambia\",\"Zimbabwe\"],\"legendgroup\":\"\\ud83e\\udd22\",\"locations\":[\"BEN\",\"GHA\",\"IND\",\"JOR\",\"KEN\",\"LBN\",\"MWI\",\"MLI\",\"MMR\",\"NAM\",\"NGA\",\"PAK\",\"SLE\",\"LKA\",\"TZA\",\"TGO\",\"TUN\",\"UGA\",\"ZMB\",\"ZWE\"],\"marker\":{\"color\":\"#00cc96\",\"symbol\":\"circle\"},\"mode\":\"markers+text\",\"name\":\"\\ud83e\\udd22\",\"showlegend\":true,\"text\":[\"\\ud83e\\udd22\",\"\\ud83e\\udd22\",\"\\ud83e\\udd22\",\"\\ud83e\\udd22\",\"\\ud83e\\udd22\",\"\\ud83e\\udd22\",\"\\ud83e\\udd22\",\"\\ud83e\\udd22\",\"\\ud83e\\udd22\",\"\\ud83e\\udd22\",\"\\ud83e\\udd22\",\"\\ud83e\\udd22\",\"\\ud83e\\udd22\",\"\\ud83e\\udd22\",\"\\ud83e\\udd22\",\"\\ud83e\\udd22\",\"\\ud83e\\udd22\",\"\\ud83e\\udd22\",\"\\ud83e\\udd22\",\"\\ud83e\\udd22\"],\"type\":\"scattergeo\",\"textfont\":{\"color\":\"black\",\"family\":\"sans serif\",\"size\":16}}],                        {\"template\":{\"data\":{\"histogram2dcontour\":[{\"type\":\"histogram2dcontour\",\"colorbar\":{\"outlinewidth\":0,\"ticks\":\"\"},\"colorscale\":[[0.0,\"#0d0887\"],[0.1111111111111111,\"#46039f\"],[0.2222222222222222,\"#7201a8\"],[0.3333333333333333,\"#9c179e\"],[0.4444444444444444,\"#bd3786\"],[0.5555555555555556,\"#d8576b\"],[0.6666666666666666,\"#ed7953\"],[0.7777777777777778,\"#fb9f3a\"],[0.8888888888888888,\"#fdca26\"],[1.0,\"#f0f921\"]]}],\"choropleth\":[{\"type\":\"choropleth\",\"colorbar\":{\"outlinewidth\":0,\"ticks\":\"\"}}],\"histogram2d\":[{\"type\":\"histogram2d\",\"colorbar\":{\"outlinewidth\":0,\"ticks\":\"\"},\"colorscale\":[[0.0,\"#0d0887\"],[0.1111111111111111,\"#46039f\"],[0.2222222222222222,\"#7201a8\"],[0.3333333333333333,\"#9c179e\"],[0.4444444444444444,\"#bd3786\"],[0.5555555555555556,\"#d8576b\"],[0.6666666666666666,\"#ed7953\"],[0.7777777777777778,\"#fb9f3a\"],[0.8888888888888888,\"#fdca26\"],[1.0,\"#f0f921\"]]}],\"heatmap\":[{\"type\":\"heatmap\",\"colorbar\":{\"outlinewidth\":0,\"ticks\":\"\"},\"colorscale\":[[0.0,\"#0d0887\"],[0.1111111111111111,\"#46039f\"],[0.2222222222222222,\"#7201a8\"],[0.3333333333333333,\"#9c179e\"],[0.4444444444444444,\"#bd3786\"],[0.5555555555555556,\"#d8576b\"],[0.6666666666666666,\"#ed7953\"],[0.7777777777777778,\"#fb9f3a\"],[0.8888888888888888,\"#fdca26\"],[1.0,\"#f0f921\"]]}],\"heatmapgl\":[{\"type\":\"heatmapgl\",\"colorbar\":{\"outlinewidth\":0,\"ticks\":\"\"},\"colorscale\":[[0.0,\"#0d0887\"],[0.1111111111111111,\"#46039f\"],[0.2222222222222222,\"#7201a8\"],[0.3333333333333333,\"#9c179e\"],[0.4444444444444444,\"#bd3786\"],[0.5555555555555556,\"#d8576b\"],[0.6666666666666666,\"#ed7953\"],[0.7777777777777778,\"#fb9f3a\"],[0.8888888888888888,\"#fdca26\"],[1.0,\"#f0f921\"]]}],\"contourcarpet\":[{\"type\":\"contourcarpet\",\"colorbar\":{\"outlinewidth\":0,\"ticks\":\"\"}}],\"contour\":[{\"type\":\"contour\",\"colorbar\":{\"outlinewidth\":0,\"ticks\":\"\"},\"colorscale\":[[0.0,\"#0d0887\"],[0.1111111111111111,\"#46039f\"],[0.2222222222222222,\"#7201a8\"],[0.3333333333333333,\"#9c179e\"],[0.4444444444444444,\"#bd3786\"],[0.5555555555555556,\"#d8576b\"],[0.6666666666666666,\"#ed7953\"],[0.7777777777777778,\"#fb9f3a\"],[0.8888888888888888,\"#fdca26\"],[1.0,\"#f0f921\"]]}],\"surface\":[{\"type\":\"surface\",\"colorbar\":{\"outlinewidth\":0,\"ticks\":\"\"},\"colorscale\":[[0.0,\"#0d0887\"],[0.1111111111111111,\"#46039f\"],[0.2222222222222222,\"#7201a8\"],[0.3333333333333333,\"#9c179e\"],[0.4444444444444444,\"#bd3786\"],[0.5555555555555556,\"#d8576b\"],[0.6666666666666666,\"#ed7953\"],[0.7777777777777778,\"#fb9f3a\"],[0.8888888888888888,\"#fdca26\"],[1.0,\"#f0f921\"]]}],\"mesh3d\":[{\"type\":\"mesh3d\",\"colorbar\":{\"outlinewidth\":0,\"ticks\":\"\"}}],\"scatter\":[{\"fillpattern\":{\"fillmode\":\"overlay\",\"size\":10,\"solidity\":0.2},\"type\":\"scatter\"}],\"parcoords\":[{\"type\":\"parcoords\",\"line\":{\"colorbar\":{\"outlinewidth\":0,\"ticks\":\"\"}}}],\"scatterpolargl\":[{\"type\":\"scatterpolargl\",\"marker\":{\"colorbar\":{\"outlinewidth\":0,\"ticks\":\"\"}}}],\"bar\":[{\"error_x\":{\"color\":\"#2a3f5f\"},\"error_y\":{\"color\":\"#2a3f5f\"},\"marker\":{\"line\":{\"color\":\"#E5ECF6\",\"width\":0.5},\"pattern\":{\"fillmode\":\"overlay\",\"size\":10,\"solidity\":0.2}},\"type\":\"bar\"}],\"scattergeo\":[{\"type\":\"scattergeo\",\"marker\":{\"colorbar\":{\"outlinewidth\":0,\"ticks\":\"\"}}}],\"scatterpolar\":[{\"type\":\"scatterpolar\",\"marker\":{\"colorbar\":{\"outlinewidth\":0,\"ticks\":\"\"}}}],\"histogram\":[{\"marker\":{\"pattern\":{\"fillmode\":\"overlay\",\"size\":10,\"solidity\":0.2}},\"type\":\"histogram\"}],\"scattergl\":[{\"type\":\"scattergl\",\"marker\":{\"colorbar\":{\"outlinewidth\":0,\"ticks\":\"\"}}}],\"scatter3d\":[{\"type\":\"scatter3d\",\"line\":{\"colorbar\":{\"outlinewidth\":0,\"ticks\":\"\"}},\"marker\":{\"colorbar\":{\"outlinewidth\":0,\"ticks\":\"\"}}}],\"scattermapbox\":[{\"type\":\"scattermapbox\",\"marker\":{\"colorbar\":{\"outlinewidth\":0,\"ticks\":\"\"}}}],\"scatterternary\":[{\"type\":\"scatterternary\",\"marker\":{\"colorbar\":{\"outlinewidth\":0,\"ticks\":\"\"}}}],\"scattercarpet\":[{\"type\":\"scattercarpet\",\"marker\":{\"colorbar\":{\"outlinewidth\":0,\"ticks\":\"\"}}}],\"carpet\":[{\"aaxis\":{\"endlinecolor\":\"#2a3f5f\",\"gridcolor\":\"white\",\"linecolor\":\"white\",\"minorgridcolor\":\"white\",\"startlinecolor\":\"#2a3f5f\"},\"baxis\":{\"endlinecolor\":\"#2a3f5f\",\"gridcolor\":\"white\",\"linecolor\":\"white\",\"minorgridcolor\":\"white\",\"startlinecolor\":\"#2a3f5f\"},\"type\":\"carpet\"}],\"table\":[{\"cells\":{\"fill\":{\"color\":\"#EBF0F8\"},\"line\":{\"color\":\"white\"}},\"header\":{\"fill\":{\"color\":\"#C8D4E3\"},\"line\":{\"color\":\"white\"}},\"type\":\"table\"}],\"barpolar\":[{\"marker\":{\"line\":{\"color\":\"#E5ECF6\",\"width\":0.5},\"pattern\":{\"fillmode\":\"overlay\",\"size\":10,\"solidity\":0.2}},\"type\":\"barpolar\"}],\"pie\":[{\"automargin\":true,\"type\":\"pie\"}]},\"layout\":{\"autotypenumbers\":\"strict\",\"colorway\":[\"#636efa\",\"#EF553B\",\"#00cc96\",\"#ab63fa\",\"#FFA15A\",\"#19d3f3\",\"#FF6692\",\"#B6E880\",\"#FF97FF\",\"#FECB52\"],\"font\":{\"color\":\"#2a3f5f\"},\"hovermode\":\"closest\",\"hoverlabel\":{\"align\":\"left\"},\"paper_bgcolor\":\"white\",\"plot_bgcolor\":\"#E5ECF6\",\"polar\":{\"bgcolor\":\"#E5ECF6\",\"angularaxis\":{\"gridcolor\":\"white\",\"linecolor\":\"white\",\"ticks\":\"\"},\"radialaxis\":{\"gridcolor\":\"white\",\"linecolor\":\"white\",\"ticks\":\"\"}},\"ternary\":{\"bgcolor\":\"#E5ECF6\",\"aaxis\":{\"gridcolor\":\"white\",\"linecolor\":\"white\",\"ticks\":\"\"},\"baxis\":{\"gridcolor\":\"white\",\"linecolor\":\"white\",\"ticks\":\"\"},\"caxis\":{\"gridcolor\":\"white\",\"linecolor\":\"white\",\"ticks\":\"\"}},\"coloraxis\":{\"colorbar\":{\"outlinewidth\":0,\"ticks\":\"\"}},\"colorscale\":{\"sequential\":[[0.0,\"#0d0887\"],[0.1111111111111111,\"#46039f\"],[0.2222222222222222,\"#7201a8\"],[0.3333333333333333,\"#9c179e\"],[0.4444444444444444,\"#bd3786\"],[0.5555555555555556,\"#d8576b\"],[0.6666666666666666,\"#ed7953\"],[0.7777777777777778,\"#fb9f3a\"],[0.8888888888888888,\"#fdca26\"],[1.0,\"#f0f921\"]],\"sequentialminus\":[[0.0,\"#0d0887\"],[0.1111111111111111,\"#46039f\"],[0.2222222222222222,\"#7201a8\"],[0.3333333333333333,\"#9c179e\"],[0.4444444444444444,\"#bd3786\"],[0.5555555555555556,\"#d8576b\"],[0.6666666666666666,\"#ed7953\"],[0.7777777777777778,\"#fb9f3a\"],[0.8888888888888888,\"#fdca26\"],[1.0,\"#f0f921\"]],\"diverging\":[[0,\"#8e0152\"],[0.1,\"#c51b7d\"],[0.2,\"#de77ae\"],[0.3,\"#f1b6da\"],[0.4,\"#fde0ef\"],[0.5,\"#f7f7f7\"],[0.6,\"#e6f5d0\"],[0.7,\"#b8e186\"],[0.8,\"#7fbc41\"],[0.9,\"#4d9221\"],[1,\"#276419\"]]},\"xaxis\":{\"gridcolor\":\"white\",\"linecolor\":\"white\",\"ticks\":\"\",\"title\":{\"standoff\":15},\"zerolinecolor\":\"white\",\"automargin\":true,\"zerolinewidth\":2},\"yaxis\":{\"gridcolor\":\"white\",\"linecolor\":\"white\",\"ticks\":\"\",\"title\":{\"standoff\":15},\"zerolinecolor\":\"white\",\"automargin\":true,\"zerolinewidth\":2},\"scene\":{\"xaxis\":{\"backgroundcolor\":\"#E5ECF6\",\"gridcolor\":\"white\",\"linecolor\":\"white\",\"showbackground\":true,\"ticks\":\"\",\"zerolinecolor\":\"white\",\"gridwidth\":2},\"yaxis\":{\"backgroundcolor\":\"#E5ECF6\",\"gridcolor\":\"white\",\"linecolor\":\"white\",\"showbackground\":true,\"ticks\":\"\",\"zerolinecolor\":\"white\",\"gridwidth\":2},\"zaxis\":{\"backgroundcolor\":\"#E5ECF6\",\"gridcolor\":\"white\",\"linecolor\":\"white\",\"showbackground\":true,\"ticks\":\"\",\"zerolinecolor\":\"white\",\"gridwidth\":2}},\"shapedefaults\":{\"line\":{\"color\":\"#2a3f5f\"}},\"annotationdefaults\":{\"arrowcolor\":\"#2a3f5f\",\"arrowhead\":0,\"arrowwidth\":1},\"geo\":{\"bgcolor\":\"white\",\"landcolor\":\"#E5ECF6\",\"subunitcolor\":\"white\",\"showland\":true,\"showlakes\":true,\"lakecolor\":\"white\"},\"title\":{\"x\":0.05},\"mapbox\":{\"style\":\"light\"}}},\"geo\":{\"domain\":{\"x\":[0.0,1.0],\"y\":[0.0,1.0]},\"projection\":{\"type\":\"natural earth\"},\"center\":{},\"showframe\":true,\"showcoastlines\":true,\"showland\":true,\"showocean\":true,\"coastlinecolor\":\"rgb(141,160,203)\",\"landcolor\":\"rgb(229, 196, 148)\",\"oceancolor\":\"rgb(179,205,227)\",\"showcountries\":true,\"countrycolor\":\"rgb(179,179,179)\"},\"legend\":{\"title\":{\"text\":\"Happiness Score\"},\"tracegroupgap\":0,\"font\":{\"family\":\"sans serif\",\"size\":13,\"color\":\"black\"},\"orientation\":\"h\",\"yanchor\":\"bottom\",\"y\":-0.1,\"xanchor\":\"right\",\"x\":1},\"title\":{\"text\":\"Happiness Score of Each Continent in 2021\",\"font\":{\"family\":\"sans serif\",\"size\":24,\"color\":\"black\"},\"x\":0.05,\"y\":0.9,\"xanchor\":\"left\",\"yanchor\":\"top\"},\"annotations\":[{\"font\":{\"color\":\"black\",\"family\":\"sans serif\",\"size\":14},\"showarrow\":false,\"text\":\"\\ud83e\\udd70: Happy(score>=6)   \\ud83e\\udd16: Neural(6>score>=4.5)   \\ud83e\\udd22: Not Happy(score<4.5)\",\"x\":1.0,\"xanchor\":\"right\",\"xref\":\"paper\",\"y\":-0.08,\"yanchor\":\"bottom\",\"yref\":\"paper\"}],\"font\":{\"size\":16},\"width\":1000,\"height\":600,\"showlegend\":false},                        {\"responsive\": true}                    ).then(function(){\n",
       "                            \n",
       "var gd = document.getElementById('22c72f93-d2a2-4506-8cd3-05e389259759');\n",
       "var x = new MutationObserver(function (mutations, observer) {{\n",
       "        var display = window.getComputedStyle(gd).display;\n",
       "        if (!display || display === 'none') {{\n",
       "            console.log([gd, 'removed!']);\n",
       "            Plotly.purge(gd);\n",
       "            observer.disconnect();\n",
       "        }}\n",
       "}});\n",
       "\n",
       "// Listen for the removal of the full notebook cells\n",
       "var notebookContainer = gd.closest('#notebook-container');\n",
       "if (notebookContainer) {{\n",
       "    x.observe(notebookContainer, {childList: true});\n",
       "}}\n",
       "\n",
       "// Listen for the clearing of the current output cell\n",
       "var outputEl = gd.closest('.output');\n",
       "if (outputEl) {{\n",
       "    x.observe(outputEl, {childList: true});\n",
       "}}\n",
       "\n",
       "                        })                };                });            </script>        </div>"
      ]
     },
     "metadata": {},
     "output_type": "display_data"
    }
   ],
   "source": [
    "# Plot the happiness score of each country in 2021\n",
    "\n",
    "# filter the data\n",
    "data_2021 = data[data[\"year\"] == 2021]\n",
    "\n",
    "# plot the average happiness score of each continent\n",
    "fig = px.scatter_geo(data_2021, locations=\"Country Code\", color=\"emoji\",\n",
    "                    hover_name=\"Country\", text=\"emoji\",\n",
    "                    projection=\"natural earth\", title=\"Happiness Score of Each Contient in 2021\",\n",
    "                    # Custom Legend Content\n",
    "                    category_orders={\"emoji\": [\"🥰\", \"🤖\", \"🤢\"]},         \n",
    "                    )\n",
    "\n",
    "fig.add_annotation(\n",
    "    x=1.00,\n",
    "    y=-0.08,\n",
    "    xanchor=\"right\",\n",
    "    yanchor=\"bottom\",\n",
    "    xref=\"paper\",\n",
    "    yref=\"paper\",\n",
    "    text=\"🥰: Happy(score>=6)   🤖: Neural(6>score>=4.5)   🤢: Not Happy(score<4.5)\",\n",
    "    showarrow=False,\n",
    "    font=dict(\n",
    "        family=\"sans serif\",\n",
    "        size=14,\n",
    "        color=\"black\",\n",
    "    ),\n",
    ")\n",
    "\n",
    "fig.update_layout(\n",
    "    # Figure Size\n",
    "    width=1000,\n",
    "    height=600,\n",
    "    # Custom Map\n",
    "    geo=dict(\n",
    "        showframe=True,\n",
    "        showcoastlines=True,\n",
    "        showland=True,\n",
    "        showocean=True,\n",
    "        coastlinecolor=\"rgb(141,160,203)\",\n",
    "        landcolor=\"rgb(229, 196, 148)\",\n",
    "        oceancolor=\"rgb(179,205,227)\",\n",
    "        showcountries=True,\n",
    "        countrycolor=\"rgb(179,179,179)\",\n",
    "        projection_type=\"natural earth\",\n",
    "    ),\n",
    "    # Custom Legend\n",
    "    legend=dict(\n",
    "        orientation=\"h\",\n",
    "        yanchor=\"bottom\",\n",
    "        y=-0.10,\n",
    "        xanchor=\"right\",\n",
    "        x=1,\n",
    "        title=\"Happiness Score\",\n",
    "        font = dict(\n",
    "            family=\"sans serif\",\n",
    "            size=13,\n",
    "            color=\"black\")\n",
    "    ),\n",
    "    # Custom Title\n",
    "    title=dict(\n",
    "        text=\"Happiness Score of Each Continent in 2021\",\n",
    "        x=0.05,\n",
    "        y=0.90,\n",
    "        xanchor=\"left\",\n",
    "        yanchor=\"top\",\n",
    "        font=dict(\n",
    "            family=\"sans serif\",\n",
    "            size=24,\n",
    "            color=\"black\",\n",
    "        ),\n",
    "    ),\n",
    "    showlegend = False,\n",
    "    font = dict(\n",
    "        size = 16,)\n",
    ")\n"
   ]
  },
  {
   "cell_type": "code",
   "execution_count": 16,
   "metadata": {},
   "outputs": [],
   "source": [
    "# download the plot as svg\n",
    "#import plotly.io as pio\n",
    "#pio.write_image(fig, 'happiness_score_2021.svg')\n",
    "#pio.write_image(fig, 'happiness_score_2021.png')\n"
   ]
  }
 ],
 "metadata": {
  "kernelspec": {
   "display_name": "anly503",
   "language": "python",
   "name": "python3"
  },
  "language_info": {
   "codemirror_mode": {
    "name": "ipython",
    "version": 3
   },
   "file_extension": ".py",
   "mimetype": "text/x-python",
   "name": "python",
   "nbconvert_exporter": "python",
   "pygments_lexer": "ipython3",
   "version": "3.10.8"
  },
  "orig_nbformat": 4
 },
 "nbformat": 4,
 "nbformat_minor": 2
}
